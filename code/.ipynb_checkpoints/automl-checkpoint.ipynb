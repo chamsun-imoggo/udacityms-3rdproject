{
 "cells": [
  {
   "cell_type": "markdown",
   "metadata": {},
   "source": [
    "# Automated ML\n",
    "\n",
    "TODO: Import Dependencies. In the cell below, import all the dependencies that you will need to complete the project."
   ]
  },
  {
   "cell_type": "code",
   "execution_count": 45,
   "metadata": {
    "gather": {
     "logged": 1613377217126
    },
    "jupyter": {
     "outputs_hidden": false,
     "source_hidden": false
    },
    "nteract": {
     "transient": {
      "deleting": false
     }
    }
   },
   "outputs": [
    {
     "name": "stdout",
     "output_type": "stream",
     "text": [
      "SDK version: 1.20.0\n"
     ]
    }
   ],
   "source": [
    "import logging\n",
    "import os\n",
    "import csv\n",
    "\n",
    "from matplotlib import pyplot as plt\n",
    "import numpy as np\n",
    "import pandas as pd\n",
    "from sklearn import datasets\n",
    "import pkg_resources\n",
    "\n",
    "import azureml.core\n",
    "from azureml.core.experiment import Experiment\n",
    "from azureml.core.workspace import Workspace\n",
    "from azureml.train.automl import AutoMLConfig\n",
    "from azureml.core.dataset import Dataset\n",
    "\n",
    "from azureml.pipeline.steps import AutoMLStep\n",
    "\n",
    "# Check core SDK version number\n",
    "print(\"SDK version:\", azureml.core.VERSION)"
   ]
  },
  {
   "cell_type": "markdown",
   "metadata": {},
   "source": [
    "## Dataset\n",
    "\n",
    "### Overview\n",
    "TODO: In this markdown cell, give an overview of the dataset you are using. Also mention the task you will be performing.\n",
    "\n",
    "\n",
    "TODO: Get data. In the cell below, write code to access the data you will be using in this project. Remember that the dataset needs to be external."
   ]
  },
  {
   "cell_type": "code",
   "execution_count": 46,
   "metadata": {
    "gather": {
     "logged": 1613377222035
    },
    "jupyter": {
     "outputs_hidden": false,
     "source_hidden": false
    },
    "nteract": {
     "transient": {
      "deleting": false
     }
    }
   },
   "outputs": [
    {
     "data": {
      "text/html": [
       "<table style=\"width:100%\"><tr><th>Name</th><th>Workspace</th><th>Report Page</th><th>Docs Page</th></tr><tr><td>ad-automl-experiment</td><td>quick-starts-ws-138934</td><td><a href=\"https://ml.azure.com/experiments/ad-automl-experiment?wsid=/subscriptions/6971f5ac-8af1-446e-8034-05acea24681f/resourcegroups/aml-quickstarts-138934/workspaces/quick-starts-ws-138934\" target=\"_blank\" rel=\"noopener\">Link to Azure Machine Learning studio</a></td><td><a href=\"https://docs.microsoft.com/en-us/python/api/azureml-core/azureml.core.experiment.Experiment?view=azure-ml-py\" target=\"_blank\" rel=\"noopener\">Link to Documentation</a></td></tr></table>"
      ],
      "text/plain": [
       "Experiment(Name: ad-automl-experiment,\n",
       "Workspace: quick-starts-ws-138934)"
      ]
     },
     "execution_count": 46,
     "metadata": {},
     "output_type": "execute_result"
    }
   ],
   "source": [
    "ws = Workspace.from_config()\n",
    "\n",
    "\n",
    "# Choose a name for the run history container in the workspace.\n",
    "# NOTE: update these to match your existing experiment name\n",
    "experiment_name = 'ad-automl-experiment'\n",
    "project_folder = './pipeline-project'\n",
    "\n",
    "experiment = Experiment(ws, experiment_name)\n",
    "experiment"
   ]
  },
  {
   "cell_type": "code",
   "execution_count": 47,
   "metadata": {
    "gather": {
     "logged": 1613377226825
    }
   },
   "outputs": [
    {
     "data": {
      "text/html": [
       "<div>\n",
       "<style scoped>\n",
       "    .dataframe tbody tr th:only-of-type {\n",
       "        vertical-align: middle;\n",
       "    }\n",
       "\n",
       "    .dataframe tbody tr th {\n",
       "        vertical-align: top;\n",
       "    }\n",
       "\n",
       "    .dataframe thead th {\n",
       "        text-align: right;\n",
       "    }\n",
       "</style>\n",
       "<table border=\"1\" class=\"dataframe\">\n",
       "  <thead>\n",
       "    <tr style=\"text-align: right;\">\n",
       "      <th></th>\n",
       "      <th>Daily Time Spent on Site</th>\n",
       "      <th>Age</th>\n",
       "      <th>Area Income</th>\n",
       "      <th>Daily Internet Usage</th>\n",
       "      <th>Male</th>\n",
       "      <th>Month</th>\n",
       "      <th>Date</th>\n",
       "      <th>Hour</th>\n",
       "      <th>Minute</th>\n",
       "      <th>Second</th>\n",
       "      <th>Clicked on Ad</th>\n",
       "    </tr>\n",
       "  </thead>\n",
       "  <tbody>\n",
       "    <tr>\n",
       "      <th>count</th>\n",
       "      <td>950.00</td>\n",
       "      <td>950.00</td>\n",
       "      <td>950.00</td>\n",
       "      <td>950.00</td>\n",
       "      <td>950.00</td>\n",
       "      <td>950.00</td>\n",
       "      <td>950.00</td>\n",
       "      <td>950.00</td>\n",
       "      <td>950.00</td>\n",
       "      <td>950.00</td>\n",
       "      <td>950.00</td>\n",
       "    </tr>\n",
       "    <tr>\n",
       "      <th>mean</th>\n",
       "      <td>65.25</td>\n",
       "      <td>35.99</td>\n",
       "      <td>55100.79</td>\n",
       "      <td>180.08</td>\n",
       "      <td>0.48</td>\n",
       "      <td>3.84</td>\n",
       "      <td>15.43</td>\n",
       "      <td>11.66</td>\n",
       "      <td>29.11</td>\n",
       "      <td>29.66</td>\n",
       "      <td>0.49</td>\n",
       "    </tr>\n",
       "    <tr>\n",
       "      <th>std</th>\n",
       "      <td>15.87</td>\n",
       "      <td>8.75</td>\n",
       "      <td>13393.25</td>\n",
       "      <td>43.72</td>\n",
       "      <td>0.50</td>\n",
       "      <td>1.93</td>\n",
       "      <td>8.71</td>\n",
       "      <td>6.98</td>\n",
       "      <td>17.20</td>\n",
       "      <td>16.85</td>\n",
       "      <td>0.50</td>\n",
       "    </tr>\n",
       "    <tr>\n",
       "      <th>min</th>\n",
       "      <td>32.60</td>\n",
       "      <td>19.00</td>\n",
       "      <td>13996.50</td>\n",
       "      <td>104.78</td>\n",
       "      <td>0.00</td>\n",
       "      <td>1.00</td>\n",
       "      <td>1.00</td>\n",
       "      <td>0.00</td>\n",
       "      <td>0.00</td>\n",
       "      <td>0.00</td>\n",
       "      <td>0.00</td>\n",
       "    </tr>\n",
       "    <tr>\n",
       "      <th>25%</th>\n",
       "      <td>51.56</td>\n",
       "      <td>29.00</td>\n",
       "      <td>47272.55</td>\n",
       "      <td>138.91</td>\n",
       "      <td>0.00</td>\n",
       "      <td>2.00</td>\n",
       "      <td>8.00</td>\n",
       "      <td>6.00</td>\n",
       "      <td>14.00</td>\n",
       "      <td>15.00</td>\n",
       "      <td>0.00</td>\n",
       "    </tr>\n",
       "    <tr>\n",
       "      <th>50%</th>\n",
       "      <td>68.65</td>\n",
       "      <td>35.00</td>\n",
       "      <td>57228.18</td>\n",
       "      <td>183.65</td>\n",
       "      <td>0.00</td>\n",
       "      <td>4.00</td>\n",
       "      <td>15.00</td>\n",
       "      <td>12.00</td>\n",
       "      <td>30.00</td>\n",
       "      <td>30.00</td>\n",
       "      <td>0.00</td>\n",
       "    </tr>\n",
       "    <tr>\n",
       "      <th>75%</th>\n",
       "      <td>78.70</td>\n",
       "      <td>42.00</td>\n",
       "      <td>65499.14</td>\n",
       "      <td>218.75</td>\n",
       "      <td>1.00</td>\n",
       "      <td>5.00</td>\n",
       "      <td>23.00</td>\n",
       "      <td>18.00</td>\n",
       "      <td>43.00</td>\n",
       "      <td>44.00</td>\n",
       "      <td>1.00</td>\n",
       "    </tr>\n",
       "    <tr>\n",
       "      <th>max</th>\n",
       "      <td>91.43</td>\n",
       "      <td>61.00</td>\n",
       "      <td>79484.80</td>\n",
       "      <td>269.96</td>\n",
       "      <td>1.00</td>\n",
       "      <td>7.00</td>\n",
       "      <td>31.00</td>\n",
       "      <td>23.00</td>\n",
       "      <td>59.00</td>\n",
       "      <td>59.00</td>\n",
       "      <td>1.00</td>\n",
       "    </tr>\n",
       "  </tbody>\n",
       "</table>\n",
       "</div>"
      ],
      "text/plain": [
       "       Daily Time Spent on Site    Age  Area Income  Daily Internet Usage  \\\n",
       "count                    950.00 950.00       950.00                950.00   \n",
       "mean                      65.25  35.99     55100.79                180.08   \n",
       "std                       15.87   8.75     13393.25                 43.72   \n",
       "min                       32.60  19.00     13996.50                104.78   \n",
       "25%                       51.56  29.00     47272.55                138.91   \n",
       "50%                       68.65  35.00     57228.18                183.65   \n",
       "75%                       78.70  42.00     65499.14                218.75   \n",
       "max                       91.43  61.00     79484.80                269.96   \n",
       "\n",
       "        Male  Month   Date   Hour  Minute  Second  Clicked on Ad  \n",
       "count 950.00 950.00 950.00 950.00  950.00  950.00         950.00  \n",
       "mean    0.48   3.84  15.43  11.66   29.11   29.66           0.49  \n",
       "std     0.50   1.93   8.71   6.98   17.20   16.85           0.50  \n",
       "min     0.00   1.00   1.00   0.00    0.00    0.00           0.00  \n",
       "25%     0.00   2.00   8.00   6.00   14.00   15.00           0.00  \n",
       "50%     0.00   4.00  15.00  12.00   30.00   30.00           0.00  \n",
       "75%     1.00   5.00  23.00  18.00   43.00   44.00           1.00  \n",
       "max     1.00   7.00  31.00  23.00   59.00   59.00           1.00  "
      ]
     },
     "execution_count": 47,
     "metadata": {},
     "output_type": "execute_result"
    }
   ],
   "source": [
    "# get the data\n",
    "# Try to load the dataset from the Workspace. Otherwise, create it from the file\n",
    "# NOTE: update the key to match the dataset name\n",
    "# Data Source : https://www.kaggle.com/fayomi/advertising?select=advertising.csv\n",
    "found = False\n",
    "key = \"Advertising Data\"\n",
    "description_text = \"Kaggle Advertising Dataset\"\n",
    "\n",
    "if key in ws.datasets.keys(): \n",
    "        found = True\n",
    "        dataset = ws.datasets[key] \n",
    "\n",
    "if not found:\n",
    "        # Create AML Dataset and register it into Workspace\n",
    "        example_data = 'https://raw.githubusercontent.com/chamsun-imoggo/udacityms-3rdproject/main/data/advertising_training.csv'\n",
    "        dataset = Dataset.Tabular.from_delimited_files(example_data)        \n",
    "        #Register Dataset in Workspace\n",
    "        dataset = dataset.register(workspace=ws,\n",
    "                                   name=key,\n",
    "                                   description=description_text)\n",
    "\n",
    "\n",
    "df = dataset.to_pandas_dataframe()\n",
    "df.describe()"
   ]
  },
  {
   "cell_type": "markdown",
   "metadata": {},
   "source": [
    "## AutoML Configuration\n",
    "\n",
    "TODO: Explain why you chose the automl settings and cofiguration you used below."
   ]
  },
  {
   "cell_type": "code",
   "execution_count": 48,
   "metadata": {
    "gather": {
     "logged": 1613377232542
    }
   },
   "outputs": [
    {
     "name": "stdout",
     "output_type": "stream",
     "text": [
      "Succeeded\n",
      "AmlCompute wait for completion finished\n",
      "\n",
      "Minimum number of nodes requested have been provisioned\n"
     ]
    }
   ],
   "source": [
    "from azureml.core.compute import AmlCompute\n",
    "from azureml.core.compute import ComputeTarget\n",
    "from azureml.core.compute_target import ComputeTargetException\n",
    "\n",
    "# NOTE: update the cluster name to match the existing cluster\n",
    "# Choose a name for your CPU cluster\n",
    "amlcompute_cluster_name = \"compute-ml\"\n",
    "\n",
    "# Verify that cluster does not exist already\n",
    "try:\n",
    "    compute_target = ComputeTarget(ws, amlcompute_cluster_name)\n",
    "    print(f\"{compute_name} exists already\")\n",
    "except:\n",
    "    compute_config = AmlCompute.provisioning_configuration(vm_size=\"Standard_DS12_v2\", max_nodes=4)\n",
    "    compute_target = ComputeTarget.create(ws, amlcompute_cluster_name, compute_config)\n",
    "compute_target.wait_for_completion(show_output=True)"
   ]
  },
  {
   "cell_type": "code",
   "execution_count": 49,
   "metadata": {
    "gather": {
     "logged": 1613377239944
    },
    "jupyter": {
     "outputs_hidden": false,
     "source_hidden": false
    },
    "nteract": {
     "transient": {
      "deleting": false
     }
    }
   },
   "outputs": [],
   "source": [
    "# TODO: Put your automl settings here\n",
    "automl_settings = {\n",
    "    \"experiment_timeout_minutes\": 20,\n",
    "    \"max_concurrent_iterations\": 5,\n",
    "    \"primary_metric\" : 'AUC_weighted'\n",
    "}\n",
    "\n",
    "# TODO: Put your automl config here\n",
    "automl_config = AutoMLConfig(compute_target=compute_target,\n",
    "                             task = \"classification\",\n",
    "                             training_data=dataset,\n",
    "                             label_column_name=\"Clicked on Ad\",   \n",
    "                             path = project_folder,\n",
    "                             enable_early_stopping= True,\n",
    "                             featurization= 'auto',\n",
    "                             debug_log = \"automl_errors.log\",\n",
    "                             enable_onnx_compatible_models=True,\n",
    "                             **automl_settings\n",
    "                            )\n"
   ]
  },
  {
   "cell_type": "code",
   "execution_count": 50,
   "metadata": {
    "gather": {
     "logged": 1613378559530
    },
    "jupyter": {
     "outputs_hidden": false,
     "source_hidden": false
    },
    "nteract": {
     "transient": {
      "deleting": false
     }
    }
   },
   "outputs": [
    {
     "name": "stdout",
     "output_type": "stream",
     "text": [
      "Running on remote.\n",
      "No run_configuration provided, running on compute-ml with default configuration\n",
      "Running on remote compute: compute-ml\n",
      "Parent Run ID: AutoML_ce3a3571-8fba-47aa-ba8e-f457c09a6ba3\n",
      "\n",
      "Current status: FeaturesGeneration. Generating features for the dataset.\n",
      "Current status: ModelSelection. Beginning model selection.\n",
      "\n",
      "****************************************************************************************************\n",
      "DATA GUARDRAILS: \n",
      "\n",
      "TYPE:         Cross validation\n",
      "STATUS:       DONE\n",
      "DESCRIPTION:  Each iteration of the trained model was validated through cross-validation.\n",
      "              \n",
      "DETAILS:      \n",
      "+---------------------------------+\n",
      "|Number of folds                  |\n",
      "+=================================+\n",
      "|10                               |\n",
      "+---------------------------------+\n",
      "\n",
      "****************************************************************************************************\n",
      "\n",
      "TYPE:         Class balancing detection\n",
      "STATUS:       PASSED\n",
      "DESCRIPTION:  Your inputs were analyzed, and all classes are balanced in your training data.\n",
      "              Learn more about imbalanced data: https://aka.ms/AutomatedMLImbalancedData\n",
      "\n",
      "****************************************************************************************************\n",
      "\n",
      "TYPE:         Missing feature values imputation\n",
      "STATUS:       PASSED\n",
      "DESCRIPTION:  No feature missing values were detected in the training data.\n",
      "              Learn more about missing value imputation: https://aka.ms/AutomatedMLFeaturization\n",
      "\n",
      "****************************************************************************************************\n",
      "\n",
      "TYPE:         High cardinality feature detection\n",
      "STATUS:       DONE\n",
      "DESCRIPTION:  High cardinality features were detected in your inputs and handled.\n",
      "              Learn more about high cardinality feature handling: https://aka.ms/AutomatedMLFeaturization\n",
      "DETAILS:      High cardinality features refer to columns that contain a large percentage of unique values.\n",
      "+---------------------------------+---------------------------------+\n",
      "|Column name                      |Column Content Type              |\n",
      "+=================================+=================================+\n",
      "|Ad Topic Line                    |text                             |\n",
      "|Country                          |categorical_hash                 |\n",
      "+---------------------------------+---------------------------------+\n",
      "\n",
      "****************************************************************************************************\n",
      "\n",
      "****************************************************************************************************\n",
      "ITERATION: The iteration being evaluated.\n",
      "PIPELINE: A summary description of the pipeline being evaluated.\n",
      "DURATION: Time taken for the current iteration.\n",
      "METRIC: The result of computing score on the fitted pipeline.\n",
      "BEST: The best observed score thus far.\n",
      "****************************************************************************************************\n",
      "\n",
      " ITERATION   PIPELINE                                       DURATION      METRIC      BEST\n",
      "         2   MaxAbsScaler RandomForest                      0:00:51       0.9689    0.9689\n",
      "         4   MaxAbsScaler RandomForest                      0:00:57       0.5819    0.9689\n",
      "         5   MaxAbsScaler ExtremeRandomTrees                0:00:59       0.9886    0.9886\n",
      "         0   MaxAbsScaler LightGBM                          0:02:04       0.9888    0.9888\n",
      "         3   MaxAbsScaler RandomForest                      0:02:08       0.7898    0.9888\n",
      "         1   MaxAbsScaler XGBoostClassifier                 0:02:21       0.9891    0.9891\n",
      "         6   MaxAbsScaler ExtremeRandomTrees                0:01:00       0.9907    0.9907\n",
      "         7   MaxAbsScaler ExtremeRandomTrees                0:01:03       0.9599    0.9907\n",
      "         8   MaxAbsScaler RandomForest                      0:00:53       0.9849    0.9907\n",
      "         9   MaxAbsScaler ExtremeRandomTrees                0:00:56       0.9898    0.9907\n",
      "        10   MaxAbsScaler RandomForest                      0:01:03       0.9520    0.9907\n",
      "        11   MaxAbsScaler RandomForest                      0:01:04       0.9753    0.9907\n",
      "        12   MaxAbsScaler RandomForest                      0:00:55       0.9720    0.9907\n",
      "        13   StandardScalerWrapper XGBoostClassifier        0:00:46       0.9863    0.9907\n",
      "        14   MaxAbsScaler RandomForest                      0:01:01       0.5923    0.9907\n",
      "        15   StandardScalerWrapper ExtremeRandomTrees       0:00:51       0.9879    0.9907\n",
      "        16   MaxAbsScaler ExtremeRandomTrees                0:00:55       0.9894    0.9907\n",
      "        17   MaxAbsScaler ExtremeRandomTrees                0:00:56       0.7500    0.9907\n",
      "        18   MaxAbsScaler RandomForest                      0:01:00       0.8748    0.9907\n",
      "        19   SparseNormalizer XGBoostClassifier             0:01:05       0.9503    0.9907\n",
      "        21   SparseNormalizer XGBoostClassifier             0:01:02       0.9718    0.9907\n",
      "        20   TruncatedSVDWrapper XGBoostClassifier          0:01:31       0.9861    0.9907\n",
      "        22   SparseNormalizer LightGBM                      0:01:31       0.9566    0.9907\n",
      "        23   StandardScalerWrapper LightGBM                 0:00:56       0.9879    0.9907\n",
      "        24   MaxAbsScaler LightGBM                          0:00:51       0.9854    0.9907\n",
      "        25   MaxAbsScaler ExtremeRandomTrees                0:01:00       0.5000    0.9907\n",
      "        26   StandardScalerWrapper LightGBM                 0:00:50       0.9901    0.9907\n",
      "        27   MaxAbsScaler ExtremeRandomTrees                0:00:52       0.9884    0.9907\n",
      "        28   StandardScalerWrapper ExtremeRandomTrees       0:01:07       0.9880    0.9907\n",
      "        29   StandardScalerWrapper RandomForest             0:01:01       0.9859    0.9907\n",
      "        30   SparseNormalizer ExtremeRandomTrees            0:00:55       0.5832    0.9907\n",
      "        31   SparseNormalizer XGBoostClassifier             0:01:01       0.8992    0.9907\n",
      "        32   MaxAbsScaler LightGBM                          0:00:50       0.9872    0.9907\n",
      "        33   StandardScalerWrapper LogisticRegression       0:00:55       0.7586    0.9907\n",
      "        34   StandardScalerWrapper LogisticRegression       0:00:51       0.9485    0.9907\n",
      "        35   TruncatedSVDWrapper ExtremeRandomTrees         0:00:43       0.8724    0.9907\n",
      "        36                                                  0:00:26          nan    0.9907\n",
      "        37                                                  0:00:08          nan    0.9907\n",
      "        38    VotingEnsemble                                0:02:07       0.9921    0.9921\n"
     ]
    }
   ],
   "source": [
    "# TODO: Submit your experiment\n",
    "automlmodel_run = experiment.submit(automl_config, show_output=True)"
   ]
  },
  {
   "cell_type": "markdown",
   "metadata": {},
   "source": [
    "## Run Details\n",
    "\n",
    "OPTIONAL: Write about the different models trained and their performance. Why do you think some models did better than others?\n",
    "\n",
    "TODO: In the cell below, use the `RunDetails` widget to show the different experiments."
   ]
  },
  {
   "cell_type": "code",
   "execution_count": 51,
   "metadata": {
    "collapsed": true,
    "gather": {
     "logged": 1613378559895
    },
    "jupyter": {
     "outputs_hidden": false,
     "source_hidden": false
    },
    "nteract": {
     "transient": {
      "deleting": false
     }
    }
   },
   "outputs": [
    {
     "data": {
      "application/vnd.jupyter.widget-view+json": {
       "model_id": "4bb395f8ff3d40e8b15e6a203664ee50",
       "version_major": 2,
       "version_minor": 0
      },
      "text/plain": [
       "_AutoMLWidget(widget_settings={'childWidgetDisplay': 'popup', 'send_telemetry': False, 'log_level': 'INFO', 's…"
      ]
     },
     "metadata": {},
     "output_type": "display_data"
    },
    {
     "data": {
      "application/aml.mini.widget.v1": "{\"status\": \"Completed\", \"workbench_run_details_uri\": \"https://ml.azure.com/experiments/ad-automl-experiment/runs/AutoML_ce3a3571-8fba-47aa-ba8e-f457c09a6ba3?wsid=/subscriptions/6971f5ac-8af1-446e-8034-05acea24681f/resourcegroups/aml-quickstarts-138934/workspaces/quick-starts-ws-138934\", \"run_id\": \"AutoML_ce3a3571-8fba-47aa-ba8e-f457c09a6ba3\", \"run_properties\": {\"run_id\": \"AutoML_ce3a3571-8fba-47aa-ba8e-f457c09a6ba3\", \"created_utc\": \"2021-02-15T08:20:46.176199Z\", \"properties\": {\"num_iterations\": \"1000\", \"training_type\": \"TrainFull\", \"acquisition_function\": \"EI\", \"primary_metric\": \"AUC_weighted\", \"train_split\": \"0\", \"acquisition_parameter\": \"0\", \"num_cross_validation\": null, \"target\": \"compute-ml\", \"AMLSettingsJsonString\": \"{\\\"path\\\":null,\\\"name\\\":\\\"ad-automl-experiment\\\",\\\"subscription_id\\\":\\\"6971f5ac-8af1-446e-8034-05acea24681f\\\",\\\"resource_group\\\":\\\"aml-quickstarts-138934\\\",\\\"workspace_name\\\":\\\"quick-starts-ws-138934\\\",\\\"region\\\":\\\"southcentralus\\\",\\\"compute_target\\\":\\\"compute-ml\\\",\\\"spark_service\\\":null,\\\"azure_service\\\":\\\"remote\\\",\\\"many_models\\\":false,\\\"pipeline_fetch_max_batch_size\\\":1,\\\"iterations\\\":1000,\\\"primary_metric\\\":\\\"AUC_weighted\\\",\\\"task_type\\\":\\\"classification\\\",\\\"data_script\\\":null,\\\"validation_size\\\":0.0,\\\"n_cross_validations\\\":null,\\\"y_min\\\":null,\\\"y_max\\\":null,\\\"num_classes\\\":null,\\\"featurization\\\":\\\"auto\\\",\\\"_ignore_package_version_incompatibilities\\\":false,\\\"is_timeseries\\\":false,\\\"max_cores_per_iteration\\\":1,\\\"max_concurrent_iterations\\\":5,\\\"iteration_timeout_minutes\\\":null,\\\"mem_in_mb\\\":null,\\\"enforce_time_on_windows\\\":false,\\\"experiment_timeout_minutes\\\":20,\\\"experiment_exit_score\\\":null,\\\"whitelist_models\\\":null,\\\"blacklist_algos\\\":[\\\"TensorFlowLinearClassifier\\\",\\\"TensorFlowDNN\\\"],\\\"supported_models\\\":[\\\"XGBoostClassifier\\\",\\\"BernoulliNaiveBayes\\\",\\\"TensorFlowDNN\\\",\\\"SGD\\\",\\\"LogisticRegression\\\",\\\"LinearSVM\\\",\\\"DecisionTree\\\",\\\"RandomForest\\\",\\\"KNN\\\",\\\"AveragedPerceptronClassifier\\\",\\\"TensorFlowLinearClassifier\\\",\\\"MultinomialNaiveBayes\\\",\\\"GradientBoosting\\\",\\\"LightGBM\\\",\\\"SVM\\\",\\\"ExtremeRandomTrees\\\"],\\\"auto_blacklist\\\":true,\\\"blacklist_samples_reached\\\":false,\\\"exclude_nan_labels\\\":true,\\\"verbosity\\\":20,\\\"_debug_log\\\":\\\"azureml_automl.log\\\",\\\"show_warnings\\\":false,\\\"model_explainability\\\":true,\\\"service_url\\\":null,\\\"sdk_url\\\":null,\\\"sdk_packages\\\":null,\\\"enable_onnx_compatible_models\\\":true,\\\"enable_split_onnx_featurizer_estimator_models\\\":false,\\\"vm_type\\\":\\\"STANDARD_DS12_V2\\\",\\\"telemetry_verbosity\\\":20,\\\"send_telemetry\\\":true,\\\"enable_dnn\\\":false,\\\"scenario\\\":\\\"SDK-1.13.0\\\",\\\"environment_label\\\":null,\\\"force_text_dnn\\\":false,\\\"enable_feature_sweeping\\\":false,\\\"enable_early_stopping\\\":true,\\\"early_stopping_n_iters\\\":10,\\\"metrics\\\":null,\\\"enable_ensembling\\\":true,\\\"enable_stack_ensembling\\\":false,\\\"ensemble_iterations\\\":15,\\\"enable_tf\\\":false,\\\"enable_subsampling\\\":null,\\\"subsample_seed\\\":null,\\\"enable_nimbusml\\\":false,\\\"enable_streaming\\\":false,\\\"force_streaming\\\":false,\\\"track_child_runs\\\":true,\\\"allowed_private_models\\\":[],\\\"label_column_name\\\":\\\"Clicked on Ad\\\",\\\"weight_column_name\\\":null,\\\"cv_split_column_names\\\":null,\\\"enable_local_managed\\\":false,\\\"_local_managed_run_id\\\":null,\\\"cost_mode\\\":1,\\\"lag_length\\\":0,\\\"metric_operation\\\":\\\"maximize\\\",\\\"preprocess\\\":true}\", \"DataPrepJsonString\": \"{\\\\\\\"training_data\\\\\\\": \\\\\\\"{\\\\\\\\\\\\\\\"blocks\\\\\\\\\\\\\\\": [{\\\\\\\\\\\\\\\"id\\\\\\\\\\\\\\\": \\\\\\\\\\\\\\\"5b0597a4-4e33-40bf-85b4-1d0322183836\\\\\\\\\\\\\\\", \\\\\\\\\\\\\\\"type\\\\\\\\\\\\\\\": \\\\\\\\\\\\\\\"Microsoft.DPrep.GetFilesBlock\\\\\\\\\\\\\\\", \\\\\\\\\\\\\\\"arguments\\\\\\\\\\\\\\\": {\\\\\\\\\\\\\\\"isArchive\\\\\\\\\\\\\\\": false, \\\\\\\\\\\\\\\"path\\\\\\\\\\\\\\\": {\\\\\\\\\\\\\\\"target\\\\\\\\\\\\\\\": 4, \\\\\\\\\\\\\\\"resourceDetails\\\\\\\\\\\\\\\": [{\\\\\\\\\\\\\\\"path\\\\\\\\\\\\\\\": \\\\\\\\\\\\\\\"https://raw.githubusercontent.com/chamsun-imoggo/udacityms-3rdproject/main/data/advertising_training.csv\\\\\\\\\\\\\\\"}]}}, \\\\\\\\\\\\\\\"localData\\\\\\\\\\\\\\\": {}, \\\\\\\\\\\\\\\"isEnabled\\\\\\\\\\\\\\\": true, \\\\\\\\\\\\\\\"name\\\\\\\\\\\\\\\": null, \\\\\\\\\\\\\\\"annotation\\\\\\\\\\\\\\\": null}, {\\\\\\\\\\\\\\\"id\\\\\\\\\\\\\\\": \\\\\\\\\\\\\\\"c1948d62-f382-4638-941f-2a063ed9038a\\\\\\\\\\\\\\\", \\\\\\\\\\\\\\\"type\\\\\\\\\\\\\\\": \\\\\\\\\\\\\\\"Microsoft.DPrep.ParseDelimitedBlock\\\\\\\\\\\\\\\", \\\\\\\\\\\\\\\"arguments\\\\\\\\\\\\\\\": {\\\\\\\\\\\\\\\"columnHeadersMode\\\\\\\\\\\\\\\": 3, \\\\\\\\\\\\\\\"fileEncoding\\\\\\\\\\\\\\\": 0, \\\\\\\\\\\\\\\"handleQuotedLineBreaks\\\\\\\\\\\\\\\": false, \\\\\\\\\\\\\\\"preview\\\\\\\\\\\\\\\": false, \\\\\\\\\\\\\\\"separator\\\\\\\\\\\\\\\": \\\\\\\\\\\\\\\",\\\\\\\\\\\\\\\", \\\\\\\\\\\\\\\"skipRows\\\\\\\\\\\\\\\": 0, \\\\\\\\\\\\\\\"skipRowsMode\\\\\\\\\\\\\\\": 0}, \\\\\\\\\\\\\\\"localData\\\\\\\\\\\\\\\": {}, \\\\\\\\\\\\\\\"isEnabled\\\\\\\\\\\\\\\": true, \\\\\\\\\\\\\\\"name\\\\\\\\\\\\\\\": null, \\\\\\\\\\\\\\\"annotation\\\\\\\\\\\\\\\": null}, {\\\\\\\\\\\\\\\"id\\\\\\\\\\\\\\\": \\\\\\\\\\\\\\\"b5998c35-74eb-4280-8bb1-58b5d685a8f1\\\\\\\\\\\\\\\", \\\\\\\\\\\\\\\"type\\\\\\\\\\\\\\\": \\\\\\\\\\\\\\\"Microsoft.DPrep.DropColumnsBlock\\\\\\\\\\\\\\\", \\\\\\\\\\\\\\\"arguments\\\\\\\\\\\\\\\": {\\\\\\\\\\\\\\\"columns\\\\\\\\\\\\\\\": {\\\\\\\\\\\\\\\"type\\\\\\\\\\\\\\\": 0, \\\\\\\\\\\\\\\"details\\\\\\\\\\\\\\\": {\\\\\\\\\\\\\\\"selectedColumns\\\\\\\\\\\\\\\": [\\\\\\\\\\\\\\\"Path\\\\\\\\\\\\\\\"]}}}, \\\\\\\\\\\\\\\"localData\\\\\\\\\\\\\\\": {}, \\\\\\\\\\\\\\\"isEnabled\\\\\\\\\\\\\\\": true, \\\\\\\\\\\\\\\"name\\\\\\\\\\\\\\\": null, \\\\\\\\\\\\\\\"annotation\\\\\\\\\\\\\\\": null}, {\\\\\\\\\\\\\\\"id\\\\\\\\\\\\\\\": \\\\\\\\\\\\\\\"8c522c2e-ec2b-4442-90ad-8efc0047a11c\\\\\\\\\\\\\\\", \\\\\\\\\\\\\\\"type\\\\\\\\\\\\\\\": \\\\\\\\\\\\\\\"Microsoft.DPrep.SetColumnTypesBlock\\\\\\\\\\\\\\\", \\\\\\\\\\\\\\\"arguments\\\\\\\\\\\\\\\": {\\\\\\\\\\\\\\\"columnConversion\\\\\\\\\\\\\\\": [{\\\\\\\\\\\\\\\"column\\\\\\\\\\\\\\\": {\\\\\\\\\\\\\\\"type\\\\\\\\\\\\\\\": 2, \\\\\\\\\\\\\\\"details\\\\\\\\\\\\\\\": {\\\\\\\\\\\\\\\"selectedColumn\\\\\\\\\\\\\\\": \\\\\\\\\\\\\\\"Daily Time Spent on Site\\\\\\\\\\\\\\\"}}, \\\\\\\\\\\\\\\"typeProperty\\\\\\\\\\\\\\\": 3}, {\\\\\\\\\\\\\\\"column\\\\\\\\\\\\\\\": {\\\\\\\\\\\\\\\"type\\\\\\\\\\\\\\\": 2, \\\\\\\\\\\\\\\"details\\\\\\\\\\\\\\\": {\\\\\\\\\\\\\\\"selectedColumn\\\\\\\\\\\\\\\": \\\\\\\\\\\\\\\"Age\\\\\\\\\\\\\\\"}}, \\\\\\\\\\\\\\\"typeProperty\\\\\\\\\\\\\\\": 2}, {\\\\\\\\\\\\\\\"column\\\\\\\\\\\\\\\": {\\\\\\\\\\\\\\\"type\\\\\\\\\\\\\\\": 2, \\\\\\\\\\\\\\\"details\\\\\\\\\\\\\\\": {\\\\\\\\\\\\\\\"selectedColumn\\\\\\\\\\\\\\\": \\\\\\\\\\\\\\\"Area Income\\\\\\\\\\\\\\\"}}, \\\\\\\\\\\\\\\"typeProperty\\\\\\\\\\\\\\\": 3}, {\\\\\\\\\\\\\\\"column\\\\\\\\\\\\\\\": {\\\\\\\\\\\\\\\"type\\\\\\\\\\\\\\\": 2, \\\\\\\\\\\\\\\"details\\\\\\\\\\\\\\\": {\\\\\\\\\\\\\\\"selectedColumn\\\\\\\\\\\\\\\": \\\\\\\\\\\\\\\"Daily Internet Usage\\\\\\\\\\\\\\\"}}, \\\\\\\\\\\\\\\"typeProperty\\\\\\\\\\\\\\\": 3}, {\\\\\\\\\\\\\\\"column\\\\\\\\\\\\\\\": {\\\\\\\\\\\\\\\"type\\\\\\\\\\\\\\\": 2, \\\\\\\\\\\\\\\"details\\\\\\\\\\\\\\\": {\\\\\\\\\\\\\\\"selectedColumn\\\\\\\\\\\\\\\": \\\\\\\\\\\\\\\"Ad Topic Line\\\\\\\\\\\\\\\"}}, \\\\\\\\\\\\\\\"typeProperty\\\\\\\\\\\\\\\": 0}, {\\\\\\\\\\\\\\\"column\\\\\\\\\\\\\\\": {\\\\\\\\\\\\\\\"type\\\\\\\\\\\\\\\": 2, \\\\\\\\\\\\\\\"details\\\\\\\\\\\\\\\": {\\\\\\\\\\\\\\\"selectedColumn\\\\\\\\\\\\\\\": \\\\\\\\\\\\\\\"City\\\\\\\\\\\\\\\"}}, \\\\\\\\\\\\\\\"typeProperty\\\\\\\\\\\\\\\": 0}, {\\\\\\\\\\\\\\\"column\\\\\\\\\\\\\\\": {\\\\\\\\\\\\\\\"type\\\\\\\\\\\\\\\": 2, \\\\\\\\\\\\\\\"details\\\\\\\\\\\\\\\": {\\\\\\\\\\\\\\\"selectedColumn\\\\\\\\\\\\\\\": \\\\\\\\\\\\\\\"Male\\\\\\\\\\\\\\\"}}, \\\\\\\\\\\\\\\"typeProperty\\\\\\\\\\\\\\\": 2}, {\\\\\\\\\\\\\\\"column\\\\\\\\\\\\\\\": {\\\\\\\\\\\\\\\"type\\\\\\\\\\\\\\\": 2, \\\\\\\\\\\\\\\"details\\\\\\\\\\\\\\\": {\\\\\\\\\\\\\\\"selectedColumn\\\\\\\\\\\\\\\": \\\\\\\\\\\\\\\"Country\\\\\\\\\\\\\\\"}}, \\\\\\\\\\\\\\\"typeProperty\\\\\\\\\\\\\\\": 0}, {\\\\\\\\\\\\\\\"column\\\\\\\\\\\\\\\": {\\\\\\\\\\\\\\\"type\\\\\\\\\\\\\\\": 2, \\\\\\\\\\\\\\\"details\\\\\\\\\\\\\\\": {\\\\\\\\\\\\\\\"selectedColumn\\\\\\\\\\\\\\\": \\\\\\\\\\\\\\\"Month\\\\\\\\\\\\\\\"}}, \\\\\\\\\\\\\\\"typeProperty\\\\\\\\\\\\\\\": 2}, {\\\\\\\\\\\\\\\"column\\\\\\\\\\\\\\\": {\\\\\\\\\\\\\\\"type\\\\\\\\\\\\\\\": 2, \\\\\\\\\\\\\\\"details\\\\\\\\\\\\\\\": {\\\\\\\\\\\\\\\"selectedColumn\\\\\\\\\\\\\\\": \\\\\\\\\\\\\\\"Date\\\\\\\\\\\\\\\"}}, \\\\\\\\\\\\\\\"typeProperty\\\\\\\\\\\\\\\": 2}, {\\\\\\\\\\\\\\\"column\\\\\\\\\\\\\\\": {\\\\\\\\\\\\\\\"type\\\\\\\\\\\\\\\": 2, \\\\\\\\\\\\\\\"details\\\\\\\\\\\\\\\": {\\\\\\\\\\\\\\\"selectedColumn\\\\\\\\\\\\\\\": \\\\\\\\\\\\\\\"Hour\\\\\\\\\\\\\\\"}}, \\\\\\\\\\\\\\\"typeProperty\\\\\\\\\\\\\\\": 2}, {\\\\\\\\\\\\\\\"column\\\\\\\\\\\\\\\": {\\\\\\\\\\\\\\\"type\\\\\\\\\\\\\\\": 2, \\\\\\\\\\\\\\\"details\\\\\\\\\\\\\\\": {\\\\\\\\\\\\\\\"selectedColumn\\\\\\\\\\\\\\\": \\\\\\\\\\\\\\\"Minute\\\\\\\\\\\\\\\"}}, \\\\\\\\\\\\\\\"typeProperty\\\\\\\\\\\\\\\": 2}, {\\\\\\\\\\\\\\\"column\\\\\\\\\\\\\\\": {\\\\\\\\\\\\\\\"type\\\\\\\\\\\\\\\": 2, \\\\\\\\\\\\\\\"details\\\\\\\\\\\\\\\": {\\\\\\\\\\\\\\\"selectedColumn\\\\\\\\\\\\\\\": \\\\\\\\\\\\\\\"Second\\\\\\\\\\\\\\\"}}, \\\\\\\\\\\\\\\"typeProperty\\\\\\\\\\\\\\\": 2}, {\\\\\\\\\\\\\\\"column\\\\\\\\\\\\\\\": {\\\\\\\\\\\\\\\"type\\\\\\\\\\\\\\\": 2, \\\\\\\\\\\\\\\"details\\\\\\\\\\\\\\\": {\\\\\\\\\\\\\\\"selectedColumn\\\\\\\\\\\\\\\": \\\\\\\\\\\\\\\"Clicked on Ad\\\\\\\\\\\\\\\"}}, \\\\\\\\\\\\\\\"typeProperty\\\\\\\\\\\\\\\": 2}]}, \\\\\\\\\\\\\\\"localData\\\\\\\\\\\\\\\": {}, \\\\\\\\\\\\\\\"isEnabled\\\\\\\\\\\\\\\": true, \\\\\\\\\\\\\\\"name\\\\\\\\\\\\\\\": null, \\\\\\\\\\\\\\\"annotation\\\\\\\\\\\\\\\": null}], \\\\\\\\\\\\\\\"inspectors\\\\\\\\\\\\\\\": [], \\\\\\\\\\\\\\\"meta\\\\\\\\\\\\\\\": {\\\\\\\\\\\\\\\"savedDatasetId\\\\\\\\\\\\\\\": \\\\\\\\\\\\\\\"1e301f57-2a9e-41c0-948d-e4ad721d39d1\\\\\\\\\\\\\\\", \\\\\\\\\\\\\\\"datasetType\\\\\\\\\\\\\\\": \\\\\\\\\\\\\\\"tabular\\\\\\\\\\\\\\\", \\\\\\\\\\\\\\\"subscriptionId\\\\\\\\\\\\\\\": \\\\\\\\\\\\\\\"6971f5ac-8af1-446e-8034-05acea24681f\\\\\\\\\\\\\\\", \\\\\\\\\\\\\\\"workspaceId\\\\\\\\\\\\\\\": \\\\\\\\\\\\\\\"9f1fbd36-e60b-488b-a878-da65ffe9c4fe\\\\\\\\\\\\\\\", \\\\\\\\\\\\\\\"workspaceLocation\\\\\\\\\\\\\\\": \\\\\\\\\\\\\\\"southcentralus\\\\\\\\\\\\\\\"}}\\\\\\\", \\\\\\\"activities\\\\\\\": 0}\", \"EnableSubsampling\": null, \"runTemplate\": \"AutoML\", \"azureml.runsource\": \"automl\", \"display_task_type\": \"classification\", \"dependencies_versions\": \"{\\\"azureml-widgets\\\": \\\"1.20.0\\\", \\\"azureml-train\\\": \\\"1.20.0\\\", \\\"azureml-train-restclients-hyperdrive\\\": \\\"1.20.0\\\", \\\"azureml-train-core\\\": \\\"1.20.0\\\", \\\"azureml-train-automl\\\": \\\"1.20.0\\\", \\\"azureml-train-automl-runtime\\\": \\\"1.20.0\\\", \\\"azureml-train-automl-client\\\": \\\"1.20.0\\\", \\\"azureml-tensorboard\\\": \\\"1.20.0\\\", \\\"azureml-telemetry\\\": \\\"1.20.0\\\", \\\"azureml-sdk\\\": \\\"1.20.0\\\", \\\"azureml-samples\\\": \\\"0+unknown\\\", \\\"azureml-pipeline\\\": \\\"1.20.0\\\", \\\"azureml-pipeline-steps\\\": \\\"1.20.0\\\", \\\"azureml-pipeline-core\\\": \\\"1.20.0\\\", \\\"azureml-opendatasets\\\": \\\"1.20.0\\\", \\\"azureml-model-management-sdk\\\": \\\"1.0.1b6.post1\\\", \\\"azureml-mlflow\\\": \\\"1.20.0.post1\\\", \\\"azureml-interpret\\\": \\\"1.20.0\\\", \\\"azureml-explain-model\\\": \\\"1.20.0\\\", \\\"azureml-defaults\\\": \\\"1.20.0\\\", \\\"azureml-dataset-runtime\\\": \\\"1.20.0\\\", \\\"azureml-dataprep\\\": \\\"2.7.3\\\", \\\"azureml-dataprep-rslex\\\": \\\"1.5.0\\\", \\\"azureml-dataprep-native\\\": \\\"27.0.0\\\", \\\"azureml-datadrift\\\": \\\"1.20.0\\\", \\\"azureml-core\\\": \\\"1.20.0\\\", \\\"azureml-contrib-services\\\": \\\"1.20.0\\\", \\\"azureml-contrib-server\\\": \\\"1.20.0\\\", \\\"azureml-contrib-reinforcementlearning\\\": \\\"1.20.0\\\", \\\"azureml-contrib-pipeline-steps\\\": \\\"1.20.0\\\", \\\"azureml-contrib-notebook\\\": \\\"1.20.0\\\", \\\"azureml-contrib-interpret\\\": \\\"1.20.0\\\", \\\"azureml-contrib-gbdt\\\": \\\"1.20.0\\\", \\\"azureml-contrib-fairness\\\": \\\"1.20.0\\\", \\\"azureml-contrib-dataset\\\": \\\"1.20.0\\\", \\\"azureml-cli-common\\\": \\\"1.20.0\\\", \\\"azureml-automl-runtime\\\": \\\"1.20.0\\\", \\\"azureml-automl-core\\\": \\\"1.20.0\\\", \\\"azureml-accel-models\\\": \\\"1.20.0\\\"}\", \"_aml_system_scenario_identification\": \"Remote.Parent\", \"ClientType\": \"SDK\", \"environment_cpu_name\": \"AzureML-AutoML\", \"environment_cpu_label\": \"prod\", \"environment_gpu_name\": \"AzureML-AutoML-GPU\", \"environment_gpu_label\": \"prod\", \"root_attribution\": \"automl\", \"attribution\": \"AutoML\", \"Orchestrator\": \"AutoML\", \"CancelUri\": \"https://southcentralus.experiments.azureml.net/jasmine/v1.0/subscriptions/6971f5ac-8af1-446e-8034-05acea24681f/resourceGroups/aml-quickstarts-138934/providers/Microsoft.MachineLearningServices/workspaces/quick-starts-ws-138934/experimentids/f73eccd8-ce63-49bc-9512-ed18adef481d/cancel/AutoML_ce3a3571-8fba-47aa-ba8e-f457c09a6ba3\", \"ClientSdkVersion\": \"1.21.0\", \"snapshotId\": \"00000000-0000-0000-0000-000000000000\", \"SetupRunId\": \"AutoML_ce3a3571-8fba-47aa-ba8e-f457c09a6ba3_setup\", \"SetupRunContainerId\": \"dcid.AutoML_ce3a3571-8fba-47aa-ba8e-f457c09a6ba3_setup\", \"FeaturizationRunJsonPath\": \"featurizer_container.json\", \"FeaturizationRunId\": \"AutoML_ce3a3571-8fba-47aa-ba8e-f457c09a6ba3_featurize\", \"ProblemInfoJsonString\": \"{\\\"dataset_num_categorical\\\": 0, \\\"is_sparse\\\": true, \\\"subsampling\\\": false, \\\"dataset_classes\\\": 2, \\\"dataset_features\\\": 2490, \\\"dataset_samples\\\": 950, \\\"single_frequency_class_detected\\\": false}\", \"ModelExplainRunId\": \"AutoML_ce3a3571-8fba-47aa-ba8e-f457c09a6ba3_ModelExplain\"}, \"tags\": {\"model_explain_run\": \"best_run\", \"_aml_system_azureml.automlComponent\": \"AutoML\", \"pipeline_id\": \"\", \"score\": \"\", \"predicted_cost\": \"\", \"fit_time\": \"\", \"training_percent\": \"\", \"iteration\": \"\", \"run_preprocessor\": \"\", \"run_algorithm\": \"\", \"dynamic_whitelisting_iterations\": \"<25>;<30>;<35>;\", \"automl_best_child_run_id\": \"AutoML_ce3a3571-8fba-47aa-ba8e-f457c09a6ba3_38\", \"model_explain_best_run_child_id\": \"AutoML_ce3a3571-8fba-47aa-ba8e-f457c09a6ba3_38\"}, \"end_time_utc\": \"2021-02-15T08:42:28.461757Z\", \"status\": \"Completed\", \"log_files\": {}, \"log_groups\": [], \"run_duration\": \"0:21:42\"}, \"child_runs\": [{\"run_id\": \"AutoML_ce3a3571-8fba-47aa-ba8e-f457c09a6ba3_0\", \"run_number\": 50, \"metric\": null, \"status\": \"Completed\", \"run_type\": \"azureml.scriptrun\", \"training_percent\": \"100\", \"start_time\": \"2021-02-15T08:29:45.071288Z\", \"end_time\": \"2021-02-15T08:31:49.389116Z\", \"created_time\": \"2021-02-15T08:27:53.801148Z\", \"created_time_dt\": \"2021-02-15T08:27:53.801148Z\", \"duration\": \"0:03:55\", \"iteration\": \"0\", \"goal\": \"AUC_weighted_max\", \"run_name\": \"MaxAbsScaler, LightGBM\", \"run_properties\": \"copy=True\", \"primary_metric\": 0.98876822, \"best_metric\": 0.98876822}, {\"run_id\": \"AutoML_ce3a3571-8fba-47aa-ba8e-f457c09a6ba3_1\", \"run_number\": 51, \"metric\": null, \"status\": \"Completed\", \"run_type\": \"azureml.scriptrun\", \"training_percent\": \"100\", \"start_time\": \"2021-02-15T08:29:45.309125Z\", \"end_time\": \"2021-02-15T08:32:06.797194Z\", \"created_time\": \"2021-02-15T08:27:53.823435Z\", \"created_time_dt\": \"2021-02-15T08:27:53.823435Z\", \"duration\": \"0:04:12\", \"iteration\": \"1\", \"goal\": \"AUC_weighted_max\", \"run_name\": \"MaxAbsScaler, XGBoostClassifier\", \"run_properties\": \"copy=True\", \"primary_metric\": 0.98908354, \"best_metric\": 0.98908354}, {\"run_id\": \"AutoML_ce3a3571-8fba-47aa-ba8e-f457c09a6ba3_2\", \"run_number\": 52, \"metric\": null, \"status\": \"Completed\", \"run_type\": \"azureml.scriptrun\", \"training_percent\": \"100\", \"start_time\": \"2021-02-15T08:28:03.962915Z\", \"end_time\": \"2021-02-15T08:28:54.46921Z\", \"created_time\": \"2021-02-15T08:27:53.835646Z\", \"created_time_dt\": \"2021-02-15T08:27:53.835646Z\", \"duration\": \"0:01:00\", \"iteration\": \"2\", \"goal\": \"AUC_weighted_max\", \"run_name\": \"MaxAbsScaler, RandomForest\", \"run_properties\": \"copy=True\", \"primary_metric\": 0.96891121, \"best_metric\": 0.98908354}, {\"run_id\": \"AutoML_ce3a3571-8fba-47aa-ba8e-f457c09a6ba3_3\", \"run_number\": 53, \"metric\": null, \"status\": \"Completed\", \"run_type\": \"azureml.scriptrun\", \"training_percent\": \"100\", \"start_time\": \"2021-02-15T08:29:42.695183Z\", \"end_time\": \"2021-02-15T08:31:51.1503Z\", \"created_time\": \"2021-02-15T08:27:53.833793Z\", \"created_time_dt\": \"2021-02-15T08:27:53.833793Z\", \"duration\": \"0:03:57\", \"iteration\": \"3\", \"goal\": \"AUC_weighted_max\", \"run_name\": \"MaxAbsScaler, RandomForest\", \"run_properties\": \"copy=True\", \"primary_metric\": 0.78983483, \"best_metric\": 0.98908354}, {\"run_id\": \"AutoML_ce3a3571-8fba-47aa-ba8e-f457c09a6ba3_4\", \"run_number\": 54, \"metric\": null, \"status\": \"Completed\", \"run_type\": \"azureml.scriptrun\", \"training_percent\": \"100\", \"start_time\": \"2021-02-15T08:28:55.482479Z\", \"end_time\": \"2021-02-15T08:29:52.802146Z\", \"created_time\": \"2021-02-15T08:27:54.204883Z\", \"created_time_dt\": \"2021-02-15T08:27:54.204883Z\", \"duration\": \"0:01:58\", \"iteration\": \"4\", \"goal\": \"AUC_weighted_max\", \"run_name\": \"MaxAbsScaler, RandomForest\", \"run_properties\": \"copy=True\", \"primary_metric\": 0.58192816, \"best_metric\": 0.98908354}, {\"run_id\": \"AutoML_ce3a3571-8fba-47aa-ba8e-f457c09a6ba3_5\", \"run_number\": 55, \"metric\": null, \"status\": \"Completed\", \"run_type\": \"azureml.scriptrun\", \"training_percent\": \"100\", \"start_time\": \"2021-02-15T08:29:54.361305Z\", \"end_time\": \"2021-02-15T08:30:53.47619Z\", \"created_time\": \"2021-02-15T08:28:57.967118Z\", \"created_time_dt\": \"2021-02-15T08:28:57.967118Z\", \"duration\": \"0:01:55\", \"iteration\": \"5\", \"goal\": \"AUC_weighted_max\", \"run_name\": \"MaxAbsScaler, ExtremeRandomTrees\", \"run_properties\": \"copy=True\", \"primary_metric\": 0.98859104, \"best_metric\": 0.98908354}, {\"run_id\": \"AutoML_ce3a3571-8fba-47aa-ba8e-f457c09a6ba3_6\", \"run_number\": 56, \"metric\": null, \"status\": \"Completed\", \"run_type\": \"azureml.scriptrun\", \"training_percent\": \"100\", \"start_time\": \"2021-02-15T08:30:56.460286Z\", \"end_time\": \"2021-02-15T08:31:56.793478Z\", \"created_time\": \"2021-02-15T08:29:57.26571Z\", \"created_time_dt\": \"2021-02-15T08:29:57.26571Z\", \"duration\": \"0:01:59\", \"iteration\": \"6\", \"goal\": \"AUC_weighted_max\", \"run_name\": \"MaxAbsScaler, ExtremeRandomTrees\", \"run_properties\": \"copy=True\", \"primary_metric\": 0.99065522, \"best_metric\": 0.99065522}, {\"run_id\": \"AutoML_ce3a3571-8fba-47aa-ba8e-f457c09a6ba3_7\", \"run_number\": 57, \"metric\": null, \"status\": \"Completed\", \"run_type\": \"azureml.scriptrun\", \"training_percent\": \"100\", \"start_time\": \"2021-02-15T08:31:49.43573Z\", \"end_time\": \"2021-02-15T08:32:52.279468Z\", \"created_time\": \"2021-02-15T08:30:57.782856Z\", \"created_time_dt\": \"2021-02-15T08:30:57.782856Z\", \"duration\": \"0:01:54\", \"iteration\": \"7\", \"goal\": \"AUC_weighted_max\", \"run_name\": \"MaxAbsScaler, ExtremeRandomTrees\", \"run_properties\": \"copy=True\", \"primary_metric\": 0.95993558, \"best_metric\": 0.99065522}, {\"run_id\": \"AutoML_ce3a3571-8fba-47aa-ba8e-f457c09a6ba3_9\", \"run_number\": 58, \"metric\": null, \"status\": \"Completed\", \"run_type\": \"azureml.scriptrun\", \"training_percent\": \"100\", \"start_time\": \"2021-02-15T08:32:05.773771Z\", \"end_time\": \"2021-02-15T08:33:02.235085Z\", \"created_time\": \"2021-02-15T08:31:55.126616Z\", \"created_time_dt\": \"2021-02-15T08:31:55.126616Z\", \"duration\": \"0:01:07\", \"iteration\": \"9\", \"goal\": \"AUC_weighted_max\", \"run_name\": \"MaxAbsScaler, ExtremeRandomTrees\", \"run_properties\": \"copy=True\", \"primary_metric\": 0.9897557, \"best_metric\": 0.99065522}, {\"run_id\": \"AutoML_ce3a3571-8fba-47aa-ba8e-f457c09a6ba3_8\", \"run_number\": 59, \"metric\": null, \"status\": \"Completed\", \"run_type\": \"azureml.scriptrun\", \"training_percent\": \"100\", \"start_time\": \"2021-02-15T08:32:06.299178Z\", \"end_time\": \"2021-02-15T08:32:59.565753Z\", \"created_time\": \"2021-02-15T08:31:55.36348Z\", \"created_time_dt\": \"2021-02-15T08:31:55.36348Z\", \"duration\": \"0:01:04\", \"iteration\": \"8\", \"goal\": \"AUC_weighted_max\", \"run_name\": \"MaxAbsScaler, RandomForest\", \"run_properties\": \"copy=True\", \"primary_metric\": 0.98493225, \"best_metric\": 0.99065522}, {\"run_id\": \"AutoML_ce3a3571-8fba-47aa-ba8e-f457c09a6ba3_10\", \"run_number\": 60, \"metric\": null, \"status\": \"Completed\", \"run_type\": \"azureml.scriptrun\", \"training_percent\": \"100\", \"start_time\": \"2021-02-15T08:32:10.99735Z\", \"end_time\": \"2021-02-15T08:33:13.554869Z\", \"created_time\": \"2021-02-15T08:32:00.352207Z\", \"created_time_dt\": \"2021-02-15T08:32:00.352207Z\", \"duration\": \"0:01:13\", \"iteration\": \"10\", \"goal\": \"AUC_weighted_max\", \"run_name\": \"MaxAbsScaler, RandomForest\", \"run_properties\": \"copy=True\", \"primary_metric\": 0.9520463, \"best_metric\": 0.99065522}, {\"run_id\": \"AutoML_ce3a3571-8fba-47aa-ba8e-f457c09a6ba3_11\", \"run_number\": 61, \"metric\": null, \"status\": \"Completed\", \"run_type\": \"azureml.scriptrun\", \"training_percent\": \"100\", \"start_time\": \"2021-02-15T08:32:53.836619Z\", \"end_time\": \"2021-02-15T08:33:57.472851Z\", \"created_time\": \"2021-02-15T08:32:09.928034Z\", \"created_time_dt\": \"2021-02-15T08:32:09.928034Z\", \"duration\": \"0:01:47\", \"iteration\": \"11\", \"goal\": \"AUC_weighted_max\", \"run_name\": \"MaxAbsScaler, RandomForest\", \"run_properties\": \"copy=True\", \"primary_metric\": 0.97530192, \"best_metric\": 0.99065522}, {\"run_id\": \"AutoML_ce3a3571-8fba-47aa-ba8e-f457c09a6ba3_12\", \"run_number\": 62, \"metric\": null, \"status\": \"Completed\", \"run_type\": \"azureml.scriptrun\", \"training_percent\": \"100\", \"start_time\": \"2021-02-15T08:33:05.543789Z\", \"end_time\": \"2021-02-15T08:34:00.120196Z\", \"created_time\": \"2021-02-15T08:32:55.373719Z\", \"created_time_dt\": \"2021-02-15T08:32:55.373719Z\", \"duration\": \"0:01:04\", \"iteration\": \"12\", \"goal\": \"AUC_weighted_max\", \"run_name\": \"MaxAbsScaler, RandomForest\", \"run_properties\": \"copy=True\", \"primary_metric\": 0.97204523, \"best_metric\": 0.99065522}, {\"run_id\": \"AutoML_ce3a3571-8fba-47aa-ba8e-f457c09a6ba3_13\", \"run_number\": 63, \"metric\": null, \"status\": \"Completed\", \"run_type\": \"azureml.scriptrun\", \"training_percent\": \"100\", \"start_time\": \"2021-02-15T08:33:14.906453Z\", \"end_time\": \"2021-02-15T08:34:00.742786Z\", \"created_time\": \"2021-02-15T08:33:02.594464Z\", \"created_time_dt\": \"2021-02-15T08:33:02.594464Z\", \"duration\": \"0:00:58\", \"iteration\": \"13\", \"goal\": \"AUC_weighted_max\", \"run_name\": \"StandardScalerWrapper, XGBoostClassifier\", \"run_properties\": \"<azureml.automl.runtime.shared.model_wrappers.StandardScalerWrapper object at 0x7fb6965cdf98\", \"primary_metric\": 0.9863239, \"best_metric\": 0.99065522}, {\"run_id\": \"AutoML_ce3a3571-8fba-47aa-ba8e-f457c09a6ba3_14\", \"run_number\": 64, \"metric\": null, \"status\": \"Completed\", \"run_type\": \"azureml.scriptrun\", \"training_percent\": \"100\", \"start_time\": \"2021-02-15T08:33:19.377893Z\", \"end_time\": \"2021-02-15T08:34:20.832587Z\", \"created_time\": \"2021-02-15T08:33:07.202709Z\", \"created_time_dt\": \"2021-02-15T08:33:07.202709Z\", \"duration\": \"0:01:13\", \"iteration\": \"14\", \"goal\": \"AUC_weighted_max\", \"run_name\": \"MaxAbsScaler, RandomForest\", \"run_properties\": \"copy=True\", \"primary_metric\": 0.59228776, \"best_metric\": 0.99065522}, {\"run_id\": \"AutoML_ce3a3571-8fba-47aa-ba8e-f457c09a6ba3_15\", \"run_number\": 65, \"metric\": null, \"status\": \"Completed\", \"run_type\": \"azureml.scriptrun\", \"training_percent\": \"100\", \"start_time\": \"2021-02-15T08:33:58.526204Z\", \"end_time\": \"2021-02-15T08:34:49.80561Z\", \"created_time\": \"2021-02-15T08:33:18.76116Z\", \"created_time_dt\": \"2021-02-15T08:33:18.76116Z\", \"duration\": \"0:01:31\", \"iteration\": \"15\", \"goal\": \"AUC_weighted_max\", \"run_name\": \"StandardScalerWrapper, ExtremeRandomTrees\", \"run_properties\": \"<azureml.automl.runtime.shared.model_wrappers.StandardScalerWrapper object at 0x7f2cad68e748\", \"primary_metric\": 0.98792424, \"best_metric\": 0.99065522}, {\"run_id\": \"AutoML_ce3a3571-8fba-47aa-ba8e-f457c09a6ba3_16\", \"run_number\": 66, \"metric\": null, \"status\": \"Completed\", \"run_type\": \"azureml.scriptrun\", \"training_percent\": \"100\", \"start_time\": \"2021-02-15T08:34:13.642341Z\", \"end_time\": \"2021-02-15T08:35:09.01143Z\", \"created_time\": \"2021-02-15T08:34:00.231874Z\", \"created_time_dt\": \"2021-02-15T08:34:00.231874Z\", \"duration\": \"0:01:08\", \"iteration\": \"16\", \"goal\": \"AUC_weighted_max\", \"run_name\": \"MaxAbsScaler, ExtremeRandomTrees\", \"run_properties\": \"copy=True\", \"primary_metric\": 0.9894398, \"best_metric\": 0.99065522}, {\"run_id\": \"AutoML_ce3a3571-8fba-47aa-ba8e-f457c09a6ba3_18\", \"run_number\": 67, \"metric\": null, \"status\": \"Completed\", \"run_type\": \"azureml.scriptrun\", \"training_percent\": \"100\", \"start_time\": \"2021-02-15T08:34:23.888694Z\", \"end_time\": \"2021-02-15T08:35:23.956851Z\", \"created_time\": \"2021-02-15T08:34:05.815125Z\", \"created_time_dt\": \"2021-02-15T08:34:05.815125Z\", \"duration\": \"0:01:18\", \"iteration\": \"18\", \"goal\": \"AUC_weighted_max\", \"run_name\": \"MaxAbsScaler, RandomForest\", \"run_properties\": \"copy=True\", \"primary_metric\": 0.87484203, \"best_metric\": 0.99065522}, {\"run_id\": \"AutoML_ce3a3571-8fba-47aa-ba8e-f457c09a6ba3_17\", \"run_number\": 68, \"metric\": null, \"status\": \"Completed\", \"run_type\": \"azureml.scriptrun\", \"training_percent\": \"100\", \"start_time\": \"2021-02-15T08:34:19.326112Z\", \"end_time\": \"2021-02-15T08:35:14.883363Z\", \"created_time\": \"2021-02-15T08:34:05.846551Z\", \"created_time_dt\": \"2021-02-15T08:34:05.846551Z\", \"duration\": \"0:01:09\", \"iteration\": \"17\", \"goal\": \"AUC_weighted_max\", \"run_name\": \"MaxAbsScaler, ExtremeRandomTrees\", \"run_properties\": \"copy=True\", \"primary_metric\": 0.74998158, \"best_metric\": 0.99065522}, {\"run_id\": \"AutoML_ce3a3571-8fba-47aa-ba8e-f457c09a6ba3_19\", \"run_number\": 69, \"metric\": null, \"status\": \"Completed\", \"run_type\": \"azureml.scriptrun\", \"training_percent\": \"100\", \"start_time\": \"2021-02-15T08:34:55.440012Z\", \"end_time\": \"2021-02-15T08:36:00.307655Z\", \"created_time\": \"2021-02-15T08:34:24.875665Z\", \"created_time_dt\": \"2021-02-15T08:34:24.875665Z\", \"duration\": \"0:01:35\", \"iteration\": \"19\", \"goal\": \"AUC_weighted_max\", \"run_name\": \"SparseNormalizer, XGBoostClassifier\", \"run_properties\": \"<azureml.automl.runtime.shared.model_wrappers.SparseNormalizer object at 0x7fa355ea6c88\", \"primary_metric\": 0.95029561, \"best_metric\": 0.99065522}, {\"run_id\": \"AutoML_ce3a3571-8fba-47aa-ba8e-f457c09a6ba3_20\", \"run_number\": 70, \"metric\": null, \"status\": \"Completed\", \"run_type\": \"azureml.scriptrun\", \"training_percent\": \"100\", \"start_time\": \"2021-02-15T08:35:12.326847Z\", \"end_time\": \"2021-02-15T08:36:42.981418Z\", \"created_time\": \"2021-02-15T08:34:52.729655Z\", \"created_time_dt\": \"2021-02-15T08:34:52.729655Z\", \"duration\": \"0:01:50\", \"iteration\": \"20\", \"goal\": \"AUC_weighted_max\", \"run_name\": \"TruncatedSVDWrapper, XGBoostClassifier\", \"run_properties\": \"n_components=0.2573684210526316, random_state=None\", \"primary_metric\": 0.98612751, \"best_metric\": 0.99065522}, {\"run_id\": \"AutoML_ce3a3571-8fba-47aa-ba8e-f457c09a6ba3_21\", \"run_number\": 71, \"metric\": null, \"status\": \"Completed\", \"run_type\": \"azureml.scriptrun\", \"training_percent\": \"100\", \"start_time\": \"2021-02-15T08:35:25.993209Z\", \"end_time\": \"2021-02-15T08:36:28.261833Z\", \"created_time\": \"2021-02-15T08:35:11.372403Z\", \"created_time_dt\": \"2021-02-15T08:35:11.372403Z\", \"duration\": \"0:01:16\", \"iteration\": \"21\", \"goal\": \"AUC_weighted_max\", \"run_name\": \"SparseNormalizer, XGBoostClassifier\", \"run_properties\": \"<azureml.automl.runtime.shared.model_wrappers.SparseNormalizer object at 0x7fc65f165940\", \"primary_metric\": 0.97177182, \"best_metric\": 0.99065522}, {\"run_id\": \"AutoML_ce3a3571-8fba-47aa-ba8e-f457c09a6ba3_22\", \"run_number\": 72, \"metric\": null, \"status\": \"Completed\", \"run_type\": \"azureml.scriptrun\", \"training_percent\": \"100\", \"start_time\": \"2021-02-15T08:35:28.497724Z\", \"end_time\": \"2021-02-15T08:36:59.919683Z\", \"created_time\": \"2021-02-15T08:35:17.393921Z\", \"created_time_dt\": \"2021-02-15T08:35:17.393921Z\", \"duration\": \"0:01:42\", \"iteration\": \"22\", \"goal\": \"AUC_weighted_max\", \"run_name\": \"SparseNormalizer, LightGBM\", \"run_properties\": \"<azureml.automl.runtime.shared.model_wrappers.SparseNormalizer object at 0x7f50c9fa14a8\", \"primary_metric\": 0.95656568, \"best_metric\": 0.99065522}, {\"run_id\": \"AutoML_ce3a3571-8fba-47aa-ba8e-f457c09a6ba3_23\", \"run_number\": 73, \"metric\": null, \"status\": \"Completed\", \"run_type\": \"azureml.scriptrun\", \"training_percent\": \"100\", \"start_time\": \"2021-02-15T08:36:00.310633Z\", \"end_time\": \"2021-02-15T08:36:56.288622Z\", \"created_time\": \"2021-02-15T08:35:25.794678Z\", \"created_time_dt\": \"2021-02-15T08:35:25.794678Z\", \"duration\": \"0:01:30\", \"iteration\": \"23\", \"goal\": \"AUC_weighted_max\", \"run_name\": \"StandardScalerWrapper, LightGBM\", \"run_properties\": \"<azureml.automl.runtime.shared.model_wrappers.StandardScalerWrapper object at 0x7fe4b43eccf8\", \"primary_metric\": 0.98788069, \"best_metric\": 0.99065522}, {\"run_id\": \"AutoML_ce3a3571-8fba-47aa-ba8e-f457c09a6ba3_24\", \"run_number\": 74, \"metric\": null, \"status\": \"Completed\", \"run_type\": \"azureml.scriptrun\", \"training_percent\": \"100\", \"start_time\": \"2021-02-15T08:36:30.482964Z\", \"end_time\": \"2021-02-15T08:37:21.149835Z\", \"created_time\": \"2021-02-15T08:36:03.726973Z\", \"created_time_dt\": \"2021-02-15T08:36:03.726973Z\", \"duration\": \"0:01:17\", \"iteration\": \"24\", \"goal\": \"AUC_weighted_max\", \"run_name\": \"MaxAbsScaler, LightGBM\", \"run_properties\": \"copy=True\", \"primary_metric\": 0.98537688, \"best_metric\": 0.99065522}, {\"run_id\": \"AutoML_ce3a3571-8fba-47aa-ba8e-f457c09a6ba3_25\", \"run_number\": 75, \"metric\": null, \"status\": \"Completed\", \"run_type\": \"azureml.scriptrun\", \"training_percent\": \"100\", \"start_time\": \"2021-02-15T08:36:47.551786Z\", \"end_time\": \"2021-02-15T08:37:47.991611Z\", \"created_time\": \"2021-02-15T08:36:33.128508Z\", \"created_time_dt\": \"2021-02-15T08:36:33.128508Z\", \"duration\": \"0:01:14\", \"iteration\": \"25\", \"goal\": \"AUC_weighted_max\", \"run_name\": \"MaxAbsScaler, ExtremeRandomTrees\", \"run_properties\": \"copy=True\", \"primary_metric\": 0.5, \"best_metric\": 0.99065522}, {\"run_id\": \"AutoML_ce3a3571-8fba-47aa-ba8e-f457c09a6ba3_26\", \"run_number\": 76, \"metric\": null, \"status\": \"Completed\", \"run_type\": \"azureml.scriptrun\", \"training_percent\": \"100\", \"start_time\": \"2021-02-15T08:36:58.985954Z\", \"end_time\": \"2021-02-15T08:37:48.504482Z\", \"created_time\": \"2021-02-15T08:36:44.683937Z\", \"created_time_dt\": \"2021-02-15T08:36:44.683937Z\", \"duration\": \"0:01:03\", \"iteration\": \"26\", \"goal\": \"AUC_weighted_max\", \"run_name\": \"StandardScalerWrapper, LightGBM\", \"run_properties\": \"<azureml.automl.runtime.shared.model_wrappers.StandardScalerWrapper object at 0x7f684090a470\", \"primary_metric\": 0.99013236, \"best_metric\": 0.99065522}, {\"run_id\": \"AutoML_ce3a3571-8fba-47aa-ba8e-f457c09a6ba3_27\", \"run_number\": 77, \"metric\": null, \"status\": \"Completed\", \"run_type\": \"azureml.scriptrun\", \"training_percent\": \"100\", \"start_time\": \"2021-02-15T08:37:10.494844Z\", \"end_time\": \"2021-02-15T08:38:02.44896Z\", \"created_time\": \"2021-02-15T08:36:58.338243Z\", \"created_time_dt\": \"2021-02-15T08:36:58.338243Z\", \"duration\": \"0:01:04\", \"iteration\": \"27\", \"goal\": \"AUC_weighted_max\", \"run_name\": \"MaxAbsScaler, ExtremeRandomTrees\", \"run_properties\": \"copy=True\", \"primary_metric\": 0.98838587, \"best_metric\": 0.99065522}, {\"run_id\": \"AutoML_ce3a3571-8fba-47aa-ba8e-f457c09a6ba3_28\", \"run_number\": 78, \"metric\": null, \"status\": \"Completed\", \"run_type\": \"azureml.scriptrun\", \"training_percent\": \"100\", \"start_time\": \"2021-02-15T08:37:25.996832Z\", \"end_time\": \"2021-02-15T08:38:32.946591Z\", \"created_time\": \"2021-02-15T08:37:01.784554Z\", \"created_time_dt\": \"2021-02-15T08:37:01.784554Z\", \"duration\": \"0:01:31\", \"iteration\": \"28\", \"goal\": \"AUC_weighted_max\", \"run_name\": \"StandardScalerWrapper, ExtremeRandomTrees\", \"run_properties\": \"<azureml.automl.runtime.shared.model_wrappers.StandardScalerWrapper object at 0x7fe5fe126358\", \"primary_metric\": 0.98796875, \"best_metric\": 0.99065522}, {\"run_id\": \"AutoML_ce3a3571-8fba-47aa-ba8e-f457c09a6ba3_29\", \"run_number\": 79, \"metric\": null, \"status\": \"Completed\", \"run_type\": \"azureml.scriptrun\", \"training_percent\": \"100\", \"start_time\": \"2021-02-15T08:37:51.168236Z\", \"end_time\": \"2021-02-15T08:38:52.371498Z\", \"created_time\": \"2021-02-15T08:37:22.933477Z\", \"created_time_dt\": \"2021-02-15T08:37:22.933477Z\", \"duration\": \"0:01:29\", \"iteration\": \"29\", \"goal\": \"AUC_weighted_max\", \"run_name\": \"StandardScalerWrapper, RandomForest\", \"run_properties\": \"<azureml.automl.runtime.shared.model_wrappers.StandardScalerWrapper object at 0x7f1d106e7710\", \"primary_metric\": 0.98590602, \"best_metric\": 0.99065522}, {\"run_id\": \"AutoML_ce3a3571-8fba-47aa-ba8e-f457c09a6ba3_30\", \"run_number\": 80, \"metric\": null, \"status\": \"Completed\", \"run_type\": \"azureml.scriptrun\", \"training_percent\": \"100\", \"start_time\": \"2021-02-15T08:38:02.816003Z\", \"end_time\": \"2021-02-15T08:38:57.429585Z\", \"created_time\": \"2021-02-15T08:37:50.846697Z\", \"created_time_dt\": \"2021-02-15T08:37:50.846697Z\", \"duration\": \"0:01:06\", \"iteration\": \"30\", \"goal\": \"AUC_weighted_max\", \"run_name\": \"SparseNormalizer, ExtremeRandomTrees\", \"run_properties\": \"<azureml.automl.runtime.shared.model_wrappers.SparseNormalizer object at 0x7f1f0c8186a0\", \"primary_metric\": 0.58321068, \"best_metric\": 0.99065522}, {\"run_id\": \"AutoML_ce3a3571-8fba-47aa-ba8e-f457c09a6ba3_31\", \"run_number\": 81, \"metric\": null, \"status\": \"Completed\", \"run_type\": \"azureml.scriptrun\", \"training_percent\": \"100\", \"start_time\": \"2021-02-15T08:38:07.361837Z\", \"end_time\": \"2021-02-15T08:39:08.754105Z\", \"created_time\": \"2021-02-15T08:37:54.037172Z\", \"created_time_dt\": \"2021-02-15T08:37:54.037172Z\", \"duration\": \"0:01:14\", \"iteration\": \"31\", \"goal\": \"AUC_weighted_max\", \"run_name\": \"SparseNormalizer, XGBoostClassifier\", \"run_properties\": \"<azureml.automl.runtime.shared.model_wrappers.SparseNormalizer object at 0x7f535aef7780\", \"primary_metric\": 0.89918735, \"best_metric\": 0.99065522}, {\"run_id\": \"AutoML_ce3a3571-8fba-47aa-ba8e-f457c09a6ba3_32\", \"run_number\": 82, \"metric\": null, \"status\": \"Completed\", \"run_type\": \"azureml.scriptrun\", \"training_percent\": \"100\", \"start_time\": \"2021-02-15T08:38:37.811467Z\", \"end_time\": \"2021-02-15T08:39:27.986078Z\", \"created_time\": \"2021-02-15T08:38:04.412552Z\", \"created_time_dt\": \"2021-02-15T08:38:04.412552Z\", \"duration\": \"0:01:23\", \"iteration\": \"32\", \"goal\": \"AUC_weighted_max\", \"run_name\": \"MaxAbsScaler, LightGBM\", \"run_properties\": \"copy=True\", \"primary_metric\": 0.98722224, \"best_metric\": 0.99065522}, {\"run_id\": \"AutoML_ce3a3571-8fba-47aa-ba8e-f457c09a6ba3_33\", \"run_number\": 83, \"metric\": null, \"status\": \"Completed\", \"run_type\": \"azureml.scriptrun\", \"training_percent\": \"100\", \"start_time\": \"2021-02-15T08:38:55.225508Z\", \"end_time\": \"2021-02-15T08:39:50.539989Z\", \"created_time\": \"2021-02-15T08:38:34.624003Z\", \"created_time_dt\": \"2021-02-15T08:38:34.624003Z\", \"duration\": \"0:01:15\", \"iteration\": \"33\", \"goal\": \"AUC_weighted_max\", \"run_name\": \"StandardScalerWrapper, LogisticRegression\", \"run_properties\": \"<azureml.automl.runtime.shared.model_wrappers.StandardScalerWrapper object at 0x7f7c641a5da0\", \"primary_metric\": 0.75856573, \"best_metric\": 0.99065522}, {\"run_id\": \"AutoML_ce3a3571-8fba-47aa-ba8e-f457c09a6ba3_34\", \"run_number\": 84, \"metric\": null, \"status\": \"Canceled\", \"run_type\": \"azureml.scriptrun\", \"training_percent\": \"100\", \"start_time\": \"2021-02-15T08:39:08.81104Z\", \"end_time\": \"2021-02-15T08:39:59.368752Z\", \"created_time\": \"2021-02-15T08:38:55.514753Z\", \"created_time_dt\": \"2021-02-15T08:38:55.514753Z\", \"duration\": \"0:01:03\", \"iteration\": \"34\", \"goal\": \"AUC_weighted_max\", \"run_name\": \"StandardScalerWrapper, LogisticRegression\", \"run_properties\": \"<azureml.automl.runtime.shared.model_wrappers.StandardScalerWrapper object at 0x7f533fafaf98\", \"primary_metric\": 0.9484951, \"best_metric\": 0.99065522}, {\"run_id\": \"AutoML_ce3a3571-8fba-47aa-ba8e-f457c09a6ba3_35\", \"run_number\": 85, \"metric\": null, \"status\": \"Canceled\", \"run_type\": \"azureml.scriptrun\", \"training_percent\": \"100\", \"start_time\": \"2021-02-15T08:39:14.838811Z\", \"end_time\": \"2021-02-15T08:39:57.52806Z\", \"created_time\": \"2021-02-15T08:39:00.927409Z\", \"created_time_dt\": \"2021-02-15T08:39:00.927409Z\", \"duration\": \"0:00:56\", \"iteration\": \"35\", \"goal\": \"AUC_weighted_max\", \"run_name\": \"TruncatedSVDWrapper, ExtremeRandomTrees\", \"run_properties\": \"n_components=0.01, random_state=None\", \"primary_metric\": 0.87235576, \"best_metric\": 0.99065522}, {\"run_id\": \"AutoML_ce3a3571-8fba-47aa-ba8e-f457c09a6ba3_36\", \"run_number\": 86, \"metric\": null, \"status\": \"Canceled\", \"run_type\": \"azureml.scriptrun\", \"training_percent\": \"100\", \"start_time\": \"2021-02-15T08:39:32.543154Z\", \"end_time\": \"2021-02-15T08:39:58.378718Z\", \"created_time\": \"2021-02-15T08:39:10.484333Z\", \"created_time_dt\": \"2021-02-15T08:39:10.484333Z\", \"duration\": \"0:00:47\", \"iteration\": \"36\", \"goal\": null, \"run_name\": \"Canceled\", \"run_properties\": null}, {\"run_id\": \"AutoML_ce3a3571-8fba-47aa-ba8e-f457c09a6ba3_37\", \"run_number\": 87, \"metric\": null, \"status\": \"Canceled\", \"run_type\": \"azureml.scriptrun\", \"training_percent\": \"100\", \"start_time\": \"2021-02-15T08:39:50.922692Z\", \"end_time\": \"2021-02-15T08:39:58.630203Z\", \"created_time\": \"2021-02-15T08:39:29.812436Z\", \"created_time_dt\": \"2021-02-15T08:39:29.812436Z\", \"duration\": \"0:00:28\", \"iteration\": \"37\", \"goal\": null, \"run_name\": \"Canceled\", \"run_properties\": null}, {\"run_id\": \"AutoML_ce3a3571-8fba-47aa-ba8e-f457c09a6ba3_38\", \"run_number\": 88, \"metric\": null, \"status\": \"Completed\", \"run_type\": \"azureml.scriptrun\", \"training_percent\": \"100\", \"start_time\": \"2021-02-15T08:40:11.784286Z\", \"end_time\": \"2021-02-15T08:42:18.313479Z\", \"created_time\": \"2021-02-15T08:40:00.020295Z\", \"created_time_dt\": \"2021-02-15T08:40:00.020295Z\", \"duration\": \"0:02:18\", \"iteration\": \"38\", \"goal\": \"AUC_weighted_max\", \"run_name\": \"VotingEnsemble\", \"run_properties\": \"classification_labels=None,\\n                              estimators=[('6',\\n                                           Pipeline(memory=None,\\n                                                    steps=[('maxabsscaler',\\n                                                            MaxAbsScaler(copy=True\", \"primary_metric\": 0.99213025, \"best_metric\": 0.99213025}], \"children_metrics\": {\"categories\": [0], \"series\": {\"recall_score_macro\": [{\"categories\": [\"0\", \"1\", \"2\", \"3\", \"4\", \"5\", \"6\", \"7\", \"8\", \"9\", \"10\", \"11\", \"12\", \"13\", \"14\", \"15\", \"16\", \"17\", \"18\", \"19\", \"20\", \"21\", \"22\", \"23\", \"24\", \"25\", \"26\", \"27\", \"28\", \"29\", \"30\", \"31\", \"32\", \"33\", \"34\", \"35\", \"38\"], \"mode\": \"markers\", \"name\": \"recall_score_macro\", \"stepped\": false, \"type\": \"scatter\", \"data\": [0.9567350378671231, 0.958232206834553, 0.9183638110792162, 0.7740293562405872, 0.5983944179649262, 0.9490059596222306, 0.956910312088547, 0.9018680931645082, 0.9381452179244801, 0.953241362410545, 0.8978556114523426, 0.9197750549292392, 0.9135648734988701, 0.9535948719096856, 0.5861150111802271, 0.9580887412934154, 0.9522664268893439, 0.7005330060652515, 0.8605636545139259, 0.8901657218904871, 0.9485387808488379, 0.9187920902542952, 0.8954817679182197, 0.9510335071645966, 0.9404342635651926, 0.5, 0.9544535215259922, 0.9528534339784775, 0.9626688487987829, 0.9379288038395883, 0.5534038986195002, 0.8286667043101421, 0.9474046386539106, 0.6715412933680671, 0.8830589759906463, 0.7263453972187284, 0.9580969771573979]}, {\"categories\": [\"0\", \"1\", \"2\", \"3\", \"4\", \"5\", \"6\", \"7\", \"8\", \"9\", \"10\", \"11\", \"12\", \"13\", \"14\", \"15\", \"16\", \"17\", \"18\", \"19\", \"20\", \"21\", \"22\", \"23\", \"24\", \"25\", \"26\", \"27\", \"28\", \"29\", \"30\", \"31\", \"32\", \"33\", \"34\", \"35\", \"38\"], \"mode\": \"lines\", \"name\": \"recall_score_macro_max\", \"stepped\": true, \"type\": \"scatter\", \"data\": [0.9567350378671231, 0.958232206834553, 0.958232206834553, 0.958232206834553, 0.958232206834553, 0.958232206834553, 0.958232206834553, 0.958232206834553, 0.958232206834553, 0.958232206834553, 0.958232206834553, 0.958232206834553, 0.958232206834553, 0.958232206834553, 0.958232206834553, 0.958232206834553, 0.958232206834553, 0.958232206834553, 0.958232206834553, 0.958232206834553, 0.958232206834553, 0.958232206834553, 0.958232206834553, 0.958232206834553, 0.958232206834553, 0.958232206834553, 0.958232206834553, 0.958232206834553, 0.9626688487987829, 0.9626688487987829, 0.9626688487987829, 0.9626688487987829, 0.9626688487987829, 0.9626688487987829, 0.9626688487987829, 0.9626688487987829, 0.9626688487987829]}], \"f1_score_micro\": [{\"categories\": [\"0\", \"1\", \"2\", \"3\", \"4\", \"5\", \"6\", \"7\", \"8\", \"9\", \"10\", \"11\", \"12\", \"13\", \"14\", \"15\", \"16\", \"17\", \"18\", \"19\", \"20\", \"21\", \"22\", \"23\", \"24\", \"25\", \"26\", \"27\", \"28\", \"29\", \"30\", \"31\", \"32\", \"33\", \"34\", \"35\", \"38\"], \"mode\": \"markers\", \"name\": \"f1_score_micro\", \"stepped\": false, \"type\": \"scatter\", \"data\": [0.9568421052631579, 0.9578947368421054, 0.9178947368421054, 0.7747368421052633, 0.5768421052631579, 0.9494736842105264, 0.9578947368421054, 0.9010526315789473, 0.9389473684210528, 0.9536842105263158, 0.8978947368421053, 0.9199999999999999, 0.9136842105263158, 0.9536842105263157, 0.5673684210526316, 0.9578947368421054, 0.9526315789473685, 0.7010526315789474, 0.8642105263157894, 0.8884210526315789, 0.9494736842105264, 0.9178947368421053, 0.894736842105263, 0.9505263157894737, 0.9400000000000001, 0.4600000000000001, 0.9547368421052631, 0.9526315789473685, 0.9631578947368421, 0.9378947368421053, 0.5705263157894737, 0.828421052631579, 0.9473684210526316, 0.6694736842105262, 0.883157894736842, 0.7126315789473684, 0.9578947368421055]}, {\"categories\": [\"0\", \"1\", \"2\", \"3\", \"4\", \"5\", \"6\", \"7\", \"8\", \"9\", \"10\", \"11\", \"12\", \"13\", \"14\", \"15\", \"16\", \"17\", \"18\", \"19\", \"20\", \"21\", \"22\", \"23\", \"24\", \"25\", \"26\", \"27\", \"28\", \"29\", \"30\", \"31\", \"32\", \"33\", \"34\", \"35\", \"38\"], \"mode\": \"lines\", \"name\": \"f1_score_micro_max\", \"stepped\": true, \"type\": \"scatter\", \"data\": [0.9568421052631579, 0.9578947368421054, 0.9578947368421054, 0.9578947368421054, 0.9578947368421054, 0.9578947368421054, 0.9578947368421054, 0.9578947368421054, 0.9578947368421054, 0.9578947368421054, 0.9578947368421054, 0.9578947368421054, 0.9578947368421054, 0.9578947368421054, 0.9578947368421054, 0.9578947368421054, 0.9578947368421054, 0.9578947368421054, 0.9578947368421054, 0.9578947368421054, 0.9578947368421054, 0.9578947368421054, 0.9578947368421054, 0.9578947368421054, 0.9578947368421054, 0.9578947368421054, 0.9578947368421054, 0.9578947368421054, 0.9631578947368421, 0.9631578947368421, 0.9631578947368421, 0.9631578947368421, 0.9631578947368421, 0.9631578947368421, 0.9631578947368421, 0.9631578947368421, 0.9631578947368421]}], \"recall_score_micro\": [{\"categories\": [\"0\", \"1\", \"2\", \"3\", \"4\", \"5\", \"6\", \"7\", \"8\", \"9\", \"10\", \"11\", \"12\", \"13\", \"14\", \"15\", \"16\", \"17\", \"18\", \"19\", \"20\", \"21\", \"22\", \"23\", \"24\", \"25\", \"26\", \"27\", \"28\", \"29\", \"30\", \"31\", \"32\", \"33\", \"34\", \"35\", \"38\"], \"mode\": \"markers\", \"name\": \"recall_score_micro\", \"stepped\": false, \"type\": \"scatter\", \"data\": [0.9568421052631579, 0.9578947368421054, 0.9178947368421054, 0.7747368421052632, 0.5768421052631579, 0.9494736842105264, 0.9578947368421054, 0.9010526315789473, 0.9389473684210528, 0.9536842105263158, 0.8978947368421053, 0.9199999999999999, 0.9136842105263158, 0.9536842105263157, 0.5673684210526316, 0.9578947368421054, 0.9526315789473685, 0.7010526315789474, 0.8642105263157894, 0.8884210526315789, 0.9494736842105264, 0.9178947368421053, 0.894736842105263, 0.9505263157894737, 0.9400000000000001, 0.4600000000000001, 0.9547368421052631, 0.9526315789473685, 0.9631578947368421, 0.9378947368421053, 0.5705263157894737, 0.828421052631579, 0.9473684210526316, 0.6694736842105262, 0.883157894736842, 0.7126315789473684, 0.9578947368421055]}, {\"categories\": [\"0\", \"1\", \"2\", \"3\", \"4\", \"5\", \"6\", \"7\", \"8\", \"9\", \"10\", \"11\", \"12\", \"13\", \"14\", \"15\", \"16\", \"17\", \"18\", \"19\", \"20\", \"21\", \"22\", \"23\", \"24\", \"25\", \"26\", \"27\", \"28\", \"29\", \"30\", \"31\", \"32\", \"33\", \"34\", \"35\", \"38\"], \"mode\": \"lines\", \"name\": \"recall_score_micro_max\", \"stepped\": true, \"type\": \"scatter\", \"data\": [0.9568421052631579, 0.9578947368421054, 0.9578947368421054, 0.9578947368421054, 0.9578947368421054, 0.9578947368421054, 0.9578947368421054, 0.9578947368421054, 0.9578947368421054, 0.9578947368421054, 0.9578947368421054, 0.9578947368421054, 0.9578947368421054, 0.9578947368421054, 0.9578947368421054, 0.9578947368421054, 0.9578947368421054, 0.9578947368421054, 0.9578947368421054, 0.9578947368421054, 0.9578947368421054, 0.9578947368421054, 0.9578947368421054, 0.9578947368421054, 0.9578947368421054, 0.9578947368421054, 0.9578947368421054, 0.9578947368421054, 0.9631578947368421, 0.9631578947368421, 0.9631578947368421, 0.9631578947368421, 0.9631578947368421, 0.9631578947368421, 0.9631578947368421, 0.9631578947368421, 0.9631578947368421]}], \"balanced_accuracy\": [{\"categories\": [\"0\", \"1\", \"2\", \"3\", \"4\", \"5\", \"6\", \"7\", \"8\", \"9\", \"10\", \"11\", \"12\", \"13\", \"14\", \"15\", \"16\", \"17\", \"18\", \"19\", \"20\", \"21\", \"22\", \"23\", \"24\", \"25\", \"26\", \"27\", \"28\", \"29\", \"30\", \"31\", \"32\", \"33\", \"34\", \"35\", \"38\"], \"mode\": \"markers\", \"name\": \"balanced_accuracy\", \"stepped\": false, \"type\": \"scatter\", \"data\": [0.9567350378671231, 0.958232206834553, 0.9183638110792162, 0.7740293562405872, 0.5983944179649262, 0.9490059596222306, 0.956910312088547, 0.9018680931645082, 0.9381452179244801, 0.953241362410545, 0.8978556114523426, 0.9197750549292392, 0.9135648734988701, 0.9535948719096856, 0.5861150111802271, 0.9580887412934154, 0.9522664268893439, 0.7005330060652515, 0.8605636545139259, 0.8901657218904871, 0.9485387808488379, 0.9187920902542952, 0.8954817679182197, 0.9510335071645966, 0.9404342635651926, 0.5, 0.9544535215259922, 0.9528534339784775, 0.9626688487987829, 0.9379288038395883, 0.5534038986195002, 0.8286667043101421, 0.9474046386539106, 0.6715412933680671, 0.8830589759906463, 0.7263453972187284, 0.9580969771573979]}, {\"categories\": [\"0\", \"1\", \"2\", \"3\", \"4\", \"5\", \"6\", \"7\", \"8\", \"9\", \"10\", \"11\", \"12\", \"13\", \"14\", \"15\", \"16\", \"17\", \"18\", \"19\", \"20\", \"21\", \"22\", \"23\", \"24\", \"25\", \"26\", \"27\", \"28\", \"29\", \"30\", \"31\", \"32\", \"33\", \"34\", \"35\", \"38\"], \"mode\": \"lines\", \"name\": \"balanced_accuracy_max\", \"stepped\": true, \"type\": \"scatter\", \"data\": [0.9567350378671231, 0.958232206834553, 0.958232206834553, 0.958232206834553, 0.958232206834553, 0.958232206834553, 0.958232206834553, 0.958232206834553, 0.958232206834553, 0.958232206834553, 0.958232206834553, 0.958232206834553, 0.958232206834553, 0.958232206834553, 0.958232206834553, 0.958232206834553, 0.958232206834553, 0.958232206834553, 0.958232206834553, 0.958232206834553, 0.958232206834553, 0.958232206834553, 0.958232206834553, 0.958232206834553, 0.958232206834553, 0.958232206834553, 0.958232206834553, 0.958232206834553, 0.9626688487987829, 0.9626688487987829, 0.9626688487987829, 0.9626688487987829, 0.9626688487987829, 0.9626688487987829, 0.9626688487987829, 0.9626688487987829, 0.9626688487987829]}], \"precision_score_micro\": [{\"categories\": [\"0\", \"1\", \"2\", \"3\", \"4\", \"5\", \"6\", \"7\", \"8\", \"9\", \"10\", \"11\", \"12\", \"13\", \"14\", \"15\", \"16\", \"17\", \"18\", \"19\", \"20\", \"21\", \"22\", \"23\", \"24\", \"25\", \"26\", \"27\", \"28\", \"29\", \"30\", \"31\", \"32\", \"33\", \"34\", \"35\", \"38\"], \"mode\": \"markers\", \"name\": \"precision_score_micro\", \"stepped\": false, \"type\": \"scatter\", \"data\": [0.9568421052631579, 0.9578947368421054, 0.9178947368421054, 0.7747368421052632, 0.5768421052631579, 0.9494736842105264, 0.9578947368421054, 0.9010526315789473, 0.9389473684210528, 0.9536842105263158, 0.8978947368421053, 0.9199999999999999, 0.9136842105263158, 0.9536842105263157, 0.5673684210526316, 0.9578947368421054, 0.9526315789473685, 0.7010526315789474, 0.8642105263157894, 0.8884210526315789, 0.9494736842105264, 0.9178947368421053, 0.894736842105263, 0.9505263157894737, 0.9400000000000001, 0.4600000000000001, 0.9547368421052631, 0.9526315789473685, 0.9631578947368421, 0.9378947368421053, 0.5705263157894737, 0.828421052631579, 0.9473684210526316, 0.6694736842105262, 0.883157894736842, 0.7126315789473684, 0.9578947368421055]}, {\"categories\": [\"0\", \"1\", \"2\", \"3\", \"4\", \"5\", \"6\", \"7\", \"8\", \"9\", \"10\", \"11\", \"12\", \"13\", \"14\", \"15\", \"16\", \"17\", \"18\", \"19\", \"20\", \"21\", \"22\", \"23\", \"24\", \"25\", \"26\", \"27\", \"28\", \"29\", \"30\", \"31\", \"32\", \"33\", \"34\", \"35\", \"38\"], \"mode\": \"lines\", \"name\": \"precision_score_micro_max\", \"stepped\": true, \"type\": \"scatter\", \"data\": [0.9568421052631579, 0.9578947368421054, 0.9578947368421054, 0.9578947368421054, 0.9578947368421054, 0.9578947368421054, 0.9578947368421054, 0.9578947368421054, 0.9578947368421054, 0.9578947368421054, 0.9578947368421054, 0.9578947368421054, 0.9578947368421054, 0.9578947368421054, 0.9578947368421054, 0.9578947368421054, 0.9578947368421054, 0.9578947368421054, 0.9578947368421054, 0.9578947368421054, 0.9578947368421054, 0.9578947368421054, 0.9578947368421054, 0.9578947368421054, 0.9578947368421054, 0.9578947368421054, 0.9578947368421054, 0.9578947368421054, 0.9631578947368421, 0.9631578947368421, 0.9631578947368421, 0.9631578947368421, 0.9631578947368421, 0.9631578947368421, 0.9631578947368421, 0.9631578947368421, 0.9631578947368421]}], \"AUC_weighted\": [{\"categories\": [\"0\", \"1\", \"2\", \"3\", \"4\", \"5\", \"6\", \"7\", \"8\", \"9\", \"10\", \"11\", \"12\", \"13\", \"14\", \"15\", \"16\", \"17\", \"18\", \"19\", \"20\", \"21\", \"22\", \"23\", \"24\", \"25\", \"26\", \"27\", \"28\", \"29\", \"30\", \"31\", \"32\", \"33\", \"34\", \"35\", \"38\"], \"mode\": \"markers\", \"name\": \"AUC_weighted\", \"stepped\": false, \"type\": \"scatter\", \"data\": [0.9887682208043547, 0.9890835398283542, 0.9689112118111847, 0.7898348281767076, 0.5819281638999401, 0.988591041208147, 0.9906552212792586, 0.9599355835628669, 0.9849322453192135, 0.989755699033344, 0.9520463010535313, 0.9753019229825577, 0.9720452292846004, 0.9863239014749284, 0.5922877609197317, 0.9879242380576244, 0.9894398012570846, 0.7499815789956691, 0.8748420327176906, 0.9502956086643746, 0.9861275134161659, 0.9717718192140437, 0.9565656812679194, 0.9878806929263192, 0.9853768758095205, 0.5, 0.9901323550267007, 0.9883858702891557, 0.9879687471729349, 0.9859060197954157, 0.5832106765886941, 0.8991873486903679, 0.9872222426647973, 0.7585657311873972, 0.9484950994989138, 0.872355759222115, 0.9921302508634045]}, {\"categories\": [\"0\", \"1\", \"2\", \"3\", \"4\", \"5\", \"6\", \"7\", \"8\", \"9\", \"10\", \"11\", \"12\", \"13\", \"14\", \"15\", \"16\", \"17\", \"18\", \"19\", \"20\", \"21\", \"22\", \"23\", \"24\", \"25\", \"26\", \"27\", \"28\", \"29\", \"30\", \"31\", \"32\", \"33\", \"34\", \"35\", \"38\"], \"mode\": \"lines\", \"name\": \"AUC_weighted_max\", \"stepped\": true, \"type\": \"scatter\", \"data\": [0.9887682208043547, 0.9890835398283542, 0.9890835398283542, 0.9890835398283542, 0.9890835398283542, 0.9890835398283542, 0.9906552212792586, 0.9906552212792586, 0.9906552212792586, 0.9906552212792586, 0.9906552212792586, 0.9906552212792586, 0.9906552212792586, 0.9906552212792586, 0.9906552212792586, 0.9906552212792586, 0.9906552212792586, 0.9906552212792586, 0.9906552212792586, 0.9906552212792586, 0.9906552212792586, 0.9906552212792586, 0.9906552212792586, 0.9906552212792586, 0.9906552212792586, 0.9906552212792586, 0.9906552212792586, 0.9906552212792586, 0.9906552212792586, 0.9906552212792586, 0.9906552212792586, 0.9906552212792586, 0.9906552212792586, 0.9906552212792586, 0.9906552212792586, 0.9906552212792586, 0.9921302508634045]}], \"precision_score_weighted\": [{\"categories\": [\"0\", \"1\", \"2\", \"3\", \"4\", \"5\", \"6\", \"7\", \"8\", \"9\", \"10\", \"11\", \"12\", \"13\", \"14\", \"15\", \"16\", \"17\", \"18\", \"19\", \"20\", \"21\", \"22\", \"23\", \"24\", \"25\", \"26\", \"27\", \"28\", \"29\", \"30\", \"31\", \"32\", \"33\", \"34\", \"35\", \"38\"], \"mode\": \"markers\", \"name\": \"precision_score_weighted\", \"stepped\": false, \"type\": \"scatter\", \"data\": [0.9580599388489789, 0.9591400557067988, 0.9199058027415534, 0.7806070701072096, 0.5101065994318384, 0.9499570429663556, 0.959045316565651, 0.9065213607162047, 0.9409580233287219, 0.9556795811322744, 0.8987092564086406, 0.923011770012736, 0.9167930594017498, 0.9548860356854612, 0.5763244978575226, 0.9592788714935215, 0.9544109960276094, 0.7098158808776631, 0.8684184548573135, 0.8922930212998251, 0.9507534867671099, 0.9205888287367348, 0.8988596110961563, 0.9517423393583233, 0.9423616570669715, 0.21268698060941826, 0.9559875342601034, 0.9544407139251379, 0.9644601270665067, 0.9393269931324666, 0.5238024126052981, 0.837047915217652, 0.9485660038436123, 0.6827928515143192, 0.8843786232723596, 0.778370787829935, 0.9589855617294374]}, {\"categories\": [\"0\", \"1\", \"2\", \"3\", \"4\", \"5\", \"6\", \"7\", \"8\", \"9\", \"10\", \"11\", \"12\", \"13\", \"14\", \"15\", \"16\", \"17\", \"18\", \"19\", \"20\", \"21\", \"22\", \"23\", \"24\", \"25\", \"26\", \"27\", \"28\", \"29\", \"30\", \"31\", \"32\", \"33\", \"34\", \"35\", \"38\"], \"mode\": \"lines\", \"name\": \"precision_score_weighted_max\", \"stepped\": true, \"type\": \"scatter\", \"data\": [0.9580599388489789, 0.9591400557067988, 0.9591400557067988, 0.9591400557067988, 0.9591400557067988, 0.9591400557067988, 0.9591400557067988, 0.9591400557067988, 0.9591400557067988, 0.9591400557067988, 0.9591400557067988, 0.9591400557067988, 0.9591400557067988, 0.9591400557067988, 0.9591400557067988, 0.9592788714935215, 0.9592788714935215, 0.9592788714935215, 0.9592788714935215, 0.9592788714935215, 0.9592788714935215, 0.9592788714935215, 0.9592788714935215, 0.9592788714935215, 0.9592788714935215, 0.9592788714935215, 0.9592788714935215, 0.9592788714935215, 0.9644601270665067, 0.9644601270665067, 0.9644601270665067, 0.9644601270665067, 0.9644601270665067, 0.9644601270665067, 0.9644601270665067, 0.9644601270665067, 0.9644601270665067]}], \"AUC_macro\": [{\"categories\": [\"0\", \"1\", \"2\", \"3\", \"4\", \"5\", \"6\", \"7\", \"8\", \"9\", \"10\", \"11\", \"12\", \"13\", \"14\", \"15\", \"16\", \"17\", \"18\", \"19\", \"20\", \"21\", \"22\", \"23\", \"24\", \"25\", \"26\", \"27\", \"28\", \"29\", \"30\", \"31\", \"32\", \"33\", \"34\", \"35\", \"38\"], \"mode\": \"markers\", \"name\": \"AUC_macro\", \"stepped\": false, \"type\": \"scatter\", \"data\": [0.9887682208043547, 0.9890835398283542, 0.9689112118111847, 0.7898348281767076, 0.5819281638999401, 0.988591041208147, 0.9906552212792586, 0.9599355835628669, 0.9849322453192135, 0.9897556990333438, 0.9520463010535313, 0.9753019229825577, 0.9720452292846004, 0.9863239014749284, 0.5922877609197317, 0.9879242380576244, 0.9894398012570846, 0.749981578995669, 0.8748420327176906, 0.9502956086643746, 0.9861275134161659, 0.9717718192140437, 0.9565656812679194, 0.9878806929263192, 0.9853768758095205, 0.5, 0.9901323550267008, 0.9883858702891557, 0.9879687471729349, 0.9859060197954157, 0.5832106765886941, 0.899187348690368, 0.9872222426647973, 0.7585657311873972, 0.9484950994989138, 0.872355759222115, 0.9921302508634045]}, {\"categories\": [\"0\", \"1\", \"2\", \"3\", \"4\", \"5\", \"6\", \"7\", \"8\", \"9\", \"10\", \"11\", \"12\", \"13\", \"14\", \"15\", \"16\", \"17\", \"18\", \"19\", \"20\", \"21\", \"22\", \"23\", \"24\", \"25\", \"26\", \"27\", \"28\", \"29\", \"30\", \"31\", \"32\", \"33\", \"34\", \"35\", \"38\"], \"mode\": \"lines\", \"name\": \"AUC_macro_max\", \"stepped\": true, \"type\": \"scatter\", \"data\": [0.9887682208043547, 0.9890835398283542, 0.9890835398283542, 0.9890835398283542, 0.9890835398283542, 0.9890835398283542, 0.9906552212792586, 0.9906552212792586, 0.9906552212792586, 0.9906552212792586, 0.9906552212792586, 0.9906552212792586, 0.9906552212792586, 0.9906552212792586, 0.9906552212792586, 0.9906552212792586, 0.9906552212792586, 0.9906552212792586, 0.9906552212792586, 0.9906552212792586, 0.9906552212792586, 0.9906552212792586, 0.9906552212792586, 0.9906552212792586, 0.9906552212792586, 0.9906552212792586, 0.9906552212792586, 0.9906552212792586, 0.9906552212792586, 0.9906552212792586, 0.9906552212792586, 0.9906552212792586, 0.9906552212792586, 0.9906552212792586, 0.9906552212792586, 0.9906552212792586, 0.9921302508634045]}], \"f1_score_weighted\": [{\"categories\": [\"0\", \"1\", \"2\", \"3\", \"4\", \"5\", \"6\", \"7\", \"8\", \"9\", \"10\", \"11\", \"12\", \"13\", \"14\", \"15\", \"16\", \"17\", \"18\", \"19\", \"20\", \"21\", \"22\", \"23\", \"24\", \"25\", \"26\", \"27\", \"28\", \"29\", \"30\", \"31\", \"32\", \"33\", \"34\", \"35\", \"38\"], \"mode\": \"markers\", \"name\": \"f1_score_weighted\", \"stepped\": false, \"type\": \"scatter\", \"data\": [0.9568265383611874, 0.9579059240253349, 0.9179251965845656, 0.7667147980642152, 0.4972323735561567, 0.9494603884857616, 0.9578018818273921, 0.9008769589792479, 0.9388360680414278, 0.9536201238298586, 0.8979239994601848, 0.9198635292266975, 0.9136160232145434, 0.9536590307546264, 0.4847180093440782, 0.9578635976295276, 0.9525736526140337, 0.6983424310945208, 0.8622559104520621, 0.8884746191482783, 0.9494275344309668, 0.9179222342522932, 0.8947216920060697, 0.950534782724789, 0.9399562122023053, 0.2905599701205139, 0.9546967042217585, 0.9526149634618054, 0.9630946138934892, 0.9378726883526436, 0.5240519912572495, 0.8277771270015435, 0.9473522938401008, 0.666441766079229, 0.8831963282243, 0.6966342595040605, 0.9578927257699872]}, {\"categories\": [\"0\", \"1\", \"2\", \"3\", \"4\", \"5\", \"6\", \"7\", \"8\", \"9\", \"10\", \"11\", \"12\", \"13\", \"14\", \"15\", \"16\", \"17\", \"18\", \"19\", \"20\", \"21\", \"22\", \"23\", \"24\", \"25\", \"26\", \"27\", \"28\", \"29\", \"30\", \"31\", \"32\", \"33\", \"34\", \"35\", \"38\"], \"mode\": \"lines\", \"name\": \"f1_score_weighted_max\", \"stepped\": true, \"type\": \"scatter\", \"data\": [0.9568265383611874, 0.9579059240253349, 0.9579059240253349, 0.9579059240253349, 0.9579059240253349, 0.9579059240253349, 0.9579059240253349, 0.9579059240253349, 0.9579059240253349, 0.9579059240253349, 0.9579059240253349, 0.9579059240253349, 0.9579059240253349, 0.9579059240253349, 0.9579059240253349, 0.9579059240253349, 0.9579059240253349, 0.9579059240253349, 0.9579059240253349, 0.9579059240253349, 0.9579059240253349, 0.9579059240253349, 0.9579059240253349, 0.9579059240253349, 0.9579059240253349, 0.9579059240253349, 0.9579059240253349, 0.9579059240253349, 0.9630946138934892, 0.9630946138934892, 0.9630946138934892, 0.9630946138934892, 0.9630946138934892, 0.9630946138934892, 0.9630946138934892, 0.9630946138934892, 0.9630946138934892]}], \"accuracy\": [{\"categories\": [\"0\", \"1\", \"2\", \"3\", \"4\", \"5\", \"6\", \"7\", \"8\", \"9\", \"10\", \"11\", \"12\", \"13\", \"14\", \"15\", \"16\", \"17\", \"18\", \"19\", \"20\", \"21\", \"22\", \"23\", \"24\", \"25\", \"26\", \"27\", \"28\", \"29\", \"30\", \"31\", \"32\", \"33\", \"34\", \"35\", \"38\"], \"mode\": \"markers\", \"name\": \"accuracy\", \"stepped\": false, \"type\": \"scatter\", \"data\": [0.9568421052631579, 0.9578947368421054, 0.9178947368421054, 0.7747368421052632, 0.5768421052631579, 0.9494736842105264, 0.9578947368421054, 0.9010526315789473, 0.9389473684210528, 0.9536842105263158, 0.8978947368421053, 0.9199999999999999, 0.9136842105263158, 0.9536842105263157, 0.5673684210526316, 0.9578947368421054, 0.9526315789473685, 0.7010526315789474, 0.8642105263157894, 0.8884210526315789, 0.9494736842105264, 0.9178947368421053, 0.894736842105263, 0.9505263157894737, 0.9400000000000001, 0.4600000000000001, 0.9547368421052631, 0.9526315789473685, 0.9631578947368421, 0.9378947368421053, 0.5705263157894737, 0.828421052631579, 0.9473684210526316, 0.6694736842105262, 0.883157894736842, 0.7126315789473684, 0.9578947368421055]}, {\"categories\": [\"0\", \"1\", \"2\", \"3\", \"4\", \"5\", \"6\", \"7\", \"8\", \"9\", \"10\", \"11\", \"12\", \"13\", \"14\", \"15\", \"16\", \"17\", \"18\", \"19\", \"20\", \"21\", \"22\", \"23\", \"24\", \"25\", \"26\", \"27\", \"28\", \"29\", \"30\", \"31\", \"32\", \"33\", \"34\", \"35\", \"38\"], \"mode\": \"lines\", \"name\": \"accuracy_max\", \"stepped\": true, \"type\": \"scatter\", \"data\": [0.9568421052631579, 0.9578947368421054, 0.9578947368421054, 0.9578947368421054, 0.9578947368421054, 0.9578947368421054, 0.9578947368421054, 0.9578947368421054, 0.9578947368421054, 0.9578947368421054, 0.9578947368421054, 0.9578947368421054, 0.9578947368421054, 0.9578947368421054, 0.9578947368421054, 0.9578947368421054, 0.9578947368421054, 0.9578947368421054, 0.9578947368421054, 0.9578947368421054, 0.9578947368421054, 0.9578947368421054, 0.9578947368421054, 0.9578947368421054, 0.9578947368421054, 0.9578947368421054, 0.9578947368421054, 0.9578947368421054, 0.9631578947368421, 0.9631578947368421, 0.9631578947368421, 0.9631578947368421, 0.9631578947368421, 0.9631578947368421, 0.9631578947368421, 0.9631578947368421, 0.9631578947368421]}], \"log_loss\": [{\"categories\": [\"0\", \"1\", \"2\", \"3\", \"4\", \"5\", \"6\", \"7\", \"8\", \"9\", \"10\", \"11\", \"12\", \"13\", \"14\", \"15\", \"16\", \"17\", \"18\", \"19\", \"20\", \"21\", \"22\", \"23\", \"24\", \"25\", \"26\", \"27\", \"28\", \"29\", \"30\", \"31\", \"32\", \"33\", \"34\", \"35\", \"38\"], \"mode\": \"markers\", \"name\": \"log_loss\", \"stepped\": false, \"type\": \"scatter\", \"data\": [0.16661740787471158, 0.13282605202069755, 0.4219476504248366, 0.6734022382652947, 0.6804033949076708, 0.17466698701039332, 0.19219960733834013, 0.5085736136400912, 0.32130768515806896, 0.3072183134321963, 0.49293748345228866, 0.33271057764146605, 0.5934947130642658, 0.31121543286399644, 0.6839718298370406, 0.1808061003482942, 0.19391460297769916, 0.6832066623470867, 0.6543923612752177, 0.32069953107331095, 0.1577487533860995, 0.2217383687026599, 0.28426139685166174, 0.32483865416527546, 0.2880002599282651, 0.6942924307139264, 0.24834067874777638, 0.2736793316703003, 0.4303830394781295, 0.2554690416738142, 0.6918480833794316, 0.5310861763141072, 0.3090968869574421, 0.6526033118235037, 0.28936168925398364, 0.6774869137986879, 0.2143155566795027]}, {\"categories\": [\"0\", \"1\", \"2\", \"3\", \"4\", \"5\", \"6\", \"7\", \"8\", \"9\", \"10\", \"11\", \"12\", \"13\", \"14\", \"15\", \"16\", \"17\", \"18\", \"19\", \"20\", \"21\", \"22\", \"23\", \"24\", \"25\", \"26\", \"27\", \"28\", \"29\", \"30\", \"31\", \"32\", \"33\", \"34\", \"35\", \"38\"], \"mode\": \"lines\", \"name\": \"log_loss_min\", \"stepped\": true, \"type\": \"scatter\", \"data\": [0.16661740787471158, 0.13282605202069755, 0.13282605202069755, 0.13282605202069755, 0.13282605202069755, 0.13282605202069755, 0.13282605202069755, 0.13282605202069755, 0.13282605202069755, 0.13282605202069755, 0.13282605202069755, 0.13282605202069755, 0.13282605202069755, 0.13282605202069755, 0.13282605202069755, 0.13282605202069755, 0.13282605202069755, 0.13282605202069755, 0.13282605202069755, 0.13282605202069755, 0.13282605202069755, 0.13282605202069755, 0.13282605202069755, 0.13282605202069755, 0.13282605202069755, 0.13282605202069755, 0.13282605202069755, 0.13282605202069755, 0.13282605202069755, 0.13282605202069755, 0.13282605202069755, 0.13282605202069755, 0.13282605202069755, 0.13282605202069755, 0.13282605202069755, 0.13282605202069755, 0.13282605202069755]}], \"weighted_accuracy\": [{\"categories\": [\"0\", \"1\", \"2\", \"3\", \"4\", \"5\", \"6\", \"7\", \"8\", \"9\", \"10\", \"11\", \"12\", \"13\", \"14\", \"15\", \"16\", \"17\", \"18\", \"19\", \"20\", \"21\", \"22\", \"23\", \"24\", \"25\", \"26\", \"27\", \"28\", \"29\", \"30\", \"31\", \"32\", \"33\", \"34\", \"35\", \"38\"], \"mode\": \"markers\", \"name\": \"weighted_accuracy\", \"stepped\": false, \"type\": \"scatter\", \"data\": [0.956932311071359, 0.957550897236193, 0.9174514334629251, 0.7753287690602155, 0.556082261780636, 0.9499056641296908, 0.9587991603372966, 0.9002203982090791, 0.9396940578468186, 0.954072407301776, 0.8979236412542562, 0.9201865157641343, 0.9137647103292448, 0.9537447306972803, 0.5493054325925257, 0.9576683490143327, 0.9529532624076948, 0.701477280601926, 0.8676614804779502, 0.8867056824191899, 0.9503610130022784, 0.9170113437553304, 0.8939761487873344, 0.9500086970511573, 0.9395573060366234, 0.42147972747679086, 0.9549757145632333, 0.9523807995766198, 0.9635867426996532, 0.9378369301485833, 0.5867184738094171, 0.8281079211346338, 0.9473197106570383, 0.6673983503795521, 0.8832352431471346, 0.6992996632457763, 0.9576776997656384]}, {\"categories\": [\"0\", \"1\", \"2\", \"3\", \"4\", \"5\", \"6\", \"7\", \"8\", \"9\", \"10\", \"11\", \"12\", \"13\", \"14\", \"15\", \"16\", \"17\", \"18\", \"19\", \"20\", \"21\", \"22\", \"23\", \"24\", \"25\", \"26\", \"27\", \"28\", \"29\", \"30\", \"31\", \"32\", \"33\", \"34\", \"35\", \"38\"], \"mode\": \"lines\", \"name\": \"weighted_accuracy_max\", \"stepped\": true, \"type\": \"scatter\", \"data\": [0.956932311071359, 0.957550897236193, 0.957550897236193, 0.957550897236193, 0.957550897236193, 0.957550897236193, 0.9587991603372966, 0.9587991603372966, 0.9587991603372966, 0.9587991603372966, 0.9587991603372966, 0.9587991603372966, 0.9587991603372966, 0.9587991603372966, 0.9587991603372966, 0.9587991603372966, 0.9587991603372966, 0.9587991603372966, 0.9587991603372966, 0.9587991603372966, 0.9587991603372966, 0.9587991603372966, 0.9587991603372966, 0.9587991603372966, 0.9587991603372966, 0.9587991603372966, 0.9587991603372966, 0.9587991603372966, 0.9635867426996532, 0.9635867426996532, 0.9635867426996532, 0.9635867426996532, 0.9635867426996532, 0.9635867426996532, 0.9635867426996532, 0.9635867426996532, 0.9635867426996532]}], \"f1_score_macro\": [{\"categories\": [\"0\", \"1\", \"2\", \"3\", \"4\", \"5\", \"6\", \"7\", \"8\", \"9\", \"10\", \"11\", \"12\", \"13\", \"14\", \"15\", \"16\", \"17\", \"18\", \"19\", \"20\", \"21\", \"22\", \"23\", \"24\", \"25\", \"26\", \"27\", \"28\", \"29\", \"30\", \"31\", \"32\", \"33\", \"34\", \"35\", \"38\"], \"mode\": \"markers\", \"name\": \"f1_score_macro\", \"stepped\": false, \"type\": \"scatter\", \"data\": [0.9563501662982242, 0.9574158039296388, 0.9171626342529852, 0.7659229104649858, 0.508572280647426, 0.9488623273998333, 0.9572552499496313, 0.9001423908076855, 0.9381157457407381, 0.9531324426207615, 0.8971267609800069, 0.9191185653740931, 0.9127255796563702, 0.9531243840879705, 0.4954898715134674, 0.9573573316351478, 0.9520673381904, 0.6956709757263296, 0.8599867898444067, 0.8877738114798988, 0.9488673853742707, 0.9172744930079311, 0.893924805936711, 0.9500487409029887, 0.9394138842260189, 0.31472001493974305, 0.9540957922293151, 0.9520468898362514, 0.9626575585871328, 0.9372360317738563, 0.5121752485040906, 0.8264381486243835, 0.9467794483152945, 0.6647146008314782, 0.8820185343148029, 0.6998026571246376, 0.9574109717037897]}, {\"categories\": [\"0\", \"1\", \"2\", \"3\", \"4\", \"5\", \"6\", \"7\", \"8\", \"9\", \"10\", \"11\", \"12\", \"13\", \"14\", \"15\", \"16\", \"17\", \"18\", \"19\", \"20\", \"21\", \"22\", \"23\", \"24\", \"25\", \"26\", \"27\", \"28\", \"29\", \"30\", \"31\", \"32\", \"33\", \"34\", \"35\", \"38\"], \"mode\": \"lines\", \"name\": \"f1_score_macro_max\", \"stepped\": true, \"type\": \"scatter\", \"data\": [0.9563501662982242, 0.9574158039296388, 0.9574158039296388, 0.9574158039296388, 0.9574158039296388, 0.9574158039296388, 0.9574158039296388, 0.9574158039296388, 0.9574158039296388, 0.9574158039296388, 0.9574158039296388, 0.9574158039296388, 0.9574158039296388, 0.9574158039296388, 0.9574158039296388, 0.9574158039296388, 0.9574158039296388, 0.9574158039296388, 0.9574158039296388, 0.9574158039296388, 0.9574158039296388, 0.9574158039296388, 0.9574158039296388, 0.9574158039296388, 0.9574158039296388, 0.9574158039296388, 0.9574158039296388, 0.9574158039296388, 0.9626575585871328, 0.9626575585871328, 0.9626575585871328, 0.9626575585871328, 0.9626575585871328, 0.9626575585871328, 0.9626575585871328, 0.9626575585871328, 0.9626575585871328]}], \"average_precision_score_macro\": [{\"categories\": [\"0\", \"1\", \"2\", \"3\", \"4\", \"5\", \"6\", \"7\", \"8\", \"9\", \"10\", \"11\", \"12\", \"13\", \"14\", \"15\", \"16\", \"17\", \"18\", \"19\", \"20\", \"21\", \"22\", \"23\", \"24\", \"25\", \"26\", \"27\", \"28\", \"29\", \"30\", \"31\", \"32\", \"33\", \"34\", \"35\", \"38\"], \"mode\": \"markers\", \"name\": \"average_precision_score_macro\", \"stepped\": false, \"type\": \"scatter\", \"data\": [0.9887046855159582, 0.9891143932718591, 0.9679875353505935, 0.7839712068803818, 0.5926744407381064, 0.9888127362206243, 0.9904977696040982, 0.9588331630065922, 0.9853504939081551, 0.9899970981487648, 0.9530048267433215, 0.9756488375591058, 0.9696119142174083, 0.985098648958487, 0.5898908160231291, 0.9880655288376294, 0.9883806760068385, 0.7578828452750435, 0.8467513227221156, 0.9504233901873637, 0.9868106994281843, 0.9727687561313643, 0.956813956529086, 0.9878503389862704, 0.9855610144835645, 0.5, 0.9900408217766603, 0.9884270415863687, 0.9875172957671318, 0.9863433032087178, 0.5805326472965329, 0.8851219206567352, 0.9873029831205447, 0.7571042967905465, 0.9488633387218446, 0.8785326782968692, 0.992164272486689]}, {\"categories\": [\"0\", \"1\", \"2\", \"3\", \"4\", \"5\", \"6\", \"7\", \"8\", \"9\", \"10\", \"11\", \"12\", \"13\", \"14\", \"15\", \"16\", \"17\", \"18\", \"19\", \"20\", \"21\", \"22\", \"23\", \"24\", \"25\", \"26\", \"27\", \"28\", \"29\", \"30\", \"31\", \"32\", \"33\", \"34\", \"35\", \"38\"], \"mode\": \"lines\", \"name\": \"average_precision_score_macro_max\", \"stepped\": true, \"type\": \"scatter\", \"data\": [0.9887046855159582, 0.9891143932718591, 0.9891143932718591, 0.9891143932718591, 0.9891143932718591, 0.9891143932718591, 0.9904977696040982, 0.9904977696040982, 0.9904977696040982, 0.9904977696040982, 0.9904977696040982, 0.9904977696040982, 0.9904977696040982, 0.9904977696040982, 0.9904977696040982, 0.9904977696040982, 0.9904977696040982, 0.9904977696040982, 0.9904977696040982, 0.9904977696040982, 0.9904977696040982, 0.9904977696040982, 0.9904977696040982, 0.9904977696040982, 0.9904977696040982, 0.9904977696040982, 0.9904977696040982, 0.9904977696040982, 0.9904977696040982, 0.9904977696040982, 0.9904977696040982, 0.9904977696040982, 0.9904977696040982, 0.9904977696040982, 0.9904977696040982, 0.9904977696040982, 0.992164272486689]}], \"recall_score_weighted\": [{\"categories\": [\"0\", \"1\", \"2\", \"3\", \"4\", \"5\", \"6\", \"7\", \"8\", \"9\", \"10\", \"11\", \"12\", \"13\", \"14\", \"15\", \"16\", \"17\", \"18\", \"19\", \"20\", \"21\", \"22\", \"23\", \"24\", \"25\", \"26\", \"27\", \"28\", \"29\", \"30\", \"31\", \"32\", \"33\", \"34\", \"35\", \"38\"], \"mode\": \"markers\", \"name\": \"recall_score_weighted\", \"stepped\": false, \"type\": \"scatter\", \"data\": [0.9568421052631579, 0.9578947368421054, 0.9178947368421054, 0.7747368421052632, 0.5768421052631579, 0.9494736842105264, 0.9578947368421054, 0.9010526315789473, 0.9389473684210528, 0.9536842105263158, 0.8978947368421053, 0.9199999999999999, 0.9136842105263158, 0.9536842105263157, 0.5673684210526316, 0.9578947368421054, 0.9526315789473685, 0.7010526315789474, 0.8642105263157894, 0.8884210526315789, 0.9494736842105264, 0.9178947368421053, 0.894736842105263, 0.9505263157894737, 0.9400000000000001, 0.4600000000000001, 0.9547368421052631, 0.9526315789473685, 0.9631578947368421, 0.9378947368421053, 0.5705263157894737, 0.828421052631579, 0.9473684210526316, 0.6694736842105262, 0.883157894736842, 0.7126315789473684, 0.9578947368421055]}, {\"categories\": [\"0\", \"1\", \"2\", \"3\", \"4\", \"5\", \"6\", \"7\", \"8\", \"9\", \"10\", \"11\", \"12\", \"13\", \"14\", \"15\", \"16\", \"17\", \"18\", \"19\", \"20\", \"21\", \"22\", \"23\", \"24\", \"25\", \"26\", \"27\", \"28\", \"29\", \"30\", \"31\", \"32\", \"33\", \"34\", \"35\", \"38\"], \"mode\": \"lines\", \"name\": \"recall_score_weighted_max\", \"stepped\": true, \"type\": \"scatter\", \"data\": [0.9568421052631579, 0.9578947368421054, 0.9578947368421054, 0.9578947368421054, 0.9578947368421054, 0.9578947368421054, 0.9578947368421054, 0.9578947368421054, 0.9578947368421054, 0.9578947368421054, 0.9578947368421054, 0.9578947368421054, 0.9578947368421054, 0.9578947368421054, 0.9578947368421054, 0.9578947368421054, 0.9578947368421054, 0.9578947368421054, 0.9578947368421054, 0.9578947368421054, 0.9578947368421054, 0.9578947368421054, 0.9578947368421054, 0.9578947368421054, 0.9578947368421054, 0.9578947368421054, 0.9578947368421054, 0.9578947368421054, 0.9631578947368421, 0.9631578947368421, 0.9631578947368421, 0.9631578947368421, 0.9631578947368421, 0.9631578947368421, 0.9631578947368421, 0.9631578947368421, 0.9631578947368421]}], \"precision_score_macro\": [{\"categories\": [\"0\", \"1\", \"2\", \"3\", \"4\", \"5\", \"6\", \"7\", \"8\", \"9\", \"10\", \"11\", \"12\", \"13\", \"14\", \"15\", \"16\", \"17\", \"18\", \"19\", \"20\", \"21\", \"22\", \"23\", \"24\", \"25\", \"26\", \"27\", \"28\", \"29\", \"30\", \"31\", \"32\", \"33\", \"34\", \"35\", \"38\"], \"mode\": \"markers\", \"name\": \"precision_score_macro\", \"stepped\": false, \"type\": \"scatter\", \"data\": [0.9572323442941917, 0.9578289366659718, 0.9179362986107555, 0.7795372409107741, 0.5125329490867372, 0.9492351685619234, 0.9589853454688834, 0.9042550989997628, 0.9403543591824025, 0.955207994006227, 0.8971650152373563, 0.9218450491275011, 0.9151644153027917, 0.9539115425223456, 0.5766573102744565, 0.9580925138681412, 0.9537938104285176, 0.7051046718181561, 0.8680762679358492, 0.8891733998726682, 0.9505966387584097, 0.9184264852971136, 0.896601207579681, 0.950270809529892, 0.9408506822562718, 0.23000000000000004, 0.9550803977765925, 0.9531237549392806, 0.9641072631882859, 0.9380338779132227, 0.5172096720910723, 0.8341368224760787, 0.9473980598475749, 0.6772082171732663, 0.8821438552831854, 0.7673735717633586, 0.9578246516029466]}, {\"categories\": [\"0\", \"1\", \"2\", \"3\", \"4\", \"5\", \"6\", \"7\", \"8\", \"9\", \"10\", \"11\", \"12\", \"13\", \"14\", \"15\", \"16\", \"17\", \"18\", \"19\", \"20\", \"21\", \"22\", \"23\", \"24\", \"25\", \"26\", \"27\", \"28\", \"29\", \"30\", \"31\", \"32\", \"33\", \"34\", \"35\", \"38\"], \"mode\": \"lines\", \"name\": \"precision_score_macro_max\", \"stepped\": true, \"type\": \"scatter\", \"data\": [0.9572323442941917, 0.9578289366659718, 0.9578289366659718, 0.9578289366659718, 0.9578289366659718, 0.9578289366659718, 0.9589853454688834, 0.9589853454688834, 0.9589853454688834, 0.9589853454688834, 0.9589853454688834, 0.9589853454688834, 0.9589853454688834, 0.9589853454688834, 0.9589853454688834, 0.9589853454688834, 0.9589853454688834, 0.9589853454688834, 0.9589853454688834, 0.9589853454688834, 0.9589853454688834, 0.9589853454688834, 0.9589853454688834, 0.9589853454688834, 0.9589853454688834, 0.9589853454688834, 0.9589853454688834, 0.9589853454688834, 0.9641072631882859, 0.9641072631882859, 0.9641072631882859, 0.9641072631882859, 0.9641072631882859, 0.9641072631882859, 0.9641072631882859, 0.9641072631882859, 0.9641072631882859]}], \"average_precision_score_weighted\": [{\"categories\": [\"0\", \"1\", \"2\", \"3\", \"4\", \"5\", \"6\", \"7\", \"8\", \"9\", \"10\", \"11\", \"12\", \"13\", \"14\", \"15\", \"16\", \"17\", \"18\", \"19\", \"20\", \"21\", \"22\", \"23\", \"24\", \"25\", \"26\", \"27\", \"28\", \"29\", \"30\", \"31\", \"32\", \"33\", \"34\", \"35\", \"38\"], \"mode\": \"markers\", \"name\": \"average_precision_score_weighted\", \"stepped\": false, \"type\": \"scatter\", \"data\": [0.9888890327429027, 0.9893076883070437, 0.9683430821597492, 0.7854354569180856, 0.59683192262747, 0.9889915514144038, 0.990624006273008, 0.9593183539405533, 0.9855606698046072, 0.9901278322923572, 0.9532532078765197, 0.9757508874688521, 0.970329791412688, 0.9852926946226953, 0.5937090514119994, 0.9882829638354431, 0.988432442903853, 0.7599687140056641, 0.8488219020260231, 0.9506345504227168, 0.9869204950810865, 0.9729642778239237, 0.9571289721149465, 0.9880492906104102, 0.9858338353355472, 0.5053739612188366, 0.9902280221157825, 0.9884009125307143, 0.9876055732872938, 0.986571702650975, 0.5858777049911285, 0.8872346311353109, 0.9875537131868668, 0.7609625527820587, 0.9495988806296797, 0.8803279573709573, 0.9922875975509264]}, {\"categories\": [\"0\", \"1\", \"2\", \"3\", \"4\", \"5\", \"6\", \"7\", \"8\", \"9\", \"10\", \"11\", \"12\", \"13\", \"14\", \"15\", \"16\", \"17\", \"18\", \"19\", \"20\", \"21\", \"22\", \"23\", \"24\", \"25\", \"26\", \"27\", \"28\", \"29\", \"30\", \"31\", \"32\", \"33\", \"34\", \"35\", \"38\"], \"mode\": \"lines\", \"name\": \"average_precision_score_weighted_max\", \"stepped\": true, \"type\": \"scatter\", \"data\": [0.9888890327429027, 0.9893076883070437, 0.9893076883070437, 0.9893076883070437, 0.9893076883070437, 0.9893076883070437, 0.990624006273008, 0.990624006273008, 0.990624006273008, 0.990624006273008, 0.990624006273008, 0.990624006273008, 0.990624006273008, 0.990624006273008, 0.990624006273008, 0.990624006273008, 0.990624006273008, 0.990624006273008, 0.990624006273008, 0.990624006273008, 0.990624006273008, 0.990624006273008, 0.990624006273008, 0.990624006273008, 0.990624006273008, 0.990624006273008, 0.990624006273008, 0.990624006273008, 0.990624006273008, 0.990624006273008, 0.990624006273008, 0.990624006273008, 0.990624006273008, 0.990624006273008, 0.990624006273008, 0.990624006273008, 0.9922875975509264]}], \"average_precision_score_micro\": [{\"categories\": [\"0\", \"1\", \"2\", \"3\", \"4\", \"5\", \"6\", \"7\", \"8\", \"9\", \"10\", \"11\", \"12\", \"13\", \"14\", \"15\", \"16\", \"17\", \"18\", \"19\", \"20\", \"21\", \"22\", \"23\", \"24\", \"25\", \"26\", \"27\", \"28\", \"29\", \"30\", \"31\", \"32\", \"33\", \"34\", \"35\", \"38\"], \"mode\": \"markers\", \"name\": \"average_precision_score_micro\", \"stepped\": false, \"type\": \"scatter\", \"data\": [0.9903691101420694, 0.9903550481659427, 0.9676131352972789, 0.780252830783336, 0.5879599268922998, 0.9889991973231075, 0.9910630511300941, 0.9552457437084716, 0.9851929029900965, 0.9901309293583566, 0.9538330633506851, 0.9753537341492269, 0.9705695383189656, 0.9858209298023844, 0.5745105327052433, 0.9878584198568602, 0.9878630189643317, 0.7534625270410069, 0.861843070543147, 0.946522747720983, 0.9854870661130377, 0.9705030832676276, 0.9540251455035188, 0.9876663824633416, 0.985668176758075, 0.4826869806094183, 0.9900312375711706, 0.988892466095721, 0.9882740139740476, 0.9857884577008764, 0.595994605921357, 0.8813014443004381, 0.9861765599463668, 0.7491020224879281, 0.9488211305785084, 0.8134376603551932, 0.9918922619069791]}, {\"categories\": [\"0\", \"1\", \"2\", \"3\", \"4\", \"5\", \"6\", \"7\", \"8\", \"9\", \"10\", \"11\", \"12\", \"13\", \"14\", \"15\", \"16\", \"17\", \"18\", \"19\", \"20\", \"21\", \"22\", \"23\", \"24\", \"25\", \"26\", \"27\", \"28\", \"29\", \"30\", \"31\", \"32\", \"33\", \"34\", \"35\", \"38\"], \"mode\": \"lines\", \"name\": \"average_precision_score_micro_max\", \"stepped\": true, \"type\": \"scatter\", \"data\": [0.9903691101420694, 0.9903691101420694, 0.9903691101420694, 0.9903691101420694, 0.9903691101420694, 0.9903691101420694, 0.9910630511300941, 0.9910630511300941, 0.9910630511300941, 0.9910630511300941, 0.9910630511300941, 0.9910630511300941, 0.9910630511300941, 0.9910630511300941, 0.9910630511300941, 0.9910630511300941, 0.9910630511300941, 0.9910630511300941, 0.9910630511300941, 0.9910630511300941, 0.9910630511300941, 0.9910630511300941, 0.9910630511300941, 0.9910630511300941, 0.9910630511300941, 0.9910630511300941, 0.9910630511300941, 0.9910630511300941, 0.9910630511300941, 0.9910630511300941, 0.9910630511300941, 0.9910630511300941, 0.9910630511300941, 0.9910630511300941, 0.9910630511300941, 0.9910630511300941, 0.9918922619069791]}], \"matthews_correlation\": [{\"categories\": [\"0\", \"1\", \"2\", \"3\", \"4\", \"5\", \"6\", \"7\", \"8\", \"9\", \"10\", \"11\", \"12\", \"13\", \"14\", \"15\", \"16\", \"17\", \"18\", \"19\", \"20\", \"21\", \"22\", \"23\", \"24\", \"25\", \"26\", \"27\", \"28\", \"29\", \"30\", \"31\", \"32\", \"33\", \"34\", \"35\", \"38\"], \"mode\": \"markers\", \"name\": \"matthews_correlation\", \"stepped\": false, \"type\": \"scatter\", \"data\": [0.913957362269785, 0.9160579511711727, 0.836288885914974, 0.5532988880377011, 0.19578554650294427, 0.8982380883647274, 0.915865627531519, 0.8061049509464343, 0.8784797520755859, 0.9084144726270846, 0.7950165327886488, 0.8415654903862595, 0.8287149424347089, 0.9075025438174886, 0.1872009042903301, 0.916170361667848, 0.906042976553754, 0.4054944825842929, 0.7281531150876989, 0.7793290512760154, 0.8991202755768819, 0.8372048269466449, 0.7920437562325997, 0.9013007577289054, 0.8812778865604903, 0.0, 0.9095279790261689, 0.9059551651211176, 0.926757065549127, 0.8759556666484272, 0.11587147644906559, 0.6627577277909731, 0.8947945151069592, 0.3486280130500282, 0.7651936225770399, 0.48867706305515946, 0.9159192564221998]}, {\"categories\": [\"0\", \"1\", \"2\", \"3\", \"4\", \"5\", \"6\", \"7\", \"8\", \"9\", \"10\", \"11\", \"12\", \"13\", \"14\", \"15\", \"16\", \"17\", \"18\", \"19\", \"20\", \"21\", \"22\", \"23\", \"24\", \"25\", \"26\", \"27\", \"28\", \"29\", \"30\", \"31\", \"32\", \"33\", \"34\", \"35\", \"38\"], \"mode\": \"lines\", \"name\": \"matthews_correlation_max\", \"stepped\": true, \"type\": \"scatter\", \"data\": [0.913957362269785, 0.9160579511711727, 0.9160579511711727, 0.9160579511711727, 0.9160579511711727, 0.9160579511711727, 0.9160579511711727, 0.9160579511711727, 0.9160579511711727, 0.9160579511711727, 0.9160579511711727, 0.9160579511711727, 0.9160579511711727, 0.9160579511711727, 0.9160579511711727, 0.916170361667848, 0.916170361667848, 0.916170361667848, 0.916170361667848, 0.916170361667848, 0.916170361667848, 0.916170361667848, 0.916170361667848, 0.916170361667848, 0.916170361667848, 0.916170361667848, 0.916170361667848, 0.916170361667848, 0.926757065549127, 0.926757065549127, 0.926757065549127, 0.926757065549127, 0.926757065549127, 0.926757065549127, 0.926757065549127, 0.926757065549127, 0.926757065549127]}], \"AUC_micro\": [{\"categories\": [\"0\", \"1\", \"2\", \"3\", \"4\", \"5\", \"6\", \"7\", \"8\", \"9\", \"10\", \"11\", \"12\", \"13\", \"14\", \"15\", \"16\", \"17\", \"18\", \"19\", \"20\", \"21\", \"22\", \"23\", \"24\", \"25\", \"26\", \"27\", \"28\", \"29\", \"30\", \"31\", \"32\", \"33\", \"34\", \"35\", \"38\"], \"mode\": \"markers\", \"name\": \"AUC_micro\", \"stepped\": false, \"type\": \"scatter\", \"data\": [0.9901052631578947, 0.9900055401662049, 0.9686648199445985, 0.7916897506925207, 0.5762548476454293, 0.9886537396121884, 0.9909584487534626, 0.9563656509695292, 0.9847977839335179, 0.9899168975069254, 0.9534515235457064, 0.9752686980609416, 0.9713019390581717, 0.9865706371191134, 0.5679445983379503, 0.9875678670360111, 0.9888753462603879, 0.751578947368421, 0.8846759002770084, 0.9480000000000001, 0.9853739612188365, 0.9697950138504154, 0.9543268698060942, 0.9873573407202215, 0.9851855955678671, 0.4600000000000001, 0.9897839335180055, 0.9889529085872576, 0.9883988919667589, 0.9851855955678671, 0.5982382271468143, 0.8918559556786703, 0.9857396121883657, 0.7498060941828254, 0.9485983379501386, 0.8014515235457063, 0.9917119113573406]}, {\"categories\": [\"0\", \"1\", \"2\", \"3\", \"4\", \"5\", \"6\", \"7\", \"8\", \"9\", \"10\", \"11\", \"12\", \"13\", \"14\", \"15\", \"16\", \"17\", \"18\", \"19\", \"20\", \"21\", \"22\", \"23\", \"24\", \"25\", \"26\", \"27\", \"28\", \"29\", \"30\", \"31\", \"32\", \"33\", \"34\", \"35\", \"38\"], \"mode\": \"lines\", \"name\": \"AUC_micro_max\", \"stepped\": true, \"type\": \"scatter\", \"data\": [0.9901052631578947, 0.9901052631578947, 0.9901052631578947, 0.9901052631578947, 0.9901052631578947, 0.9901052631578947, 0.9909584487534626, 0.9909584487534626, 0.9909584487534626, 0.9909584487534626, 0.9909584487534626, 0.9909584487534626, 0.9909584487534626, 0.9909584487534626, 0.9909584487534626, 0.9909584487534626, 0.9909584487534626, 0.9909584487534626, 0.9909584487534626, 0.9909584487534626, 0.9909584487534626, 0.9909584487534626, 0.9909584487534626, 0.9909584487534626, 0.9909584487534626, 0.9909584487534626, 0.9909584487534626, 0.9909584487534626, 0.9909584487534626, 0.9909584487534626, 0.9909584487534626, 0.9909584487534626, 0.9909584487534626, 0.9909584487534626, 0.9909584487534626, 0.9909584487534626, 0.9917119113573406]}], \"norm_macro_recall\": [{\"categories\": [\"0\", \"1\", \"2\", \"3\", \"4\", \"5\", \"6\", \"7\", \"8\", \"9\", \"10\", \"11\", \"12\", \"13\", \"14\", \"15\", \"16\", \"17\", \"18\", \"19\", \"20\", \"21\", \"22\", \"23\", \"24\", \"25\", \"26\", \"27\", \"28\", \"29\", \"30\", \"31\", \"32\", \"33\", \"34\", \"35\", \"38\"], \"mode\": \"markers\", \"name\": \"norm_macro_recall\", \"stepped\": false, \"type\": \"scatter\", \"data\": [0.9134700757342461, 0.9164644136691059, 0.8367276221584324, 0.5549476013700632, 0.2170815842470179, 0.8980119192444613, 0.9138206241770943, 0.8037361863290162, 0.8762904358489607, 0.9064827248210902, 0.7957112229046854, 0.8395501098584784, 0.8271297469977401, 0.9071897438193712, 0.17610513139826672, 0.9161774825868308, 0.9045328537786881, 0.4176872242517152, 0.7211273090278514, 0.7803314437809743, 0.8970775616976757, 0.8375841805085905, 0.7909635358364392, 0.902067014329193, 0.8808685271303851, 0.0, 0.9089070430519843, 0.905706867956955, 0.9253376975975659, 0.8758576076791768, 0.11953242049233156, 0.657333408620284, 0.8948092773078213, 0.34308258673613434, 0.7661179519812926, 0.4526907944374569, 0.9161939543147956]}, {\"categories\": [\"0\", \"1\", \"2\", \"3\", \"4\", \"5\", \"6\", \"7\", \"8\", \"9\", \"10\", \"11\", \"12\", \"13\", \"14\", \"15\", \"16\", \"17\", \"18\", \"19\", \"20\", \"21\", \"22\", \"23\", \"24\", \"25\", \"26\", \"27\", \"28\", \"29\", \"30\", \"31\", \"32\", \"33\", \"34\", \"35\", \"38\"], \"mode\": \"lines\", \"name\": \"norm_macro_recall_max\", \"stepped\": true, \"type\": \"scatter\", \"data\": [0.9134700757342461, 0.9164644136691059, 0.9164644136691059, 0.9164644136691059, 0.9164644136691059, 0.9164644136691059, 0.9164644136691059, 0.9164644136691059, 0.9164644136691059, 0.9164644136691059, 0.9164644136691059, 0.9164644136691059, 0.9164644136691059, 0.9164644136691059, 0.9164644136691059, 0.9164644136691059, 0.9164644136691059, 0.9164644136691059, 0.9164644136691059, 0.9164644136691059, 0.9164644136691059, 0.9164644136691059, 0.9164644136691059, 0.9164644136691059, 0.9164644136691059, 0.9164644136691059, 0.9164644136691059, 0.9164644136691059, 0.9253376975975659, 0.9253376975975659, 0.9253376975975659, 0.9253376975975659, 0.9253376975975659, 0.9253376975975659, 0.9253376975975659, 0.9253376975975659, 0.9253376975975659]}]}, \"metricName\": null, \"primaryMetricName\": \"AUC_weighted\", \"showLegend\": false}, \"run_metrics\": [{\"name\": \"experiment_status\", \"run_id\": \"AutoML_ce3a3571-8fba-47aa-ba8e-f457c09a6ba3\", \"categories\": [0, 1, 2, 3, 4, 5, 6, 7, 8, 9, 10, 11, 12, 13], \"series\": [{\"data\": [\"DatasetEvaluation\", \"FeaturesGeneration\", \"DatasetFeaturization\", \"DatasetFeaturizationCompleted\", \"DatasetCrossValidationSplit\", \"ModelSelection\", \"BestRunExplainModel\", \"ModelExplanationDataSetSetup\", \"PickSurrogateModel\", \"EngineeredFeatureExplanations\", \"EngineeredFeatureExplanations\", \"RawFeaturesExplanations\", \"RawFeaturesExplanations\", \"BestRunExplainModel\"]}]}, {\"name\": \"experiment_status_description\", \"run_id\": \"AutoML_ce3a3571-8fba-47aa-ba8e-f457c09a6ba3\", \"categories\": [0, 1, 2, 3, 4, 5, 6, 7, 8, 9, 10, 11, 12, 13], \"series\": [{\"data\": [\"Gathering dataset statistics.\", \"Generating features for the dataset.\", \"Beginning to fit featurizers and featurize the dataset.\", \"Completed fit featurizers and featurizing the dataset.\", \"Generating individually featurized CV splits.\", \"Beginning model selection.\", \"Best run model explanations started\", \"Model explanations data setup completed\", \"Choosing LinearModel as the surrogate model for explanations\", \"Computation of engineered features started\", \"Computation of engineered features completed\", \"Computation of raw features started\", \"Computation of raw features completed\", \"Best run model explanations completed\"]}]}, {\"name\": \"accuracy\", \"run_id\": \"AutoML_ce3a3571-8fba-47aa-ba8e-f457c09a6ba3\", \"categories\": [0], \"series\": [{\"data\": [0.9578947368421055]}]}, {\"name\": \"f1_score_weighted\", \"run_id\": \"AutoML_ce3a3571-8fba-47aa-ba8e-f457c09a6ba3\", \"categories\": [0], \"series\": [{\"data\": [0.9578927257699872]}]}, {\"name\": \"weighted_accuracy\", \"run_id\": \"AutoML_ce3a3571-8fba-47aa-ba8e-f457c09a6ba3\", \"categories\": [0], \"series\": [{\"data\": [0.9576776997656384]}]}, {\"name\": \"f1_score_micro\", \"run_id\": \"AutoML_ce3a3571-8fba-47aa-ba8e-f457c09a6ba3\", \"categories\": [0], \"series\": [{\"data\": [0.9578947368421055]}]}, {\"name\": \"average_precision_score_macro\", \"run_id\": \"AutoML_ce3a3571-8fba-47aa-ba8e-f457c09a6ba3\", \"categories\": [0], \"series\": [{\"data\": [0.992164272486689]}]}, {\"name\": \"precision_score_micro\", \"run_id\": \"AutoML_ce3a3571-8fba-47aa-ba8e-f457c09a6ba3\", \"categories\": [0], \"series\": [{\"data\": [0.9578947368421055]}]}, {\"name\": \"recall_score_macro\", \"run_id\": \"AutoML_ce3a3571-8fba-47aa-ba8e-f457c09a6ba3\", \"categories\": [0], \"series\": [{\"data\": [0.9580969771573979]}]}, {\"name\": \"norm_macro_recall\", \"run_id\": \"AutoML_ce3a3571-8fba-47aa-ba8e-f457c09a6ba3\", \"categories\": [0], \"series\": [{\"data\": [0.9161939543147956]}]}, {\"name\": \"AUC_micro\", \"run_id\": \"AutoML_ce3a3571-8fba-47aa-ba8e-f457c09a6ba3\", \"categories\": [0], \"series\": [{\"data\": [0.9917119113573406]}]}, {\"name\": \"AUC_weighted\", \"run_id\": \"AutoML_ce3a3571-8fba-47aa-ba8e-f457c09a6ba3\", \"categories\": [0], \"series\": [{\"data\": [0.9921302508634045]}]}, {\"name\": \"log_loss\", \"run_id\": \"AutoML_ce3a3571-8fba-47aa-ba8e-f457c09a6ba3\", \"categories\": [0], \"series\": [{\"data\": [0.2143155566795027]}]}, {\"name\": \"precision_score_macro\", \"run_id\": \"AutoML_ce3a3571-8fba-47aa-ba8e-f457c09a6ba3\", \"categories\": [0], \"series\": [{\"data\": [0.9578246516029466]}]}, {\"name\": \"recall_score_micro\", \"run_id\": \"AutoML_ce3a3571-8fba-47aa-ba8e-f457c09a6ba3\", \"categories\": [0], \"series\": [{\"data\": [0.9578947368421055]}]}, {\"name\": \"average_precision_score_micro\", \"run_id\": \"AutoML_ce3a3571-8fba-47aa-ba8e-f457c09a6ba3\", \"categories\": [0], \"series\": [{\"data\": [0.9918922619069791]}]}, {\"name\": \"f1_score_macro\", \"run_id\": \"AutoML_ce3a3571-8fba-47aa-ba8e-f457c09a6ba3\", \"categories\": [0], \"series\": [{\"data\": [0.9574109717037897]}]}, {\"name\": \"precision_score_weighted\", \"run_id\": \"AutoML_ce3a3571-8fba-47aa-ba8e-f457c09a6ba3\", \"categories\": [0], \"series\": [{\"data\": [0.9589855617294374]}]}, {\"name\": \"AUC_macro\", \"run_id\": \"AutoML_ce3a3571-8fba-47aa-ba8e-f457c09a6ba3\", \"categories\": [0], \"series\": [{\"data\": [0.9921302508634045]}]}, {\"name\": \"recall_score_weighted\", \"run_id\": \"AutoML_ce3a3571-8fba-47aa-ba8e-f457c09a6ba3\", \"categories\": [0], \"series\": [{\"data\": [0.9578947368421055]}]}, {\"name\": \"balanced_accuracy\", \"run_id\": \"AutoML_ce3a3571-8fba-47aa-ba8e-f457c09a6ba3\", \"categories\": [0], \"series\": [{\"data\": [0.9580969771573979]}]}, {\"name\": \"matthews_correlation\", \"run_id\": \"AutoML_ce3a3571-8fba-47aa-ba8e-f457c09a6ba3\", \"categories\": [0], \"series\": [{\"data\": [0.9159192564221998]}]}, {\"name\": \"average_precision_score_weighted\", \"run_id\": \"AutoML_ce3a3571-8fba-47aa-ba8e-f457c09a6ba3\", \"categories\": [0], \"series\": [{\"data\": [0.9922875975509264]}]}], \"run_logs\": \"\\nRun is completed.\", \"graph\": {}, \"widget_settings\": {\"childWidgetDisplay\": \"popup\", \"send_telemetry\": false, \"log_level\": \"INFO\", \"sdk_version\": \"1.20.0\"}, \"loading\": false}"
     },
     "metadata": {},
     "output_type": "display_data"
    }
   ],
   "source": [
    "from azureml.widgets import RunDetails\n",
    "RunDetails(automlmodel_run).show()"
   ]
  },
  {
   "cell_type": "code",
   "execution_count": 52,
   "metadata": {
    "gather": {
     "logged": 1613378741842
    }
   },
   "outputs": [
    {
     "name": "stdout",
     "output_type": "stream",
     "text": [
      "\n",
      "\n",
      "****************************************************************************************************\n",
      "DATA GUARDRAILS: \n",
      "\n",
      "TYPE:         Cross validation\n",
      "STATUS:       DONE\n",
      "DESCRIPTION:  Each iteration of the trained model was validated through cross-validation.\n",
      "              \n",
      "DETAILS:      \n",
      "+---------------------------------+\n",
      "|Number of folds                  |\n",
      "+=================================+\n",
      "|10                               |\n",
      "+---------------------------------+\n",
      "\n",
      "****************************************************************************************************\n",
      "\n",
      "TYPE:         Class balancing detection\n",
      "STATUS:       PASSED\n",
      "DESCRIPTION:  Your inputs were analyzed, and all classes are balanced in your training data.\n",
      "              Learn more about imbalanced data: https://aka.ms/AutomatedMLImbalancedData\n",
      "\n",
      "****************************************************************************************************\n",
      "\n",
      "TYPE:         Missing feature values imputation\n",
      "STATUS:       PASSED\n",
      "DESCRIPTION:  No feature missing values were detected in the training data.\n",
      "              Learn more about missing value imputation: https://aka.ms/AutomatedMLFeaturization\n",
      "\n",
      "****************************************************************************************************\n",
      "\n",
      "TYPE:         High cardinality feature detection\n",
      "STATUS:       DONE\n",
      "DESCRIPTION:  High cardinality features were detected in your inputs and handled.\n",
      "              Learn more about high cardinality feature handling: https://aka.ms/AutomatedMLFeaturization\n",
      "DETAILS:      High cardinality features refer to columns that contain a large percentage of unique values.\n",
      "+---------------------------------+---------------------------------+\n",
      "|Column name                      |Column Content Type              |\n",
      "+=================================+=================================+\n",
      "|Ad Topic Line                    |text                             |\n",
      "|Country                          |categorical_hash                 |\n",
      "+---------------------------------+---------------------------------+\n",
      "\n",
      "****************************************************************************************************\n",
      "\n",
      "****************************************************************************************************\n",
      "ITERATION: The iteration being evaluated.\n",
      "PIPELINE: A summary description of the pipeline being evaluated.\n",
      "DURATION: Time taken for the current iteration.\n",
      "METRIC: The result of computing score on the fitted pipeline.\n",
      "BEST: The best observed score thus far.\n",
      "****************************************************************************************************\n",
      "\n",
      " ITERATION   PIPELINE                                       DURATION      METRIC      BEST\n",
      "         0   MaxAbsScaler LightGBM                          0:02:04       0.9888    0.9888\n",
      "         1   MaxAbsScaler XGBoostClassifier                 0:02:21       0.9891    0.9891\n",
      "         2   MaxAbsScaler RandomForest                      0:00:51       0.9689    0.9891\n",
      "         3   MaxAbsScaler RandomForest                      0:02:08       0.7898    0.9891\n",
      "         4   MaxAbsScaler RandomForest                      0:00:57       0.5819    0.9891\n",
      "         5   MaxAbsScaler ExtremeRandomTrees                0:00:59       0.9886    0.9891\n",
      "         6   MaxAbsScaler ExtremeRandomTrees                0:01:00       0.9907    0.9907\n",
      "         7   MaxAbsScaler ExtremeRandomTrees                0:01:03       0.9599    0.9907\n",
      "         8   MaxAbsScaler RandomForest                      0:00:53       0.9849    0.9907\n",
      "         9   MaxAbsScaler ExtremeRandomTrees                0:00:56       0.9898    0.9907\n",
      "        10   MaxAbsScaler RandomForest                      0:01:03       0.9520    0.9907\n",
      "        11   MaxAbsScaler RandomForest                      0:01:04       0.9753    0.9907\n",
      "        12   MaxAbsScaler RandomForest                      0:00:55       0.9720    0.9907\n",
      "        13   StandardScalerWrapper XGBoostClassifier        0:00:46       0.9863    0.9907\n",
      "        14   MaxAbsScaler RandomForest                      0:01:01       0.5923    0.9907\n",
      "        15   StandardScalerWrapper ExtremeRandomTrees       0:00:51       0.9879    0.9907\n",
      "        16   MaxAbsScaler ExtremeRandomTrees                0:00:55       0.9894    0.9907\n",
      "        17   MaxAbsScaler ExtremeRandomTrees                0:00:56       0.7500    0.9907\n",
      "        18   MaxAbsScaler RandomForest                      0:01:00       0.8748    0.9907\n",
      "        19   SparseNormalizer XGBoostClassifier             0:01:05       0.9503    0.9907\n",
      "        20   TruncatedSVDWrapper XGBoostClassifier          0:01:31       0.9861    0.9907\n",
      "        21   SparseNormalizer XGBoostClassifier             0:01:02       0.9718    0.9907\n",
      "        22   SparseNormalizer LightGBM                      0:01:31       0.9566    0.9907\n",
      "        23   StandardScalerWrapper LightGBM                 0:00:56       0.9879    0.9907\n",
      "        24   MaxAbsScaler LightGBM                          0:00:51       0.9854    0.9907\n",
      "        25   MaxAbsScaler ExtremeRandomTrees                0:01:00       0.5000    0.9907\n",
      "        26   StandardScalerWrapper LightGBM                 0:00:50       0.9901    0.9907\n",
      "        27   MaxAbsScaler ExtremeRandomTrees                0:00:52       0.9884    0.9907\n",
      "        28   StandardScalerWrapper ExtremeRandomTrees       0:01:07       0.9880    0.9907\n",
      "        29   StandardScalerWrapper RandomForest             0:01:01       0.9859    0.9907\n",
      "        30   SparseNormalizer ExtremeRandomTrees            0:00:55       0.5832    0.9907\n",
      "        31   SparseNormalizer XGBoostClassifier             0:01:01       0.8992    0.9907\n",
      "        32   MaxAbsScaler LightGBM                          0:00:50       0.9872    0.9907\n",
      "        33   StandardScalerWrapper LogisticRegression       0:00:55       0.7586    0.9907\n",
      "        34   StandardScalerWrapper LogisticRegression       0:00:51       0.9485    0.9907\n",
      "        35   TruncatedSVDWrapper ExtremeRandomTrees         0:00:43       0.8724    0.9907\n",
      "        36                                                  0:00:26          nan    0.9907\n",
      "        37                                                  0:00:08          nan    0.9907\n",
      "        38    VotingEnsemble                                0:02:07       0.9921    0.9921\n"
     ]
    },
    {
     "data": {
      "text/plain": [
       "{'runId': 'AutoML_ce3a3571-8fba-47aa-ba8e-f457c09a6ba3',\n",
       " 'target': 'compute-ml',\n",
       " 'status': 'Completed',\n",
       " 'startTimeUtc': '2021-02-15T08:21:01.241132Z',\n",
       " 'endTimeUtc': '2021-02-15T08:42:28.461757Z',\n",
       " 'properties': {'num_iterations': '1000',\n",
       "  'training_type': 'TrainFull',\n",
       "  'acquisition_function': 'EI',\n",
       "  'primary_metric': 'AUC_weighted',\n",
       "  'train_split': '0',\n",
       "  'acquisition_parameter': '0',\n",
       "  'num_cross_validation': None,\n",
       "  'target': 'compute-ml',\n",
       "  'AMLSettingsJsonString': '{\"path\":null,\"name\":\"ad-automl-experiment\",\"subscription_id\":\"6971f5ac-8af1-446e-8034-05acea24681f\",\"resource_group\":\"aml-quickstarts-138934\",\"workspace_name\":\"quick-starts-ws-138934\",\"region\":\"southcentralus\",\"compute_target\":\"compute-ml\",\"spark_service\":null,\"azure_service\":\"remote\",\"many_models\":false,\"pipeline_fetch_max_batch_size\":1,\"iterations\":1000,\"primary_metric\":\"AUC_weighted\",\"task_type\":\"classification\",\"data_script\":null,\"validation_size\":0.0,\"n_cross_validations\":null,\"y_min\":null,\"y_max\":null,\"num_classes\":null,\"featurization\":\"auto\",\"_ignore_package_version_incompatibilities\":false,\"is_timeseries\":false,\"max_cores_per_iteration\":1,\"max_concurrent_iterations\":5,\"iteration_timeout_minutes\":null,\"mem_in_mb\":null,\"enforce_time_on_windows\":false,\"experiment_timeout_minutes\":20,\"experiment_exit_score\":null,\"whitelist_models\":null,\"blacklist_algos\":[\"TensorFlowLinearClassifier\",\"TensorFlowDNN\"],\"supported_models\":[\"XGBoostClassifier\",\"BernoulliNaiveBayes\",\"TensorFlowDNN\",\"SGD\",\"LogisticRegression\",\"LinearSVM\",\"DecisionTree\",\"RandomForest\",\"KNN\",\"AveragedPerceptronClassifier\",\"TensorFlowLinearClassifier\",\"MultinomialNaiveBayes\",\"GradientBoosting\",\"LightGBM\",\"SVM\",\"ExtremeRandomTrees\"],\"auto_blacklist\":true,\"blacklist_samples_reached\":false,\"exclude_nan_labels\":true,\"verbosity\":20,\"_debug_log\":\"azureml_automl.log\",\"show_warnings\":false,\"model_explainability\":true,\"service_url\":null,\"sdk_url\":null,\"sdk_packages\":null,\"enable_onnx_compatible_models\":true,\"enable_split_onnx_featurizer_estimator_models\":false,\"vm_type\":\"STANDARD_DS12_V2\",\"telemetry_verbosity\":20,\"send_telemetry\":true,\"enable_dnn\":false,\"scenario\":\"SDK-1.13.0\",\"environment_label\":null,\"force_text_dnn\":false,\"enable_feature_sweeping\":false,\"enable_early_stopping\":true,\"early_stopping_n_iters\":10,\"metrics\":null,\"enable_ensembling\":true,\"enable_stack_ensembling\":false,\"ensemble_iterations\":15,\"enable_tf\":false,\"enable_subsampling\":null,\"subsample_seed\":null,\"enable_nimbusml\":false,\"enable_streaming\":false,\"force_streaming\":false,\"track_child_runs\":true,\"allowed_private_models\":[],\"label_column_name\":\"Clicked on Ad\",\"weight_column_name\":null,\"cv_split_column_names\":null,\"enable_local_managed\":false,\"_local_managed_run_id\":null,\"cost_mode\":1,\"lag_length\":0,\"metric_operation\":\"maximize\",\"preprocess\":true}',\n",
       "  'DataPrepJsonString': '{\\\\\"training_data\\\\\": \\\\\"{\\\\\\\\\\\\\"blocks\\\\\\\\\\\\\": [{\\\\\\\\\\\\\"id\\\\\\\\\\\\\": \\\\\\\\\\\\\"5b0597a4-4e33-40bf-85b4-1d0322183836\\\\\\\\\\\\\", \\\\\\\\\\\\\"type\\\\\\\\\\\\\": \\\\\\\\\\\\\"Microsoft.DPrep.GetFilesBlock\\\\\\\\\\\\\", \\\\\\\\\\\\\"arguments\\\\\\\\\\\\\": {\\\\\\\\\\\\\"isArchive\\\\\\\\\\\\\": false, \\\\\\\\\\\\\"path\\\\\\\\\\\\\": {\\\\\\\\\\\\\"target\\\\\\\\\\\\\": 4, \\\\\\\\\\\\\"resourceDetails\\\\\\\\\\\\\": [{\\\\\\\\\\\\\"path\\\\\\\\\\\\\": \\\\\\\\\\\\\"https://raw.githubusercontent.com/chamsun-imoggo/udacityms-3rdproject/main/data/advertising_training.csv\\\\\\\\\\\\\"}]}}, \\\\\\\\\\\\\"localData\\\\\\\\\\\\\": {}, \\\\\\\\\\\\\"isEnabled\\\\\\\\\\\\\": true, \\\\\\\\\\\\\"name\\\\\\\\\\\\\": null, \\\\\\\\\\\\\"annotation\\\\\\\\\\\\\": null}, {\\\\\\\\\\\\\"id\\\\\\\\\\\\\": \\\\\\\\\\\\\"c1948d62-f382-4638-941f-2a063ed9038a\\\\\\\\\\\\\", \\\\\\\\\\\\\"type\\\\\\\\\\\\\": \\\\\\\\\\\\\"Microsoft.DPrep.ParseDelimitedBlock\\\\\\\\\\\\\", \\\\\\\\\\\\\"arguments\\\\\\\\\\\\\": {\\\\\\\\\\\\\"columnHeadersMode\\\\\\\\\\\\\": 3, \\\\\\\\\\\\\"fileEncoding\\\\\\\\\\\\\": 0, \\\\\\\\\\\\\"handleQuotedLineBreaks\\\\\\\\\\\\\": false, \\\\\\\\\\\\\"preview\\\\\\\\\\\\\": false, \\\\\\\\\\\\\"separator\\\\\\\\\\\\\": \\\\\\\\\\\\\",\\\\\\\\\\\\\", \\\\\\\\\\\\\"skipRows\\\\\\\\\\\\\": 0, \\\\\\\\\\\\\"skipRowsMode\\\\\\\\\\\\\": 0}, \\\\\\\\\\\\\"localData\\\\\\\\\\\\\": {}, \\\\\\\\\\\\\"isEnabled\\\\\\\\\\\\\": true, \\\\\\\\\\\\\"name\\\\\\\\\\\\\": null, \\\\\\\\\\\\\"annotation\\\\\\\\\\\\\": null}, {\\\\\\\\\\\\\"id\\\\\\\\\\\\\": \\\\\\\\\\\\\"b5998c35-74eb-4280-8bb1-58b5d685a8f1\\\\\\\\\\\\\", \\\\\\\\\\\\\"type\\\\\\\\\\\\\": \\\\\\\\\\\\\"Microsoft.DPrep.DropColumnsBlock\\\\\\\\\\\\\", \\\\\\\\\\\\\"arguments\\\\\\\\\\\\\": {\\\\\\\\\\\\\"columns\\\\\\\\\\\\\": {\\\\\\\\\\\\\"type\\\\\\\\\\\\\": 0, \\\\\\\\\\\\\"details\\\\\\\\\\\\\": {\\\\\\\\\\\\\"selectedColumns\\\\\\\\\\\\\": [\\\\\\\\\\\\\"Path\\\\\\\\\\\\\"]}}}, \\\\\\\\\\\\\"localData\\\\\\\\\\\\\": {}, \\\\\\\\\\\\\"isEnabled\\\\\\\\\\\\\": true, \\\\\\\\\\\\\"name\\\\\\\\\\\\\": null, \\\\\\\\\\\\\"annotation\\\\\\\\\\\\\": null}, {\\\\\\\\\\\\\"id\\\\\\\\\\\\\": \\\\\\\\\\\\\"8c522c2e-ec2b-4442-90ad-8efc0047a11c\\\\\\\\\\\\\", \\\\\\\\\\\\\"type\\\\\\\\\\\\\": \\\\\\\\\\\\\"Microsoft.DPrep.SetColumnTypesBlock\\\\\\\\\\\\\", \\\\\\\\\\\\\"arguments\\\\\\\\\\\\\": {\\\\\\\\\\\\\"columnConversion\\\\\\\\\\\\\": [{\\\\\\\\\\\\\"column\\\\\\\\\\\\\": {\\\\\\\\\\\\\"type\\\\\\\\\\\\\": 2, \\\\\\\\\\\\\"details\\\\\\\\\\\\\": {\\\\\\\\\\\\\"selectedColumn\\\\\\\\\\\\\": \\\\\\\\\\\\\"Daily Time Spent on Site\\\\\\\\\\\\\"}}, \\\\\\\\\\\\\"typeProperty\\\\\\\\\\\\\": 3}, {\\\\\\\\\\\\\"column\\\\\\\\\\\\\": {\\\\\\\\\\\\\"type\\\\\\\\\\\\\": 2, \\\\\\\\\\\\\"details\\\\\\\\\\\\\": {\\\\\\\\\\\\\"selectedColumn\\\\\\\\\\\\\": \\\\\\\\\\\\\"Age\\\\\\\\\\\\\"}}, \\\\\\\\\\\\\"typeProperty\\\\\\\\\\\\\": 2}, {\\\\\\\\\\\\\"column\\\\\\\\\\\\\": {\\\\\\\\\\\\\"type\\\\\\\\\\\\\": 2, \\\\\\\\\\\\\"details\\\\\\\\\\\\\": {\\\\\\\\\\\\\"selectedColumn\\\\\\\\\\\\\": \\\\\\\\\\\\\"Area Income\\\\\\\\\\\\\"}}, \\\\\\\\\\\\\"typeProperty\\\\\\\\\\\\\": 3}, {\\\\\\\\\\\\\"column\\\\\\\\\\\\\": {\\\\\\\\\\\\\"type\\\\\\\\\\\\\": 2, \\\\\\\\\\\\\"details\\\\\\\\\\\\\": {\\\\\\\\\\\\\"selectedColumn\\\\\\\\\\\\\": \\\\\\\\\\\\\"Daily Internet Usage\\\\\\\\\\\\\"}}, \\\\\\\\\\\\\"typeProperty\\\\\\\\\\\\\": 3}, {\\\\\\\\\\\\\"column\\\\\\\\\\\\\": {\\\\\\\\\\\\\"type\\\\\\\\\\\\\": 2, \\\\\\\\\\\\\"details\\\\\\\\\\\\\": {\\\\\\\\\\\\\"selectedColumn\\\\\\\\\\\\\": \\\\\\\\\\\\\"Ad Topic Line\\\\\\\\\\\\\"}}, \\\\\\\\\\\\\"typeProperty\\\\\\\\\\\\\": 0}, {\\\\\\\\\\\\\"column\\\\\\\\\\\\\": {\\\\\\\\\\\\\"type\\\\\\\\\\\\\": 2, \\\\\\\\\\\\\"details\\\\\\\\\\\\\": {\\\\\\\\\\\\\"selectedColumn\\\\\\\\\\\\\": \\\\\\\\\\\\\"City\\\\\\\\\\\\\"}}, \\\\\\\\\\\\\"typeProperty\\\\\\\\\\\\\": 0}, {\\\\\\\\\\\\\"column\\\\\\\\\\\\\": {\\\\\\\\\\\\\"type\\\\\\\\\\\\\": 2, \\\\\\\\\\\\\"details\\\\\\\\\\\\\": {\\\\\\\\\\\\\"selectedColumn\\\\\\\\\\\\\": \\\\\\\\\\\\\"Male\\\\\\\\\\\\\"}}, \\\\\\\\\\\\\"typeProperty\\\\\\\\\\\\\": 2}, {\\\\\\\\\\\\\"column\\\\\\\\\\\\\": {\\\\\\\\\\\\\"type\\\\\\\\\\\\\": 2, \\\\\\\\\\\\\"details\\\\\\\\\\\\\": {\\\\\\\\\\\\\"selectedColumn\\\\\\\\\\\\\": \\\\\\\\\\\\\"Country\\\\\\\\\\\\\"}}, \\\\\\\\\\\\\"typeProperty\\\\\\\\\\\\\": 0}, {\\\\\\\\\\\\\"column\\\\\\\\\\\\\": {\\\\\\\\\\\\\"type\\\\\\\\\\\\\": 2, \\\\\\\\\\\\\"details\\\\\\\\\\\\\": {\\\\\\\\\\\\\"selectedColumn\\\\\\\\\\\\\": \\\\\\\\\\\\\"Month\\\\\\\\\\\\\"}}, \\\\\\\\\\\\\"typeProperty\\\\\\\\\\\\\": 2}, {\\\\\\\\\\\\\"column\\\\\\\\\\\\\": {\\\\\\\\\\\\\"type\\\\\\\\\\\\\": 2, \\\\\\\\\\\\\"details\\\\\\\\\\\\\": {\\\\\\\\\\\\\"selectedColumn\\\\\\\\\\\\\": \\\\\\\\\\\\\"Date\\\\\\\\\\\\\"}}, \\\\\\\\\\\\\"typeProperty\\\\\\\\\\\\\": 2}, {\\\\\\\\\\\\\"column\\\\\\\\\\\\\": {\\\\\\\\\\\\\"type\\\\\\\\\\\\\": 2, \\\\\\\\\\\\\"details\\\\\\\\\\\\\": {\\\\\\\\\\\\\"selectedColumn\\\\\\\\\\\\\": \\\\\\\\\\\\\"Hour\\\\\\\\\\\\\"}}, \\\\\\\\\\\\\"typeProperty\\\\\\\\\\\\\": 2}, {\\\\\\\\\\\\\"column\\\\\\\\\\\\\": {\\\\\\\\\\\\\"type\\\\\\\\\\\\\": 2, \\\\\\\\\\\\\"details\\\\\\\\\\\\\": {\\\\\\\\\\\\\"selectedColumn\\\\\\\\\\\\\": \\\\\\\\\\\\\"Minute\\\\\\\\\\\\\"}}, \\\\\\\\\\\\\"typeProperty\\\\\\\\\\\\\": 2}, {\\\\\\\\\\\\\"column\\\\\\\\\\\\\": {\\\\\\\\\\\\\"type\\\\\\\\\\\\\": 2, \\\\\\\\\\\\\"details\\\\\\\\\\\\\": {\\\\\\\\\\\\\"selectedColumn\\\\\\\\\\\\\": \\\\\\\\\\\\\"Second\\\\\\\\\\\\\"}}, \\\\\\\\\\\\\"typeProperty\\\\\\\\\\\\\": 2}, {\\\\\\\\\\\\\"column\\\\\\\\\\\\\": {\\\\\\\\\\\\\"type\\\\\\\\\\\\\": 2, \\\\\\\\\\\\\"details\\\\\\\\\\\\\": {\\\\\\\\\\\\\"selectedColumn\\\\\\\\\\\\\": \\\\\\\\\\\\\"Clicked on Ad\\\\\\\\\\\\\"}}, \\\\\\\\\\\\\"typeProperty\\\\\\\\\\\\\": 2}]}, \\\\\\\\\\\\\"localData\\\\\\\\\\\\\": {}, \\\\\\\\\\\\\"isEnabled\\\\\\\\\\\\\": true, \\\\\\\\\\\\\"name\\\\\\\\\\\\\": null, \\\\\\\\\\\\\"annotation\\\\\\\\\\\\\": null}], \\\\\\\\\\\\\"inspectors\\\\\\\\\\\\\": [], \\\\\\\\\\\\\"meta\\\\\\\\\\\\\": {\\\\\\\\\\\\\"savedDatasetId\\\\\\\\\\\\\": \\\\\\\\\\\\\"1e301f57-2a9e-41c0-948d-e4ad721d39d1\\\\\\\\\\\\\", \\\\\\\\\\\\\"datasetType\\\\\\\\\\\\\": \\\\\\\\\\\\\"tabular\\\\\\\\\\\\\", \\\\\\\\\\\\\"subscriptionId\\\\\\\\\\\\\": \\\\\\\\\\\\\"6971f5ac-8af1-446e-8034-05acea24681f\\\\\\\\\\\\\", \\\\\\\\\\\\\"workspaceId\\\\\\\\\\\\\": \\\\\\\\\\\\\"9f1fbd36-e60b-488b-a878-da65ffe9c4fe\\\\\\\\\\\\\", \\\\\\\\\\\\\"workspaceLocation\\\\\\\\\\\\\": \\\\\\\\\\\\\"southcentralus\\\\\\\\\\\\\"}}\\\\\", \\\\\"activities\\\\\": 0}',\n",
       "  'EnableSubsampling': None,\n",
       "  'runTemplate': 'AutoML',\n",
       "  'azureml.runsource': 'automl',\n",
       "  'display_task_type': 'classification',\n",
       "  'dependencies_versions': '{\"azureml-widgets\": \"1.20.0\", \"azureml-train\": \"1.20.0\", \"azureml-train-restclients-hyperdrive\": \"1.20.0\", \"azureml-train-core\": \"1.20.0\", \"azureml-train-automl\": \"1.20.0\", \"azureml-train-automl-runtime\": \"1.20.0\", \"azureml-train-automl-client\": \"1.20.0\", \"azureml-tensorboard\": \"1.20.0\", \"azureml-telemetry\": \"1.20.0\", \"azureml-sdk\": \"1.20.0\", \"azureml-samples\": \"0+unknown\", \"azureml-pipeline\": \"1.20.0\", \"azureml-pipeline-steps\": \"1.20.0\", \"azureml-pipeline-core\": \"1.20.0\", \"azureml-opendatasets\": \"1.20.0\", \"azureml-model-management-sdk\": \"1.0.1b6.post1\", \"azureml-mlflow\": \"1.20.0.post1\", \"azureml-interpret\": \"1.20.0\", \"azureml-explain-model\": \"1.20.0\", \"azureml-defaults\": \"1.20.0\", \"azureml-dataset-runtime\": \"1.20.0\", \"azureml-dataprep\": \"2.7.3\", \"azureml-dataprep-rslex\": \"1.5.0\", \"azureml-dataprep-native\": \"27.0.0\", \"azureml-datadrift\": \"1.20.0\", \"azureml-core\": \"1.20.0\", \"azureml-contrib-services\": \"1.20.0\", \"azureml-contrib-server\": \"1.20.0\", \"azureml-contrib-reinforcementlearning\": \"1.20.0\", \"azureml-contrib-pipeline-steps\": \"1.20.0\", \"azureml-contrib-notebook\": \"1.20.0\", \"azureml-contrib-interpret\": \"1.20.0\", \"azureml-contrib-gbdt\": \"1.20.0\", \"azureml-contrib-fairness\": \"1.20.0\", \"azureml-contrib-dataset\": \"1.20.0\", \"azureml-cli-common\": \"1.20.0\", \"azureml-automl-runtime\": \"1.20.0\", \"azureml-automl-core\": \"1.20.0\", \"azureml-accel-models\": \"1.20.0\"}',\n",
       "  '_aml_system_scenario_identification': 'Remote.Parent',\n",
       "  'ClientType': 'SDK',\n",
       "  'environment_cpu_name': 'AzureML-AutoML',\n",
       "  'environment_cpu_label': 'prod',\n",
       "  'environment_gpu_name': 'AzureML-AutoML-GPU',\n",
       "  'environment_gpu_label': 'prod',\n",
       "  'root_attribution': 'automl',\n",
       "  'attribution': 'AutoML',\n",
       "  'Orchestrator': 'AutoML',\n",
       "  'CancelUri': 'https://southcentralus.experiments.azureml.net/jasmine/v1.0/subscriptions/6971f5ac-8af1-446e-8034-05acea24681f/resourceGroups/aml-quickstarts-138934/providers/Microsoft.MachineLearningServices/workspaces/quick-starts-ws-138934/experimentids/f73eccd8-ce63-49bc-9512-ed18adef481d/cancel/AutoML_ce3a3571-8fba-47aa-ba8e-f457c09a6ba3',\n",
       "  'ClientSdkVersion': '1.21.0',\n",
       "  'snapshotId': '00000000-0000-0000-0000-000000000000',\n",
       "  'SetupRunId': 'AutoML_ce3a3571-8fba-47aa-ba8e-f457c09a6ba3_setup',\n",
       "  'SetupRunContainerId': 'dcid.AutoML_ce3a3571-8fba-47aa-ba8e-f457c09a6ba3_setup',\n",
       "  'FeaturizationRunJsonPath': 'featurizer_container.json',\n",
       "  'FeaturizationRunId': 'AutoML_ce3a3571-8fba-47aa-ba8e-f457c09a6ba3_featurize',\n",
       "  'ProblemInfoJsonString': '{\"dataset_num_categorical\": 0, \"is_sparse\": true, \"subsampling\": false, \"dataset_classes\": 2, \"dataset_features\": 2490, \"dataset_samples\": 950, \"single_frequency_class_detected\": false}',\n",
       "  'ModelExplainRunId': 'AutoML_ce3a3571-8fba-47aa-ba8e-f457c09a6ba3_ModelExplain'},\n",
       " 'inputDatasets': [{'dataset': {'id': '1e301f57-2a9e-41c0-948d-e4ad721d39d1'}, 'consumptionDetails': {'type': 'RunInput', 'inputName': 'training_data', 'mechanism': 'Direct'}}],\n",
       " 'outputDatasets': [],\n",
       " 'logFiles': {},\n",
       " 'submittedBy': 'ODL_User 138934'}"
      ]
     },
     "execution_count": 52,
     "metadata": {},
     "output_type": "execute_result"
    }
   ],
   "source": [
    "automlmodel_run.wait_for_completion(show_output=True)"
   ]
  },
  {
   "cell_type": "markdown",
   "metadata": {},
   "source": [
    "## Best Model\n",
    "\n",
    "TODO: In the cell below, get the best model from the automl experiments and display all the properties of the model.\n",
    "\n"
   ]
  },
  {
   "cell_type": "code",
   "execution_count": 53,
   "metadata": {
    "collapsed": true,
    "gather": {
     "logged": 1613378745339
    },
    "jupyter": {
     "outputs_hidden": false,
     "source_hidden": false
    },
    "nteract": {
     "transient": {
      "deleting": false
     }
    }
   },
   "outputs": [
    {
     "name": "stderr",
     "output_type": "stream",
     "text": [
      "WARNING:root:The version of the SDK does not match the version the model was trained on.\n",
      "WARNING:root:The consistency in the result may not be guaranteed.\n",
      "WARNING:root:Package:azureml-automl-core, training version:1.21.0, current version:1.20.0\n",
      "Package:azureml-automl-runtime, training version:1.21.0, current version:1.20.0\n",
      "Package:azureml-core, training version:1.21.0.post1, current version:1.20.0\n",
      "Package:azureml-dataprep, training version:2.8.2, current version:2.7.3\n",
      "Package:azureml-dataprep-native, training version:28.0.0, current version:27.0.0\n",
      "Package:azureml-dataprep-rslex, training version:1.6.0, current version:1.5.0\n",
      "Package:azureml-dataset-runtime, training version:1.21.0, current version:1.20.0\n",
      "Package:azureml-defaults, training version:1.21.0, current version:1.20.0\n",
      "Package:azureml-interpret, training version:1.21.0, current version:1.20.0\n",
      "Package:azureml-pipeline-core, training version:1.21.0, current version:1.20.0\n",
      "Package:azureml-telemetry, training version:1.21.0, current version:1.20.0\n",
      "Package:azureml-train-automl-client, training version:1.21.0, current version:1.20.0\n",
      "Package:azureml-train-automl-runtime, training version:1.21.0, current version:1.20.0\n",
      "WARNING:root:Please ensure the version of your local conda dependencies match the version on which your model was trained in order to properly retrieve your model.\n"
     ]
    },
    {
     "name": "stdout",
     "output_type": "stream",
     "text": [
      "Run(Experiment: ad-automl-experiment,\n",
      "Id: AutoML_ce3a3571-8fba-47aa-ba8e-f457c09a6ba3_38,\n",
      "Type: azureml.scriptrun,\n",
      "Status: Completed)\n",
      "average_precision_score_weighted 0.9922875975509264\n",
      "matthews_correlation 0.9159192564221998\n",
      "precision_score_weighted 0.9589855617294374\n",
      "recall_score_micro 0.9578947368421055\n",
      "AUC_macro 0.9921302508634045\n",
      "AUC_micro 0.9917119113573406\n",
      "f1_score_macro 0.9574109717037897\n",
      "recall_score_weighted 0.9578947368421055\n",
      "weighted_accuracy 0.9576776997656384\n",
      "f1_score_weighted 0.9578927257699872\n",
      "average_precision_score_micro 0.9918922619069791\n",
      "norm_macro_recall 0.9161939543147956\n",
      "log_loss 0.2143155566795027\n",
      "accuracy 0.9578947368421055\n",
      "AUC_weighted 0.9921302508634045\n",
      "f1_score_micro 0.9578947368421055\n",
      "recall_score_macro 0.9580969771573979\n",
      "average_precision_score_macro 0.992164272486689\n",
      "precision_score_micro 0.9578947368421055\n",
      "precision_score_macro 0.9578246516029466\n",
      "balanced_accuracy 0.9580969771573979\n",
      "accuracy_table aml://artifactId/ExperimentRun/dcid.AutoML_ce3a3571-8fba-47aa-ba8e-f457c09a6ba3_38/accuracy_table\n",
      "confusion_matrix aml://artifactId/ExperimentRun/dcid.AutoML_ce3a3571-8fba-47aa-ba8e-f457c09a6ba3_38/confusion_matrix\n"
     ]
    }
   ],
   "source": [
    "# best run and model for automl\n",
    "best_run, fitted_model = automlmodel_run.get_output()\n",
    "\n",
    "# Print the best run\n",
    "print(best_run)\n",
    "\n",
    "# All metrics of the best run\n",
    "best_run_metrics = best_run.get_metrics()\n",
    "\n",
    "# Print all metrics of the best run\n",
    "for metric_name in best_run_metrics:\n",
    "    metric = best_run_metrics[metric_name]\n",
    "    print(metric_name, metric)"
   ]
  },
  {
   "cell_type": "markdown",
   "metadata": {},
   "source": [
    "## Model Deployment\n",
    "\n",
    "Remember you have to deploy only one of the two models you trained.. Perform the steps in the rest of this notebook only if you wish to deploy this model.\n",
    "\n",
    "TODO: In the cell below, register the model, create an inference config and deploy the model as a web service."
   ]
  },
  {
   "cell_type": "code",
   "execution_count": 54,
   "metadata": {
    "gather": {
     "logged": 1613378745938
    }
   },
   "outputs": [
    {
     "name": "stdout",
     "output_type": "stream",
     "text": [
      "Model(workspace=Workspace.create(name='quick-starts-ws-138934', subscription_id='6971f5ac-8af1-446e-8034-05acea24681f', resource_group='aml-quickstarts-138934'), name=Advertising_BinaryClassification, id=Advertising_BinaryClassification:2, version=2, tags={}, properties={})\n"
     ]
    }
   ],
   "source": [
    "#TODO: Save the best model\n",
    "model = best_run.register_model(model_name='Advertising_BinaryClassification', model_path='outputs/model.pkl')\n",
    "print(model)"
   ]
  },
  {
   "cell_type": "code",
   "execution_count": 55,
   "metadata": {
    "gather": {
     "logged": 1613378746326
    },
    "jupyter": {
     "outputs_hidden": false,
     "source_hidden": false
    },
    "nteract": {
     "transient": {
      "deleting": false
     }
    }
   },
   "outputs": [],
   "source": [
    "best_run.download_file('./outputs/model.pkl', output_file_path='./outputs')"
   ]
  },
  {
   "cell_type": "code",
   "execution_count": 56,
   "metadata": {
    "gather": {
     "logged": 1613378746563
    }
   },
   "outputs": [],
   "source": [
    "from azureml.automl.core.shared import constants\n",
    "best_run.download_file(constants.CONDA_ENV_FILE_PATH, 'automl_env.yml')"
   ]
  },
  {
   "cell_type": "code",
   "execution_count": 57,
   "metadata": {
    "collapsed": true,
    "gather": {
     "logged": 1613378747186
    },
    "jupyter": {
     "outputs_hidden": false,
     "source_hidden": false
    },
    "nteract": {
     "transient": {
      "deleting": false
     }
    }
   },
   "outputs": [],
   "source": [
    "# set InferenceConfig\n",
    "from azureml.core.environment import Environment\n",
    "from azureml.core.model import InferenceConfig\n",
    "\n",
    "inference_config = InferenceConfig(entry_script='./score.py',\n",
    "                                    environment=best_run.get_environment())"
   ]
  },
  {
   "cell_type": "code",
   "execution_count": 58,
   "metadata": {
    "gather": {
     "logged": 1613378960525
    }
   },
   "outputs": [
    {
     "name": "stdout",
     "output_type": "stream",
     "text": [
      "Tips: You can try get_logs(): https://aka.ms/debugimage#dockerlog or local deployment: https://aka.ms/debugimage#debug-locally to debug if deployment takes longer than 10 minutes.\n",
      "Running.........................................\n",
      "Succeeded\n",
      "ACI service creation operation finished, operation \"Succeeded\"\n",
      "Healthy\n",
      "http://316b5058-8862-4683-aeff-7ab4781b18dd.southcentralus.azurecontainer.io/score\n"
     ]
    }
   ],
   "source": [
    "# deploy the model\n",
    "from azureml.core import Model\n",
    "from azureml.core.webservice import AciWebservice\n",
    "\n",
    "deployment_config = AciWebservice.deploy_configuration(cpu_cores = 2, memory_gb = 1)\n",
    "service = Model.deploy(workspace=ws, name=\"automlservice\", models=[model], inference_config=inference_config, deployment_config=deployment_config)\n",
    "service.wait_for_deployment(show_output = True)\n",
    "print(service.state)\n",
    "print(service.scoring_uri)"
   ]
  },
  {
   "cell_type": "markdown",
   "metadata": {
    "collapsed": true,
    "gather": {
     "logged": 1598431657736
    },
    "jupyter": {
     "outputs_hidden": false,
     "source_hidden": false
    },
    "nteract": {
     "transient": {
      "deleting": false
     }
    }
   },
   "source": [
    "TODO: In the cell below, send a request to the web service you deployed to test it."
   ]
  },
  {
   "cell_type": "code",
   "execution_count": 59,
   "metadata": {
    "collapsed": true,
    "gather": {
     "logged": 1613378961623
    },
    "jupyter": {
     "outputs_hidden": false,
     "source_hidden": false
    },
    "nteract": {
     "transient": {
      "deleting": false
     }
    }
   },
   "outputs": [
    {
     "name": "stdout",
     "output_type": "stream",
     "text": [
      "{\"data\": [{\"Daily Time Spent on Site\": 78.96, \"Age\": 50, \"Area Income\": 69868.48, \"Daily Internet Usage\": 193.15, \"Ad Topic Line\": \"Stand-alone well-modulated product\", \"City\": \"East Jason\", \"Male\": 0, \"Country\": \"Cayman Islands\", \"Month\": 2, \"Date\": 12, \"Hour\": 1, \"Minute\": 55, \"Second\": 38, \"Clicked on Ad\": 1}, {\"Daily Time Spent on Site\": 63.99, \"Age\": 43, \"Area Income\": 72802.42, \"Daily Internet Usage\": 138.46, \"Ad Topic Line\": \"Ameliorated bandwidth-monitored contingency\", \"City\": \"North Cassie\", \"Male\": 0, \"Country\": \"Haiti\", \"Month\": 1, \"Date\": 11, \"Hour\": 8, \"Minute\": 18, \"Second\": 12, \"Clicked on Ad\": 1}, {\"Daily Time Spent on Site\": 41.35, \"Age\": 27, \"Area Income\": 39193.45, \"Daily Internet Usage\": 162.46, \"Ad Topic Line\": \"Streamlined homogeneous analyzer\", \"City\": \"Hintonport\", \"Male\": 1, \"Country\": \"Colombia\", \"Month\": 3, \"Date\": 3, \"Hour\": 3, \"Minute\": 51, \"Second\": 27, \"Clicked on Ad\": 1}, {\"Daily Time Spent on Site\": 62.79, \"Age\": 36, \"Area Income\": 18368.57, \"Daily Internet Usage\": 231.87, \"Ad Topic Line\": \"Total coherent archive\", \"City\": \"New James\", \"Male\": 1, \"Country\": \"Luxembourg\", \"Month\": 5, \"Date\": 30, \"Hour\": 20, \"Minute\": 8, \"Second\": 51, \"Clicked on Ad\": 1}, {\"Daily Time Spent on Site\": 45.53, \"Age\": 29, \"Area Income\": 56129.89, \"Daily Internet Usage\": 141.58, \"Ad Topic Line\": \"Front-line neutral alliance\", \"City\": \"North Destiny\", \"Male\": 0, \"Country\": \"United Arab Emirates\", \"Month\": 4, \"Date\": 22, \"Hour\": 22, \"Minute\": 1, \"Second\": 21, \"Clicked on Ad\": 1}]}\n"
     ]
    }
   ],
   "source": [
    "# define the test sample\n",
    "import json\n",
    "from azureml.data.dataset_factory import TabularDatasetFactory\n",
    "test_loc = \"https://raw.githubusercontent.com/chamsun-imoggo/udacityms-3rdproject/main/data/advertising_test.csv\"\n",
    "test_df = TabularDatasetFactory.from_delimited_files(test_loc).to_pandas_dataframe()\n",
    "test_sample = json.dumps({'data':test_df.head(5).to_dict(orient=\"records\")})\n",
    "print(test_sample)"
   ]
  },
  {
   "cell_type": "code",
   "execution_count": 60,
   "metadata": {
    "gather": {
     "logged": 1613378961816
    }
   },
   "outputs": [
    {
     "name": "stdout",
     "output_type": "stream",
     "text": [
      "<Response [200]>\n"
     ]
    }
   ],
   "source": [
    "# send a request to the endpoint\n",
    "import requests\n",
    "headers={\"Content-Type\":\"application/json\"}\n",
    "\n",
    "result=requests.post(service.scoring_uri, test_sample, headers=headers)\n",
    "print(result)"
   ]
  },
  {
   "cell_type": "markdown",
   "metadata": {
    "collapsed": true,
    "gather": {
     "logged": 1598432765711
    },
    "jupyter": {
     "outputs_hidden": false,
     "source_hidden": false
    },
    "nteract": {
     "transient": {
      "deleting": false
     }
    }
   },
   "source": [
    "TODO: In the cell below, print the logs of the web service and delete the service"
   ]
  },
  {
   "cell_type": "code",
   "execution_count": 61,
   "metadata": {
    "gather": {
     "logged": 1613378962011
    }
   },
   "outputs": [
    {
     "name": "stdout",
     "output_type": "stream",
     "text": [
      "2021-02-15T08:49:07,162936501+00:00 - iot-server/run \n",
      "2021-02-15T08:49:07,164891808+00:00 - rsyslog/run \n",
      "2021-02-15T08:49:07,165328509+00:00 - gunicorn/run \n",
      "rsyslogd: /azureml-envs/azureml_20a8278aa8b20dd48cc50f56a6d2586c/lib/libuuid.so.1: no version information available (required by rsyslogd)\n",
      "/usr/sbin/nginx: /azureml-envs/azureml_20a8278aa8b20dd48cc50f56a6d2586c/lib/libcrypto.so.1.0.0: no version information available (required by /usr/sbin/nginx)\n",
      "/usr/sbin/nginx: /azureml-envs/azureml_20a8278aa8b20dd48cc50f56a6d2586c/lib/libcrypto.so.1.0.0: no version information available (required by /usr/sbin/nginx)\n",
      "/usr/sbin/nginx: /azureml-envs/azureml_20a8278aa8b20dd48cc50f56a6d2586c/lib/libssl.so.1.0.0: no version information available (required by /usr/sbin/nginx)\n",
      "/usr/sbin/nginx: /azureml-envs/azureml_20a8278aa8b20dd48cc50f56a6d2586c/lib/libssl.so.1.0.0: no version information available (required by /usr/sbin/nginx)\n",
      "/usr/sbin/nginx: /azureml-envs/azureml_20a8278aa8b20dd48cc50f56a6d2586c/lib/libssl.so.1.0.0: no version information available (required by /usr/sbin/nginx)\n",
      "2021-02-15T08:49:07,174036539+00:00 - nginx/run \n",
      "EdgeHubConnectionString and IOTEDGE_IOTHUBHOSTNAME are not set. Exiting...\n",
      "2021-02-15T08:49:07,289631738+00:00 - iot-server/finish 1 0\n",
      "2021-02-15T08:49:07,290987843+00:00 - Exit code 1 is normal. Not restarting iot-server.\n",
      "Starting gunicorn 19.9.0\n",
      "Listening at: http://127.0.0.1:31311 (14)\n",
      "Using worker: sync\n",
      "worker timeout is set to 300\n",
      "Booting worker with pid: 42\n",
      "SPARK_HOME not set. Skipping PySpark Initialization.\n",
      "Initializing logger\n",
      "2021-02-15 08:49:07,947 | root | INFO | Starting up app insights client\n",
      "2021-02-15 08:49:07,947 | root | INFO | Starting up request id generator\n",
      "2021-02-15 08:49:07,947 | root | INFO | Starting up app insight hooks\n",
      "2021-02-15 08:49:07,947 | root | INFO | Invoking user's init function\n",
      "Generating new fontManager, this may take some time...\n",
      "2021-02-15 08:49:12,716 | root | INFO | Users's init has completed successfully\n",
      "2021-02-15 08:49:12,723 | root | INFO | Skipping middleware: dbg_model_info as it's not enabled.\n",
      "2021-02-15 08:49:12,724 | root | INFO | Skipping middleware: dbg_resource_usage as it's not enabled.\n",
      "2021-02-15 08:49:12,726 | root | INFO | Scoring timeout is found from os.environ: 60000 ms\n",
      "2021-02-15 08:49:18,488 | root | INFO | Swagger file not present\n",
      "2021-02-15 08:49:18,489 | root | INFO | 404\n",
      "127.0.0.1 - - [15/Feb/2021:08:49:18 +0000] \"GET /swagger.json HTTP/1.0\" 404 19 \"-\" \"Go-http-client/1.1\"\n",
      "2021-02-15 08:49:20,301 | root | INFO | Swagger file not present\n",
      "2021-02-15 08:49:20,301 | root | INFO | 404\n",
      "127.0.0.1 - - [15/Feb/2021:08:49:20 +0000] \"GET /swagger.json HTTP/1.0\" 404 19 \"-\" \"Go-http-client/1.1\"\n",
      "2021-02-15 08:49:21,614 | root | INFO | Validation Request Content-Type\n",
      "2021-02-15 08:49:21,615 | root | INFO | Scoring Timer is set to 60.0 seconds\n",
      "2021-02-15 08:49:21,615 | root | INFO | 200\n",
      "127.0.0.1 - - [15/Feb/2021:08:49:21 +0000] \"POST /score HTTP/1.0\" 200 21 \"-\" \"python-requests/2.25.1\"\n",
      "\n"
     ]
    }
   ],
   "source": [
    "# print service logs\n",
    "print(service.get_logs())"
   ]
  },
  {
   "cell_type": "markdown",
   "metadata": {
    "nteract": {
     "transient": {
      "deleting": false
     }
    }
   },
   "source": [
    "<h2>Convert Model to ONNX</h2>"
   ]
  },
  {
   "cell_type": "code",
   "execution_count": 62,
   "metadata": {
    "gather": {
     "logged": 1613379071827
    }
   },
   "outputs": [],
   "source": [
    "best_run, onnx_model = automlmodel_run.get_output(return_onnx_model=True)"
   ]
  },
  {
   "cell_type": "code",
   "execution_count": 63,
   "metadata": {
    "gather": {
     "logged": 1613379072045
    }
   },
   "outputs": [],
   "source": [
    "# save the best ONNX model\n",
    "from azureml.automl.runtime.onnx_convert import OnnxConverter\n",
    "onnx_file_path = \"./automl_onnx_model.onnx\"\n",
    "OnnxConverter.save_onnx_model(onnx_model, onnx_file_path)"
   ]
  },
  {
   "cell_type": "code",
   "execution_count": null,
   "metadata": {
    "gather": {
     "logged": 1613375794507
    }
   },
   "outputs": [],
   "source": [
    "#deleting the service \n",
    "service.delete()"
   ]
  }
 ],
 "metadata": {
  "kernel_info": {
   "name": "python3"
  },
  "kernelspec": {
   "display_name": "Python 3",
   "language": "python",
   "name": "python3"
  },
  "language_info": {
   "codemirror_mode": {
    "name": "ipython",
    "version": 3
   },
   "file_extension": ".py",
   "mimetype": "text/x-python",
   "name": "python",
   "nbconvert_exporter": "python",
   "pygments_lexer": "ipython3",
   "version": "3.8.3"
  },
  "nteract": {
   "version": "nteract-front-end@1.0.0"
  }
 },
 "nbformat": 4,
 "nbformat_minor": 2
}
