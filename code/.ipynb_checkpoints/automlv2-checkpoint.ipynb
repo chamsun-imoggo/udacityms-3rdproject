{
 "cells": [
  {
   "cell_type": "markdown",
   "metadata": {},
   "source": [
    "# Automated ML\n",
    "\n",
    "TODO: Import Dependencies. In the cell below, import all the dependencies that you will need to complete the project."
   ]
  },
  {
   "cell_type": "code",
   "execution_count": 5,
   "metadata": {
    "gather": {
     "logged": 1613147721235
    },
    "jupyter": {
     "outputs_hidden": false,
     "source_hidden": false
    },
    "nteract": {
     "transient": {
      "deleting": false
     }
    }
   },
   "outputs": [
    {
     "name": "stdout",
     "output_type": "stream",
     "text": [
      "SDK version: 1.20.0\n"
     ]
    }
   ],
   "source": [
    "import logging\n",
    "import os\n",
    "import csv\n",
    "\n",
    "from matplotlib import pyplot as plt\n",
    "import numpy as np\n",
    "import pandas as pd\n",
    "from sklearn import datasets\n",
    "import pkg_resources\n",
    "\n",
    "import azureml.core\n",
    "from azureml.core.experiment import Experiment\n",
    "from azureml.core.workspace import Workspace\n",
    "from azureml.train.automl import AutoMLConfig\n",
    "from azureml.core.dataset import Dataset\n",
    "\n",
    "from azureml.pipeline.steps import AutoMLStep\n",
    "\n",
    "# Check core SDK version number\n",
    "print(\"SDK version:\", azureml.core.VERSION)"
   ]
  },
  {
   "cell_type": "markdown",
   "metadata": {},
   "source": [
    "## Dataset\n",
    "\n",
    "### Overview\n",
    "TODO: In this markdown cell, give an overview of the dataset you are using. Also mention the task you will be performing.\n",
    "\n",
    "\n",
    "TODO: Get data. In the cell below, write code to access the data you will be using in this project. Remember that the dataset needs to be external."
   ]
  },
  {
   "cell_type": "code",
   "execution_count": 6,
   "metadata": {
    "gather": {
     "logged": 1613147727768
    },
    "jupyter": {
     "outputs_hidden": false,
     "source_hidden": false
    },
    "nteract": {
     "transient": {
      "deleting": false
     }
    }
   },
   "outputs": [
    {
     "data": {
      "text/html": [
       "<table style=\"width:100%\"><tr><th>Name</th><th>Workspace</th><th>Report Page</th><th>Docs Page</th></tr><tr><td>ads-automl-experiment</td><td>quick-starts-ws-138703</td><td><a href=\"https://ml.azure.com/experiments/ads-automl-experiment?wsid=/subscriptions/f5091c60-1c3c-430f-8d81-d802f6bf2414/resourcegroups/aml-quickstarts-138703/workspaces/quick-starts-ws-138703\" target=\"_blank\" rel=\"noopener\">Link to Azure Machine Learning studio</a></td><td><a href=\"https://docs.microsoft.com/en-us/python/api/azureml-core/azureml.core.experiment.Experiment?view=azure-ml-py\" target=\"_blank\" rel=\"noopener\">Link to Documentation</a></td></tr></table>"
      ],
      "text/plain": [
       "Experiment(Name: ads-automl-experiment,\n",
       "Workspace: quick-starts-ws-138703)"
      ]
     },
     "execution_count": 6,
     "metadata": {},
     "output_type": "execute_result"
    }
   ],
   "source": [
    "ws = Workspace.from_config()\n",
    "\n",
    "\n",
    "# Choose a name for the run history container in the workspace.\n",
    "# NOTE: update these to match your existing experiment name\n",
    "experiment_name = 'ad-automl-experiment'\n",
    "project_folder = './pipeline-project'\n",
    "\n",
    "experiment = Experiment(ws, experiment_name)\n",
    "experiment"
   ]
  },
  {
   "cell_type": "code",
   "execution_count": 7,
   "metadata": {
    "gather": {
     "logged": 1613147733735
    }
   },
   "outputs": [
    {
     "data": {
      "text/html": [
       "<div>\n",
       "<style scoped>\n",
       "    .dataframe tbody tr th:only-of-type {\n",
       "        vertical-align: middle;\n",
       "    }\n",
       "\n",
       "    .dataframe tbody tr th {\n",
       "        vertical-align: top;\n",
       "    }\n",
       "\n",
       "    .dataframe thead th {\n",
       "        text-align: right;\n",
       "    }\n",
       "</style>\n",
       "<table border=\"1\" class=\"dataframe\">\n",
       "  <thead>\n",
       "    <tr style=\"text-align: right;\">\n",
       "      <th></th>\n",
       "      <th>Daily Time Spent on Site</th>\n",
       "      <th>Age</th>\n",
       "      <th>Area Income</th>\n",
       "      <th>Daily Internet Usage</th>\n",
       "      <th>Male</th>\n",
       "      <th>Clicked on Ad</th>\n",
       "    </tr>\n",
       "  </thead>\n",
       "  <tbody>\n",
       "    <tr>\n",
       "      <th>count</th>\n",
       "      <td>1000.000000</td>\n",
       "      <td>1000.000000</td>\n",
       "      <td>1000.000000</td>\n",
       "      <td>1000.000000</td>\n",
       "      <td>1000.000000</td>\n",
       "      <td>1000.00000</td>\n",
       "    </tr>\n",
       "    <tr>\n",
       "      <th>mean</th>\n",
       "      <td>65.000200</td>\n",
       "      <td>36.009000</td>\n",
       "      <td>55000.000080</td>\n",
       "      <td>180.000100</td>\n",
       "      <td>0.481000</td>\n",
       "      <td>0.50000</td>\n",
       "    </tr>\n",
       "    <tr>\n",
       "      <th>std</th>\n",
       "      <td>15.853615</td>\n",
       "      <td>8.785562</td>\n",
       "      <td>13414.634022</td>\n",
       "      <td>43.902339</td>\n",
       "      <td>0.499889</td>\n",
       "      <td>0.50025</td>\n",
       "    </tr>\n",
       "    <tr>\n",
       "      <th>min</th>\n",
       "      <td>32.600000</td>\n",
       "      <td>19.000000</td>\n",
       "      <td>13996.500000</td>\n",
       "      <td>104.780000</td>\n",
       "      <td>0.000000</td>\n",
       "      <td>0.00000</td>\n",
       "    </tr>\n",
       "    <tr>\n",
       "      <th>25%</th>\n",
       "      <td>51.360000</td>\n",
       "      <td>29.000000</td>\n",
       "      <td>47031.802500</td>\n",
       "      <td>138.830000</td>\n",
       "      <td>0.000000</td>\n",
       "      <td>0.00000</td>\n",
       "    </tr>\n",
       "    <tr>\n",
       "      <th>50%</th>\n",
       "      <td>68.215000</td>\n",
       "      <td>35.000000</td>\n",
       "      <td>57012.300000</td>\n",
       "      <td>183.130000</td>\n",
       "      <td>0.000000</td>\n",
       "      <td>0.50000</td>\n",
       "    </tr>\n",
       "    <tr>\n",
       "      <th>75%</th>\n",
       "      <td>78.547500</td>\n",
       "      <td>42.000000</td>\n",
       "      <td>65470.635000</td>\n",
       "      <td>218.792500</td>\n",
       "      <td>1.000000</td>\n",
       "      <td>1.00000</td>\n",
       "    </tr>\n",
       "    <tr>\n",
       "      <th>max</th>\n",
       "      <td>91.430000</td>\n",
       "      <td>61.000000</td>\n",
       "      <td>79484.800000</td>\n",
       "      <td>269.960000</td>\n",
       "      <td>1.000000</td>\n",
       "      <td>1.00000</td>\n",
       "    </tr>\n",
       "  </tbody>\n",
       "</table>\n",
       "</div>"
      ],
      "text/plain": [
       "       Daily Time Spent on Site          Age   Area Income  \\\n",
       "count               1000.000000  1000.000000   1000.000000   \n",
       "mean                  65.000200    36.009000  55000.000080   \n",
       "std                   15.853615     8.785562  13414.634022   \n",
       "min                   32.600000    19.000000  13996.500000   \n",
       "25%                   51.360000    29.000000  47031.802500   \n",
       "50%                   68.215000    35.000000  57012.300000   \n",
       "75%                   78.547500    42.000000  65470.635000   \n",
       "max                   91.430000    61.000000  79484.800000   \n",
       "\n",
       "       Daily Internet Usage         Male  Clicked on Ad  \n",
       "count           1000.000000  1000.000000     1000.00000  \n",
       "mean             180.000100     0.481000        0.50000  \n",
       "std               43.902339     0.499889        0.50025  \n",
       "min              104.780000     0.000000        0.00000  \n",
       "25%              138.830000     0.000000        0.00000  \n",
       "50%              183.130000     0.000000        0.50000  \n",
       "75%              218.792500     1.000000        1.00000  \n",
       "max              269.960000     1.000000        1.00000  "
      ]
     },
     "execution_count": 7,
     "metadata": {},
     "output_type": "execute_result"
    }
   ],
   "source": [
    "# get the data\n",
    "# Try to load the dataset from the Workspace. Otherwise, create it from the file\n",
    "# NOTE: update the key to match the dataset name\n",
    "# Data Source : https://www.kaggle.com/fayomi/advertising?select=advertising.csv\n",
    "found = False\n",
    "key = \"Advertising Data\"\n",
    "description_text = \"Kaggle Advertising Dataset\"\n",
    "\n",
    "if key in ws.datasets.keys(): \n",
    "        found = True\n",
    "        dataset = ws.datasets[key] \n",
    "\n",
    "if not found:\n",
    "        # Create AML Dataset and register it into Workspace\n",
    "        example_data = 'https://raw.githubusercontent.com/chamsun-imoggo/udacityms-3rdproject/main/data/advertising.csv'\n",
    "        dataset = Dataset.Tabular.from_delimited_files(example_data)        \n",
    "        #Register Dataset in Workspace\n",
    "        dataset = dataset.register(workspace=ws,\n",
    "                                   name=key,\n",
    "                                   description=description_text)\n",
    "\n",
    "\n",
    "df = dataset.to_pandas_dataframe()\n",
    "df.describe()"
   ]
  },
  {
   "cell_type": "markdown",
   "metadata": {},
   "source": [
    "## AutoML Configuration\n",
    "\n",
    "TODO: Explain why you chose the automl settings and cofiguration you used below."
   ]
  },
  {
   "cell_type": "code",
   "execution_count": 10,
   "metadata": {
    "gather": {
     "logged": 1613148080225
    }
   },
   "outputs": [
    {
     "name": "stdout",
     "output_type": "stream",
     "text": [
      "Creating\n",
      "Succeeded\n",
      "AmlCompute wait for completion finished\n",
      "\n",
      "Minimum number of nodes requested have been provisioned\n"
     ]
    }
   ],
   "source": [
    "from azureml.core.compute import AmlCompute\n",
    "from azureml.core.compute import ComputeTarget\n",
    "from azureml.core.compute_target import ComputeTargetException\n",
    "\n",
    "# NOTE: update the cluster name to match the existing cluster\n",
    "# Choose a name for your CPU cluster\n",
    "amlcompute_cluster_name = \"compute-ml\"\n",
    "\n",
    "# Verify that cluster does not exist already\n",
    "try:\n",
    "    compute_target = ComputeTarget(ws, amlcompute_cluster_name)\n",
    "    print(f\"{compute_name} exists already\")\n",
    "except:\n",
    "    compute_config = AmlCompute.provisioning_configuration(vm_size=\"Standard_DS12_v2\", max_nodes=4)\n",
    "    compute_target = ComputeTarget.create(ws, amlcompute_cluster_name, compute_config)\n",
    "compute_target.wait_for_completion(show_output=True)"
   ]
  },
  {
   "cell_type": "code",
   "execution_count": 11,
   "metadata": {
    "gather": {
     "logged": 1613148143294
    },
    "jupyter": {
     "outputs_hidden": false,
     "source_hidden": false
    },
    "nteract": {
     "transient": {
      "deleting": false
     }
    }
   },
   "outputs": [],
   "source": [
    "# TODO: Put your automl settings here\n",
    "automl_settings = {\n",
    "    \"experiment_timeout_minutes\": 20,\n",
    "    \"max_concurrent_iterations\": 5,\n",
    "    \"primary_metric\" : 'AUC_weighted'\n",
    "}\n",
    "\n",
    "# TODO: Put your automl config here\n",
    "automl_config = AutoMLConfig(compute_target=compute_target,\n",
    "                             task = \"classification\",\n",
    "                             training_data=dataset,\n",
    "                             label_column_name=\"Clicked on Ad\",   \n",
    "                             path = project_folder,\n",
    "                             enable_early_stopping= True,\n",
    "                             featurization= 'auto',\n",
    "                             debug_log = \"automl_errors.log\",\n",
    "                             **automl_settings\n",
    "                            )\n"
   ]
  },
  {
   "cell_type": "code",
   "execution_count": 48,
   "metadata": {
    "gather": {
     "logged": 1613153821006
    },
    "jupyter": {
     "outputs_hidden": false,
     "source_hidden": false
    },
    "nteract": {
     "transient": {
      "deleting": false
     }
    }
   },
   "outputs": [
    {
     "name": "stdout",
     "output_type": "stream",
     "text": [
      "Running on remote.\n"
     ]
    }
   ],
   "source": [
    "# TODO: Submit your experiment\n",
    "automlmodel_run = experiment.submit(automl_config)"
   ]
  },
  {
   "cell_type": "markdown",
   "metadata": {},
   "source": [
    "## Run Details\n",
    "\n",
    "OPTIONAL: Write about the different models trained and their performance. Why do you think some models did better than others?\n",
    "\n",
    "TODO: In the cell below, use the `RunDetails` widget to show the different experiments."
   ]
  },
  {
   "cell_type": "code",
   "execution_count": 49,
   "metadata": {
    "collapsed": true,
    "gather": {
     "logged": 1613153835291
    },
    "jupyter": {
     "outputs_hidden": false,
     "source_hidden": false
    },
    "nteract": {
     "transient": {
      "deleting": false
     }
    }
   },
   "outputs": [
    {
     "data": {
      "application/vnd.jupyter.widget-view+json": {
       "model_id": "86bde44bb8be4772a3c793378b7a4647",
       "version_major": 2,
       "version_minor": 0
      },
      "text/plain": [
       "_AutoMLWidget(widget_settings={'childWidgetDisplay': 'popup', 'send_telemetry': False, 'log_level': 'INFO', 's…"
      ]
     },
     "metadata": {},
     "output_type": "display_data"
    },
    {
     "data": {
      "application/aml.mini.widget.v1": "{\"status\": \"Running\", \"workbench_run_details_uri\": \"https://ml.azure.com/experiments/ads-automl-experiment/runs/AutoML_f017f089-0c89-4bfe-a32f-fa6e5c00dfbd?wsid=/subscriptions/f5091c60-1c3c-430f-8d81-d802f6bf2414/resourcegroups/aml-quickstarts-138703/workspaces/quick-starts-ws-138703\", \"run_id\": \"AutoML_f017f089-0c89-4bfe-a32f-fa6e5c00dfbd\", \"run_properties\": {\"run_id\": \"AutoML_f017f089-0c89-4bfe-a32f-fa6e5c00dfbd\", \"created_utc\": \"2021-02-12T18:16:59.939278Z\", \"properties\": {\"num_iterations\": \"1000\", \"training_type\": \"TrainFull\", \"acquisition_function\": \"EI\", \"primary_metric\": \"AUC_weighted\", \"train_split\": \"0\", \"acquisition_parameter\": \"0\", \"num_cross_validation\": null, \"target\": \"compute-ml\", \"AMLSettingsJsonString\": \"{\\\"path\\\":null,\\\"name\\\":\\\"ads-automl-experiment\\\",\\\"subscription_id\\\":\\\"f5091c60-1c3c-430f-8d81-d802f6bf2414\\\",\\\"resource_group\\\":\\\"aml-quickstarts-138703\\\",\\\"workspace_name\\\":\\\"quick-starts-ws-138703\\\",\\\"region\\\":\\\"southcentralus\\\",\\\"compute_target\\\":\\\"compute-ml\\\",\\\"spark_service\\\":null,\\\"azure_service\\\":\\\"remote\\\",\\\"many_models\\\":false,\\\"pipeline_fetch_max_batch_size\\\":1,\\\"iterations\\\":1000,\\\"primary_metric\\\":\\\"AUC_weighted\\\",\\\"task_type\\\":\\\"classification\\\",\\\"data_script\\\":null,\\\"validation_size\\\":0.0,\\\"n_cross_validations\\\":null,\\\"y_min\\\":null,\\\"y_max\\\":null,\\\"num_classes\\\":null,\\\"featurization\\\":\\\"auto\\\",\\\"_ignore_package_version_incompatibilities\\\":false,\\\"is_timeseries\\\":false,\\\"max_cores_per_iteration\\\":1,\\\"max_concurrent_iterations\\\":5,\\\"iteration_timeout_minutes\\\":null,\\\"mem_in_mb\\\":null,\\\"enforce_time_on_windows\\\":false,\\\"experiment_timeout_minutes\\\":20,\\\"experiment_exit_score\\\":null,\\\"whitelist_models\\\":null,\\\"blacklist_algos\\\":[\\\"TensorFlowLinearClassifier\\\",\\\"TensorFlowDNN\\\"],\\\"supported_models\\\":[\\\"DecisionTree\\\",\\\"SGD\\\",\\\"LightGBM\\\",\\\"AveragedPerceptronClassifier\\\",\\\"GradientBoosting\\\",\\\"BernoulliNaiveBayes\\\",\\\"XGBoostClassifier\\\",\\\"TensorFlowDNN\\\",\\\"SVM\\\",\\\"TensorFlowLinearClassifier\\\",\\\"LogisticRegression\\\",\\\"MultinomialNaiveBayes\\\",\\\"LinearSVM\\\",\\\"ExtremeRandomTrees\\\",\\\"KNN\\\",\\\"RandomForest\\\"],\\\"auto_blacklist\\\":true,\\\"blacklist_samples_reached\\\":false,\\\"exclude_nan_labels\\\":true,\\\"verbosity\\\":20,\\\"_debug_log\\\":\\\"azureml_automl.log\\\",\\\"show_warnings\\\":false,\\\"model_explainability\\\":true,\\\"service_url\\\":null,\\\"sdk_url\\\":null,\\\"sdk_packages\\\":null,\\\"enable_onnx_compatible_models\\\":false,\\\"enable_split_onnx_featurizer_estimator_models\\\":false,\\\"vm_type\\\":\\\"STANDARD_DS12_V2\\\",\\\"telemetry_verbosity\\\":20,\\\"send_telemetry\\\":true,\\\"enable_dnn\\\":false,\\\"scenario\\\":\\\"SDK-1.13.0\\\",\\\"environment_label\\\":null,\\\"force_text_dnn\\\":false,\\\"enable_feature_sweeping\\\":true,\\\"enable_early_stopping\\\":true,\\\"early_stopping_n_iters\\\":10,\\\"metrics\\\":null,\\\"enable_ensembling\\\":true,\\\"enable_stack_ensembling\\\":true,\\\"ensemble_iterations\\\":15,\\\"enable_tf\\\":false,\\\"enable_subsampling\\\":null,\\\"subsample_seed\\\":null,\\\"enable_nimbusml\\\":false,\\\"enable_streaming\\\":false,\\\"force_streaming\\\":false,\\\"track_child_runs\\\":true,\\\"allowed_private_models\\\":[],\\\"label_column_name\\\":\\\"Clicked on Ad\\\",\\\"weight_column_name\\\":null,\\\"cv_split_column_names\\\":null,\\\"enable_local_managed\\\":false,\\\"_local_managed_run_id\\\":null,\\\"cost_mode\\\":1,\\\"lag_length\\\":0,\\\"metric_operation\\\":\\\"maximize\\\",\\\"preprocess\\\":true}\", \"DataPrepJsonString\": \"{\\\\\\\"training_data\\\\\\\": \\\\\\\"{\\\\\\\\\\\\\\\"blocks\\\\\\\\\\\\\\\": [{\\\\\\\\\\\\\\\"id\\\\\\\\\\\\\\\": \\\\\\\\\\\\\\\"9715474a-e192-4df1-9a0e-ef1640c5765e\\\\\\\\\\\\\\\", \\\\\\\\\\\\\\\"type\\\\\\\\\\\\\\\": \\\\\\\\\\\\\\\"Microsoft.DPrep.GetFilesBlock\\\\\\\\\\\\\\\", \\\\\\\\\\\\\\\"arguments\\\\\\\\\\\\\\\": {\\\\\\\\\\\\\\\"isArchive\\\\\\\\\\\\\\\": false, \\\\\\\\\\\\\\\"path\\\\\\\\\\\\\\\": {\\\\\\\\\\\\\\\"target\\\\\\\\\\\\\\\": 4, \\\\\\\\\\\\\\\"resourceDetails\\\\\\\\\\\\\\\": [{\\\\\\\\\\\\\\\"path\\\\\\\\\\\\\\\": \\\\\\\\\\\\\\\"https://raw.githubusercontent.com/chamsun-imoggo/udacityms-3rdproject/main/data/advertising.csv\\\\\\\\\\\\\\\"}]}}, \\\\\\\\\\\\\\\"localData\\\\\\\\\\\\\\\": {}, \\\\\\\\\\\\\\\"isEnabled\\\\\\\\\\\\\\\": true, \\\\\\\\\\\\\\\"name\\\\\\\\\\\\\\\": null, \\\\\\\\\\\\\\\"annotation\\\\\\\\\\\\\\\": null}, {\\\\\\\\\\\\\\\"id\\\\\\\\\\\\\\\": \\\\\\\\\\\\\\\"9b298d61-8559-4d6a-83a5-5476e70415a7\\\\\\\\\\\\\\\", \\\\\\\\\\\\\\\"type\\\\\\\\\\\\\\\": \\\\\\\\\\\\\\\"Microsoft.DPrep.ParseDelimitedBlock\\\\\\\\\\\\\\\", \\\\\\\\\\\\\\\"arguments\\\\\\\\\\\\\\\": {\\\\\\\\\\\\\\\"columnHeadersMode\\\\\\\\\\\\\\\": 3, \\\\\\\\\\\\\\\"fileEncoding\\\\\\\\\\\\\\\": 0, \\\\\\\\\\\\\\\"handleQuotedLineBreaks\\\\\\\\\\\\\\\": false, \\\\\\\\\\\\\\\"preview\\\\\\\\\\\\\\\": false, \\\\\\\\\\\\\\\"separator\\\\\\\\\\\\\\\": \\\\\\\\\\\\\\\",\\\\\\\\\\\\\\\", \\\\\\\\\\\\\\\"skipRows\\\\\\\\\\\\\\\": 0, \\\\\\\\\\\\\\\"skipRowsMode\\\\\\\\\\\\\\\": 0}, \\\\\\\\\\\\\\\"localData\\\\\\\\\\\\\\\": {}, \\\\\\\\\\\\\\\"isEnabled\\\\\\\\\\\\\\\": true, \\\\\\\\\\\\\\\"name\\\\\\\\\\\\\\\": null, \\\\\\\\\\\\\\\"annotation\\\\\\\\\\\\\\\": null}, {\\\\\\\\\\\\\\\"id\\\\\\\\\\\\\\\": \\\\\\\\\\\\\\\"e20f45a3-848b-47ff-bda9-05b752cd2836\\\\\\\\\\\\\\\", \\\\\\\\\\\\\\\"type\\\\\\\\\\\\\\\": \\\\\\\\\\\\\\\"Microsoft.DPrep.DropColumnsBlock\\\\\\\\\\\\\\\", \\\\\\\\\\\\\\\"arguments\\\\\\\\\\\\\\\": {\\\\\\\\\\\\\\\"columns\\\\\\\\\\\\\\\": {\\\\\\\\\\\\\\\"type\\\\\\\\\\\\\\\": 0, \\\\\\\\\\\\\\\"details\\\\\\\\\\\\\\\": {\\\\\\\\\\\\\\\"selectedColumns\\\\\\\\\\\\\\\": [\\\\\\\\\\\\\\\"Path\\\\\\\\\\\\\\\"]}}}, \\\\\\\\\\\\\\\"localData\\\\\\\\\\\\\\\": {}, \\\\\\\\\\\\\\\"isEnabled\\\\\\\\\\\\\\\": true, \\\\\\\\\\\\\\\"name\\\\\\\\\\\\\\\": null, \\\\\\\\\\\\\\\"annotation\\\\\\\\\\\\\\\": null}, {\\\\\\\\\\\\\\\"id\\\\\\\\\\\\\\\": \\\\\\\\\\\\\\\"dd02d467-26c2-420e-b6cb-644301d542a7\\\\\\\\\\\\\\\", \\\\\\\\\\\\\\\"type\\\\\\\\\\\\\\\": \\\\\\\\\\\\\\\"Microsoft.DPrep.SetColumnTypesBlock\\\\\\\\\\\\\\\", \\\\\\\\\\\\\\\"arguments\\\\\\\\\\\\\\\": {\\\\\\\\\\\\\\\"columnConversion\\\\\\\\\\\\\\\": [{\\\\\\\\\\\\\\\"column\\\\\\\\\\\\\\\": {\\\\\\\\\\\\\\\"type\\\\\\\\\\\\\\\": 2, \\\\\\\\\\\\\\\"details\\\\\\\\\\\\\\\": {\\\\\\\\\\\\\\\"selectedColumn\\\\\\\\\\\\\\\": \\\\\\\\\\\\\\\"Daily Time Spent on Site\\\\\\\\\\\\\\\"}}, \\\\\\\\\\\\\\\"typeProperty\\\\\\\\\\\\\\\": 3}, {\\\\\\\\\\\\\\\"column\\\\\\\\\\\\\\\": {\\\\\\\\\\\\\\\"type\\\\\\\\\\\\\\\": 2, \\\\\\\\\\\\\\\"details\\\\\\\\\\\\\\\": {\\\\\\\\\\\\\\\"selectedColumn\\\\\\\\\\\\\\\": \\\\\\\\\\\\\\\"Age\\\\\\\\\\\\\\\"}}, \\\\\\\\\\\\\\\"typeProperty\\\\\\\\\\\\\\\": 2}, {\\\\\\\\\\\\\\\"column\\\\\\\\\\\\\\\": {\\\\\\\\\\\\\\\"type\\\\\\\\\\\\\\\": 2, \\\\\\\\\\\\\\\"details\\\\\\\\\\\\\\\": {\\\\\\\\\\\\\\\"selectedColumn\\\\\\\\\\\\\\\": \\\\\\\\\\\\\\\"Area Income\\\\\\\\\\\\\\\"}}, \\\\\\\\\\\\\\\"typeProperty\\\\\\\\\\\\\\\": 3}, {\\\\\\\\\\\\\\\"column\\\\\\\\\\\\\\\": {\\\\\\\\\\\\\\\"type\\\\\\\\\\\\\\\": 2, \\\\\\\\\\\\\\\"details\\\\\\\\\\\\\\\": {\\\\\\\\\\\\\\\"selectedColumn\\\\\\\\\\\\\\\": \\\\\\\\\\\\\\\"Daily Internet Usage\\\\\\\\\\\\\\\"}}, \\\\\\\\\\\\\\\"typeProperty\\\\\\\\\\\\\\\": 3}, {\\\\\\\\\\\\\\\"column\\\\\\\\\\\\\\\": {\\\\\\\\\\\\\\\"type\\\\\\\\\\\\\\\": 2, \\\\\\\\\\\\\\\"details\\\\\\\\\\\\\\\": {\\\\\\\\\\\\\\\"selectedColumn\\\\\\\\\\\\\\\": \\\\\\\\\\\\\\\"Ad Topic Line\\\\\\\\\\\\\\\"}}, \\\\\\\\\\\\\\\"typeProperty\\\\\\\\\\\\\\\": 0}, {\\\\\\\\\\\\\\\"column\\\\\\\\\\\\\\\": {\\\\\\\\\\\\\\\"type\\\\\\\\\\\\\\\": 2, \\\\\\\\\\\\\\\"details\\\\\\\\\\\\\\\": {\\\\\\\\\\\\\\\"selectedColumn\\\\\\\\\\\\\\\": \\\\\\\\\\\\\\\"City\\\\\\\\\\\\\\\"}}, \\\\\\\\\\\\\\\"typeProperty\\\\\\\\\\\\\\\": 0}, {\\\\\\\\\\\\\\\"column\\\\\\\\\\\\\\\": {\\\\\\\\\\\\\\\"type\\\\\\\\\\\\\\\": 2, \\\\\\\\\\\\\\\"details\\\\\\\\\\\\\\\": {\\\\\\\\\\\\\\\"selectedColumn\\\\\\\\\\\\\\\": \\\\\\\\\\\\\\\"Male\\\\\\\\\\\\\\\"}}, \\\\\\\\\\\\\\\"typeProperty\\\\\\\\\\\\\\\": 2}, {\\\\\\\\\\\\\\\"column\\\\\\\\\\\\\\\": {\\\\\\\\\\\\\\\"type\\\\\\\\\\\\\\\": 2, \\\\\\\\\\\\\\\"details\\\\\\\\\\\\\\\": {\\\\\\\\\\\\\\\"selectedColumn\\\\\\\\\\\\\\\": \\\\\\\\\\\\\\\"Country\\\\\\\\\\\\\\\"}}, \\\\\\\\\\\\\\\"typeProperty\\\\\\\\\\\\\\\": 0}, {\\\\\\\\\\\\\\\"column\\\\\\\\\\\\\\\": {\\\\\\\\\\\\\\\"type\\\\\\\\\\\\\\\": 2, \\\\\\\\\\\\\\\"details\\\\\\\\\\\\\\\": {\\\\\\\\\\\\\\\"selectedColumn\\\\\\\\\\\\\\\": \\\\\\\\\\\\\\\"Timestamp\\\\\\\\\\\\\\\"}}, \\\\\\\\\\\\\\\"typeArguments\\\\\\\\\\\\\\\": {\\\\\\\\\\\\\\\"dateTimeFormats\\\\\\\\\\\\\\\": [\\\\\\\\\\\\\\\"%Y-%m-%d %H:%M:%S\\\\\\\\\\\\\\\"]}, \\\\\\\\\\\\\\\"typeProperty\\\\\\\\\\\\\\\": 4}, {\\\\\\\\\\\\\\\"column\\\\\\\\\\\\\\\": {\\\\\\\\\\\\\\\"type\\\\\\\\\\\\\\\": 2, \\\\\\\\\\\\\\\"details\\\\\\\\\\\\\\\": {\\\\\\\\\\\\\\\"selectedColumn\\\\\\\\\\\\\\\": \\\\\\\\\\\\\\\"Clicked on Ad\\\\\\\\\\\\\\\"}}, \\\\\\\\\\\\\\\"typeProperty\\\\\\\\\\\\\\\": 2}]}, \\\\\\\\\\\\\\\"localData\\\\\\\\\\\\\\\": {}, \\\\\\\\\\\\\\\"isEnabled\\\\\\\\\\\\\\\": true, \\\\\\\\\\\\\\\"name\\\\\\\\\\\\\\\": null, \\\\\\\\\\\\\\\"annotation\\\\\\\\\\\\\\\": null}], \\\\\\\\\\\\\\\"inspectors\\\\\\\\\\\\\\\": [], \\\\\\\\\\\\\\\"meta\\\\\\\\\\\\\\\": {\\\\\\\\\\\\\\\"savedDatasetId\\\\\\\\\\\\\\\": \\\\\\\\\\\\\\\"4b837be4-ea0e-4f6b-814b-8cf39cd16a3a\\\\\\\\\\\\\\\", \\\\\\\\\\\\\\\"datasetType\\\\\\\\\\\\\\\": \\\\\\\\\\\\\\\"tabular\\\\\\\\\\\\\\\", \\\\\\\\\\\\\\\"subscriptionId\\\\\\\\\\\\\\\": \\\\\\\\\\\\\\\"f5091c60-1c3c-430f-8d81-d802f6bf2414\\\\\\\\\\\\\\\", \\\\\\\\\\\\\\\"workspaceId\\\\\\\\\\\\\\\": \\\\\\\\\\\\\\\"4b143a38-fbc6-4042-9e62-9c871251a999\\\\\\\\\\\\\\\", \\\\\\\\\\\\\\\"workspaceLocation\\\\\\\\\\\\\\\": \\\\\\\\\\\\\\\"southcentralus\\\\\\\\\\\\\\\"}}\\\\\\\", \\\\\\\"activities\\\\\\\": 0}\", \"EnableSubsampling\": null, \"runTemplate\": \"AutoML\", \"azureml.runsource\": \"automl\", \"display_task_type\": \"classification\", \"dependencies_versions\": \"{\\\"azureml-widgets\\\": \\\"1.20.0\\\", \\\"azureml-train\\\": \\\"1.20.0\\\", \\\"azureml-train-restclients-hyperdrive\\\": \\\"1.20.0\\\", \\\"azureml-train-core\\\": \\\"1.20.0\\\", \\\"azureml-train-automl\\\": \\\"1.20.0\\\", \\\"azureml-train-automl-runtime\\\": \\\"1.20.0\\\", \\\"azureml-train-automl-client\\\": \\\"1.20.0\\\", \\\"azureml-tensorboard\\\": \\\"1.20.0\\\", \\\"azureml-telemetry\\\": \\\"1.20.0\\\", \\\"azureml-sdk\\\": \\\"1.20.0\\\", \\\"azureml-samples\\\": \\\"0+unknown\\\", \\\"azureml-pipeline\\\": \\\"1.20.0\\\", \\\"azureml-pipeline-steps\\\": \\\"1.20.0\\\", \\\"azureml-pipeline-core\\\": \\\"1.20.0\\\", \\\"azureml-opendatasets\\\": \\\"1.20.0\\\", \\\"azureml-model-management-sdk\\\": \\\"1.0.1b6.post1\\\", \\\"azureml-mlflow\\\": \\\"1.20.0.post1\\\", \\\"azureml-interpret\\\": \\\"1.20.0\\\", \\\"azureml-explain-model\\\": \\\"1.20.0\\\", \\\"azureml-defaults\\\": \\\"1.20.0\\\", \\\"azureml-dataset-runtime\\\": \\\"1.20.0\\\", \\\"azureml-dataprep\\\": \\\"2.7.3\\\", \\\"azureml-dataprep-rslex\\\": \\\"1.5.0\\\", \\\"azureml-dataprep-native\\\": \\\"27.0.0\\\", \\\"azureml-datadrift\\\": \\\"1.20.0\\\", \\\"azureml-core\\\": \\\"1.20.0\\\", \\\"azureml-contrib-services\\\": \\\"1.20.0\\\", \\\"azureml-contrib-server\\\": \\\"1.20.0\\\", \\\"azureml-contrib-reinforcementlearning\\\": \\\"1.20.0\\\", \\\"azureml-contrib-pipeline-steps\\\": \\\"1.20.0\\\", \\\"azureml-contrib-notebook\\\": \\\"1.20.0\\\", \\\"azureml-contrib-interpret\\\": \\\"1.20.0\\\", \\\"azureml-contrib-gbdt\\\": \\\"1.20.0\\\", \\\"azureml-contrib-fairness\\\": \\\"1.20.0\\\", \\\"azureml-contrib-dataset\\\": \\\"1.20.0\\\", \\\"azureml-cli-common\\\": \\\"1.20.0\\\", \\\"azureml-automl-runtime\\\": \\\"1.20.0\\\", \\\"azureml-automl-core\\\": \\\"1.20.0\\\", \\\"azureml-accel-models\\\": \\\"1.20.0\\\"}\", \"_aml_system_scenario_identification\": \"Remote.Parent\", \"ClientType\": \"SDK\", \"environment_cpu_name\": \"AzureML-AutoML\", \"environment_cpu_label\": \"prod\", \"environment_gpu_name\": \"AzureML-AutoML-GPU\", \"environment_gpu_label\": \"prod\", \"root_attribution\": \"automl\", \"attribution\": \"AutoML\", \"Orchestrator\": \"AutoML\", \"CancelUri\": \"https://southcentralus.experiments.azureml.net/jasmine/v1.0/subscriptions/f5091c60-1c3c-430f-8d81-d802f6bf2414/resourceGroups/aml-quickstarts-138703/providers/Microsoft.MachineLearningServices/workspaces/quick-starts-ws-138703/experimentids/0e1f8887-887e-4177-bc65-fdc1a0d13840/cancel/AutoML_f017f089-0c89-4bfe-a32f-fa6e5c00dfbd\", \"ClientSdkVersion\": \"1.21.0\", \"snapshotId\": \"00000000-0000-0000-0000-000000000000\", \"SetupRunId\": \"AutoML_f017f089-0c89-4bfe-a32f-fa6e5c00dfbd_setup\", \"SetupRunContainerId\": \"dcid.AutoML_f017f089-0c89-4bfe-a32f-fa6e5c00dfbd_setup\", \"FeaturizationRunJsonPath\": \"featurizer_container.json\", \"FeaturizationRunId\": \"AutoML_f017f089-0c89-4bfe-a32f-fa6e5c00dfbd_featurize\", \"ProblemInfoJsonString\": \"{\\\"dataset_num_categorical\\\": 0, \\\"is_sparse\\\": true, \\\"subsampling\\\": false, \\\"dataset_classes\\\": 2, \\\"dataset_features\\\": 3953, \\\"dataset_samples\\\": 1000, \\\"single_frequency_class_detected\\\": false}\"}, \"tags\": {\"model_explain_run\": \"best_run\", \"_aml_system_azureml.automlComponent\": \"AutoML\", \"pipeline_id\": \"<5dfac790c5c209f98a1da2dc1c7fb76f0397324f>;<c7af0367625be6ac5c2fecbfc72ed444cb7a2111>;<032c2f067189c1f56172ca21b98c8843539dd9de>;<b19eeb61727e9c4fbb5aa45fb6e9fe3fab5b1f04>;<84f353ee505484d17af765441b00eb466a22fd74>;<4d4be808b8b6dd0f67e8354c79eddd3d712440a5>;<8de8c085d2a4b23d3f4cc392a2f2660d23d38c14>;<cf1dc9b7ea4a50d759bce352343ec6737501695a>;<22ff711585f7d612cb5545b13e4f726a7baea08b>;<644b67c67a3167cae43bb632e070a07c98f8e659>;<197f7a2c9f73f532dd122984f886bacedf643181>;<2a4d6884653b914a3c776e7938f6ae32acfc26c6>;<1fd5868c208aedafb2bfd358f8d40174211c5606>;<5deecfce5e556e579298341c0ed1f8e9dc8537ab>;<ce2643edf3d450b10c86c7d034a9bc952dc282d3>;<121c9f60849e027dd2ce3aec439c7d7cc3b62e91>;\", \"score\": \"<0.9887548912789216>;<0.9874642179428371>;<0.8640299198052691>;<0.8418551419740368>;<0.9331597861365021>;<0.9881382180347035>;<0.9875542095178013>;<0.926549681488794>;<0.9821684583847596>;<0.9882571225031525>;<0.9802258096375708>;<0.8685232765670466>;<0.9771260570183071>;<0.9849909855184819>;<0.5396546403203953>;<0.9834442230118653>;\", \"predicted_cost\": \"<0>;<0>;<0.5>;<0.5>;<0.07058466666666668>;<0.5>;<0.5>;<0.5>;<0.04838923972042647>;<0.05580068175695172>;<0.07078326222025087>;<0.06768271429214352>;<0.06736518170327342>;<0.06929679158325792>;<0.06903203679768671>;<0.07123328787891818>;\", \"fit_time\": \"<0.2215396666666667>;<1.0453623333333333>;<0.07058466666666667>;<0.03773533333333333>;<0.06123800000000001>;<0.179148>;<0.083735>;<0.034729>;<0.08554866666666668>;<0.167142>;<0.054299999999999994>;<0.030396666666666666>;<0.12112466666666666>;<0.14822766666666667>;<0.028586999999999998>;<0.07568566666666666>;\", \"training_percent\": \"<100>;<100>;<100>;<100>;<100>;<100>;<100>;<100>;<100>;<100>;<100>;<100>;<100>;<100>;<100>;<100>;\", \"iteration\": \"<0>;<1>;<3>;<4>;<7>;<6>;<5>;<2>;<8>;<9>;<11>;<10>;<12>;<13>;<14>;<15>;\", \"run_preprocessor\": \"<MaxAbsScaler>;<MaxAbsScaler>;<MaxAbsScaler>;<MaxAbsScaler>;<MaxAbsScaler>;<MaxAbsScaler>;<MaxAbsScaler>;<MaxAbsScaler>;<MaxAbsScaler>;<MaxAbsScaler>;<MaxAbsScaler>;<MaxAbsScaler>;<MaxAbsScaler>;<StandardScalerWrapper>;<MaxAbsScaler>;<StandardScalerWrapper>;\", \"run_algorithm\": \"<LightGBM>;<XGBoostClassifier>;<RandomForest>;<RandomForest>;<ExtremeRandomTrees>;<ExtremeRandomTrees>;<ExtremeRandomTrees>;<RandomForest>;<RandomForest>;<ExtremeRandomTrees>;<RandomForest>;<RandomForest>;<RandomForest>;<XGBoostClassifier>;<RandomForest>;<ExtremeRandomTrees>;\"}, \"end_time_utc\": null, \"status\": \"Running\", \"log_files\": {}, \"log_groups\": [], \"run_duration\": \"0:18:31\"}, \"child_runs\": [{\"run_id\": \"AutoML_f017f089-0c89-4bfe-a32f-fa6e5c00dfbd_0\", \"run_number\": 51, \"metric\": null, \"status\": \"Completed\", \"run_type\": \"azureml.scriptrun\", \"training_percent\": \"100\", \"start_time\": \"2021-02-12T18:27:10.91042Z\", \"end_time\": \"2021-02-12T18:28:08.28756Z\", \"created_time\": \"2021-02-12T18:27:00.112589Z\", \"created_time_dt\": \"2021-02-12T18:27:00.112589Z\", \"duration\": \"0:01:08\", \"iteration\": \"0\", \"goal\": \"AUC_weighted_max\", \"run_name\": \"MaxAbsScaler, LightGBM\", \"run_properties\": \"copy=True\", \"primary_metric\": 0.98875489, \"best_metric\": 0.98875489}, {\"run_id\": \"AutoML_f017f089-0c89-4bfe-a32f-fa6e5c00dfbd_1\", \"run_number\": 52, \"metric\": null, \"status\": \"Completed\", \"run_type\": \"azureml.scriptrun\", \"training_percent\": \"100\", \"start_time\": \"2021-02-12T18:28:15.248646Z\", \"end_time\": \"2021-02-12T18:29:13.472324Z\", \"created_time\": \"2021-02-12T18:27:00.128345Z\", \"created_time_dt\": \"2021-02-12T18:27:00.128345Z\", \"duration\": \"0:02:13\", \"iteration\": \"1\", \"goal\": \"AUC_weighted_max\", \"run_name\": \"MaxAbsScaler, XGBoostClassifier\", \"run_properties\": \"copy=True\", \"primary_metric\": 0.98746422, \"best_metric\": 0.98875489}, {\"run_id\": \"AutoML_f017f089-0c89-4bfe-a32f-fa6e5c00dfbd_4\", \"run_number\": 53, \"metric\": null, \"status\": \"Completed\", \"run_type\": \"azureml.scriptrun\", \"training_percent\": \"100\", \"start_time\": \"2021-02-12T18:30:22.537797Z\", \"end_time\": \"2021-02-12T18:31:30.410096Z\", \"created_time\": \"2021-02-12T18:27:00.139504Z\", \"created_time_dt\": \"2021-02-12T18:27:00.139504Z\", \"duration\": \"0:04:30\", \"iteration\": \"4\", \"goal\": \"AUC_weighted_max\", \"run_name\": \"MaxAbsScaler, RandomForest\", \"run_properties\": \"copy=True\", \"primary_metric\": 0.84185514, \"best_metric\": 0.98875489}, {\"run_id\": \"AutoML_f017f089-0c89-4bfe-a32f-fa6e5c00dfbd_2\", \"run_number\": 54, \"metric\": null, \"status\": \"Completed\", \"run_type\": \"azureml.scriptrun\", \"training_percent\": \"100\", \"start_time\": \"2021-02-12T18:30:23.411537Z\", \"end_time\": \"2021-02-12T18:32:45.102213Z\", \"created_time\": \"2021-02-12T18:27:00.321884Z\", \"created_time_dt\": \"2021-02-12T18:27:00.321884Z\", \"duration\": \"0:05:44\", \"iteration\": \"2\", \"goal\": \"AUC_weighted_max\", \"run_name\": \"MaxAbsScaler, RandomForest\", \"run_properties\": \"copy=True\", \"primary_metric\": 0.92654968, \"best_metric\": 0.98875489}, {\"run_id\": \"AutoML_f017f089-0c89-4bfe-a32f-fa6e5c00dfbd_3\", \"run_number\": 55, \"metric\": null, \"status\": \"Completed\", \"run_type\": \"azureml.scriptrun\", \"training_percent\": \"100\", \"start_time\": \"2021-02-12T18:29:16.432127Z\", \"end_time\": \"2021-02-12T18:30:17.084327Z\", \"created_time\": \"2021-02-12T18:27:00.478749Z\", \"created_time_dt\": \"2021-02-12T18:27:00.478749Z\", \"duration\": \"0:03:16\", \"iteration\": \"3\", \"goal\": \"AUC_weighted_max\", \"run_name\": \"MaxAbsScaler, RandomForest\", \"run_properties\": \"copy=True\", \"primary_metric\": 0.86402992, \"best_metric\": 0.98875489}, {\"run_id\": \"AutoML_f017f089-0c89-4bfe-a32f-fa6e5c00dfbd_5\", \"run_number\": 56, \"metric\": null, \"status\": \"Completed\", \"run_type\": \"azureml.scriptrun\", \"training_percent\": \"100\", \"start_time\": \"2021-02-12T18:30:29.138165Z\", \"end_time\": \"2021-02-12T18:32:40.429622Z\", \"created_time\": \"2021-02-12T18:28:11.633517Z\", \"created_time_dt\": \"2021-02-12T18:28:11.633517Z\", \"duration\": \"0:04:28\", \"iteration\": \"5\", \"goal\": \"AUC_weighted_max\", \"run_name\": \"MaxAbsScaler, ExtremeRandomTrees\", \"run_properties\": \"copy=True\", \"primary_metric\": 0.98755421, \"best_metric\": 0.98875489}, {\"run_id\": \"AutoML_f017f089-0c89-4bfe-a32f-fa6e5c00dfbd_6\", \"run_number\": 57, \"metric\": null, \"status\": \"Completed\", \"run_type\": \"azureml.scriptrun\", \"training_percent\": \"100\", \"start_time\": \"2021-02-12T18:30:28.952073Z\", \"end_time\": \"2021-02-12T18:32:39.852754Z\", \"created_time\": \"2021-02-12T18:29:15.807631Z\", \"created_time_dt\": \"2021-02-12T18:29:15.807631Z\", \"duration\": \"0:03:24\", \"iteration\": \"6\", \"goal\": \"AUC_weighted_max\", \"run_name\": \"MaxAbsScaler, ExtremeRandomTrees\", \"run_properties\": \"copy=True\", \"primary_metric\": 0.98813822, \"best_metric\": 0.98875489}, {\"run_id\": \"AutoML_f017f089-0c89-4bfe-a32f-fa6e5c00dfbd_7\", \"run_number\": 58, \"metric\": null, \"status\": \"Completed\", \"run_type\": \"azureml.scriptrun\", \"training_percent\": \"100\", \"start_time\": \"2021-02-12T18:31:33.397657Z\", \"end_time\": \"2021-02-12T18:32:26.893625Z\", \"created_time\": \"2021-02-12T18:30:21.661363Z\", \"created_time_dt\": \"2021-02-12T18:30:21.661363Z\", \"duration\": \"0:02:05\", \"iteration\": \"7\", \"goal\": \"AUC_weighted_max\", \"run_name\": \"MaxAbsScaler, ExtremeRandomTrees\", \"run_properties\": \"copy=True\", \"primary_metric\": 0.93315979, \"best_metric\": 0.98875489}, {\"run_id\": \"AutoML_f017f089-0c89-4bfe-a32f-fa6e5c00dfbd_8\", \"run_number\": 59, \"metric\": null, \"status\": \"Completed\", \"run_type\": \"azureml.scriptrun\", \"training_percent\": \"100\", \"start_time\": \"2021-02-12T18:32:28.248185Z\", \"end_time\": \"2021-02-12T18:33:23.76277Z\", \"created_time\": \"2021-02-12T18:31:33.711218Z\", \"created_time_dt\": \"2021-02-12T18:31:33.711218Z\", \"duration\": \"0:01:50\", \"iteration\": \"8\", \"goal\": \"AUC_weighted_max\", \"run_name\": \"MaxAbsScaler, RandomForest\", \"run_properties\": \"copy=True\", \"primary_metric\": 0.98216846, \"best_metric\": 0.98875489}, {\"run_id\": \"AutoML_f017f089-0c89-4bfe-a32f-fa6e5c00dfbd_9\", \"run_number\": 60, \"metric\": null, \"status\": \"Completed\", \"run_type\": \"azureml.scriptrun\", \"training_percent\": \"100\", \"start_time\": \"2021-02-12T18:32:43.840505Z\", \"end_time\": \"2021-02-12T18:33:37.863315Z\", \"created_time\": \"2021-02-12T18:32:31.813732Z\", \"created_time_dt\": \"2021-02-12T18:32:31.813732Z\", \"duration\": \"0:01:06\", \"iteration\": \"9\", \"goal\": \"AUC_weighted_max\", \"run_name\": \"MaxAbsScaler, ExtremeRandomTrees\", \"run_properties\": \"copy=True\", \"primary_metric\": 0.98825712, \"best_metric\": 0.98875489}, {\"run_id\": \"AutoML_f017f089-0c89-4bfe-a32f-fa6e5c00dfbd_10\", \"run_number\": 61, \"metric\": null, \"status\": \"Completed\", \"run_type\": \"azureml.scriptrun\", \"training_percent\": \"100\", \"start_time\": \"2021-02-12T18:32:58.018805Z\", \"end_time\": \"2021-02-12T18:34:16.718237Z\", \"created_time\": \"2021-02-12T18:32:44.595824Z\", \"created_time_dt\": \"2021-02-12T18:32:44.595824Z\", \"duration\": \"0:01:32\", \"iteration\": \"10\", \"goal\": \"AUC_weighted_max\", \"run_name\": \"MaxAbsScaler, RandomForest\", \"run_properties\": \"copy=True\", \"primary_metric\": 0.86852328, \"best_metric\": 0.98875489}, {\"run_id\": \"AutoML_f017f089-0c89-4bfe-a32f-fa6e5c00dfbd_11\", \"run_number\": 62, \"metric\": null, \"status\": \"Completed\", \"run_type\": \"azureml.scriptrun\", \"training_percent\": \"100\", \"start_time\": \"2021-02-12T18:33:03.517792Z\", \"end_time\": \"2021-02-12T18:33:52.456973Z\", \"created_time\": \"2021-02-12T18:32:51.197727Z\", \"created_time_dt\": \"2021-02-12T18:32:51.197727Z\", \"duration\": \"0:01:01\", \"iteration\": \"11\", \"goal\": \"AUC_weighted_max\", \"run_name\": \"MaxAbsScaler, RandomForest\", \"run_properties\": \"copy=True\", \"primary_metric\": 0.98022581, \"best_metric\": 0.98875489}, {\"run_id\": \"AutoML_f017f089-0c89-4bfe-a32f-fa6e5c00dfbd_12\", \"run_number\": 63, \"metric\": null, \"status\": \"Completed\", \"run_type\": \"azureml.scriptrun\", \"training_percent\": \"100\", \"start_time\": \"2021-02-12T18:33:28.731644Z\", \"end_time\": \"2021-02-12T18:34:26.560864Z\", \"created_time\": \"2021-02-12T18:32:51.198831Z\", \"created_time_dt\": \"2021-02-12T18:32:51.198831Z\", \"duration\": \"0:01:35\", \"iteration\": \"12\", \"goal\": \"AUC_weighted_max\", \"run_name\": \"MaxAbsScaler, RandomForest\", \"run_properties\": \"copy=True\", \"primary_metric\": 0.97712606, \"best_metric\": 0.98875489}, {\"run_id\": \"AutoML_f017f089-0c89-4bfe-a32f-fa6e5c00dfbd_13\", \"run_number\": 64, \"metric\": null, \"status\": \"Completed\", \"run_type\": \"azureml.scriptrun\", \"training_percent\": \"100\", \"start_time\": \"2021-02-12T18:33:43.437064Z\", \"end_time\": \"2021-02-12T18:34:41.571685Z\", \"created_time\": \"2021-02-12T18:33:28.512701Z\", \"created_time_dt\": \"2021-02-12T18:33:28.512701Z\", \"duration\": \"0:01:13\", \"iteration\": \"13\", \"goal\": \"AUC_weighted_max\", \"run_name\": \"StandardScalerWrapper, XGBoostClassifier\", \"run_properties\": \"<azureml.automl.runtime.shared.model_wrappers.StandardScalerWrapper object at 0x7f2fd42743c8\", \"primary_metric\": 0.98499099, \"best_metric\": 0.98875489}, {\"run_id\": \"AutoML_f017f089-0c89-4bfe-a32f-fa6e5c00dfbd_14\", \"run_number\": 65, \"metric\": null, \"status\": \"Completed\", \"run_type\": \"azureml.scriptrun\", \"training_percent\": \"100\", \"start_time\": \"2021-02-12T18:33:57.942587Z\", \"end_time\": \"2021-02-12T18:34:51.607808Z\", \"created_time\": \"2021-02-12T18:33:41.159169Z\", \"created_time_dt\": \"2021-02-12T18:33:41.159169Z\", \"duration\": \"0:01:10\", \"iteration\": \"14\", \"goal\": \"AUC_weighted_max\", \"run_name\": \"MaxAbsScaler, RandomForest\", \"run_properties\": \"copy=True\", \"primary_metric\": 0.53965464, \"best_metric\": 0.98875489}, {\"run_id\": \"AutoML_f017f089-0c89-4bfe-a32f-fa6e5c00dfbd_15\", \"run_number\": 66, \"metric\": null, \"status\": \"Completed\", \"run_type\": \"azureml.scriptrun\", \"training_percent\": \"100\", \"start_time\": \"2021-02-12T18:34:20.511356Z\", \"end_time\": \"2021-02-12T18:35:19.615829Z\", \"created_time\": \"2021-02-12T18:33:55.874754Z\", \"created_time_dt\": \"2021-02-12T18:33:55.874754Z\", \"duration\": \"0:01:23\", \"iteration\": \"15\", \"goal\": \"AUC_weighted_max\", \"run_name\": \"StandardScalerWrapper, ExtremeRandomTrees\", \"run_properties\": \"<azureml.automl.runtime.shared.model_wrappers.StandardScalerWrapper object at 0x7f6791f7a630\", \"primary_metric\": 0.98344422, \"best_metric\": 0.98875489}, {\"run_id\": \"AutoML_f017f089-0c89-4bfe-a32f-fa6e5c00dfbd_16\", \"run_number\": 67, \"metric\": null, \"status\": \"Finalizing\", \"run_type\": \"azureml.scriptrun\", \"training_percent\": \"100\", \"start_time\": \"2021-02-12T18:34:33.448583Z\", \"end_time\": \"\", \"created_time\": \"2021-02-12T18:34:20.907448Z\", \"created_time_dt\": \"2021-02-12T18:34:20.907448Z\", \"duration\": \"0:01:10\", \"iteration\": \"16\", \"goal\": \"AUC_weighted_max\", \"run_name\": \"MaxAbsScaler, ExtremeRandomTrees\", \"run_properties\": \"copy=True\", \"primary_metric\": 0.98763142, \"best_metric\": 0.98875489}, {\"run_id\": \"AutoML_f017f089-0c89-4bfe-a32f-fa6e5c00dfbd_17\", \"run_number\": 68, \"metric\": null, \"status\": \"Running\", \"run_type\": \"azureml.scriptrun\", \"training_percent\": \"100\", \"start_time\": \"2021-02-12T18:34:49.847122Z\", \"end_time\": \"\", \"created_time\": \"2021-02-12T18:34:31.088843Z\", \"created_time_dt\": \"2021-02-12T18:34:31.088843Z\", \"duration\": \"0:01:00\", \"iteration\": \"17\", \"goal\": \"AUC_weighted_max\", \"run_name\": \"MaxAbsScaler, ExtremeRandomTrees\", \"run_properties\": \"copy=True\", \"primary_metric\": 0.72068489, \"best_metric\": 0.98875489}, {\"run_id\": \"AutoML_f017f089-0c89-4bfe-a32f-fa6e5c00dfbd_18\", \"run_number\": 69, \"metric\": null, \"status\": \"Running\", \"run_type\": \"azureml.scriptrun\", \"training_percent\": \"100\", \"start_time\": \"2021-02-12T18:34:58.190935Z\", \"end_time\": \"\", \"created_time\": \"2021-02-12T18:34:45.766976Z\", \"created_time_dt\": \"2021-02-12T18:34:45.766976Z\", \"duration\": \"0:00:46\", \"iteration\": \"18\", \"goal\": \"AUC_weighted_max\", \"run_name\": \"MaxAbsScaler, RandomForest\", \"run_properties\": \"copy=True\", \"primary_metric\": 0.89697254, \"best_metric\": 0.98875489}, {\"run_id\": \"AutoML_f017f089-0c89-4bfe-a32f-fa6e5c00dfbd_19\", \"run_number\": 70, \"metric\": null, \"status\": \"Running\", \"run_type\": \"azureml.scriptrun\", \"training_percent\": \"100\", \"start_time\": \"2021-02-12T18:35:20.858246Z\", \"end_time\": \"\", \"created_time\": \"2021-02-12T18:34:54.482389Z\", \"created_time_dt\": \"2021-02-12T18:34:54.482389Z\", \"duration\": \"0:00:37\", \"iteration\": \"19\", \"goal\": null, \"run_name\": \"Running\", \"run_properties\": null}, {\"run_id\": \"AutoML_f017f089-0c89-4bfe-a32f-fa6e5c00dfbd_20\", \"run_number\": 71, \"metric\": null, \"status\": \"Queued\", \"run_type\": \"azureml.scriptrun\", \"training_percent\": \"100\", \"start_time\": \"\", \"end_time\": \"\", \"created_time\": \"2021-02-12T18:35:22.174181Z\", \"created_time_dt\": \"2021-02-12T18:35:22.174181Z\", \"duration\": \"0:00:09\", \"iteration\": \"20\", \"goal\": null, \"run_name\": \"Queued\", \"run_properties\": null}], \"children_metrics\": {\"categories\": [0], \"series\": {\"precision_score_micro\": [{\"categories\": [\"0\", \"1\", \"2\", \"3\", \"4\", \"5\", \"6\", \"7\", \"8\", \"9\", \"10\", \"11\", \"12\", \"13\", \"14\", \"15\", \"16\", \"17\", \"18\"], \"mode\": \"markers\", \"name\": \"precision_score_micro\", \"stepped\": false, \"type\": \"scatter\", \"data\": [0.9559949170727613, 0.9569869270468073, 0.8570037102971235, 0.7980405555255855, 0.7690145235055414, 0.9529859200517884, 0.9529919140697584, 0.8710057362751974, 0.9439918960877044, 0.9510019001036966, 0.8069716423009835, 0.9350128571685459, 0.9140008271744798, 0.9479929030827234, 0.5229630828433224, 0.9440008871146596, 0.9559919200637763, 0.6749983516450583, 0.8670526814239389]}, {\"categories\": [\"0\", \"1\", \"2\", \"3\", \"4\", \"5\", \"6\", \"7\", \"8\", \"9\", \"10\", \"11\", \"12\", \"13\", \"14\", \"15\", \"16\", \"17\", \"18\"], \"mode\": \"lines\", \"name\": \"precision_score_micro_max\", \"stepped\": true, \"type\": \"scatter\", \"data\": [0.9559949170727613, 0.9569869270468073, 0.9569869270468073, 0.9569869270468073, 0.9569869270468073, 0.9569869270468073, 0.9569869270468073, 0.9569869270468073, 0.9569869270468073, 0.9569869270468073, 0.9569869270468073, 0.9569869270468073, 0.9569869270468073, 0.9569869270468073, 0.9569869270468073, 0.9569869270468073, 0.9569869270468073, 0.9569869270468073, 0.9569869270468073]}], \"average_precision_score_weighted\": [{\"categories\": [\"0\", \"1\", \"2\", \"3\", \"4\", \"5\", \"6\", \"7\", \"8\", \"9\", \"10\", \"11\", \"12\", \"13\", \"14\", \"15\", \"16\", \"17\", \"18\"], \"mode\": \"markers\", \"name\": \"average_precision_score_weighted\", \"stepped\": false, \"type\": \"scatter\", \"data\": [0.9880578057534614, 0.987362983965002, 0.9197828788878396, 0.8557689026862568, 0.8275209329707236, 0.9878599051914202, 0.9877340593094344, 0.9277929163227735, 0.9822072096172089, 0.9880182551168888, 0.8625968089965793, 0.9805675834144129, 0.9774549533854248, 0.9824023314193399, 0.5495227927713291, 0.9814757010851257, 0.9863757222725315, 0.7085708395666531, 0.8849354160921754]}, {\"categories\": [\"0\", \"1\", \"2\", \"3\", \"4\", \"5\", \"6\", \"7\", \"8\", \"9\", \"10\", \"11\", \"12\", \"13\", \"14\", \"15\", \"16\", \"17\", \"18\"], \"mode\": \"lines\", \"name\": \"average_precision_score_weighted_max\", \"stepped\": true, \"type\": \"scatter\", \"data\": [0.9880578057534614, 0.9880578057534614, 0.9880578057534614, 0.9880578057534614, 0.9880578057534614, 0.9880578057534614, 0.9880578057534614, 0.9880578057534614, 0.9880578057534614, 0.9880578057534614, 0.9880578057534614, 0.9880578057534614, 0.9880578057534614, 0.9880578057534614, 0.9880578057534614, 0.9880578057534614, 0.9880578057534614, 0.9880578057534614, 0.9880578057534614]}], \"precision_score_weighted\": [{\"categories\": [\"0\", \"1\", \"2\", \"3\", \"4\", \"5\", \"6\", \"7\", \"8\", \"9\", \"10\", \"11\", \"12\", \"13\", \"14\", \"15\", \"16\", \"17\", \"18\"], \"mode\": \"markers\", \"name\": \"precision_score_weighted\", \"stepped\": false, \"type\": \"scatter\", \"data\": [0.9564892445816281, 0.9573152620038269, 0.857953841186819, 0.7986500781534481, 0.7779433256765677, 0.9533209365429302, 0.9536298393809973, 0.873361301587858, 0.9440862135525361, 0.9514795669411251, 0.809652135773819, 0.935666771006637, 0.9142906391004204, 0.9484004652663124, 0.5421367349089158, 0.9457737219049981, 0.9564065870367918, 0.6732413965866257, 0.8710124610641988]}, {\"categories\": [\"0\", \"1\", \"2\", \"3\", \"4\", \"5\", \"6\", \"7\", \"8\", \"9\", \"10\", \"11\", \"12\", \"13\", \"14\", \"15\", \"16\", \"17\", \"18\"], \"mode\": \"lines\", \"name\": \"precision_score_weighted_max\", \"stepped\": true, \"type\": \"scatter\", \"data\": [0.9564892445816281, 0.9573152620038269, 0.9573152620038269, 0.9573152620038269, 0.9573152620038269, 0.9573152620038269, 0.9573152620038269, 0.9573152620038269, 0.9573152620038269, 0.9573152620038269, 0.9573152620038269, 0.9573152620038269, 0.9573152620038269, 0.9573152620038269, 0.9573152620038269, 0.9573152620038269, 0.9573152620038269, 0.9573152620038269, 0.9573152620038269]}], \"matthews_correlation\": [{\"categories\": [\"0\", \"1\", \"2\", \"3\", \"4\", \"5\", \"6\", \"7\", \"8\", \"9\", \"10\", \"11\", \"12\", \"13\", \"14\", \"15\", \"16\", \"17\", \"18\"], \"mode\": \"markers\", \"name\": \"matthews_correlation\", \"stepped\": false, \"type\": \"scatter\", \"data\": [0.9120592171874567, 0.913841190937415, 0.7141018072248388, 0.5952646116903294, 0.5463549144654049, 0.9058365984281678, 0.9062355666379167, 0.7437730058395999, 0.8875676933539705, 0.9020652024090497, 0.6149521952886303, 0.8701535308607166, 0.827579178223643, 0.8959807063654535, 0.07453034095258332, 0.8894011916969999, 0.9119685938894274, 0.3427377712977417, 0.7368941439740883]}, {\"categories\": [\"0\", \"1\", \"2\", \"3\", \"4\", \"5\", \"6\", \"7\", \"8\", \"9\", \"10\", \"11\", \"12\", \"13\", \"14\", \"15\", \"16\", \"17\", \"18\"], \"mode\": \"lines\", \"name\": \"matthews_correlation_max\", \"stepped\": true, \"type\": \"scatter\", \"data\": [0.9120592171874567, 0.913841190937415, 0.913841190937415, 0.913841190937415, 0.913841190937415, 0.913841190937415, 0.913841190937415, 0.913841190937415, 0.913841190937415, 0.913841190937415, 0.913841190937415, 0.913841190937415, 0.913841190937415, 0.913841190937415, 0.913841190937415, 0.913841190937415, 0.913841190937415, 0.913841190937415, 0.913841190937415]}], \"AUC_macro\": [{\"categories\": [\"0\", \"1\", \"2\", \"3\", \"4\", \"5\", \"6\", \"7\", \"8\", \"9\", \"10\", \"11\", \"12\", \"13\", \"14\", \"15\", \"16\", \"17\", \"18\"], \"mode\": \"markers\", \"name\": \"AUC_macro\", \"stepped\": false, \"type\": \"scatter\", \"data\": [0.9887548912789216, 0.9874642179428372, 0.9265496814887939, 0.8640299198052691, 0.8418551419740368, 0.9875542095178013, 0.9881382180347034, 0.9331597861365021, 0.9821684583847596, 0.9882571225031525, 0.8685232765670466, 0.9802258096375708, 0.9771260570183071, 0.9849909855184821, 0.5396546403203953, 0.9834442230118651, 0.9876314212315305, 0.7206848874555029, 0.8969725363544484]}, {\"categories\": [\"0\", \"1\", \"2\", \"3\", \"4\", \"5\", \"6\", \"7\", \"8\", \"9\", \"10\", \"11\", \"12\", \"13\", \"14\", \"15\", \"16\", \"17\", \"18\"], \"mode\": \"lines\", \"name\": \"AUC_macro_max\", \"stepped\": true, \"type\": \"scatter\", \"data\": [0.9887548912789216, 0.9887548912789216, 0.9887548912789216, 0.9887548912789216, 0.9887548912789216, 0.9887548912789216, 0.9887548912789216, 0.9887548912789216, 0.9887548912789216, 0.9887548912789216, 0.9887548912789216, 0.9887548912789216, 0.9887548912789216, 0.9887548912789216, 0.9887548912789216, 0.9887548912789216, 0.9887548912789216, 0.9887548912789216, 0.9887548912789216]}], \"AUC_micro\": [{\"categories\": [\"0\", \"1\", \"2\", \"3\", \"4\", \"5\", \"6\", \"7\", \"8\", \"9\", \"10\", \"11\", \"12\", \"13\", \"14\", \"15\", \"16\", \"17\", \"18\"], \"mode\": \"markers\", \"name\": \"AUC_micro\", \"stepped\": false, \"type\": \"scatter\", \"data\": [0.9902402121084193, 0.988823932536066, 0.9260764102303712, 0.8627627424938398, 0.8336015614608346, 0.9872288426102739, 0.9882511103247329, 0.9315599997540049, 0.9821408555241531, 0.9879149675085935, 0.8689697427072168, 0.9794913124401045, 0.9768051490815974, 0.9849266216154008, 0.5257107460269245, 0.9837578861953644, 0.9881345769244675, 0.7241888899566155, 0.9048937653236043]}, {\"categories\": [\"0\", \"1\", \"2\", \"3\", \"4\", \"5\", \"6\", \"7\", \"8\", \"9\", \"10\", \"11\", \"12\", \"13\", \"14\", \"15\", \"16\", \"17\", \"18\"], \"mode\": \"lines\", \"name\": \"AUC_micro_max\", \"stepped\": true, \"type\": \"scatter\", \"data\": [0.9902402121084193, 0.9902402121084193, 0.9902402121084193, 0.9902402121084193, 0.9902402121084193, 0.9902402121084193, 0.9902402121084193, 0.9902402121084193, 0.9902402121084193, 0.9902402121084193, 0.9902402121084193, 0.9902402121084193, 0.9902402121084193, 0.9902402121084193, 0.9902402121084193, 0.9902402121084193, 0.9902402121084193, 0.9902402121084193, 0.9902402121084193]}], \"f1_score_macro\": [{\"categories\": [\"0\", \"1\", \"2\", \"3\", \"4\", \"5\", \"6\", \"7\", \"8\", \"9\", \"10\", \"11\", \"12\", \"13\", \"14\", \"15\", \"16\", \"17\", \"18\"], \"mode\": \"markers\", \"name\": \"f1_score_macro\", \"stepped\": false, \"type\": \"scatter\", \"data\": [0.9557571170173773, 0.9567328326655563, 0.8566836338945327, 0.797385465111049, 0.7678030763603642, 0.9527470579784866, 0.9528130535284988, 0.8708480478572079, 0.9437551522366842, 0.9507933824421454, 0.805867790011626, 0.9347273390999457, 0.9136607453149436, 0.9478113311127299, 0.506155648898372, 0.9438266229263106, 0.9557640446841535, 0.6704166788083524, 0.8660940688514406]}, {\"categories\": [\"0\", \"1\", \"2\", \"3\", \"4\", \"5\", \"6\", \"7\", \"8\", \"9\", \"10\", \"11\", \"12\", \"13\", \"14\", \"15\", \"16\", \"17\", \"18\"], \"mode\": \"lines\", \"name\": \"f1_score_macro_max\", \"stepped\": true, \"type\": \"scatter\", \"data\": [0.9557571170173773, 0.9567328326655563, 0.9567328326655563, 0.9567328326655563, 0.9567328326655563, 0.9567328326655563, 0.9567328326655563, 0.9567328326655563, 0.9567328326655563, 0.9567328326655563, 0.9567328326655563, 0.9567328326655563, 0.9567328326655563, 0.9567328326655563, 0.9567328326655563, 0.9567328326655563, 0.9567328326655563, 0.9567328326655563, 0.9567328326655563]}], \"recall_score_macro\": [{\"categories\": [\"0\", \"1\", \"2\", \"3\", \"4\", \"5\", \"6\", \"7\", \"8\", \"9\", \"10\", \"11\", \"12\", \"13\", \"14\", \"15\", \"16\", \"17\", \"18\"], \"mode\": \"markers\", \"name\": \"recall_score_macro\", \"stepped\": false, \"type\": \"scatter\", \"data\": [0.9557972578811672, 0.9566572370249801, 0.8577468430279911, 0.7978814410969615, 0.7713284195573231, 0.9527927006060318, 0.9535431427817899, 0.8727146137786811, 0.9440671741561067, 0.9511093366219091, 0.8064939607960984, 0.9349744619824106, 0.9140386346260332, 0.9485045046279512, 0.5356355404306438, 0.9450084404544681, 0.9558755179107642, 0.6711239269846173, 0.8660096912188529]}, {\"categories\": [\"0\", \"1\", \"2\", \"3\", \"4\", \"5\", \"6\", \"7\", \"8\", \"9\", \"10\", \"11\", \"12\", \"13\", \"14\", \"15\", \"16\", \"17\", \"18\"], \"mode\": \"lines\", \"name\": \"recall_score_macro_max\", \"stepped\": true, \"type\": \"scatter\", \"data\": [0.9557972578811672, 0.9566572370249801, 0.9566572370249801, 0.9566572370249801, 0.9566572370249801, 0.9566572370249801, 0.9566572370249801, 0.9566572370249801, 0.9566572370249801, 0.9566572370249801, 0.9566572370249801, 0.9566572370249801, 0.9566572370249801, 0.9566572370249801, 0.9566572370249801, 0.9566572370249801, 0.9566572370249801, 0.9566572370249801, 0.9566572370249801]}], \"f1_score_weighted\": [{\"categories\": [\"0\", \"1\", \"2\", \"3\", \"4\", \"5\", \"6\", \"7\", \"8\", \"9\", \"10\", \"11\", \"12\", \"13\", \"14\", \"15\", \"16\", \"17\", \"18\"], \"mode\": \"markers\", \"name\": \"f1_score_weighted\", \"stepped\": false, \"type\": \"scatter\", \"data\": [0.9559711031099393, 0.9569643536086571, 0.8571139820848942, 0.7980989729951116, 0.7680926293358085, 0.9529824479762498, 0.9530084338875144, 0.8711503389069676, 0.9440105946338694, 0.9510028232012765, 0.806701511037604, 0.9349909390789098, 0.9140177511893622, 0.9480185681219218, 0.5007589665756647, 0.9440179416762134, 0.9559803465135538, 0.6731797086532393, 0.8666825611457302]}, {\"categories\": [\"0\", \"1\", \"2\", \"3\", \"4\", \"5\", \"6\", \"7\", \"8\", \"9\", \"10\", \"11\", \"12\", \"13\", \"14\", \"15\", \"16\", \"17\", \"18\"], \"mode\": \"lines\", \"name\": \"f1_score_weighted_max\", \"stepped\": true, \"type\": \"scatter\", \"data\": [0.9559711031099393, 0.9569643536086571, 0.9569643536086571, 0.9569643536086571, 0.9569643536086571, 0.9569643536086571, 0.9569643536086571, 0.9569643536086571, 0.9569643536086571, 0.9569643536086571, 0.9569643536086571, 0.9569643536086571, 0.9569643536086571, 0.9569643536086571, 0.9569643536086571, 0.9569643536086571, 0.9569643536086571, 0.9569643536086571, 0.9569643536086571]}], \"precision_score_macro\": [{\"categories\": [\"0\", \"1\", \"2\", \"3\", \"4\", \"5\", \"6\", \"7\", \"8\", \"9\", \"10\", \"11\", \"12\", \"13\", \"14\", \"15\", \"16\", \"17\", \"18\"], \"mode\": \"markers\", \"name\": \"precision_score_macro\", \"stepped\": false, \"type\": \"scatter\", \"data\": [0.9562653137308584, 0.9571866954520115, 0.8563573202939567, 0.7973837927344692, 0.775074410016416, 0.9530448331684914, 0.952694763259009, 0.8710611886777069, 0.9435008858591627, 0.9509577783450863, 0.808478922491839, 0.9351813806910766, 0.9135416735276726, 0.9474773664544731, 0.5391316811710679, 0.9443961283121424, 0.9560957139516391, 0.6716195163736445, 0.8709593233473369]}, {\"categories\": [\"0\", \"1\", \"2\", \"3\", \"4\", \"5\", \"6\", \"7\", \"8\", \"9\", \"10\", \"11\", \"12\", \"13\", \"14\", \"15\", \"16\", \"17\", \"18\"], \"mode\": \"lines\", \"name\": \"precision_score_macro_max\", \"stepped\": true, \"type\": \"scatter\", \"data\": [0.9562653137308584, 0.9571866954520115, 0.9571866954520115, 0.9571866954520115, 0.9571866954520115, 0.9571866954520115, 0.9571866954520115, 0.9571866954520115, 0.9571866954520115, 0.9571866954520115, 0.9571866954520115, 0.9571866954520115, 0.9571866954520115, 0.9571866954520115, 0.9571866954520115, 0.9571866954520115, 0.9571866954520115, 0.9571866954520115, 0.9571866954520115]}], \"average_precision_score_micro\": [{\"categories\": [\"0\", \"1\", \"2\", \"3\", \"4\", \"5\", \"6\", \"7\", \"8\", \"9\", \"10\", \"11\", \"12\", \"13\", \"14\", \"15\", \"16\", \"17\", \"18\"], \"mode\": \"markers\", \"name\": \"average_precision_score_micro\", \"stepped\": false, \"type\": \"scatter\", \"data\": [0.9902689947986755, 0.9890551347516613, 0.9199086965793138, 0.8543174896184866, 0.8178892628209024, 0.9874343951684866, 0.9880713820296682, 0.9265304625468689, 0.9822116702452518, 0.9876213961511408, 0.8622308191150189, 0.9795689962813867, 0.9771347263954292, 0.9829571637952706, 0.5345487007508491, 0.9835059992193739, 0.987508640910452, 0.707817234613154, 0.8910114285045551]}, {\"categories\": [\"0\", \"1\", \"2\", \"3\", \"4\", \"5\", \"6\", \"7\", \"8\", \"9\", \"10\", \"11\", \"12\", \"13\", \"14\", \"15\", \"16\", \"17\", \"18\"], \"mode\": \"lines\", \"name\": \"average_precision_score_micro_max\", \"stepped\": true, \"type\": \"scatter\", \"data\": [0.9902689947986755, 0.9902689947986755, 0.9902689947986755, 0.9902689947986755, 0.9902689947986755, 0.9902689947986755, 0.9902689947986755, 0.9902689947986755, 0.9902689947986755, 0.9902689947986755, 0.9902689947986755, 0.9902689947986755, 0.9902689947986755, 0.9902689947986755, 0.9902689947986755, 0.9902689947986755, 0.9902689947986755, 0.9902689947986755, 0.9902689947986755]}], \"weighted_accuracy\": [{\"categories\": [\"0\", \"1\", \"2\", \"3\", \"4\", \"5\", \"6\", \"7\", \"8\", \"9\", \"10\", \"11\", \"12\", \"13\", \"14\", \"15\", \"16\", \"17\", \"18\"], \"mode\": \"markers\", \"name\": \"weighted_accuracy\", \"stepped\": false, \"type\": \"scatter\", \"data\": [0.9561948893302493, 0.9573154830725992, 0.8562734112667815, 0.7981966624300085, 0.7667465873451018, 0.9531799140715235, 0.9524524664563551, 0.8693226154951809, 0.9439182991513327, 0.9509006131339355, 0.8074539104386217, 0.9350554787241608, 0.9139668379427178, 0.9474886270597125, 0.5104576106771747, 0.9430147418242436, 0.9561110678538708, 0.6788107856132922, 0.8680928394600979]}, {\"categories\": [\"0\", \"1\", \"2\", \"3\", \"4\", \"5\", \"6\", \"7\", \"8\", \"9\", \"10\", \"11\", \"12\", \"13\", \"14\", \"15\", \"16\", \"17\", \"18\"], \"mode\": \"lines\", \"name\": \"weighted_accuracy_max\", \"stepped\": true, \"type\": \"scatter\", \"data\": [0.9561948893302493, 0.9573154830725992, 0.9573154830725992, 0.9573154830725992, 0.9573154830725992, 0.9573154830725992, 0.9573154830725992, 0.9573154830725992, 0.9573154830725992, 0.9573154830725992, 0.9573154830725992, 0.9573154830725992, 0.9573154830725992, 0.9573154830725992, 0.9573154830725992, 0.9573154830725992, 0.9573154830725992, 0.9573154830725992, 0.9573154830725992]}], \"recall_score_micro\": [{\"categories\": [\"0\", \"1\", \"2\", \"3\", \"4\", \"5\", \"6\", \"7\", \"8\", \"9\", \"10\", \"11\", \"12\", \"13\", \"14\", \"15\", \"16\", \"17\", \"18\"], \"mode\": \"markers\", \"name\": \"recall_score_micro\", \"stepped\": false, \"type\": \"scatter\", \"data\": [0.9559949170727613, 0.9569869270468073, 0.8570037102971235, 0.7980405555255855, 0.7690145235055414, 0.9529859200517884, 0.9529919140697584, 0.8710057362751974, 0.9439918960877044, 0.9510019001036966, 0.8069716423009835, 0.9350128571685459, 0.9140008271744798, 0.9479929030827234, 0.5229630828433224, 0.9440008871146596, 0.9559919200637763, 0.6749983516450583, 0.8670526814239389]}, {\"categories\": [\"0\", \"1\", \"2\", \"3\", \"4\", \"5\", \"6\", \"7\", \"8\", \"9\", \"10\", \"11\", \"12\", \"13\", \"14\", \"15\", \"16\", \"17\", \"18\"], \"mode\": \"lines\", \"name\": \"recall_score_micro_max\", \"stepped\": true, \"type\": \"scatter\", \"data\": [0.9559949170727613, 0.9569869270468073, 0.9569869270468073, 0.9569869270468073, 0.9569869270468073, 0.9569869270468073, 0.9569869270468073, 0.9569869270468073, 0.9569869270468073, 0.9569869270468073, 0.9569869270468073, 0.9569869270468073, 0.9569869270468073, 0.9569869270468073, 0.9569869270468073, 0.9569869270468073, 0.9569869270468073, 0.9569869270468073, 0.9569869270468073]}], \"f1_score_micro\": [{\"categories\": [\"0\", \"1\", \"2\", \"3\", \"4\", \"5\", \"6\", \"7\", \"8\", \"9\", \"10\", \"11\", \"12\", \"13\", \"14\", \"15\", \"16\", \"17\", \"18\"], \"mode\": \"markers\", \"name\": \"f1_score_micro\", \"stepped\": false, \"type\": \"scatter\", \"data\": [0.9559949170727613, 0.9569869270468073, 0.8570037102971235, 0.7980405555255855, 0.7690145235055414, 0.9529859200517884, 0.9529919140697584, 0.8710057362751972, 0.9439918960877044, 0.9510019001036966, 0.8069716423009837, 0.9350128571685459, 0.9140008271744798, 0.9479929030827234, 0.5229630828433224, 0.9440008871146596, 0.9559919200637763, 0.6749983516450583, 0.8670526814239389]}, {\"categories\": [\"0\", \"1\", \"2\", \"3\", \"4\", \"5\", \"6\", \"7\", \"8\", \"9\", \"10\", \"11\", \"12\", \"13\", \"14\", \"15\", \"16\", \"17\", \"18\"], \"mode\": \"lines\", \"name\": \"f1_score_micro_max\", \"stepped\": true, \"type\": \"scatter\", \"data\": [0.9559949170727613, 0.9569869270468073, 0.9569869270468073, 0.9569869270468073, 0.9569869270468073, 0.9569869270468073, 0.9569869270468073, 0.9569869270468073, 0.9569869270468073, 0.9569869270468073, 0.9569869270468073, 0.9569869270468073, 0.9569869270468073, 0.9569869270468073, 0.9569869270468073, 0.9569869270468073, 0.9569869270468073, 0.9569869270468073, 0.9569869270468073]}], \"norm_macro_recall\": [{\"categories\": [\"0\", \"1\", \"2\", \"3\", \"4\", \"5\", \"6\", \"7\", \"8\", \"9\", \"10\", \"11\", \"12\", \"13\", \"14\", \"15\", \"16\", \"17\", \"18\"], \"mode\": \"markers\", \"name\": \"norm_macro_recall\", \"stepped\": false, \"type\": \"scatter\", \"data\": [0.9115945157623343, 0.9133144740499602, 0.7154936860559821, 0.5957628821939229, 0.5426568391146463, 0.9055854012120635, 0.9070862855635798, 0.7454292275573623, 0.8881343483122134, 0.902218673243818, 0.6129879215921968, 0.8699489239648214, 0.8280772692520663, 0.8970090092559024, 0.07127108086128753, 0.8900168809089362, 0.9117510358215285, 0.3422478539692348, 0.7320193824377057]}, {\"categories\": [\"0\", \"1\", \"2\", \"3\", \"4\", \"5\", \"6\", \"7\", \"8\", \"9\", \"10\", \"11\", \"12\", \"13\", \"14\", \"15\", \"16\", \"17\", \"18\"], \"mode\": \"lines\", \"name\": \"norm_macro_recall_max\", \"stepped\": true, \"type\": \"scatter\", \"data\": [0.9115945157623343, 0.9133144740499602, 0.9133144740499602, 0.9133144740499602, 0.9133144740499602, 0.9133144740499602, 0.9133144740499602, 0.9133144740499602, 0.9133144740499602, 0.9133144740499602, 0.9133144740499602, 0.9133144740499602, 0.9133144740499602, 0.9133144740499602, 0.9133144740499602, 0.9133144740499602, 0.9133144740499602, 0.9133144740499602, 0.9133144740499602]}], \"log_loss\": [{\"categories\": [\"0\", \"1\", \"2\", \"3\", \"4\", \"5\", \"6\", \"7\", \"8\", \"9\", \"10\", \"11\", \"12\", \"13\", \"14\", \"15\", \"16\", \"17\", \"18\"], \"mode\": \"markers\", \"name\": \"log_loss\", \"stepped\": false, \"type\": \"scatter\", \"data\": [0.1657288976368262, 0.13245486952579133, 0.45451333778198527, 0.6402254972013215, 0.6368065889704666, 0.17079035903823814, 0.2011413722687957, 0.5036985188618744, 0.3397182505596989, 0.32482211161148095, 0.54696026447096, 0.29241525501012, 0.4688305565325339, 0.31986700665121565, 0.6922703665476506, 0.19189652725925646, 0.21227225203005373, 0.6794034968925402, 0.6529472797806816]}, {\"categories\": [\"0\", \"1\", \"2\", \"3\", \"4\", \"5\", \"6\", \"7\", \"8\", \"9\", \"10\", \"11\", \"12\", \"13\", \"14\", \"15\", \"16\", \"17\", \"18\"], \"mode\": \"lines\", \"name\": \"log_loss_min\", \"stepped\": true, \"type\": \"scatter\", \"data\": [0.1657288976368262, 0.13245486952579133, 0.13245486952579133, 0.13245486952579133, 0.13245486952579133, 0.13245486952579133, 0.13245486952579133, 0.13245486952579133, 0.13245486952579133, 0.13245486952579133, 0.13245486952579133, 0.13245486952579133, 0.13245486952579133, 0.13245486952579133, 0.13245486952579133, 0.13245486952579133, 0.13245486952579133, 0.13245486952579133, 0.13245486952579133]}], \"average_precision_score_macro\": [{\"categories\": [\"0\", \"1\", \"2\", \"3\", \"4\", \"5\", \"6\", \"7\", \"8\", \"9\", \"10\", \"11\", \"12\", \"13\", \"14\", \"15\", \"16\", \"17\", \"18\"], \"mode\": \"markers\", \"name\": \"average_precision_score_macro\", \"stepped\": false, \"type\": \"scatter\", \"data\": [0.9879159891320247, 0.9872378615917882, 0.9194102990331193, 0.8544625927362857, 0.8271700926239044, 0.9878324928065026, 0.9877279917647325, 0.9267732980251338, 0.9820628593256787, 0.9880519017886898, 0.8618394391866234, 0.9803904518525376, 0.9772869899295147, 0.9820256930015218, 0.5474847630363664, 0.98158792270837, 0.9862746889265422, 0.7061952875468847, 0.8844149825868083]}, {\"categories\": [\"0\", \"1\", \"2\", \"3\", \"4\", \"5\", \"6\", \"7\", \"8\", \"9\", \"10\", \"11\", \"12\", \"13\", \"14\", \"15\", \"16\", \"17\", \"18\"], \"mode\": \"lines\", \"name\": \"average_precision_score_macro_max\", \"stepped\": true, \"type\": \"scatter\", \"data\": [0.9879159891320247, 0.9879159891320247, 0.9879159891320247, 0.9879159891320247, 0.9879159891320247, 0.9879159891320247, 0.9879159891320247, 0.9879159891320247, 0.9879159891320247, 0.9880519017886898, 0.9880519017886898, 0.9880519017886898, 0.9880519017886898, 0.9880519017886898, 0.9880519017886898, 0.9880519017886898, 0.9880519017886898, 0.9880519017886898, 0.9880519017886898]}], \"accuracy\": [{\"categories\": [\"0\", \"1\", \"2\", \"3\", \"4\", \"5\", \"6\", \"7\", \"8\", \"9\", \"10\", \"11\", \"12\", \"13\", \"14\", \"15\", \"16\", \"17\", \"18\"], \"mode\": \"markers\", \"name\": \"accuracy\", \"stepped\": false, \"type\": \"scatter\", \"data\": [0.9559949170727613, 0.9569869270468073, 0.8570037102971235, 0.7980405555255855, 0.7690145235055414, 0.9529859200517884, 0.9529919140697584, 0.8710057362751974, 0.9439918960877044, 0.9510019001036966, 0.8069716423009835, 0.9350128571685459, 0.9140008271744798, 0.9479929030827234, 0.5229630828433224, 0.9440008871146596, 0.9559919200637763, 0.6749983516450583, 0.8670526814239389]}, {\"categories\": [\"0\", \"1\", \"2\", \"3\", \"4\", \"5\", \"6\", \"7\", \"8\", \"9\", \"10\", \"11\", \"12\", \"13\", \"14\", \"15\", \"16\", \"17\", \"18\"], \"mode\": \"lines\", \"name\": \"accuracy_max\", \"stepped\": true, \"type\": \"scatter\", \"data\": [0.9559949170727613, 0.9569869270468073, 0.9569869270468073, 0.9569869270468073, 0.9569869270468073, 0.9569869270468073, 0.9569869270468073, 0.9569869270468073, 0.9569869270468073, 0.9569869270468073, 0.9569869270468073, 0.9569869270468073, 0.9569869270468073, 0.9569869270468073, 0.9569869270468073, 0.9569869270468073, 0.9569869270468073, 0.9569869270468073, 0.9569869270468073]}], \"balanced_accuracy\": [{\"categories\": [\"0\", \"1\", \"2\", \"3\", \"4\", \"5\", \"6\", \"7\", \"8\", \"9\", \"10\", \"11\", \"12\", \"13\", \"14\", \"15\", \"16\", \"17\", \"18\"], \"mode\": \"markers\", \"name\": \"balanced_accuracy\", \"stepped\": false, \"type\": \"scatter\", \"data\": [0.9557972578811672, 0.9566572370249801, 0.8577468430279911, 0.7978814410969615, 0.7713284195573231, 0.9527927006060318, 0.9535431427817899, 0.8727146137786811, 0.9440671741561067, 0.9511093366219091, 0.8064939607960984, 0.9349744619824106, 0.9140386346260332, 0.9485045046279512, 0.5356355404306438, 0.9450084404544681, 0.9558755179107642, 0.6711239269846173, 0.8660096912188529]}, {\"categories\": [\"0\", \"1\", \"2\", \"3\", \"4\", \"5\", \"6\", \"7\", \"8\", \"9\", \"10\", \"11\", \"12\", \"13\", \"14\", \"15\", \"16\", \"17\", \"18\"], \"mode\": \"lines\", \"name\": \"balanced_accuracy_max\", \"stepped\": true, \"type\": \"scatter\", \"data\": [0.9557972578811672, 0.9566572370249801, 0.9566572370249801, 0.9566572370249801, 0.9566572370249801, 0.9566572370249801, 0.9566572370249801, 0.9566572370249801, 0.9566572370249801, 0.9566572370249801, 0.9566572370249801, 0.9566572370249801, 0.9566572370249801, 0.9566572370249801, 0.9566572370249801, 0.9566572370249801, 0.9566572370249801, 0.9566572370249801, 0.9566572370249801]}], \"recall_score_weighted\": [{\"categories\": [\"0\", \"1\", \"2\", \"3\", \"4\", \"5\", \"6\", \"7\", \"8\", \"9\", \"10\", \"11\", \"12\", \"13\", \"14\", \"15\", \"16\", \"17\", \"18\"], \"mode\": \"markers\", \"name\": \"recall_score_weighted\", \"stepped\": false, \"type\": \"scatter\", \"data\": [0.9559949170727613, 0.9569869270468073, 0.8570037102971235, 0.7980405555255855, 0.7690145235055414, 0.9529859200517884, 0.9529919140697584, 0.8710057362751974, 0.9439918960877044, 0.9510019001036966, 0.8069716423009835, 0.9350128571685459, 0.9140008271744798, 0.9479929030827234, 0.5229630828433224, 0.9440008871146596, 0.9559919200637763, 0.6749983516450583, 0.8670526814239389]}, {\"categories\": [\"0\", \"1\", \"2\", \"3\", \"4\", \"5\", \"6\", \"7\", \"8\", \"9\", \"10\", \"11\", \"12\", \"13\", \"14\", \"15\", \"16\", \"17\", \"18\"], \"mode\": \"lines\", \"name\": \"recall_score_weighted_max\", \"stepped\": true, \"type\": \"scatter\", \"data\": [0.9559949170727613, 0.9569869270468073, 0.9569869270468073, 0.9569869270468073, 0.9569869270468073, 0.9569869270468073, 0.9569869270468073, 0.9569869270468073, 0.9569869270468073, 0.9569869270468073, 0.9569869270468073, 0.9569869270468073, 0.9569869270468073, 0.9569869270468073, 0.9569869270468073, 0.9569869270468073, 0.9569869270468073, 0.9569869270468073, 0.9569869270468073]}], \"AUC_weighted\": [{\"categories\": [\"0\", \"1\", \"2\", \"3\", \"4\", \"5\", \"6\", \"7\", \"8\", \"9\", \"10\", \"11\", \"12\", \"13\", \"14\", \"15\", \"16\", \"17\", \"18\"], \"mode\": \"markers\", \"name\": \"AUC_weighted\", \"stepped\": false, \"type\": \"scatter\", \"data\": [0.9887548912789216, 0.9874642179428371, 0.926549681488794, 0.8640299198052691, 0.8418551419740368, 0.9875542095178013, 0.9881382180347035, 0.9331597861365021, 0.9821684583847596, 0.9882571225031525, 0.8685232765670466, 0.9802258096375708, 0.9771260570183071, 0.9849909855184819, 0.5396546403203953, 0.9834442230118653, 0.9876314212315305, 0.7206848874555029, 0.8969725363544484]}, {\"categories\": [\"0\", \"1\", \"2\", \"3\", \"4\", \"5\", \"6\", \"7\", \"8\", \"9\", \"10\", \"11\", \"12\", \"13\", \"14\", \"15\", \"16\", \"17\", \"18\"], \"mode\": \"lines\", \"name\": \"AUC_weighted_max\", \"stepped\": true, \"type\": \"scatter\", \"data\": [0.9887548912789216, 0.9887548912789216, 0.9887548912789216, 0.9887548912789216, 0.9887548912789216, 0.9887548912789216, 0.9887548912789216, 0.9887548912789216, 0.9887548912789216, 0.9887548912789216, 0.9887548912789216, 0.9887548912789216, 0.9887548912789216, 0.9887548912789216, 0.9887548912789216, 0.9887548912789216, 0.9887548912789216, 0.9887548912789216, 0.9887548912789216]}]}, \"metricName\": null, \"primaryMetricName\": \"AUC_weighted\", \"showLegend\": false}, \"run_metrics\": [{\"name\": \"experiment_status\", \"run_id\": \"AutoML_f017f089-0c89-4bfe-a32f-fa6e5c00dfbd\", \"categories\": [0, 1, 2, 3, 4, 5], \"series\": [{\"data\": [\"DatasetEvaluation\", \"FeaturesGeneration\", \"DatasetFeaturization\", \"DatasetFeaturizationCompleted\", \"DatasetCrossValidationSplit\", \"ModelSelection\"]}]}, {\"name\": \"experiment_status_description\", \"run_id\": \"AutoML_f017f089-0c89-4bfe-a32f-fa6e5c00dfbd\", \"categories\": [0, 1, 2, 3, 4, 5], \"series\": [{\"data\": [\"Gathering dataset statistics.\", \"Generating features for the dataset.\", \"Beginning to fit featurizers and featurize the dataset.\", \"Completed fit featurizers and featurizing the dataset.\", \"Generating individually featurized CV splits.\", \"Beginning model selection.\"]}]}], \"run_logs\": \"Your job is submitted in Azure cloud and we are monitoring to get logs...\", \"graph\": {}, \"widget_settings\": {\"childWidgetDisplay\": \"popup\", \"send_telemetry\": false, \"log_level\": \"INFO\", \"sdk_version\": \"1.20.0\"}, \"loading\": false}"
     },
     "metadata": {},
     "output_type": "display_data"
    }
   ],
   "source": [
    "from azureml.widgets import RunDetails\n",
    "RunDetails(automlmodel_run).show()"
   ]
  },
  {
   "cell_type": "code",
   "execution_count": 50,
   "metadata": {
    "gather": {
     "logged": 1613151486162
    }
   },
   "outputs": [
    {
     "name": "stdout",
     "output_type": "stream",
     "text": [
      "\n",
      "Current status: FeaturesGeneration. Generating features for the dataset.\n",
      "Current status: ModelSelection. Beginning model selection.\n",
      "\n",
      "****************************************************************************************************\n",
      "DATA GUARDRAILS: \n",
      "\n",
      "TYPE:         Cross validation\n",
      "STATUS:       DONE\n",
      "DESCRIPTION:  Each iteration of the trained model was validated through cross-validation.\n",
      "              \n",
      "DETAILS:      \n",
      "+---------------------------------+\n",
      "|Number of folds                  |\n",
      "+=================================+\n",
      "|3                                |\n",
      "+---------------------------------+\n",
      "\n",
      "****************************************************************************************************\n",
      "\n",
      "TYPE:         Class balancing detection\n",
      "STATUS:       PASSED\n",
      "DESCRIPTION:  Your inputs were analyzed, and all classes are balanced in your training data.\n",
      "              Learn more about imbalanced data: https://aka.ms/AutomatedMLImbalancedData\n",
      "\n",
      "****************************************************************************************************\n",
      "\n",
      "TYPE:         Missing feature values imputation\n",
      "STATUS:       PASSED\n",
      "DESCRIPTION:  No feature missing values were detected in the training data.\n",
      "              Learn more about missing value imputation: https://aka.ms/AutomatedMLFeaturization\n",
      "\n",
      "****************************************************************************************************\n",
      "\n",
      "TYPE:         High cardinality feature detection\n",
      "STATUS:       DONE\n",
      "DESCRIPTION:  High cardinality features were detected in your inputs and handled.\n",
      "              Learn more about high cardinality feature handling: https://aka.ms/AutomatedMLFeaturization\n",
      "DETAILS:      High cardinality features refer to columns that contain a large percentage of unique values.\n",
      "+---------------------------------+---------------------------------+\n",
      "|Column name                      |Column Content Type              |\n",
      "+=================================+=================================+\n",
      "|Ad Topic Line                    |text                             |\n",
      "|Country                          |categorical_hash                 |\n",
      "+---------------------------------+---------------------------------+\n",
      "\n",
      "****************************************************************************************************\n",
      "\n",
      "****************************************************************************************************\n",
      "ITERATION: The iteration being evaluated.\n",
      "PIPELINE: A summary description of the pipeline being evaluated.\n",
      "DURATION: Time taken for the current iteration.\n",
      "METRIC: The result of computing score on the fitted pipeline.\n",
      "BEST: The best observed score thus far.\n",
      "****************************************************************************************************\n",
      "\n",
      " ITERATION   PIPELINE                                       DURATION      METRIC      BEST\n",
      "         0   MaxAbsScaler LightGBM                          0:00:57       0.9888    0.9888\n",
      "         1   MaxAbsScaler XGBoostClassifier                 0:00:58       0.9875    0.9888\n",
      "         3   MaxAbsScaler RandomForest                      0:01:01       0.8640    0.9888\n",
      "         4   MaxAbsScaler RandomForest                      0:01:08       0.8419    0.9888\n",
      "         7   MaxAbsScaler ExtremeRandomTrees                0:00:53       0.9332    0.9888\n",
      "         2   MaxAbsScaler RandomForest                      0:02:22       0.9265    0.9888\n",
      "         5   MaxAbsScaler ExtremeRandomTrees                0:02:11       0.9876    0.9888\n",
      "         6   MaxAbsScaler ExtremeRandomTrees                0:02:11       0.9881    0.9888\n",
      "         8   MaxAbsScaler RandomForest                      0:00:56       0.9822    0.9888\n",
      "         9   MaxAbsScaler ExtremeRandomTrees                0:00:54       0.9883    0.9888\n",
      "        11   MaxAbsScaler RandomForest                      0:00:49       0.9802    0.9888\n",
      "        10   MaxAbsScaler RandomForest                      0:01:19       0.8685    0.9888\n",
      "        12   MaxAbsScaler RandomForest                      0:00:58       0.9771    0.9888\n",
      "        13   StandardScalerWrapper XGBoostClassifier        0:00:58       0.9850    0.9888\n",
      "        14   MaxAbsScaler RandomForest                      0:00:54       0.5397    0.9888\n",
      "        15   StandardScalerWrapper ExtremeRandomTrees       0:00:59       0.9834    0.9888\n"
     ]
    }
   ],
   "source": [
    "automlmodel_run.wait_for_completion(show_output=True)"
   ]
  },
  {
   "cell_type": "markdown",
   "metadata": {},
   "source": [
    "## Best Model\n",
    "\n",
    "TODO: In the cell below, get the best model from the automl experiments and display all the properties of the model.\n",
    "\n"
   ]
  },
  {
   "cell_type": "code",
   "execution_count": null,
   "metadata": {
    "collapsed": true,
    "jupyter": {
     "outputs_hidden": false,
     "source_hidden": false
    },
    "nteract": {
     "transient": {
      "deleting": false
     }
    }
   },
   "outputs": [],
   "source": [
    "# best run and model for automl\n",
    "best_run, fitted_model = automlmodel_run.get_output()\n",
    "\n",
    "# Print the best run\n",
    "print(best_run)\n",
    "\n",
    "# All metrics of the best run\n",
    "best_run_metrics = best_run.get_metrics()\n",
    "\n",
    "# Print all metrics of the best run\n",
    "for metric_name in best_run_metrics:\n",
    "    metric = best_run_metrics[metric_name]\n",
    "    print(metric_name, metric)"
   ]
  },
  {
   "cell_type": "markdown",
   "metadata": {},
   "source": [
    "## Model Deployment\n",
    "\n",
    "Remember you have to deploy only one of the two models you trained.. Perform the steps in the rest of this notebook only if you wish to deploy this model.\n",
    "\n",
    "TODO: In the cell below, register the model, create an inference config and deploy the model as a web service."
   ]
  },
  {
   "cell_type": "code",
   "execution_count": null,
   "metadata": {
    "gather": {
     "logged": 1613151612936
    },
    "jupyter": {
     "outputs_hidden": false,
     "source_hidden": false
    },
    "nteract": {
     "transient": {
      "deleting": false
     }
    }
   },
   "outputs": [],
   "source": [
    "import joblib \n",
    "print(best_run.get_details()['runDefinition']['arguments'])\n",
    "print(best_run.get_file_names())\n",
    "best_run.download_file('./outputs/model.joblib', output_file_path='./outputs')\n",
    "model = best_run.register_model(model_name='Advertising_BinaryClassification', model_path='outputs/model.joblib')"
   ]
  },
  {
   "cell_type": "code",
   "execution_count": null,
   "metadata": {
    "collapsed": true,
    "jupyter": {
     "outputs_hidden": false,
     "source_hidden": false
    },
    "nteract": {
     "transient": {
      "deleting": false
     }
    }
   },
   "outputs": [],
   "source": [
    "from azureml.core.environment import Environment\n",
    "from azureml.core.model import InferenceConfig\n",
    "\n",
    "\n",
    "env = Environment.get(workspace, \"AzureML-Minimal\").clone(env_name)\n",
    "\n",
    "for pip_package in [\"scikit-learn\"]:\n",
    "    env.python.conda_dependencies.add_pip_package(pip_package)\n",
    "\n",
    "inference_config = InferenceConfig(entry_script='./score.py',\n",
    "                                    environment=env)"
   ]
  },
  {
   "cell_type": "markdown",
   "metadata": {
    "collapsed": true,
    "gather": {
     "logged": 1598431657736
    },
    "jupyter": {
     "outputs_hidden": false,
     "source_hidden": false
    },
    "nteract": {
     "transient": {
      "deleting": false
     }
    }
   },
   "source": [
    "TODO: In the cell below, send a request to the web service you deployed to test it."
   ]
  },
  {
   "cell_type": "code",
   "execution_count": null,
   "metadata": {
    "gather": {
     "logged": 1598432707604
    },
    "jupyter": {
     "outputs_hidden": false,
     "source_hidden": false
    },
    "nteract": {
     "transient": {
      "deleting": false
     }
    }
   },
   "outputs": [],
   "source": []
  },
  {
   "cell_type": "markdown",
   "metadata": {
    "collapsed": true,
    "gather": {
     "logged": 1598432765711
    },
    "jupyter": {
     "outputs_hidden": false,
     "source_hidden": false
    },
    "nteract": {
     "transient": {
      "deleting": false
     }
    }
   },
   "source": [
    "TODO: In the cell below, print the logs of the web service and delete the service"
   ]
  }
 ],
 "metadata": {
  "kernel_info": {
   "name": "python3"
  },
  "kernelspec": {
   "display_name": "Python 3",
   "language": "python",
   "name": "python3"
  },
  "language_info": {
   "codemirror_mode": {
    "name": "ipython",
    "version": 3
   },
   "file_extension": ".py",
   "mimetype": "text/x-python",
   "name": "python",
   "nbconvert_exporter": "python",
   "pygments_lexer": "ipython3",
   "version": "3.8.3"
  },
  "nteract": {
   "version": "nteract-front-end@1.0.0"
  }
 },
 "nbformat": 4,
 "nbformat_minor": 2
}
