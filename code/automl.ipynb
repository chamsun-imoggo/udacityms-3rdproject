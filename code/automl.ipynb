{
  "cells": [
    {
      "cell_type": "markdown",
      "source": [
        "# Automated ML\n",
        "\n",
        "TODO: Import Dependencies. In the cell below, import all the dependencies that you will need to complete the project."
      ],
      "metadata": {}
    },
    {
      "cell_type": "code",
      "source": [
        "import logging\n",
        "import os\n",
        "import csv\n",
        "\n",
        "from matplotlib import pyplot as plt\n",
        "import numpy as np\n",
        "import pandas as pd\n",
        "from sklearn import datasets\n",
        "import pkg_resources\n",
        "\n",
        "import azureml.core\n",
        "from azureml.core.experiment import Experiment\n",
        "from azureml.core.workspace import Workspace\n",
        "from azureml.train.automl import AutoMLConfig\n",
        "from azureml.core.dataset import Dataset\n",
        "\n",
        "from azureml.pipeline.steps import AutoMLStep\n",
        "\n",
        "# Check core SDK version number\n",
        "print(\"SDK version:\", azureml.core.VERSION)"
      ],
      "outputs": [
        {
          "output_type": "stream",
          "name": "stdout",
          "text": [
            "SDK version: 1.24.0\n"
          ]
        }
      ],
      "execution_count": 1,
      "metadata": {
        "gather": {
          "logged": 1616334915786
        },
        "jupyter": {
          "outputs_hidden": false,
          "source_hidden": false
        },
        "nteract": {
          "transient": {
            "deleting": false
          }
        }
      }
    },
    {
      "cell_type": "markdown",
      "source": [
        "## Dataset\n",
        "\n",
        "### Overview\n",
        "TODO: In this markdown cell, give an overview of the dataset you are using. Also mention the task you will be performing.\n",
        "\n",
        "\n",
        "TODO: Get data. In the cell below, write code to access the data you will be using in this project. Remember that the dataset needs to be external."
      ],
      "metadata": {}
    },
    {
      "cell_type": "code",
      "source": [
        "ws = Workspace.from_config()\n",
        "\n",
        "\n",
        "# Choose a name for the run history container in the workspace.\n",
        "# NOTE: update these to match your existing experiment name\n",
        "experiment_name = 'hydraulic-automl-experiment'\n",
        "project_folder = './pipeline-project'\n",
        "\n",
        "experiment = Experiment(ws, experiment_name)\n",
        "experiment"
      ],
      "outputs": [
        {
          "output_type": "execute_result",
          "execution_count": 2,
          "data": {
            "text/plain": "Experiment(Name: hydraulic-automl-experiment,\nWorkspace: quick-starts-ws-141045)",
            "text/html": "<table style=\"width:100%\"><tr><th>Name</th><th>Workspace</th><th>Report Page</th><th>Docs Page</th></tr><tr><td>hydraulic-automl-experiment</td><td>quick-starts-ws-141045</td><td><a href=\"https://ml.azure.com/experiments/hydraulic-automl-experiment?wsid=/subscriptions/81cefad3-d2c9-4f77-a466-99a7f541c7bb/resourcegroups/aml-quickstarts-141045/workspaces/quick-starts-ws-141045\" target=\"_blank\" rel=\"noopener\">Link to Azure Machine Learning studio</a></td><td><a href=\"https://docs.microsoft.com/en-us/python/api/azureml-core/azureml.core.experiment.Experiment?view=azure-ml-py\" target=\"_blank\" rel=\"noopener\">Link to Documentation</a></td></tr></table>"
          },
          "metadata": {}
        }
      ],
      "execution_count": 2,
      "metadata": {
        "gather": {
          "logged": 1616335050799
        },
        "jupyter": {
          "outputs_hidden": false,
          "source_hidden": false
        },
        "nteract": {
          "transient": {
            "deleting": false
          }
        }
      }
    },
    {
      "cell_type": "code",
      "source": [
        "# get the data\n",
        "# Try to load the dataset from the Workspace. Otherwise, create it from the file\n",
        "# NOTE: update the key to match the dataset name\n",
        "# Data Source : https://archive.ics.uci.edu/ml/datasets/Condition+monitoring+of+hydraulic+systems\n",
        "found = False\n",
        "key = \"Hydraulic Systems Data\"\n",
        "description_text = \"Condition monitoring of hydraulic systems Data Set\"\n",
        "\n",
        "if key in ws.datasets.keys(): \n",
        "        found = True\n",
        "        dataset = ws.datasets[key] \n",
        "\n",
        "if not found:\n",
        "        # Create AML Dataset and register it into Workspace\n",
        "        example_data = 'https://raw.githubusercontent.com/chamsun-imoggo/udacityms-3rdproject/main/data/hydraulic_systems_training.csv'\n",
        "        dataset = Dataset.Tabular.from_delimited_files(example_data)        \n",
        "        #Register Dataset in Workspace\n",
        "        dataset = dataset.register(workspace=ws,\n",
        "                                   name=key,\n",
        "                                   description=description_text)\n",
        "\n",
        "\n",
        "df = dataset.to_pandas_dataframe()\n",
        "df.describe()"
      ],
      "outputs": [
        {
          "output_type": "execute_result",
          "execution_count": 3,
          "data": {
            "text/plain": "               PS1          PS2          PS3          PS4          PS5  \\\ncount  2094.000000  2094.000000  2094.000000  2094.000000  2094.000000   \nmean    160.461089   109.383521     1.742380     2.199789     9.122855   \nstd       4.820589     5.116599     0.253804     4.012051     0.563162   \nmin     155.391547   104.406307     0.840252     0.000000     8.365801   \n25%     157.986015   106.913668     1.727014     0.000000     8.535713   \n50%     158.845991   107.607607     1.766360     0.000000     9.066202   \n75%     160.983205   109.415065     1.923863     1.266499     9.835300   \nmax     180.922708   131.589089     2.023398    10.182837     9.976781   \n\n               PS6          FS1          FS2          TS1          TS2  \\\ncount  2094.000000  2094.000000  2094.000000  2094.000000  2094.000000   \nmean      9.040759     6.179498     9.621939    45.945370    50.850958   \nstd       0.537043     1.056177     0.444382     7.865514     7.275285   \nmin       8.321527     2.018572     8.857513    35.384333    40.978767   \n25%       8.478621     6.379040     9.197996    36.309758    41.923621   \n50%       8.985830     6.579164     9.668634    45.556025    50.500100   \n75%       9.720552     6.655778    10.146995    54.193537    58.723546   \nmax       9.856591     6.722707    10.403098    57.899283    61.958467   \n\n               TS3          TS4           P1          VS1          CE1  \\\ncount  2094.000000  2094.000000  2094.000000  2094.000000  2094.000000   \nmean     48.145850    41.270196  2492.650573     0.616699    30.479281   \nstd       7.336484     7.971456    74.670327     0.059958    11.301936   \nmin      38.340283    30.470550  2361.747267     0.524367    17.555983   \n25%      39.204996    31.341463  2441.167950     0.560175    20.032158   \n50%      47.766750    41.061425  2475.461567     0.612275    27.314450   \n75%      55.751542    49.492954  2547.338367     0.653071    46.610821   \nmax      59.423167    53.060417  2740.641000     0.839067    47.903667   \n\n               CP1          SE1    STABILITY  \ncount  2094.000000  2094.000000  2094.000000  \nmean      1.789732    55.173831     0.360076  \nstd       0.273144     9.175962     0.480137  \nmin       1.062150    18.276617     0.000000  \n25%       1.545979    56.276721     0.000000  \n50%       1.734800    58.797425     0.000000  \n75%       2.140912    59.687908     1.000000  \nmax       2.840100    60.755300     1.000000  ",
            "text/html": "<div>\n<style scoped>\n    .dataframe tbody tr th:only-of-type {\n        vertical-align: middle;\n    }\n\n    .dataframe tbody tr th {\n        vertical-align: top;\n    }\n\n    .dataframe thead th {\n        text-align: right;\n    }\n</style>\n<table border=\"1\" class=\"dataframe\">\n  <thead>\n    <tr style=\"text-align: right;\">\n      <th></th>\n      <th>PS1</th>\n      <th>PS2</th>\n      <th>PS3</th>\n      <th>PS4</th>\n      <th>PS5</th>\n      <th>PS6</th>\n      <th>FS1</th>\n      <th>FS2</th>\n      <th>TS1</th>\n      <th>TS2</th>\n      <th>TS3</th>\n      <th>TS4</th>\n      <th>P1</th>\n      <th>VS1</th>\n      <th>CE1</th>\n      <th>CP1</th>\n      <th>SE1</th>\n      <th>STABILITY</th>\n    </tr>\n  </thead>\n  <tbody>\n    <tr>\n      <th>count</th>\n      <td>2094.000000</td>\n      <td>2094.000000</td>\n      <td>2094.000000</td>\n      <td>2094.000000</td>\n      <td>2094.000000</td>\n      <td>2094.000000</td>\n      <td>2094.000000</td>\n      <td>2094.000000</td>\n      <td>2094.000000</td>\n      <td>2094.000000</td>\n      <td>2094.000000</td>\n      <td>2094.000000</td>\n      <td>2094.000000</td>\n      <td>2094.000000</td>\n      <td>2094.000000</td>\n      <td>2094.000000</td>\n      <td>2094.000000</td>\n      <td>2094.000000</td>\n    </tr>\n    <tr>\n      <th>mean</th>\n      <td>160.461089</td>\n      <td>109.383521</td>\n      <td>1.742380</td>\n      <td>2.199789</td>\n      <td>9.122855</td>\n      <td>9.040759</td>\n      <td>6.179498</td>\n      <td>9.621939</td>\n      <td>45.945370</td>\n      <td>50.850958</td>\n      <td>48.145850</td>\n      <td>41.270196</td>\n      <td>2492.650573</td>\n      <td>0.616699</td>\n      <td>30.479281</td>\n      <td>1.789732</td>\n      <td>55.173831</td>\n      <td>0.360076</td>\n    </tr>\n    <tr>\n      <th>std</th>\n      <td>4.820589</td>\n      <td>5.116599</td>\n      <td>0.253804</td>\n      <td>4.012051</td>\n      <td>0.563162</td>\n      <td>0.537043</td>\n      <td>1.056177</td>\n      <td>0.444382</td>\n      <td>7.865514</td>\n      <td>7.275285</td>\n      <td>7.336484</td>\n      <td>7.971456</td>\n      <td>74.670327</td>\n      <td>0.059958</td>\n      <td>11.301936</td>\n      <td>0.273144</td>\n      <td>9.175962</td>\n      <td>0.480137</td>\n    </tr>\n    <tr>\n      <th>min</th>\n      <td>155.391547</td>\n      <td>104.406307</td>\n      <td>0.840252</td>\n      <td>0.000000</td>\n      <td>8.365801</td>\n      <td>8.321527</td>\n      <td>2.018572</td>\n      <td>8.857513</td>\n      <td>35.384333</td>\n      <td>40.978767</td>\n      <td>38.340283</td>\n      <td>30.470550</td>\n      <td>2361.747267</td>\n      <td>0.524367</td>\n      <td>17.555983</td>\n      <td>1.062150</td>\n      <td>18.276617</td>\n      <td>0.000000</td>\n    </tr>\n    <tr>\n      <th>25%</th>\n      <td>157.986015</td>\n      <td>106.913668</td>\n      <td>1.727014</td>\n      <td>0.000000</td>\n      <td>8.535713</td>\n      <td>8.478621</td>\n      <td>6.379040</td>\n      <td>9.197996</td>\n      <td>36.309758</td>\n      <td>41.923621</td>\n      <td>39.204996</td>\n      <td>31.341463</td>\n      <td>2441.167950</td>\n      <td>0.560175</td>\n      <td>20.032158</td>\n      <td>1.545979</td>\n      <td>56.276721</td>\n      <td>0.000000</td>\n    </tr>\n    <tr>\n      <th>50%</th>\n      <td>158.845991</td>\n      <td>107.607607</td>\n      <td>1.766360</td>\n      <td>0.000000</td>\n      <td>9.066202</td>\n      <td>8.985830</td>\n      <td>6.579164</td>\n      <td>9.668634</td>\n      <td>45.556025</td>\n      <td>50.500100</td>\n      <td>47.766750</td>\n      <td>41.061425</td>\n      <td>2475.461567</td>\n      <td>0.612275</td>\n      <td>27.314450</td>\n      <td>1.734800</td>\n      <td>58.797425</td>\n      <td>0.000000</td>\n    </tr>\n    <tr>\n      <th>75%</th>\n      <td>160.983205</td>\n      <td>109.415065</td>\n      <td>1.923863</td>\n      <td>1.266499</td>\n      <td>9.835300</td>\n      <td>9.720552</td>\n      <td>6.655778</td>\n      <td>10.146995</td>\n      <td>54.193537</td>\n      <td>58.723546</td>\n      <td>55.751542</td>\n      <td>49.492954</td>\n      <td>2547.338367</td>\n      <td>0.653071</td>\n      <td>46.610821</td>\n      <td>2.140912</td>\n      <td>59.687908</td>\n      <td>1.000000</td>\n    </tr>\n    <tr>\n      <th>max</th>\n      <td>180.922708</td>\n      <td>131.589089</td>\n      <td>2.023398</td>\n      <td>10.182837</td>\n      <td>9.976781</td>\n      <td>9.856591</td>\n      <td>6.722707</td>\n      <td>10.403098</td>\n      <td>57.899283</td>\n      <td>61.958467</td>\n      <td>59.423167</td>\n      <td>53.060417</td>\n      <td>2740.641000</td>\n      <td>0.839067</td>\n      <td>47.903667</td>\n      <td>2.840100</td>\n      <td>60.755300</td>\n      <td>1.000000</td>\n    </tr>\n  </tbody>\n</table>\n</div>"
          },
          "metadata": {}
        }
      ],
      "execution_count": 3,
      "metadata": {
        "gather": {
          "logged": 1616335542359
        }
      }
    },
    {
      "cell_type": "markdown",
      "source": [
        "## AutoML Configuration\n",
        "\n",
        "TODO: Explain why you chose the automl settings and cofiguration you used below."
      ],
      "metadata": {}
    },
    {
      "cell_type": "code",
      "source": [
        "from azureml.core.compute import AmlCompute\n",
        "from azureml.core.compute import ComputeTarget\n",
        "from azureml.core.compute_target import ComputeTargetException\n",
        "\n",
        "# NOTE: update the cluster name to match the existing cluster\n",
        "# Choose a name for your CPU cluster\n",
        "amlcompute_cluster_name = \"compute-ml\"\n",
        "\n",
        "# Verify that cluster does not exist already\n",
        "try:\n",
        "    compute_target = ComputeTarget(ws, amlcompute_cluster_name)\n",
        "    print(f\"{compute_name} exists already\")\n",
        "except:\n",
        "    compute_config = AmlCompute.provisioning_configuration(vm_size=\"Standard_DS14_v2\", max_nodes=10)\n",
        "    compute_target = ComputeTarget.create(ws, amlcompute_cluster_name, compute_config)\n",
        "compute_target.wait_for_completion(show_output=True)"
      ],
      "outputs": [
        {
          "output_type": "stream",
          "name": "stdout",
          "text": [
            "Creating....\n",
            "SucceededProvisioning operation finished, operation \"Succeeded\"\n",
            "Succeeded\n",
            "AmlCompute wait for completion finished\n",
            "\n",
            "Minimum number of nodes requested have been provisioned\n"
          ]
        }
      ],
      "execution_count": 4,
      "metadata": {
        "gather": {
          "logged": 1616335563883
        }
      }
    },
    {
      "cell_type": "code",
      "source": [
        "# TODO: Put your automl settings here\n",
        "automl_settings = {\n",
        "    \"experiment_timeout_minutes\": 60,\n",
        "    \"max_concurrent_iterations\": 20,\n",
        "    \"primary_metric\" : 'accuracy'\n",
        "}\n",
        "\n",
        "# TODO: Put your automl config here\n",
        "automl_config = AutoMLConfig(compute_target=compute_target,\n",
        "                             task = \"classification\",\n",
        "                             training_data=dataset,\n",
        "                             label_column_name=\"STABILITY\",\n",
        "                             blocked_models=['XGBoostClassifier'],\n",
        "                             path = project_folder,\n",
        "                             enable_early_stopping= True,\n",
        "                             featurization= 'auto',\n",
        "                             debug_log = \"automl_errors.log\",\n",
        "                             enable_onnx_compatible_models=True,\n",
        "                             **automl_settings\n",
        "                            )\n"
      ],
      "outputs": [],
      "execution_count": 5,
      "metadata": {
        "gather": {
          "logged": 1616335564145
        },
        "jupyter": {
          "outputs_hidden": false,
          "source_hidden": false
        },
        "nteract": {
          "transient": {
            "deleting": false
          }
        }
      }
    },
    {
      "cell_type": "code",
      "source": [
        "# TODO: Submit your experiment\n",
        "automlmodel_run = experiment.submit(automl_config, show_output=True)"
      ],
      "outputs": [
        {
          "output_type": "stream",
          "name": "stdout",
          "text": [
            "Running on remote.\n",
            "No run_configuration provided, running on compute-ml with default configuration\n",
            "Running on remote compute: compute-ml\n",
            "Parent Run ID: AutoML_44b66c17-6335-4af6-b059-70f12198038a\n",
            "\n",
            "Current status: FeaturesGeneration. Generating features for the dataset.\n",
            "Current status: ModelSelection. Beginning model selection.\n",
            "\n",
            "****************************************************************************************************\n",
            "DATA GUARDRAILS: \n",
            "\n",
            "TYPE:         Cross validation\n",
            "STATUS:       DONE\n",
            "DESCRIPTION:  Each iteration of the trained model was validated through cross-validation.\n",
            "              \n",
            "DETAILS:      \n",
            "+---------------------------------+\n",
            "|Number of folds                  |\n",
            "+=================================+\n",
            "|3                                |\n",
            "+---------------------------------+\n",
            "\n",
            "****************************************************************************************************\n",
            "\n",
            "TYPE:         Class balancing detection\n",
            "STATUS:       PASSED\n",
            "DESCRIPTION:  Your inputs were analyzed, and all classes are balanced in your training data.\n",
            "              Learn more about imbalanced data: https://aka.ms/AutomatedMLImbalancedData\n",
            "\n",
            "****************************************************************************************************\n",
            "\n",
            "TYPE:         Missing feature values imputation\n",
            "STATUS:       PASSED\n",
            "DESCRIPTION:  No feature missing values were detected in the training data.\n",
            "              Learn more about missing value imputation: https://aka.ms/AutomatedMLFeaturization\n",
            "\n",
            "****************************************************************************************************\n",
            "\n",
            "TYPE:         High cardinality feature detection\n",
            "STATUS:       PASSED\n",
            "DESCRIPTION:  Your inputs were analyzed, and no high cardinality features were detected.\n",
            "              Learn more about high cardinality feature handling: https://aka.ms/AutomatedMLFeaturization\n",
            "\n",
            "****************************************************************************************************\n",
            "\n",
            "****************************************************************************************************\n",
            "ITERATION: The iteration being evaluated.\n",
            "PIPELINE: A summary description of the pipeline being evaluated.\n",
            "DURATION: Time taken for the current iteration.\n",
            "METRIC: The result of computing score on the fitted pipeline.\n",
            "BEST: The best observed score thus far.\n",
            "****************************************************************************************************\n",
            "\n",
            " ITERATION   PIPELINE                                       DURATION      METRIC      BEST\n",
            "        14   StandardScalerWrapper ExtremeRandomTrees       0:00:52       0.8610    0.8610\n",
            "         2   MinMaxScaler RandomForest                      0:00:47       0.9327    0.9327\n",
            "        18   MaxAbsScaler LogisticRegression                0:00:50       0.8190    0.9327\n",
            "         3   MinMaxScaler RandomForest                      0:00:45       0.9575    0.9575\n",
            "         6   MinMaxScaler LogisticRegression                0:00:53       0.8023    0.9575\n",
            "        10   RobustScaler LogisticRegression                0:00:54       0.8348    0.9575\n",
            "         7   TruncatedSVDWrapper LightGBM                   0:01:39       0.9608    0.9608\n",
            "         1   MinMaxScaler RandomForest                      0:01:39       0.9508    0.9608\n",
            "        11   StandardScalerWrapper LogisticRegression       0:01:46       0.8104    0.9608\n",
            "        15   MinMaxScaler LogisticRegression                0:01:47       0.9007    0.9608\n",
            "        17   RobustScaler GradientBoosting                  0:01:54       0.9570    0.9608\n",
            "         4   MinMaxScaler RandomForest                      0:01:39       0.8625    0.9608\n",
            "         5   MaxAbsScaler LogisticRegression                0:01:48       0.8204    0.9608\n",
            "         9   StandardScalerWrapper RandomForest             0:01:39       0.9479    0.9608\n",
            "        12   MaxAbsScaler LightGBM                          0:00:52       0.9398    0.9608\n",
            "         0   MaxAbsScaler LightGBM                          0:00:53       0.9761    0.9761\n",
            "        13   SparseNormalizer RandomForest                  0:00:54       0.9269    0.9761\n",
            "        16   TruncatedSVDWrapper LightGBM                   0:00:54       0.9604    0.9761\n",
            "        19   MaxAbsScaler LightGBM                          0:00:53       0.9642    0.9761\n",
            "        20   SparseNormalizer GradientBoosting              0:00:48       0.9427    0.9761\n",
            "        22   MaxAbsScaler LightGBM                          0:00:43       0.9427    0.9761\n",
            "        23   MaxAbsScaler GradientBoosting                  0:00:46       0.9303    0.9761\n",
            "         8   RobustScaler KNN                               0:01:41       0.9460    0.9761\n",
            "        21   StandardScalerWrapper GradientBoosting         0:01:04       0.9140    0.9761\n",
            "        24   RobustScaler RandomForest                      0:00:44       0.9403    0.9761\n",
            "        25   MinMaxScaler RandomForest                      0:00:50       0.9250    0.9761\n",
            "        31   MaxAbsScaler LightGBM                          0:00:43       0.9403    0.9761\n",
            "        26   MinMaxScaler RandomForest                      0:00:49       0.9265    0.9761\n",
            "        27   MaxAbsScaler LightGBM                          0:00:48       0.9379    0.9761\n",
            "        28   StandardScalerWrapper LightGBM                 0:00:45       0.9303    0.9761\n",
            "        29   MaxAbsScaler LightGBM                          0:00:41       0.9451    0.9761\n",
            "        30   StandardScalerWrapper LightGBM                 0:00:45       0.9637    0.9761\n",
            "        33   SparseNormalizer LightGBM                      0:00:49       0.9331    0.9761\n",
            "        32   MinMaxScaler LightGBM                          0:00:55       0.9589    0.9761\n",
            "        34   StandardScalerWrapper LightGBM                 0:00:48       0.9207    0.9761\n",
            "        35   StandardScalerWrapper LightGBM                 0:00:50       0.6399    0.9761\n",
            "        36   MinMaxScaler LightGBM                          0:00:57       0.9145    0.9761\n",
            "        37   MinMaxScaler LightGBM                          0:00:52       0.9446    0.9761\n",
            "        38   RobustScaler LightGBM                          0:00:53       0.9360    0.9761\n",
            "        39   MinMaxScaler LightGBM                          0:00:48       0.9632    0.9761\n",
            "        40   StandardScalerWrapper LightGBM                 0:00:45       0.9623    0.9761\n",
            "        42   MaxAbsScaler LightGBM                          0:00:52       0.9422    0.9761\n",
            "        41   MaxAbsScaler LightGBM                          0:00:54       0.9632    0.9761\n",
            "        43   StandardScalerWrapper RandomForest             0:00:47       0.9317    0.9761\n",
            "        44   StandardScalerWrapper LightGBM                 0:00:46       0.9556    0.9761\n",
            "        45   SparseNormalizer LightGBM                      0:00:45       0.9226    0.9761\n",
            "        46   MinMaxScaler LightGBM                          0:00:50       0.9255    0.9761\n",
            "        47   RobustScaler LightGBM                          0:00:47       0.9308    0.9761\n",
            "        48   StandardScalerWrapper KNN                      0:01:05       0.9231    0.9761\n",
            "        49   StandardScalerWrapper KNN                      0:00:55       0.9341    0.9761\n",
            "        50   SparseNormalizer LightGBM                      0:00:53       0.6437    0.9761\n",
            "        51   StandardScalerWrapper ExtremeRandomTrees       0:00:43       0.9279    0.9761\n",
            "        52   MaxAbsScaler RandomForest                      0:00:49       0.9293    0.9761\n",
            "        53   StandardScalerWrapper LightGBM                 0:00:43       0.9207    0.9761\n",
            "        54   StandardScalerWrapper LightGBM                 0:00:39       0.9226    0.9761\n",
            "        55                                                  0:00:21          nan    0.9761\n",
            "        56                                                  0:01:26          nan    0.9761\n",
            "        57                                                  0:00:09          nan    0.9761\n",
            "        58                                                  0:01:21          nan    0.9761\n",
            "        59                                                  0:01:21          nan    0.9761\n",
            "        60                                                  0:01:15          nan    0.9761\n",
            "        61                                                  0:01:12          nan    0.9761\n",
            "        62                                                  0:01:11          nan    0.9761\n",
            "        63                                                  0:00:57          nan    0.9761\n",
            "        64                                                  0:00:50          nan    0.9761\n",
            "        65                                                  0:00:34          nan    0.9761\n",
            "        66                                                  0:00:22          nan    0.9761\n",
            "        67                                                  0:00:20          nan    0.9761\n",
            "        68                                                  0:00:18          nan    0.9761\n",
            "        69                                                  0:00:18          nan    0.9761\n",
            "        70    VotingEnsemble                                0:01:17       0.9766    0.9766\n"
          ]
        }
      ],
      "execution_count": 6,
      "metadata": {
        "gather": {
          "logged": 1616336806398
        },
        "jupyter": {
          "outputs_hidden": false,
          "source_hidden": false
        },
        "nteract": {
          "transient": {
            "deleting": false
          }
        }
      }
    },
    {
      "cell_type": "markdown",
      "source": [
        "## Run Details\n",
        "\n",
        "OPTIONAL: Write about the different models trained and their performance. Why do you think some models did better than others?\n",
        "\n",
        "TODO: In the cell below, use the `RunDetails` widget to show the different experiments."
      ],
      "metadata": {}
    },
    {
      "cell_type": "code",
      "source": [
        "from azureml.widgets import RunDetails\n",
        "RunDetails(automlmodel_run).show()"
      ],
      "outputs": [
        {
          "output_type": "display_data",
          "data": {
            "text/plain": "_AutoMLWidget(widget_settings={'childWidgetDisplay': 'popup', 'send_telemetry': False, 'log_level': 'INFO', 's…",
            "application/vnd.jupyter.widget-view+json": {
              "version_major": 2,
              "version_minor": 0,
              "model_id": "1afd9a5e5bc5436080ab3f345c9da2f7"
            }
          },
          "metadata": {}
        },
        {
          "output_type": "display_data",
          "data": {
            "application/aml.mini.widget.v1": "{\"status\": \"Completed\", \"workbench_run_details_uri\": \"https://ml.azure.com/experiments/hydraulic-automl-experiment/runs/AutoML_44b66c17-6335-4af6-b059-70f12198038a?wsid=/subscriptions/81cefad3-d2c9-4f77-a466-99a7f541c7bb/resourcegroups/aml-quickstarts-141045/workspaces/quick-starts-ws-141045\", \"run_id\": \"AutoML_44b66c17-6335-4af6-b059-70f12198038a\", \"run_properties\": {\"run_id\": \"AutoML_44b66c17-6335-4af6-b059-70f12198038a\", \"created_utc\": \"2021-03-21T14:06:07.394055Z\", \"properties\": {\"num_iterations\": \"1000\", \"training_type\": \"TrainFull\", \"acquisition_function\": \"EI\", \"primary_metric\": \"accuracy\", \"train_split\": \"0\", \"acquisition_parameter\": \"0\", \"num_cross_validation\": null, \"target\": \"compute-ml\", \"AMLSettingsJsonString\": \"{\\\"path\\\":null,\\\"name\\\":\\\"hydraulic-automl-experiment\\\",\\\"subscription_id\\\":\\\"81cefad3-d2c9-4f77-a466-99a7f541c7bb\\\",\\\"resource_group\\\":\\\"aml-quickstarts-141045\\\",\\\"workspace_name\\\":\\\"quick-starts-ws-141045\\\",\\\"region\\\":\\\"southcentralus\\\",\\\"compute_target\\\":\\\"compute-ml\\\",\\\"spark_service\\\":null,\\\"azure_service\\\":\\\"remote\\\",\\\"many_models\\\":false,\\\"pipeline_fetch_max_batch_size\\\":1,\\\"enable_batch_run\\\":false,\\\"iterations\\\":1000,\\\"primary_metric\\\":\\\"accuracy\\\",\\\"task_type\\\":\\\"classification\\\",\\\"data_script\\\":null,\\\"validation_size\\\":0.0,\\\"n_cross_validations\\\":null,\\\"y_min\\\":null,\\\"y_max\\\":null,\\\"num_classes\\\":null,\\\"featurization\\\":\\\"auto\\\",\\\"_ignore_package_version_incompatibilities\\\":false,\\\"is_timeseries\\\":false,\\\"max_cores_per_iteration\\\":1,\\\"max_concurrent_iterations\\\":20,\\\"iteration_timeout_minutes\\\":null,\\\"mem_in_mb\\\":null,\\\"enforce_time_on_windows\\\":false,\\\"experiment_timeout_minutes\\\":60,\\\"experiment_exit_score\\\":null,\\\"whitelist_models\\\":null,\\\"blacklist_algos\\\":[\\\"XGBoostClassifier\\\",\\\"TensorFlowLinearClassifier\\\",\\\"TensorFlowDNN\\\"],\\\"supported_models\\\":[\\\"LinearSVM\\\",\\\"TensorFlowDNN\\\",\\\"ExtremeRandomTrees\\\",\\\"BernoulliNaiveBayes\\\",\\\"KNN\\\",\\\"DecisionTree\\\",\\\"XGBoostClassifier\\\",\\\"GradientBoosting\\\",\\\"TensorFlowLinearClassifier\\\",\\\"MultinomialNaiveBayes\\\",\\\"RandomForest\\\",\\\"SGD\\\",\\\"AveragedPerceptronClassifier\\\",\\\"SVM\\\",\\\"LightGBM\\\",\\\"LogisticRegression\\\"],\\\"private_models\\\":[],\\\"auto_blacklist\\\":true,\\\"blacklist_samples_reached\\\":false,\\\"exclude_nan_labels\\\":true,\\\"verbosity\\\":20,\\\"_debug_log\\\":\\\"azureml_automl.log\\\",\\\"show_warnings\\\":false,\\\"model_explainability\\\":true,\\\"service_url\\\":null,\\\"sdk_url\\\":null,\\\"sdk_packages\\\":null,\\\"enable_onnx_compatible_models\\\":true,\\\"enable_split_onnx_featurizer_estimator_models\\\":false,\\\"vm_type\\\":\\\"STANDARD_DS14_V2\\\",\\\"telemetry_verbosity\\\":20,\\\"send_telemetry\\\":true,\\\"enable_dnn\\\":false,\\\"scenario\\\":\\\"SDK-1.13.0\\\",\\\"environment_label\\\":null,\\\"save_mlflow\\\":false,\\\"force_text_dnn\\\":false,\\\"enable_feature_sweeping\\\":false,\\\"enable_early_stopping\\\":true,\\\"early_stopping_n_iters\\\":10,\\\"metrics\\\":null,\\\"enable_metric_confidence\\\":false,\\\"enable_ensembling\\\":true,\\\"enable_stack_ensembling\\\":false,\\\"ensemble_iterations\\\":15,\\\"enable_tf\\\":false,\\\"enable_subsampling\\\":null,\\\"subsample_seed\\\":null,\\\"enable_nimbusml\\\":false,\\\"enable_streaming\\\":false,\\\"force_streaming\\\":false,\\\"track_child_runs\\\":true,\\\"allowed_private_models\\\":[],\\\"label_column_name\\\":\\\"STABILITY\\\",\\\"weight_column_name\\\":null,\\\"cv_split_column_names\\\":null,\\\"enable_local_managed\\\":false,\\\"_local_managed_run_id\\\":null,\\\"cost_mode\\\":1,\\\"lag_length\\\":0,\\\"metric_operation\\\":\\\"maximize\\\",\\\"preprocess\\\":true}\", \"DataPrepJsonString\": \"{\\\\\\\"training_data\\\\\\\": \\\\\\\"{\\\\\\\\\\\\\\\"blocks\\\\\\\\\\\\\\\": [{\\\\\\\\\\\\\\\"id\\\\\\\\\\\\\\\": \\\\\\\\\\\\\\\"4e1dfa48-718b-4737-a899-0347898412f8\\\\\\\\\\\\\\\", \\\\\\\\\\\\\\\"type\\\\\\\\\\\\\\\": \\\\\\\\\\\\\\\"Microsoft.DPrep.GetFilesBlock\\\\\\\\\\\\\\\", \\\\\\\\\\\\\\\"arguments\\\\\\\\\\\\\\\": {\\\\\\\\\\\\\\\"isArchive\\\\\\\\\\\\\\\": false, \\\\\\\\\\\\\\\"path\\\\\\\\\\\\\\\": {\\\\\\\\\\\\\\\"target\\\\\\\\\\\\\\\": 4, \\\\\\\\\\\\\\\"resourceDetails\\\\\\\\\\\\\\\": [{\\\\\\\\\\\\\\\"path\\\\\\\\\\\\\\\": \\\\\\\\\\\\\\\"https://raw.githubusercontent.com/chamsun-imoggo/udacityms-3rdproject/main/data/hydraulic_systems_training.csv\\\\\\\\\\\\\\\"}]}}, \\\\\\\\\\\\\\\"localData\\\\\\\\\\\\\\\": {}, \\\\\\\\\\\\\\\"isEnabled\\\\\\\\\\\\\\\": true, \\\\\\\\\\\\\\\"name\\\\\\\\\\\\\\\": null, \\\\\\\\\\\\\\\"annotation\\\\\\\\\\\\\\\": null}, {\\\\\\\\\\\\\\\"id\\\\\\\\\\\\\\\": \\\\\\\\\\\\\\\"8ee5e366-d55c-440b-a4eb-aa9a25ee0628\\\\\\\\\\\\\\\", \\\\\\\\\\\\\\\"type\\\\\\\\\\\\\\\": \\\\\\\\\\\\\\\"Microsoft.DPrep.ParseDelimitedBlock\\\\\\\\\\\\\\\", \\\\\\\\\\\\\\\"arguments\\\\\\\\\\\\\\\": {\\\\\\\\\\\\\\\"columnHeadersMode\\\\\\\\\\\\\\\": 3, \\\\\\\\\\\\\\\"fileEncoding\\\\\\\\\\\\\\\": 0, \\\\\\\\\\\\\\\"handleQuotedLineBreaks\\\\\\\\\\\\\\\": false, \\\\\\\\\\\\\\\"preview\\\\\\\\\\\\\\\": false, \\\\\\\\\\\\\\\"separator\\\\\\\\\\\\\\\": \\\\\\\\\\\\\\\",\\\\\\\\\\\\\\\", \\\\\\\\\\\\\\\"skipRows\\\\\\\\\\\\\\\": 0, \\\\\\\\\\\\\\\"skipRowsMode\\\\\\\\\\\\\\\": 0}, \\\\\\\\\\\\\\\"localData\\\\\\\\\\\\\\\": {}, \\\\\\\\\\\\\\\"isEnabled\\\\\\\\\\\\\\\": true, \\\\\\\\\\\\\\\"name\\\\\\\\\\\\\\\": null, \\\\\\\\\\\\\\\"annotation\\\\\\\\\\\\\\\": null}, {\\\\\\\\\\\\\\\"id\\\\\\\\\\\\\\\": \\\\\\\\\\\\\\\"86745aa2-c480-4105-936d-ebee1a2859a3\\\\\\\\\\\\\\\", \\\\\\\\\\\\\\\"type\\\\\\\\\\\\\\\": \\\\\\\\\\\\\\\"Microsoft.DPrep.DropColumnsBlock\\\\\\\\\\\\\\\", \\\\\\\\\\\\\\\"arguments\\\\\\\\\\\\\\\": {\\\\\\\\\\\\\\\"columns\\\\\\\\\\\\\\\": {\\\\\\\\\\\\\\\"type\\\\\\\\\\\\\\\": 0, \\\\\\\\\\\\\\\"details\\\\\\\\\\\\\\\": {\\\\\\\\\\\\\\\"selectedColumns\\\\\\\\\\\\\\\": [\\\\\\\\\\\\\\\"Path\\\\\\\\\\\\\\\"]}}}, \\\\\\\\\\\\\\\"localData\\\\\\\\\\\\\\\": {}, \\\\\\\\\\\\\\\"isEnabled\\\\\\\\\\\\\\\": true, \\\\\\\\\\\\\\\"name\\\\\\\\\\\\\\\": null, \\\\\\\\\\\\\\\"annotation\\\\\\\\\\\\\\\": null}, {\\\\\\\\\\\\\\\"id\\\\\\\\\\\\\\\": \\\\\\\\\\\\\\\"08bd5030-a2fe-4a92-b751-402222cde346\\\\\\\\\\\\\\\", \\\\\\\\\\\\\\\"type\\\\\\\\\\\\\\\": \\\\\\\\\\\\\\\"Microsoft.DPrep.SetColumnTypesBlock\\\\\\\\\\\\\\\", \\\\\\\\\\\\\\\"arguments\\\\\\\\\\\\\\\": {\\\\\\\\\\\\\\\"columnConversion\\\\\\\\\\\\\\\": [{\\\\\\\\\\\\\\\"column\\\\\\\\\\\\\\\": {\\\\\\\\\\\\\\\"type\\\\\\\\\\\\\\\": 2, \\\\\\\\\\\\\\\"details\\\\\\\\\\\\\\\": {\\\\\\\\\\\\\\\"selectedColumn\\\\\\\\\\\\\\\": \\\\\\\\\\\\\\\"PS1\\\\\\\\\\\\\\\"}}, \\\\\\\\\\\\\\\"typeProperty\\\\\\\\\\\\\\\": 3}, {\\\\\\\\\\\\\\\"column\\\\\\\\\\\\\\\": {\\\\\\\\\\\\\\\"type\\\\\\\\\\\\\\\": 2, \\\\\\\\\\\\\\\"details\\\\\\\\\\\\\\\": {\\\\\\\\\\\\\\\"selectedColumn\\\\\\\\\\\\\\\": \\\\\\\\\\\\\\\"PS2\\\\\\\\\\\\\\\"}}, \\\\\\\\\\\\\\\"typeProperty\\\\\\\\\\\\\\\": 3}, {\\\\\\\\\\\\\\\"column\\\\\\\\\\\\\\\": {\\\\\\\\\\\\\\\"type\\\\\\\\\\\\\\\": 2, \\\\\\\\\\\\\\\"details\\\\\\\\\\\\\\\": {\\\\\\\\\\\\\\\"selectedColumn\\\\\\\\\\\\\\\": \\\\\\\\\\\\\\\"PS3\\\\\\\\\\\\\\\"}}, \\\\\\\\\\\\\\\"typeProperty\\\\\\\\\\\\\\\": 3}, {\\\\\\\\\\\\\\\"column\\\\\\\\\\\\\\\": {\\\\\\\\\\\\\\\"type\\\\\\\\\\\\\\\": 2, \\\\\\\\\\\\\\\"details\\\\\\\\\\\\\\\": {\\\\\\\\\\\\\\\"selectedColumn\\\\\\\\\\\\\\\": \\\\\\\\\\\\\\\"PS4\\\\\\\\\\\\\\\"}}, \\\\\\\\\\\\\\\"typeProperty\\\\\\\\\\\\\\\": 3}, {\\\\\\\\\\\\\\\"column\\\\\\\\\\\\\\\": {\\\\\\\\\\\\\\\"type\\\\\\\\\\\\\\\": 2, \\\\\\\\\\\\\\\"details\\\\\\\\\\\\\\\": {\\\\\\\\\\\\\\\"selectedColumn\\\\\\\\\\\\\\\": \\\\\\\\\\\\\\\"PS5\\\\\\\\\\\\\\\"}}, \\\\\\\\\\\\\\\"typeProperty\\\\\\\\\\\\\\\": 3}, {\\\\\\\\\\\\\\\"column\\\\\\\\\\\\\\\": {\\\\\\\\\\\\\\\"type\\\\\\\\\\\\\\\": 2, \\\\\\\\\\\\\\\"details\\\\\\\\\\\\\\\": {\\\\\\\\\\\\\\\"selectedColumn\\\\\\\\\\\\\\\": \\\\\\\\\\\\\\\"PS6\\\\\\\\\\\\\\\"}}, \\\\\\\\\\\\\\\"typeProperty\\\\\\\\\\\\\\\": 3}, {\\\\\\\\\\\\\\\"column\\\\\\\\\\\\\\\": {\\\\\\\\\\\\\\\"type\\\\\\\\\\\\\\\": 2, \\\\\\\\\\\\\\\"details\\\\\\\\\\\\\\\": {\\\\\\\\\\\\\\\"selectedColumn\\\\\\\\\\\\\\\": \\\\\\\\\\\\\\\"FS1\\\\\\\\\\\\\\\"}}, \\\\\\\\\\\\\\\"typeProperty\\\\\\\\\\\\\\\": 3}, {\\\\\\\\\\\\\\\"column\\\\\\\\\\\\\\\": {\\\\\\\\\\\\\\\"type\\\\\\\\\\\\\\\": 2, \\\\\\\\\\\\\\\"details\\\\\\\\\\\\\\\": {\\\\\\\\\\\\\\\"selectedColumn\\\\\\\\\\\\\\\": \\\\\\\\\\\\\\\"FS2\\\\\\\\\\\\\\\"}}, \\\\\\\\\\\\\\\"typeProperty\\\\\\\\\\\\\\\": 3}, {\\\\\\\\\\\\\\\"column\\\\\\\\\\\\\\\": {\\\\\\\\\\\\\\\"type\\\\\\\\\\\\\\\": 2, \\\\\\\\\\\\\\\"details\\\\\\\\\\\\\\\": {\\\\\\\\\\\\\\\"selectedColumn\\\\\\\\\\\\\\\": \\\\\\\\\\\\\\\"TS1\\\\\\\\\\\\\\\"}}, \\\\\\\\\\\\\\\"typeProperty\\\\\\\\\\\\\\\": 3}, {\\\\\\\\\\\\\\\"column\\\\\\\\\\\\\\\": {\\\\\\\\\\\\\\\"type\\\\\\\\\\\\\\\": 2, \\\\\\\\\\\\\\\"details\\\\\\\\\\\\\\\": {\\\\\\\\\\\\\\\"selectedColumn\\\\\\\\\\\\\\\": \\\\\\\\\\\\\\\"TS2\\\\\\\\\\\\\\\"}}, \\\\\\\\\\\\\\\"typeProperty\\\\\\\\\\\\\\\": 3}, {\\\\\\\\\\\\\\\"column\\\\\\\\\\\\\\\": {\\\\\\\\\\\\\\\"type\\\\\\\\\\\\\\\": 2, \\\\\\\\\\\\\\\"details\\\\\\\\\\\\\\\": {\\\\\\\\\\\\\\\"selectedColumn\\\\\\\\\\\\\\\": \\\\\\\\\\\\\\\"TS3\\\\\\\\\\\\\\\"}}, \\\\\\\\\\\\\\\"typeProperty\\\\\\\\\\\\\\\": 3}, {\\\\\\\\\\\\\\\"column\\\\\\\\\\\\\\\": {\\\\\\\\\\\\\\\"type\\\\\\\\\\\\\\\": 2, \\\\\\\\\\\\\\\"details\\\\\\\\\\\\\\\": {\\\\\\\\\\\\\\\"selectedColumn\\\\\\\\\\\\\\\": \\\\\\\\\\\\\\\"TS4\\\\\\\\\\\\\\\"}}, \\\\\\\\\\\\\\\"typeProperty\\\\\\\\\\\\\\\": 3}, {\\\\\\\\\\\\\\\"column\\\\\\\\\\\\\\\": {\\\\\\\\\\\\\\\"type\\\\\\\\\\\\\\\": 2, \\\\\\\\\\\\\\\"details\\\\\\\\\\\\\\\": {\\\\\\\\\\\\\\\"selectedColumn\\\\\\\\\\\\\\\": \\\\\\\\\\\\\\\"P1\\\\\\\\\\\\\\\"}}, \\\\\\\\\\\\\\\"typeProperty\\\\\\\\\\\\\\\": 3}, {\\\\\\\\\\\\\\\"column\\\\\\\\\\\\\\\": {\\\\\\\\\\\\\\\"type\\\\\\\\\\\\\\\": 2, \\\\\\\\\\\\\\\"details\\\\\\\\\\\\\\\": {\\\\\\\\\\\\\\\"selectedColumn\\\\\\\\\\\\\\\": \\\\\\\\\\\\\\\"VS1\\\\\\\\\\\\\\\"}}, \\\\\\\\\\\\\\\"typeProperty\\\\\\\\\\\\\\\": 3}, {\\\\\\\\\\\\\\\"column\\\\\\\\\\\\\\\": {\\\\\\\\\\\\\\\"type\\\\\\\\\\\\\\\": 2, \\\\\\\\\\\\\\\"details\\\\\\\\\\\\\\\": {\\\\\\\\\\\\\\\"selectedColumn\\\\\\\\\\\\\\\": \\\\\\\\\\\\\\\"CE1\\\\\\\\\\\\\\\"}}, \\\\\\\\\\\\\\\"typeProperty\\\\\\\\\\\\\\\": 3}, {\\\\\\\\\\\\\\\"column\\\\\\\\\\\\\\\": {\\\\\\\\\\\\\\\"type\\\\\\\\\\\\\\\": 2, \\\\\\\\\\\\\\\"details\\\\\\\\\\\\\\\": {\\\\\\\\\\\\\\\"selectedColumn\\\\\\\\\\\\\\\": \\\\\\\\\\\\\\\"CP1\\\\\\\\\\\\\\\"}}, \\\\\\\\\\\\\\\"typeProperty\\\\\\\\\\\\\\\": 3}, {\\\\\\\\\\\\\\\"column\\\\\\\\\\\\\\\": {\\\\\\\\\\\\\\\"type\\\\\\\\\\\\\\\": 2, \\\\\\\\\\\\\\\"details\\\\\\\\\\\\\\\": {\\\\\\\\\\\\\\\"selectedColumn\\\\\\\\\\\\\\\": \\\\\\\\\\\\\\\"SE1\\\\\\\\\\\\\\\"}}, \\\\\\\\\\\\\\\"typeProperty\\\\\\\\\\\\\\\": 3}, {\\\\\\\\\\\\\\\"column\\\\\\\\\\\\\\\": {\\\\\\\\\\\\\\\"type\\\\\\\\\\\\\\\": 2, \\\\\\\\\\\\\\\"details\\\\\\\\\\\\\\\": {\\\\\\\\\\\\\\\"selectedColumn\\\\\\\\\\\\\\\": \\\\\\\\\\\\\\\"STABILITY\\\\\\\\\\\\\\\"}}, \\\\\\\\\\\\\\\"typeProperty\\\\\\\\\\\\\\\": 2}]}, \\\\\\\\\\\\\\\"localData\\\\\\\\\\\\\\\": {}, \\\\\\\\\\\\\\\"isEnabled\\\\\\\\\\\\\\\": true, \\\\\\\\\\\\\\\"name\\\\\\\\\\\\\\\": null, \\\\\\\\\\\\\\\"annotation\\\\\\\\\\\\\\\": null}], \\\\\\\\\\\\\\\"inspectors\\\\\\\\\\\\\\\": [], \\\\\\\\\\\\\\\"meta\\\\\\\\\\\\\\\": {\\\\\\\\\\\\\\\"savedDatasetId\\\\\\\\\\\\\\\": \\\\\\\\\\\\\\\"c1af66ac-d2b6-4e83-8f04-a7f611b7283d\\\\\\\\\\\\\\\", \\\\\\\\\\\\\\\"datasetType\\\\\\\\\\\\\\\": \\\\\\\\\\\\\\\"tabular\\\\\\\\\\\\\\\", \\\\\\\\\\\\\\\"subscriptionId\\\\\\\\\\\\\\\": \\\\\\\\\\\\\\\"81cefad3-d2c9-4f77-a466-99a7f541c7bb\\\\\\\\\\\\\\\", \\\\\\\\\\\\\\\"workspaceId\\\\\\\\\\\\\\\": \\\\\\\\\\\\\\\"f184e4cd-b4ca-4f07-b0ae-232f32d59abf\\\\\\\\\\\\\\\", \\\\\\\\\\\\\\\"workspaceLocation\\\\\\\\\\\\\\\": \\\\\\\\\\\\\\\"southcentralus\\\\\\\\\\\\\\\", \\\\\\\\\\\\\\\"partition_keys\\\\\\\\\\\\\\\": \\\\\\\\\\\\\\\"true\\\\\\\\\\\\\\\"}}\\\\\\\", \\\\\\\"activities\\\\\\\": 0}\", \"EnableSubsampling\": null, \"runTemplate\": \"AutoML\", \"azureml.runsource\": \"automl\", \"display_task_type\": \"classification\", \"dependencies_versions\": \"{\\\"azureml-widgets\\\": \\\"1.24.0\\\", \\\"azureml-train\\\": \\\"1.24.0\\\", \\\"azureml-train-restclients-hyperdrive\\\": \\\"1.24.0\\\", \\\"azureml-train-core\\\": \\\"1.24.0\\\", \\\"azureml-train-automl\\\": \\\"1.24.0\\\", \\\"azureml-train-automl-runtime\\\": \\\"1.24.0\\\", \\\"azureml-train-automl-client\\\": \\\"1.24.0\\\", \\\"azureml-tensorboard\\\": \\\"1.24.0\\\", \\\"azureml-telemetry\\\": \\\"1.24.0\\\", \\\"azureml-sdk\\\": \\\"1.24.0\\\", \\\"azureml-samples\\\": \\\"0+unknown\\\", \\\"azureml-pipeline\\\": \\\"1.24.0\\\", \\\"azureml-pipeline-steps\\\": \\\"1.24.0\\\", \\\"azureml-pipeline-core\\\": \\\"1.24.0\\\", \\\"azureml-opendatasets\\\": \\\"1.24.0\\\", \\\"azureml-model-management-sdk\\\": \\\"1.0.1b6.post1\\\", \\\"azureml-mlflow\\\": \\\"1.24.0\\\", \\\"azureml-interpret\\\": \\\"1.24.0\\\", \\\"azureml-explain-model\\\": \\\"1.24.0\\\", \\\"azureml-defaults\\\": \\\"1.24.0\\\", \\\"azureml-dataset-runtime\\\": \\\"1.24.0\\\", \\\"azureml-dataprep\\\": \\\"2.11.1\\\", \\\"azureml-dataprep-rslex\\\": \\\"1.9.0\\\", \\\"azureml-dataprep-native\\\": \\\"30.0.0\\\", \\\"azureml-datadrift\\\": \\\"1.24.0\\\", \\\"azureml-core\\\": \\\"1.24.0\\\", \\\"azureml-contrib-services\\\": \\\"1.24.0\\\", \\\"azureml-contrib-server\\\": \\\"1.24.0\\\", \\\"azureml-contrib-reinforcementlearning\\\": \\\"1.24.0\\\", \\\"azureml-contrib-pipeline-steps\\\": \\\"1.24.0\\\", \\\"azureml-contrib-notebook\\\": \\\"1.24.0\\\", \\\"azureml-contrib-gbdt\\\": \\\"1.24.0\\\", \\\"azureml-contrib-fairness\\\": \\\"1.24.0\\\", \\\"azureml-contrib-dataset\\\": \\\"1.24.0\\\", \\\"azureml-cli-common\\\": \\\"1.24.0\\\", \\\"azureml-automl-runtime\\\": \\\"1.24.0\\\", \\\"azureml-automl-dnn-nlp\\\": \\\"1.24.0\\\", \\\"azureml-automl-core\\\": \\\"1.24.0\\\", \\\"azureml-accel-models\\\": \\\"1.24.0\\\"}\", \"_aml_system_scenario_identification\": \"Remote.Parent\", \"ClientType\": \"SDK\", \"environment_cpu_name\": \"AzureML-AutoML\", \"environment_cpu_label\": \"prod\", \"environment_gpu_name\": \"AzureML-AutoML-GPU\", \"environment_gpu_label\": \"prod\", \"root_attribution\": \"automl\", \"attribution\": \"AutoML\", \"Orchestrator\": \"AutoML\", \"CancelUri\": \"https://southcentralus.experiments.azureml.net/jasmine/v1.0/subscriptions/81cefad3-d2c9-4f77-a466-99a7f541c7bb/resourceGroups/aml-quickstarts-141045/providers/Microsoft.MachineLearningServices/workspaces/quick-starts-ws-141045/experimentids/990832fd-1884-4cf5-a741-e272896a36e4/cancel/AutoML_44b66c17-6335-4af6-b059-70f12198038a\", \"ClientSdkVersion\": \"1.24.0\", \"snapshotId\": \"00000000-0000-0000-0000-000000000000\", \"SetupRunId\": \"AutoML_44b66c17-6335-4af6-b059-70f12198038a_setup\", \"SetupRunContainerId\": \"dcid.AutoML_44b66c17-6335-4af6-b059-70f12198038a_setup\", \"FeaturizationRunJsonPath\": \"featurizer_container.json\", \"FeaturizationRunId\": \"AutoML_44b66c17-6335-4af6-b059-70f12198038a_featurize\", \"ProblemInfoJsonString\": \"{\\\"dataset_num_categorical\\\": 0, \\\"is_sparse\\\": false, \\\"subsampling\\\": false, \\\"dataset_classes\\\": 2, \\\"dataset_features\\\": 17, \\\"dataset_samples\\\": 2094, \\\"single_frequency_class_detected\\\": false}\", \"ModelExplainRunId\": \"AutoML_44b66c17-6335-4af6-b059-70f12198038a_ModelExplain\"}, \"tags\": {\"model_explain_run\": \"best_run\", \"_aml_system_azureml.automlComponent\": \"AutoML\", \"pipeline_id\": \"\", \"score\": \"\", \"predicted_cost\": \"\", \"fit_time\": \"\", \"training_percent\": \"\", \"iteration\": \"\", \"run_preprocessor\": \"\", \"run_algorithm\": \"\", \"dynamic_whitelisting_iterations\": \"<25>;<27>;<35>;<38>;<45>;<50>;<55>;<60>;<65>;\", \"automl_best_child_run_id\": \"AutoML_44b66c17-6335-4af6-b059-70f12198038a_70\", \"model_explain_best_run_child_id\": \"AutoML_44b66c17-6335-4af6-b059-70f12198038a_70\"}, \"end_time_utc\": \"2021-03-21T14:26:38.294302Z\", \"status\": \"Completed\", \"log_files\": {}, \"log_groups\": [], \"run_duration\": \"0:20:30\", \"run_number\": \"73\", \"run_queued_details\": {\"status\": \"Completed\", \"details\": null}}, \"child_runs\": [{\"run_id\": \"AutoML_44b66c17-6335-4af6-b059-70f12198038a_2\", \"run_number\": 77, \"metric\": null, \"status\": \"Completed\", \"run_type\": \"azureml.scriptrun\", \"training_percent\": \"100\", \"start_time\": \"2021-03-21T14:14:34.193242Z\", \"end_time\": \"2021-03-21T14:15:20.772548Z\", \"created_time\": \"2021-03-21T14:13:12.662187Z\", \"created_time_dt\": \"2021-03-21T14:13:12.662187Z\", \"duration\": \"0:02:08\", \"iteration\": \"2\", \"goal\": \"accuracy_max\", \"run_name\": \"MinMaxScaler, RandomForest\", \"run_properties\": \"copy=True, feature_range=(0, 1\", \"primary_metric\": 0.93266476, \"best_metric\": 0.97612225}, {\"run_id\": \"AutoML_44b66c17-6335-4af6-b059-70f12198038a_5\", \"run_number\": 78, \"metric\": null, \"status\": \"Completed\", \"run_type\": \"azureml.scriptrun\", \"training_percent\": \"100\", \"start_time\": \"2021-03-21T14:18:27.894502Z\", \"end_time\": \"2021-03-21T14:20:15.586217Z\", \"created_time\": \"2021-03-21T14:13:12.669057Z\", \"created_time_dt\": \"2021-03-21T14:13:12.669057Z\", \"duration\": \"0:07:02\", \"iteration\": \"5\", \"goal\": \"accuracy_max\", \"run_name\": \"MaxAbsScaler, LogisticRegression\", \"run_properties\": \"copy=True\", \"primary_metric\": 0.82043935, \"best_metric\": 0.97612225}, {\"run_id\": \"AutoML_44b66c17-6335-4af6-b059-70f12198038a_4\", \"run_number\": 79, \"metric\": null, \"status\": \"Completed\", \"run_type\": \"azureml.scriptrun\", \"training_percent\": \"100\", \"start_time\": \"2021-03-21T14:18:28.153943Z\", \"end_time\": \"2021-03-21T14:20:07.458042Z\", \"created_time\": \"2021-03-21T14:13:12.678742Z\", \"created_time_dt\": \"2021-03-21T14:13:12.678742Z\", \"duration\": \"0:06:54\", \"iteration\": \"4\", \"goal\": \"accuracy_max\", \"run_name\": \"MinMaxScaler, RandomForest\", \"run_properties\": \"copy=True, feature_range=(0, 1\", \"primary_metric\": 0.86246418, \"best_metric\": 0.97612225}, {\"run_id\": \"AutoML_44b66c17-6335-4af6-b059-70f12198038a_7\", \"run_number\": 80, \"metric\": null, \"status\": \"Completed\", \"run_type\": \"azureml.scriptrun\", \"training_percent\": \"100\", \"start_time\": \"2021-03-21T14:18:26.905836Z\", \"end_time\": \"2021-03-21T14:20:05.495697Z\", \"created_time\": \"2021-03-21T14:13:12.688037Z\", \"created_time_dt\": \"2021-03-21T14:13:12.688037Z\", \"duration\": \"0:06:52\", \"iteration\": \"7\", \"goal\": \"accuracy_max\", \"run_name\": \"TruncatedSVDWrapper, LightGBM\", \"run_properties\": \"n_components=0.95, random_state=None\", \"primary_metric\": 0.9608405, \"best_metric\": 0.97612225}, {\"run_id\": \"AutoML_44b66c17-6335-4af6-b059-70f12198038a_13\", \"run_number\": 81, \"metric\": null, \"status\": \"Completed\", \"run_type\": \"azureml.scriptrun\", \"training_percent\": \"100\", \"start_time\": \"2021-03-21T14:20:16.776729Z\", \"end_time\": \"2021-03-21T14:21:10.689496Z\", \"created_time\": \"2021-03-21T14:13:12.700939Z\", \"created_time_dt\": \"2021-03-21T14:13:12.700939Z\", \"duration\": \"0:07:57\", \"iteration\": \"13\", \"goal\": \"accuracy_max\", \"run_name\": \"SparseNormalizer, RandomForest\", \"run_properties\": \"<azureml.automl.runtime.shared.model_wrappers.SparseNormalizer object at 0x7fba6ffa7748\", \"primary_metric\": 0.9269341, \"best_metric\": 0.97612225}, {\"run_id\": \"AutoML_44b66c17-6335-4af6-b059-70f12198038a_1\", \"run_number\": 82, \"metric\": null, \"status\": \"Completed\", \"run_type\": \"azureml.scriptrun\", \"training_percent\": \"100\", \"start_time\": \"2021-03-21T14:18:27.420732Z\", \"end_time\": \"2021-03-21T14:20:06.860723Z\", \"created_time\": \"2021-03-21T14:13:12.710006Z\", \"created_time_dt\": \"2021-03-21T14:13:12.710006Z\", \"duration\": \"0:06:54\", \"iteration\": \"1\", \"goal\": \"accuracy_max\", \"run_name\": \"MinMaxScaler, RandomForest\", \"run_properties\": \"copy=True, feature_range=(0, 1\", \"primary_metric\": 0.95081184, \"best_metric\": 0.97612225}, {\"run_id\": \"AutoML_44b66c17-6335-4af6-b059-70f12198038a_12\", \"run_number\": 83, \"metric\": null, \"status\": \"Completed\", \"run_type\": \"azureml.scriptrun\", \"training_percent\": \"100\", \"start_time\": \"2021-03-21T14:19:59.305368Z\", \"end_time\": \"2021-03-21T14:20:51.48091Z\", \"created_time\": \"2021-03-21T14:13:12.728752Z\", \"created_time_dt\": \"2021-03-21T14:13:12.728752Z\", \"duration\": \"0:07:38\", \"iteration\": \"12\", \"goal\": \"accuracy_max\", \"run_name\": \"MaxAbsScaler, LightGBM\", \"run_properties\": \"copy=True\", \"primary_metric\": 0.93982808, \"best_metric\": 0.97612225}, {\"run_id\": \"AutoML_44b66c17-6335-4af6-b059-70f12198038a_14\", \"run_number\": 84, \"metric\": null, \"status\": \"Completed\", \"run_type\": \"azureml.scriptrun\", \"training_percent\": \"100\", \"start_time\": \"2021-03-21T14:13:27.184143Z\", \"end_time\": \"2021-03-21T14:14:19.479031Z\", \"created_time\": \"2021-03-21T14:13:12.745315Z\", \"created_time_dt\": \"2021-03-21T14:13:12.745315Z\", \"duration\": \"0:01:06\", \"iteration\": \"14\", \"goal\": \"accuracy_max\", \"run_name\": \"StandardScalerWrapper, ExtremeRandomTrees\", \"run_properties\": \"<azureml.automl.runtime.shared.model_wrappers.StandardScalerWrapper object at 0x7f71605f77b8\", \"primary_metric\": 0.86103152, \"best_metric\": 0.97612225}, {\"run_id\": \"AutoML_44b66c17-6335-4af6-b059-70f12198038a_18\", \"run_number\": 85, \"metric\": null, \"status\": \"Completed\", \"run_type\": \"azureml.scriptrun\", \"training_percent\": \"100\", \"start_time\": \"2021-03-21T14:15:34.329401Z\", \"end_time\": \"2021-03-21T14:16:24.24327Z\", \"created_time\": \"2021-03-21T14:13:12.765108Z\", \"created_time_dt\": \"2021-03-21T14:13:12.765108Z\", \"duration\": \"0:03:11\", \"iteration\": \"18\", \"goal\": \"accuracy_max\", \"run_name\": \"MaxAbsScaler, LogisticRegression\", \"run_properties\": \"copy=True\", \"primary_metric\": 0.81900669, \"best_metric\": 0.97612225}, {\"run_id\": \"AutoML_44b66c17-6335-4af6-b059-70f12198038a_15\", \"run_number\": 86, \"metric\": null, \"status\": \"Completed\", \"run_type\": \"azureml.scriptrun\", \"training_percent\": \"100\", \"start_time\": \"2021-03-21T14:18:26.147143Z\", \"end_time\": \"2021-03-21T14:20:13.238019Z\", \"created_time\": \"2021-03-21T14:13:12.805688Z\", \"created_time_dt\": \"2021-03-21T14:13:12.805688Z\", \"duration\": \"0:07:00\", \"iteration\": \"15\", \"goal\": \"accuracy_max\", \"run_name\": \"MinMaxScaler, LogisticRegression\", \"run_properties\": \"copy=True, feature_range=(0, 1\", \"primary_metric\": 0.90066858, \"best_metric\": 0.97612225}, {\"run_id\": \"AutoML_44b66c17-6335-4af6-b059-70f12198038a_8\", \"run_number\": 87, \"metric\": null, \"status\": \"Completed\", \"run_type\": \"azureml.scriptrun\", \"training_percent\": \"100\", \"start_time\": \"2021-03-21T14:19:19.718284Z\", \"end_time\": \"2021-03-21T14:21:01.027925Z\", \"created_time\": \"2021-03-21T14:13:12.8139Z\", \"created_time_dt\": \"2021-03-21T14:13:12.8139Z\", \"duration\": \"0:07:48\", \"iteration\": \"8\", \"goal\": \"accuracy_max\", \"run_name\": \"RobustScaler, KNN\", \"run_properties\": \"copy=True, quantile_range=[25, 75], with_centering=True,\\n             with_scaling=True\", \"primary_metric\": 0.94603629, \"best_metric\": 0.97612225}, {\"run_id\": \"AutoML_44b66c17-6335-4af6-b059-70f12198038a_3\", \"run_number\": 88, \"metric\": null, \"status\": \"Completed\", \"run_type\": \"azureml.scriptrun\", \"training_percent\": \"100\", \"start_time\": \"2021-03-21T14:16:44.489871Z\", \"end_time\": \"2021-03-21T14:17:29.462215Z\", \"created_time\": \"2021-03-21T14:13:12.672638Z\", \"created_time_dt\": \"2021-03-21T14:13:12.672638Z\", \"duration\": \"0:04:16\", \"iteration\": \"3\", \"goal\": \"accuracy_max\", \"run_name\": \"MinMaxScaler, RandomForest\", \"run_properties\": \"copy=True, feature_range=(0, 1\", \"primary_metric\": 0.95749761, \"best_metric\": 0.97612225}, {\"run_id\": \"AutoML_44b66c17-6335-4af6-b059-70f12198038a_6\", \"run_number\": 89, \"metric\": null, \"status\": \"Completed\", \"run_type\": \"azureml.scriptrun\", \"training_percent\": \"100\", \"start_time\": \"2021-03-21T14:17:48.103775Z\", \"end_time\": \"2021-03-21T14:18:41.028843Z\", \"created_time\": \"2021-03-21T14:13:12.696885Z\", \"created_time_dt\": \"2021-03-21T14:13:12.696885Z\", \"duration\": \"0:05:28\", \"iteration\": \"6\", \"goal\": \"accuracy_max\", \"run_name\": \"MinMaxScaler, LogisticRegression\", \"run_properties\": \"copy=True, feature_range=(0, 1\", \"primary_metric\": 0.80229226, \"best_metric\": 0.97612225}, {\"run_id\": \"AutoML_44b66c17-6335-4af6-b059-70f12198038a_9\", \"run_number\": 90, \"metric\": null, \"status\": \"Completed\", \"run_type\": \"azureml.scriptrun\", \"training_percent\": \"100\", \"start_time\": \"2021-03-21T14:18:28.274614Z\", \"end_time\": \"2021-03-21T14:20:07.591664Z\", \"created_time\": \"2021-03-21T14:13:12.69381Z\", \"created_time_dt\": \"2021-03-21T14:13:12.69381Z\", \"duration\": \"0:06:54\", \"iteration\": \"9\", \"goal\": \"accuracy_max\", \"run_name\": \"StandardScalerWrapper, RandomForest\", \"run_properties\": \"<azureml.automl.runtime.shared.model_wrappers.StandardScalerWrapper object at 0x7f012c194e48\", \"primary_metric\": 0.94794651, \"best_metric\": 0.97612225}, {\"run_id\": \"AutoML_44b66c17-6335-4af6-b059-70f12198038a_17\", \"run_number\": 91, \"metric\": null, \"status\": \"Completed\", \"run_type\": \"azureml.scriptrun\", \"training_percent\": \"100\", \"start_time\": \"2021-03-21T14:18:23.160564Z\", \"end_time\": \"2021-03-21T14:20:17.453086Z\", \"created_time\": \"2021-03-21T14:13:12.706916Z\", \"created_time_dt\": \"2021-03-21T14:13:12.706916Z\", \"duration\": \"0:07:04\", \"iteration\": \"17\", \"goal\": \"accuracy_max\", \"run_name\": \"RobustScaler, GradientBoosting\", \"run_properties\": \"copy=True, quantile_range=[25, 75], with_centering=True,\\n             with_scaling=True\", \"primary_metric\": 0.95702006, \"best_metric\": 0.97612225}, {\"run_id\": \"AutoML_44b66c17-6335-4af6-b059-70f12198038a_10\", \"run_number\": 92, \"metric\": null, \"status\": \"Completed\", \"run_type\": \"azureml.scriptrun\", \"training_percent\": \"100\", \"start_time\": \"2021-03-21T14:18:53.999274Z\", \"end_time\": \"2021-03-21T14:19:47.694166Z\", \"created_time\": \"2021-03-21T14:13:12.677332Z\", \"created_time_dt\": \"2021-03-21T14:13:12.677332Z\", \"duration\": \"0:06:35\", \"iteration\": \"10\", \"goal\": \"accuracy_max\", \"run_name\": \"RobustScaler, LogisticRegression\", \"run_properties\": \"copy=True, quantile_range=[10, 90], with_centering=True,\\n             with_scaling=True\", \"primary_metric\": 0.834766, \"best_metric\": 0.97612225}, {\"run_id\": \"AutoML_44b66c17-6335-4af6-b059-70f12198038a_11\", \"run_number\": 93, \"metric\": null, \"status\": \"Completed\", \"run_type\": \"azureml.scriptrun\", \"training_percent\": \"100\", \"start_time\": \"2021-03-21T14:18:26.305818Z\", \"end_time\": \"2021-03-21T14:20:12.477227Z\", \"created_time\": \"2021-03-21T14:13:12.689211Z\", \"created_time_dt\": \"2021-03-21T14:13:12.689211Z\", \"duration\": \"0:06:59\", \"iteration\": \"11\", \"goal\": \"accuracy_max\", \"run_name\": \"StandardScalerWrapper, LogisticRegression\", \"run_properties\": \"<azureml.automl.runtime.shared.model_wrappers.StandardScalerWrapper object at 0x7f4024dc47f0\", \"primary_metric\": 0.8104107, \"best_metric\": 0.97612225}, {\"run_id\": \"AutoML_44b66c17-6335-4af6-b059-70f12198038a_16\", \"run_number\": 94, \"metric\": null, \"status\": \"Completed\", \"run_type\": \"azureml.scriptrun\", \"training_percent\": \"100\", \"start_time\": \"2021-03-21T14:20:16.952696Z\", \"end_time\": \"2021-03-21T14:21:10.476863Z\", \"created_time\": \"2021-03-21T14:13:12.742971Z\", \"created_time_dt\": \"2021-03-21T14:13:12.742971Z\", \"duration\": \"0:07:57\", \"iteration\": \"16\", \"goal\": \"accuracy_max\", \"run_name\": \"TruncatedSVDWrapper, LightGBM\", \"run_properties\": \"n_components=0.7521052631578947, random_state=None\", \"primary_metric\": 0.96036294, \"best_metric\": 0.97612225}, {\"run_id\": \"AutoML_44b66c17-6335-4af6-b059-70f12198038a_0\", \"run_number\": 95, \"metric\": null, \"status\": \"Completed\", \"run_type\": \"azureml.scriptrun\", \"training_percent\": \"100\", \"start_time\": \"2021-03-21T14:20:21.036045Z\", \"end_time\": \"2021-03-21T14:21:14.42646Z\", \"created_time\": \"2021-03-21T14:13:12.684915Z\", \"created_time_dt\": \"2021-03-21T14:13:12.684915Z\", \"duration\": \"0:08:01\", \"iteration\": \"0\", \"goal\": \"accuracy_max\", \"run_name\": \"MaxAbsScaler, LightGBM\", \"run_properties\": \"copy=True\", \"primary_metric\": 0.97612225, \"best_metric\": 0.97612225}, {\"run_id\": \"AutoML_44b66c17-6335-4af6-b059-70f12198038a_19\", \"run_number\": 96, \"metric\": null, \"status\": \"Completed\", \"run_type\": \"azureml.scriptrun\", \"training_percent\": \"100\", \"start_time\": \"2021-03-21T14:20:20.981859Z\", \"end_time\": \"2021-03-21T14:21:13.907641Z\", \"created_time\": \"2021-03-21T14:13:12.693827Z\", \"created_time_dt\": \"2021-03-21T14:13:12.693827Z\", \"duration\": \"0:08:01\", \"iteration\": \"19\", \"goal\": \"accuracy_max\", \"run_name\": \"MaxAbsScaler, LightGBM\", \"run_properties\": \"copy=True\", \"primary_metric\": 0.96418338, \"best_metric\": 0.97612225}, {\"run_id\": \"AutoML_44b66c17-6335-4af6-b059-70f12198038a_20\", \"run_number\": 97, \"metric\": null, \"status\": \"Completed\", \"run_type\": \"azureml.scriptrun\", \"training_percent\": \"100\", \"start_time\": \"2021-03-21T14:20:26.484043Z\", \"end_time\": \"2021-03-21T14:21:14.399083Z\", \"created_time\": \"2021-03-21T14:14:26.809231Z\", \"created_time_dt\": \"2021-03-21T14:14:26.809231Z\", \"duration\": \"0:06:47\", \"iteration\": \"20\", \"goal\": \"accuracy_max\", \"run_name\": \"SparseNormalizer, GradientBoosting\", \"run_properties\": \"<azureml.automl.runtime.shared.model_wrappers.SparseNormalizer object at 0x7f57b6a7e9b0\", \"primary_metric\": 0.94269341, \"best_metric\": 0.97612225}, {\"run_id\": \"AutoML_44b66c17-6335-4af6-b059-70f12198038a_21\", \"run_number\": 98, \"metric\": null, \"status\": \"Completed\", \"run_type\": \"azureml.scriptrun\", \"training_percent\": \"100\", \"start_time\": \"2021-03-21T14:20:26.22919Z\", \"end_time\": \"2021-03-21T14:21:30.149374Z\", \"created_time\": \"2021-03-21T14:15:24.88287Z\", \"created_time_dt\": \"2021-03-21T14:15:24.88287Z\", \"duration\": \"0:06:05\", \"iteration\": \"21\", \"goal\": \"accuracy_max\", \"run_name\": \"StandardScalerWrapper, GradientBoosting\", \"run_properties\": \"<azureml.automl.runtime.shared.model_wrappers.StandardScalerWrapper object at 0x7ff04ca36860\", \"primary_metric\": 0.91404011, \"best_metric\": 0.97612225}, {\"run_id\": \"AutoML_44b66c17-6335-4af6-b059-70f12198038a_22\", \"run_number\": 99, \"metric\": null, \"status\": \"Completed\", \"run_type\": \"azureml.scriptrun\", \"training_percent\": \"100\", \"start_time\": \"2021-03-21T14:20:30.598759Z\", \"end_time\": \"2021-03-21T14:21:13.83691Z\", \"created_time\": \"2021-03-21T14:16:27.155394Z\", \"created_time_dt\": \"2021-03-21T14:16:27.155394Z\", \"duration\": \"0:04:46\", \"iteration\": \"22\", \"goal\": \"accuracy_max\", \"run_name\": \"MaxAbsScaler, LightGBM\", \"run_properties\": \"copy=True\", \"primary_metric\": 0.94269341, \"best_metric\": 0.97612225}, {\"run_id\": \"AutoML_44b66c17-6335-4af6-b059-70f12198038a_23\", \"run_number\": 100, \"metric\": null, \"status\": \"Completed\", \"run_type\": \"azureml.scriptrun\", \"training_percent\": \"100\", \"start_time\": \"2021-03-21T14:20:34.271321Z\", \"end_time\": \"2021-03-21T14:21:20.504479Z\", \"created_time\": \"2021-03-21T14:17:32.79912Z\", \"created_time_dt\": \"2021-03-21T14:17:32.79912Z\", \"duration\": \"0:03:47\", \"iteration\": \"23\", \"goal\": \"accuracy_max\", \"run_name\": \"MaxAbsScaler, GradientBoosting\", \"run_properties\": \"copy=True\", \"primary_metric\": 0.93027698, \"best_metric\": 0.97612225}, {\"run_id\": \"AutoML_44b66c17-6335-4af6-b059-70f12198038a_24\", \"run_number\": 101, \"metric\": null, \"status\": \"Completed\", \"run_type\": \"azureml.scriptrun\", \"training_percent\": \"100\", \"start_time\": \"2021-03-21T14:21:01.527533Z\", \"end_time\": \"2021-03-21T14:21:45.821898Z\", \"created_time\": \"2021-03-21T14:18:43.565663Z\", \"created_time_dt\": \"2021-03-21T14:18:43.565663Z\", \"duration\": \"0:03:02\", \"iteration\": \"24\", \"goal\": \"accuracy_max\", \"run_name\": \"RobustScaler, RandomForest\", \"run_properties\": \"copy=True, quantile_range=[10, 90], with_centering=True,\\n             with_scaling=True\", \"primary_metric\": 0.94030564, \"best_metric\": 0.97612225}, {\"run_id\": \"AutoML_44b66c17-6335-4af6-b059-70f12198038a_25\", \"run_number\": 102, \"metric\": null, \"status\": \"Completed\", \"run_type\": \"azureml.scriptrun\", \"training_percent\": \"100\", \"start_time\": \"2021-03-21T14:21:13.844634Z\", \"end_time\": \"2021-03-21T14:22:03.980603Z\", \"created_time\": \"2021-03-21T14:19:53.117278Z\", \"created_time_dt\": \"2021-03-21T14:19:53.117278Z\", \"duration\": \"0:02:10\", \"iteration\": \"25\", \"goal\": \"accuracy_max\", \"run_name\": \"MinMaxScaler, RandomForest\", \"run_properties\": \"copy=True, feature_range=(0, 1\", \"primary_metric\": 0.92502388, \"best_metric\": 0.97612225}, {\"run_id\": \"AutoML_44b66c17-6335-4af6-b059-70f12198038a_26\", \"run_number\": 103, \"metric\": null, \"status\": \"Completed\", \"run_type\": \"azureml.scriptrun\", \"training_percent\": \"100\", \"start_time\": \"2021-03-21T14:21:21.597543Z\", \"end_time\": \"2021-03-21T14:22:10.557827Z\", \"created_time\": \"2021-03-21T14:20:09.302242Z\", \"created_time_dt\": \"2021-03-21T14:20:09.302242Z\", \"duration\": \"0:02:01\", \"iteration\": \"26\", \"goal\": \"accuracy_max\", \"run_name\": \"MinMaxScaler, RandomForest\", \"run_properties\": \"copy=True, feature_range=(0, 1\", \"primary_metric\": 0.92645654, \"best_metric\": 0.97612225}, {\"run_id\": \"AutoML_44b66c17-6335-4af6-b059-70f12198038a_27\", \"run_number\": 104, \"metric\": null, \"status\": \"Completed\", \"run_type\": \"azureml.scriptrun\", \"training_percent\": \"100\", \"start_time\": \"2021-03-21T14:21:28.802566Z\", \"end_time\": \"2021-03-21T14:22:17.198473Z\", \"created_time\": \"2021-03-21T14:20:17.858713Z\", \"created_time_dt\": \"2021-03-21T14:20:17.858713Z\", \"duration\": \"0:01:59\", \"iteration\": \"27\", \"goal\": \"accuracy_max\", \"run_name\": \"MaxAbsScaler, LightGBM\", \"run_properties\": \"copy=True\", \"primary_metric\": 0.93791786, \"best_metric\": 0.97612225}, {\"run_id\": \"AutoML_44b66c17-6335-4af6-b059-70f12198038a_31\", \"run_number\": 105, \"metric\": null, \"status\": \"Completed\", \"run_type\": \"azureml.scriptrun\", \"training_percent\": \"100\", \"start_time\": \"2021-03-21T14:21:25.44796Z\", \"end_time\": \"2021-03-21T14:22:08.931286Z\", \"created_time\": \"2021-03-21T14:20:17.93935Z\", \"created_time_dt\": \"2021-03-21T14:20:17.93935Z\", \"duration\": \"0:01:50\", \"iteration\": \"31\", \"goal\": \"accuracy_max\", \"run_name\": \"MaxAbsScaler, LightGBM\", \"run_properties\": \"copy=True\", \"primary_metric\": 0.94030564, \"best_metric\": 0.97612225}, {\"run_id\": \"AutoML_44b66c17-6335-4af6-b059-70f12198038a_30\", \"run_number\": 106, \"metric\": null, \"status\": \"Completed\", \"run_type\": \"azureml.scriptrun\", \"training_percent\": \"100\", \"start_time\": \"2021-03-21T14:21:26.952526Z\", \"end_time\": \"2021-03-21T14:22:11.502035Z\", \"created_time\": \"2021-03-21T14:20:17.958656Z\", \"created_time_dt\": \"2021-03-21T14:20:17.958656Z\", \"duration\": \"0:01:53\", \"iteration\": \"30\", \"goal\": \"accuracy_max\", \"run_name\": \"StandardScalerWrapper, LightGBM\", \"run_properties\": \"<azureml.automl.runtime.shared.model_wrappers.StandardScalerWrapper object at 0x7f737b106a90\", \"primary_metric\": 0.96370583, \"best_metric\": 0.97612225}, {\"run_id\": \"AutoML_44b66c17-6335-4af6-b059-70f12198038a_28\", \"run_number\": 107, \"metric\": null, \"status\": \"Completed\", \"run_type\": \"azureml.scriptrun\", \"training_percent\": \"100\", \"start_time\": \"2021-03-21T14:21:31.972747Z\", \"end_time\": \"2021-03-21T14:22:17.358102Z\", \"created_time\": \"2021-03-21T14:20:17.964618Z\", \"created_time_dt\": \"2021-03-21T14:20:17.964618Z\", \"duration\": \"0:01:59\", \"iteration\": \"28\", \"goal\": \"accuracy_max\", \"run_name\": \"StandardScalerWrapper, LightGBM\", \"run_properties\": \"<azureml.automl.runtime.shared.model_wrappers.StandardScalerWrapper object at 0x7f0632d18ef0\", \"primary_metric\": 0.93027698, \"best_metric\": 0.97612225}, {\"run_id\": \"AutoML_44b66c17-6335-4af6-b059-70f12198038a_29\", \"run_number\": 108, \"metric\": null, \"status\": \"Completed\", \"run_type\": \"azureml.scriptrun\", \"training_percent\": \"100\", \"start_time\": \"2021-03-21T14:21:31.56329Z\", \"end_time\": \"2021-03-21T14:22:12.996029Z\", \"created_time\": \"2021-03-21T14:20:17.969048Z\", \"created_time_dt\": \"2021-03-21T14:20:17.969048Z\", \"duration\": \"0:01:55\", \"iteration\": \"29\", \"goal\": \"accuracy_max\", \"run_name\": \"MaxAbsScaler, LightGBM\", \"run_properties\": \"copy=True\", \"primary_metric\": 0.94508118, \"best_metric\": 0.97612225}, {\"run_id\": \"AutoML_44b66c17-6335-4af6-b059-70f12198038a_32\", \"run_number\": 109, \"metric\": null, \"status\": \"Completed\", \"run_type\": \"azureml.scriptrun\", \"training_percent\": \"100\", \"start_time\": \"2021-03-21T14:21:44.489576Z\", \"end_time\": \"2021-03-21T14:22:39.655116Z\", \"created_time\": \"2021-03-21T14:20:23.462574Z\", \"created_time_dt\": \"2021-03-21T14:20:23.462574Z\", \"duration\": \"0:02:16\", \"iteration\": \"32\", \"goal\": \"accuracy_max\", \"run_name\": \"MinMaxScaler, LightGBM\", \"run_properties\": \"copy=True, feature_range=(0, 1\", \"primary_metric\": 0.95893028, \"best_metric\": 0.97612225}, {\"run_id\": \"AutoML_44b66c17-6335-4af6-b059-70f12198038a_33\", \"run_number\": 110, \"metric\": null, \"status\": \"Completed\", \"run_type\": \"azureml.scriptrun\", \"training_percent\": \"100\", \"start_time\": \"2021-03-21T14:21:34.341723Z\", \"end_time\": \"2021-03-21T14:22:22.92398Z\", \"created_time\": \"2021-03-21T14:20:23.512729Z\", \"created_time_dt\": \"2021-03-21T14:20:23.512729Z\", \"duration\": \"0:01:59\", \"iteration\": \"33\", \"goal\": \"accuracy_max\", \"run_name\": \"SparseNormalizer, LightGBM\", \"run_properties\": \"<azureml.automl.runtime.shared.model_wrappers.SparseNormalizer object at 0x7fad4f65fa20\", \"primary_metric\": 0.93314231, \"best_metric\": 0.97612225}, {\"run_id\": \"AutoML_44b66c17-6335-4af6-b059-70f12198038a_34\", \"run_number\": 111, \"metric\": null, \"status\": \"Completed\", \"run_type\": \"azureml.scriptrun\", \"training_percent\": \"100\", \"start_time\": \"2021-03-21T14:22:03.062167Z\", \"end_time\": \"2021-03-21T14:22:51.30459Z\", \"created_time\": \"2021-03-21T14:20:53.811573Z\", \"created_time_dt\": \"2021-03-21T14:20:53.811573Z\", \"duration\": \"0:01:57\", \"iteration\": \"34\", \"goal\": \"accuracy_max\", \"run_name\": \"StandardScalerWrapper, LightGBM\", \"run_properties\": \"<azureml.automl.runtime.shared.model_wrappers.StandardScalerWrapper object at 0x7f34ab459390\", \"primary_metric\": 0.92072588, \"best_metric\": 0.97612225}, {\"run_id\": \"AutoML_44b66c17-6335-4af6-b059-70f12198038a_35\", \"run_number\": 112, \"metric\": null, \"status\": \"Completed\", \"run_type\": \"azureml.scriptrun\", \"training_percent\": \"100\", \"start_time\": \"2021-03-21T14:22:20.225441Z\", \"end_time\": \"2021-03-21T14:23:10.078939Z\", \"created_time\": \"2021-03-21T14:21:04.658974Z\", \"created_time_dt\": \"2021-03-21T14:21:04.658974Z\", \"duration\": \"0:02:05\", \"iteration\": \"35\", \"goal\": \"accuracy_max\", \"run_name\": \"StandardScalerWrapper, LightGBM\", \"run_properties\": \"<azureml.automl.runtime.shared.model_wrappers.StandardScalerWrapper object at 0x7faf7fb458d0\", \"primary_metric\": 0.63992359, \"best_metric\": 0.97612225}, {\"run_id\": \"AutoML_44b66c17-6335-4af6-b059-70f12198038a_36\", \"run_number\": 113, \"metric\": null, \"status\": \"Completed\", \"run_type\": \"azureml.scriptrun\", \"training_percent\": \"100\", \"start_time\": \"2021-03-21T14:22:25.228799Z\", \"end_time\": \"2021-03-21T14:23:22.411653Z\", \"created_time\": \"2021-03-21T14:21:12.929201Z\", \"created_time_dt\": \"2021-03-21T14:21:12.929201Z\", \"duration\": \"0:02:09\", \"iteration\": \"36\", \"goal\": \"accuracy_max\", \"run_name\": \"MinMaxScaler, LightGBM\", \"run_properties\": \"copy=True, feature_range=(0, 1\", \"primary_metric\": 0.91451767, \"best_metric\": 0.97612225}, {\"run_id\": \"AutoML_44b66c17-6335-4af6-b059-70f12198038a_37\", \"run_number\": 114, \"metric\": null, \"status\": \"Completed\", \"run_type\": \"azureml.scriptrun\", \"training_percent\": \"100\", \"start_time\": \"2021-03-21T14:22:23.449483Z\", \"end_time\": \"2021-03-21T14:23:15.733131Z\", \"created_time\": \"2021-03-21T14:21:13.039395Z\", \"created_time_dt\": \"2021-03-21T14:21:13.039395Z\", \"duration\": \"0:02:02\", \"iteration\": \"37\", \"goal\": \"accuracy_max\", \"run_name\": \"MinMaxScaler, LightGBM\", \"run_properties\": \"copy=True, feature_range=(0, 1\", \"primary_metric\": 0.94460363, \"best_metric\": 0.97612225}, {\"run_id\": \"AutoML_44b66c17-6335-4af6-b059-70f12198038a_38\", \"run_number\": 115, \"metric\": null, \"status\": \"Completed\", \"run_type\": \"azureml.scriptrun\", \"training_percent\": \"100\", \"start_time\": \"2021-03-21T14:22:27.567456Z\", \"end_time\": \"2021-03-21T14:23:20.169966Z\", \"created_time\": \"2021-03-21T14:21:18.430745Z\", \"created_time_dt\": \"2021-03-21T14:21:18.430745Z\", \"duration\": \"0:02:01\", \"iteration\": \"38\", \"goal\": \"accuracy_max\", \"run_name\": \"RobustScaler, LightGBM\", \"run_properties\": \"copy=True, quantile_range=[10, 90], with_centering=False,\\n             with_scaling=True\", \"primary_metric\": 0.93600764, \"best_metric\": 0.97612225}, {\"run_id\": \"AutoML_44b66c17-6335-4af6-b059-70f12198038a_41\", \"run_number\": 116, \"metric\": null, \"status\": \"Completed\", \"run_type\": \"azureml.scriptrun\", \"training_percent\": \"100\", \"start_time\": \"2021-03-21T14:22:34.532601Z\", \"end_time\": \"2021-03-21T14:23:28.887478Z\", \"created_time\": \"2021-03-21T14:21:18.569717Z\", \"created_time_dt\": \"2021-03-21T14:21:18.569717Z\", \"duration\": \"0:02:10\", \"iteration\": \"41\", \"goal\": \"accuracy_max\", \"run_name\": \"MaxAbsScaler, LightGBM\", \"run_properties\": \"copy=True\", \"primary_metric\": 0.96322827, \"best_metric\": 0.97612225}, {\"run_id\": \"AutoML_44b66c17-6335-4af6-b059-70f12198038a_40\", \"run_number\": 117, \"metric\": null, \"status\": \"Completed\", \"run_type\": \"azureml.scriptrun\", \"training_percent\": \"100\", \"start_time\": \"2021-03-21T14:22:31.061687Z\", \"end_time\": \"2021-03-21T14:23:15.791753Z\", \"created_time\": \"2021-03-21T14:21:18.619071Z\", \"created_time_dt\": \"2021-03-21T14:21:18.619071Z\", \"duration\": \"0:01:57\", \"iteration\": \"40\", \"goal\": \"accuracy_max\", \"run_name\": \"StandardScalerWrapper, LightGBM\", \"run_properties\": \"<azureml.automl.runtime.shared.model_wrappers.StandardScalerWrapper object at 0x7fcdab4f50f0\", \"primary_metric\": 0.96227316, \"best_metric\": 0.97612225}, {\"run_id\": \"AutoML_44b66c17-6335-4af6-b059-70f12198038a_39\", \"run_number\": 118, \"metric\": null, \"status\": \"Completed\", \"run_type\": \"azureml.scriptrun\", \"training_percent\": \"100\", \"start_time\": \"2021-03-21T14:22:28.771969Z\", \"end_time\": \"2021-03-21T14:23:16.755248Z\", \"created_time\": \"2021-03-21T14:21:18.624569Z\", \"created_time_dt\": \"2021-03-21T14:21:18.624569Z\", \"duration\": \"0:01:58\", \"iteration\": \"39\", \"goal\": \"accuracy_max\", \"run_name\": \"MinMaxScaler, LightGBM\", \"run_properties\": \"copy=True, feature_range=(0, 1\", \"primary_metric\": 0.96322827, \"best_metric\": 0.97612225}, {\"run_id\": \"AutoML_44b66c17-6335-4af6-b059-70f12198038a_42\", \"run_number\": 119, \"metric\": null, \"status\": \"Completed\", \"run_type\": \"azureml.scriptrun\", \"training_percent\": \"100\", \"start_time\": \"2021-03-21T14:22:33.771643Z\", \"end_time\": \"2021-03-21T14:23:25.638976Z\", \"created_time\": \"2021-03-21T14:21:23.17052Z\", \"created_time_dt\": \"2021-03-21T14:21:23.17052Z\", \"duration\": \"0:02:02\", \"iteration\": \"42\", \"goal\": \"accuracy_max\", \"run_name\": \"MaxAbsScaler, LightGBM\", \"run_properties\": \"copy=True\", \"primary_metric\": 0.94221585, \"best_metric\": 0.97612225}, {\"run_id\": \"AutoML_44b66c17-6335-4af6-b059-70f12198038a_43\", \"run_number\": 120, \"metric\": null, \"status\": \"Completed\", \"run_type\": \"azureml.scriptrun\", \"training_percent\": \"100\", \"start_time\": \"2021-03-21T14:22:55.717666Z\", \"end_time\": \"2021-03-21T14:23:43.055936Z\", \"created_time\": \"2021-03-21T14:21:32.948602Z\", \"created_time_dt\": \"2021-03-21T14:21:32.948602Z\", \"duration\": \"0:02:10\", \"iteration\": \"43\", \"goal\": \"accuracy_max\", \"run_name\": \"StandardScalerWrapper, RandomForest\", \"run_properties\": \"<azureml.automl.runtime.shared.model_wrappers.StandardScalerWrapper object at 0x7f2a6d6abe80\", \"primary_metric\": 0.93170965, \"best_metric\": 0.97612225}, {\"run_id\": \"AutoML_44b66c17-6335-4af6-b059-70f12198038a_44\", \"run_number\": 121, \"metric\": null, \"status\": \"Completed\", \"run_type\": \"azureml.scriptrun\", \"training_percent\": \"100\", \"start_time\": \"2021-03-21T14:23:05.189934Z\", \"end_time\": \"2021-03-21T14:23:51.267723Z\", \"created_time\": \"2021-03-21T14:21:48.936761Z\", \"created_time_dt\": \"2021-03-21T14:21:48.936761Z\", \"duration\": \"0:02:02\", \"iteration\": \"44\", \"goal\": \"accuracy_max\", \"run_name\": \"StandardScalerWrapper, LightGBM\", \"run_properties\": \"<azureml.automl.runtime.shared.model_wrappers.StandardScalerWrapper object at 0x7fb040661278\", \"primary_metric\": 0.95558739, \"best_metric\": 0.97612225}, {\"run_id\": \"AutoML_44b66c17-6335-4af6-b059-70f12198038a_45\", \"run_number\": 122, \"metric\": null, \"status\": \"Completed\", \"run_type\": \"azureml.scriptrun\", \"training_percent\": \"100\", \"start_time\": \"2021-03-21T14:23:21.908256Z\", \"end_time\": \"2021-03-21T14:24:07.046814Z\", \"created_time\": \"2021-03-21T14:22:07.701125Z\", \"created_time_dt\": \"2021-03-21T14:22:07.701125Z\", \"duration\": \"0:01:59\", \"iteration\": \"45\", \"goal\": \"accuracy_max\", \"run_name\": \"SparseNormalizer, LightGBM\", \"run_properties\": \"<azureml.automl.runtime.shared.model_wrappers.SparseNormalizer object at 0x7f7ce265eef0\", \"primary_metric\": 0.9226361, \"best_metric\": 0.97612225}, {\"run_id\": \"AutoML_44b66c17-6335-4af6-b059-70f12198038a_47\", \"run_number\": 123, \"metric\": null, \"status\": \"Completed\", \"run_type\": \"azureml.scriptrun\", \"training_percent\": \"100\", \"start_time\": \"2021-03-21T14:23:32.205503Z\", \"end_time\": \"2021-03-21T14:24:19.296082Z\", \"created_time\": \"2021-03-21T14:22:12.700559Z\", \"created_time_dt\": \"2021-03-21T14:22:12.700559Z\", \"duration\": \"0:02:06\", \"iteration\": \"47\", \"goal\": \"accuracy_max\", \"run_name\": \"RobustScaler, LightGBM\", \"run_properties\": \"copy=True, quantile_range=[10, 90], with_centering=True,\\n             with_scaling=True\", \"primary_metric\": 0.93075454, \"best_metric\": 0.97612225}, {\"run_id\": \"AutoML_44b66c17-6335-4af6-b059-70f12198038a_46\", \"run_number\": 124, \"metric\": null, \"status\": \"Completed\", \"run_type\": \"azureml.scriptrun\", \"training_percent\": \"100\", \"start_time\": \"2021-03-21T14:23:28.05296Z\", \"end_time\": \"2021-03-21T14:24:17.735294Z\", \"created_time\": \"2021-03-21T14:22:12.79958Z\", \"created_time_dt\": \"2021-03-21T14:22:12.79958Z\", \"duration\": \"0:02:04\", \"iteration\": \"46\", \"goal\": \"accuracy_max\", \"run_name\": \"MinMaxScaler, LightGBM\", \"run_properties\": \"copy=True, feature_range=(0, 1\", \"primary_metric\": 0.92550143, \"best_metric\": 0.97612225}, {\"run_id\": \"AutoML_44b66c17-6335-4af6-b059-70f12198038a_49\", \"run_number\": 125, \"metric\": null, \"status\": \"Completed\", \"run_type\": \"azureml.scriptrun\", \"training_percent\": \"100\", \"start_time\": \"2021-03-21T14:23:36.645849Z\", \"end_time\": \"2021-03-21T14:24:31.718917Z\", \"created_time\": \"2021-03-21T14:22:17.138103Z\", \"created_time_dt\": \"2021-03-21T14:22:17.138103Z\", \"duration\": \"0:02:14\", \"iteration\": \"49\", \"goal\": \"accuracy_max\", \"run_name\": \"StandardScalerWrapper, KNN\", \"run_properties\": \"<azureml.automl.runtime.shared.model_wrappers.StandardScalerWrapper object at 0x7f99d34a8c88\", \"primary_metric\": 0.93409742, \"best_metric\": 0.97612225}, {\"run_id\": \"AutoML_44b66c17-6335-4af6-b059-70f12198038a_48\", \"run_number\": 126, \"metric\": null, \"status\": \"Completed\", \"run_type\": \"azureml.scriptrun\", \"training_percent\": \"100\", \"start_time\": \"2021-03-21T14:23:30.418911Z\", \"end_time\": \"2021-03-21T14:24:35.870881Z\", \"created_time\": \"2021-03-21T14:22:17.478543Z\", \"created_time_dt\": \"2021-03-21T14:22:17.478543Z\", \"duration\": \"0:02:18\", \"iteration\": \"48\", \"goal\": \"accuracy_max\", \"run_name\": \"StandardScalerWrapper, KNN\", \"run_properties\": \"<azureml.automl.runtime.shared.model_wrappers.StandardScalerWrapper object at 0x7f23bceff048\", \"primary_metric\": 0.92311366, \"best_metric\": 0.97612225}, {\"run_id\": \"AutoML_44b66c17-6335-4af6-b059-70f12198038a_50\", \"run_number\": 127, \"metric\": null, \"status\": \"Completed\", \"run_type\": \"azureml.scriptrun\", \"training_percent\": \"100\", \"start_time\": \"2021-03-21T14:23:38.255472Z\", \"end_time\": \"2021-03-21T14:24:31.708675Z\", \"created_time\": \"2021-03-21T14:22:23.154955Z\", \"created_time_dt\": \"2021-03-21T14:22:23.154955Z\", \"duration\": \"0:02:08\", \"iteration\": \"50\", \"goal\": \"accuracy_max\", \"run_name\": \"SparseNormalizer, LightGBM\", \"run_properties\": \"<azureml.automl.runtime.shared.model_wrappers.SparseNormalizer object at 0x7f068345bc18\", \"primary_metric\": 0.64374403, \"best_metric\": 0.97612225}, {\"run_id\": \"AutoML_44b66c17-6335-4af6-b059-70f12198038a_51\", \"run_number\": 128, \"metric\": null, \"status\": \"Completed\", \"run_type\": \"azureml.scriptrun\", \"training_percent\": \"100\", \"start_time\": \"2021-03-21T14:23:42.077213Z\", \"end_time\": \"2021-03-21T14:24:25.192395Z\", \"created_time\": \"2021-03-21T14:22:23.312454Z\", \"created_time_dt\": \"2021-03-21T14:22:23.312454Z\", \"duration\": \"0:02:01\", \"iteration\": \"51\", \"goal\": \"accuracy_max\", \"run_name\": \"StandardScalerWrapper, ExtremeRandomTrees\", \"run_properties\": \"<azureml.automl.runtime.shared.model_wrappers.StandardScalerWrapper object at 0x7fa7f99f4dd8\", \"primary_metric\": 0.92788921, \"best_metric\": 0.97612225}, {\"run_id\": \"AutoML_44b66c17-6335-4af6-b059-70f12198038a_52\", \"run_number\": 129, \"metric\": null, \"status\": \"Completed\", \"run_type\": \"azureml.scriptrun\", \"training_percent\": \"100\", \"start_time\": \"2021-03-21T14:23:40.224771Z\", \"end_time\": \"2021-03-21T14:24:29.223007Z\", \"created_time\": \"2021-03-21T14:22:27.824173Z\", \"created_time_dt\": \"2021-03-21T14:22:27.824173Z\", \"duration\": \"0:02:01\", \"iteration\": \"52\", \"goal\": \"accuracy_max\", \"run_name\": \"MaxAbsScaler, RandomForest\", \"run_properties\": \"copy=True\", \"primary_metric\": 0.92932187, \"best_metric\": 0.97612225}, {\"run_id\": \"AutoML_44b66c17-6335-4af6-b059-70f12198038a_53\", \"run_number\": 130, \"metric\": null, \"status\": \"Canceled\", \"run_type\": \"azureml.scriptrun\", \"training_percent\": \"100\", \"start_time\": \"2021-03-21T14:23:59.354613Z\", \"end_time\": \"2021-03-21T14:24:42.829266Z\", \"created_time\": \"2021-03-21T14:22:41.859588Z\", \"created_time_dt\": \"2021-03-21T14:22:41.859588Z\", \"duration\": \"0:02:00\", \"iteration\": \"53\", \"goal\": \"accuracy_max\", \"run_name\": \"StandardScalerWrapper, LightGBM\", \"run_properties\": \"<azureml.automl.runtime.shared.model_wrappers.StandardScalerWrapper object at 0x7f216a43fdd8\", \"primary_metric\": 0.92072588, \"best_metric\": 0.97612225}, {\"run_id\": \"AutoML_44b66c17-6335-4af6-b059-70f12198038a_54\", \"run_number\": 131, \"metric\": null, \"status\": \"Canceled\", \"run_type\": \"azureml.scriptrun\", \"training_percent\": \"100\", \"start_time\": \"2021-03-21T14:24:05.567298Z\", \"end_time\": \"2021-03-21T14:24:44.427914Z\", \"created_time\": \"2021-03-21T14:22:53.380505Z\", \"created_time_dt\": \"2021-03-21T14:22:53.380505Z\", \"duration\": \"0:01:51\", \"iteration\": \"54\", \"goal\": \"accuracy_max\", \"run_name\": \"StandardScalerWrapper, LightGBM\", \"run_properties\": \"<azureml.automl.runtime.shared.model_wrappers.StandardScalerWrapper object at 0x7fe9f4bd71d0\", \"primary_metric\": 0.9226361, \"best_metric\": 0.97612225}, {\"run_id\": \"AutoML_44b66c17-6335-4af6-b059-70f12198038a_55\", \"run_number\": 132, \"metric\": null, \"status\": \"Canceled\", \"run_type\": \"azureml.scriptrun\", \"training_percent\": \"100\", \"start_time\": \"2021-03-21T14:24:23.096418Z\", \"end_time\": \"2021-03-21T14:24:44.147532Z\", \"created_time\": \"2021-03-21T14:23:13.297146Z\", \"created_time_dt\": \"2021-03-21T14:23:13.297146Z\", \"duration\": \"0:01:30\", \"iteration\": \"55\", \"goal\": null, \"run_name\": \"Canceled\", \"run_properties\": null}, {\"run_id\": \"AutoML_44b66c17-6335-4af6-b059-70f12198038a_56\", \"run_number\": 133, \"metric\": null, \"status\": \"Canceled\", \"run_type\": \"azureml.scriptrun\", \"training_percent\": \"100\", \"start_time\": \"2021-03-21T14:23:18.303088Z\", \"end_time\": \"2021-03-21T14:24:44.711517Z\", \"created_time\": \"2021-03-21T14:23:18.303088Z\", \"created_time_dt\": \"2021-03-21T14:23:18.303088Z\", \"duration\": \"0:01:26\", \"iteration\": \"56\", \"goal\": null, \"run_name\": \"Canceled\", \"run_properties\": null}, {\"run_id\": \"AutoML_44b66c17-6335-4af6-b059-70f12198038a_57\", \"run_number\": 134, \"metric\": null, \"status\": \"Canceled\", \"run_type\": \"azureml.scriptrun\", \"training_percent\": \"100\", \"start_time\": \"2021-03-21T14:24:34.830104Z\", \"end_time\": \"2021-03-21T14:24:43.657782Z\", \"created_time\": \"2021-03-21T14:23:18.405948Z\", \"created_time_dt\": \"2021-03-21T14:23:18.405948Z\", \"duration\": \"0:01:25\", \"iteration\": \"57\", \"goal\": null, \"run_name\": \"Canceled\", \"run_properties\": null}, {\"run_id\": \"AutoML_44b66c17-6335-4af6-b059-70f12198038a_58\", \"run_number\": 135, \"metric\": null, \"status\": \"Canceled\", \"run_type\": \"azureml.scriptrun\", \"training_percent\": \"100\", \"start_time\": \"2021-03-21T14:23:22.987688Z\", \"end_time\": \"2021-03-21T14:24:44.384727Z\", \"created_time\": \"2021-03-21T14:23:22.987688Z\", \"created_time_dt\": \"2021-03-21T14:23:22.987688Z\", \"duration\": \"0:01:21\", \"iteration\": \"58\", \"goal\": null, \"run_name\": \"Canceled\", \"run_properties\": null}, {\"run_id\": \"AutoML_44b66c17-6335-4af6-b059-70f12198038a_59\", \"run_number\": 136, \"metric\": null, \"status\": \"Canceled\", \"run_type\": \"azureml.scriptrun\", \"training_percent\": \"100\", \"start_time\": \"2021-03-21T14:23:23.014764Z\", \"end_time\": \"2021-03-21T14:24:43.851259Z\", \"created_time\": \"2021-03-21T14:23:23.014764Z\", \"created_time_dt\": \"2021-03-21T14:23:23.014764Z\", \"duration\": \"0:01:20\", \"iteration\": \"59\", \"goal\": null, \"run_name\": \"Canceled\", \"run_properties\": null}, {\"run_id\": \"AutoML_44b66c17-6335-4af6-b059-70f12198038a_60\", \"run_number\": 137, \"metric\": null, \"status\": \"Canceled\", \"run_type\": \"azureml.scriptrun\", \"training_percent\": \"100\", \"start_time\": \"2021-03-21T14:23:28.005939Z\", \"end_time\": \"2021-03-21T14:24:42.55458Z\", \"created_time\": \"2021-03-21T14:23:28.005939Z\", \"created_time_dt\": \"2021-03-21T14:23:28.005939Z\", \"duration\": \"0:01:14\", \"iteration\": \"60\", \"goal\": null, \"run_name\": \"Canceled\", \"run_properties\": null}, {\"run_id\": \"AutoML_44b66c17-6335-4af6-b059-70f12198038a_61\", \"run_number\": 138, \"metric\": null, \"status\": \"Canceled\", \"run_type\": \"azureml.scriptrun\", \"training_percent\": \"100\", \"start_time\": \"2021-03-21T14:23:32.43245Z\", \"end_time\": \"2021-03-21T14:24:44.733317Z\", \"created_time\": \"2021-03-21T14:23:32.43245Z\", \"created_time_dt\": \"2021-03-21T14:23:32.43245Z\", \"duration\": \"0:01:12\", \"iteration\": \"61\", \"goal\": null, \"run_name\": \"Canceled\", \"run_properties\": null}, {\"run_id\": \"AutoML_44b66c17-6335-4af6-b059-70f12198038a_62\", \"run_number\": 139, \"metric\": null, \"status\": \"Canceled\", \"run_type\": \"azureml.scriptrun\", \"training_percent\": \"100\", \"start_time\": \"2021-03-21T14:23:32.592277Z\", \"end_time\": \"2021-03-21T14:24:43.323082Z\", \"created_time\": \"2021-03-21T14:23:32.592277Z\", \"created_time_dt\": \"2021-03-21T14:23:32.592277Z\", \"duration\": \"0:01:10\", \"iteration\": \"62\", \"goal\": null, \"run_name\": \"Canceled\", \"run_properties\": null}, {\"run_id\": \"AutoML_44b66c17-6335-4af6-b059-70f12198038a_63\", \"run_number\": 140, \"metric\": null, \"status\": \"Canceled\", \"run_type\": \"azureml.scriptrun\", \"training_percent\": \"100\", \"start_time\": \"2021-03-21T14:23:45.467006Z\", \"end_time\": \"2021-03-21T14:24:42.098598Z\", \"created_time\": \"2021-03-21T14:23:45.467006Z\", \"created_time_dt\": \"2021-03-21T14:23:45.467006Z\", \"duration\": \"0:00:56\", \"iteration\": \"63\", \"goal\": null, \"run_name\": \"Canceled\", \"run_properties\": null}, {\"run_id\": \"AutoML_44b66c17-6335-4af6-b059-70f12198038a_64\", \"run_number\": 141, \"metric\": null, \"status\": \"Canceled\", \"run_type\": \"azureml.scriptrun\", \"training_percent\": \"100\", \"start_time\": \"2021-03-21T14:23:53.949545Z\", \"end_time\": \"2021-03-21T14:24:43.86121Z\", \"created_time\": \"2021-03-21T14:23:53.949545Z\", \"created_time_dt\": \"2021-03-21T14:23:53.949545Z\", \"duration\": \"0:00:49\", \"iteration\": \"64\", \"goal\": null, \"run_name\": \"Canceled\", \"run_properties\": null}, {\"run_id\": \"AutoML_44b66c17-6335-4af6-b059-70f12198038a_65\", \"run_number\": 142, \"metric\": null, \"status\": \"Canceled\", \"run_type\": \"azureml.scriptrun\", \"training_percent\": \"100\", \"start_time\": \"2021-03-21T14:24:10.088526Z\", \"end_time\": \"2021-03-21T14:24:43.971634Z\", \"created_time\": \"2021-03-21T14:24:10.088526Z\", \"created_time_dt\": \"2021-03-21T14:24:10.088526Z\", \"duration\": \"0:00:33\", \"iteration\": \"65\", \"goal\": null, \"run_name\": \"Canceled\", \"run_properties\": null}, {\"run_id\": \"AutoML_44b66c17-6335-4af6-b059-70f12198038a_66\", \"run_number\": 143, \"metric\": null, \"status\": \"Canceled\", \"run_type\": \"azureml.scriptrun\", \"training_percent\": \"100\", \"start_time\": \"2021-03-21T14:24:20.281621Z\", \"end_time\": \"2021-03-21T14:24:42.664309Z\", \"created_time\": \"2021-03-21T14:24:20.281621Z\", \"created_time_dt\": \"2021-03-21T14:24:20.281621Z\", \"duration\": \"0:00:22\", \"iteration\": \"66\", \"goal\": null, \"run_name\": \"Canceled\", \"run_properties\": null}, {\"run_id\": \"AutoML_44b66c17-6335-4af6-b059-70f12198038a_67\", \"run_number\": 144, \"metric\": null, \"status\": \"Canceled\", \"run_type\": \"azureml.scriptrun\", \"training_percent\": \"100\", \"start_time\": \"2021-03-21T14:24:24.856041Z\", \"end_time\": \"2021-03-21T14:24:44.716007Z\", \"created_time\": \"2021-03-21T14:24:24.856041Z\", \"created_time_dt\": \"2021-03-21T14:24:24.856041Z\", \"duration\": \"0:00:19\", \"iteration\": \"67\", \"goal\": null, \"run_name\": \"Canceled\", \"run_properties\": null}, {\"run_id\": \"AutoML_44b66c17-6335-4af6-b059-70f12198038a_68\", \"run_number\": 145, \"metric\": null, \"status\": \"Canceled\", \"run_type\": \"azureml.scriptrun\", \"training_percent\": \"100\", \"start_time\": \"2021-03-21T14:24:29.080176Z\", \"end_time\": \"2021-03-21T14:24:46.700065Z\", \"created_time\": \"2021-03-21T14:24:29.080176Z\", \"created_time_dt\": \"2021-03-21T14:24:29.080176Z\", \"duration\": \"0:00:17\", \"iteration\": \"68\", \"goal\": null, \"run_name\": \"Canceled\", \"run_properties\": null}, {\"run_id\": \"AutoML_44b66c17-6335-4af6-b059-70f12198038a_69\", \"run_number\": 146, \"metric\": null, \"status\": \"Canceled\", \"run_type\": \"azureml.scriptrun\", \"training_percent\": \"100\", \"start_time\": \"2021-03-21T14:24:33.250902Z\", \"end_time\": \"2021-03-21T14:24:50.917704Z\", \"created_time\": \"2021-03-21T14:24:33.250902Z\", \"created_time_dt\": \"2021-03-21T14:24:33.250902Z\", \"duration\": \"0:00:17\", \"iteration\": \"69\", \"goal\": null, \"run_name\": \"Canceled\", \"run_properties\": null}, {\"run_id\": \"AutoML_44b66c17-6335-4af6-b059-70f12198038a_70\", \"run_number\": 147, \"metric\": null, \"status\": \"Completed\", \"run_type\": \"azureml.scriptrun\", \"training_percent\": \"100\", \"start_time\": \"2021-03-21T14:24:59.925781Z\", \"end_time\": \"2021-03-21T14:26:16.569288Z\", \"created_time\": \"2021-03-21T14:24:52.391019Z\", \"created_time_dt\": \"2021-03-21T14:24:52.391019Z\", \"duration\": \"0:01:24\", \"iteration\": \"70\", \"goal\": \"accuracy_max\", \"run_name\": \"VotingEnsemble\", \"run_properties\": \"classification_labels=None,\\n                              estimators=[('0',\\n                                           Pipeline(memory=None,\\n                                                    steps=[('maxabsscaler',\\n                                                            MaxAbsScaler(copy=True\", \"primary_metric\": 0.97659981, \"best_metric\": 0.97659981}], \"children_metrics\": {\"categories\": [0], \"series\": {\"recall_score_macro\": [{\"categories\": [\"0\", \"1\", \"2\", \"3\", \"4\", \"5\", \"6\", \"7\", \"8\", \"9\", \"10\", \"11\", \"12\", \"13\", \"14\", \"15\", \"16\", \"17\", \"18\", \"19\", \"20\", \"21\", \"22\", \"23\", \"24\", \"25\", \"26\", \"27\", \"28\", \"29\", \"30\", \"31\", \"32\", \"33\", \"34\", \"35\", \"36\", \"37\", \"38\", \"39\", \"40\", \"41\", \"42\", \"43\", \"44\", \"45\", \"46\", \"47\", \"48\", \"49\", \"50\", \"51\", \"52\", \"53\", \"54\", \"70\"], \"mode\": \"markers\", \"name\": \"recall_score_macro\", \"stepped\": false, \"type\": \"scatter\", \"data\": [0.9697746651882442, 0.9336020351058428, 0.9080464655872337, 0.9446268246430233, 0.8787472302618516, 0.8166634217033204, 0.822786652215359, 0.9518957550508983, 0.9299372278938778, 0.9280011038763557, 0.8529981622774505, 0.8282057111428456, 0.9191191313103094, 0.9159138554163135, 0.8688725356584591, 0.9069152606251608, 0.9519270213726708, 0.9423194220951546, 0.8356633257986212, 0.9528198019523059, 0.9260904825683073, 0.8949337603340553, 0.9208426243557829, 0.9063550401768973, 0.9184086726828445, 0.8968842018372213, 0.8983327259497765, 0.9143997826510722, 0.9035578508934551, 0.9253184693838477, 0.9522824268375315, 0.9199165904478326, 0.9456240132129746, 0.9137735798523255, 0.9052387746512379, 0.5, 0.8995661226070326, 0.9246288504758485, 0.9115108672191855, 0.9505179379610212, 0.950574412617069, 0.951016399336439, 0.9210905355044271, 0.9053345228871921, 0.9390897380632192, 0.8941322407591242, 0.9116518979340956, 0.9042618708473921, 0.8985187849659786, 0.9140547605669767, 0.5055788005578801, 0.9066039869352679, 0.9023308446880222, 0.8902549456980952, 0.8929897981070237, 0.9696031488048978]}, {\"categories\": [\"0\", \"1\", \"2\", \"3\", \"4\", \"5\", \"6\", \"7\", \"8\", \"9\", \"10\", \"11\", \"12\", \"13\", \"14\", \"15\", \"16\", \"17\", \"18\", \"19\", \"20\", \"21\", \"22\", \"23\", \"24\", \"25\", \"26\", \"27\", \"28\", \"29\", \"30\", \"31\", \"32\", \"33\", \"34\", \"35\", \"36\", \"37\", \"38\", \"39\", \"40\", \"41\", \"42\", \"43\", \"44\", \"45\", \"46\", \"47\", \"48\", \"49\", \"50\", \"51\", \"52\", \"53\", \"54\", \"70\"], \"mode\": \"lines\", \"name\": \"recall_score_macro_max\", \"stepped\": true, \"type\": \"scatter\", \"data\": [0.9697746651882442, 0.9697746651882442, 0.9697746651882442, 0.9697746651882442, 0.9697746651882442, 0.9697746651882442, 0.9697746651882442, 0.9697746651882442, 0.9697746651882442, 0.9697746651882442, 0.9697746651882442, 0.9697746651882442, 0.9697746651882442, 0.9697746651882442, 0.9697746651882442, 0.9697746651882442, 0.9697746651882442, 0.9697746651882442, 0.9697746651882442, 0.9697746651882442, 0.9697746651882442, 0.9697746651882442, 0.9697746651882442, 0.9697746651882442, 0.9697746651882442, 0.9697746651882442, 0.9697746651882442, 0.9697746651882442, 0.9697746651882442, 0.9697746651882442, 0.9697746651882442, 0.9697746651882442, 0.9697746651882442, 0.9697746651882442, 0.9697746651882442, 0.9697746651882442, 0.9697746651882442, 0.9697746651882442, 0.9697746651882442, 0.9697746651882442, 0.9697746651882442, 0.9697746651882442, 0.9697746651882442, 0.9697746651882442, 0.9697746651882442, 0.9697746651882442, 0.9697746651882442, 0.9697746651882442, 0.9697746651882442, 0.9697746651882442, 0.9697746651882442, 0.9697746651882442, 0.9697746651882442, 0.9697746651882442, 0.9697746651882442, 0.9697746651882442]}], \"log_loss\": [{\"categories\": [\"0\", \"1\", \"2\", \"3\", \"4\", \"5\", \"6\", \"7\", \"8\", \"9\", \"10\", \"11\", \"12\", \"13\", \"14\", \"15\", \"16\", \"17\", \"18\", \"19\", \"20\", \"21\", \"22\", \"23\", \"24\", \"25\", \"26\", \"27\", \"28\", \"29\", \"30\", \"31\", \"32\", \"33\", \"34\", \"35\", \"36\", \"37\", \"38\", \"39\", \"40\", \"41\", \"42\", \"43\", \"44\", \"45\", \"46\", \"47\", \"48\", \"49\", \"50\", \"51\", \"52\", \"53\", \"54\", \"70\"], \"mode\": \"markers\", \"name\": \"log_loss\", \"stepped\": false, \"type\": \"scatter\", \"data\": [0.11343422116512797, 0.17223669677552525, 0.2039882178029823, 0.1472369823192976, 0.2612636824324508, 0.45669743826692283, 0.47886659293179484, 0.11943269672260422, 0.26559132938093005, 0.17635101378550766, 0.37349864516801495, 0.46148806320678704, 0.25400948644781923, 0.811813931162885, 0.33680793331521636, 0.24584485432458483, 0.09987601510618338, 0.14068004363478145, 0.4582488607949668, 0.10694300968600147, 0.16115161704004802, 0.34106716100405404, 0.23689706556815315, 0.20972528500212553, 0.1881656030891654, 0.2727694045787437, 0.2768693414127356, 0.3351916644636794, 0.37805722267893666, 0.31708689037074717, 0.12538659346651782, 0.323061897241784, 0.13774105564653105, 0.22971304291244746, 0.23832384769685397, 0.6163015707705263, 0.23406291678766075, 0.30723080486807364, 0.23492322933037812, 0.12714182946514443, 0.1596466023514472, 0.1562456797971901, 0.22037549362660339, 0.24747458246198692, 0.1525870168826867, 0.4096116541653944, 0.21576014013757724, 0.34097153763743965, 0.4347596953137542, 0.3716911879096631, 0.5332722772728402, 0.26948024138204074, 0.22994988529196322, 0.295999395326124, 0.36300686690877787, 0.09226741481936336]}, {\"categories\": [\"0\", \"1\", \"2\", \"3\", \"4\", \"5\", \"6\", \"7\", \"8\", \"9\", \"10\", \"11\", \"12\", \"13\", \"14\", \"15\", \"16\", \"17\", \"18\", \"19\", \"20\", \"21\", \"22\", \"23\", \"24\", \"25\", \"26\", \"27\", \"28\", \"29\", \"30\", \"31\", \"32\", \"33\", \"34\", \"35\", \"36\", \"37\", \"38\", \"39\", \"40\", \"41\", \"42\", \"43\", \"44\", \"45\", \"46\", \"47\", \"48\", \"49\", \"50\", \"51\", \"52\", \"53\", \"54\", \"70\"], \"mode\": \"lines\", \"name\": \"log_loss_min\", \"stepped\": true, \"type\": \"scatter\", \"data\": [0.11343422116512797, 0.11343422116512797, 0.11343422116512797, 0.11343422116512797, 0.11343422116512797, 0.11343422116512797, 0.11343422116512797, 0.11343422116512797, 0.11343422116512797, 0.11343422116512797, 0.11343422116512797, 0.11343422116512797, 0.11343422116512797, 0.11343422116512797, 0.11343422116512797, 0.11343422116512797, 0.09987601510618338, 0.09987601510618338, 0.09987601510618338, 0.09987601510618338, 0.09987601510618338, 0.09987601510618338, 0.09987601510618338, 0.09987601510618338, 0.09987601510618338, 0.09987601510618338, 0.09987601510618338, 0.09987601510618338, 0.09987601510618338, 0.09987601510618338, 0.09987601510618338, 0.09987601510618338, 0.09987601510618338, 0.09987601510618338, 0.09987601510618338, 0.09987601510618338, 0.09987601510618338, 0.09987601510618338, 0.09987601510618338, 0.09987601510618338, 0.09987601510618338, 0.09987601510618338, 0.09987601510618338, 0.09987601510618338, 0.09987601510618338, 0.09987601510618338, 0.09987601510618338, 0.09987601510618338, 0.09987601510618338, 0.09987601510618338, 0.09987601510618338, 0.09987601510618338, 0.09987601510618338, 0.09987601510618338, 0.09987601510618338, 0.09226741481936336]}], \"AUC_micro\": [{\"categories\": [\"0\", \"1\", \"2\", \"3\", \"4\", \"5\", \"6\", \"7\", \"8\", \"9\", \"10\", \"11\", \"12\", \"13\", \"14\", \"15\", \"16\", \"17\", \"18\", \"19\", \"20\", \"21\", \"22\", \"23\", \"24\", \"25\", \"26\", \"27\", \"28\", \"29\", \"30\", \"31\", \"32\", \"33\", \"34\", \"35\", \"36\", \"37\", \"38\", \"39\", \"40\", \"41\", \"42\", \"43\", \"44\", \"45\", \"46\", \"47\", \"48\", \"49\", \"50\", \"51\", \"52\", \"53\", \"54\", \"70\"], \"mode\": \"markers\", \"name\": \"AUC_micro\", \"stepped\": false, \"type\": \"scatter\", \"data\": [0.991222020618331, 0.9831152179921895, 0.9754524456558923, 0.9875069443874298, 0.9619604929351975, 0.9045670123124331, 0.8646494418491365, 0.9929625646204326, 0.9839882266976461, 0.9822476826955443, 0.918179380026984, 0.8793298084580586, 0.9709923016505063, 0.9663604294436553, 0.9537059082711418, 0.9635279403836311, 0.9942700251503135, 0.9855242020454128, 0.8890834229604027, 0.9916161060527692, 0.9819165414624401, 0.9580784777355413, 0.9756748028888652, 0.9744241289754051, 0.9788473274713124, 0.9672751728913008, 0.969900356592584, 0.9613139465193226, 0.9523375560682315, 0.9727998949105509, 0.98839568914322, 0.9710839812481015, 0.9846245104719994, 0.9713049701288714, 0.9700987676620061, 0.8531580200490966, 0.970077558202861, 0.9712563936256683, 0.9741497743587217, 0.9869062377703522, 0.9830946927091458, 0.9823181528339942, 0.9740033606730103, 0.9708212576251426, 0.9845567770379553, 0.9415569932376034, 0.9729250991371171, 0.9656016781471415, 0.9742602687991067, 0.9785777620873392, 0.8552522830956506, 0.9675871571935644, 0.9737331111129356, 0.9689555093964746, 0.9505559615000424, 0.9919137226569021]}, {\"categories\": [\"0\", \"1\", \"2\", \"3\", \"4\", \"5\", \"6\", \"7\", \"8\", \"9\", \"10\", \"11\", \"12\", \"13\", \"14\", \"15\", \"16\", \"17\", \"18\", \"19\", \"20\", \"21\", \"22\", \"23\", \"24\", \"25\", \"26\", \"27\", \"28\", \"29\", \"30\", \"31\", \"32\", \"33\", \"34\", \"35\", \"36\", \"37\", \"38\", \"39\", \"40\", \"41\", \"42\", \"43\", \"44\", \"45\", \"46\", \"47\", \"48\", \"49\", \"50\", \"51\", \"52\", \"53\", \"54\", \"70\"], \"mode\": \"lines\", \"name\": \"AUC_micro_max\", \"stepped\": true, \"type\": \"scatter\", \"data\": [0.991222020618331, 0.991222020618331, 0.991222020618331, 0.991222020618331, 0.991222020618331, 0.991222020618331, 0.991222020618331, 0.9929625646204326, 0.9929625646204326, 0.9929625646204326, 0.9929625646204326, 0.9929625646204326, 0.9929625646204326, 0.9929625646204326, 0.9929625646204326, 0.9929625646204326, 0.9942700251503135, 0.9942700251503135, 0.9942700251503135, 0.9942700251503135, 0.9942700251503135, 0.9942700251503135, 0.9942700251503135, 0.9942700251503135, 0.9942700251503135, 0.9942700251503135, 0.9942700251503135, 0.9942700251503135, 0.9942700251503135, 0.9942700251503135, 0.9942700251503135, 0.9942700251503135, 0.9942700251503135, 0.9942700251503135, 0.9942700251503135, 0.9942700251503135, 0.9942700251503135, 0.9942700251503135, 0.9942700251503135, 0.9942700251503135, 0.9942700251503135, 0.9942700251503135, 0.9942700251503135, 0.9942700251503135, 0.9942700251503135, 0.9942700251503135, 0.9942700251503135, 0.9942700251503135, 0.9942700251503135, 0.9942700251503135, 0.9942700251503135, 0.9942700251503135, 0.9942700251503135, 0.9942700251503135, 0.9942700251503135, 0.9942700251503135]}], \"norm_macro_recall\": [{\"categories\": [\"0\", \"1\", \"2\", \"3\", \"4\", \"5\", \"6\", \"7\", \"8\", \"9\", \"10\", \"11\", \"12\", \"13\", \"14\", \"15\", \"16\", \"17\", \"18\", \"19\", \"20\", \"21\", \"22\", \"23\", \"24\", \"25\", \"26\", \"27\", \"28\", \"29\", \"30\", \"31\", \"32\", \"33\", \"34\", \"35\", \"36\", \"37\", \"38\", \"39\", \"40\", \"41\", \"42\", \"43\", \"44\", \"45\", \"46\", \"47\", \"48\", \"49\", \"50\", \"51\", \"52\", \"53\", \"54\", \"70\"], \"mode\": \"markers\", \"name\": \"norm_macro_recall\", \"stepped\": false, \"type\": \"scatter\", \"data\": [0.9395493303764885, 0.8672040702116858, 0.8160929311744671, 0.8892536492860468, 0.7574944605237034, 0.6333268434066407, 0.6455733044307179, 0.9037915101017968, 0.8598744557877557, 0.8560022077527115, 0.705996324554901, 0.6564114222856912, 0.838238262620619, 0.8318277108326272, 0.7377450713169185, 0.8138305212503217, 0.9038540427453418, 0.8846388441903091, 0.6713266515972425, 0.9056396039046118, 0.8521809651366145, 0.7898675206681105, 0.8416852487115657, 0.8127100803537944, 0.8368173453656893, 0.7937684036744425, 0.796665451899553, 0.8287995653021444, 0.8071157017869104, 0.8506369387676953, 0.9045648536750631, 0.8398331808956652, 0.8912480264259491, 0.827547159704651, 0.810477549302476, 0.0, 0.7991322452140652, 0.849257700951697, 0.8230217344383711, 0.9010358759220424, 0.901148825234138, 0.9020327986728782, 0.8421810710088543, 0.8106690457743843, 0.8781794761264384, 0.7882644815182486, 0.8233037958681916, 0.8085237416947844, 0.7970375699319573, 0.8281095211339533, 0.01115760111576014, 0.8132079738705361, 0.8046616893760444, 0.7805098913961902, 0.7859795962140476, 0.9392062976097958]}, {\"categories\": [\"0\", \"1\", \"2\", \"3\", \"4\", \"5\", \"6\", \"7\", \"8\", \"9\", \"10\", \"11\", \"12\", \"13\", \"14\", \"15\", \"16\", \"17\", \"18\", \"19\", \"20\", \"21\", \"22\", \"23\", \"24\", \"25\", \"26\", \"27\", \"28\", \"29\", \"30\", \"31\", \"32\", \"33\", \"34\", \"35\", \"36\", \"37\", \"38\", \"39\", \"40\", \"41\", \"42\", \"43\", \"44\", \"45\", \"46\", \"47\", \"48\", \"49\", \"50\", \"51\", \"52\", \"53\", \"54\", \"70\"], \"mode\": \"lines\", \"name\": \"norm_macro_recall_max\", \"stepped\": true, \"type\": \"scatter\", \"data\": [0.9395493303764885, 0.9395493303764885, 0.9395493303764885, 0.9395493303764885, 0.9395493303764885, 0.9395493303764885, 0.9395493303764885, 0.9395493303764885, 0.9395493303764885, 0.9395493303764885, 0.9395493303764885, 0.9395493303764885, 0.9395493303764885, 0.9395493303764885, 0.9395493303764885, 0.9395493303764885, 0.9395493303764885, 0.9395493303764885, 0.9395493303764885, 0.9395493303764885, 0.9395493303764885, 0.9395493303764885, 0.9395493303764885, 0.9395493303764885, 0.9395493303764885, 0.9395493303764885, 0.9395493303764885, 0.9395493303764885, 0.9395493303764885, 0.9395493303764885, 0.9395493303764885, 0.9395493303764885, 0.9395493303764885, 0.9395493303764885, 0.9395493303764885, 0.9395493303764885, 0.9395493303764885, 0.9395493303764885, 0.9395493303764885, 0.9395493303764885, 0.9395493303764885, 0.9395493303764885, 0.9395493303764885, 0.9395493303764885, 0.9395493303764885, 0.9395493303764885, 0.9395493303764885, 0.9395493303764885, 0.9395493303764885, 0.9395493303764885, 0.9395493303764885, 0.9395493303764885, 0.9395493303764885, 0.9395493303764885, 0.9395493303764885, 0.9395493303764885]}], \"precision_score_macro\": [{\"categories\": [\"0\", \"1\", \"2\", \"3\", \"4\", \"5\", \"6\", \"7\", \"8\", \"9\", \"10\", \"11\", \"12\", \"13\", \"14\", \"15\", \"16\", \"17\", \"18\", \"19\", \"20\", \"21\", \"22\", \"23\", \"24\", \"25\", \"26\", \"27\", \"28\", \"29\", \"30\", \"31\", \"32\", \"33\", \"34\", \"35\", \"36\", \"37\", \"38\", \"39\", \"40\", \"41\", \"42\", \"43\", \"44\", \"45\", \"46\", \"47\", \"48\", \"49\", \"50\", \"51\", \"52\", \"53\", \"54\", \"70\"], \"mode\": \"markers\", \"name\": \"precision_score_macro\", \"stepped\": false, \"type\": \"scatter\", \"data\": [0.9787478148347556, 0.9620992917116459, 0.9496580198292421, 0.9642914106209943, 0.8547023592333272, 0.8044215720080731, 0.7976399065490769, 0.9630561094700069, 0.954046333097705, 0.9623775248071526, 0.8269321173323888, 0.803308579889101, 0.953372060940358, 0.9261776771583282, 0.8478122107436326, 0.8881139064649396, 0.9616974792304723, 0.9659516432481116, 0.8107017288764137, 0.9703201259492475, 0.9505094132039806, 0.9184537954154282, 0.9589959349258309, 0.94568829094605, 0.9559168726403797, 0.9464505733021751, 0.9478917465844332, 0.9553036108501306, 0.9508700621054875, 0.9585147237804313, 0.9704263039561493, 0.954168637575803, 0.96648975735629, 0.9429800659803118, 0.9230226223993893, 0.31996179560649474, 0.9156023067144524, 0.9582270207599931, 0.9545655229150299, 0.9711983211041807, 0.9690327197121777, 0.9708531675647233, 0.9571297170354915, 0.9518205786349706, 0.9667741063503853, 0.9434843981396939, 0.9261333240162677, 0.9512179221308487, 0.9373900428039649, 0.9446659030194064, 0.4878991736223579, 0.9392773275716445, 0.9503208941459995, 0.9449140758005133, 0.946142507621128, 0.9801460207340126]}, {\"categories\": [\"0\", \"1\", \"2\", \"3\", \"4\", \"5\", \"6\", \"7\", \"8\", \"9\", \"10\", \"11\", \"12\", \"13\", \"14\", \"15\", \"16\", \"17\", \"18\", \"19\", \"20\", \"21\", \"22\", \"23\", \"24\", \"25\", \"26\", \"27\", \"28\", \"29\", \"30\", \"31\", \"32\", \"33\", \"34\", \"35\", \"36\", \"37\", \"38\", \"39\", \"40\", \"41\", \"42\", \"43\", \"44\", \"45\", \"46\", \"47\", \"48\", \"49\", \"50\", \"51\", \"52\", \"53\", \"54\", \"70\"], \"mode\": \"lines\", \"name\": \"precision_score_macro_max\", \"stepped\": true, \"type\": \"scatter\", \"data\": [0.9787478148347556, 0.9787478148347556, 0.9787478148347556, 0.9787478148347556, 0.9787478148347556, 0.9787478148347556, 0.9787478148347556, 0.9787478148347556, 0.9787478148347556, 0.9787478148347556, 0.9787478148347556, 0.9787478148347556, 0.9787478148347556, 0.9787478148347556, 0.9787478148347556, 0.9787478148347556, 0.9787478148347556, 0.9787478148347556, 0.9787478148347556, 0.9787478148347556, 0.9787478148347556, 0.9787478148347556, 0.9787478148347556, 0.9787478148347556, 0.9787478148347556, 0.9787478148347556, 0.9787478148347556, 0.9787478148347556, 0.9787478148347556, 0.9787478148347556, 0.9787478148347556, 0.9787478148347556, 0.9787478148347556, 0.9787478148347556, 0.9787478148347556, 0.9787478148347556, 0.9787478148347556, 0.9787478148347556, 0.9787478148347556, 0.9787478148347556, 0.9787478148347556, 0.9787478148347556, 0.9787478148347556, 0.9787478148347556, 0.9787478148347556, 0.9787478148347556, 0.9787478148347556, 0.9787478148347556, 0.9787478148347556, 0.9787478148347556, 0.9787478148347556, 0.9787478148347556, 0.9787478148347556, 0.9787478148347556, 0.9787478148347556, 0.9801460207340126]}], \"AUC_weighted\": [{\"categories\": [\"0\", \"1\", \"2\", \"3\", \"4\", \"5\", \"6\", \"7\", \"8\", \"9\", \"10\", \"11\", \"12\", \"13\", \"14\", \"15\", \"16\", \"17\", \"18\", \"19\", \"20\", \"21\", \"22\", \"23\", \"24\", \"25\", \"26\", \"27\", \"28\", \"29\", \"30\", \"31\", \"32\", \"33\", \"34\", \"35\", \"36\", \"37\", \"38\", \"39\", \"40\", \"41\", \"42\", \"43\", \"44\", \"45\", \"46\", \"47\", \"48\", \"49\", \"50\", \"51\", \"52\", \"53\", \"54\", \"70\"], \"mode\": \"markers\", \"name\": \"AUC_weighted\", \"stepped\": false, \"type\": \"scatter\", \"data\": [0.9869881928145697, 0.9757613081861315, 0.96620639078296, 0.9806170095026415, 0.9668360526180457, 0.8892521703857228, 0.881417959610248, 0.9918978377335103, 0.9785122401599319, 0.9769757017146078, 0.9228720879540825, 0.8887576011751773, 0.9642015022074389, 0.9573779042233155, 0.9593983151454047, 0.9648941886048762, 0.9933233784744772, 0.9788075258955264, 0.8930258994923759, 0.9878475835092434, 0.9753110955528773, 0.9589751725831507, 0.9728325559640516, 0.969027928648366, 0.9693728139037615, 0.958762387819675, 0.9638704884205501, 0.9649794108872197, 0.9681407783966564, 0.9787769627533128, 0.9826740591555566, 0.9720284200474651, 0.9765650661932271, 0.9651368699274512, 0.9653275404670696, 0.9632382902074114, 0.9645087951279426, 0.9734885227422998, 0.9699288412355781, 0.9796461155697478, 0.979932274120746, 0.978493956137347, 0.968082530533577, 0.9635277569595143, 0.9776354756074354, 0.9633736690211746, 0.9682902407379728, 0.9747879116267532, 0.9646738264405691, 0.9708038525985622, 0.9676544849415777, 0.9605046375038385, 0.9678931215069252, 0.9659474654806358, 0.9654064439788334, 0.9882057257354394]}, {\"categories\": [\"0\", \"1\", \"2\", \"3\", \"4\", \"5\", \"6\", \"7\", \"8\", \"9\", \"10\", \"11\", \"12\", \"13\", \"14\", \"15\", \"16\", \"17\", \"18\", \"19\", \"20\", \"21\", \"22\", \"23\", \"24\", \"25\", \"26\", \"27\", \"28\", \"29\", \"30\", \"31\", \"32\", \"33\", \"34\", \"35\", \"36\", \"37\", \"38\", \"39\", \"40\", \"41\", \"42\", \"43\", \"44\", \"45\", \"46\", \"47\", \"48\", \"49\", \"50\", \"51\", \"52\", \"53\", \"54\", \"70\"], \"mode\": \"lines\", \"name\": \"AUC_weighted_max\", \"stepped\": true, \"type\": \"scatter\", \"data\": [0.9869881928145697, 0.9869881928145697, 0.9869881928145697, 0.9869881928145697, 0.9869881928145697, 0.9869881928145697, 0.9869881928145697, 0.9918978377335103, 0.9918978377335103, 0.9918978377335103, 0.9918978377335103, 0.9918978377335103, 0.9918978377335103, 0.9918978377335103, 0.9918978377335103, 0.9918978377335103, 0.9933233784744772, 0.9933233784744772, 0.9933233784744772, 0.9933233784744772, 0.9933233784744772, 0.9933233784744772, 0.9933233784744772, 0.9933233784744772, 0.9933233784744772, 0.9933233784744772, 0.9933233784744772, 0.9933233784744772, 0.9933233784744772, 0.9933233784744772, 0.9933233784744772, 0.9933233784744772, 0.9933233784744772, 0.9933233784744772, 0.9933233784744772, 0.9933233784744772, 0.9933233784744772, 0.9933233784744772, 0.9933233784744772, 0.9933233784744772, 0.9933233784744772, 0.9933233784744772, 0.9933233784744772, 0.9933233784744772, 0.9933233784744772, 0.9933233784744772, 0.9933233784744772, 0.9933233784744772, 0.9933233784744772, 0.9933233784744772, 0.9933233784744772, 0.9933233784744772, 0.9933233784744772, 0.9933233784744772, 0.9933233784744772, 0.9933233784744772]}], \"precision_score_weighted\": [{\"categories\": [\"0\", \"1\", \"2\", \"3\", \"4\", \"5\", \"6\", \"7\", \"8\", \"9\", \"10\", \"11\", \"12\", \"13\", \"14\", \"15\", \"16\", \"17\", \"18\", \"19\", \"20\", \"21\", \"22\", \"23\", \"24\", \"25\", \"26\", \"27\", \"28\", \"29\", \"30\", \"31\", \"32\", \"33\", \"34\", \"35\", \"36\", \"37\", \"38\", \"39\", \"40\", \"41\", \"42\", \"43\", \"44\", \"45\", \"46\", \"47\", \"48\", \"49\", \"50\", \"51\", \"52\", \"53\", \"54\", \"70\"], \"mode\": \"markers\", \"name\": \"precision_score_weighted\", \"stepped\": false, \"type\": \"scatter\", \"data\": [0.9765409993583202, 0.9538803272007214, 0.9381692246086079, 0.958959785093065, 0.8839180785866952, 0.8264834802824038, 0.8341676074164228, 0.9613123871787165, 0.9479092280845299, 0.9520030987448275, 0.8601566695600629, 0.8379085890006216, 0.9437928144195418, 0.9281399343673821, 0.8722723439536524, 0.9074248339845205, 0.9605560099016595, 0.9590531159215797, 0.8440970008259533, 0.9653348409016717, 0.9444666674236945, 0.9155523897231359, 0.9477246370857076, 0.9350266000880557, 0.9450598474097794, 0.9326832856114842, 0.9338767461876198, 0.9433977029499072, 0.9373152448922925, 0.9489199375486419, 0.965309966577722, 0.9446608787716584, 0.9606233047176215, 0.9362771758561895, 0.9217957750603837, 0.4096860179035202, 0.915760889432187, 0.9485488226756229, 0.9420411311328939, 0.9649057471217009, 0.963917014184, 0.9650104490130763, 0.9466217526605059, 0.9384634085924367, 0.9583855147721824, 0.9300286543943589, 0.925859875918809, 0.9377739643373763, 0.9277240036532349, 0.937273690644098, 0.5254928655900947, 0.9316039292579347, 0.9366452410101281, 0.9296846334871485, 0.9312821177324387, 0.9771461850716036]}, {\"categories\": [\"0\", \"1\", \"2\", \"3\", \"4\", \"5\", \"6\", \"7\", \"8\", \"9\", \"10\", \"11\", \"12\", \"13\", \"14\", \"15\", \"16\", \"17\", \"18\", \"19\", \"20\", \"21\", \"22\", \"23\", \"24\", \"25\", \"26\", \"27\", \"28\", \"29\", \"30\", \"31\", \"32\", \"33\", \"34\", \"35\", \"36\", \"37\", \"38\", \"39\", \"40\", \"41\", \"42\", \"43\", \"44\", \"45\", \"46\", \"47\", \"48\", \"49\", \"50\", \"51\", \"52\", \"53\", \"54\", \"70\"], \"mode\": \"lines\", \"name\": \"precision_score_weighted_max\", \"stepped\": true, \"type\": \"scatter\", \"data\": [0.9765409993583202, 0.9765409993583202, 0.9765409993583202, 0.9765409993583202, 0.9765409993583202, 0.9765409993583202, 0.9765409993583202, 0.9765409993583202, 0.9765409993583202, 0.9765409993583202, 0.9765409993583202, 0.9765409993583202, 0.9765409993583202, 0.9765409993583202, 0.9765409993583202, 0.9765409993583202, 0.9765409993583202, 0.9765409993583202, 0.9765409993583202, 0.9765409993583202, 0.9765409993583202, 0.9765409993583202, 0.9765409993583202, 0.9765409993583202, 0.9765409993583202, 0.9765409993583202, 0.9765409993583202, 0.9765409993583202, 0.9765409993583202, 0.9765409993583202, 0.9765409993583202, 0.9765409993583202, 0.9765409993583202, 0.9765409993583202, 0.9765409993583202, 0.9765409993583202, 0.9765409993583202, 0.9765409993583202, 0.9765409993583202, 0.9765409993583202, 0.9765409993583202, 0.9765409993583202, 0.9765409993583202, 0.9765409993583202, 0.9765409993583202, 0.9765409993583202, 0.9765409993583202, 0.9765409993583202, 0.9765409993583202, 0.9765409993583202, 0.9765409993583202, 0.9765409993583202, 0.9765409993583202, 0.9765409993583202, 0.9765409993583202, 0.9771461850716036]}], \"recall_score_micro\": [{\"categories\": [\"0\", \"1\", \"2\", \"3\", \"4\", \"5\", \"6\", \"7\", \"8\", \"9\", \"10\", \"11\", \"12\", \"13\", \"14\", \"15\", \"16\", \"17\", \"18\", \"19\", \"20\", \"21\", \"22\", \"23\", \"24\", \"25\", \"26\", \"27\", \"28\", \"29\", \"30\", \"31\", \"32\", \"33\", \"34\", \"35\", \"36\", \"37\", \"38\", \"39\", \"40\", \"41\", \"42\", \"43\", \"44\", \"45\", \"46\", \"47\", \"48\", \"49\", \"50\", \"51\", \"52\", \"53\", \"54\", \"70\"], \"mode\": \"markers\", \"name\": \"recall_score_micro\", \"stepped\": false, \"type\": \"scatter\", \"data\": [0.9761222540592168, 0.9508118433619867, 0.9326647564469915, 0.9574976122254059, 0.8624641833810888, 0.8204393505253105, 0.8022922636103152, 0.9608404966571156, 0.9460362941738301, 0.9479465138490927, 0.8347659980897802, 0.8104106972301816, 0.9398280802292264, 0.9269340974212034, 0.8610315186246419, 0.9006685768863419, 0.9603629417382998, 0.9570200573065902, 0.8190066857688635, 0.9641833810888252, 0.9426934097421203, 0.9140401146131806, 0.9426934097421203, 0.9302769818529132, 0.9403056351480421, 0.9250238777459409, 0.9264565425023878, 0.9379178605539638, 0.9302769818529132, 0.9450811843361987, 0.9637058261700094, 0.940305635148042, 0.9589302769818527, 0.933142311365807, 0.9207258834765999, 0.6399235912129895, 0.9145176695319962, 0.944603629417383, 0.9360076408787011, 0.9632282712511939, 0.9622731614135626, 0.9632282712511939, 0.9422158548233046, 0.9317096466093601, 0.9555873925501434, 0.9226361031518624, 0.9255014326647565, 0.9307545367717287, 0.9231136580706781, 0.9340974212034384, 0.6437440305635148, 0.9278892072588348, 0.9293218720152817, 0.9207258834765999, 0.9226361031518625, 0.9765998089780324]}, {\"categories\": [\"0\", \"1\", \"2\", \"3\", \"4\", \"5\", \"6\", \"7\", \"8\", \"9\", \"10\", \"11\", \"12\", \"13\", \"14\", \"15\", \"16\", \"17\", \"18\", \"19\", \"20\", \"21\", \"22\", \"23\", \"24\", \"25\", \"26\", \"27\", \"28\", \"29\", \"30\", \"31\", \"32\", \"33\", \"34\", \"35\", \"36\", \"37\", \"38\", \"39\", \"40\", \"41\", \"42\", \"43\", \"44\", \"45\", \"46\", \"47\", \"48\", \"49\", \"50\", \"51\", \"52\", \"53\", \"54\", \"70\"], \"mode\": \"lines\", \"name\": \"recall_score_micro_max\", \"stepped\": true, \"type\": \"scatter\", \"data\": [0.9761222540592168, 0.9761222540592168, 0.9761222540592168, 0.9761222540592168, 0.9761222540592168, 0.9761222540592168, 0.9761222540592168, 0.9761222540592168, 0.9761222540592168, 0.9761222540592168, 0.9761222540592168, 0.9761222540592168, 0.9761222540592168, 0.9761222540592168, 0.9761222540592168, 0.9761222540592168, 0.9761222540592168, 0.9761222540592168, 0.9761222540592168, 0.9761222540592168, 0.9761222540592168, 0.9761222540592168, 0.9761222540592168, 0.9761222540592168, 0.9761222540592168, 0.9761222540592168, 0.9761222540592168, 0.9761222540592168, 0.9761222540592168, 0.9761222540592168, 0.9761222540592168, 0.9761222540592168, 0.9761222540592168, 0.9761222540592168, 0.9761222540592168, 0.9761222540592168, 0.9761222540592168, 0.9761222540592168, 0.9761222540592168, 0.9761222540592168, 0.9761222540592168, 0.9761222540592168, 0.9761222540592168, 0.9761222540592168, 0.9761222540592168, 0.9761222540592168, 0.9761222540592168, 0.9761222540592168, 0.9761222540592168, 0.9761222540592168, 0.9761222540592168, 0.9761222540592168, 0.9761222540592168, 0.9761222540592168, 0.9761222540592168, 0.9765998089780324]}], \"average_precision_score_macro\": [{\"categories\": [\"0\", \"1\", \"2\", \"3\", \"4\", \"5\", \"6\", \"7\", \"8\", \"9\", \"10\", \"11\", \"12\", \"13\", \"14\", \"15\", \"16\", \"17\", \"18\", \"19\", \"20\", \"21\", \"22\", \"23\", \"24\", \"25\", \"26\", \"27\", \"28\", \"29\", \"30\", \"31\", \"32\", \"33\", \"34\", \"35\", \"36\", \"37\", \"38\", \"39\", \"40\", \"41\", \"42\", \"43\", \"44\", \"45\", \"46\", \"47\", \"48\", \"49\", \"50\", \"51\", \"52\", \"53\", \"54\", \"70\"], \"mode\": \"markers\", \"name\": \"average_precision_score_macro\", \"stepped\": false, \"type\": \"scatter\", \"data\": [0.9873735149389441, 0.975798457219792, 0.9654132254281458, 0.9819723892439729, 0.9633881826921823, 0.8607867756806363, 0.862772636276724, 0.9918183593113167, 0.9779543802847909, 0.9762546043738484, 0.8993505905230136, 0.8616806654825601, 0.9633726662963915, 0.9519868423184538, 0.9607235204180986, 0.9619220031676002, 0.9930542993346932, 0.9802258802837445, 0.8608676764150268, 0.98853357447778, 0.9752805535443215, 0.9589016544061663, 0.972931496157656, 0.9696963046358539, 0.9705575757592019, 0.9593155582476909, 0.9633998695737734, 0.9633778807980528, 0.9679797342462854, 0.9792811476464682, 0.9831963578617722, 0.9693848859341866, 0.9769932457997558, 0.9656058502121709, 0.965482634279986, 0.9545819732227007, 0.9649485019776743, 0.9735282467231912, 0.9705469482933095, 0.9805560085065949, 0.9798668097448724, 0.9784376619214438, 0.9654145505040178, 0.9643487712391129, 0.9777478879858856, 0.9621532843067605, 0.9690414363352845, 0.9757471250114874, 0.9611012755750107, 0.9697168855487349, 0.9680183933017666, 0.9619076925382171, 0.9688410026903732, 0.9663980383017666, 0.9637650356282288, 0.9889497264583675]}, {\"categories\": [\"0\", \"1\", \"2\", \"3\", \"4\", \"5\", \"6\", \"7\", \"8\", \"9\", \"10\", \"11\", \"12\", \"13\", \"14\", \"15\", \"16\", \"17\", \"18\", \"19\", \"20\", \"21\", \"22\", \"23\", \"24\", \"25\", \"26\", \"27\", \"28\", \"29\", \"30\", \"31\", \"32\", \"33\", \"34\", \"35\", \"36\", \"37\", \"38\", \"39\", \"40\", \"41\", \"42\", \"43\", \"44\", \"45\", \"46\", \"47\", \"48\", \"49\", \"50\", \"51\", \"52\", \"53\", \"54\", \"70\"], \"mode\": \"lines\", \"name\": \"average_precision_score_macro_max\", \"stepped\": true, \"type\": \"scatter\", \"data\": [0.9873735149389441, 0.9873735149389441, 0.9873735149389441, 0.9873735149389441, 0.9873735149389441, 0.9873735149389441, 0.9873735149389441, 0.9918183593113167, 0.9918183593113167, 0.9918183593113167, 0.9918183593113167, 0.9918183593113167, 0.9918183593113167, 0.9918183593113167, 0.9918183593113167, 0.9918183593113167, 0.9930542993346932, 0.9930542993346932, 0.9930542993346932, 0.9930542993346932, 0.9930542993346932, 0.9930542993346932, 0.9930542993346932, 0.9930542993346932, 0.9930542993346932, 0.9930542993346932, 0.9930542993346932, 0.9930542993346932, 0.9930542993346932, 0.9930542993346932, 0.9930542993346932, 0.9930542993346932, 0.9930542993346932, 0.9930542993346932, 0.9930542993346932, 0.9930542993346932, 0.9930542993346932, 0.9930542993346932, 0.9930542993346932, 0.9930542993346932, 0.9930542993346932, 0.9930542993346932, 0.9930542993346932, 0.9930542993346932, 0.9930542993346932, 0.9930542993346932, 0.9930542993346932, 0.9930542993346932, 0.9930542993346932, 0.9930542993346932, 0.9930542993346932, 0.9930542993346932, 0.9930542993346932, 0.9930542993346932, 0.9930542993346932, 0.9930542993346932]}], \"f1_score_micro\": [{\"categories\": [\"0\", \"1\", \"2\", \"3\", \"4\", \"5\", \"6\", \"7\", \"8\", \"9\", \"10\", \"11\", \"12\", \"13\", \"14\", \"15\", \"16\", \"17\", \"18\", \"19\", \"20\", \"21\", \"22\", \"23\", \"24\", \"25\", \"26\", \"27\", \"28\", \"29\", \"30\", \"31\", \"32\", \"33\", \"34\", \"35\", \"36\", \"37\", \"38\", \"39\", \"40\", \"41\", \"42\", \"43\", \"44\", \"45\", \"46\", \"47\", \"48\", \"49\", \"50\", \"51\", \"52\", \"53\", \"54\", \"70\"], \"mode\": \"markers\", \"name\": \"f1_score_micro\", \"stepped\": false, \"type\": \"scatter\", \"data\": [0.9761222540592168, 0.9508118433619867, 0.9326647564469913, 0.9574976122254059, 0.8624641833810888, 0.8204393505253105, 0.8022922636103152, 0.9608404966571156, 0.9460362941738301, 0.9479465138490927, 0.8347659980897802, 0.8104106972301816, 0.9398280802292264, 0.9269340974212034, 0.8610315186246417, 0.9006685768863418, 0.9603629417382998, 0.9570200573065902, 0.8190066857688635, 0.9641833810888252, 0.9426934097421203, 0.9140401146131806, 0.9426934097421203, 0.9302769818529132, 0.9403056351480421, 0.9250238777459409, 0.9264565425023877, 0.9379178605539638, 0.9302769818529132, 0.9450811843361987, 0.9637058261700094, 0.940305635148042, 0.9589302769818527, 0.933142311365807, 0.9207258834765998, 0.6399235912129895, 0.9145176695319962, 0.944603629417383, 0.9360076408787011, 0.9632282712511939, 0.9622731614135626, 0.9632282712511939, 0.9422158548233046, 0.9317096466093601, 0.9555873925501434, 0.9226361031518625, 0.9255014326647565, 0.9307545367717287, 0.9231136580706781, 0.9340974212034384, 0.6437440305635148, 0.9278892072588346, 0.9293218720152817, 0.9207258834765999, 0.9226361031518624, 0.9765998089780324]}, {\"categories\": [\"0\", \"1\", \"2\", \"3\", \"4\", \"5\", \"6\", \"7\", \"8\", \"9\", \"10\", \"11\", \"12\", \"13\", \"14\", \"15\", \"16\", \"17\", \"18\", \"19\", \"20\", \"21\", \"22\", \"23\", \"24\", \"25\", \"26\", \"27\", \"28\", \"29\", \"30\", \"31\", \"32\", \"33\", \"34\", \"35\", \"36\", \"37\", \"38\", \"39\", \"40\", \"41\", \"42\", \"43\", \"44\", \"45\", \"46\", \"47\", \"48\", \"49\", \"50\", \"51\", \"52\", \"53\", \"54\", \"70\"], \"mode\": \"lines\", \"name\": \"f1_score_micro_max\", \"stepped\": true, \"type\": \"scatter\", \"data\": [0.9761222540592168, 0.9761222540592168, 0.9761222540592168, 0.9761222540592168, 0.9761222540592168, 0.9761222540592168, 0.9761222540592168, 0.9761222540592168, 0.9761222540592168, 0.9761222540592168, 0.9761222540592168, 0.9761222540592168, 0.9761222540592168, 0.9761222540592168, 0.9761222540592168, 0.9761222540592168, 0.9761222540592168, 0.9761222540592168, 0.9761222540592168, 0.9761222540592168, 0.9761222540592168, 0.9761222540592168, 0.9761222540592168, 0.9761222540592168, 0.9761222540592168, 0.9761222540592168, 0.9761222540592168, 0.9761222540592168, 0.9761222540592168, 0.9761222540592168, 0.9761222540592168, 0.9761222540592168, 0.9761222540592168, 0.9761222540592168, 0.9761222540592168, 0.9761222540592168, 0.9761222540592168, 0.9761222540592168, 0.9761222540592168, 0.9761222540592168, 0.9761222540592168, 0.9761222540592168, 0.9761222540592168, 0.9761222540592168, 0.9761222540592168, 0.9761222540592168, 0.9761222540592168, 0.9761222540592168, 0.9761222540592168, 0.9761222540592168, 0.9761222540592168, 0.9761222540592168, 0.9761222540592168, 0.9761222540592168, 0.9761222540592168, 0.9765998089780324]}], \"balanced_accuracy\": [{\"categories\": [\"0\", \"1\", \"2\", \"3\", \"4\", \"5\", \"6\", \"7\", \"8\", \"9\", \"10\", \"11\", \"12\", \"13\", \"14\", \"15\", \"16\", \"17\", \"18\", \"19\", \"20\", \"21\", \"22\", \"23\", \"24\", \"25\", \"26\", \"27\", \"28\", \"29\", \"30\", \"31\", \"32\", \"33\", \"34\", \"35\", \"36\", \"37\", \"38\", \"39\", \"40\", \"41\", \"42\", \"43\", \"44\", \"45\", \"46\", \"47\", \"48\", \"49\", \"50\", \"51\", \"52\", \"53\", \"54\", \"70\"], \"mode\": \"markers\", \"name\": \"balanced_accuracy\", \"stepped\": false, \"type\": \"scatter\", \"data\": [0.9697746651882442, 0.9336020351058428, 0.9080464655872337, 0.9446268246430233, 0.8787472302618516, 0.8166634217033204, 0.822786652215359, 0.9518957550508983, 0.9299372278938778, 0.9280011038763557, 0.8529981622774505, 0.8282057111428456, 0.9191191313103094, 0.9159138554163135, 0.8688725356584591, 0.9069152606251608, 0.9519270213726708, 0.9423194220951546, 0.8356633257986212, 0.9528198019523059, 0.9260904825683073, 0.8949337603340553, 0.9208426243557829, 0.9063550401768973, 0.9184086726828445, 0.8968842018372213, 0.8983327259497765, 0.9143997826510722, 0.9035578508934551, 0.9253184693838477, 0.9522824268375315, 0.9199165904478326, 0.9456240132129746, 0.9137735798523255, 0.9052387746512379, 0.5, 0.8995661226070326, 0.9246288504758485, 0.9115108672191855, 0.9505179379610212, 0.950574412617069, 0.951016399336439, 0.9210905355044271, 0.9053345228871921, 0.9390897380632192, 0.8941322407591242, 0.9116518979340956, 0.9042618708473921, 0.8985187849659786, 0.9140547605669767, 0.5055788005578801, 0.9066039869352679, 0.9023308446880222, 0.8902549456980952, 0.8929897981070237, 0.9696031488048978]}, {\"categories\": [\"0\", \"1\", \"2\", \"3\", \"4\", \"5\", \"6\", \"7\", \"8\", \"9\", \"10\", \"11\", \"12\", \"13\", \"14\", \"15\", \"16\", \"17\", \"18\", \"19\", \"20\", \"21\", \"22\", \"23\", \"24\", \"25\", \"26\", \"27\", \"28\", \"29\", \"30\", \"31\", \"32\", \"33\", \"34\", \"35\", \"36\", \"37\", \"38\", \"39\", \"40\", \"41\", \"42\", \"43\", \"44\", \"45\", \"46\", \"47\", \"48\", \"49\", \"50\", \"51\", \"52\", \"53\", \"54\", \"70\"], \"mode\": \"lines\", \"name\": \"balanced_accuracy_max\", \"stepped\": true, \"type\": \"scatter\", \"data\": [0.9697746651882442, 0.9697746651882442, 0.9697746651882442, 0.9697746651882442, 0.9697746651882442, 0.9697746651882442, 0.9697746651882442, 0.9697746651882442, 0.9697746651882442, 0.9697746651882442, 0.9697746651882442, 0.9697746651882442, 0.9697746651882442, 0.9697746651882442, 0.9697746651882442, 0.9697746651882442, 0.9697746651882442, 0.9697746651882442, 0.9697746651882442, 0.9697746651882442, 0.9697746651882442, 0.9697746651882442, 0.9697746651882442, 0.9697746651882442, 0.9697746651882442, 0.9697746651882442, 0.9697746651882442, 0.9697746651882442, 0.9697746651882442, 0.9697746651882442, 0.9697746651882442, 0.9697746651882442, 0.9697746651882442, 0.9697746651882442, 0.9697746651882442, 0.9697746651882442, 0.9697746651882442, 0.9697746651882442, 0.9697746651882442, 0.9697746651882442, 0.9697746651882442, 0.9697746651882442, 0.9697746651882442, 0.9697746651882442, 0.9697746651882442, 0.9697746651882442, 0.9697746651882442, 0.9697746651882442, 0.9697746651882442, 0.9697746651882442, 0.9697746651882442, 0.9697746651882442, 0.9697746651882442, 0.9697746651882442, 0.9697746651882442, 0.9697746651882442]}], \"recall_score_weighted\": [{\"categories\": [\"0\", \"1\", \"2\", \"3\", \"4\", \"5\", \"6\", \"7\", \"8\", \"9\", \"10\", \"11\", \"12\", \"13\", \"14\", \"15\", \"16\", \"17\", \"18\", \"19\", \"20\", \"21\", \"22\", \"23\", \"24\", \"25\", \"26\", \"27\", \"28\", \"29\", \"30\", \"31\", \"32\", \"33\", \"34\", \"35\", \"36\", \"37\", \"38\", \"39\", \"40\", \"41\", \"42\", \"43\", \"44\", \"45\", \"46\", \"47\", \"48\", \"49\", \"50\", \"51\", \"52\", \"53\", \"54\", \"70\"], \"mode\": \"markers\", \"name\": \"recall_score_weighted\", \"stepped\": false, \"type\": \"scatter\", \"data\": [0.9761222540592168, 0.9508118433619867, 0.9326647564469915, 0.9574976122254059, 0.8624641833810888, 0.8204393505253105, 0.8022922636103152, 0.9608404966571156, 0.9460362941738301, 0.9479465138490927, 0.8347659980897802, 0.8104106972301816, 0.9398280802292264, 0.9269340974212034, 0.8610315186246419, 0.9006685768863419, 0.9603629417382998, 0.9570200573065902, 0.8190066857688635, 0.9641833810888252, 0.9426934097421203, 0.9140401146131806, 0.9426934097421203, 0.9302769818529132, 0.9403056351480421, 0.9250238777459409, 0.9264565425023878, 0.9379178605539638, 0.9302769818529132, 0.9450811843361987, 0.9637058261700094, 0.940305635148042, 0.9589302769818527, 0.933142311365807, 0.9207258834765999, 0.6399235912129895, 0.9145176695319962, 0.944603629417383, 0.9360076408787011, 0.9632282712511939, 0.9622731614135626, 0.9632282712511939, 0.9422158548233046, 0.9317096466093601, 0.9555873925501434, 0.9226361031518624, 0.9255014326647565, 0.9307545367717287, 0.9231136580706781, 0.9340974212034384, 0.6437440305635148, 0.9278892072588348, 0.9293218720152817, 0.9207258834765999, 0.9226361031518625, 0.9765998089780324]}, {\"categories\": [\"0\", \"1\", \"2\", \"3\", \"4\", \"5\", \"6\", \"7\", \"8\", \"9\", \"10\", \"11\", \"12\", \"13\", \"14\", \"15\", \"16\", \"17\", \"18\", \"19\", \"20\", \"21\", \"22\", \"23\", \"24\", \"25\", \"26\", \"27\", \"28\", \"29\", \"30\", \"31\", \"32\", \"33\", \"34\", \"35\", \"36\", \"37\", \"38\", \"39\", \"40\", \"41\", \"42\", \"43\", \"44\", \"45\", \"46\", \"47\", \"48\", \"49\", \"50\", \"51\", \"52\", \"53\", \"54\", \"70\"], \"mode\": \"lines\", \"name\": \"recall_score_weighted_max\", \"stepped\": true, \"type\": \"scatter\", \"data\": [0.9761222540592168, 0.9761222540592168, 0.9761222540592168, 0.9761222540592168, 0.9761222540592168, 0.9761222540592168, 0.9761222540592168, 0.9761222540592168, 0.9761222540592168, 0.9761222540592168, 0.9761222540592168, 0.9761222540592168, 0.9761222540592168, 0.9761222540592168, 0.9761222540592168, 0.9761222540592168, 0.9761222540592168, 0.9761222540592168, 0.9761222540592168, 0.9761222540592168, 0.9761222540592168, 0.9761222540592168, 0.9761222540592168, 0.9761222540592168, 0.9761222540592168, 0.9761222540592168, 0.9761222540592168, 0.9761222540592168, 0.9761222540592168, 0.9761222540592168, 0.9761222540592168, 0.9761222540592168, 0.9761222540592168, 0.9761222540592168, 0.9761222540592168, 0.9761222540592168, 0.9761222540592168, 0.9761222540592168, 0.9761222540592168, 0.9761222540592168, 0.9761222540592168, 0.9761222540592168, 0.9761222540592168, 0.9761222540592168, 0.9761222540592168, 0.9761222540592168, 0.9761222540592168, 0.9761222540592168, 0.9761222540592168, 0.9761222540592168, 0.9761222540592168, 0.9761222540592168, 0.9761222540592168, 0.9761222540592168, 0.9761222540592168, 0.9765998089780324]}], \"matthews_correlation\": [{\"categories\": [\"0\", \"1\", \"2\", \"3\", \"4\", \"5\", \"6\", \"7\", \"8\", \"9\", \"10\", \"11\", \"12\", \"13\", \"14\", \"15\", \"16\", \"17\", \"18\", \"19\", \"20\", \"21\", \"22\", \"23\", \"24\", \"25\", \"26\", \"27\", \"28\", \"29\", \"30\", \"31\", \"32\", \"33\", \"34\", \"35\", \"36\", \"37\", \"38\", \"39\", \"40\", \"41\", \"42\", \"43\", \"44\", \"45\", \"46\", \"47\", \"48\", \"49\", \"50\", \"51\", \"52\", \"53\", \"54\", \"70\"], \"mode\": \"markers\", \"name\": \"matthews_correlation\", \"stepped\": false, \"type\": \"scatter\", \"data\": [0.9484678351945082, 0.8952010590193412, 0.8566430067554136, 0.9086825306390875, 0.7330313305300037, 0.6209577505666845, 0.6198966094274668, 0.9148692280181918, 0.8836284726352007, 0.8896988026949747, 0.6794191422732546, 0.6310042264100654, 0.8717702980347548, 0.8418890390611455, 0.7163700010986064, 0.7947882673165809, 0.9135714292989933, 0.9079440242306406, 0.64586775182384, 0.9229622322745495, 0.8762426910066227, 0.8129740241956868, 0.8789540817324349, 0.851112015593504, 0.8734699276878745, 0.8418219508839403, 0.8447546055174273, 0.8687023832033284, 0.8530947486920075, 0.8831823762264839, 0.9224803523452083, 0.8732870934257044, 0.9118510269438923, 0.8561570457347049, 0.827975055371794, 0.0, 0.814881693521743, 0.8821840677597478, 0.8649740824254991, 0.9214686708835819, 0.9193689701145592, 0.9216126365498432, 0.8774391320439392, 0.8558573021051575, 0.9054086033077251, 0.8360857629074253, 0.8376112268811308, 0.8541479121953839, 0.8349656860721604, 0.8581189964613715, 0.0497400921706706, 0.8451110930030871, 0.8512504995481338, 0.8333394227175885, 0.8373863613162226, 0.9496782277052214]}, {\"categories\": [\"0\", \"1\", \"2\", \"3\", \"4\", \"5\", \"6\", \"7\", \"8\", \"9\", \"10\", \"11\", \"12\", \"13\", \"14\", \"15\", \"16\", \"17\", \"18\", \"19\", \"20\", \"21\", \"22\", \"23\", \"24\", \"25\", \"26\", \"27\", \"28\", \"29\", \"30\", \"31\", \"32\", \"33\", \"34\", \"35\", \"36\", \"37\", \"38\", \"39\", \"40\", \"41\", \"42\", \"43\", \"44\", \"45\", \"46\", \"47\", \"48\", \"49\", \"50\", \"51\", \"52\", \"53\", \"54\", \"70\"], \"mode\": \"lines\", \"name\": \"matthews_correlation_max\", \"stepped\": true, \"type\": \"scatter\", \"data\": [0.9484678351945082, 0.9484678351945082, 0.9484678351945082, 0.9484678351945082, 0.9484678351945082, 0.9484678351945082, 0.9484678351945082, 0.9484678351945082, 0.9484678351945082, 0.9484678351945082, 0.9484678351945082, 0.9484678351945082, 0.9484678351945082, 0.9484678351945082, 0.9484678351945082, 0.9484678351945082, 0.9484678351945082, 0.9484678351945082, 0.9484678351945082, 0.9484678351945082, 0.9484678351945082, 0.9484678351945082, 0.9484678351945082, 0.9484678351945082, 0.9484678351945082, 0.9484678351945082, 0.9484678351945082, 0.9484678351945082, 0.9484678351945082, 0.9484678351945082, 0.9484678351945082, 0.9484678351945082, 0.9484678351945082, 0.9484678351945082, 0.9484678351945082, 0.9484678351945082, 0.9484678351945082, 0.9484678351945082, 0.9484678351945082, 0.9484678351945082, 0.9484678351945082, 0.9484678351945082, 0.9484678351945082, 0.9484678351945082, 0.9484678351945082, 0.9484678351945082, 0.9484678351945082, 0.9484678351945082, 0.9484678351945082, 0.9484678351945082, 0.9484678351945082, 0.9484678351945082, 0.9484678351945082, 0.9484678351945082, 0.9484678351945082, 0.9496782277052214]}], \"average_precision_score_micro\": [{\"categories\": [\"0\", \"1\", \"2\", \"3\", \"4\", \"5\", \"6\", \"7\", \"8\", \"9\", \"10\", \"11\", \"12\", \"13\", \"14\", \"15\", \"16\", \"17\", \"18\", \"19\", \"20\", \"21\", \"22\", \"23\", \"24\", \"25\", \"26\", \"27\", \"28\", \"29\", \"30\", \"31\", \"32\", \"33\", \"34\", \"35\", \"36\", \"37\", \"38\", \"39\", \"40\", \"41\", \"42\", \"43\", \"44\", \"45\", \"46\", \"47\", \"48\", \"49\", \"50\", \"51\", \"52\", \"53\", \"54\", \"70\"], \"mode\": \"markers\", \"name\": \"average_precision_score_micro\", \"stepped\": false, \"type\": \"scatter\", \"data\": [0.9895997333717722, 0.9818683143530663, 0.9735712698339093, 0.9872719038095416, 0.9561649308275957, 0.9031033184991756, 0.8650364745362259, 0.9930842574063355, 0.981788279649988, 0.9810340694796452, 0.9167186419572347, 0.8780991998611783, 0.9626849919385544, 0.9562211604046545, 0.951483865758567, 0.9647403937866619, 0.9944283056945856, 0.9846839534421381, 0.885981590168666, 0.9916339844051558, 0.9783305001422752, 0.9517240471240623, 0.9693716338374786, 0.9704470007745746, 0.9786444065060715, 0.9623263790045393, 0.9640377057700787, 0.9541855239434761, 0.9475682533692167, 0.9698755738319352, 0.9879240059318845, 0.9629797322462292, 0.9829038265338893, 0.9660994336541089, 0.9653159019195435, 0.8676263904946951, 0.9651847121502088, 0.9658348444018355, 0.9696483136023463, 0.9863096721160637, 0.9789262068612968, 0.9771971602236541, 0.967276545629988, 0.9655174955443204, 0.9837696927124188, 0.9347560019160023, 0.9689004482972051, 0.9619946542542066, 0.9682672343409789, 0.9744819363746351, 0.8676512595594321, 0.9627375858938726, 0.970447152245463, 0.9635013197357293, 0.9449415602493164, 0.9916202171206828]}, {\"categories\": [\"0\", \"1\", \"2\", \"3\", \"4\", \"5\", \"6\", \"7\", \"8\", \"9\", \"10\", \"11\", \"12\", \"13\", \"14\", \"15\", \"16\", \"17\", \"18\", \"19\", \"20\", \"21\", \"22\", \"23\", \"24\", \"25\", \"26\", \"27\", \"28\", \"29\", \"30\", \"31\", \"32\", \"33\", \"34\", \"35\", \"36\", \"37\", \"38\", \"39\", \"40\", \"41\", \"42\", \"43\", \"44\", \"45\", \"46\", \"47\", \"48\", \"49\", \"50\", \"51\", \"52\", \"53\", \"54\", \"70\"], \"mode\": \"lines\", \"name\": \"average_precision_score_micro_max\", \"stepped\": true, \"type\": \"scatter\", \"data\": [0.9895997333717722, 0.9895997333717722, 0.9895997333717722, 0.9895997333717722, 0.9895997333717722, 0.9895997333717722, 0.9895997333717722, 0.9930842574063355, 0.9930842574063355, 0.9930842574063355, 0.9930842574063355, 0.9930842574063355, 0.9930842574063355, 0.9930842574063355, 0.9930842574063355, 0.9930842574063355, 0.9944283056945856, 0.9944283056945856, 0.9944283056945856, 0.9944283056945856, 0.9944283056945856, 0.9944283056945856, 0.9944283056945856, 0.9944283056945856, 0.9944283056945856, 0.9944283056945856, 0.9944283056945856, 0.9944283056945856, 0.9944283056945856, 0.9944283056945856, 0.9944283056945856, 0.9944283056945856, 0.9944283056945856, 0.9944283056945856, 0.9944283056945856, 0.9944283056945856, 0.9944283056945856, 0.9944283056945856, 0.9944283056945856, 0.9944283056945856, 0.9944283056945856, 0.9944283056945856, 0.9944283056945856, 0.9944283056945856, 0.9944283056945856, 0.9944283056945856, 0.9944283056945856, 0.9944283056945856, 0.9944283056945856, 0.9944283056945856, 0.9944283056945856, 0.9944283056945856, 0.9944283056945856, 0.9944283056945856, 0.9944283056945856, 0.9944283056945856]}], \"weighted_accuracy\": [{\"categories\": [\"0\", \"1\", \"2\", \"3\", \"4\", \"5\", \"6\", \"7\", \"8\", \"9\", \"10\", \"11\", \"12\", \"13\", \"14\", \"15\", \"16\", \"17\", \"18\", \"19\", \"20\", \"21\", \"22\", \"23\", \"24\", \"25\", \"26\", \"27\", \"28\", \"29\", \"30\", \"31\", \"32\", \"33\", \"34\", \"35\", \"36\", \"37\", \"38\", \"39\", \"40\", \"41\", \"42\", \"43\", \"44\", \"45\", \"46\", \"47\", \"48\", \"49\", \"50\", \"51\", \"52\", \"53\", \"54\", \"70\"], \"mode\": \"markers\", \"name\": \"weighted_accuracy\", \"stepped\": false, \"type\": \"scatter\", \"data\": [0.9815933537178804, 0.9655492693881703, 0.9536390722497435, 0.9685378129300058, 0.8486006612525951, 0.8236328534333864, 0.7848838238841012, 0.9684981398405438, 0.9597741222172654, 0.9649769263961354, 0.8191875329028909, 0.7952902319841977, 0.9575150205908205, 0.9364981624767839, 0.8543501091984216, 0.8953920848350142, 0.9675517303017624, 0.9695797912118782, 0.8048202705358464, 0.9738983123444905, 0.9568425633464087, 0.9303659218996531, 0.9613685186274218, 0.9506844517469736, 0.9590196671157983, 0.9490567649637676, 0.9504242535092012, 0.9579919904269453, 0.9530926919063841, 0.9619861610675023, 0.9735611736374109, 0.9578015509627034, 0.9703221260337775, 0.9497346743910645, 0.9339238610451562, 0.7590419405296268, 0.9272652650745151, 0.9616842897301288, 0.956928788935616, 0.9741261977907087, 0.9723600727001819, 0.973746951044177, 0.9602783962769119, 0.9541870303269677, 0.9696589779051471, 0.946913285302899, 0.9372687048967396, 0.9533831491172261, 0.9441182171914316, 0.9512312352318396, 0.7614218082428378, 0.946002792989181, 0.9523862415840526, 0.9467251940604794, 0.9479481513732089, 0.9826270069007096]}, {\"categories\": [\"0\", \"1\", \"2\", \"3\", \"4\", \"5\", \"6\", \"7\", \"8\", \"9\", \"10\", \"11\", \"12\", \"13\", \"14\", \"15\", \"16\", \"17\", \"18\", \"19\", \"20\", \"21\", \"22\", \"23\", \"24\", \"25\", \"26\", \"27\", \"28\", \"29\", \"30\", \"31\", \"32\", \"33\", \"34\", \"35\", \"36\", \"37\", \"38\", \"39\", \"40\", \"41\", \"42\", \"43\", \"44\", \"45\", \"46\", \"47\", \"48\", \"49\", \"50\", \"51\", \"52\", \"53\", \"54\", \"70\"], \"mode\": \"lines\", \"name\": \"weighted_accuracy_max\", \"stepped\": true, \"type\": \"scatter\", \"data\": [0.9815933537178804, 0.9815933537178804, 0.9815933537178804, 0.9815933537178804, 0.9815933537178804, 0.9815933537178804, 0.9815933537178804, 0.9815933537178804, 0.9815933537178804, 0.9815933537178804, 0.9815933537178804, 0.9815933537178804, 0.9815933537178804, 0.9815933537178804, 0.9815933537178804, 0.9815933537178804, 0.9815933537178804, 0.9815933537178804, 0.9815933537178804, 0.9815933537178804, 0.9815933537178804, 0.9815933537178804, 0.9815933537178804, 0.9815933537178804, 0.9815933537178804, 0.9815933537178804, 0.9815933537178804, 0.9815933537178804, 0.9815933537178804, 0.9815933537178804, 0.9815933537178804, 0.9815933537178804, 0.9815933537178804, 0.9815933537178804, 0.9815933537178804, 0.9815933537178804, 0.9815933537178804, 0.9815933537178804, 0.9815933537178804, 0.9815933537178804, 0.9815933537178804, 0.9815933537178804, 0.9815933537178804, 0.9815933537178804, 0.9815933537178804, 0.9815933537178804, 0.9815933537178804, 0.9815933537178804, 0.9815933537178804, 0.9815933537178804, 0.9815933537178804, 0.9815933537178804, 0.9815933537178804, 0.9815933537178804, 0.9815933537178804, 0.9826270069007096]}], \"AUC_macro\": [{\"categories\": [\"0\", \"1\", \"2\", \"3\", \"4\", \"5\", \"6\", \"7\", \"8\", \"9\", \"10\", \"11\", \"12\", \"13\", \"14\", \"15\", \"16\", \"17\", \"18\", \"19\", \"20\", \"21\", \"22\", \"23\", \"24\", \"25\", \"26\", \"27\", \"28\", \"29\", \"30\", \"31\", \"32\", \"33\", \"34\", \"35\", \"36\", \"37\", \"38\", \"39\", \"40\", \"41\", \"42\", \"43\", \"44\", \"45\", \"46\", \"47\", \"48\", \"49\", \"50\", \"51\", \"52\", \"53\", \"54\", \"70\"], \"mode\": \"markers\", \"name\": \"AUC_macro\", \"stepped\": false, \"type\": \"scatter\", \"data\": [0.9869881928145697, 0.9757609444765061, 0.96620639078296, 0.9806170095026417, 0.9668360526180454, 0.8892521703857228, 0.881417959610248, 0.9918978377335103, 0.9785122401599319, 0.9769757017146078, 0.9228720879540825, 0.8887576011751772, 0.9642015022074389, 0.9573778683979786, 0.9593983151454047, 0.9648941886048762, 0.9933233784744772, 0.9788075258955264, 0.8930258994923758, 0.9878475835092434, 0.9753110955528775, 0.9589751725831509, 0.9728325559640517, 0.969027928648366, 0.9693728139037613, 0.958762387819675, 0.9638704884205499, 0.9649794108872198, 0.9681407783966564, 0.9787769627533126, 0.9826740591555566, 0.9720284200474651, 0.9765650661932271, 0.9651368699274512, 0.9653275404670696, 0.9632382902074114, 0.9645087951279425, 0.9734885227422998, 0.9699288412355781, 0.9796461155697478, 0.979932274120746, 0.978493956137347, 0.968082530533577, 0.9635277569595143, 0.9776354756074354, 0.9633736690211746, 0.9682902407379728, 0.9747879116267532, 0.9646738264405691, 0.9708038525985622, 0.9676544849415777, 0.9605046375038387, 0.9678931215069252, 0.9659474654806358, 0.9654064439788334, 0.9882057257354392]}, {\"categories\": [\"0\", \"1\", \"2\", \"3\", \"4\", \"5\", \"6\", \"7\", \"8\", \"9\", \"10\", \"11\", \"12\", \"13\", \"14\", \"15\", \"16\", \"17\", \"18\", \"19\", \"20\", \"21\", \"22\", \"23\", \"24\", \"25\", \"26\", \"27\", \"28\", \"29\", \"30\", \"31\", \"32\", \"33\", \"34\", \"35\", \"36\", \"37\", \"38\", \"39\", \"40\", \"41\", \"42\", \"43\", \"44\", \"45\", \"46\", \"47\", \"48\", \"49\", \"50\", \"51\", \"52\", \"53\", \"54\", \"70\"], \"mode\": \"lines\", \"name\": \"AUC_macro_max\", \"stepped\": true, \"type\": \"scatter\", \"data\": [0.9869881928145697, 0.9869881928145697, 0.9869881928145697, 0.9869881928145697, 0.9869881928145697, 0.9869881928145697, 0.9869881928145697, 0.9918978377335103, 0.9918978377335103, 0.9918978377335103, 0.9918978377335103, 0.9918978377335103, 0.9918978377335103, 0.9918978377335103, 0.9918978377335103, 0.9918978377335103, 0.9933233784744772, 0.9933233784744772, 0.9933233784744772, 0.9933233784744772, 0.9933233784744772, 0.9933233784744772, 0.9933233784744772, 0.9933233784744772, 0.9933233784744772, 0.9933233784744772, 0.9933233784744772, 0.9933233784744772, 0.9933233784744772, 0.9933233784744772, 0.9933233784744772, 0.9933233784744772, 0.9933233784744772, 0.9933233784744772, 0.9933233784744772, 0.9933233784744772, 0.9933233784744772, 0.9933233784744772, 0.9933233784744772, 0.9933233784744772, 0.9933233784744772, 0.9933233784744772, 0.9933233784744772, 0.9933233784744772, 0.9933233784744772, 0.9933233784744772, 0.9933233784744772, 0.9933233784744772, 0.9933233784744772, 0.9933233784744772, 0.9933233784744772, 0.9933233784744772, 0.9933233784744772, 0.9933233784744772, 0.9933233784744772, 0.9933233784744772]}], \"precision_score_micro\": [{\"categories\": [\"0\", \"1\", \"2\", \"3\", \"4\", \"5\", \"6\", \"7\", \"8\", \"9\", \"10\", \"11\", \"12\", \"13\", \"14\", \"15\", \"16\", \"17\", \"18\", \"19\", \"20\", \"21\", \"22\", \"23\", \"24\", \"25\", \"26\", \"27\", \"28\", \"29\", \"30\", \"31\", \"32\", \"33\", \"34\", \"35\", \"36\", \"37\", \"38\", \"39\", \"40\", \"41\", \"42\", \"43\", \"44\", \"45\", \"46\", \"47\", \"48\", \"49\", \"50\", \"51\", \"52\", \"53\", \"54\", \"70\"], \"mode\": \"markers\", \"name\": \"precision_score_micro\", \"stepped\": false, \"type\": \"scatter\", \"data\": [0.9761222540592168, 0.9508118433619867, 0.9326647564469915, 0.9574976122254059, 0.8624641833810888, 0.8204393505253105, 0.8022922636103152, 0.9608404966571156, 0.9460362941738301, 0.9479465138490927, 0.8347659980897802, 0.8104106972301816, 0.9398280802292264, 0.9269340974212034, 0.8610315186246419, 0.9006685768863419, 0.9603629417382998, 0.9570200573065902, 0.8190066857688635, 0.9641833810888252, 0.9426934097421203, 0.9140401146131806, 0.9426934097421203, 0.9302769818529132, 0.9403056351480421, 0.9250238777459409, 0.9264565425023878, 0.9379178605539638, 0.9302769818529132, 0.9450811843361987, 0.9637058261700094, 0.940305635148042, 0.9589302769818527, 0.933142311365807, 0.9207258834765999, 0.6399235912129895, 0.9145176695319962, 0.944603629417383, 0.9360076408787011, 0.9632282712511939, 0.9622731614135626, 0.9632282712511939, 0.9422158548233046, 0.9317096466093601, 0.9555873925501434, 0.9226361031518624, 0.9255014326647565, 0.9307545367717287, 0.9231136580706781, 0.9340974212034384, 0.6437440305635148, 0.9278892072588348, 0.9293218720152817, 0.9207258834765999, 0.9226361031518625, 0.9765998089780324]}, {\"categories\": [\"0\", \"1\", \"2\", \"3\", \"4\", \"5\", \"6\", \"7\", \"8\", \"9\", \"10\", \"11\", \"12\", \"13\", \"14\", \"15\", \"16\", \"17\", \"18\", \"19\", \"20\", \"21\", \"22\", \"23\", \"24\", \"25\", \"26\", \"27\", \"28\", \"29\", \"30\", \"31\", \"32\", \"33\", \"34\", \"35\", \"36\", \"37\", \"38\", \"39\", \"40\", \"41\", \"42\", \"43\", \"44\", \"45\", \"46\", \"47\", \"48\", \"49\", \"50\", \"51\", \"52\", \"53\", \"54\", \"70\"], \"mode\": \"lines\", \"name\": \"precision_score_micro_max\", \"stepped\": true, \"type\": \"scatter\", \"data\": [0.9761222540592168, 0.9761222540592168, 0.9761222540592168, 0.9761222540592168, 0.9761222540592168, 0.9761222540592168, 0.9761222540592168, 0.9761222540592168, 0.9761222540592168, 0.9761222540592168, 0.9761222540592168, 0.9761222540592168, 0.9761222540592168, 0.9761222540592168, 0.9761222540592168, 0.9761222540592168, 0.9761222540592168, 0.9761222540592168, 0.9761222540592168, 0.9761222540592168, 0.9761222540592168, 0.9761222540592168, 0.9761222540592168, 0.9761222540592168, 0.9761222540592168, 0.9761222540592168, 0.9761222540592168, 0.9761222540592168, 0.9761222540592168, 0.9761222540592168, 0.9761222540592168, 0.9761222540592168, 0.9761222540592168, 0.9761222540592168, 0.9761222540592168, 0.9761222540592168, 0.9761222540592168, 0.9761222540592168, 0.9761222540592168, 0.9761222540592168, 0.9761222540592168, 0.9761222540592168, 0.9761222540592168, 0.9761222540592168, 0.9761222540592168, 0.9761222540592168, 0.9761222540592168, 0.9761222540592168, 0.9761222540592168, 0.9761222540592168, 0.9761222540592168, 0.9761222540592168, 0.9761222540592168, 0.9761222540592168, 0.9761222540592168, 0.9765998089780324]}], \"accuracy\": [{\"categories\": [\"0\", \"1\", \"2\", \"3\", \"4\", \"5\", \"6\", \"7\", \"8\", \"9\", \"10\", \"11\", \"12\", \"13\", \"14\", \"15\", \"16\", \"17\", \"18\", \"19\", \"20\", \"21\", \"22\", \"23\", \"24\", \"25\", \"26\", \"27\", \"28\", \"29\", \"30\", \"31\", \"32\", \"33\", \"34\", \"35\", \"36\", \"37\", \"38\", \"39\", \"40\", \"41\", \"42\", \"43\", \"44\", \"45\", \"46\", \"47\", \"48\", \"49\", \"50\", \"51\", \"52\", \"53\", \"54\", \"70\"], \"mode\": \"markers\", \"name\": \"accuracy\", \"stepped\": false, \"type\": \"scatter\", \"data\": [0.9761222540592168, 0.9508118433619867, 0.9326647564469915, 0.9574976122254059, 0.8624641833810888, 0.8204393505253105, 0.8022922636103152, 0.9608404966571156, 0.9460362941738301, 0.9479465138490927, 0.8347659980897802, 0.8104106972301816, 0.9398280802292264, 0.9269340974212034, 0.8610315186246419, 0.9006685768863419, 0.9603629417382998, 0.9570200573065902, 0.8190066857688635, 0.9641833810888252, 0.9426934097421203, 0.9140401146131806, 0.9426934097421203, 0.9302769818529132, 0.9403056351480421, 0.9250238777459409, 0.9264565425023878, 0.9379178605539638, 0.9302769818529132, 0.9450811843361987, 0.9637058261700094, 0.940305635148042, 0.9589302769818527, 0.933142311365807, 0.9207258834765999, 0.6399235912129895, 0.9145176695319962, 0.944603629417383, 0.9360076408787011, 0.9632282712511939, 0.9622731614135626, 0.9632282712511939, 0.9422158548233046, 0.9317096466093601, 0.9555873925501434, 0.9226361031518624, 0.9255014326647565, 0.9307545367717287, 0.9231136580706781, 0.9340974212034384, 0.6437440305635148, 0.9278892072588348, 0.9293218720152817, 0.9207258834765999, 0.9226361031518625, 0.9765998089780324]}, {\"categories\": [\"0\", \"1\", \"2\", \"3\", \"4\", \"5\", \"6\", \"7\", \"8\", \"9\", \"10\", \"11\", \"12\", \"13\", \"14\", \"15\", \"16\", \"17\", \"18\", \"19\", \"20\", \"21\", \"22\", \"23\", \"24\", \"25\", \"26\", \"27\", \"28\", \"29\", \"30\", \"31\", \"32\", \"33\", \"34\", \"35\", \"36\", \"37\", \"38\", \"39\", \"40\", \"41\", \"42\", \"43\", \"44\", \"45\", \"46\", \"47\", \"48\", \"49\", \"50\", \"51\", \"52\", \"53\", \"54\", \"70\"], \"mode\": \"lines\", \"name\": \"accuracy_max\", \"stepped\": true, \"type\": \"scatter\", \"data\": [0.9761222540592168, 0.9761222540592168, 0.9761222540592168, 0.9761222540592168, 0.9761222540592168, 0.9761222540592168, 0.9761222540592168, 0.9761222540592168, 0.9761222540592168, 0.9761222540592168, 0.9761222540592168, 0.9761222540592168, 0.9761222540592168, 0.9761222540592168, 0.9761222540592168, 0.9761222540592168, 0.9761222540592168, 0.9761222540592168, 0.9761222540592168, 0.9761222540592168, 0.9761222540592168, 0.9761222540592168, 0.9761222540592168, 0.9761222540592168, 0.9761222540592168, 0.9761222540592168, 0.9761222540592168, 0.9761222540592168, 0.9761222540592168, 0.9761222540592168, 0.9761222540592168, 0.9761222540592168, 0.9761222540592168, 0.9761222540592168, 0.9761222540592168, 0.9761222540592168, 0.9761222540592168, 0.9761222540592168, 0.9761222540592168, 0.9761222540592168, 0.9761222540592168, 0.9761222540592168, 0.9761222540592168, 0.9761222540592168, 0.9761222540592168, 0.9761222540592168, 0.9761222540592168, 0.9761222540592168, 0.9761222540592168, 0.9761222540592168, 0.9761222540592168, 0.9761222540592168, 0.9761222540592168, 0.9761222540592168, 0.9761222540592168, 0.9765998089780324]}], \"f1_score_macro\": [{\"categories\": [\"0\", \"1\", \"2\", \"3\", \"4\", \"5\", \"6\", \"7\", \"8\", \"9\", \"10\", \"11\", \"12\", \"13\", \"14\", \"15\", \"16\", \"17\", \"18\", \"19\", \"20\", \"21\", \"22\", \"23\", \"24\", \"25\", \"26\", \"27\", \"28\", \"29\", \"30\", \"31\", \"32\", \"33\", \"34\", \"35\", \"36\", \"37\", \"38\", \"39\", \"40\", \"41\", \"42\", \"43\", \"44\", \"45\", \"46\", \"47\", \"48\", \"49\", \"50\", \"51\", \"52\", \"53\", \"54\", \"70\"], \"mode\": \"markers\", \"name\": \"f1_score_macro\", \"stepped\": false, \"type\": \"scatter\", \"data\": [0.9738767131590285, 0.9450428118471307, 0.9235073182946197, 0.9530110511219325, 0.8575626580671601, 0.8091154839272408, 0.7971765697095594, 0.956913428155269, 0.9399532258591553, 0.94155024072292, 0.8295029809137461, 0.8047697551007915, 0.9324275624223918, 0.9197609159756879, 0.8542848060087095, 0.8949847185381768, 0.9564539735779327, 0.9522359879770708, 0.8132123610427383, 0.9604772577812533, 0.9362774272491778, 0.9043056842691799, 0.9353385382482274, 0.9212148964302225, 0.9327030593337025, 0.9143461893659893, 0.9160394476668365, 0.9297591817721095, 0.9206473990987915, 0.938365262340168, 0.9599337967168519, 0.9328258486445592, 0.954474824440641, 0.9250852285167365, 0.9124886856193389, 0.39017389864264346, 0.9059056076248729, 0.9377866243487437, 0.9274754252399351, 0.9593578741106449, 0.9583321370004111, 0.9593615765492917, 0.9349760927888043, 0.922246527309092, 0.9504213978362851, 0.9115473297906855, 0.9178777825351174, 0.9211881205241701, 0.9130251293345867, 0.9260331790350319, 0.40189084092579935, 0.9190474257966718, 0.9194719337583752, 0.9090142072738514, 0.9113276377666932, 0.974387728501608]}, {\"categories\": [\"0\", \"1\", \"2\", \"3\", \"4\", \"5\", \"6\", \"7\", \"8\", \"9\", \"10\", \"11\", \"12\", \"13\", \"14\", \"15\", \"16\", \"17\", \"18\", \"19\", \"20\", \"21\", \"22\", \"23\", \"24\", \"25\", \"26\", \"27\", \"28\", \"29\", \"30\", \"31\", \"32\", \"33\", \"34\", \"35\", \"36\", \"37\", \"38\", \"39\", \"40\", \"41\", \"42\", \"43\", \"44\", \"45\", \"46\", \"47\", \"48\", \"49\", \"50\", \"51\", \"52\", \"53\", \"54\", \"70\"], \"mode\": \"lines\", \"name\": \"f1_score_macro_max\", \"stepped\": true, \"type\": \"scatter\", \"data\": [0.9738767131590285, 0.9738767131590285, 0.9738767131590285, 0.9738767131590285, 0.9738767131590285, 0.9738767131590285, 0.9738767131590285, 0.9738767131590285, 0.9738767131590285, 0.9738767131590285, 0.9738767131590285, 0.9738767131590285, 0.9738767131590285, 0.9738767131590285, 0.9738767131590285, 0.9738767131590285, 0.9738767131590285, 0.9738767131590285, 0.9738767131590285, 0.9738767131590285, 0.9738767131590285, 0.9738767131590285, 0.9738767131590285, 0.9738767131590285, 0.9738767131590285, 0.9738767131590285, 0.9738767131590285, 0.9738767131590285, 0.9738767131590285, 0.9738767131590285, 0.9738767131590285, 0.9738767131590285, 0.9738767131590285, 0.9738767131590285, 0.9738767131590285, 0.9738767131590285, 0.9738767131590285, 0.9738767131590285, 0.9738767131590285, 0.9738767131590285, 0.9738767131590285, 0.9738767131590285, 0.9738767131590285, 0.9738767131590285, 0.9738767131590285, 0.9738767131590285, 0.9738767131590285, 0.9738767131590285, 0.9738767131590285, 0.9738767131590285, 0.9738767131590285, 0.9738767131590285, 0.9738767131590285, 0.9738767131590285, 0.9738767131590285, 0.974387728501608]}], \"f1_score_weighted\": [{\"categories\": [\"0\", \"1\", \"2\", \"3\", \"4\", \"5\", \"6\", \"7\", \"8\", \"9\", \"10\", \"11\", \"12\", \"13\", \"14\", \"15\", \"16\", \"17\", \"18\", \"19\", \"20\", \"21\", \"22\", \"23\", \"24\", \"25\", \"26\", \"27\", \"28\", \"29\", \"30\", \"31\", \"32\", \"33\", \"34\", \"35\", \"36\", \"37\", \"38\", \"39\", \"40\", \"41\", \"42\", \"43\", \"44\", \"45\", \"46\", \"47\", \"48\", \"49\", \"50\", \"51\", \"52\", \"53\", \"54\", \"70\"], \"mode\": \"markers\", \"name\": \"f1_score_weighted\", \"stepped\": false, \"type\": \"scatter\", \"data\": [0.975997813652936, 0.9499644512267874, 0.9309507650600152, 0.9569905203439008, 0.8647699411527231, 0.8222033558119152, 0.8062428419496745, 0.9605901189933156, 0.9452493151680746, 0.9469150994317852, 0.8378987843982258, 0.8141167220064734, 0.938601519902505, 0.9264256305566071, 0.8630356349649734, 0.90182760960856, 0.9601520216047144, 0.9564263615005024, 0.8224618641382672, 0.9638278916805622, 0.9418773004644126, 0.9127684965982481, 0.941361271085985, 0.9286283707677968, 0.9389363201117632, 0.9227436321984941, 0.9242898889987566, 0.9363954204807117, 0.9283137530190132, 0.9440013703302474, 0.9632860310672725, 0.9389176618052795, 0.9584273236266397, 0.9319143537265461, 0.9198760403164795, 0.49949938514069214, 0.9137191144654322, 0.9435028916671963, 0.9343685169756358, 0.9627873177432525, 0.9618301050697738, 0.9627697998515675, 0.9409407026555628, 0.9298174493346778, 0.9548718804690361, 0.9203064031001764, 0.9248276322319263, 0.9287911760841167, 0.9212760632632372, 0.9328675205127515, 0.5081037055332722, 0.9265002833077345, 0.9272574805909929, 0.9180864478235048, 0.9201040781278996, 0.9764516026952573]}, {\"categories\": [\"0\", \"1\", \"2\", \"3\", \"4\", \"5\", \"6\", \"7\", \"8\", \"9\", \"10\", \"11\", \"12\", \"13\", \"14\", \"15\", \"16\", \"17\", \"18\", \"19\", \"20\", \"21\", \"22\", \"23\", \"24\", \"25\", \"26\", \"27\", \"28\", \"29\", \"30\", \"31\", \"32\", \"33\", \"34\", \"35\", \"36\", \"37\", \"38\", \"39\", \"40\", \"41\", \"42\", \"43\", \"44\", \"45\", \"46\", \"47\", \"48\", \"49\", \"50\", \"51\", \"52\", \"53\", \"54\", \"70\"], \"mode\": \"lines\", \"name\": \"f1_score_weighted_max\", \"stepped\": true, \"type\": \"scatter\", \"data\": [0.975997813652936, 0.975997813652936, 0.975997813652936, 0.975997813652936, 0.975997813652936, 0.975997813652936, 0.975997813652936, 0.975997813652936, 0.975997813652936, 0.975997813652936, 0.975997813652936, 0.975997813652936, 0.975997813652936, 0.975997813652936, 0.975997813652936, 0.975997813652936, 0.975997813652936, 0.975997813652936, 0.975997813652936, 0.975997813652936, 0.975997813652936, 0.975997813652936, 0.975997813652936, 0.975997813652936, 0.975997813652936, 0.975997813652936, 0.975997813652936, 0.975997813652936, 0.975997813652936, 0.975997813652936, 0.975997813652936, 0.975997813652936, 0.975997813652936, 0.975997813652936, 0.975997813652936, 0.975997813652936, 0.975997813652936, 0.975997813652936, 0.975997813652936, 0.975997813652936, 0.975997813652936, 0.975997813652936, 0.975997813652936, 0.975997813652936, 0.975997813652936, 0.975997813652936, 0.975997813652936, 0.975997813652936, 0.975997813652936, 0.975997813652936, 0.975997813652936, 0.975997813652936, 0.975997813652936, 0.975997813652936, 0.975997813652936, 0.9764516026952573]}], \"average_precision_score_weighted\": [{\"categories\": [\"0\", \"1\", \"2\", \"3\", \"4\", \"5\", \"6\", \"7\", \"8\", \"9\", \"10\", \"11\", \"12\", \"13\", \"14\", \"15\", \"16\", \"17\", \"18\", \"19\", \"20\", \"21\", \"22\", \"23\", \"24\", \"25\", \"26\", \"27\", \"28\", \"29\", \"30\", \"31\", \"32\", \"33\", \"34\", \"35\", \"36\", \"37\", \"38\", \"39\", \"40\", \"41\", \"42\", \"43\", \"44\", \"45\", \"46\", \"47\", \"48\", \"49\", \"50\", \"51\", \"52\", \"53\", \"54\", \"70\"], \"mode\": \"markers\", \"name\": \"average_precision_score_weighted\", \"stepped\": false, \"type\": \"scatter\", \"data\": [0.9872403179651625, 0.9760965866521785, 0.9667514238371084, 0.9822554713230622, 0.9643899086594732, 0.8817637812957342, 0.8807919413280983, 0.992694208976706, 0.978610678945702, 0.9762790693136116, 0.9151446291131612, 0.8820912289443444, 0.9639197870313759, 0.9534103989262622, 0.9629528361480371, 0.9668754647818317, 0.9938904767294696, 0.9806539969172009, 0.8823898110055093, 0.9891491748007529, 0.9757052260417113, 0.960454975301586, 0.9730806536671651, 0.9709660588470236, 0.9716829940747976, 0.9612038687661175, 0.9648480249431343, 0.9644383434721567, 0.9688582625681067, 0.9800098635793151, 0.9834130610394265, 0.9697134920584212, 0.9767673077371898, 0.9669909282890773, 0.9671564376295848, 0.9575439803778812, 0.966558442347465, 0.9739079666211458, 0.971478496537656, 0.9805632671599122, 0.9800043731314466, 0.9781978256871205, 0.9666906219930157, 0.9654519786887924, 0.9777714757077267, 0.962472362249836, 0.9703842376293362, 0.9764429356909305, 0.962437673829542, 0.9699618000625788, 0.9688800635104552, 0.9635075895152615, 0.9697736511189271, 0.967487932752821, 0.9649713079293765, 0.9891167912792719]}, {\"categories\": [\"0\", \"1\", \"2\", \"3\", \"4\", \"5\", \"6\", \"7\", \"8\", \"9\", \"10\", \"11\", \"12\", \"13\", \"14\", \"15\", \"16\", \"17\", \"18\", \"19\", \"20\", \"21\", \"22\", \"23\", \"24\", \"25\", \"26\", \"27\", \"28\", \"29\", \"30\", \"31\", \"32\", \"33\", \"34\", \"35\", \"36\", \"37\", \"38\", \"39\", \"40\", \"41\", \"42\", \"43\", \"44\", \"45\", \"46\", \"47\", \"48\", \"49\", \"50\", \"51\", \"52\", \"53\", \"54\", \"70\"], \"mode\": \"lines\", \"name\": \"average_precision_score_weighted_max\", \"stepped\": true, \"type\": \"scatter\", \"data\": [0.9872403179651625, 0.9872403179651625, 0.9872403179651625, 0.9872403179651625, 0.9872403179651625, 0.9872403179651625, 0.9872403179651625, 0.992694208976706, 0.992694208976706, 0.992694208976706, 0.992694208976706, 0.992694208976706, 0.992694208976706, 0.992694208976706, 0.992694208976706, 0.992694208976706, 0.9938904767294696, 0.9938904767294696, 0.9938904767294696, 0.9938904767294696, 0.9938904767294696, 0.9938904767294696, 0.9938904767294696, 0.9938904767294696, 0.9938904767294696, 0.9938904767294696, 0.9938904767294696, 0.9938904767294696, 0.9938904767294696, 0.9938904767294696, 0.9938904767294696, 0.9938904767294696, 0.9938904767294696, 0.9938904767294696, 0.9938904767294696, 0.9938904767294696, 0.9938904767294696, 0.9938904767294696, 0.9938904767294696, 0.9938904767294696, 0.9938904767294696, 0.9938904767294696, 0.9938904767294696, 0.9938904767294696, 0.9938904767294696, 0.9938904767294696, 0.9938904767294696, 0.9938904767294696, 0.9938904767294696, 0.9938904767294696, 0.9938904767294696, 0.9938904767294696, 0.9938904767294696, 0.9938904767294696, 0.9938904767294696, 0.9938904767294696]}]}, \"metricName\": null, \"primaryMetricName\": \"accuracy\", \"showLegend\": false}, \"run_metrics\": [{\"name\": \"experiment_status\", \"run_id\": \"AutoML_44b66c17-6335-4af6-b059-70f12198038a\", \"categories\": [0, 1, 2, 3, 4, 5, 6, 7, 8, 9, 10, 11, 12, 13], \"series\": [{\"data\": [\"DatasetEvaluation\", \"FeaturesGeneration\", \"DatasetFeaturization\", \"DatasetFeaturizationCompleted\", \"DatasetCrossValidationSplit\", \"ModelSelection\", \"BestRunExplainModel\", \"ModelExplanationDataSetSetup\", \"PickSurrogateModel\", \"EngineeredFeatureExplanations\", \"EngineeredFeatureExplanations\", \"RawFeaturesExplanations\", \"RawFeaturesExplanations\", \"BestRunExplainModel\"]}]}, {\"name\": \"experiment_status_description\", \"run_id\": \"AutoML_44b66c17-6335-4af6-b059-70f12198038a\", \"categories\": [0, 1, 2, 3, 4, 5, 6, 7, 8, 9, 10, 11, 12, 13], \"series\": [{\"data\": [\"Gathering dataset statistics.\", \"Generating features for the dataset.\", \"Beginning to fit featurizers and featurize the dataset.\", \"Completed fit featurizers and featurizing the dataset.\", \"Generating individually featurized CV splits.\", \"Beginning model selection.\", \"Best run model explanations started\", \"Model explanations data setup completed\", \"Choosing LightGBM as the surrogate model for explanations\", \"Computation of engineered features started\", \"Computation of engineered features completed\", \"Computation of raw features started\", \"Computation of raw features completed\", \"Best run model explanations completed\"]}]}, {\"name\": \"recall_score_weighted\", \"run_id\": \"AutoML_44b66c17-6335-4af6-b059-70f12198038a\", \"categories\": [0], \"series\": [{\"data\": [0.9765998089780324]}]}, {\"name\": \"average_precision_score_macro\", \"run_id\": \"AutoML_44b66c17-6335-4af6-b059-70f12198038a\", \"categories\": [0], \"series\": [{\"data\": [0.9889497264583675]}]}, {\"name\": \"precision_score_macro\", \"run_id\": \"AutoML_44b66c17-6335-4af6-b059-70f12198038a\", \"categories\": [0], \"series\": [{\"data\": [0.9801460207340126]}]}, {\"name\": \"matthews_correlation\", \"run_id\": \"AutoML_44b66c17-6335-4af6-b059-70f12198038a\", \"categories\": [0], \"series\": [{\"data\": [0.9496782277052214]}]}, {\"name\": \"AUC_weighted\", \"run_id\": \"AutoML_44b66c17-6335-4af6-b059-70f12198038a\", \"categories\": [0], \"series\": [{\"data\": [0.9882057257354394]}]}, {\"name\": \"f1_score_macro\", \"run_id\": \"AutoML_44b66c17-6335-4af6-b059-70f12198038a\", \"categories\": [0], \"series\": [{\"data\": [0.974387728501608]}]}, {\"name\": \"norm_macro_recall\", \"run_id\": \"AutoML_44b66c17-6335-4af6-b059-70f12198038a\", \"categories\": [0], \"series\": [{\"data\": [0.9392062976097958]}]}, {\"name\": \"accuracy\", \"run_id\": \"AutoML_44b66c17-6335-4af6-b059-70f12198038a\", \"categories\": [0], \"series\": [{\"data\": [0.9765998089780324]}]}, {\"name\": \"weighted_accuracy\", \"run_id\": \"AutoML_44b66c17-6335-4af6-b059-70f12198038a\", \"categories\": [0], \"series\": [{\"data\": [0.9826270069007096]}]}, {\"name\": \"balanced_accuracy\", \"run_id\": \"AutoML_44b66c17-6335-4af6-b059-70f12198038a\", \"categories\": [0], \"series\": [{\"data\": [0.9696031488048978]}]}, {\"name\": \"average_precision_score_micro\", \"run_id\": \"AutoML_44b66c17-6335-4af6-b059-70f12198038a\", \"categories\": [0], \"series\": [{\"data\": [0.9916202171206828]}]}, {\"name\": \"f1_score_micro\", \"run_id\": \"AutoML_44b66c17-6335-4af6-b059-70f12198038a\", \"categories\": [0], \"series\": [{\"data\": [0.9765998089780324]}]}, {\"name\": \"f1_score_weighted\", \"run_id\": \"AutoML_44b66c17-6335-4af6-b059-70f12198038a\", \"categories\": [0], \"series\": [{\"data\": [0.9764516026952573]}]}, {\"name\": \"log_loss\", \"run_id\": \"AutoML_44b66c17-6335-4af6-b059-70f12198038a\", \"categories\": [0], \"series\": [{\"data\": [0.09226741481936336]}]}, {\"name\": \"precision_score_weighted\", \"run_id\": \"AutoML_44b66c17-6335-4af6-b059-70f12198038a\", \"categories\": [0], \"series\": [{\"data\": [0.9771461850716036]}]}, {\"name\": \"recall_score_macro\", \"run_id\": \"AutoML_44b66c17-6335-4af6-b059-70f12198038a\", \"categories\": [0], \"series\": [{\"data\": [0.9696031488048978]}]}, {\"name\": \"precision_score_micro\", \"run_id\": \"AutoML_44b66c17-6335-4af6-b059-70f12198038a\", \"categories\": [0], \"series\": [{\"data\": [0.9765998089780324]}]}, {\"name\": \"recall_score_micro\", \"run_id\": \"AutoML_44b66c17-6335-4af6-b059-70f12198038a\", \"categories\": [0], \"series\": [{\"data\": [0.9765998089780324]}]}, {\"name\": \"AUC_micro\", \"run_id\": \"AutoML_44b66c17-6335-4af6-b059-70f12198038a\", \"categories\": [0], \"series\": [{\"data\": [0.9919137226569021]}]}, {\"name\": \"average_precision_score_weighted\", \"run_id\": \"AutoML_44b66c17-6335-4af6-b059-70f12198038a\", \"categories\": [0], \"series\": [{\"data\": [0.9891167912792719]}]}, {\"name\": \"AUC_macro\", \"run_id\": \"AutoML_44b66c17-6335-4af6-b059-70f12198038a\", \"categories\": [0], \"series\": [{\"data\": [0.9882057257354392]}]}], \"run_logs\": \"\\nRun is completed.\", \"graph\": {}, \"widget_settings\": {\"childWidgetDisplay\": \"popup\", \"send_telemetry\": false, \"log_level\": \"INFO\", \"sdk_version\": \"1.24.0\"}, \"loading\": false}"
          },
          "metadata": {}
        }
      ],
      "execution_count": 7,
      "metadata": {
        "gather": {
          "logged": 1616336807743
        },
        "jupyter": {
          "outputs_hidden": false,
          "source_hidden": false
        },
        "nteract": {
          "transient": {
            "deleting": false
          }
        }
      }
    },
    {
      "cell_type": "code",
      "source": [
        "automlmodel_run.wait_for_completion(show_output=True)"
      ],
      "outputs": [
        {
          "output_type": "stream",
          "name": "stdout",
          "text": [
            "\n",
            "\n",
            "****************************************************************************************************\n",
            "DATA GUARDRAILS: \n",
            "\n",
            "TYPE:         Cross validation\n",
            "STATUS:       DONE\n",
            "DESCRIPTION:  Each iteration of the trained model was validated through cross-validation.\n",
            "              \n",
            "DETAILS:      \n",
            "+---------------------------------+\n",
            "|Number of folds                  |\n",
            "+=================================+\n",
            "|3                                |\n",
            "+---------------------------------+\n",
            "\n",
            "****************************************************************************************************\n",
            "\n",
            "TYPE:         Class balancing detection\n",
            "STATUS:       PASSED\n",
            "DESCRIPTION:  Your inputs were analyzed, and all classes are balanced in your training data.\n",
            "              Learn more about imbalanced data: https://aka.ms/AutomatedMLImbalancedData\n",
            "\n",
            "****************************************************************************************************\n",
            "\n",
            "TYPE:         Missing feature values imputation\n",
            "STATUS:       PASSED\n",
            "DESCRIPTION:  No feature missing values were detected in the training data.\n",
            "              Learn more about missing value imputation: https://aka.ms/AutomatedMLFeaturization\n",
            "\n",
            "****************************************************************************************************\n",
            "\n",
            "TYPE:         High cardinality feature detection\n",
            "STATUS:       PASSED\n",
            "DESCRIPTION:  Your inputs were analyzed, and no high cardinality features were detected.\n",
            "              Learn more about high cardinality feature handling: https://aka.ms/AutomatedMLFeaturization\n",
            "\n",
            "****************************************************************************************************\n",
            "\n",
            "****************************************************************************************************\n",
            "ITERATION: The iteration being evaluated.\n",
            "PIPELINE: A summary description of the pipeline being evaluated.\n",
            "DURATION: Time taken for the current iteration.\n",
            "METRIC: The result of computing score on the fitted pipeline.\n",
            "BEST: The best observed score thus far.\n",
            "****************************************************************************************************\n",
            "\n",
            " ITERATION   PIPELINE                                       DURATION      METRIC      BEST\n",
            "         0   MaxAbsScaler LightGBM                          0:00:53       0.9761    0.9761\n",
            "         1   MinMaxScaler RandomForest                      0:01:39       0.9508    0.9761\n",
            "        10   RobustScaler LogisticRegression                0:00:54       0.8348    0.9761\n",
            "        11   StandardScalerWrapper LogisticRegression       0:01:46       0.8104    0.9761\n",
            "        12   MaxAbsScaler LightGBM                          0:00:52       0.9398    0.9761\n",
            "        13   SparseNormalizer RandomForest                  0:00:54       0.9269    0.9761\n",
            "        14   StandardScalerWrapper ExtremeRandomTrees       0:00:52       0.8610    0.9761\n",
            "        15   MinMaxScaler LogisticRegression                0:01:47       0.9007    0.9761\n",
            "        16   TruncatedSVDWrapper LightGBM                   0:00:54       0.9604    0.9761\n",
            "        17   RobustScaler GradientBoosting                  0:01:54       0.9570    0.9761\n",
            "        18   MaxAbsScaler LogisticRegression                0:00:50       0.8190    0.9761\n",
            "        19   MaxAbsScaler LightGBM                          0:00:53       0.9642    0.9761\n",
            "         2   MinMaxScaler RandomForest                      0:00:47       0.9327    0.9761\n",
            "         3   MinMaxScaler RandomForest                      0:00:45       0.9575    0.9761\n",
            "         4   MinMaxScaler RandomForest                      0:01:39       0.8625    0.9761\n",
            "         5   MaxAbsScaler LogisticRegression                0:01:48       0.8204    0.9761\n",
            "         6   MinMaxScaler LogisticRegression                0:00:53       0.8023    0.9761\n",
            "         7   TruncatedSVDWrapper LightGBM                   0:01:39       0.9608    0.9761\n",
            "         8   RobustScaler KNN                               0:01:41       0.9460    0.9761\n",
            "         9   StandardScalerWrapper RandomForest             0:01:39       0.9479    0.9761\n",
            "        20   SparseNormalizer GradientBoosting              0:00:48       0.9427    0.9761\n",
            "        21   StandardScalerWrapper GradientBoosting         0:01:04       0.9140    0.9761\n",
            "        22   MaxAbsScaler LightGBM                          0:00:43       0.9427    0.9761\n",
            "        23   MaxAbsScaler GradientBoosting                  0:00:46       0.9303    0.9761\n",
            "        24   RobustScaler RandomForest                      0:00:44       0.9403    0.9761\n",
            "        25   MinMaxScaler RandomForest                      0:00:50       0.9250    0.9761\n",
            "        26   MinMaxScaler RandomForest                      0:00:49       0.9265    0.9761\n",
            "        27   MaxAbsScaler LightGBM                          0:00:48       0.9379    0.9761\n",
            "        28   StandardScalerWrapper LightGBM                 0:00:45       0.9303    0.9761\n",
            "        29   MaxAbsScaler LightGBM                          0:00:41       0.9451    0.9761\n",
            "        30   StandardScalerWrapper LightGBM                 0:00:45       0.9637    0.9761\n",
            "        31   MaxAbsScaler LightGBM                          0:00:43       0.9403    0.9761\n",
            "        32   MinMaxScaler LightGBM                          0:00:55       0.9589    0.9761\n",
            "        33   SparseNormalizer LightGBM                      0:00:49       0.9331    0.9761\n",
            "        34   StandardScalerWrapper LightGBM                 0:00:48       0.9207    0.9761\n",
            "        35   StandardScalerWrapper LightGBM                 0:00:50       0.6399    0.9761\n",
            "        36   MinMaxScaler LightGBM                          0:00:57       0.9145    0.9761\n",
            "        37   MinMaxScaler LightGBM                          0:00:52       0.9446    0.9761\n",
            "        38   RobustScaler LightGBM                          0:00:53       0.9360    0.9761\n",
            "        39   MinMaxScaler LightGBM                          0:00:48       0.9632    0.9761\n",
            "        40   StandardScalerWrapper LightGBM                 0:00:45       0.9623    0.9761\n",
            "        41   MaxAbsScaler LightGBM                          0:00:54       0.9632    0.9761\n",
            "        42   MaxAbsScaler LightGBM                          0:00:52       0.9422    0.9761\n",
            "        43   StandardScalerWrapper RandomForest             0:00:47       0.9317    0.9761\n",
            "        44   StandardScalerWrapper LightGBM                 0:00:46       0.9556    0.9761\n",
            "        45   SparseNormalizer LightGBM                      0:00:45       0.9226    0.9761\n",
            "        46   MinMaxScaler LightGBM                          0:00:50       0.9255    0.9761\n",
            "        47   RobustScaler LightGBM                          0:00:47       0.9308    0.9761\n",
            "        48   StandardScalerWrapper KNN                      0:01:05       0.9231    0.9761\n",
            "        49   StandardScalerWrapper KNN                      0:00:55       0.9341    0.9761\n",
            "        50   SparseNormalizer LightGBM                      0:00:53       0.6437    0.9761\n",
            "        51   StandardScalerWrapper ExtremeRandomTrees       0:00:43       0.9279    0.9761\n",
            "        52   MaxAbsScaler RandomForest                      0:00:49       0.9293    0.9761\n",
            "        53   StandardScalerWrapper LightGBM                 0:00:43       0.9207    0.9761\n",
            "        54   StandardScalerWrapper LightGBM                 0:00:39       0.9226    0.9761\n",
            "        55                                                  0:00:21          nan    0.9761\n",
            "        56                                                  0:01:26          nan    0.9761\n",
            "        57                                                  0:00:09          nan    0.9761\n",
            "        58                                                  0:01:21          nan    0.9761\n",
            "        59                                                  0:01:21          nan    0.9761\n",
            "        60                                                  0:01:15          nan    0.9761\n",
            "        61                                                  0:01:12          nan    0.9761\n",
            "        62                                                  0:01:11          nan    0.9761\n",
            "        63                                                  0:00:57          nan    0.9761\n",
            "        64                                                  0:00:50          nan    0.9761\n",
            "        65                                                  0:00:34          nan    0.9761\n",
            "        66                                                  0:00:22          nan    0.9761\n",
            "        67                                                  0:00:20          nan    0.9761\n",
            "        68                                                  0:00:18          nan    0.9761\n",
            "        69                                                  0:00:18          nan    0.9761\n",
            "        70    VotingEnsemble                                0:01:17       0.9766    0.9766\n"
          ]
        },
        {
          "output_type": "execute_result",
          "execution_count": 8,
          "data": {
            "text/plain": "{'runId': 'AutoML_44b66c17-6335-4af6-b059-70f12198038a',\n 'target': 'compute-ml',\n 'status': 'Completed',\n 'startTimeUtc': '2021-03-21T14:06:26.613037Z',\n 'endTimeUtc': '2021-03-21T14:26:38.294302Z',\n 'properties': {'num_iterations': '1000',\n  'training_type': 'TrainFull',\n  'acquisition_function': 'EI',\n  'primary_metric': 'accuracy',\n  'train_split': '0',\n  'acquisition_parameter': '0',\n  'num_cross_validation': None,\n  'target': 'compute-ml',\n  'AMLSettingsJsonString': '{\"path\":null,\"name\":\"hydraulic-automl-experiment\",\"subscription_id\":\"81cefad3-d2c9-4f77-a466-99a7f541c7bb\",\"resource_group\":\"aml-quickstarts-141045\",\"workspace_name\":\"quick-starts-ws-141045\",\"region\":\"southcentralus\",\"compute_target\":\"compute-ml\",\"spark_service\":null,\"azure_service\":\"remote\",\"many_models\":false,\"pipeline_fetch_max_batch_size\":1,\"enable_batch_run\":false,\"iterations\":1000,\"primary_metric\":\"accuracy\",\"task_type\":\"classification\",\"data_script\":null,\"validation_size\":0.0,\"n_cross_validations\":null,\"y_min\":null,\"y_max\":null,\"num_classes\":null,\"featurization\":\"auto\",\"_ignore_package_version_incompatibilities\":false,\"is_timeseries\":false,\"max_cores_per_iteration\":1,\"max_concurrent_iterations\":20,\"iteration_timeout_minutes\":null,\"mem_in_mb\":null,\"enforce_time_on_windows\":false,\"experiment_timeout_minutes\":60,\"experiment_exit_score\":null,\"whitelist_models\":null,\"blacklist_algos\":[\"XGBoostClassifier\",\"TensorFlowLinearClassifier\",\"TensorFlowDNN\"],\"supported_models\":[\"LinearSVM\",\"TensorFlowDNN\",\"ExtremeRandomTrees\",\"BernoulliNaiveBayes\",\"KNN\",\"DecisionTree\",\"XGBoostClassifier\",\"GradientBoosting\",\"TensorFlowLinearClassifier\",\"MultinomialNaiveBayes\",\"RandomForest\",\"SGD\",\"AveragedPerceptronClassifier\",\"SVM\",\"LightGBM\",\"LogisticRegression\"],\"private_models\":[],\"auto_blacklist\":true,\"blacklist_samples_reached\":false,\"exclude_nan_labels\":true,\"verbosity\":20,\"_debug_log\":\"azureml_automl.log\",\"show_warnings\":false,\"model_explainability\":true,\"service_url\":null,\"sdk_url\":null,\"sdk_packages\":null,\"enable_onnx_compatible_models\":true,\"enable_split_onnx_featurizer_estimator_models\":false,\"vm_type\":\"STANDARD_DS14_V2\",\"telemetry_verbosity\":20,\"send_telemetry\":true,\"enable_dnn\":false,\"scenario\":\"SDK-1.13.0\",\"environment_label\":null,\"save_mlflow\":false,\"force_text_dnn\":false,\"enable_feature_sweeping\":false,\"enable_early_stopping\":true,\"early_stopping_n_iters\":10,\"metrics\":null,\"enable_metric_confidence\":false,\"enable_ensembling\":true,\"enable_stack_ensembling\":false,\"ensemble_iterations\":15,\"enable_tf\":false,\"enable_subsampling\":null,\"subsample_seed\":null,\"enable_nimbusml\":false,\"enable_streaming\":false,\"force_streaming\":false,\"track_child_runs\":true,\"allowed_private_models\":[],\"label_column_name\":\"STABILITY\",\"weight_column_name\":null,\"cv_split_column_names\":null,\"enable_local_managed\":false,\"_local_managed_run_id\":null,\"cost_mode\":1,\"lag_length\":0,\"metric_operation\":\"maximize\",\"preprocess\":true}',\n  'DataPrepJsonString': '{\\\\\"training_data\\\\\": \\\\\"{\\\\\\\\\\\\\"blocks\\\\\\\\\\\\\": [{\\\\\\\\\\\\\"id\\\\\\\\\\\\\": \\\\\\\\\\\\\"4e1dfa48-718b-4737-a899-0347898412f8\\\\\\\\\\\\\", \\\\\\\\\\\\\"type\\\\\\\\\\\\\": \\\\\\\\\\\\\"Microsoft.DPrep.GetFilesBlock\\\\\\\\\\\\\", \\\\\\\\\\\\\"arguments\\\\\\\\\\\\\": {\\\\\\\\\\\\\"isArchive\\\\\\\\\\\\\": false, \\\\\\\\\\\\\"path\\\\\\\\\\\\\": {\\\\\\\\\\\\\"target\\\\\\\\\\\\\": 4, \\\\\\\\\\\\\"resourceDetails\\\\\\\\\\\\\": [{\\\\\\\\\\\\\"path\\\\\\\\\\\\\": \\\\\\\\\\\\\"https://raw.githubusercontent.com/chamsun-imoggo/udacityms-3rdproject/main/data/hydraulic_systems_training.csv\\\\\\\\\\\\\"}]}}, \\\\\\\\\\\\\"localData\\\\\\\\\\\\\": {}, \\\\\\\\\\\\\"isEnabled\\\\\\\\\\\\\": true, \\\\\\\\\\\\\"name\\\\\\\\\\\\\": null, \\\\\\\\\\\\\"annotation\\\\\\\\\\\\\": null}, {\\\\\\\\\\\\\"id\\\\\\\\\\\\\": \\\\\\\\\\\\\"8ee5e366-d55c-440b-a4eb-aa9a25ee0628\\\\\\\\\\\\\", \\\\\\\\\\\\\"type\\\\\\\\\\\\\": \\\\\\\\\\\\\"Microsoft.DPrep.ParseDelimitedBlock\\\\\\\\\\\\\", \\\\\\\\\\\\\"arguments\\\\\\\\\\\\\": {\\\\\\\\\\\\\"columnHeadersMode\\\\\\\\\\\\\": 3, \\\\\\\\\\\\\"fileEncoding\\\\\\\\\\\\\": 0, \\\\\\\\\\\\\"handleQuotedLineBreaks\\\\\\\\\\\\\": false, \\\\\\\\\\\\\"preview\\\\\\\\\\\\\": false, \\\\\\\\\\\\\"separator\\\\\\\\\\\\\": \\\\\\\\\\\\\",\\\\\\\\\\\\\", \\\\\\\\\\\\\"skipRows\\\\\\\\\\\\\": 0, \\\\\\\\\\\\\"skipRowsMode\\\\\\\\\\\\\": 0}, \\\\\\\\\\\\\"localData\\\\\\\\\\\\\": {}, \\\\\\\\\\\\\"isEnabled\\\\\\\\\\\\\": true, \\\\\\\\\\\\\"name\\\\\\\\\\\\\": null, \\\\\\\\\\\\\"annotation\\\\\\\\\\\\\": null}, {\\\\\\\\\\\\\"id\\\\\\\\\\\\\": \\\\\\\\\\\\\"86745aa2-c480-4105-936d-ebee1a2859a3\\\\\\\\\\\\\", \\\\\\\\\\\\\"type\\\\\\\\\\\\\": \\\\\\\\\\\\\"Microsoft.DPrep.DropColumnsBlock\\\\\\\\\\\\\", \\\\\\\\\\\\\"arguments\\\\\\\\\\\\\": {\\\\\\\\\\\\\"columns\\\\\\\\\\\\\": {\\\\\\\\\\\\\"type\\\\\\\\\\\\\": 0, \\\\\\\\\\\\\"details\\\\\\\\\\\\\": {\\\\\\\\\\\\\"selectedColumns\\\\\\\\\\\\\": [\\\\\\\\\\\\\"Path\\\\\\\\\\\\\"]}}}, \\\\\\\\\\\\\"localData\\\\\\\\\\\\\": {}, \\\\\\\\\\\\\"isEnabled\\\\\\\\\\\\\": true, \\\\\\\\\\\\\"name\\\\\\\\\\\\\": null, \\\\\\\\\\\\\"annotation\\\\\\\\\\\\\": null}, {\\\\\\\\\\\\\"id\\\\\\\\\\\\\": \\\\\\\\\\\\\"08bd5030-a2fe-4a92-b751-402222cde346\\\\\\\\\\\\\", \\\\\\\\\\\\\"type\\\\\\\\\\\\\": \\\\\\\\\\\\\"Microsoft.DPrep.SetColumnTypesBlock\\\\\\\\\\\\\", \\\\\\\\\\\\\"arguments\\\\\\\\\\\\\": {\\\\\\\\\\\\\"columnConversion\\\\\\\\\\\\\": [{\\\\\\\\\\\\\"column\\\\\\\\\\\\\": {\\\\\\\\\\\\\"type\\\\\\\\\\\\\": 2, \\\\\\\\\\\\\"details\\\\\\\\\\\\\": {\\\\\\\\\\\\\"selectedColumn\\\\\\\\\\\\\": \\\\\\\\\\\\\"PS1\\\\\\\\\\\\\"}}, \\\\\\\\\\\\\"typeProperty\\\\\\\\\\\\\": 3}, {\\\\\\\\\\\\\"column\\\\\\\\\\\\\": {\\\\\\\\\\\\\"type\\\\\\\\\\\\\": 2, \\\\\\\\\\\\\"details\\\\\\\\\\\\\": {\\\\\\\\\\\\\"selectedColumn\\\\\\\\\\\\\": \\\\\\\\\\\\\"PS2\\\\\\\\\\\\\"}}, \\\\\\\\\\\\\"typeProperty\\\\\\\\\\\\\": 3}, {\\\\\\\\\\\\\"column\\\\\\\\\\\\\": {\\\\\\\\\\\\\"type\\\\\\\\\\\\\": 2, \\\\\\\\\\\\\"details\\\\\\\\\\\\\": {\\\\\\\\\\\\\"selectedColumn\\\\\\\\\\\\\": \\\\\\\\\\\\\"PS3\\\\\\\\\\\\\"}}, \\\\\\\\\\\\\"typeProperty\\\\\\\\\\\\\": 3}, {\\\\\\\\\\\\\"column\\\\\\\\\\\\\": {\\\\\\\\\\\\\"type\\\\\\\\\\\\\": 2, \\\\\\\\\\\\\"details\\\\\\\\\\\\\": {\\\\\\\\\\\\\"selectedColumn\\\\\\\\\\\\\": \\\\\\\\\\\\\"PS4\\\\\\\\\\\\\"}}, \\\\\\\\\\\\\"typeProperty\\\\\\\\\\\\\": 3}, {\\\\\\\\\\\\\"column\\\\\\\\\\\\\": {\\\\\\\\\\\\\"type\\\\\\\\\\\\\": 2, \\\\\\\\\\\\\"details\\\\\\\\\\\\\": {\\\\\\\\\\\\\"selectedColumn\\\\\\\\\\\\\": \\\\\\\\\\\\\"PS5\\\\\\\\\\\\\"}}, \\\\\\\\\\\\\"typeProperty\\\\\\\\\\\\\": 3}, {\\\\\\\\\\\\\"column\\\\\\\\\\\\\": {\\\\\\\\\\\\\"type\\\\\\\\\\\\\": 2, \\\\\\\\\\\\\"details\\\\\\\\\\\\\": {\\\\\\\\\\\\\"selectedColumn\\\\\\\\\\\\\": \\\\\\\\\\\\\"PS6\\\\\\\\\\\\\"}}, \\\\\\\\\\\\\"typeProperty\\\\\\\\\\\\\": 3}, {\\\\\\\\\\\\\"column\\\\\\\\\\\\\": {\\\\\\\\\\\\\"type\\\\\\\\\\\\\": 2, \\\\\\\\\\\\\"details\\\\\\\\\\\\\": {\\\\\\\\\\\\\"selectedColumn\\\\\\\\\\\\\": \\\\\\\\\\\\\"FS1\\\\\\\\\\\\\"}}, \\\\\\\\\\\\\"typeProperty\\\\\\\\\\\\\": 3}, {\\\\\\\\\\\\\"column\\\\\\\\\\\\\": {\\\\\\\\\\\\\"type\\\\\\\\\\\\\": 2, \\\\\\\\\\\\\"details\\\\\\\\\\\\\": {\\\\\\\\\\\\\"selectedColumn\\\\\\\\\\\\\": \\\\\\\\\\\\\"FS2\\\\\\\\\\\\\"}}, \\\\\\\\\\\\\"typeProperty\\\\\\\\\\\\\": 3}, {\\\\\\\\\\\\\"column\\\\\\\\\\\\\": {\\\\\\\\\\\\\"type\\\\\\\\\\\\\": 2, \\\\\\\\\\\\\"details\\\\\\\\\\\\\": {\\\\\\\\\\\\\"selectedColumn\\\\\\\\\\\\\": \\\\\\\\\\\\\"TS1\\\\\\\\\\\\\"}}, \\\\\\\\\\\\\"typeProperty\\\\\\\\\\\\\": 3}, {\\\\\\\\\\\\\"column\\\\\\\\\\\\\": {\\\\\\\\\\\\\"type\\\\\\\\\\\\\": 2, \\\\\\\\\\\\\"details\\\\\\\\\\\\\": {\\\\\\\\\\\\\"selectedColumn\\\\\\\\\\\\\": \\\\\\\\\\\\\"TS2\\\\\\\\\\\\\"}}, \\\\\\\\\\\\\"typeProperty\\\\\\\\\\\\\": 3}, {\\\\\\\\\\\\\"column\\\\\\\\\\\\\": {\\\\\\\\\\\\\"type\\\\\\\\\\\\\": 2, \\\\\\\\\\\\\"details\\\\\\\\\\\\\": {\\\\\\\\\\\\\"selectedColumn\\\\\\\\\\\\\": \\\\\\\\\\\\\"TS3\\\\\\\\\\\\\"}}, \\\\\\\\\\\\\"typeProperty\\\\\\\\\\\\\": 3}, {\\\\\\\\\\\\\"column\\\\\\\\\\\\\": {\\\\\\\\\\\\\"type\\\\\\\\\\\\\": 2, \\\\\\\\\\\\\"details\\\\\\\\\\\\\": {\\\\\\\\\\\\\"selectedColumn\\\\\\\\\\\\\": \\\\\\\\\\\\\"TS4\\\\\\\\\\\\\"}}, \\\\\\\\\\\\\"typeProperty\\\\\\\\\\\\\": 3}, {\\\\\\\\\\\\\"column\\\\\\\\\\\\\": {\\\\\\\\\\\\\"type\\\\\\\\\\\\\": 2, \\\\\\\\\\\\\"details\\\\\\\\\\\\\": {\\\\\\\\\\\\\"selectedColumn\\\\\\\\\\\\\": \\\\\\\\\\\\\"P1\\\\\\\\\\\\\"}}, \\\\\\\\\\\\\"typeProperty\\\\\\\\\\\\\": 3}, {\\\\\\\\\\\\\"column\\\\\\\\\\\\\": {\\\\\\\\\\\\\"type\\\\\\\\\\\\\": 2, \\\\\\\\\\\\\"details\\\\\\\\\\\\\": {\\\\\\\\\\\\\"selectedColumn\\\\\\\\\\\\\": \\\\\\\\\\\\\"VS1\\\\\\\\\\\\\"}}, \\\\\\\\\\\\\"typeProperty\\\\\\\\\\\\\": 3}, {\\\\\\\\\\\\\"column\\\\\\\\\\\\\": {\\\\\\\\\\\\\"type\\\\\\\\\\\\\": 2, \\\\\\\\\\\\\"details\\\\\\\\\\\\\": {\\\\\\\\\\\\\"selectedColumn\\\\\\\\\\\\\": \\\\\\\\\\\\\"CE1\\\\\\\\\\\\\"}}, \\\\\\\\\\\\\"typeProperty\\\\\\\\\\\\\": 3}, {\\\\\\\\\\\\\"column\\\\\\\\\\\\\": {\\\\\\\\\\\\\"type\\\\\\\\\\\\\": 2, \\\\\\\\\\\\\"details\\\\\\\\\\\\\": {\\\\\\\\\\\\\"selectedColumn\\\\\\\\\\\\\": \\\\\\\\\\\\\"CP1\\\\\\\\\\\\\"}}, \\\\\\\\\\\\\"typeProperty\\\\\\\\\\\\\": 3}, {\\\\\\\\\\\\\"column\\\\\\\\\\\\\": {\\\\\\\\\\\\\"type\\\\\\\\\\\\\": 2, \\\\\\\\\\\\\"details\\\\\\\\\\\\\": {\\\\\\\\\\\\\"selectedColumn\\\\\\\\\\\\\": \\\\\\\\\\\\\"SE1\\\\\\\\\\\\\"}}, \\\\\\\\\\\\\"typeProperty\\\\\\\\\\\\\": 3}, {\\\\\\\\\\\\\"column\\\\\\\\\\\\\": {\\\\\\\\\\\\\"type\\\\\\\\\\\\\": 2, \\\\\\\\\\\\\"details\\\\\\\\\\\\\": {\\\\\\\\\\\\\"selectedColumn\\\\\\\\\\\\\": \\\\\\\\\\\\\"STABILITY\\\\\\\\\\\\\"}}, \\\\\\\\\\\\\"typeProperty\\\\\\\\\\\\\": 2}]}, \\\\\\\\\\\\\"localData\\\\\\\\\\\\\": {}, \\\\\\\\\\\\\"isEnabled\\\\\\\\\\\\\": true, \\\\\\\\\\\\\"name\\\\\\\\\\\\\": null, \\\\\\\\\\\\\"annotation\\\\\\\\\\\\\": null}], \\\\\\\\\\\\\"inspectors\\\\\\\\\\\\\": [], \\\\\\\\\\\\\"meta\\\\\\\\\\\\\": {\\\\\\\\\\\\\"savedDatasetId\\\\\\\\\\\\\": \\\\\\\\\\\\\"c1af66ac-d2b6-4e83-8f04-a7f611b7283d\\\\\\\\\\\\\", \\\\\\\\\\\\\"datasetType\\\\\\\\\\\\\": \\\\\\\\\\\\\"tabular\\\\\\\\\\\\\", \\\\\\\\\\\\\"subscriptionId\\\\\\\\\\\\\": \\\\\\\\\\\\\"81cefad3-d2c9-4f77-a466-99a7f541c7bb\\\\\\\\\\\\\", \\\\\\\\\\\\\"workspaceId\\\\\\\\\\\\\": \\\\\\\\\\\\\"f184e4cd-b4ca-4f07-b0ae-232f32d59abf\\\\\\\\\\\\\", \\\\\\\\\\\\\"workspaceLocation\\\\\\\\\\\\\": \\\\\\\\\\\\\"southcentralus\\\\\\\\\\\\\", \\\\\\\\\\\\\"partition_keys\\\\\\\\\\\\\": \\\\\\\\\\\\\"true\\\\\\\\\\\\\"}}\\\\\", \\\\\"activities\\\\\": 0}',\n  'EnableSubsampling': None,\n  'runTemplate': 'AutoML',\n  'azureml.runsource': 'automl',\n  'display_task_type': 'classification',\n  'dependencies_versions': '{\"azureml-widgets\": \"1.24.0\", \"azureml-train\": \"1.24.0\", \"azureml-train-restclients-hyperdrive\": \"1.24.0\", \"azureml-train-core\": \"1.24.0\", \"azureml-train-automl\": \"1.24.0\", \"azureml-train-automl-runtime\": \"1.24.0\", \"azureml-train-automl-client\": \"1.24.0\", \"azureml-tensorboard\": \"1.24.0\", \"azureml-telemetry\": \"1.24.0\", \"azureml-sdk\": \"1.24.0\", \"azureml-samples\": \"0+unknown\", \"azureml-pipeline\": \"1.24.0\", \"azureml-pipeline-steps\": \"1.24.0\", \"azureml-pipeline-core\": \"1.24.0\", \"azureml-opendatasets\": \"1.24.0\", \"azureml-model-management-sdk\": \"1.0.1b6.post1\", \"azureml-mlflow\": \"1.24.0\", \"azureml-interpret\": \"1.24.0\", \"azureml-explain-model\": \"1.24.0\", \"azureml-defaults\": \"1.24.0\", \"azureml-dataset-runtime\": \"1.24.0\", \"azureml-dataprep\": \"2.11.1\", \"azureml-dataprep-rslex\": \"1.9.0\", \"azureml-dataprep-native\": \"30.0.0\", \"azureml-datadrift\": \"1.24.0\", \"azureml-core\": \"1.24.0\", \"azureml-contrib-services\": \"1.24.0\", \"azureml-contrib-server\": \"1.24.0\", \"azureml-contrib-reinforcementlearning\": \"1.24.0\", \"azureml-contrib-pipeline-steps\": \"1.24.0\", \"azureml-contrib-notebook\": \"1.24.0\", \"azureml-contrib-gbdt\": \"1.24.0\", \"azureml-contrib-fairness\": \"1.24.0\", \"azureml-contrib-dataset\": \"1.24.0\", \"azureml-cli-common\": \"1.24.0\", \"azureml-automl-runtime\": \"1.24.0\", \"azureml-automl-dnn-nlp\": \"1.24.0\", \"azureml-automl-core\": \"1.24.0\", \"azureml-accel-models\": \"1.24.0\"}',\n  '_aml_system_scenario_identification': 'Remote.Parent',\n  'ClientType': 'SDK',\n  'environment_cpu_name': 'AzureML-AutoML',\n  'environment_cpu_label': 'prod',\n  'environment_gpu_name': 'AzureML-AutoML-GPU',\n  'environment_gpu_label': 'prod',\n  'root_attribution': 'automl',\n  'attribution': 'AutoML',\n  'Orchestrator': 'AutoML',\n  'CancelUri': 'https://southcentralus.experiments.azureml.net/jasmine/v1.0/subscriptions/81cefad3-d2c9-4f77-a466-99a7f541c7bb/resourceGroups/aml-quickstarts-141045/providers/Microsoft.MachineLearningServices/workspaces/quick-starts-ws-141045/experimentids/990832fd-1884-4cf5-a741-e272896a36e4/cancel/AutoML_44b66c17-6335-4af6-b059-70f12198038a',\n  'ClientSdkVersion': '1.24.0',\n  'snapshotId': '00000000-0000-0000-0000-000000000000',\n  'SetupRunId': 'AutoML_44b66c17-6335-4af6-b059-70f12198038a_setup',\n  'SetupRunContainerId': 'dcid.AutoML_44b66c17-6335-4af6-b059-70f12198038a_setup',\n  'FeaturizationRunJsonPath': 'featurizer_container.json',\n  'FeaturizationRunId': 'AutoML_44b66c17-6335-4af6-b059-70f12198038a_featurize',\n  'ProblemInfoJsonString': '{\"dataset_num_categorical\": 0, \"is_sparse\": false, \"subsampling\": false, \"dataset_classes\": 2, \"dataset_features\": 17, \"dataset_samples\": 2094, \"single_frequency_class_detected\": false}',\n  'ModelExplainRunId': 'AutoML_44b66c17-6335-4af6-b059-70f12198038a_ModelExplain'},\n 'inputDatasets': [{'dataset': {'id': 'c1af66ac-d2b6-4e83-8f04-a7f611b7283d'}, 'consumptionDetails': {'type': 'RunInput', 'inputName': 'training_data', 'mechanism': 'Direct'}}],\n 'outputDatasets': [],\n 'logFiles': {},\n 'submittedBy': 'ODL_User 141045'}"
          },
          "metadata": {}
        }
      ],
      "execution_count": 8,
      "metadata": {
        "gather": {
          "logged": 1616336996064
        }
      }
    },
    {
      "cell_type": "markdown",
      "source": [
        "## Best Model\n",
        "\n",
        "TODO: In the cell below, get the best model from the automl experiments and display all the properties of the model.\n",
        "\n"
      ],
      "metadata": {}
    },
    {
      "cell_type": "code",
      "source": [
        "# best run and model for automl\n",
        "best_run, fitted_model = automlmodel_run.get_output()\n",
        "\n",
        "# Print the best run\n",
        "print(best_run)\n",
        "\n",
        "# Print the fitted_model\n",
        "print(fitted_model)\n",
        "\n",
        "# All metrics of the best run\n",
        "best_run_metrics = best_run.get_metrics()\n",
        "\n",
        "# Print all metrics of the best run\n",
        "for metric_name in best_run_metrics:\n",
        "    metric = best_run_metrics[metric_name]\n",
        "    print(metric_name, metric)"
      ],
      "outputs": [
        {
          "output_type": "stream",
          "name": "stdout",
          "text": [
            "Run(Experiment: hydraulic-automl-experiment,\n",
            "Id: AutoML_44b66c17-6335-4af6-b059-70f12198038a_70,\n",
            "Type: azureml.scriptrun,\n",
            "Status: Completed)\n",
            "Pipeline(memory=None,\n",
            "         steps=[('datatransformer',\n",
            "                 DataTransformer(enable_dnn=None, enable_feature_sweeping=None,\n",
            "                                 feature_sweeping_config=None,\n",
            "                                 feature_sweeping_timeout=None,\n",
            "                                 featurization_config=None, force_text_dnn=None,\n",
            "                                 is_cross_validation=None,\n",
            "                                 is_onnx_compatible=None, logger=None,\n",
            "                                 observer=None, task=None, working_dir=None)),\n",
            "                ('prefittedsoftvotingclassifier',...\n",
            "                                                                                                objective=None,\n",
            "                                                                                                random_state=None,\n",
            "                                                                                                reg_alpha=0.5789473684210527,\n",
            "                                                                                                reg_lambda=0.894736842105263,\n",
            "                                                                                                silent=True,\n",
            "                                                                                                subsample=0.3963157894736842,\n",
            "                                                                                                subsample_for_bin=200000,\n",
            "                                                                                                subsample_freq=0,\n",
            "                                                                                                verbose=-10))],\n",
            "                                                                     verbose=False))],\n",
            "                                               flatten_transform=None,\n",
            "                                               weights=[0.5555555555555556,\n",
            "                                                        0.1111111111111111,\n",
            "                                                        0.1111111111111111,\n",
            "                                                        0.1111111111111111,\n",
            "                                                        0.1111111111111111]))],\n",
            "         verbose=False)\n",
            "recall_score_micro 0.9765998089780324\n",
            "AUC_macro 0.9882057257354392\n",
            "recall_score_macro 0.9696031488048978\n",
            "f1_score_weighted 0.9764516026952573\n",
            "balanced_accuracy 0.9696031488048978\n",
            "AUC_micro 0.9919137226569021\n",
            "precision_score_macro 0.9801460207340126\n",
            "recall_score_weighted 0.9765998089780324\n",
            "f1_score_micro 0.9765998089780324\n",
            "average_precision_score_weighted 0.9891167912792719\n",
            "log_loss 0.09226741481936336\n",
            "precision_score_micro 0.9765998089780324\n",
            "norm_macro_recall 0.9392062976097958\n",
            "weighted_accuracy 0.9826270069007096\n",
            "accuracy 0.9765998089780324\n",
            "f1_score_macro 0.974387728501608\n",
            "average_precision_score_micro 0.9916202171206828\n",
            "matthews_correlation 0.9496782277052214\n",
            "average_precision_score_macro 0.9889497264583675\n",
            "AUC_weighted 0.9882057257354394\n",
            "precision_score_weighted 0.9771461850716036\n",
            "accuracy_table aml://artifactId/ExperimentRun/dcid.AutoML_44b66c17-6335-4af6-b059-70f12198038a_70/accuracy_table\n",
            "confusion_matrix aml://artifactId/ExperimentRun/dcid.AutoML_44b66c17-6335-4af6-b059-70f12198038a_70/confusion_matrix\n"
          ]
        }
      ],
      "execution_count": 9,
      "metadata": {
        "gather": {
          "logged": 1616337019156
        },
        "jupyter": {
          "outputs_hidden": false,
          "source_hidden": false
        },
        "nteract": {
          "transient": {
            "deleting": false
          }
        }
      }
    },
    {
      "cell_type": "markdown",
      "source": [
        "## Model Deployment\n",
        "\n",
        "Remember you have to deploy only one of the two models you trained.. Perform the steps in the rest of this notebook only if you wish to deploy this model.\n",
        "\n",
        "TODO: In the cell below, register the model, create an inference config and deploy the model as a web service."
      ],
      "metadata": {}
    },
    {
      "cell_type": "code",
      "source": [
        "#TODO: Save the best model\n",
        "model = best_run.register_model(model_name='Hydraulic_BinaryClassification', model_path='outputs/model.pkl')\n",
        "print(model)"
      ],
      "outputs": [
        {
          "output_type": "stream",
          "name": "stdout",
          "text": [
            "Model(workspace=Workspace.create(name='quick-starts-ws-141045', subscription_id='81cefad3-d2c9-4f77-a466-99a7f541c7bb', resource_group='aml-quickstarts-141045'), name=Hydraulic_BinaryClassification, id=Hydraulic_BinaryClassification:1, version=1, tags={}, properties={})\n"
          ]
        }
      ],
      "execution_count": 10,
      "metadata": {
        "gather": {
          "logged": 1616337122311
        }
      }
    },
    {
      "cell_type": "code",
      "source": [
        "best_run.download_file('./outputs/model.pkl', output_file_path='./outputs')"
      ],
      "outputs": [],
      "execution_count": 11,
      "metadata": {
        "gather": {
          "logged": 1616337126662
        },
        "jupyter": {
          "outputs_hidden": false,
          "source_hidden": false
        },
        "nteract": {
          "transient": {
            "deleting": false
          }
        }
      }
    },
    {
      "cell_type": "code",
      "source": [
        "from azureml.automl.core.shared import constants\n",
        "best_run.download_file(constants.CONDA_ENV_FILE_PATH, 'automl_env.yml')"
      ],
      "outputs": [],
      "execution_count": 12,
      "metadata": {
        "gather": {
          "logged": 1616337131716
        }
      }
    },
    {
      "cell_type": "code",
      "source": [
        "# set InferenceConfig\n",
        "from azureml.core.environment import Environment\n",
        "from azureml.core.model import InferenceConfig\n",
        "\n",
        "inference_config = InferenceConfig(entry_script='./score.py',\n",
        "                                    environment=best_run.get_environment())"
      ],
      "outputs": [],
      "execution_count": 13,
      "metadata": {
        "gather": {
          "logged": 1616337134530
        },
        "jupyter": {
          "outputs_hidden": false,
          "source_hidden": false
        },
        "nteract": {
          "transient": {
            "deleting": false
          }
        }
      }
    },
    {
      "cell_type": "code",
      "source": [
        "# deploy the model\n",
        "from azureml.core import Model\n",
        "from azureml.core.webservice import AciWebservice\n",
        "\n",
        "deployment_config = AciWebservice.deploy_configuration(cpu_cores = 2, memory_gb = 1)\n",
        "service = Model.deploy(workspace=ws, name=\"automlservice\", models=[model], inference_config=inference_config, deployment_config=deployment_config)\n",
        "service.wait_for_deployment(show_output = True)\n",
        "print(service.state)\n",
        "print(service.scoring_uri)"
      ],
      "outputs": [
        {
          "output_type": "stream",
          "name": "stdout",
          "text": [
            "Tips: You can try get_logs(): https://aka.ms/debugimage#dockerlog or local deployment: https://aka.ms/debugimage#debug-locally to debug if deployment takes longer than 10 minutes.\n",
            "Running\n",
            "2021-03-21 14:32:17+00:00 Creating Container Registry if not exists.\n",
            "2021-03-21 14:32:17+00:00 Registering the environment.\n",
            "2021-03-21 14:32:19+00:00 Use the existing image.\n",
            "2021-03-21 14:32:19+00:00 Generating deployment configuration.\n",
            "2021-03-21 14:32:21+00:00 Submitting deployment to compute..\n",
            "2021-03-21 14:32:25+00:00 Checking the status of deployment automlservice..\n",
            "2021-03-21 14:37:28+00:00 Checking the status of inference endpoint automlservice.\n",
            "Succeeded\n",
            "ACI service creation operation finished, operation \"Succeeded\"\n",
            "Healthy\n",
            "http://b4d895f0-87b3-4fa8-8641-cf6145a53c59.southcentralus.azurecontainer.io/score\n"
          ]
        }
      ],
      "execution_count": 14,
      "metadata": {
        "gather": {
          "logged": 1616337450472
        }
      }
    },
    {
      "cell_type": "markdown",
      "source": [
        "TODO: In the cell below, send a request to the web service you deployed to test it."
      ],
      "metadata": {
        "collapsed": true,
        "gather": {
          "logged": 1598431657736
        },
        "jupyter": {
          "outputs_hidden": false,
          "source_hidden": false
        },
        "nteract": {
          "transient": {
            "deleting": false
          }
        }
      }
    },
    {
      "cell_type": "code",
      "source": [
        "import requests\n",
        "import json\n",
        "\n",
        "scoring_uri = service.scoring_uri\n",
        "\n",
        "# Two sets of data to score, so we get two results back\n",
        "\n",
        "data={\"data\":[{\"PS1\":160.4238,\"PS2\":109.0127997, \"PS3\":1.915241667,\"PS4\":10.12332283,\"PS5\":9.893727333,\"PS6\":9.775847667,\"FS1\":6.400326667,\"FS2\":10.15790333,\"TS1\":35.85008333,\"TS2\":41.44178333,\"TS3\":38.78375,\"TS4\":30.89755,\"P1\":2562.285033,\"VS1\":0.5509,\"CE1\":46.97875,\"CP1\":2.157516667,\"SE1\":55.78435}]}\n",
        "\n",
        "# Convert to JSON string\n",
        "input_data = json.dumps(data)\n",
        "with open(\"data.json\", \"w\") as _f:\n",
        "    _f.write(input_data)\n",
        "\n",
        "# Set the content type\n",
        "headers = {'Content-Type': 'application/json'}\n",
        "\n",
        "# Make the request and display the response\n",
        "resp = requests.post(scoring_uri, input_data, headers=headers)\n",
        "print(resp)"
      ],
      "outputs": [
        {
          "output_type": "stream",
          "name": "stdout",
          "text": [
            "<Response [200]>\n"
          ]
        }
      ],
      "execution_count": 21,
      "metadata": {
        "gather": {
          "logged": 1616337804700
        }
      }
    },
    {
      "cell_type": "markdown",
      "source": [
        "TODO: In the cell below, print the logs of the web service and delete the service"
      ],
      "metadata": {
        "collapsed": true,
        "gather": {
          "logged": 1598432765711
        },
        "jupyter": {
          "outputs_hidden": false,
          "source_hidden": false
        },
        "nteract": {
          "transient": {
            "deleting": false
          }
        }
      }
    },
    {
      "cell_type": "code",
      "source": [
        "# print service logs\n",
        "print(service.get_logs())"
      ],
      "outputs": [
        {
          "output_type": "stream",
          "name": "stdout",
          "text": [
            "2021-03-21T14:37:14,838119866+00:00 - iot-server/run \n",
            "2021-03-21T14:37:14,839753783+00:00 - rsyslog/run \n",
            "2021-03-21T14:37:14,840676493+00:00 - nginx/run \n",
            "/usr/sbin/nginx: /azureml-envs/azureml_2b14f450572e78de640d54eaabed5e4d/lib/libcrypto.so.1.0.0: no version information available (required by /usr/sbin/nginx)\n",
            "/usr/sbin/nginx: /azureml-envs/azureml_2b14f450572e78de640d54eaabed5e4d/lib/libcrypto.so.1.0.0: no version information available (required by /usr/sbin/nginx)\n",
            "/usr/sbin/nginx: /azureml-envs/azureml_2b14f450572e78de640d54eaabed5e4d/lib/libssl.so.1.0.0: no version information available (required by /usr/sbin/nginx)\n",
            "/usr/sbin/nginx: /azureml-envs/azureml_2b14f450572e78de640d54eaabed5e4d/lib/libssl.so.1.0.0: no version information available (required by /usr/sbin/nginx)\n",
            "/usr/sbin/nginx: /azureml-envs/azureml_2b14f450572e78de640d54eaabed5e4d/lib/libssl.so.1.0.0: no version information available (required by /usr/sbin/nginx)\n",
            "2021-03-21T14:37:14,843487723+00:00 - gunicorn/run \n",
            "rsyslogd: /azureml-envs/azureml_2b14f450572e78de640d54eaabed5e4d/lib/libuuid.so.1: no version information available (required by rsyslogd)\n",
            "EdgeHubConnectionString and IOTEDGE_IOTHUBHOSTNAME are not set. Exiting...\n",
            "2021-03-21T14:37:14,940269452+00:00 - iot-server/finish 1 0\n",
            "2021-03-21T14:37:14,941679167+00:00 - Exit code 1 is normal. Not restarting iot-server.\n",
            "Starting gunicorn 19.9.0\n",
            "Listening at: http://127.0.0.1:31311 (14)\n",
            "Using worker: sync\n",
            "worker timeout is set to 300\n",
            "Booting worker with pid: 43\n",
            "SPARK_HOME not set. Skipping PySpark Initialization.\n",
            "Initializing logger\n",
            "2021-03-21 14:37:15,471 | root | INFO | Starting up app insights client\n",
            "2021-03-21 14:37:15,471 | root | INFO | Starting up request id generator\n",
            "2021-03-21 14:37:15,471 | root | INFO | Starting up app insight hooks\n",
            "2021-03-21 14:37:15,471 | root | INFO | Invoking user's init function\n",
            "Generating new fontManager, this may take some time...\n",
            "2021-03-21 14:37:20,109 | azureml.core | WARNING | Failure while loading azureml_run_type_providers. Failed to load entrypoint automl = azureml.train.automl.run:AutoMLRun._from_run_dto with exception (cryptography 3.2 (/azureml-envs/azureml_2b14f450572e78de640d54eaabed5e4d/lib/python3.6/site-packages), Requirement.parse('cryptography<4.0.0,>=3.3.1; extra == \"crypto\"'), {'PyJWT'}).\n",
            "Failure while loading azureml_run_type_providers. Failed to load entrypoint automl = azureml.train.automl.run:AutoMLRun._from_run_dto with exception (cryptography 3.2 (/azureml-envs/azureml_2b14f450572e78de640d54eaabed5e4d/lib/python3.6/site-packages), Requirement.parse('cryptography<4.0.0,>=3.3.1; extra == \"crypto\"'), {'PyJWT'}).\n",
            "2021-03-21 14:37:20,385 | root | INFO | Users's init has completed successfully\n",
            "2021-03-21 14:37:20,388 | root | INFO | Skipping middleware: dbg_model_info as it's not enabled.\n",
            "2021-03-21 14:37:20,389 | root | INFO | Skipping middleware: dbg_resource_usage as it's not enabled.\n",
            "2021-03-21 14:37:20,390 | root | INFO | Scoring timeout is found from os.environ: 60000 ms\n",
            "2021-03-21 14:37:28,946 | root | INFO | Swagger file not present\n",
            "2021-03-21 14:37:28,947 | root | INFO | 404\n",
            "127.0.0.1 - - [21/Mar/2021:14:37:28 +0000] \"GET /swagger.json HTTP/1.0\" 404 19 \"-\" \"Go-http-client/1.1\"\n",
            "2021-03-21 14:37:29,975 | root | INFO | Swagger file not present\n",
            "2021-03-21 14:37:29,976 | root | INFO | 404\n",
            "127.0.0.1 - - [21/Mar/2021:14:37:29 +0000] \"GET /swagger.json HTTP/1.0\" 404 19 \"-\" \"Go-http-client/1.1\"\n",
            "2021-03-21 14:40:05,460 | root | INFO | Swagger file not present\n",
            "2021-03-21 14:40:05,460 | root | INFO | 404\n",
            "127.0.0.1 - - [21/Mar/2021:14:40:05 +0000] \"GET /swagger.json HTTP/1.0\" 404 19 \"-\" \"Go-http-client/1.1\"\n",
            "2021-03-21 14:41:01,813 | root | INFO | Validation Request Content-Type\n",
            "2021-03-21 14:41:01,813 | root | INFO | Scoring Timer is set to 60.0 seconds\n",
            "2021-03-21 14:41:01,814 | root | INFO | 200\n",
            "127.0.0.1 - - [21/Mar/2021:14:41:01 +0000] \"POST /score HTTP/1.0\" 200 21 \"-\" \"python-requests/2.25.1\"\n",
            "2021-03-21 14:41:17,877 | root | INFO | Validation Request Content-Type\n",
            "2021-03-21 14:41:17,877 | root | INFO | Scoring Timer is set to 60.0 seconds\n",
            "2021-03-21 14:41:17,878 | root | INFO | 200\n",
            "127.0.0.1 - - [21/Mar/2021:14:41:17 +0000] \"POST /score HTTP/1.0\" 200 21 \"-\" \"python-requests/2.25.1\"\n",
            "\n"
          ]
        }
      ],
      "execution_count": 20,
      "metadata": {
        "gather": {
          "logged": 1616337714691
        }
      }
    },
    {
      "cell_type": "markdown",
      "source": [
        "<h2>Convert Model to ONNX</h2>"
      ],
      "metadata": {
        "nteract": {
          "transient": {
            "deleting": false
          }
        }
      }
    },
    {
      "cell_type": "code",
      "source": [
        "best_run, onnx_model = automlmodel_run.get_output(return_onnx_model=True)"
      ],
      "outputs": [],
      "execution_count": 22,
      "metadata": {
        "gather": {
          "logged": 1616338013557
        }
      }
    },
    {
      "cell_type": "code",
      "source": [
        "# save the best ONNX model\n",
        "from azureml.automl.runtime.onnx_convert import OnnxConverter\n",
        "onnx_file_path = \"./automl_onnx_model.onnx\"\n",
        "OnnxConverter.save_onnx_model(onnx_model, onnx_file_path)"
      ],
      "outputs": [],
      "execution_count": 23,
      "metadata": {
        "gather": {
          "logged": 1616338013774
        }
      }
    },
    {
      "cell_type": "code",
      "source": [],
      "outputs": [],
      "execution_count": null,
      "metadata": {
        "collapsed": true,
        "jupyter": {
          "outputs_hidden": false,
          "source_hidden": false
        },
        "nteract": {
          "transient": {
            "deleting": false
          }
        }
      }
    },
    {
      "cell_type": "code",
      "source": [
        "# delete the service \n",
        "service.delete()"
      ],
      "outputs": [],
      "execution_count": 24,
      "metadata": {
        "gather": {
          "logged": 1616338184805
        }
      }
    },
    {
      "cell_type": "code",
      "source": [
        "# delete the compute target\n",
        "compute_target.delete()"
      ],
      "outputs": [],
      "execution_count": 25,
      "metadata": {
        "gather": {
          "logged": 1616338186364
        },
        "jupyter": {
          "outputs_hidden": false,
          "source_hidden": false
        },
        "nteract": {
          "transient": {
            "deleting": false
          }
        }
      }
    }
  ],
  "metadata": {
    "kernel_info": {
      "name": "python3"
    },
    "kernelspec": {
      "name": "python3",
      "language": "python",
      "display_name": "Python 3"
    },
    "language_info": {
      "name": "python",
      "version": "3.6.9",
      "mimetype": "text/x-python",
      "codemirror_mode": {
        "name": "ipython",
        "version": 3
      },
      "pygments_lexer": "ipython3",
      "nbconvert_exporter": "python",
      "file_extension": ".py"
    },
    "microsoft": {
      "host": {
        "AzureML": {
          "notebookHasBeenCompleted": true
        }
      }
    },
    "nteract": {
      "version": "nteract-front-end@1.0.0"
    }
  },
  "nbformat": 4,
  "nbformat_minor": 2
}