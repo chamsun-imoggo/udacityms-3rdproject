{
  "cells": [
    {
      "cell_type": "markdown",
      "source": [
        "# Automated ML\n",
        "\n",
        "TODO: Import Dependencies. In the cell below, import all the dependencies that you will need to complete the project."
      ],
      "metadata": {}
    },
    {
      "cell_type": "code",
      "source": [
        "import logging\n",
        "import os\n",
        "import csv\n",
        "\n",
        "from matplotlib import pyplot as plt\n",
        "import numpy as np\n",
        "import pandas as pd\n",
        "from sklearn import datasets\n",
        "import pkg_resources\n",
        "\n",
        "import azureml.core\n",
        "from azureml.core.experiment import Experiment\n",
        "from azureml.core.workspace import Workspace\n",
        "from azureml.train.automl import AutoMLConfig\n",
        "from azureml.core.dataset import Dataset\n",
        "\n",
        "from azureml.pipeline.steps import AutoMLStep\n",
        "\n",
        "# Check core SDK version number\n",
        "print(\"SDK version:\", azureml.core.VERSION)"
      ],
      "outputs": [
        {
          "output_type": "stream",
          "name": "stdout",
          "text": [
            "SDK version: 1.22.0\n"
          ]
        }
      ],
      "execution_count": 1,
      "metadata": {
        "gather": {
          "logged": 1615468053742
        },
        "jupyter": {
          "outputs_hidden": false,
          "source_hidden": false
        },
        "nteract": {
          "transient": {
            "deleting": false
          }
        }
      }
    },
    {
      "cell_type": "markdown",
      "source": [
        "## Dataset\n",
        "\n",
        "### Overview\n",
        "TODO: In this markdown cell, give an overview of the dataset you are using. Also mention the task you will be performing.\n",
        "\n",
        "\n",
        "TODO: Get data. In the cell below, write code to access the data you will be using in this project. Remember that the dataset needs to be external."
      ],
      "metadata": {}
    },
    {
      "cell_type": "code",
      "source": [
        "ws = Workspace.from_config()\n",
        "\n",
        "\n",
        "# Choose a name for the run history container in the workspace.\n",
        "# NOTE: update these to match your existing experiment name\n",
        "experiment_name = 'hydraulic-automl-experiment'\n",
        "project_folder = './pipeline-project'\n",
        "\n",
        "experiment = Experiment(ws, experiment_name)\n",
        "experiment"
      ],
      "outputs": [
        {
          "output_type": "stream",
          "name": "stdout",
          "text": [
            "Performing interactive authentication. Please follow the instructions on the terminal.\n",
            "To sign in, use a web browser to open the page https://microsoft.com/devicelogin and enter the code RDYFKWTXS to authenticate.\n",
            "You have logged in. Now let us find all the subscriptions to which you have access...\n",
            "Interactive authentication successfully completed.\n"
          ]
        },
        {
          "output_type": "execute_result",
          "execution_count": 2,
          "data": {
            "text/plain": "Experiment(Name: hydraulic-automl-experiment,\nWorkspace: quick-starts-ws-140211)",
            "text/html": "<table style=\"width:100%\"><tr><th>Name</th><th>Workspace</th><th>Report Page</th><th>Docs Page</th></tr><tr><td>hydraulic-automl-experiment</td><td>quick-starts-ws-140211</td><td><a href=\"https://ml.azure.com/experiments/hydraulic-automl-experiment?wsid=/subscriptions/2c48c51c-bd47-40d4-abbe-fb8eabd19c8c/resourcegroups/aml-quickstarts-140211/workspaces/quick-starts-ws-140211\" target=\"_blank\" rel=\"noopener\">Link to Azure Machine Learning studio</a></td><td><a href=\"https://docs.microsoft.com/en-us/python/api/azureml-core/azureml.core.experiment.Experiment?view=azure-ml-py\" target=\"_blank\" rel=\"noopener\">Link to Documentation</a></td></tr></table>"
          },
          "metadata": {}
        }
      ],
      "execution_count": 2,
      "metadata": {
        "gather": {
          "logged": 1615468087524
        },
        "jupyter": {
          "outputs_hidden": false,
          "source_hidden": false
        },
        "nteract": {
          "transient": {
            "deleting": false
          }
        }
      }
    },
    {
      "cell_type": "code",
      "source": [
        "# get the data\n",
        "# Try to load the dataset from the Workspace. Otherwise, create it from the file\n",
        "# NOTE: update the key to match the dataset name\n",
        "# Data Source : https://archive.ics.uci.edu/ml/datasets/Condition+monitoring+of+hydraulic+systems\n",
        "found = False\n",
        "key = \"Hydraulic Systems Data\"\n",
        "description_text = \"Condition monitoring of hydraulic systems Data Set\"\n",
        "\n",
        "if key in ws.datasets.keys(): \n",
        "        found = True\n",
        "        dataset = ws.datasets[key] \n",
        "\n",
        "if not found:\n",
        "        # Create AML Dataset and register it into Workspace\n",
        "        example_data = 'https://raw.githubusercontent.com/chamsun-imoggo/udacityms-3rdproject/main/data/hydraulic_systems_training.csv'\n",
        "        dataset = Dataset.Tabular.from_delimited_files(example_data)        \n",
        "        #Register Dataset in Workspace\n",
        "        dataset = dataset.register(workspace=ws,\n",
        "                                   name=key,\n",
        "                                   description=description_text)\n",
        "\n",
        "\n",
        "df = dataset.to_pandas_dataframe()\n",
        "df.describe()"
      ],
      "outputs": [
        {
          "output_type": "execute_result",
          "execution_count": 3,
          "data": {
            "text/plain": "               PS1          PS2          PS3          PS4          PS5  \\\ncount  2094.000000  2094.000000  2094.000000  2094.000000  2094.000000   \nmean    160.461089   109.383521     1.742380     2.199789     9.122855   \nstd       4.820589     5.116599     0.253804     4.012051     0.563162   \nmin     155.391547   104.406307     0.840252     0.000000     8.365801   \n25%     157.986015   106.913668     1.727014     0.000000     8.535713   \n50%     158.845991   107.607607     1.766360     0.000000     9.066202   \n75%     160.983205   109.415065     1.923863     1.266499     9.835300   \nmax     180.922708   131.589089     2.023398    10.182837     9.976781   \n\n               PS6          FS1          FS2          TS1          TS2  \\\ncount  2094.000000  2094.000000  2094.000000  2094.000000  2094.000000   \nmean      9.040759     6.179498     9.621939    45.945370    50.850958   \nstd       0.537043     1.056177     0.444382     7.865514     7.275285   \nmin       8.321527     2.018572     8.857513    35.384333    40.978767   \n25%       8.478621     6.379040     9.197996    36.309758    41.923621   \n50%       8.985830     6.579164     9.668634    45.556025    50.500100   \n75%       9.720552     6.655778    10.146995    54.193537    58.723546   \nmax       9.856591     6.722707    10.403098    57.899283    61.958467   \n\n               TS3          TS4           P1          VS1          CE1  \\\ncount  2094.000000  2094.000000  2094.000000  2094.000000  2094.000000   \nmean     48.145850    41.270196  2492.650573     0.616699    30.479281   \nstd       7.336484     7.971456    74.670327     0.059958    11.301936   \nmin      38.340283    30.470550  2361.747267     0.524367    17.555983   \n25%      39.204996    31.341463  2441.167950     0.560175    20.032158   \n50%      47.766750    41.061425  2475.461567     0.612275    27.314450   \n75%      55.751542    49.492954  2547.338367     0.653071    46.610821   \nmax      59.423167    53.060417  2740.641000     0.839067    47.903667   \n\n               CP1          SE1    STABILITY  \ncount  2094.000000  2094.000000  2094.000000  \nmean      1.789732    55.173831     0.360076  \nstd       0.273144     9.175962     0.480137  \nmin       1.062150    18.276617     0.000000  \n25%       1.545979    56.276721     0.000000  \n50%       1.734800    58.797425     0.000000  \n75%       2.140912    59.687908     1.000000  \nmax       2.840100    60.755300     1.000000  ",
            "text/html": "<div>\n<style scoped>\n    .dataframe tbody tr th:only-of-type {\n        vertical-align: middle;\n    }\n\n    .dataframe tbody tr th {\n        vertical-align: top;\n    }\n\n    .dataframe thead th {\n        text-align: right;\n    }\n</style>\n<table border=\"1\" class=\"dataframe\">\n  <thead>\n    <tr style=\"text-align: right;\">\n      <th></th>\n      <th>PS1</th>\n      <th>PS2</th>\n      <th>PS3</th>\n      <th>PS4</th>\n      <th>PS5</th>\n      <th>PS6</th>\n      <th>FS1</th>\n      <th>FS2</th>\n      <th>TS1</th>\n      <th>TS2</th>\n      <th>TS3</th>\n      <th>TS4</th>\n      <th>P1</th>\n      <th>VS1</th>\n      <th>CE1</th>\n      <th>CP1</th>\n      <th>SE1</th>\n      <th>STABILITY</th>\n    </tr>\n  </thead>\n  <tbody>\n    <tr>\n      <th>count</th>\n      <td>2094.000000</td>\n      <td>2094.000000</td>\n      <td>2094.000000</td>\n      <td>2094.000000</td>\n      <td>2094.000000</td>\n      <td>2094.000000</td>\n      <td>2094.000000</td>\n      <td>2094.000000</td>\n      <td>2094.000000</td>\n      <td>2094.000000</td>\n      <td>2094.000000</td>\n      <td>2094.000000</td>\n      <td>2094.000000</td>\n      <td>2094.000000</td>\n      <td>2094.000000</td>\n      <td>2094.000000</td>\n      <td>2094.000000</td>\n      <td>2094.000000</td>\n    </tr>\n    <tr>\n      <th>mean</th>\n      <td>160.461089</td>\n      <td>109.383521</td>\n      <td>1.742380</td>\n      <td>2.199789</td>\n      <td>9.122855</td>\n      <td>9.040759</td>\n      <td>6.179498</td>\n      <td>9.621939</td>\n      <td>45.945370</td>\n      <td>50.850958</td>\n      <td>48.145850</td>\n      <td>41.270196</td>\n      <td>2492.650573</td>\n      <td>0.616699</td>\n      <td>30.479281</td>\n      <td>1.789732</td>\n      <td>55.173831</td>\n      <td>0.360076</td>\n    </tr>\n    <tr>\n      <th>std</th>\n      <td>4.820589</td>\n      <td>5.116599</td>\n      <td>0.253804</td>\n      <td>4.012051</td>\n      <td>0.563162</td>\n      <td>0.537043</td>\n      <td>1.056177</td>\n      <td>0.444382</td>\n      <td>7.865514</td>\n      <td>7.275285</td>\n      <td>7.336484</td>\n      <td>7.971456</td>\n      <td>74.670327</td>\n      <td>0.059958</td>\n      <td>11.301936</td>\n      <td>0.273144</td>\n      <td>9.175962</td>\n      <td>0.480137</td>\n    </tr>\n    <tr>\n      <th>min</th>\n      <td>155.391547</td>\n      <td>104.406307</td>\n      <td>0.840252</td>\n      <td>0.000000</td>\n      <td>8.365801</td>\n      <td>8.321527</td>\n      <td>2.018572</td>\n      <td>8.857513</td>\n      <td>35.384333</td>\n      <td>40.978767</td>\n      <td>38.340283</td>\n      <td>30.470550</td>\n      <td>2361.747267</td>\n      <td>0.524367</td>\n      <td>17.555983</td>\n      <td>1.062150</td>\n      <td>18.276617</td>\n      <td>0.000000</td>\n    </tr>\n    <tr>\n      <th>25%</th>\n      <td>157.986015</td>\n      <td>106.913668</td>\n      <td>1.727014</td>\n      <td>0.000000</td>\n      <td>8.535713</td>\n      <td>8.478621</td>\n      <td>6.379040</td>\n      <td>9.197996</td>\n      <td>36.309758</td>\n      <td>41.923621</td>\n      <td>39.204996</td>\n      <td>31.341463</td>\n      <td>2441.167950</td>\n      <td>0.560175</td>\n      <td>20.032158</td>\n      <td>1.545979</td>\n      <td>56.276721</td>\n      <td>0.000000</td>\n    </tr>\n    <tr>\n      <th>50%</th>\n      <td>158.845991</td>\n      <td>107.607607</td>\n      <td>1.766360</td>\n      <td>0.000000</td>\n      <td>9.066202</td>\n      <td>8.985830</td>\n      <td>6.579164</td>\n      <td>9.668634</td>\n      <td>45.556025</td>\n      <td>50.500100</td>\n      <td>47.766750</td>\n      <td>41.061425</td>\n      <td>2475.461567</td>\n      <td>0.612275</td>\n      <td>27.314450</td>\n      <td>1.734800</td>\n      <td>58.797425</td>\n      <td>0.000000</td>\n    </tr>\n    <tr>\n      <th>75%</th>\n      <td>160.983205</td>\n      <td>109.415065</td>\n      <td>1.923863</td>\n      <td>1.266499</td>\n      <td>9.835300</td>\n      <td>9.720552</td>\n      <td>6.655778</td>\n      <td>10.146995</td>\n      <td>54.193537</td>\n      <td>58.723546</td>\n      <td>55.751542</td>\n      <td>49.492954</td>\n      <td>2547.338367</td>\n      <td>0.653071</td>\n      <td>46.610821</td>\n      <td>2.140912</td>\n      <td>59.687908</td>\n      <td>1.000000</td>\n    </tr>\n    <tr>\n      <th>max</th>\n      <td>180.922708</td>\n      <td>131.589089</td>\n      <td>2.023398</td>\n      <td>10.182837</td>\n      <td>9.976781</td>\n      <td>9.856591</td>\n      <td>6.722707</td>\n      <td>10.403098</td>\n      <td>57.899283</td>\n      <td>61.958467</td>\n      <td>59.423167</td>\n      <td>53.060417</td>\n      <td>2740.641000</td>\n      <td>0.839067</td>\n      <td>47.903667</td>\n      <td>2.840100</td>\n      <td>60.755300</td>\n      <td>1.000000</td>\n    </tr>\n  </tbody>\n</table>\n</div>"
          },
          "metadata": {}
        }
      ],
      "execution_count": 3,
      "metadata": {
        "gather": {
          "logged": 1615468974811
        }
      }
    },
    {
      "cell_type": "markdown",
      "source": [
        "## AutoML Configuration\n",
        "\n",
        "TODO: Explain why you chose the automl settings and cofiguration you used below."
      ],
      "metadata": {}
    },
    {
      "cell_type": "code",
      "source": [
        "from azureml.core.compute import AmlCompute\n",
        "from azureml.core.compute import ComputeTarget\n",
        "from azureml.core.compute_target import ComputeTargetException\n",
        "\n",
        "# NOTE: update the cluster name to match the existing cluster\n",
        "# Choose a name for your CPU cluster\n",
        "amlcompute_cluster_name = \"compute-ml\"\n",
        "\n",
        "# Verify that cluster does not exist already\n",
        "try:\n",
        "    compute_target = ComputeTarget(ws, amlcompute_cluster_name)\n",
        "    print(f\"{compute_name} exists already\")\n",
        "except:\n",
        "    compute_config = AmlCompute.provisioning_configuration(vm_size=\"Standard_DS14_v2\", max_nodes=10)\n",
        "    compute_target = ComputeTarget.create(ws, amlcompute_cluster_name, compute_config)\n",
        "compute_target.wait_for_completion(show_output=True)"
      ],
      "outputs": [
        {
          "output_type": "stream",
          "name": "stdout",
          "text": [
            "Creating\n",
            "Succeeded\n",
            "AmlCompute wait for completion finished\n",
            "\n",
            "Minimum number of nodes requested have been provisioned\n"
          ]
        }
      ],
      "execution_count": 4,
      "metadata": {
        "gather": {
          "logged": 1615468991002
        }
      }
    },
    {
      "cell_type": "code",
      "source": [
        "# TODO: Put your automl settings here\n",
        "automl_settings = {\n",
        "    \"experiment_timeout_minutes\": 60,\n",
        "    \"max_concurrent_iterations\": 20,\n",
        "    \"primary_metric\" : 'accuracy'\n",
        "}\n",
        "\n",
        "# TODO: Put your automl config here\n",
        "automl_config = AutoMLConfig(compute_target=compute_target,\n",
        "                             task = \"classification\",\n",
        "                             training_data=dataset,\n",
        "                             label_column_name=\"STABILITY\",\n",
        "                             blocked_models=['XGBoostClassifier'],\n",
        "                             path = project_folder,\n",
        "                             enable_early_stopping= True,\n",
        "                             featurization= 'auto',\n",
        "                             debug_log = \"automl_errors.log\",\n",
        "                             enable_onnx_compatible_models=True,\n",
        "                             **automl_settings\n",
        "                            )\n"
      ],
      "outputs": [],
      "execution_count": 5,
      "metadata": {
        "gather": {
          "logged": 1615468991255
        },
        "jupyter": {
          "outputs_hidden": false,
          "source_hidden": false
        },
        "nteract": {
          "transient": {
            "deleting": false
          }
        }
      }
    },
    {
      "cell_type": "code",
      "source": [
        "# TODO: Submit your experiment\n",
        "automlmodel_run = experiment.submit(automl_config, show_output=True)"
      ],
      "outputs": [
        {
          "output_type": "stream",
          "name": "stdout",
          "text": [
            "Running on remote.\n",
            "No run_configuration provided, running on compute-ml with default configuration\n",
            "Running on remote compute: compute-ml\n",
            "Parent Run ID: AutoML_e0f61e9d-13be-43f8-87d6-3fd241473e27\n",
            "\n",
            "Current status: FeaturesGeneration. Generating features for the dataset.\n",
            "Current status: ModelSelection. Beginning model selection.\n",
            "\n",
            "****************************************************************************************************\n",
            "DATA GUARDRAILS: \n",
            "\n",
            "TYPE:         Cross validation\n",
            "STATUS:       DONE\n",
            "DESCRIPTION:  Each iteration of the trained model was validated through cross-validation.\n",
            "              \n",
            "DETAILS:      \n",
            "+---------------------------------+\n",
            "|Number of folds                  |\n",
            "+=================================+\n",
            "|3                                |\n",
            "+---------------------------------+\n",
            "\n",
            "****************************************************************************************************\n",
            "\n",
            "TYPE:         Class balancing detection\n",
            "STATUS:       PASSED\n",
            "DESCRIPTION:  Your inputs were analyzed, and all classes are balanced in your training data.\n",
            "              Learn more about imbalanced data: https://aka.ms/AutomatedMLImbalancedData\n",
            "\n",
            "****************************************************************************************************\n",
            "\n",
            "TYPE:         Missing feature values imputation\n",
            "STATUS:       PASSED\n",
            "DESCRIPTION:  No feature missing values were detected in the training data.\n",
            "              Learn more about missing value imputation: https://aka.ms/AutomatedMLFeaturization\n",
            "\n",
            "****************************************************************************************************\n",
            "\n",
            "TYPE:         High cardinality feature detection\n",
            "STATUS:       PASSED\n",
            "DESCRIPTION:  Your inputs were analyzed, and no high cardinality features were detected.\n",
            "              Learn more about high cardinality feature handling: https://aka.ms/AutomatedMLFeaturization\n",
            "\n",
            "****************************************************************************************************\n",
            "\n",
            "****************************************************************************************************\n",
            "ITERATION: The iteration being evaluated.\n",
            "PIPELINE: A summary description of the pipeline being evaluated.\n",
            "DURATION: Time taken for the current iteration.\n",
            "METRIC: The result of computing score on the fitted pipeline.\n",
            "BEST: The best observed score thus far.\n",
            "****************************************************************************************************\n",
            "\n",
            " ITERATION   PIPELINE                                       DURATION      METRIC      BEST\n",
            "        19   MinMaxScaler LightGBM                          0:00:50       0.9413    0.9413\n",
            "        13   StandardScalerWrapper LightGBM                 0:00:47       0.9556    0.9556\n",
            "        15   StandardScalerWrapper LogisticRegression       0:00:55       0.9308    0.9556\n",
            "         0   MaxAbsScaler LightGBM                          0:00:56       0.9761    0.9761\n",
            "        11   StandardScalerWrapper LightGBM                 0:00:46       0.9542    0.9761\n",
            "        16   SparseNormalizer LightGBM                      0:01:43       0.9551    0.9761\n",
            "        17   RobustScaler KNN                               0:01:38       0.9451    0.9761\n",
            "        18   StandardScalerWrapper LogisticRegression       0:01:36       0.9193    0.9761\n",
            "         2   MinMaxScaler RandomForest                      0:01:38       0.9327    0.9761\n",
            "         8   MaxAbsScaler LogisticRegression                0:01:44       0.6691    0.9761\n",
            "        14   MinMaxScaler LightGBM                          0:01:39       0.9608    0.9761\n",
            "         4   MinMaxScaler RandomForest                      0:01:38       0.8840    0.9761\n",
            "         6   MinMaxScaler LogisticRegression                0:01:44       0.8491    0.9761\n",
            "         7   TruncatedSVDWrapper GradientBoosting           0:01:52       0.9594    0.9761\n",
            "         5   MaxAbsScaler RandomForest                      0:00:45       0.9460    0.9761\n",
            "         1   MinMaxScaler RandomForest                      0:00:47       0.9436    0.9761\n",
            "        10   MinMaxScaler RandomForest                      0:00:47       0.9260    0.9761\n",
            "        12   StandardScalerWrapper LightGBM                 0:00:46       0.9594    0.9761\n",
            "        20   RobustScaler RandomForest                      0:00:41       0.9408    0.9761\n",
            "        21   MinMaxScaler LogisticRegression                0:00:54       0.8649    0.9761\n",
            "        23   MaxAbsScaler LightGBM                          0:00:50       0.9427    0.9761\n",
            "         3   MinMaxScaler RandomForest                      0:00:46       0.9604    0.9761\n",
            "         9   StandardScalerWrapper KNN                      0:00:46       0.9580    0.9761\n",
            "        22   StandardScalerWrapper GradientBoosting         0:00:55       0.9155    0.9761\n",
            "        24   RobustScaler RandomForest                      0:00:53       0.9527    0.9761\n",
            "        27   MinMaxScaler LightGBM                          0:00:51       0.9436    0.9761\n",
            "        30   MaxAbsScaler LightGBM                          0:00:46       0.9508    0.9761\n",
            "        26   RobustScaler LightGBM                          0:00:56       0.9374    0.9761\n",
            "        28   RobustScaler ExtremeRandomTrees                0:00:51       0.9279    0.9761\n",
            "        29   StandardScalerWrapper LightGBM                 0:00:58       0.9637    0.9761\n",
            "        31   StandardScalerWrapper LightGBM                 0:00:56       0.9413    0.9761\n",
            "        32   StandardScalerWrapper LightGBM                 0:00:45       0.9623    0.9761\n",
            "        25   StandardScalerWrapper LightGBM                 0:01:24       0.9460    0.9761\n",
            "        33   StandardScalerWrapper LightGBM                 0:00:54       0.9351    0.9761\n",
            "        34   MaxAbsScaler RandomForest                      0:00:50       0.9542    0.9761\n",
            "        35   RobustScaler LightGBM                          0:00:46       0.9231    0.9761\n",
            "        36   MaxAbsScaler LightGBM                          0:00:49       0.9522    0.9761\n",
            "        37   SparseNormalizer LightGBM                      0:00:45       0.9355    0.9761\n",
            "        38   SparseNormalizer LightGBM                      0:00:45       0.9341    0.9761\n",
            "        40   SparseNormalizer LightGBM                      0:00:49       0.9460    0.9761\n",
            "        39   MaxAbsScaler RandomForest                      0:00:57       0.9527    0.9761\n",
            "        41   SparseNormalizer LightGBM                      0:00:52       0.9422    0.9761\n",
            "        42   StandardScalerWrapper LightGBM                 0:00:49       0.9284    0.9761\n",
            "        43   StandardScalerWrapper LightGBM                 0:00:51       0.9632    0.9761\n",
            "        44   SparseNormalizer LightGBM                      0:00:47       0.9513    0.9761\n",
            "        45   SparseNormalizer LightGBM                      0:00:44       0.9207    0.9761\n",
            "        46   StandardScalerWrapper LightGBM                 0:00:51       0.9441    0.9761\n",
            "        47   StandardScalerWrapper LightGBM                 0:00:50       0.9374    0.9761\n",
            "        49   MaxAbsScaler LightGBM                          0:00:48       0.9422    0.9761\n",
            "        48   MaxAbsScaler LightGBM                          0:00:46       0.9202    0.9761\n",
            "        50   MaxAbsScaler LightGBM                          0:00:46       0.9417    0.9761\n",
            "        51   MaxAbsScaler ExtremeRandomTrees                0:00:52       0.9160    0.9761\n",
            "        52   MaxAbsScaler LightGBM                          0:00:40       0.9274    0.9761\n",
            "        53   MaxAbsScaler RandomForest                      0:00:36       0.9327    0.9761\n",
            "        54                                                  0:00:18          nan    0.9761\n",
            "        55                                                  0:00:15          nan    0.9761\n",
            "        56                                                  0:01:18          nan    0.9761\n",
            "        57                                                  0:01:15          nan    0.9761\n",
            "        58                                                  0:01:11          nan    0.9761\n",
            "        59                                                  0:01:08          nan    0.9761\n",
            "        60                                                  0:01:03          nan    0.9761\n",
            "        61                                                  0:01:01          nan    0.9761\n",
            "        62                                                  0:00:54          nan    0.9761\n",
            "        63                                                  0:00:47          nan    0.9761\n",
            "        64                                                  0:00:32          nan    0.9761\n",
            "        65                                                  0:00:24          nan    0.9761\n",
            "        66                                                  0:00:15          nan    0.9761\n",
            "        67    VotingEnsemble                                0:01:16       0.9776    0.9776\n"
          ]
        }
      ],
      "execution_count": 6,
      "metadata": {
        "gather": {
          "logged": 1615472575066
        },
        "jupyter": {
          "outputs_hidden": false,
          "source_hidden": false
        },
        "nteract": {
          "transient": {
            "deleting": false
          }
        }
      }
    },
    {
      "cell_type": "markdown",
      "source": [
        "## Run Details\n",
        "\n",
        "OPTIONAL: Write about the different models trained and their performance. Why do you think some models did better than others?\n",
        "\n",
        "TODO: In the cell below, use the `RunDetails` widget to show the different experiments."
      ],
      "metadata": {}
    },
    {
      "cell_type": "code",
      "source": [
        "from azureml.widgets import RunDetails\n",
        "RunDetails(automlmodel_run).show()"
      ],
      "outputs": [
        {
          "output_type": "display_data",
          "data": {
            "text/plain": "_AutoMLWidget(widget_settings={'childWidgetDisplay': 'popup', 'send_telemetry': False, 'log_level': 'INFO', 's…",
            "application/vnd.jupyter.widget-view+json": {
              "version_major": 2,
              "version_minor": 0,
              "model_id": "6b9be562cb554429a83dcbe61046c0ad"
            }
          },
          "metadata": {}
        },
        {
          "output_type": "display_data",
          "data": {
            "application/aml.mini.widget.v1": "{\"status\": \"Completed\", \"workbench_run_details_uri\": \"https://ml.azure.com/experiments/hydraulic-automl-experiment/runs/AutoML_e0f61e9d-13be-43f8-87d6-3fd241473e27?wsid=/subscriptions/2c48c51c-bd47-40d4-abbe-fb8eabd19c8c/resourcegroups/aml-quickstarts-140211/workspaces/quick-starts-ws-140211\", \"run_id\": \"AutoML_e0f61e9d-13be-43f8-87d6-3fd241473e27\", \"run_properties\": {\"run_id\": \"AutoML_e0f61e9d-13be-43f8-87d6-3fd241473e27\", \"created_utc\": \"2021-03-11T13:23:13.339537Z\", \"properties\": {\"num_iterations\": \"1000\", \"training_type\": \"TrainFull\", \"acquisition_function\": \"EI\", \"primary_metric\": \"accuracy\", \"train_split\": \"0\", \"acquisition_parameter\": \"0\", \"num_cross_validation\": null, \"target\": \"compute-ml\", \"AMLSettingsJsonString\": \"{\\\"path\\\":null,\\\"name\\\":\\\"hydraulic-automl-experiment\\\",\\\"subscription_id\\\":\\\"2c48c51c-bd47-40d4-abbe-fb8eabd19c8c\\\",\\\"resource_group\\\":\\\"aml-quickstarts-140211\\\",\\\"workspace_name\\\":\\\"quick-starts-ws-140211\\\",\\\"region\\\":\\\"southcentralus\\\",\\\"compute_target\\\":\\\"compute-ml\\\",\\\"spark_service\\\":null,\\\"azure_service\\\":\\\"remote\\\",\\\"many_models\\\":false,\\\"pipeline_fetch_max_batch_size\\\":1,\\\"iterations\\\":1000,\\\"primary_metric\\\":\\\"accuracy\\\",\\\"task_type\\\":\\\"classification\\\",\\\"data_script\\\":null,\\\"validation_size\\\":0.0,\\\"n_cross_validations\\\":null,\\\"y_min\\\":null,\\\"y_max\\\":null,\\\"num_classes\\\":null,\\\"featurization\\\":\\\"auto\\\",\\\"_ignore_package_version_incompatibilities\\\":false,\\\"is_timeseries\\\":false,\\\"max_cores_per_iteration\\\":1,\\\"max_concurrent_iterations\\\":20,\\\"iteration_timeout_minutes\\\":null,\\\"mem_in_mb\\\":null,\\\"enforce_time_on_windows\\\":false,\\\"experiment_timeout_minutes\\\":60,\\\"experiment_exit_score\\\":null,\\\"whitelist_models\\\":null,\\\"blacklist_algos\\\":[\\\"XGBoostClassifier\\\",\\\"TensorFlowLinearClassifier\\\",\\\"TensorFlowDNN\\\"],\\\"supported_models\\\":[\\\"LogisticRegression\\\",\\\"DecisionTree\\\",\\\"MultinomialNaiveBayes\\\",\\\"SGD\\\",\\\"BernoulliNaiveBayes\\\",\\\"LightGBM\\\",\\\"GradientBoosting\\\",\\\"TensorFlowLinearClassifier\\\",\\\"KNN\\\",\\\"LinearSVM\\\",\\\"RandomForest\\\",\\\"AveragedPerceptronClassifier\\\",\\\"ExtremeRandomTrees\\\",\\\"TensorFlowDNN\\\",\\\"XGBoostClassifier\\\",\\\"SVM\\\"],\\\"private_models\\\":[],\\\"auto_blacklist\\\":true,\\\"blacklist_samples_reached\\\":false,\\\"exclude_nan_labels\\\":true,\\\"verbosity\\\":20,\\\"_debug_log\\\":\\\"azureml_automl.log\\\",\\\"show_warnings\\\":false,\\\"model_explainability\\\":true,\\\"service_url\\\":null,\\\"sdk_url\\\":null,\\\"sdk_packages\\\":null,\\\"enable_onnx_compatible_models\\\":true,\\\"enable_split_onnx_featurizer_estimator_models\\\":false,\\\"vm_type\\\":\\\"STANDARD_DS14_V2\\\",\\\"telemetry_verbosity\\\":20,\\\"send_telemetry\\\":true,\\\"enable_dnn\\\":false,\\\"scenario\\\":\\\"SDK-1.13.0\\\",\\\"environment_label\\\":null,\\\"force_text_dnn\\\":false,\\\"enable_feature_sweeping\\\":false,\\\"enable_early_stopping\\\":true,\\\"early_stopping_n_iters\\\":10,\\\"metrics\\\":null,\\\"enable_ensembling\\\":true,\\\"enable_stack_ensembling\\\":false,\\\"ensemble_iterations\\\":15,\\\"enable_tf\\\":false,\\\"enable_subsampling\\\":null,\\\"subsample_seed\\\":null,\\\"enable_nimbusml\\\":false,\\\"enable_streaming\\\":false,\\\"force_streaming\\\":false,\\\"track_child_runs\\\":true,\\\"allowed_private_models\\\":[],\\\"label_column_name\\\":\\\"STABILITY\\\",\\\"weight_column_name\\\":null,\\\"cv_split_column_names\\\":null,\\\"enable_local_managed\\\":false,\\\"_local_managed_run_id\\\":null,\\\"cost_mode\\\":1,\\\"lag_length\\\":0,\\\"metric_operation\\\":\\\"maximize\\\",\\\"preprocess\\\":true}\", \"DataPrepJsonString\": \"{\\\\\\\"training_data\\\\\\\": \\\\\\\"{\\\\\\\\\\\\\\\"blocks\\\\\\\\\\\\\\\": [{\\\\\\\\\\\\\\\"id\\\\\\\\\\\\\\\": \\\\\\\\\\\\\\\"86cc81a6-e1d5-4d25-821f-9f2e3a59b46b\\\\\\\\\\\\\\\", \\\\\\\\\\\\\\\"type\\\\\\\\\\\\\\\": \\\\\\\\\\\\\\\"Microsoft.DPrep.GetFilesBlock\\\\\\\\\\\\\\\", \\\\\\\\\\\\\\\"arguments\\\\\\\\\\\\\\\": {\\\\\\\\\\\\\\\"isArchive\\\\\\\\\\\\\\\": false, \\\\\\\\\\\\\\\"path\\\\\\\\\\\\\\\": {\\\\\\\\\\\\\\\"target\\\\\\\\\\\\\\\": 4, \\\\\\\\\\\\\\\"resourceDetails\\\\\\\\\\\\\\\": [{\\\\\\\\\\\\\\\"path\\\\\\\\\\\\\\\": \\\\\\\\\\\\\\\"https://raw.githubusercontent.com/chamsun-imoggo/udacityms-3rdproject/main/data/hydraulic_systems_training.csv\\\\\\\\\\\\\\\"}]}}, \\\\\\\\\\\\\\\"localData\\\\\\\\\\\\\\\": {}, \\\\\\\\\\\\\\\"isEnabled\\\\\\\\\\\\\\\": true, \\\\\\\\\\\\\\\"name\\\\\\\\\\\\\\\": null, \\\\\\\\\\\\\\\"annotation\\\\\\\\\\\\\\\": null}, {\\\\\\\\\\\\\\\"id\\\\\\\\\\\\\\\": \\\\\\\\\\\\\\\"c068e448-be03-434a-a58f-c8be94238146\\\\\\\\\\\\\\\", \\\\\\\\\\\\\\\"type\\\\\\\\\\\\\\\": \\\\\\\\\\\\\\\"Microsoft.DPrep.ParseDelimitedBlock\\\\\\\\\\\\\\\", \\\\\\\\\\\\\\\"arguments\\\\\\\\\\\\\\\": {\\\\\\\\\\\\\\\"columnHeadersMode\\\\\\\\\\\\\\\": 3, \\\\\\\\\\\\\\\"fileEncoding\\\\\\\\\\\\\\\": 0, \\\\\\\\\\\\\\\"handleQuotedLineBreaks\\\\\\\\\\\\\\\": false, \\\\\\\\\\\\\\\"preview\\\\\\\\\\\\\\\": false, \\\\\\\\\\\\\\\"separator\\\\\\\\\\\\\\\": \\\\\\\\\\\\\\\",\\\\\\\\\\\\\\\", \\\\\\\\\\\\\\\"skipRows\\\\\\\\\\\\\\\": 0, \\\\\\\\\\\\\\\"skipRowsMode\\\\\\\\\\\\\\\": 0}, \\\\\\\\\\\\\\\"localData\\\\\\\\\\\\\\\": {}, \\\\\\\\\\\\\\\"isEnabled\\\\\\\\\\\\\\\": true, \\\\\\\\\\\\\\\"name\\\\\\\\\\\\\\\": null, \\\\\\\\\\\\\\\"annotation\\\\\\\\\\\\\\\": null}, {\\\\\\\\\\\\\\\"id\\\\\\\\\\\\\\\": \\\\\\\\\\\\\\\"ff96647c-2474-4758-9031-3cd4908b97a9\\\\\\\\\\\\\\\", \\\\\\\\\\\\\\\"type\\\\\\\\\\\\\\\": \\\\\\\\\\\\\\\"Microsoft.DPrep.DropColumnsBlock\\\\\\\\\\\\\\\", \\\\\\\\\\\\\\\"arguments\\\\\\\\\\\\\\\": {\\\\\\\\\\\\\\\"columns\\\\\\\\\\\\\\\": {\\\\\\\\\\\\\\\"type\\\\\\\\\\\\\\\": 0, \\\\\\\\\\\\\\\"details\\\\\\\\\\\\\\\": {\\\\\\\\\\\\\\\"selectedColumns\\\\\\\\\\\\\\\": [\\\\\\\\\\\\\\\"Path\\\\\\\\\\\\\\\"]}}}, \\\\\\\\\\\\\\\"localData\\\\\\\\\\\\\\\": {}, \\\\\\\\\\\\\\\"isEnabled\\\\\\\\\\\\\\\": true, \\\\\\\\\\\\\\\"name\\\\\\\\\\\\\\\": null, \\\\\\\\\\\\\\\"annotation\\\\\\\\\\\\\\\": null}, {\\\\\\\\\\\\\\\"id\\\\\\\\\\\\\\\": \\\\\\\\\\\\\\\"9ae55c61-85d6-42d8-bd39-03ca49d68afc\\\\\\\\\\\\\\\", \\\\\\\\\\\\\\\"type\\\\\\\\\\\\\\\": \\\\\\\\\\\\\\\"Microsoft.DPrep.SetColumnTypesBlock\\\\\\\\\\\\\\\", \\\\\\\\\\\\\\\"arguments\\\\\\\\\\\\\\\": {\\\\\\\\\\\\\\\"columnConversion\\\\\\\\\\\\\\\": [{\\\\\\\\\\\\\\\"column\\\\\\\\\\\\\\\": {\\\\\\\\\\\\\\\"type\\\\\\\\\\\\\\\": 2, \\\\\\\\\\\\\\\"details\\\\\\\\\\\\\\\": {\\\\\\\\\\\\\\\"selectedColumn\\\\\\\\\\\\\\\": \\\\\\\\\\\\\\\"PS1\\\\\\\\\\\\\\\"}}, \\\\\\\\\\\\\\\"typeProperty\\\\\\\\\\\\\\\": 3}, {\\\\\\\\\\\\\\\"column\\\\\\\\\\\\\\\": {\\\\\\\\\\\\\\\"type\\\\\\\\\\\\\\\": 2, \\\\\\\\\\\\\\\"details\\\\\\\\\\\\\\\": {\\\\\\\\\\\\\\\"selectedColumn\\\\\\\\\\\\\\\": \\\\\\\\\\\\\\\"PS2\\\\\\\\\\\\\\\"}}, \\\\\\\\\\\\\\\"typeProperty\\\\\\\\\\\\\\\": 3}, {\\\\\\\\\\\\\\\"column\\\\\\\\\\\\\\\": {\\\\\\\\\\\\\\\"type\\\\\\\\\\\\\\\": 2, \\\\\\\\\\\\\\\"details\\\\\\\\\\\\\\\": {\\\\\\\\\\\\\\\"selectedColumn\\\\\\\\\\\\\\\": \\\\\\\\\\\\\\\"PS3\\\\\\\\\\\\\\\"}}, \\\\\\\\\\\\\\\"typeProperty\\\\\\\\\\\\\\\": 3}, {\\\\\\\\\\\\\\\"column\\\\\\\\\\\\\\\": {\\\\\\\\\\\\\\\"type\\\\\\\\\\\\\\\": 2, \\\\\\\\\\\\\\\"details\\\\\\\\\\\\\\\": {\\\\\\\\\\\\\\\"selectedColumn\\\\\\\\\\\\\\\": \\\\\\\\\\\\\\\"PS4\\\\\\\\\\\\\\\"}}, \\\\\\\\\\\\\\\"typeProperty\\\\\\\\\\\\\\\": 3}, {\\\\\\\\\\\\\\\"column\\\\\\\\\\\\\\\": {\\\\\\\\\\\\\\\"type\\\\\\\\\\\\\\\": 2, \\\\\\\\\\\\\\\"details\\\\\\\\\\\\\\\": {\\\\\\\\\\\\\\\"selectedColumn\\\\\\\\\\\\\\\": \\\\\\\\\\\\\\\"PS5\\\\\\\\\\\\\\\"}}, \\\\\\\\\\\\\\\"typeProperty\\\\\\\\\\\\\\\": 3}, {\\\\\\\\\\\\\\\"column\\\\\\\\\\\\\\\": {\\\\\\\\\\\\\\\"type\\\\\\\\\\\\\\\": 2, \\\\\\\\\\\\\\\"details\\\\\\\\\\\\\\\": {\\\\\\\\\\\\\\\"selectedColumn\\\\\\\\\\\\\\\": \\\\\\\\\\\\\\\"PS6\\\\\\\\\\\\\\\"}}, \\\\\\\\\\\\\\\"typeProperty\\\\\\\\\\\\\\\": 3}, {\\\\\\\\\\\\\\\"column\\\\\\\\\\\\\\\": {\\\\\\\\\\\\\\\"type\\\\\\\\\\\\\\\": 2, \\\\\\\\\\\\\\\"details\\\\\\\\\\\\\\\": {\\\\\\\\\\\\\\\"selectedColumn\\\\\\\\\\\\\\\": \\\\\\\\\\\\\\\"FS1\\\\\\\\\\\\\\\"}}, \\\\\\\\\\\\\\\"typeProperty\\\\\\\\\\\\\\\": 3}, {\\\\\\\\\\\\\\\"column\\\\\\\\\\\\\\\": {\\\\\\\\\\\\\\\"type\\\\\\\\\\\\\\\": 2, \\\\\\\\\\\\\\\"details\\\\\\\\\\\\\\\": {\\\\\\\\\\\\\\\"selectedColumn\\\\\\\\\\\\\\\": \\\\\\\\\\\\\\\"FS2\\\\\\\\\\\\\\\"}}, \\\\\\\\\\\\\\\"typeProperty\\\\\\\\\\\\\\\": 3}, {\\\\\\\\\\\\\\\"column\\\\\\\\\\\\\\\": {\\\\\\\\\\\\\\\"type\\\\\\\\\\\\\\\": 2, \\\\\\\\\\\\\\\"details\\\\\\\\\\\\\\\": {\\\\\\\\\\\\\\\"selectedColumn\\\\\\\\\\\\\\\": \\\\\\\\\\\\\\\"TS1\\\\\\\\\\\\\\\"}}, \\\\\\\\\\\\\\\"typeProperty\\\\\\\\\\\\\\\": 3}, {\\\\\\\\\\\\\\\"column\\\\\\\\\\\\\\\": {\\\\\\\\\\\\\\\"type\\\\\\\\\\\\\\\": 2, \\\\\\\\\\\\\\\"details\\\\\\\\\\\\\\\": {\\\\\\\\\\\\\\\"selectedColumn\\\\\\\\\\\\\\\": \\\\\\\\\\\\\\\"TS2\\\\\\\\\\\\\\\"}}, \\\\\\\\\\\\\\\"typeProperty\\\\\\\\\\\\\\\": 3}, {\\\\\\\\\\\\\\\"column\\\\\\\\\\\\\\\": {\\\\\\\\\\\\\\\"type\\\\\\\\\\\\\\\": 2, \\\\\\\\\\\\\\\"details\\\\\\\\\\\\\\\": {\\\\\\\\\\\\\\\"selectedColumn\\\\\\\\\\\\\\\": \\\\\\\\\\\\\\\"TS3\\\\\\\\\\\\\\\"}}, \\\\\\\\\\\\\\\"typeProperty\\\\\\\\\\\\\\\": 3}, {\\\\\\\\\\\\\\\"column\\\\\\\\\\\\\\\": {\\\\\\\\\\\\\\\"type\\\\\\\\\\\\\\\": 2, \\\\\\\\\\\\\\\"details\\\\\\\\\\\\\\\": {\\\\\\\\\\\\\\\"selectedColumn\\\\\\\\\\\\\\\": \\\\\\\\\\\\\\\"TS4\\\\\\\\\\\\\\\"}}, \\\\\\\\\\\\\\\"typeProperty\\\\\\\\\\\\\\\": 3}, {\\\\\\\\\\\\\\\"column\\\\\\\\\\\\\\\": {\\\\\\\\\\\\\\\"type\\\\\\\\\\\\\\\": 2, \\\\\\\\\\\\\\\"details\\\\\\\\\\\\\\\": {\\\\\\\\\\\\\\\"selectedColumn\\\\\\\\\\\\\\\": \\\\\\\\\\\\\\\"P1\\\\\\\\\\\\\\\"}}, \\\\\\\\\\\\\\\"typeProperty\\\\\\\\\\\\\\\": 3}, {\\\\\\\\\\\\\\\"column\\\\\\\\\\\\\\\": {\\\\\\\\\\\\\\\"type\\\\\\\\\\\\\\\": 2, \\\\\\\\\\\\\\\"details\\\\\\\\\\\\\\\": {\\\\\\\\\\\\\\\"selectedColumn\\\\\\\\\\\\\\\": \\\\\\\\\\\\\\\"VS1\\\\\\\\\\\\\\\"}}, \\\\\\\\\\\\\\\"typeProperty\\\\\\\\\\\\\\\": 3}, {\\\\\\\\\\\\\\\"column\\\\\\\\\\\\\\\": {\\\\\\\\\\\\\\\"type\\\\\\\\\\\\\\\": 2, \\\\\\\\\\\\\\\"details\\\\\\\\\\\\\\\": {\\\\\\\\\\\\\\\"selectedColumn\\\\\\\\\\\\\\\": \\\\\\\\\\\\\\\"CE1\\\\\\\\\\\\\\\"}}, \\\\\\\\\\\\\\\"typeProperty\\\\\\\\\\\\\\\": 3}, {\\\\\\\\\\\\\\\"column\\\\\\\\\\\\\\\": {\\\\\\\\\\\\\\\"type\\\\\\\\\\\\\\\": 2, \\\\\\\\\\\\\\\"details\\\\\\\\\\\\\\\": {\\\\\\\\\\\\\\\"selectedColumn\\\\\\\\\\\\\\\": \\\\\\\\\\\\\\\"CP1\\\\\\\\\\\\\\\"}}, \\\\\\\\\\\\\\\"typeProperty\\\\\\\\\\\\\\\": 3}, {\\\\\\\\\\\\\\\"column\\\\\\\\\\\\\\\": {\\\\\\\\\\\\\\\"type\\\\\\\\\\\\\\\": 2, \\\\\\\\\\\\\\\"details\\\\\\\\\\\\\\\": {\\\\\\\\\\\\\\\"selectedColumn\\\\\\\\\\\\\\\": \\\\\\\\\\\\\\\"SE1\\\\\\\\\\\\\\\"}}, \\\\\\\\\\\\\\\"typeProperty\\\\\\\\\\\\\\\": 3}, {\\\\\\\\\\\\\\\"column\\\\\\\\\\\\\\\": {\\\\\\\\\\\\\\\"type\\\\\\\\\\\\\\\": 2, \\\\\\\\\\\\\\\"details\\\\\\\\\\\\\\\": {\\\\\\\\\\\\\\\"selectedColumn\\\\\\\\\\\\\\\": \\\\\\\\\\\\\\\"STABILITY\\\\\\\\\\\\\\\"}}, \\\\\\\\\\\\\\\"typeProperty\\\\\\\\\\\\\\\": 2}]}, \\\\\\\\\\\\\\\"localData\\\\\\\\\\\\\\\": {}, \\\\\\\\\\\\\\\"isEnabled\\\\\\\\\\\\\\\": true, \\\\\\\\\\\\\\\"name\\\\\\\\\\\\\\\": null, \\\\\\\\\\\\\\\"annotation\\\\\\\\\\\\\\\": null}], \\\\\\\\\\\\\\\"inspectors\\\\\\\\\\\\\\\": [], \\\\\\\\\\\\\\\"meta\\\\\\\\\\\\\\\": {\\\\\\\\\\\\\\\"savedDatasetId\\\\\\\\\\\\\\\": \\\\\\\\\\\\\\\"8c50220d-4788-42f0-ba96-d0167ebd59f4\\\\\\\\\\\\\\\", \\\\\\\\\\\\\\\"datasetType\\\\\\\\\\\\\\\": \\\\\\\\\\\\\\\"tabular\\\\\\\\\\\\\\\", \\\\\\\\\\\\\\\"subscriptionId\\\\\\\\\\\\\\\": \\\\\\\\\\\\\\\"2c48c51c-bd47-40d4-abbe-fb8eabd19c8c\\\\\\\\\\\\\\\", \\\\\\\\\\\\\\\"workspaceId\\\\\\\\\\\\\\\": \\\\\\\\\\\\\\\"a272252c-453b-4fdd-9cea-467fa3a7e70d\\\\\\\\\\\\\\\", \\\\\\\\\\\\\\\"workspaceLocation\\\\\\\\\\\\\\\": \\\\\\\\\\\\\\\"southcentralus\\\\\\\\\\\\\\\"}}\\\\\\\", \\\\\\\"activities\\\\\\\": 0}\", \"EnableSubsampling\": null, \"runTemplate\": \"AutoML\", \"azureml.runsource\": \"automl\", \"display_task_type\": \"classification\", \"dependencies_versions\": \"{\\\"azureml-widgets\\\": \\\"1.22.0\\\", \\\"azureml-train\\\": \\\"1.22.0\\\", \\\"azureml-train-restclients-hyperdrive\\\": \\\"1.22.0\\\", \\\"azureml-train-core\\\": \\\"1.22.0\\\", \\\"azureml-train-automl\\\": \\\"1.22.0\\\", \\\"azureml-train-automl-runtime\\\": \\\"1.22.0\\\", \\\"azureml-train-automl-client\\\": \\\"1.22.0\\\", \\\"azureml-tensorboard\\\": \\\"1.22.0\\\", \\\"azureml-telemetry\\\": \\\"1.22.0\\\", \\\"azureml-sdk\\\": \\\"1.22.0\\\", \\\"azureml-samples\\\": \\\"0+unknown\\\", \\\"azureml-pipeline\\\": \\\"1.22.0\\\", \\\"azureml-pipeline-steps\\\": \\\"1.22.0\\\", \\\"azureml-pipeline-core\\\": \\\"1.22.0\\\", \\\"azureml-opendatasets\\\": \\\"1.22.0\\\", \\\"azureml-model-management-sdk\\\": \\\"1.0.1b6.post1\\\", \\\"azureml-mlflow\\\": \\\"1.22.0\\\", \\\"azureml-interpret\\\": \\\"1.22.0\\\", \\\"azureml-explain-model\\\": \\\"1.22.0\\\", \\\"azureml-defaults\\\": \\\"1.22.0\\\", \\\"azureml-dataset-runtime\\\": \\\"1.22.0\\\", \\\"azureml-dataprep\\\": \\\"2.9.1\\\", \\\"azureml-dataprep-rslex\\\": \\\"1.7.0\\\", \\\"azureml-dataprep-native\\\": \\\"29.0.0\\\", \\\"azureml-datadrift\\\": \\\"1.22.0\\\", \\\"azureml-core\\\": \\\"1.22.0\\\", \\\"azureml-contrib-services\\\": \\\"1.22.0\\\", \\\"azureml-contrib-server\\\": \\\"1.22.0\\\", \\\"azureml-contrib-reinforcementlearning\\\": \\\"1.22.0\\\", \\\"azureml-contrib-pipeline-steps\\\": \\\"1.22.0\\\", \\\"azureml-contrib-notebook\\\": \\\"1.22.0\\\", \\\"azureml-contrib-interpret\\\": \\\"1.22.0\\\", \\\"azureml-contrib-gbdt\\\": \\\"1.22.0\\\", \\\"azureml-contrib-fairness\\\": \\\"1.22.0\\\", \\\"azureml-contrib-dataset\\\": \\\"1.22.0\\\", \\\"azureml-cli-common\\\": \\\"1.22.0\\\", \\\"azureml-automl-runtime\\\": \\\"1.22.0\\\", \\\"azureml-automl-core\\\": \\\"1.22.0\\\", \\\"azureml-accel-models\\\": \\\"1.22.0\\\"}\", \"_aml_system_scenario_identification\": \"Remote.Parent\", \"ClientType\": \"SDK\", \"environment_cpu_name\": \"AzureML-AutoML\", \"environment_cpu_label\": \"prod\", \"environment_gpu_name\": \"AzureML-AutoML-GPU\", \"environment_gpu_label\": \"prod\", \"root_attribution\": \"automl\", \"attribution\": \"AutoML\", \"Orchestrator\": \"AutoML\", \"CancelUri\": \"https://southcentralus.experiments.azureml.net/jasmine/v1.0/subscriptions/2c48c51c-bd47-40d4-abbe-fb8eabd19c8c/resourceGroups/aml-quickstarts-140211/providers/Microsoft.MachineLearningServices/workspaces/quick-starts-ws-140211/experimentids/cbaf3bdc-0f6a-4986-b50e-526f7ec5d69f/cancel/AutoML_e0f61e9d-13be-43f8-87d6-3fd241473e27\", \"ClientSdkVersion\": \"1.23.0\", \"snapshotId\": \"00000000-0000-0000-0000-000000000000\", \"SetupRunId\": \"AutoML_e0f61e9d-13be-43f8-87d6-3fd241473e27_setup\", \"SetupRunContainerId\": \"dcid.AutoML_e0f61e9d-13be-43f8-87d6-3fd241473e27_setup\", \"FeaturizationRunJsonPath\": \"featurizer_container.json\", \"FeaturizationRunId\": \"AutoML_e0f61e9d-13be-43f8-87d6-3fd241473e27_featurize\", \"ProblemInfoJsonString\": \"{\\\"dataset_num_categorical\\\": 0, \\\"is_sparse\\\": false, \\\"subsampling\\\": false, \\\"dataset_classes\\\": 2, \\\"dataset_features\\\": 17, \\\"dataset_samples\\\": 2094, \\\"single_frequency_class_detected\\\": false}\", \"ModelExplainRunId\": \"AutoML_e0f61e9d-13be-43f8-87d6-3fd241473e27_ModelExplain\"}, \"tags\": {\"model_explain_run\": \"best_run\", \"_aml_system_azureml.automlComponent\": \"AutoML\", \"pipeline_id\": \"\", \"score\": \"\", \"predicted_cost\": \"\", \"fit_time\": \"\", \"training_percent\": \"\", \"iteration\": \"\", \"run_preprocessor\": \"\", \"run_algorithm\": \"\", \"dynamic_whitelisting_iterations\": \"<25>;<26>;<35>;<37>;<45>;<48>;<55>;<60>;<65>;\", \"automl_best_child_run_id\": \"AutoML_e0f61e9d-13be-43f8-87d6-3fd241473e27_67\", \"model_explain_best_run_child_id\": \"AutoML_e0f61e9d-13be-43f8-87d6-3fd241473e27_67\"}, \"end_time_utc\": \"2021-03-11T14:22:48.342546Z\", \"status\": \"Completed\", \"log_files\": {}, \"log_groups\": [], \"run_duration\": \"0:59:35\", \"run_number\": \"1\", \"run_queued_details\": {\"status\": \"Completed\", \"details\": null}}, \"child_runs\": [{\"run_id\": \"AutoML_e0f61e9d-13be-43f8-87d6-3fd241473e27_0\", \"run_number\": 5, \"metric\": null, \"status\": \"Completed\", \"run_type\": \"azureml.scriptrun\", \"training_percent\": \"100\", \"start_time\": \"2021-03-11T14:14:23.255008Z\", \"end_time\": \"2021-03-11T14:15:19.295587Z\", \"created_time\": \"2021-03-11T14:10:54.838932Z\", \"created_time_dt\": \"2021-03-11T14:10:54.838932Z\", \"duration\": \"0:04:24\", \"iteration\": \"0\", \"goal\": \"accuracy_max\", \"run_name\": \"MaxAbsScaler, LightGBM\", \"run_properties\": \"copy=True\", \"primary_metric\": 0.97612225, \"best_metric\": 0.97612225}, {\"run_id\": \"AutoML_e0f61e9d-13be-43f8-87d6-3fd241473e27_18\", \"run_number\": 6, \"metric\": null, \"status\": \"Completed\", \"run_type\": \"azureml.scriptrun\", \"training_percent\": \"100\", \"start_time\": \"2021-03-11T14:14:57.461742Z\", \"end_time\": \"2021-03-11T14:16:33.854471Z\", \"created_time\": \"2021-03-11T14:10:54.935499Z\", \"created_time_dt\": \"2021-03-11T14:10:54.935499Z\", \"duration\": \"0:05:38\", \"iteration\": \"18\", \"goal\": \"accuracy_max\", \"run_name\": \"StandardScalerWrapper, LogisticRegression\", \"run_properties\": \"<azureml.automl.runtime.shared.model_wrappers.StandardScalerWrapper object at 0x7f05552344e0\", \"primary_metric\": 0.91929322, \"best_metric\": 0.97612225}, {\"run_id\": \"AutoML_e0f61e9d-13be-43f8-87d6-3fd241473e27_8\", \"run_number\": 7, \"metric\": null, \"status\": \"Completed\", \"run_type\": \"azureml.scriptrun\", \"training_percent\": \"100\", \"start_time\": \"2021-03-11T14:14:55.548282Z\", \"end_time\": \"2021-03-11T14:16:39.277207Z\", \"created_time\": \"2021-03-11T14:10:54.937958Z\", \"created_time_dt\": \"2021-03-11T14:10:54.937958Z\", \"duration\": \"0:05:44\", \"iteration\": \"8\", \"goal\": \"accuracy_max\", \"run_name\": \"MaxAbsScaler, LogisticRegression\", \"run_properties\": \"copy=True\", \"primary_metric\": 0.66905444, \"best_metric\": 0.97612225}, {\"run_id\": \"AutoML_e0f61e9d-13be-43f8-87d6-3fd241473e27_17\", \"run_number\": 8, \"metric\": null, \"status\": \"Completed\", \"run_type\": \"azureml.scriptrun\", \"training_percent\": \"100\", \"start_time\": \"2021-03-11T14:14:59.471473Z\", \"end_time\": \"2021-03-11T14:16:37.009393Z\", \"created_time\": \"2021-03-11T14:10:54.95213Z\", \"created_time_dt\": \"2021-03-11T14:10:54.95213Z\", \"duration\": \"0:05:42\", \"iteration\": \"17\", \"goal\": \"accuracy_max\", \"run_name\": \"RobustScaler, KNN\", \"run_properties\": \"copy=True, quantile_range=[25, 75], with_centering=True,\\n             with_scaling=True\", \"primary_metric\": 0.94508118, \"best_metric\": 0.97612225}, {\"run_id\": \"AutoML_e0f61e9d-13be-43f8-87d6-3fd241473e27_16\", \"run_number\": 9, \"metric\": null, \"status\": \"Completed\", \"run_type\": \"azureml.scriptrun\", \"training_percent\": \"100\", \"start_time\": \"2021-03-11T14:14:55.262909Z\", \"end_time\": \"2021-03-11T14:16:38.748021Z\", \"created_time\": \"2021-03-11T14:10:54.954007Z\", \"created_time_dt\": \"2021-03-11T14:10:54.954007Z\", \"duration\": \"0:05:43\", \"iteration\": \"16\", \"goal\": \"accuracy_max\", \"run_name\": \"SparseNormalizer, LightGBM\", \"run_properties\": \"<azureml.automl.runtime.shared.model_wrappers.SparseNormalizer object at 0x7f2335061f98\", \"primary_metric\": 0.95510984, \"best_metric\": 0.97612225}, {\"run_id\": \"AutoML_e0f61e9d-13be-43f8-87d6-3fd241473e27_7\", \"run_number\": 10, \"metric\": null, \"status\": \"Completed\", \"run_type\": \"azureml.scriptrun\", \"training_percent\": \"100\", \"start_time\": \"2021-03-11T14:14:56.360701Z\", \"end_time\": \"2021-03-11T14:16:48.10213Z\", \"created_time\": \"2021-03-11T14:10:54.968525Z\", \"created_time_dt\": \"2021-03-11T14:10:54.968525Z\", \"duration\": \"0:05:53\", \"iteration\": \"7\", \"goal\": \"accuracy_max\", \"run_name\": \"TruncatedSVDWrapper, GradientBoosting\", \"run_properties\": \"n_components=0.8510526315789474, random_state=None\", \"primary_metric\": 0.95940783, \"best_metric\": 0.97612225}, {\"run_id\": \"AutoML_e0f61e9d-13be-43f8-87d6-3fd241473e27_13\", \"run_number\": 11, \"metric\": null, \"status\": \"Completed\", \"run_type\": \"azureml.scriptrun\", \"training_percent\": \"100\", \"start_time\": \"2021-03-11T14:12:14.130349Z\", \"end_time\": \"2021-03-11T14:13:00.721642Z\", \"created_time\": \"2021-03-11T14:10:54.977716Z\", \"created_time_dt\": \"2021-03-11T14:10:54.977716Z\", \"duration\": \"0:02:05\", \"iteration\": \"13\", \"goal\": \"accuracy_max\", \"run_name\": \"StandardScalerWrapper, LightGBM\", \"run_properties\": \"<azureml.automl.runtime.shared.model_wrappers.StandardScalerWrapper object at 0x7f8a0e438b00\", \"primary_metric\": 0.95558739, \"best_metric\": 0.97612225}, {\"run_id\": \"AutoML_e0f61e9d-13be-43f8-87d6-3fd241473e27_6\", \"run_number\": 12, \"metric\": null, \"status\": \"Completed\", \"run_type\": \"azureml.scriptrun\", \"training_percent\": \"100\", \"start_time\": \"2021-03-11T14:14:55.637849Z\", \"end_time\": \"2021-03-11T14:16:39.881488Z\", \"created_time\": \"2021-03-11T14:10:54.982221Z\", \"created_time_dt\": \"2021-03-11T14:10:54.982221Z\", \"duration\": \"0:05:44\", \"iteration\": \"6\", \"goal\": \"accuracy_max\", \"run_name\": \"MinMaxScaler, LogisticRegression\", \"run_properties\": \"copy=True, feature_range=(0, 1\", \"primary_metric\": 0.84909265, \"best_metric\": 0.97612225}, {\"run_id\": \"AutoML_e0f61e9d-13be-43f8-87d6-3fd241473e27_2\", \"run_number\": 13, \"metric\": null, \"status\": \"Completed\", \"run_type\": \"azureml.scriptrun\", \"training_percent\": \"100\", \"start_time\": \"2021-03-11T14:14:59.712193Z\", \"end_time\": \"2021-03-11T14:16:37.448089Z\", \"created_time\": \"2021-03-11T14:10:54.988598Z\", \"created_time_dt\": \"2021-03-11T14:10:54.988598Z\", \"duration\": \"0:05:42\", \"iteration\": \"2\", \"goal\": \"accuracy_max\", \"run_name\": \"MinMaxScaler, RandomForest\", \"run_properties\": \"copy=True, feature_range=(0, 1\", \"primary_metric\": 0.93266476, \"best_metric\": 0.97612225}, {\"run_id\": \"AutoML_e0f61e9d-13be-43f8-87d6-3fd241473e27_15\", \"run_number\": 14, \"metric\": null, \"status\": \"Completed\", \"run_type\": \"azureml.scriptrun\", \"training_percent\": \"100\", \"start_time\": \"2021-03-11T14:13:13.401511Z\", \"end_time\": \"2021-03-11T14:14:08.060571Z\", \"created_time\": \"2021-03-11T14:10:55.098635Z\", \"created_time_dt\": \"2021-03-11T14:10:55.098635Z\", \"duration\": \"0:03:12\", \"iteration\": \"15\", \"goal\": \"accuracy_max\", \"run_name\": \"StandardScalerWrapper, LogisticRegression\", \"run_properties\": \"<azureml.automl.runtime.shared.model_wrappers.StandardScalerWrapper object at 0x7fc17f510c18\", \"primary_metric\": 0.93075454, \"best_metric\": 0.97612225}, {\"run_id\": \"AutoML_e0f61e9d-13be-43f8-87d6-3fd241473e27_10\", \"run_number\": 15, \"metric\": null, \"status\": \"Completed\", \"run_type\": \"azureml.scriptrun\", \"training_percent\": \"100\", \"start_time\": \"2021-03-11T14:16:46.802617Z\", \"end_time\": \"2021-03-11T14:17:33.435482Z\", \"created_time\": \"2021-03-11T14:10:54.947485Z\", \"created_time_dt\": \"2021-03-11T14:10:54.947485Z\", \"duration\": \"0:06:38\", \"iteration\": \"10\", \"goal\": \"accuracy_max\", \"run_name\": \"MinMaxScaler, RandomForest\", \"run_properties\": \"copy=True, feature_range=(0, 1\", \"primary_metric\": 0.92597899, \"best_metric\": 0.97612225}, {\"run_id\": \"AutoML_e0f61e9d-13be-43f8-87d6-3fd241473e27_11\", \"run_number\": 16, \"metric\": null, \"status\": \"Completed\", \"run_type\": \"azureml.scriptrun\", \"training_percent\": \"100\", \"start_time\": \"2021-03-11T14:15:31.382754Z\", \"end_time\": \"2021-03-11T14:16:17.852957Z\", \"created_time\": \"2021-03-11T14:10:54.955145Z\", \"created_time_dt\": \"2021-03-11T14:10:54.955145Z\", \"duration\": \"0:05:22\", \"iteration\": \"11\", \"goal\": \"accuracy_max\", \"run_name\": \"StandardScalerWrapper, LightGBM\", \"run_properties\": \"<azureml.automl.runtime.shared.model_wrappers.StandardScalerWrapper object at 0x7f5c99fb80b8\", \"primary_metric\": 0.95415473, \"best_metric\": 0.97612225}, {\"run_id\": \"AutoML_e0f61e9d-13be-43f8-87d6-3fd241473e27_19\", \"run_number\": 17, \"metric\": null, \"status\": \"Completed\", \"run_type\": \"azureml.scriptrun\", \"training_percent\": \"100\", \"start_time\": \"2021-03-11T14:11:06.044509Z\", \"end_time\": \"2021-03-11T14:11:56.419202Z\", \"created_time\": \"2021-03-11T14:10:54.975356Z\", \"created_time_dt\": \"2021-03-11T14:10:54.975356Z\", \"duration\": \"0:01:01\", \"iteration\": \"19\", \"goal\": \"accuracy_max\", \"run_name\": \"MinMaxScaler, LightGBM\", \"run_properties\": \"copy=True, feature_range=(0, 1\", \"primary_metric\": 0.94126074, \"best_metric\": 0.97612225}, {\"run_id\": \"AutoML_e0f61e9d-13be-43f8-87d6-3fd241473e27_4\", \"run_number\": 18, \"metric\": null, \"status\": \"Completed\", \"run_type\": \"azureml.scriptrun\", \"training_percent\": \"100\", \"start_time\": \"2021-03-11T14:15:01.797808Z\", \"end_time\": \"2021-03-11T14:16:39.848566Z\", \"created_time\": \"2021-03-11T14:10:54.990828Z\", \"created_time_dt\": \"2021-03-11T14:10:54.990828Z\", \"duration\": \"0:05:44\", \"iteration\": \"4\", \"goal\": \"accuracy_max\", \"run_name\": \"MinMaxScaler, RandomForest\", \"run_properties\": \"copy=True, feature_range=(0, 1\", \"primary_metric\": 0.88395415, \"best_metric\": 0.97612225}, {\"run_id\": \"AutoML_e0f61e9d-13be-43f8-87d6-3fd241473e27_5\", \"run_number\": 19, \"metric\": null, \"status\": \"Completed\", \"run_type\": \"azureml.scriptrun\", \"training_percent\": \"100\", \"start_time\": \"2021-03-11T14:16:32.605074Z\", \"end_time\": \"2021-03-11T14:17:17.952969Z\", \"created_time\": \"2021-03-11T14:10:54.945403Z\", \"created_time_dt\": \"2021-03-11T14:10:54.945403Z\", \"duration\": \"0:06:23\", \"iteration\": \"5\", \"goal\": \"accuracy_max\", \"run_name\": \"MaxAbsScaler, RandomForest\", \"run_properties\": \"copy=True\", \"primary_metric\": 0.94603629, \"best_metric\": 0.97612225}, {\"run_id\": \"AutoML_e0f61e9d-13be-43f8-87d6-3fd241473e27_1\", \"run_number\": 20, \"metric\": null, \"status\": \"Completed\", \"run_type\": \"azureml.scriptrun\", \"training_percent\": \"100\", \"start_time\": \"2021-03-11T14:16:50.393132Z\", \"end_time\": \"2021-03-11T14:17:37.379648Z\", \"created_time\": \"2021-03-11T14:10:54.952649Z\", \"created_time_dt\": \"2021-03-11T14:10:54.952649Z\", \"duration\": \"0:06:42\", \"iteration\": \"1\", \"goal\": \"accuracy_max\", \"run_name\": \"MinMaxScaler, RandomForest\", \"run_properties\": \"copy=True, feature_range=(0, 1\", \"primary_metric\": 0.94364852, \"best_metric\": 0.97612225}, {\"run_id\": \"AutoML_e0f61e9d-13be-43f8-87d6-3fd241473e27_14\", \"run_number\": 21, \"metric\": null, \"status\": \"Completed\", \"run_type\": \"azureml.scriptrun\", \"training_percent\": \"100\", \"start_time\": \"2021-03-11T14:15:07.301918Z\", \"end_time\": \"2021-03-11T14:16:46.374921Z\", \"created_time\": \"2021-03-11T14:10:55.000049Z\", \"created_time_dt\": \"2021-03-11T14:10:55.000049Z\", \"duration\": \"0:05:51\", \"iteration\": \"14\", \"goal\": \"accuracy_max\", \"run_name\": \"MinMaxScaler, LightGBM\", \"run_properties\": \"copy=True, feature_range=(0, 1\", \"primary_metric\": 0.9608405, \"best_metric\": 0.97612225}, {\"run_id\": \"AutoML_e0f61e9d-13be-43f8-87d6-3fd241473e27_12\", \"run_number\": 22, \"metric\": null, \"status\": \"Completed\", \"run_type\": \"azureml.scriptrun\", \"training_percent\": \"100\", \"start_time\": \"2021-03-11T14:16:53.934406Z\", \"end_time\": \"2021-03-11T14:17:40.420343Z\", \"created_time\": \"2021-03-11T14:10:54.938441Z\", \"created_time_dt\": \"2021-03-11T14:10:54.938441Z\", \"duration\": \"0:06:45\", \"iteration\": \"12\", \"goal\": \"accuracy_max\", \"run_name\": \"StandardScalerWrapper, LightGBM\", \"run_properties\": \"<azureml.automl.runtime.shared.model_wrappers.StandardScalerWrapper object at 0x7f05a71a1cc0\", \"primary_metric\": 0.95940783, \"best_metric\": 0.97612225}, {\"run_id\": \"AutoML_e0f61e9d-13be-43f8-87d6-3fd241473e27_9\", \"run_number\": 23, \"metric\": null, \"status\": \"Completed\", \"run_type\": \"azureml.scriptrun\", \"training_percent\": \"100\", \"start_time\": \"2021-03-11T14:16:54.021787Z\", \"end_time\": \"2021-03-11T14:17:40.510165Z\", \"created_time\": \"2021-03-11T14:10:54.969994Z\", \"created_time_dt\": \"2021-03-11T14:10:54.969994Z\", \"duration\": \"0:06:45\", \"iteration\": \"9\", \"goal\": \"accuracy_max\", \"run_name\": \"StandardScalerWrapper, KNN\", \"run_properties\": \"<azureml.automl.runtime.shared.model_wrappers.StandardScalerWrapper object at 0x7fe42faa7f28\", \"primary_metric\": 0.95797517, \"best_metric\": 0.97612225}, {\"run_id\": \"AutoML_e0f61e9d-13be-43f8-87d6-3fd241473e27_3\", \"run_number\": 24, \"metric\": null, \"status\": \"Completed\", \"run_type\": \"azureml.scriptrun\", \"training_percent\": \"100\", \"start_time\": \"2021-03-11T14:16:53.110869Z\", \"end_time\": \"2021-03-11T14:17:39.174201Z\", \"created_time\": \"2021-03-11T14:10:54.947805Z\", \"created_time_dt\": \"2021-03-11T14:10:54.947805Z\", \"duration\": \"0:06:44\", \"iteration\": \"3\", \"goal\": \"accuracy_max\", \"run_name\": \"MinMaxScaler, RandomForest\", \"run_properties\": \"copy=True, feature_range=(0, 1\", \"primary_metric\": 0.96036294, \"best_metric\": 0.97612225}, {\"run_id\": \"AutoML_e0f61e9d-13be-43f8-87d6-3fd241473e27_20\", \"run_number\": 25, \"metric\": null, \"status\": \"Completed\", \"run_type\": \"azureml.scriptrun\", \"training_percent\": \"100\", \"start_time\": \"2021-03-11T14:16:58.202901Z\", \"end_time\": \"2021-03-11T14:17:39.592619Z\", \"created_time\": \"2021-03-11T14:12:03.518412Z\", \"created_time_dt\": \"2021-03-11T14:12:03.518412Z\", \"duration\": \"0:05:36\", \"iteration\": \"20\", \"goal\": \"accuracy_max\", \"run_name\": \"RobustScaler, RandomForest\", \"run_properties\": \"copy=True, quantile_range=[25, 75], with_centering=True,\\n             with_scaling=True\", \"primary_metric\": 0.94078319, \"best_metric\": 0.97612225}, {\"run_id\": \"AutoML_e0f61e9d-13be-43f8-87d6-3fd241473e27_21\", \"run_number\": 26, \"metric\": null, \"status\": \"Completed\", \"run_type\": \"azureml.scriptrun\", \"training_percent\": \"100\", \"start_time\": \"2021-03-11T14:16:55.027832Z\", \"end_time\": \"2021-03-11T14:17:48.867452Z\", \"created_time\": \"2021-03-11T14:13:03.655944Z\", \"created_time_dt\": \"2021-03-11T14:13:03.655944Z\", \"duration\": \"0:04:45\", \"iteration\": \"21\", \"goal\": \"accuracy_max\", \"run_name\": \"MinMaxScaler, LogisticRegression\", \"run_properties\": \"copy=True, feature_range=(0, 1\", \"primary_metric\": 0.86485196, \"best_metric\": 0.97612225}, {\"run_id\": \"AutoML_e0f61e9d-13be-43f8-87d6-3fd241473e27_22\", \"run_number\": 27, \"metric\": null, \"status\": \"Completed\", \"run_type\": \"azureml.scriptrun\", \"training_percent\": \"100\", \"start_time\": \"2021-03-11T14:16:59.835574Z\", \"end_time\": \"2021-03-11T14:17:54.451912Z\", \"created_time\": \"2021-03-11T14:14:12.086623Z\", \"created_time_dt\": \"2021-03-11T14:14:12.086623Z\", \"duration\": \"0:03:42\", \"iteration\": \"22\", \"goal\": \"accuracy_max\", \"run_name\": \"StandardScalerWrapper, GradientBoosting\", \"run_properties\": \"<azureml.automl.runtime.shared.model_wrappers.StandardScalerWrapper object at 0x7f490676b860\", \"primary_metric\": 0.91547278, \"best_metric\": 0.97612225}, {\"run_id\": \"AutoML_e0f61e9d-13be-43f8-87d6-3fd241473e27_23\", \"run_number\": 28, \"metric\": null, \"status\": \"Completed\", \"run_type\": \"azureml.scriptrun\", \"training_percent\": \"100\", \"start_time\": \"2021-03-11T14:16:58.729914Z\", \"end_time\": \"2021-03-11T14:17:49.182302Z\", \"created_time\": \"2021-03-11T14:15:23.243751Z\", \"created_time_dt\": \"2021-03-11T14:15:23.243751Z\", \"duration\": \"0:02:25\", \"iteration\": \"23\", \"goal\": \"accuracy_max\", \"run_name\": \"MaxAbsScaler, LightGBM\", \"run_properties\": \"copy=True\", \"primary_metric\": 0.94269341, \"best_metric\": 0.97612225}, {\"run_id\": \"AutoML_e0f61e9d-13be-43f8-87d6-3fd241473e27_24\", \"run_number\": 29, \"metric\": null, \"status\": \"Completed\", \"run_type\": \"azureml.scriptrun\", \"training_percent\": \"100\", \"start_time\": \"2021-03-11T14:17:31.48813Z\", \"end_time\": \"2021-03-11T14:18:24.112583Z\", \"created_time\": \"2021-03-11T14:16:21.590213Z\", \"created_time_dt\": \"2021-03-11T14:16:21.590213Z\", \"duration\": \"0:02:02\", \"iteration\": \"24\", \"goal\": \"accuracy_max\", \"run_name\": \"RobustScaler, RandomForest\", \"run_properties\": \"copy=True, quantile_range=[10, 90], with_centering=True,\\n             with_scaling=True\", \"primary_metric\": 0.95272206, \"best_metric\": 0.97612225}, {\"run_id\": \"AutoML_e0f61e9d-13be-43f8-87d6-3fd241473e27_25\", \"run_number\": 30, \"metric\": null, \"status\": \"Completed\", \"run_type\": \"azureml.scriptrun\", \"training_percent\": \"100\", \"start_time\": \"2021-03-11T14:17:47.814984Z\", \"end_time\": \"2021-03-11T14:19:11.877733Z\", \"created_time\": \"2021-03-11T14:16:39.161603Z\", \"created_time_dt\": \"2021-03-11T14:16:39.161603Z\", \"duration\": \"0:02:32\", \"iteration\": \"25\", \"goal\": \"accuracy_max\", \"run_name\": \"StandardScalerWrapper, LightGBM\", \"run_properties\": \"<azureml.automl.runtime.shared.model_wrappers.StandardScalerWrapper object at 0x7f3e4815aef0\", \"primary_metric\": 0.94603629, \"best_metric\": 0.97612225}, {\"run_id\": \"AutoML_e0f61e9d-13be-43f8-87d6-3fd241473e27_26\", \"run_number\": 31, \"metric\": null, \"status\": \"Completed\", \"run_type\": \"azureml.scriptrun\", \"training_percent\": \"100\", \"start_time\": \"2021-03-11T14:17:55.214439Z\", \"end_time\": \"2021-03-11T14:18:51.379302Z\", \"created_time\": \"2021-03-11T14:16:46.284225Z\", \"created_time_dt\": \"2021-03-11T14:16:46.284225Z\", \"duration\": \"0:02:05\", \"iteration\": \"26\", \"goal\": \"accuracy_max\", \"run_name\": \"RobustScaler, LightGBM\", \"run_properties\": \"copy=True, quantile_range=[10, 90], with_centering=False,\\n             with_scaling=True\", \"primary_metric\": 0.93744031, \"best_metric\": 0.97612225}, {\"run_id\": \"AutoML_e0f61e9d-13be-43f8-87d6-3fd241473e27_27\", \"run_number\": 32, \"metric\": null, \"status\": \"Completed\", \"run_type\": \"azureml.scriptrun\", \"training_percent\": \"100\", \"start_time\": \"2021-03-11T14:17:52.490438Z\", \"end_time\": \"2021-03-11T14:18:43.974347Z\", \"created_time\": \"2021-03-11T14:16:46.308766Z\", \"created_time_dt\": \"2021-03-11T14:16:46.308766Z\", \"duration\": \"0:01:57\", \"iteration\": \"27\", \"goal\": \"accuracy_max\", \"run_name\": \"MinMaxScaler, LightGBM\", \"run_properties\": \"copy=True, feature_range=(0, 1\", \"primary_metric\": 0.94364852, \"best_metric\": 0.97612225}, {\"run_id\": \"AutoML_e0f61e9d-13be-43f8-87d6-3fd241473e27_29\", \"run_number\": 33, \"metric\": null, \"status\": \"Completed\", \"run_type\": \"azureml.scriptrun\", \"training_percent\": \"100\", \"start_time\": \"2021-03-11T14:17:52.333615Z\", \"end_time\": \"2021-03-11T14:18:50.622144Z\", \"created_time\": \"2021-03-11T14:16:46.321948Z\", \"created_time_dt\": \"2021-03-11T14:16:46.321948Z\", \"duration\": \"0:02:04\", \"iteration\": \"29\", \"goal\": \"accuracy_max\", \"run_name\": \"StandardScalerWrapper, LightGBM\", \"run_properties\": \"<azureml.automl.runtime.shared.model_wrappers.StandardScalerWrapper object at 0x7f5ca9d9f978\", \"primary_metric\": 0.96370583, \"best_metric\": 0.97612225}, {\"run_id\": \"AutoML_e0f61e9d-13be-43f8-87d6-3fd241473e27_31\", \"run_number\": 34, \"metric\": null, \"status\": \"Completed\", \"run_type\": \"azureml.scriptrun\", \"training_percent\": \"100\", \"start_time\": \"2021-03-11T14:17:55.507444Z\", \"end_time\": \"2021-03-11T14:18:51.62581Z\", \"created_time\": \"2021-03-11T14:16:46.346276Z\", \"created_time_dt\": \"2021-03-11T14:16:46.346276Z\", \"duration\": \"0:02:05\", \"iteration\": \"31\", \"goal\": \"accuracy_max\", \"run_name\": \"StandardScalerWrapper, LightGBM\", \"run_properties\": \"<azureml.automl.runtime.shared.model_wrappers.StandardScalerWrapper object at 0x7fc30856e550\", \"primary_metric\": 0.94126074, \"best_metric\": 0.97612225}, {\"run_id\": \"AutoML_e0f61e9d-13be-43f8-87d6-3fd241473e27_30\", \"run_number\": 35, \"metric\": null, \"status\": \"Completed\", \"run_type\": \"azureml.scriptrun\", \"training_percent\": \"100\", \"start_time\": \"2021-03-11T14:17:48.686241Z\", \"end_time\": \"2021-03-11T14:18:34.967726Z\", \"created_time\": \"2021-03-11T14:16:46.367814Z\", \"created_time_dt\": \"2021-03-11T14:16:46.367814Z\", \"duration\": \"0:01:48\", \"iteration\": \"30\", \"goal\": \"accuracy_max\", \"run_name\": \"MaxAbsScaler, LightGBM\", \"run_properties\": \"copy=True\", \"primary_metric\": 0.95081184, \"best_metric\": 0.97612225}, {\"run_id\": \"AutoML_e0f61e9d-13be-43f8-87d6-3fd241473e27_28\", \"run_number\": 36, \"metric\": null, \"status\": \"Completed\", \"run_type\": \"azureml.scriptrun\", \"training_percent\": \"100\", \"start_time\": \"2021-03-11T14:18:05.949993Z\", \"end_time\": \"2021-03-11T14:18:56.517286Z\", \"created_time\": \"2021-03-11T14:16:46.756269Z\", \"created_time_dt\": \"2021-03-11T14:16:46.756269Z\", \"duration\": \"0:02:09\", \"iteration\": \"28\", \"goal\": \"accuracy_max\", \"run_name\": \"RobustScaler, ExtremeRandomTrees\", \"run_properties\": \"copy=True, quantile_range=[25, 75], with_centering=True,\\n             with_scaling=False\", \"primary_metric\": 0.92788921, \"best_metric\": 0.97612225}, {\"run_id\": \"AutoML_e0f61e9d-13be-43f8-87d6-3fd241473e27_33\", \"run_number\": 37, \"metric\": null, \"status\": \"Completed\", \"run_type\": \"azureml.scriptrun\", \"training_percent\": \"100\", \"start_time\": \"2021-03-11T14:18:11.712635Z\", \"end_time\": \"2021-03-11T14:19:05.627651Z\", \"created_time\": \"2021-03-11T14:16:54.282162Z\", \"created_time_dt\": \"2021-03-11T14:16:54.282162Z\", \"duration\": \"0:02:11\", \"iteration\": \"33\", \"goal\": \"accuracy_max\", \"run_name\": \"StandardScalerWrapper, LightGBM\", \"run_properties\": \"<azureml.automl.runtime.shared.model_wrappers.StandardScalerWrapper object at 0x7f9f93e46e10\", \"primary_metric\": 0.93505253, \"best_metric\": 0.97612225}, {\"run_id\": \"AutoML_e0f61e9d-13be-43f8-87d6-3fd241473e27_32\", \"run_number\": 38, \"metric\": null, \"status\": \"Completed\", \"run_type\": \"azureml.scriptrun\", \"training_percent\": \"100\", \"start_time\": \"2021-03-11T14:18:06.572899Z\", \"end_time\": \"2021-03-11T14:18:51.70812Z\", \"created_time\": \"2021-03-11T14:16:54.366773Z\", \"created_time_dt\": \"2021-03-11T14:16:54.366773Z\", \"duration\": \"0:01:57\", \"iteration\": \"32\", \"goal\": \"accuracy_max\", \"run_name\": \"StandardScalerWrapper, LightGBM\", \"run_properties\": \"<azureml.automl.runtime.shared.model_wrappers.StandardScalerWrapper object at 0x7ff519ce9400\", \"primary_metric\": 0.96227316, \"best_metric\": 0.97612225}, {\"run_id\": \"AutoML_e0f61e9d-13be-43f8-87d6-3fd241473e27_34\", \"run_number\": 39, \"metric\": null, \"status\": \"Completed\", \"run_type\": \"azureml.scriptrun\", \"training_percent\": \"100\", \"start_time\": \"2021-03-11T14:18:39.863474Z\", \"end_time\": \"2021-03-11T14:19:29.935368Z\", \"created_time\": \"2021-03-11T14:17:20.384557Z\", \"created_time_dt\": \"2021-03-11T14:17:20.384557Z\", \"duration\": \"0:02:09\", \"iteration\": \"34\", \"goal\": \"accuracy_max\", \"run_name\": \"MaxAbsScaler, RandomForest\", \"run_properties\": \"copy=True\", \"primary_metric\": 0.95415473, \"best_metric\": 0.97612225}, {\"run_id\": \"AutoML_e0f61e9d-13be-43f8-87d6-3fd241473e27_35\", \"run_number\": 40, \"metric\": null, \"status\": \"Completed\", \"run_type\": \"azureml.scriptrun\", \"training_percent\": \"100\", \"start_time\": \"2021-03-11T14:18:49.596446Z\", \"end_time\": \"2021-03-11T14:19:35.43938Z\", \"created_time\": \"2021-03-11T14:17:36.837742Z\", \"created_time_dt\": \"2021-03-11T14:17:36.837742Z\", \"duration\": \"0:01:58\", \"iteration\": \"35\", \"goal\": \"accuracy_max\", \"run_name\": \"RobustScaler, LightGBM\", \"run_properties\": \"copy=True, quantile_range=[25, 75], with_centering=False,\\n             with_scaling=True\", \"primary_metric\": 0.92311366, \"best_metric\": 0.97612225}, {\"run_id\": \"AutoML_e0f61e9d-13be-43f8-87d6-3fd241473e27_36\", \"run_number\": 41, \"metric\": null, \"status\": \"Completed\", \"run_type\": \"azureml.scriptrun\", \"training_percent\": \"100\", \"start_time\": \"2021-03-11T14:18:57.577768Z\", \"end_time\": \"2021-03-11T14:19:46.821362Z\", \"created_time\": \"2021-03-11T14:17:40.789739Z\", \"created_time_dt\": \"2021-03-11T14:17:40.789739Z\", \"duration\": \"0:02:06\", \"iteration\": \"36\", \"goal\": \"accuracy_max\", \"run_name\": \"MaxAbsScaler, LightGBM\", \"run_properties\": \"copy=True\", \"primary_metric\": 0.95224451, \"best_metric\": 0.97612225}, {\"run_id\": \"AutoML_e0f61e9d-13be-43f8-87d6-3fd241473e27_37\", \"run_number\": 42, \"metric\": null, \"status\": \"Completed\", \"run_type\": \"azureml.scriptrun\", \"training_percent\": \"100\", \"start_time\": \"2021-03-11T14:19:08.886032Z\", \"end_time\": \"2021-03-11T14:19:54.14789Z\", \"created_time\": \"2021-03-11T14:17:53.719331Z\", \"created_time_dt\": \"2021-03-11T14:17:53.719331Z\", \"duration\": \"0:02:00\", \"iteration\": \"37\", \"goal\": \"accuracy_max\", \"run_name\": \"SparseNormalizer, LightGBM\", \"run_properties\": \"<azureml.automl.runtime.shared.model_wrappers.SparseNormalizer object at 0x7fc0ced9f3c8\", \"primary_metric\": 0.93553009, \"best_metric\": 0.97612225}, {\"run_id\": \"AutoML_e0f61e9d-13be-43f8-87d6-3fd241473e27_38\", \"run_number\": 43, \"metric\": null, \"status\": \"Completed\", \"run_type\": \"azureml.scriptrun\", \"training_percent\": \"100\", \"start_time\": \"2021-03-11T14:19:05.949391Z\", \"end_time\": \"2021-03-11T14:19:51.173773Z\", \"created_time\": \"2021-03-11T14:17:53.739981Z\", \"created_time_dt\": \"2021-03-11T14:17:53.739981Z\", \"duration\": \"0:01:57\", \"iteration\": \"38\", \"goal\": \"accuracy_max\", \"run_name\": \"SparseNormalizer, LightGBM\", \"run_properties\": \"<azureml.automl.runtime.shared.model_wrappers.SparseNormalizer object at 0x7fe020937fd0\", \"primary_metric\": 0.93409742, \"best_metric\": 0.97612225}, {\"run_id\": \"AutoML_e0f61e9d-13be-43f8-87d6-3fd241473e27_39\", \"run_number\": 44, \"metric\": null, \"status\": \"Completed\", \"run_type\": \"azureml.scriptrun\", \"training_percent\": \"100\", \"start_time\": \"2021-03-11T14:19:06.14029Z\", \"end_time\": \"2021-03-11T14:20:02.818555Z\", \"created_time\": \"2021-03-11T14:17:53.749537Z\", \"created_time_dt\": \"2021-03-11T14:17:53.749537Z\", \"duration\": \"0:02:09\", \"iteration\": \"39\", \"goal\": \"accuracy_max\", \"run_name\": \"MaxAbsScaler, RandomForest\", \"run_properties\": \"copy=True\", \"primary_metric\": 0.95272206, \"best_metric\": 0.97612225}, {\"run_id\": \"AutoML_e0f61e9d-13be-43f8-87d6-3fd241473e27_40\", \"run_number\": 45, \"metric\": null, \"status\": \"Completed\", \"run_type\": \"azureml.scriptrun\", \"training_percent\": \"100\", \"start_time\": \"2021-03-11T14:19:05.717015Z\", \"end_time\": \"2021-03-11T14:19:54.863718Z\", \"created_time\": \"2021-03-11T14:17:53.769121Z\", \"created_time_dt\": \"2021-03-11T14:17:53.769121Z\", \"duration\": \"0:02:01\", \"iteration\": \"40\", \"goal\": \"accuracy_max\", \"run_name\": \"SparseNormalizer, LightGBM\", \"run_properties\": \"<azureml.automl.runtime.shared.model_wrappers.SparseNormalizer object at 0x7fc73e02e160\", \"primary_metric\": 0.94603629, \"best_metric\": 0.97612225}, {\"run_id\": \"AutoML_e0f61e9d-13be-43f8-87d6-3fd241473e27_42\", \"run_number\": 46, \"metric\": null, \"status\": \"Completed\", \"run_type\": \"azureml.scriptrun\", \"training_percent\": \"100\", \"start_time\": \"2021-03-11T14:19:10.985637Z\", \"end_time\": \"2021-03-11T14:19:59.863049Z\", \"created_time\": \"2021-03-11T14:17:58.777717Z\", \"created_time_dt\": \"2021-03-11T14:17:58.777717Z\", \"duration\": \"0:02:01\", \"iteration\": \"42\", \"goal\": \"accuracy_max\", \"run_name\": \"StandardScalerWrapper, LightGBM\", \"run_properties\": \"<azureml.automl.runtime.shared.model_wrappers.StandardScalerWrapper object at 0x7f8fe2391f28\", \"primary_metric\": 0.92836676, \"best_metric\": 0.97612225}, {\"run_id\": \"AutoML_e0f61e9d-13be-43f8-87d6-3fd241473e27_41\", \"run_number\": 47, \"metric\": null, \"status\": \"Completed\", \"run_type\": \"azureml.scriptrun\", \"training_percent\": \"100\", \"start_time\": \"2021-03-11T14:19:21.880818Z\", \"end_time\": \"2021-03-11T14:20:13.715149Z\", \"created_time\": \"2021-03-11T14:17:58.782788Z\", \"created_time_dt\": \"2021-03-11T14:17:58.782788Z\", \"duration\": \"0:02:14\", \"iteration\": \"41\", \"goal\": \"accuracy_max\", \"run_name\": \"SparseNormalizer, LightGBM\", \"run_properties\": \"<azureml.automl.runtime.shared.model_wrappers.SparseNormalizer object at 0x7f6a9c52dac8\", \"primary_metric\": 0.94221585, \"best_metric\": 0.97612225}, {\"run_id\": \"AutoML_e0f61e9d-13be-43f8-87d6-3fd241473e27_43\", \"run_number\": 48, \"metric\": null, \"status\": \"Completed\", \"run_type\": \"azureml.scriptrun\", \"training_percent\": \"100\", \"start_time\": \"2021-03-11T14:19:20.767506Z\", \"end_time\": \"2021-03-11T14:20:11.467921Z\", \"created_time\": \"2021-03-11T14:17:58.791048Z\", \"created_time_dt\": \"2021-03-11T14:17:58.791048Z\", \"duration\": \"0:02:12\", \"iteration\": \"43\", \"goal\": \"accuracy_max\", \"run_name\": \"StandardScalerWrapper, LightGBM\", \"run_properties\": \"<azureml.automl.runtime.shared.model_wrappers.StandardScalerWrapper object at 0x7f1840e25588\", \"primary_metric\": 0.96322827, \"best_metric\": 0.97612225}, {\"run_id\": \"AutoML_e0f61e9d-13be-43f8-87d6-3fd241473e27_44\", \"run_number\": 49, \"metric\": null, \"status\": \"Completed\", \"run_type\": \"azureml.scriptrun\", \"training_percent\": \"100\", \"start_time\": \"2021-03-11T14:19:45.924684Z\", \"end_time\": \"2021-03-11T14:20:32.75801Z\", \"created_time\": \"2021-03-11T14:18:26.41675Z\", \"created_time_dt\": \"2021-03-11T14:18:26.41675Z\", \"duration\": \"0:02:06\", \"iteration\": \"44\", \"goal\": \"accuracy_max\", \"run_name\": \"SparseNormalizer, LightGBM\", \"run_properties\": \"<azureml.automl.runtime.shared.model_wrappers.SparseNormalizer object at 0x7fa12f5eae80\", \"primary_metric\": 0.9512894, \"best_metric\": 0.97612225}, {\"run_id\": \"AutoML_e0f61e9d-13be-43f8-87d6-3fd241473e27_45\", \"run_number\": 50, \"metric\": null, \"status\": \"Completed\", \"run_type\": \"azureml.scriptrun\", \"training_percent\": \"100\", \"start_time\": \"2021-03-11T14:19:50.839785Z\", \"end_time\": \"2021-03-11T14:20:34.992338Z\", \"created_time\": \"2021-03-11T14:18:39.731181Z\", \"created_time_dt\": \"2021-03-11T14:18:39.731181Z\", \"duration\": \"0:01:55\", \"iteration\": \"45\", \"goal\": \"accuracy_max\", \"run_name\": \"SparseNormalizer, LightGBM\", \"run_properties\": \"<azureml.automl.runtime.shared.model_wrappers.SparseNormalizer object at 0x7f23546fca20\", \"primary_metric\": 0.92072588, \"best_metric\": 0.97612225}, {\"run_id\": \"AutoML_e0f61e9d-13be-43f8-87d6-3fd241473e27_46\", \"run_number\": 51, \"metric\": null, \"status\": \"Completed\", \"run_type\": \"azureml.scriptrun\", \"training_percent\": \"100\", \"start_time\": \"2021-03-11T14:20:04.22229Z\", \"end_time\": \"2021-03-11T14:20:54.901167Z\", \"created_time\": \"2021-03-11T14:18:45.697243Z\", \"created_time_dt\": \"2021-03-11T14:18:45.697243Z\", \"duration\": \"0:02:09\", \"iteration\": \"46\", \"goal\": \"accuracy_max\", \"run_name\": \"StandardScalerWrapper, LightGBM\", \"run_properties\": \"<azureml.automl.runtime.shared.model_wrappers.StandardScalerWrapper object at 0x7f4cf8a66ba8\", \"primary_metric\": 0.94412607, \"best_metric\": 0.97612225}, {\"run_id\": \"AutoML_e0f61e9d-13be-43f8-87d6-3fd241473e27_47\", \"run_number\": 52, \"metric\": null, \"status\": \"Completed\", \"run_type\": \"azureml.scriptrun\", \"training_percent\": \"100\", \"start_time\": \"2021-03-11T14:20:07.606325Z\", \"end_time\": \"2021-03-11T14:20:57.125057Z\", \"created_time\": \"2021-03-11T14:18:52.590687Z\", \"created_time_dt\": \"2021-03-11T14:18:52.590687Z\", \"duration\": \"0:02:04\", \"iteration\": \"47\", \"goal\": \"accuracy_max\", \"run_name\": \"StandardScalerWrapper, LightGBM\", \"run_properties\": \"<azureml.automl.runtime.shared.model_wrappers.StandardScalerWrapper object at 0x7fa3dd2da0f0\", \"primary_metric\": 0.93744031, \"best_metric\": 0.97612225}, {\"run_id\": \"AutoML_e0f61e9d-13be-43f8-87d6-3fd241473e27_48\", \"run_number\": 53, \"metric\": null, \"status\": \"Completed\", \"run_type\": \"azureml.scriptrun\", \"training_percent\": \"100\", \"start_time\": \"2021-03-11T14:20:12.716641Z\", \"end_time\": \"2021-03-11T14:20:58.392252Z\", \"created_time\": \"2021-03-11T14:18:57.197125Z\", \"created_time_dt\": \"2021-03-11T14:18:57.197125Z\", \"duration\": \"0:02:01\", \"iteration\": \"48\", \"goal\": \"accuracy_max\", \"run_name\": \"MaxAbsScaler, LightGBM\", \"run_properties\": \"copy=True\", \"primary_metric\": 0.92024833, \"best_metric\": 0.97612225}, {\"run_id\": \"AutoML_e0f61e9d-13be-43f8-87d6-3fd241473e27_49\", \"run_number\": 54, \"metric\": null, \"status\": \"Completed\", \"run_type\": \"azureml.scriptrun\", \"training_percent\": \"100\", \"start_time\": \"2021-03-11T14:20:08.746175Z\", \"end_time\": \"2021-03-11T14:20:57.149696Z\", \"created_time\": \"2021-03-11T14:18:57.225518Z\", \"created_time_dt\": \"2021-03-11T14:18:57.225518Z\", \"duration\": \"0:01:59\", \"iteration\": \"49\", \"goal\": \"accuracy_max\", \"run_name\": \"MaxAbsScaler, LightGBM\", \"run_properties\": \"copy=True\", \"primary_metric\": 0.94221585, \"best_metric\": 0.97612225}, {\"run_id\": \"AutoML_e0f61e9d-13be-43f8-87d6-3fd241473e27_50\", \"run_number\": 55, \"metric\": null, \"status\": \"Completed\", \"run_type\": \"azureml.scriptrun\", \"training_percent\": \"100\", \"start_time\": \"2021-03-11T14:20:12.823915Z\", \"end_time\": \"2021-03-11T14:20:58.861528Z\", \"created_time\": \"2021-03-11T14:18:57.226715Z\", \"created_time_dt\": \"2021-03-11T14:18:57.226715Z\", \"duration\": \"0:02:01\", \"iteration\": \"50\", \"goal\": \"accuracy_max\", \"run_name\": \"MaxAbsScaler, LightGBM\", \"run_properties\": \"copy=True\", \"primary_metric\": 0.9417383, \"best_metric\": 0.97612225}, {\"run_id\": \"AutoML_e0f61e9d-13be-43f8-87d6-3fd241473e27_51\", \"run_number\": 56, \"metric\": null, \"status\": \"Canceled\", \"run_type\": \"azureml.scriptrun\", \"training_percent\": \"100\", \"start_time\": \"2021-03-11T14:20:17.139211Z\", \"end_time\": \"2021-03-11T14:21:08.911514Z\", \"created_time\": \"2021-03-11T14:19:00.820067Z\", \"created_time_dt\": \"2021-03-11T14:19:00.820067Z\", \"duration\": \"0:02:08\", \"iteration\": \"51\", \"goal\": \"accuracy_max\", \"run_name\": \"MaxAbsScaler, ExtremeRandomTrees\", \"run_properties\": \"copy=True\", \"primary_metric\": 0.91595033, \"best_metric\": 0.97612225}, {\"run_id\": \"AutoML_e0f61e9d-13be-43f8-87d6-3fd241473e27_52\", \"run_number\": 57, \"metric\": null, \"status\": \"Canceled\", \"run_type\": \"azureml.scriptrun\", \"training_percent\": \"100\", \"start_time\": \"2021-03-11T14:20:25.990873Z\", \"end_time\": \"2021-03-11T14:21:06.25994Z\", \"created_time\": \"2021-03-11T14:19:07.468097Z\", \"created_time_dt\": \"2021-03-11T14:19:07.468097Z\", \"duration\": \"0:01:58\", \"iteration\": \"52\", \"goal\": \"accuracy_max\", \"run_name\": \"MaxAbsScaler, LightGBM\", \"run_properties\": \"copy=True\", \"primary_metric\": 0.92741165, \"best_metric\": 0.97612225}, {\"run_id\": \"AutoML_e0f61e9d-13be-43f8-87d6-3fd241473e27_53\", \"run_number\": 58, \"metric\": null, \"status\": \"Canceled\", \"run_type\": \"azureml.scriptrun\", \"training_percent\": \"100\", \"start_time\": \"2021-03-11T14:20:30.007059Z\", \"end_time\": \"2021-03-11T14:21:05.724702Z\", \"created_time\": \"2021-03-11T14:19:13.829566Z\", \"created_time_dt\": \"2021-03-11T14:19:13.829566Z\", \"duration\": \"0:01:51\", \"iteration\": \"53\", \"goal\": \"accuracy_max\", \"run_name\": \"MaxAbsScaler, RandomForest\", \"run_properties\": \"copy=True\", \"primary_metric\": 0.93266476, \"best_metric\": 0.97612225}, {\"run_id\": \"AutoML_e0f61e9d-13be-43f8-87d6-3fd241473e27_54\", \"run_number\": 59, \"metric\": null, \"status\": \"Canceled\", \"run_type\": \"azureml.scriptrun\", \"training_percent\": \"100\", \"start_time\": \"2021-03-11T14:20:48.578074Z\", \"end_time\": \"2021-03-11T14:21:06.992437Z\", \"created_time\": \"2021-03-11T14:19:31.749087Z\", \"created_time_dt\": \"2021-03-11T14:19:31.749087Z\", \"duration\": \"0:01:35\", \"iteration\": \"54\", \"goal\": null, \"run_name\": \"Canceled\", \"run_properties\": null}, {\"run_id\": \"AutoML_e0f61e9d-13be-43f8-87d6-3fd241473e27_55\", \"run_number\": 60, \"metric\": null, \"status\": \"Canceled\", \"run_type\": \"azureml.scriptrun\", \"training_percent\": \"100\", \"start_time\": \"2021-03-11T14:20:51.549717Z\", \"end_time\": \"2021-03-11T14:21:06.310337Z\", \"created_time\": \"2021-03-11T14:19:38.118329Z\", \"created_time_dt\": \"2021-03-11T14:19:38.118329Z\", \"duration\": \"0:01:28\", \"iteration\": \"55\", \"goal\": null, \"run_name\": \"Canceled\", \"run_properties\": null}, {\"run_id\": \"AutoML_e0f61e9d-13be-43f8-87d6-3fd241473e27_56\", \"run_number\": 61, \"metric\": null, \"status\": \"Canceled\", \"run_type\": \"azureml.scriptrun\", \"training_percent\": \"100\", \"start_time\": \"2021-03-11T14:19:48.949469Z\", \"end_time\": \"2021-03-11T14:21:06.795762Z\", \"created_time\": \"2021-03-11T14:19:48.949469Z\", \"created_time_dt\": \"2021-03-11T14:19:48.949469Z\", \"duration\": \"0:01:17\", \"iteration\": \"56\", \"goal\": null, \"run_name\": \"Canceled\", \"run_properties\": null}, {\"run_id\": \"AutoML_e0f61e9d-13be-43f8-87d6-3fd241473e27_57\", \"run_number\": 62, \"metric\": null, \"status\": \"Canceled\", \"run_type\": \"azureml.scriptrun\", \"training_percent\": \"100\", \"start_time\": \"2021-03-11T14:19:52.942625Z\", \"end_time\": \"2021-03-11T14:21:08.067901Z\", \"created_time\": \"2021-03-11T14:19:52.942625Z\", \"created_time_dt\": \"2021-03-11T14:19:52.942625Z\", \"duration\": \"0:01:15\", \"iteration\": \"57\", \"goal\": null, \"run_name\": \"Canceled\", \"run_properties\": null}, {\"run_id\": \"AutoML_e0f61e9d-13be-43f8-87d6-3fd241473e27_58\", \"run_number\": 63, \"metric\": null, \"status\": \"Canceled\", \"run_type\": \"azureml.scriptrun\", \"training_percent\": \"100\", \"start_time\": \"2021-03-11T14:19:56.245998Z\", \"end_time\": \"2021-03-11T14:21:07.194025Z\", \"created_time\": \"2021-03-11T14:19:56.245998Z\", \"created_time_dt\": \"2021-03-11T14:19:56.245998Z\", \"duration\": \"0:01:10\", \"iteration\": \"58\", \"goal\": null, \"run_name\": \"Canceled\", \"run_properties\": null}, {\"run_id\": \"AutoML_e0f61e9d-13be-43f8-87d6-3fd241473e27_59\", \"run_number\": 64, \"metric\": null, \"status\": \"Canceled\", \"run_type\": \"azureml.scriptrun\", \"training_percent\": \"100\", \"start_time\": \"2021-03-11T14:19:59.635479Z\", \"end_time\": \"2021-03-11T14:21:07.58311Z\", \"created_time\": \"2021-03-11T14:19:59.635479Z\", \"created_time_dt\": \"2021-03-11T14:19:59.635479Z\", \"duration\": \"0:01:07\", \"iteration\": \"59\", \"goal\": null, \"run_name\": \"Canceled\", \"run_properties\": null}, {\"run_id\": \"AutoML_e0f61e9d-13be-43f8-87d6-3fd241473e27_60\", \"run_number\": 65, \"metric\": null, \"status\": \"Canceled\", \"run_type\": \"azureml.scriptrun\", \"training_percent\": \"100\", \"start_time\": \"2021-03-11T14:20:04.065612Z\", \"end_time\": \"2021-03-11T14:21:07.38977Z\", \"created_time\": \"2021-03-11T14:20:04.065612Z\", \"created_time_dt\": \"2021-03-11T14:20:04.065612Z\", \"duration\": \"0:01:03\", \"iteration\": \"60\", \"goal\": null, \"run_name\": \"Canceled\", \"run_properties\": null}, {\"run_id\": \"AutoML_e0f61e9d-13be-43f8-87d6-3fd241473e27_61\", \"run_number\": 66, \"metric\": null, \"status\": \"Canceled\", \"run_type\": \"azureml.scriptrun\", \"training_percent\": \"100\", \"start_time\": \"2021-03-11T14:20:07.252612Z\", \"end_time\": \"2021-03-11T14:21:07.86918Z\", \"created_time\": \"2021-03-11T14:20:07.252612Z\", \"created_time_dt\": \"2021-03-11T14:20:07.252612Z\", \"duration\": \"0:01:00\", \"iteration\": \"61\", \"goal\": null, \"run_name\": \"Canceled\", \"run_properties\": null}, {\"run_id\": \"AutoML_e0f61e9d-13be-43f8-87d6-3fd241473e27_62\", \"run_number\": 67, \"metric\": null, \"status\": \"Canceled\", \"run_type\": \"azureml.scriptrun\", \"training_percent\": \"100\", \"start_time\": \"2021-03-11T14:20:13.512428Z\", \"end_time\": \"2021-03-11T14:21:07.153955Z\", \"created_time\": \"2021-03-11T14:20:13.512428Z\", \"created_time_dt\": \"2021-03-11T14:20:13.512428Z\", \"duration\": \"0:00:53\", \"iteration\": \"62\", \"goal\": null, \"run_name\": \"Canceled\", \"run_properties\": null}, {\"run_id\": \"AutoML_e0f61e9d-13be-43f8-87d6-3fd241473e27_63\", \"run_number\": 68, \"metric\": null, \"status\": \"Canceled\", \"run_type\": \"azureml.scriptrun\", \"training_percent\": \"100\", \"start_time\": \"2021-03-11T14:20:19.289407Z\", \"end_time\": \"2021-03-11T14:21:06.131428Z\", \"created_time\": \"2021-03-11T14:20:19.289407Z\", \"created_time_dt\": \"2021-03-11T14:20:19.289407Z\", \"duration\": \"0:00:46\", \"iteration\": \"63\", \"goal\": null, \"run_name\": \"Canceled\", \"run_properties\": null}, {\"run_id\": \"AutoML_e0f61e9d-13be-43f8-87d6-3fd241473e27_64\", \"run_number\": 69, \"metric\": null, \"status\": \"Canceled\", \"run_type\": \"azureml.scriptrun\", \"training_percent\": \"100\", \"start_time\": \"2021-03-11T14:20:35.252634Z\", \"end_time\": \"2021-03-11T14:21:06.961579Z\", \"created_time\": \"2021-03-11T14:20:35.252634Z\", \"created_time_dt\": \"2021-03-11T14:20:35.252634Z\", \"duration\": \"0:00:31\", \"iteration\": \"64\", \"goal\": null, \"run_name\": \"Canceled\", \"run_properties\": null}, {\"run_id\": \"AutoML_e0f61e9d-13be-43f8-87d6-3fd241473e27_65\", \"run_number\": 70, \"metric\": null, \"status\": \"Canceled\", \"run_type\": \"azureml.scriptrun\", \"training_percent\": \"100\", \"start_time\": \"2021-03-11T14:20:43.018972Z\", \"end_time\": \"2021-03-11T14:21:06.850452Z\", \"created_time\": \"2021-03-11T14:20:43.018972Z\", \"created_time_dt\": \"2021-03-11T14:20:43.018972Z\", \"duration\": \"0:00:23\", \"iteration\": \"65\", \"goal\": null, \"run_name\": \"Canceled\", \"run_properties\": null}, {\"run_id\": \"AutoML_e0f61e9d-13be-43f8-87d6-3fd241473e27_66\", \"run_number\": 71, \"metric\": null, \"status\": \"Canceled\", \"run_type\": \"azureml.scriptrun\", \"training_percent\": \"100\", \"start_time\": \"2021-03-11T14:20:57.006978Z\", \"end_time\": \"2021-03-11T14:21:12.403222Z\", \"created_time\": \"2021-03-11T14:20:57.006978Z\", \"created_time_dt\": \"2021-03-11T14:20:57.006978Z\", \"duration\": \"0:00:15\", \"iteration\": \"66\", \"goal\": null, \"run_name\": \"Canceled\", \"run_properties\": null}, {\"run_id\": \"AutoML_e0f61e9d-13be-43f8-87d6-3fd241473e27_67\", \"run_number\": 72, \"metric\": null, \"status\": \"Completed\", \"run_type\": \"azureml.scriptrun\", \"training_percent\": \"100\", \"start_time\": \"2021-03-11T14:21:24.577956Z\", \"end_time\": \"2021-03-11T14:22:41.012527Z\", \"created_time\": \"2021-03-11T14:21:15.542495Z\", \"created_time_dt\": \"2021-03-11T14:21:15.542495Z\", \"duration\": \"0:01:25\", \"iteration\": \"67\", \"goal\": \"accuracy_max\", \"run_name\": \"VotingEnsemble\", \"run_properties\": \"classification_labels=None,\\n                              estimators=[('0',\\n                                           Pipeline(memory=None,\\n                                                    steps=[('maxabsscaler',\\n                                                            MaxAbsScaler(copy=True\", \"primary_metric\": 0.97755492, \"best_metric\": 0.97755492}], \"children_metrics\": {\"categories\": [0], \"series\": {\"f1_score_macro\": [{\"categories\": [\"0\", \"1\", \"2\", \"3\", \"4\", \"5\", \"6\", \"7\", \"8\", \"9\", \"10\", \"11\", \"12\", \"13\", \"14\", \"15\", \"16\", \"17\", \"18\", \"19\", \"20\", \"21\", \"22\", \"23\", \"24\", \"25\", \"26\", \"27\", \"28\", \"29\", \"30\", \"31\", \"32\", \"33\", \"34\", \"35\", \"36\", \"37\", \"38\", \"39\", \"40\", \"41\", \"42\", \"43\", \"44\", \"45\", \"46\", \"47\", \"48\", \"49\", \"50\", \"51\", \"52\", \"53\", \"67\"], \"mode\": \"markers\", \"name\": \"f1_score_macro\", \"stepped\": false, \"type\": \"scatter\", \"data\": [0.9738767131590285, 0.936487878569625, 0.9235125619901551, 0.9562049815978316, 0.8769895995991738, 0.939359991298481, 0.8441750321798412, 0.9555866496756296, 0.6688719745551016, 0.9539331763645644, 0.9154658906819101, 0.9487908645937263, 0.9549419248809929, 0.9506350067795069, 0.9565539464219913, 0.9253403026749031, 0.950257025930816, 0.9387537010213552, 0.9131183847983876, 0.9337910553478116, 0.9334796840238392, 0.8572660816112175, 0.9064386151289548, 0.9353385382482274, 0.9474780330976627, 0.9393773550554942, 0.930124251302847, 0.9366088319126478, 0.9189078868936923, 0.9599337967168519, 0.945008797575216, 0.9345422565378909, 0.9583321370004111, 0.9263876940268619, 0.9491942921040716, 0.9118797799397642, 0.9466409242955075, 0.926932007197629, 0.925398340014835, 0.9472066600834412, 0.9399527187174178, 0.9348659804686014, 0.9183876294717033, 0.9593316042504894, 0.9459248208430663, 0.9093085388983354, 0.9370964856572487, 0.9293676776008132, 0.9098950135533279, 0.9349760927888043, 0.9342041903039435, 0.9059396268415941, 0.9170547477185623, 0.9234636142223142, 0.9754108404548871]}, {\"categories\": [\"0\", \"1\", \"2\", \"3\", \"4\", \"5\", \"6\", \"7\", \"8\", \"9\", \"10\", \"11\", \"12\", \"13\", \"14\", \"15\", \"16\", \"17\", \"18\", \"19\", \"20\", \"21\", \"22\", \"23\", \"24\", \"25\", \"26\", \"27\", \"28\", \"29\", \"30\", \"31\", \"32\", \"33\", \"34\", \"35\", \"36\", \"37\", \"38\", \"39\", \"40\", \"41\", \"42\", \"43\", \"44\", \"45\", \"46\", \"47\", \"48\", \"49\", \"50\", \"51\", \"52\", \"53\", \"67\"], \"mode\": \"lines\", \"name\": \"f1_score_macro_max\", \"stepped\": true, \"type\": \"scatter\", \"data\": [0.9738767131590285, 0.9738767131590285, 0.9738767131590285, 0.9738767131590285, 0.9738767131590285, 0.9738767131590285, 0.9738767131590285, 0.9738767131590285, 0.9738767131590285, 0.9738767131590285, 0.9738767131590285, 0.9738767131590285, 0.9738767131590285, 0.9738767131590285, 0.9738767131590285, 0.9738767131590285, 0.9738767131590285, 0.9738767131590285, 0.9738767131590285, 0.9738767131590285, 0.9738767131590285, 0.9738767131590285, 0.9738767131590285, 0.9738767131590285, 0.9738767131590285, 0.9738767131590285, 0.9738767131590285, 0.9738767131590285, 0.9738767131590285, 0.9738767131590285, 0.9738767131590285, 0.9738767131590285, 0.9738767131590285, 0.9738767131590285, 0.9738767131590285, 0.9738767131590285, 0.9738767131590285, 0.9738767131590285, 0.9738767131590285, 0.9738767131590285, 0.9738767131590285, 0.9738767131590285, 0.9738767131590285, 0.9738767131590285, 0.9738767131590285, 0.9738767131590285, 0.9738767131590285, 0.9738767131590285, 0.9738767131590285, 0.9738767131590285, 0.9738767131590285, 0.9738767131590285, 0.9738767131590285, 0.9738767131590285, 0.9754108404548871]}], \"precision_score_weighted\": [{\"categories\": [\"0\", \"1\", \"2\", \"3\", \"4\", \"5\", \"6\", \"7\", \"8\", \"9\", \"10\", \"11\", \"12\", \"13\", \"14\", \"15\", \"16\", \"17\", \"18\", \"19\", \"20\", \"21\", \"22\", \"23\", \"24\", \"25\", \"26\", \"27\", \"28\", \"29\", \"30\", \"31\", \"32\", \"33\", \"34\", \"35\", \"36\", \"37\", \"38\", \"39\", \"40\", \"41\", \"42\", \"43\", \"44\", \"45\", \"46\", \"47\", \"48\", \"49\", \"50\", \"51\", \"52\", \"53\", \"67\"], \"mode\": \"markers\", \"name\": \"precision_score_weighted\", \"stepped\": false, \"type\": \"scatter\", \"data\": [0.9765409993583202, 0.9483125966219704, 0.9392049111482027, 0.9617752410455136, 0.8929674483183926, 0.9503757434517347, 0.8728772115479032, 0.9595589222105491, 0.7707039424456258, 0.9585907021625788, 0.9336324184807809, 0.9572145629790382, 0.9614969247896649, 0.9580490327534652, 0.9628038493539783, 0.9315131942329503, 0.9569750831929285, 0.9472939857536512, 0.9203142678565577, 0.9457323958166337, 0.9445281309527916, 0.8727249569542802, 0.9159493069110476, 0.9477246370857076, 0.954583905614943, 0.9500443551491274, 0.9401380091873529, 0.9478303993312193, 0.9313371620121735, 0.965309966577722, 0.9538217620944911, 0.9434384456086891, 0.963917014184, 0.9407481228117892, 0.9561065619181756, 0.9315193755021135, 0.9553044547389767, 0.9416887459192598, 0.9392297909724676, 0.955679197254768, 0.9482917604112454, 0.9471061327450697, 0.9355339614925393, 0.9650685222655121, 0.9532757772852731, 0.9278896339390063, 0.9487470847286804, 0.9423505516970586, 0.9245949223643475, 0.9466217526605059, 0.9468624682981613, 0.9178686776927364, 0.9350694115426886, 0.9392227212801242, 0.9782193780102504]}, {\"categories\": [\"0\", \"1\", \"2\", \"3\", \"4\", \"5\", \"6\", \"7\", \"8\", \"9\", \"10\", \"11\", \"12\", \"13\", \"14\", \"15\", \"16\", \"17\", \"18\", \"19\", \"20\", \"21\", \"22\", \"23\", \"24\", \"25\", \"26\", \"27\", \"28\", \"29\", \"30\", \"31\", \"32\", \"33\", \"34\", \"35\", \"36\", \"37\", \"38\", \"39\", \"40\", \"41\", \"42\", \"43\", \"44\", \"45\", \"46\", \"47\", \"48\", \"49\", \"50\", \"51\", \"52\", \"53\", \"67\"], \"mode\": \"lines\", \"name\": \"precision_score_weighted_max\", \"stepped\": true, \"type\": \"scatter\", \"data\": [0.9765409993583202, 0.9765409993583202, 0.9765409993583202, 0.9765409993583202, 0.9765409993583202, 0.9765409993583202, 0.9765409993583202, 0.9765409993583202, 0.9765409993583202, 0.9765409993583202, 0.9765409993583202, 0.9765409993583202, 0.9765409993583202, 0.9765409993583202, 0.9765409993583202, 0.9765409993583202, 0.9765409993583202, 0.9765409993583202, 0.9765409993583202, 0.9765409993583202, 0.9765409993583202, 0.9765409993583202, 0.9765409993583202, 0.9765409993583202, 0.9765409993583202, 0.9765409993583202, 0.9765409993583202, 0.9765409993583202, 0.9765409993583202, 0.9765409993583202, 0.9765409993583202, 0.9765409993583202, 0.9765409993583202, 0.9765409993583202, 0.9765409993583202, 0.9765409993583202, 0.9765409993583202, 0.9765409993583202, 0.9765409993583202, 0.9765409993583202, 0.9765409993583202, 0.9765409993583202, 0.9765409993583202, 0.9765409993583202, 0.9765409993583202, 0.9765409993583202, 0.9765409993583202, 0.9765409993583202, 0.9765409993583202, 0.9765409993583202, 0.9765409993583202, 0.9765409993583202, 0.9765409993583202, 0.9765409993583202, 0.9782193780102504]}], \"average_precision_score_micro\": [{\"categories\": [\"0\", \"1\", \"2\", \"3\", \"4\", \"5\", \"6\", \"7\", \"8\", \"9\", \"10\", \"11\", \"12\", \"13\", \"14\", \"15\", \"16\", \"17\", \"18\", \"19\", \"20\", \"21\", \"22\", \"23\", \"24\", \"25\", \"26\", \"27\", \"28\", \"29\", \"30\", \"31\", \"32\", \"33\", \"34\", \"35\", \"36\", \"37\", \"38\", \"39\", \"40\", \"41\", \"42\", \"43\", \"44\", \"45\", \"46\", \"47\", \"48\", \"49\", \"50\", \"51\", \"52\", \"53\", \"67\"], \"mode\": \"markers\", \"name\": \"average_precision_score_micro\", \"stepped\": false, \"type\": \"scatter\", \"data\": [0.9895997333717722, 0.9798824971007548, 0.9767573642422148, 0.9860449167916131, 0.9579254269521483, 0.9796294972450684, 0.9265247156821989, 0.9934624124423103, 0.8070887462313228, 0.96524095102603, 0.9695740420424102, 0.9757055010345619, 0.9847148678151885, 0.9823606081813177, 0.9877112612723639, 0.9803344883460606, 0.9847842234684538, 0.9806196510790697, 0.972493242398084, 0.9698377626694729, 0.9792564713275769, 0.924335048938535, 0.952752841979382, 0.9693716338374786, 0.9818927551295774, 0.9673183223642798, 0.9677520536288008, 0.9692918837757182, 0.9657003986802151, 0.9879240059318845, 0.9840288973294838, 0.9701222420654404, 0.9789262068612968, 0.9468404112818839, 0.9865715312802857, 0.9672147286720244, 0.9765122658668829, 0.9601129210511914, 0.9583171702332259, 0.9837876679436842, 0.9764227113853625, 0.9734309316959958, 0.9549735334215436, 0.985778569862786, 0.9821641100381907, 0.9265042294851171, 0.9710061172039914, 0.9608918944494724, 0.9382846786852156, 0.967276545629988, 0.9690428872611742, 0.9611903269184975, 0.9669663660652894, 0.9766177919222366, 0.993075898733251]}, {\"categories\": [\"0\", \"1\", \"2\", \"3\", \"4\", \"5\", \"6\", \"7\", \"8\", \"9\", \"10\", \"11\", \"12\", \"13\", \"14\", \"15\", \"16\", \"17\", \"18\", \"19\", \"20\", \"21\", \"22\", \"23\", \"24\", \"25\", \"26\", \"27\", \"28\", \"29\", \"30\", \"31\", \"32\", \"33\", \"34\", \"35\", \"36\", \"37\", \"38\", \"39\", \"40\", \"41\", \"42\", \"43\", \"44\", \"45\", \"46\", \"47\", \"48\", \"49\", \"50\", \"51\", \"52\", \"53\", \"67\"], \"mode\": \"lines\", \"name\": \"average_precision_score_micro_max\", \"stepped\": true, \"type\": \"scatter\", \"data\": [0.9895997333717722, 0.9895997333717722, 0.9895997333717722, 0.9895997333717722, 0.9895997333717722, 0.9895997333717722, 0.9895997333717722, 0.9934624124423103, 0.9934624124423103, 0.9934624124423103, 0.9934624124423103, 0.9934624124423103, 0.9934624124423103, 0.9934624124423103, 0.9934624124423103, 0.9934624124423103, 0.9934624124423103, 0.9934624124423103, 0.9934624124423103, 0.9934624124423103, 0.9934624124423103, 0.9934624124423103, 0.9934624124423103, 0.9934624124423103, 0.9934624124423103, 0.9934624124423103, 0.9934624124423103, 0.9934624124423103, 0.9934624124423103, 0.9934624124423103, 0.9934624124423103, 0.9934624124423103, 0.9934624124423103, 0.9934624124423103, 0.9934624124423103, 0.9934624124423103, 0.9934624124423103, 0.9934624124423103, 0.9934624124423103, 0.9934624124423103, 0.9934624124423103, 0.9934624124423103, 0.9934624124423103, 0.9934624124423103, 0.9934624124423103, 0.9934624124423103, 0.9934624124423103, 0.9934624124423103, 0.9934624124423103, 0.9934624124423103, 0.9934624124423103, 0.9934624124423103, 0.9934624124423103, 0.9934624124423103, 0.9934624124423103]}], \"balanced_accuracy\": [{\"categories\": [\"0\", \"1\", \"2\", \"3\", \"4\", \"5\", \"6\", \"7\", \"8\", \"9\", \"10\", \"11\", \"12\", \"13\", \"14\", \"15\", \"16\", \"17\", \"18\", \"19\", \"20\", \"21\", \"22\", \"23\", \"24\", \"25\", \"26\", \"27\", \"28\", \"29\", \"30\", \"31\", \"32\", \"33\", \"34\", \"35\", \"36\", \"37\", \"38\", \"39\", \"40\", \"41\", \"42\", \"43\", \"44\", \"45\", \"46\", \"47\", \"48\", \"49\", \"50\", \"51\", \"52\", \"53\", \"67\"], \"mode\": \"markers\", \"name\": \"balanced_accuracy\", \"stepped\": false, \"type\": \"scatter\", \"data\": [0.9697746651882442, 0.9224105423089074, 0.9067997302252767, 0.9483153801880935, 0.8884133824763424, 0.925427275517262, 0.8677426861269719, 0.9521225038703909, 0.7207724102103947, 0.9492827555765411, 0.8978608131461833, 0.9368904415393317, 0.9455328693745381, 0.9406761122336736, 0.9471570366279822, 0.928277966967153, 0.9409833800816996, 0.928039542862007, 0.9166083777605601, 0.919512182102317, 0.9204597196699998, 0.868744599702152, 0.8988734146014244, 0.9208426243557829, 0.9381403616921307, 0.9263547401643576, 0.9193501040609019, 0.9235474610813904, 0.9060186699033936, 0.9522824268375315, 0.9334295874270474, 0.9245447955324805, 0.950574412617069, 0.910630575601077, 0.940581898043181, 0.8934196479471002, 0.9360416669469415, 0.9114378884554039, 0.9105715635929154, 0.9362982989733633, 0.9302744593570044, 0.92048405184918, 0.9011524866032575, 0.9506435689315413, 0.936049433675359, 0.8919117968715571, 0.9235257631640345, 0.9147791948771409, 0.894977107019502, 0.9210905355044271, 0.9194252950035077, 0.8951597695274596, 0.8994642673262656, 0.9067451823552654, 0.9700142781445956]}, {\"categories\": [\"0\", \"1\", \"2\", \"3\", \"4\", \"5\", \"6\", \"7\", \"8\", \"9\", \"10\", \"11\", \"12\", \"13\", \"14\", \"15\", \"16\", \"17\", \"18\", \"19\", \"20\", \"21\", \"22\", \"23\", \"24\", \"25\", \"26\", \"27\", \"28\", \"29\", \"30\", \"31\", \"32\", \"33\", \"34\", \"35\", \"36\", \"37\", \"38\", \"39\", \"40\", \"41\", \"42\", \"43\", \"44\", \"45\", \"46\", \"47\", \"48\", \"49\", \"50\", \"51\", \"52\", \"53\", \"67\"], \"mode\": \"lines\", \"name\": \"balanced_accuracy_max\", \"stepped\": true, \"type\": \"scatter\", \"data\": [0.9697746651882442, 0.9697746651882442, 0.9697746651882442, 0.9697746651882442, 0.9697746651882442, 0.9697746651882442, 0.9697746651882442, 0.9697746651882442, 0.9697746651882442, 0.9697746651882442, 0.9697746651882442, 0.9697746651882442, 0.9697746651882442, 0.9697746651882442, 0.9697746651882442, 0.9697746651882442, 0.9697746651882442, 0.9697746651882442, 0.9697746651882442, 0.9697746651882442, 0.9697746651882442, 0.9697746651882442, 0.9697746651882442, 0.9697746651882442, 0.9697746651882442, 0.9697746651882442, 0.9697746651882442, 0.9697746651882442, 0.9697746651882442, 0.9697746651882442, 0.9697746651882442, 0.9697746651882442, 0.9697746651882442, 0.9697746651882442, 0.9697746651882442, 0.9697746651882442, 0.9697746651882442, 0.9697746651882442, 0.9697746651882442, 0.9697746651882442, 0.9697746651882442, 0.9697746651882442, 0.9697746651882442, 0.9697746651882442, 0.9697746651882442, 0.9697746651882442, 0.9697746651882442, 0.9697746651882442, 0.9697746651882442, 0.9697746651882442, 0.9697746651882442, 0.9697746651882442, 0.9697746651882442, 0.9697746651882442, 0.9700142781445956]}], \"AUC_weighted\": [{\"categories\": [\"0\", \"1\", \"2\", \"3\", \"4\", \"5\", \"6\", \"7\", \"8\", \"9\", \"10\", \"11\", \"12\", \"13\", \"14\", \"15\", \"16\", \"17\", \"18\", \"19\", \"20\", \"21\", \"22\", \"23\", \"24\", \"25\", \"26\", \"27\", \"28\", \"29\", \"30\", \"31\", \"32\", \"33\", \"34\", \"35\", \"36\", \"37\", \"38\", \"39\", \"40\", \"41\", \"42\", \"43\", \"44\", \"45\", \"46\", \"47\", \"48\", \"49\", \"50\", \"51\", \"52\", \"53\", \"67\"], \"mode\": \"markers\", \"name\": \"AUC_weighted\", \"stepped\": false, \"type\": \"scatter\", \"data\": [0.9869881928145697, 0.9738950777434802, 0.9680371519847651, 0.980013740133694, 0.962016058607297, 0.9760465272434106, 0.931207510242646, 0.9917872460936606, 0.8383419008756504, 0.9684610199080784, 0.9668436003023745, 0.9789727844567793, 0.9774855504927581, 0.9770813165986452, 0.9820694906234273, 0.9795525120316046, 0.9789033282920578, 0.9765527816838632, 0.9701499170529123, 0.9724901833454899, 0.97040175388904, 0.9197422644067599, 0.9586682816829112, 0.9728325559640516, 0.9768296198229951, 0.9695838219709394, 0.9678746310389325, 0.9720158233272512, 0.9634481696530343, 0.9826740591555566, 0.9775443634637173, 0.969629273085987, 0.979932274120746, 0.9604385897484651, 0.9801291463497912, 0.9675694005109223, 0.9775747147362496, 0.9679689241080413, 0.9695660575260985, 0.9770256751992905, 0.9736857739251684, 0.9714551647368013, 0.966572287978073, 0.9794527547832083, 0.9743530190802575, 0.9537496002758415, 0.9771432306861697, 0.9623741199384693, 0.9579458279650224, 0.968082530533577, 0.972273740379193, 0.9597619709732995, 0.964166371880382, 0.9693302103717164, 0.9912763351231554]}, {\"categories\": [\"0\", \"1\", \"2\", \"3\", \"4\", \"5\", \"6\", \"7\", \"8\", \"9\", \"10\", \"11\", \"12\", \"13\", \"14\", \"15\", \"16\", \"17\", \"18\", \"19\", \"20\", \"21\", \"22\", \"23\", \"24\", \"25\", \"26\", \"27\", \"28\", \"29\", \"30\", \"31\", \"32\", \"33\", \"34\", \"35\", \"36\", \"37\", \"38\", \"39\", \"40\", \"41\", \"42\", \"43\", \"44\", \"45\", \"46\", \"47\", \"48\", \"49\", \"50\", \"51\", \"52\", \"53\", \"67\"], \"mode\": \"lines\", \"name\": \"AUC_weighted_max\", \"stepped\": true, \"type\": \"scatter\", \"data\": [0.9869881928145697, 0.9869881928145697, 0.9869881928145697, 0.9869881928145697, 0.9869881928145697, 0.9869881928145697, 0.9869881928145697, 0.9917872460936606, 0.9917872460936606, 0.9917872460936606, 0.9917872460936606, 0.9917872460936606, 0.9917872460936606, 0.9917872460936606, 0.9917872460936606, 0.9917872460936606, 0.9917872460936606, 0.9917872460936606, 0.9917872460936606, 0.9917872460936606, 0.9917872460936606, 0.9917872460936606, 0.9917872460936606, 0.9917872460936606, 0.9917872460936606, 0.9917872460936606, 0.9917872460936606, 0.9917872460936606, 0.9917872460936606, 0.9917872460936606, 0.9917872460936606, 0.9917872460936606, 0.9917872460936606, 0.9917872460936606, 0.9917872460936606, 0.9917872460936606, 0.9917872460936606, 0.9917872460936606, 0.9917872460936606, 0.9917872460936606, 0.9917872460936606, 0.9917872460936606, 0.9917872460936606, 0.9917872460936606, 0.9917872460936606, 0.9917872460936606, 0.9917872460936606, 0.9917872460936606, 0.9917872460936606, 0.9917872460936606, 0.9917872460936606, 0.9917872460936606, 0.9917872460936606, 0.9917872460936606, 0.9917872460936606]}], \"average_precision_score_macro\": [{\"categories\": [\"0\", \"1\", \"2\", \"3\", \"4\", \"5\", \"6\", \"7\", \"8\", \"9\", \"10\", \"11\", \"12\", \"13\", \"14\", \"15\", \"16\", \"17\", \"18\", \"19\", \"20\", \"21\", \"22\", \"23\", \"24\", \"25\", \"26\", \"27\", \"28\", \"29\", \"30\", \"31\", \"32\", \"33\", \"34\", \"35\", \"36\", \"37\", \"38\", \"39\", \"40\", \"41\", \"42\", \"43\", \"44\", \"45\", \"46\", \"47\", \"48\", \"49\", \"50\", \"51\", \"52\", \"53\", \"67\"], \"mode\": \"markers\", \"name\": \"average_precision_score_macro\", \"stepped\": false, \"type\": \"scatter\", \"data\": [0.9873735149389441, 0.9738936547481062, 0.9686062977116525, 0.9799165477276075, 0.9585921067582094, 0.9754336944688279, 0.9082984400345625, 0.99168657253276, 0.8210896930271655, 0.9620201383244122, 0.9679025995807519, 0.9796767108984611, 0.9781876147763677, 0.9776038811364213, 0.9826973936855682, 0.97624484939011, 0.9797992954545568, 0.9761324398970582, 0.967450364895779, 0.9708641964866157, 0.970945695099268, 0.8956808459902387, 0.9590262753574043, 0.972931496157656, 0.9755575667893387, 0.9691895227346174, 0.9678902480201419, 0.9723323013739703, 0.9646641024051453, 0.9831963578617722, 0.9783325243249813, 0.9695211153938773, 0.9798668097448724, 0.9560124394300459, 0.9805474121373902, 0.9676655247386137, 0.9775240158905918, 0.9673940162286777, 0.9680109109860601, 0.9770019459999113, 0.9739292356301142, 0.971816200351496, 0.9670295144556068, 0.980176087431568, 0.9746723608123172, 0.9468801187914574, 0.9775587183123121, 0.9609371361262898, 0.9552090975528648, 0.9654145505040178, 0.9718053443568003, 0.9600765156574497, 0.9641112256354711, 0.969829657099552, 0.9917890066127776]}, {\"categories\": [\"0\", \"1\", \"2\", \"3\", \"4\", \"5\", \"6\", \"7\", \"8\", \"9\", \"10\", \"11\", \"12\", \"13\", \"14\", \"15\", \"16\", \"17\", \"18\", \"19\", \"20\", \"21\", \"22\", \"23\", \"24\", \"25\", \"26\", \"27\", \"28\", \"29\", \"30\", \"31\", \"32\", \"33\", \"34\", \"35\", \"36\", \"37\", \"38\", \"39\", \"40\", \"41\", \"42\", \"43\", \"44\", \"45\", \"46\", \"47\", \"48\", \"49\", \"50\", \"51\", \"52\", \"53\", \"67\"], \"mode\": \"lines\", \"name\": \"average_precision_score_macro_max\", \"stepped\": true, \"type\": \"scatter\", \"data\": [0.9873735149389441, 0.9873735149389441, 0.9873735149389441, 0.9873735149389441, 0.9873735149389441, 0.9873735149389441, 0.9873735149389441, 0.99168657253276, 0.99168657253276, 0.99168657253276, 0.99168657253276, 0.99168657253276, 0.99168657253276, 0.99168657253276, 0.99168657253276, 0.99168657253276, 0.99168657253276, 0.99168657253276, 0.99168657253276, 0.99168657253276, 0.99168657253276, 0.99168657253276, 0.99168657253276, 0.99168657253276, 0.99168657253276, 0.99168657253276, 0.99168657253276, 0.99168657253276, 0.99168657253276, 0.99168657253276, 0.99168657253276, 0.99168657253276, 0.99168657253276, 0.99168657253276, 0.99168657253276, 0.99168657253276, 0.99168657253276, 0.99168657253276, 0.99168657253276, 0.99168657253276, 0.99168657253276, 0.99168657253276, 0.99168657253276, 0.99168657253276, 0.99168657253276, 0.99168657253276, 0.99168657253276, 0.99168657253276, 0.99168657253276, 0.99168657253276, 0.99168657253276, 0.99168657253276, 0.99168657253276, 0.99168657253276, 0.9917890066127776]}], \"recall_score_weighted\": [{\"categories\": [\"0\", \"1\", \"2\", \"3\", \"4\", \"5\", \"6\", \"7\", \"8\", \"9\", \"10\", \"11\", \"12\", \"13\", \"14\", \"15\", \"16\", \"17\", \"18\", \"19\", \"20\", \"21\", \"22\", \"23\", \"24\", \"25\", \"26\", \"27\", \"28\", \"29\", \"30\", \"31\", \"32\", \"33\", \"34\", \"35\", \"36\", \"37\", \"38\", \"39\", \"40\", \"41\", \"42\", \"43\", \"44\", \"45\", \"46\", \"47\", \"48\", \"49\", \"50\", \"51\", \"52\", \"53\", \"67\"], \"mode\": \"markers\", \"name\": \"recall_score_weighted\", \"stepped\": false, \"type\": \"scatter\", \"data\": [0.9761222540592168, 0.9436485195797517, 0.9326647564469915, 0.9603629417382998, 0.8839541547277937, 0.94603629417383, 0.8490926456542502, 0.9594078319006686, 0.669054441260745, 0.9579751671442215, 0.9259789875835721, 0.9541547277936964, 0.9594078319006685, 0.9555873925501434, 0.9608404966571156, 0.9307545367717287, 0.9551098376313276, 0.9450811843361987, 0.9192932187201528, 0.9412607449856734, 0.9407831900668576, 0.8648519579751671, 0.9154727793696275, 0.9426934097421203, 0.9527220630372493, 0.9460362941738301, 0.937440305635148, 0.9436485195797517, 0.9278892072588348, 0.9637058261700094, 0.9508118433619867, 0.9412607449856734, 0.9622731614135626, 0.9350525310410697, 0.9541547277936963, 0.9231136580706781, 0.9522445081184335, 0.9355300859598854, 0.9340974212034384, 0.9527220630372493, 0.94603629417383, 0.9422158548233046, 0.9283667621776504, 0.9632282712511939, 0.9512893982808022, 0.9207258834765998, 0.9441260744985674, 0.937440305635148, 0.9202483285577842, 0.9422158548233046, 0.9417382999044891, 0.9159503342884432, 0.9274116523400191, 0.9326647564469915, 0.9775549188156637]}, {\"categories\": [\"0\", \"1\", \"2\", \"3\", \"4\", \"5\", \"6\", \"7\", \"8\", \"9\", \"10\", \"11\", \"12\", \"13\", \"14\", \"15\", \"16\", \"17\", \"18\", \"19\", \"20\", \"21\", \"22\", \"23\", \"24\", \"25\", \"26\", \"27\", \"28\", \"29\", \"30\", \"31\", \"32\", \"33\", \"34\", \"35\", \"36\", \"37\", \"38\", \"39\", \"40\", \"41\", \"42\", \"43\", \"44\", \"45\", \"46\", \"47\", \"48\", \"49\", \"50\", \"51\", \"52\", \"53\", \"67\"], \"mode\": \"lines\", \"name\": \"recall_score_weighted_max\", \"stepped\": true, \"type\": \"scatter\", \"data\": [0.9761222540592168, 0.9761222540592168, 0.9761222540592168, 0.9761222540592168, 0.9761222540592168, 0.9761222540592168, 0.9761222540592168, 0.9761222540592168, 0.9761222540592168, 0.9761222540592168, 0.9761222540592168, 0.9761222540592168, 0.9761222540592168, 0.9761222540592168, 0.9761222540592168, 0.9761222540592168, 0.9761222540592168, 0.9761222540592168, 0.9761222540592168, 0.9761222540592168, 0.9761222540592168, 0.9761222540592168, 0.9761222540592168, 0.9761222540592168, 0.9761222540592168, 0.9761222540592168, 0.9761222540592168, 0.9761222540592168, 0.9761222540592168, 0.9761222540592168, 0.9761222540592168, 0.9761222540592168, 0.9761222540592168, 0.9761222540592168, 0.9761222540592168, 0.9761222540592168, 0.9761222540592168, 0.9761222540592168, 0.9761222540592168, 0.9761222540592168, 0.9761222540592168, 0.9761222540592168, 0.9761222540592168, 0.9761222540592168, 0.9761222540592168, 0.9761222540592168, 0.9761222540592168, 0.9761222540592168, 0.9761222540592168, 0.9761222540592168, 0.9761222540592168, 0.9761222540592168, 0.9761222540592168, 0.9761222540592168, 0.9775549188156637]}], \"precision_score_macro\": [{\"categories\": [\"0\", \"1\", \"2\", \"3\", \"4\", \"5\", \"6\", \"7\", \"8\", \"9\", \"10\", \"11\", \"12\", \"13\", \"14\", \"15\", \"16\", \"17\", \"18\", \"19\", \"20\", \"21\", \"22\", \"23\", \"24\", \"25\", \"26\", \"27\", \"28\", \"29\", \"30\", \"31\", \"32\", \"33\", \"34\", \"35\", \"36\", \"37\", \"38\", \"39\", \"40\", \"41\", \"42\", \"43\", \"44\", \"45\", \"46\", \"47\", \"48\", \"49\", \"50\", \"51\", \"52\", \"53\", \"67\"], \"mode\": \"markers\", \"name\": \"precision_score_macro\", \"stepped\": false, \"type\": \"scatter\", \"data\": [0.9787478148347556, 0.9590936906225574, 0.952366551947728, 0.9667814181523534, 0.873174538992291, 0.9610849230996746, 0.8405346882390002, 0.9596196517976118, 0.7164109383391893, 0.9599393734918552, 0.9475993282421085, 0.9661410235358444, 0.968097956066931, 0.9650443574087063, 0.9694459766461652, 0.9227901743681609, 0.963068401883073, 0.9540941094491169, 0.9101336290541159, 0.9565137251434089, 0.953742977636702, 0.8509507085448256, 0.9169079761937317, 0.9589959349258309, 0.9605225590922197, 0.9597563382486979, 0.9467162181009128, 0.9574756883924379, 0.9394292635260366, 0.9704263039561493, 0.9621366395385955, 0.9493158978972863, 0.9690327197121777, 0.9529165915367628, 0.9614946752704351, 0.9463856076035301, 0.9628478778300856, 0.9538385760930193, 0.9502642032677687, 0.9635091807579862, 0.954199994002536, 0.9581831676441933, 0.949143765532572, 0.9712590718078955, 0.9597310202183635, 0.9411533259933559, 0.9591311678939675, 0.9532442595330535, 0.9346159080437123, 0.9571297170354915, 0.958345515625605, 0.9224136363526251, 0.9491418694971431, 0.9523936380511283, 0.9819409398331969]}, {\"categories\": [\"0\", \"1\", \"2\", \"3\", \"4\", \"5\", \"6\", \"7\", \"8\", \"9\", \"10\", \"11\", \"12\", \"13\", \"14\", \"15\", \"16\", \"17\", \"18\", \"19\", \"20\", \"21\", \"22\", \"23\", \"24\", \"25\", \"26\", \"27\", \"28\", \"29\", \"30\", \"31\", \"32\", \"33\", \"34\", \"35\", \"36\", \"37\", \"38\", \"39\", \"40\", \"41\", \"42\", \"43\", \"44\", \"45\", \"46\", \"47\", \"48\", \"49\", \"50\", \"51\", \"52\", \"53\", \"67\"], \"mode\": \"lines\", \"name\": \"precision_score_macro_max\", \"stepped\": true, \"type\": \"scatter\", \"data\": [0.9787478148347556, 0.9787478148347556, 0.9787478148347556, 0.9787478148347556, 0.9787478148347556, 0.9787478148347556, 0.9787478148347556, 0.9787478148347556, 0.9787478148347556, 0.9787478148347556, 0.9787478148347556, 0.9787478148347556, 0.9787478148347556, 0.9787478148347556, 0.9787478148347556, 0.9787478148347556, 0.9787478148347556, 0.9787478148347556, 0.9787478148347556, 0.9787478148347556, 0.9787478148347556, 0.9787478148347556, 0.9787478148347556, 0.9787478148347556, 0.9787478148347556, 0.9787478148347556, 0.9787478148347556, 0.9787478148347556, 0.9787478148347556, 0.9787478148347556, 0.9787478148347556, 0.9787478148347556, 0.9787478148347556, 0.9787478148347556, 0.9787478148347556, 0.9787478148347556, 0.9787478148347556, 0.9787478148347556, 0.9787478148347556, 0.9787478148347556, 0.9787478148347556, 0.9787478148347556, 0.9787478148347556, 0.9787478148347556, 0.9787478148347556, 0.9787478148347556, 0.9787478148347556, 0.9787478148347556, 0.9787478148347556, 0.9787478148347556, 0.9787478148347556, 0.9787478148347556, 0.9787478148347556, 0.9787478148347556, 0.9819409398331969]}], \"average_precision_score_weighted\": [{\"categories\": [\"0\", \"1\", \"2\", \"3\", \"4\", \"5\", \"6\", \"7\", \"8\", \"9\", \"10\", \"11\", \"12\", \"13\", \"14\", \"15\", \"16\", \"17\", \"18\", \"19\", \"20\", \"21\", \"22\", \"23\", \"24\", \"25\", \"26\", \"27\", \"28\", \"29\", \"30\", \"31\", \"32\", \"33\", \"34\", \"35\", \"36\", \"37\", \"38\", \"39\", \"40\", \"41\", \"42\", \"43\", \"44\", \"45\", \"46\", \"47\", \"48\", \"49\", \"50\", \"51\", \"52\", \"53\", \"67\"], \"mode\": \"markers\", \"name\": \"average_precision_score_weighted\", \"stepped\": false, \"type\": \"scatter\", \"data\": [0.9872403179651625, 0.9742744124344188, 0.9700359959689658, 0.9797533504857054, 0.960649254474565, 0.9753946600517408, 0.9230848962905199, 0.9925983137974393, 0.8443749966108873, 0.9633003645477599, 0.9692311546812581, 0.9797315529799967, 0.9783502012914269, 0.977541996724931, 0.9827135530012897, 0.9794988724706087, 0.980354526575579, 0.9768467643995734, 0.9717661218508683, 0.9716221366692563, 0.9718412832723825, 0.9116423580549012, 0.9606912003467255, 0.9730806536671651, 0.9756928368710199, 0.9689418005834506, 0.9688507586413572, 0.9728591792050693, 0.9662625779965067, 0.9834130610394265, 0.9786857014523562, 0.9699647349459021, 0.9800043731314466, 0.9577824524285461, 0.9811189920184136, 0.968471257550275, 0.9777836939795072, 0.9676491032672095, 0.9687661659901473, 0.9770712849135679, 0.9744673013388011, 0.972670796901932, 0.967643259995849, 0.9804069125165039, 0.9748211747554224, 0.9492303146599408, 0.9775087971825375, 0.9620035882619177, 0.9571094248266055, 0.9666906219930157, 0.9719803188532499, 0.9619376479829603, 0.9653101048169619, 0.9706297959050061, 0.992329073330518]}, {\"categories\": [\"0\", \"1\", \"2\", \"3\", \"4\", \"5\", \"6\", \"7\", \"8\", \"9\", \"10\", \"11\", \"12\", \"13\", \"14\", \"15\", \"16\", \"17\", \"18\", \"19\", \"20\", \"21\", \"22\", \"23\", \"24\", \"25\", \"26\", \"27\", \"28\", \"29\", \"30\", \"31\", \"32\", \"33\", \"34\", \"35\", \"36\", \"37\", \"38\", \"39\", \"40\", \"41\", \"42\", \"43\", \"44\", \"45\", \"46\", \"47\", \"48\", \"49\", \"50\", \"51\", \"52\", \"53\", \"67\"], \"mode\": \"lines\", \"name\": \"average_precision_score_weighted_max\", \"stepped\": true, \"type\": \"scatter\", \"data\": [0.9872403179651625, 0.9872403179651625, 0.9872403179651625, 0.9872403179651625, 0.9872403179651625, 0.9872403179651625, 0.9872403179651625, 0.9925983137974393, 0.9925983137974393, 0.9925983137974393, 0.9925983137974393, 0.9925983137974393, 0.9925983137974393, 0.9925983137974393, 0.9925983137974393, 0.9925983137974393, 0.9925983137974393, 0.9925983137974393, 0.9925983137974393, 0.9925983137974393, 0.9925983137974393, 0.9925983137974393, 0.9925983137974393, 0.9925983137974393, 0.9925983137974393, 0.9925983137974393, 0.9925983137974393, 0.9925983137974393, 0.9925983137974393, 0.9925983137974393, 0.9925983137974393, 0.9925983137974393, 0.9925983137974393, 0.9925983137974393, 0.9925983137974393, 0.9925983137974393, 0.9925983137974393, 0.9925983137974393, 0.9925983137974393, 0.9925983137974393, 0.9925983137974393, 0.9925983137974393, 0.9925983137974393, 0.9925983137974393, 0.9925983137974393, 0.9925983137974393, 0.9925983137974393, 0.9925983137974393, 0.9925983137974393, 0.9925983137974393, 0.9925983137974393, 0.9925983137974393, 0.9925983137974393, 0.9925983137974393, 0.9925983137974393]}], \"recall_score_macro\": [{\"categories\": [\"0\", \"1\", \"2\", \"3\", \"4\", \"5\", \"6\", \"7\", \"8\", \"9\", \"10\", \"11\", \"12\", \"13\", \"14\", \"15\", \"16\", \"17\", \"18\", \"19\", \"20\", \"21\", \"22\", \"23\", \"24\", \"25\", \"26\", \"27\", \"28\", \"29\", \"30\", \"31\", \"32\", \"33\", \"34\", \"35\", \"36\", \"37\", \"38\", \"39\", \"40\", \"41\", \"42\", \"43\", \"44\", \"45\", \"46\", \"47\", \"48\", \"49\", \"50\", \"51\", \"52\", \"53\", \"67\"], \"mode\": \"markers\", \"name\": \"recall_score_macro\", \"stepped\": false, \"type\": \"scatter\", \"data\": [0.9697746651882442, 0.9224105423089074, 0.9067997302252767, 0.9483153801880935, 0.8884133824763424, 0.925427275517262, 0.8677426861269719, 0.9521225038703909, 0.7207724102103947, 0.9492827555765411, 0.8978608131461833, 0.9368904415393317, 0.9455328693745381, 0.9406761122336736, 0.9471570366279822, 0.928277966967153, 0.9409833800816996, 0.928039542862007, 0.9166083777605601, 0.919512182102317, 0.9204597196699998, 0.868744599702152, 0.8988734146014244, 0.9208426243557829, 0.9381403616921307, 0.9263547401643576, 0.9193501040609019, 0.9235474610813904, 0.9060186699033936, 0.9522824268375315, 0.9334295874270474, 0.9245447955324805, 0.950574412617069, 0.910630575601077, 0.940581898043181, 0.8934196479471002, 0.9360416669469415, 0.9114378884554039, 0.9105715635929154, 0.9362982989733633, 0.9302744593570044, 0.92048405184918, 0.9011524866032575, 0.9506435689315413, 0.936049433675359, 0.8919117968715571, 0.9235257631640345, 0.9147791948771409, 0.894977107019502, 0.9210905355044271, 0.9194252950035077, 0.8951597695274596, 0.8994642673262656, 0.9067451823552654, 0.9700142781445956]}, {\"categories\": [\"0\", \"1\", \"2\", \"3\", \"4\", \"5\", \"6\", \"7\", \"8\", \"9\", \"10\", \"11\", \"12\", \"13\", \"14\", \"15\", \"16\", \"17\", \"18\", \"19\", \"20\", \"21\", \"22\", \"23\", \"24\", \"25\", \"26\", \"27\", \"28\", \"29\", \"30\", \"31\", \"32\", \"33\", \"34\", \"35\", \"36\", \"37\", \"38\", \"39\", \"40\", \"41\", \"42\", \"43\", \"44\", \"45\", \"46\", \"47\", \"48\", \"49\", \"50\", \"51\", \"52\", \"53\", \"67\"], \"mode\": \"lines\", \"name\": \"recall_score_macro_max\", \"stepped\": true, \"type\": \"scatter\", \"data\": [0.9697746651882442, 0.9697746651882442, 0.9697746651882442, 0.9697746651882442, 0.9697746651882442, 0.9697746651882442, 0.9697746651882442, 0.9697746651882442, 0.9697746651882442, 0.9697746651882442, 0.9697746651882442, 0.9697746651882442, 0.9697746651882442, 0.9697746651882442, 0.9697746651882442, 0.9697746651882442, 0.9697746651882442, 0.9697746651882442, 0.9697746651882442, 0.9697746651882442, 0.9697746651882442, 0.9697746651882442, 0.9697746651882442, 0.9697746651882442, 0.9697746651882442, 0.9697746651882442, 0.9697746651882442, 0.9697746651882442, 0.9697746651882442, 0.9697746651882442, 0.9697746651882442, 0.9697746651882442, 0.9697746651882442, 0.9697746651882442, 0.9697746651882442, 0.9697746651882442, 0.9697746651882442, 0.9697746651882442, 0.9697746651882442, 0.9697746651882442, 0.9697746651882442, 0.9697746651882442, 0.9697746651882442, 0.9697746651882442, 0.9697746651882442, 0.9697746651882442, 0.9697746651882442, 0.9697746651882442, 0.9697746651882442, 0.9697746651882442, 0.9697746651882442, 0.9697746651882442, 0.9697746651882442, 0.9697746651882442, 0.9700142781445956]}], \"recall_score_micro\": [{\"categories\": [\"0\", \"1\", \"2\", \"3\", \"4\", \"5\", \"6\", \"7\", \"8\", \"9\", \"10\", \"11\", \"12\", \"13\", \"14\", \"15\", \"16\", \"17\", \"18\", \"19\", \"20\", \"21\", \"22\", \"23\", \"24\", \"25\", \"26\", \"27\", \"28\", \"29\", \"30\", \"31\", \"32\", \"33\", \"34\", \"35\", \"36\", \"37\", \"38\", \"39\", \"40\", \"41\", \"42\", \"43\", \"44\", \"45\", \"46\", \"47\", \"48\", \"49\", \"50\", \"51\", \"52\", \"53\", \"67\"], \"mode\": \"markers\", \"name\": \"recall_score_micro\", \"stepped\": false, \"type\": \"scatter\", \"data\": [0.9761222540592168, 0.9436485195797517, 0.9326647564469915, 0.9603629417382998, 0.8839541547277937, 0.94603629417383, 0.8490926456542502, 0.9594078319006686, 0.669054441260745, 0.9579751671442215, 0.9259789875835721, 0.9541547277936964, 0.9594078319006685, 0.9555873925501434, 0.9608404966571156, 0.9307545367717287, 0.9551098376313276, 0.9450811843361987, 0.9192932187201528, 0.9412607449856734, 0.9407831900668576, 0.8648519579751671, 0.9154727793696275, 0.9426934097421203, 0.9527220630372493, 0.9460362941738301, 0.937440305635148, 0.9436485195797517, 0.9278892072588348, 0.9637058261700094, 0.9508118433619867, 0.9412607449856734, 0.9622731614135626, 0.9350525310410697, 0.9541547277936963, 0.9231136580706781, 0.9522445081184335, 0.9355300859598854, 0.9340974212034384, 0.9527220630372493, 0.94603629417383, 0.9422158548233046, 0.9283667621776504, 0.9632282712511939, 0.9512893982808022, 0.9207258834765998, 0.9441260744985674, 0.937440305635148, 0.9202483285577842, 0.9422158548233046, 0.9417382999044891, 0.9159503342884432, 0.9274116523400191, 0.9326647564469915, 0.9775549188156637]}, {\"categories\": [\"0\", \"1\", \"2\", \"3\", \"4\", \"5\", \"6\", \"7\", \"8\", \"9\", \"10\", \"11\", \"12\", \"13\", \"14\", \"15\", \"16\", \"17\", \"18\", \"19\", \"20\", \"21\", \"22\", \"23\", \"24\", \"25\", \"26\", \"27\", \"28\", \"29\", \"30\", \"31\", \"32\", \"33\", \"34\", \"35\", \"36\", \"37\", \"38\", \"39\", \"40\", \"41\", \"42\", \"43\", \"44\", \"45\", \"46\", \"47\", \"48\", \"49\", \"50\", \"51\", \"52\", \"53\", \"67\"], \"mode\": \"lines\", \"name\": \"recall_score_micro_max\", \"stepped\": true, \"type\": \"scatter\", \"data\": [0.9761222540592168, 0.9761222540592168, 0.9761222540592168, 0.9761222540592168, 0.9761222540592168, 0.9761222540592168, 0.9761222540592168, 0.9761222540592168, 0.9761222540592168, 0.9761222540592168, 0.9761222540592168, 0.9761222540592168, 0.9761222540592168, 0.9761222540592168, 0.9761222540592168, 0.9761222540592168, 0.9761222540592168, 0.9761222540592168, 0.9761222540592168, 0.9761222540592168, 0.9761222540592168, 0.9761222540592168, 0.9761222540592168, 0.9761222540592168, 0.9761222540592168, 0.9761222540592168, 0.9761222540592168, 0.9761222540592168, 0.9761222540592168, 0.9761222540592168, 0.9761222540592168, 0.9761222540592168, 0.9761222540592168, 0.9761222540592168, 0.9761222540592168, 0.9761222540592168, 0.9761222540592168, 0.9761222540592168, 0.9761222540592168, 0.9761222540592168, 0.9761222540592168, 0.9761222540592168, 0.9761222540592168, 0.9761222540592168, 0.9761222540592168, 0.9761222540592168, 0.9761222540592168, 0.9761222540592168, 0.9761222540592168, 0.9761222540592168, 0.9761222540592168, 0.9761222540592168, 0.9761222540592168, 0.9761222540592168, 0.9775549188156637]}], \"AUC_micro\": [{\"categories\": [\"0\", \"1\", \"2\", \"3\", \"4\", \"5\", \"6\", \"7\", \"8\", \"9\", \"10\", \"11\", \"12\", \"13\", \"14\", \"15\", \"16\", \"17\", \"18\", \"19\", \"20\", \"21\", \"22\", \"23\", \"24\", \"25\", \"26\", \"27\", \"28\", \"29\", \"30\", \"31\", \"32\", \"33\", \"34\", \"35\", \"36\", \"37\", \"38\", \"39\", \"40\", \"41\", \"42\", \"43\", \"44\", \"45\", \"46\", \"47\", \"48\", \"49\", \"50\", \"51\", \"52\", \"53\", \"67\"], \"mode\": \"markers\", \"name\": \"AUC_micro\", \"stepped\": false, \"type\": \"scatter\", \"data\": [0.991222020618331, 0.9813808315750009, 0.9773352982870968, 0.98703212617302, 0.9630531221692213, 0.981402041034146, 0.9273418663776706, 0.9933217570736966, 0.7943592417139432, 0.9754216577313267, 0.9727773170992027, 0.9803162535611366, 0.985387366825122, 0.9838370237792246, 0.9880255498723328, 0.9801472620640772, 0.9855460956806595, 0.9826205586708373, 0.9719330437900072, 0.9758978442979395, 0.9798496454599442, 0.9260672463006597, 0.9584985618618348, 0.9756748028888652, 0.9841469555531837, 0.9755571245994149, 0.9735230690497888, 0.9748606333281337, 0.970145291636905, 0.98839568914322, 0.9843549450880261, 0.9759867871911286, 0.9830946927091458, 0.9553472467385324, 0.9865778332416538, 0.9727458449985358, 0.9811714736879554, 0.9676637849169274, 0.9647293536177864, 0.984156534018604, 0.9800658451080041, 0.9774543449287502, 0.9613337876262648, 0.9864245777949278, 0.983083061715421, 0.9360986363001946, 0.9764698155187559, 0.9689185638869958, 0.9455258988021445, 0.9740033606730103, 0.9756556459580245, 0.9667353579472527, 0.9719918829347322, 0.977559708048374, 0.9930781903815786]}, {\"categories\": [\"0\", \"1\", \"2\", \"3\", \"4\", \"5\", \"6\", \"7\", \"8\", \"9\", \"10\", \"11\", \"12\", \"13\", \"14\", \"15\", \"16\", \"17\", \"18\", \"19\", \"20\", \"21\", \"22\", \"23\", \"24\", \"25\", \"26\", \"27\", \"28\", \"29\", \"30\", \"31\", \"32\", \"33\", \"34\", \"35\", \"36\", \"37\", \"38\", \"39\", \"40\", \"41\", \"42\", \"43\", \"44\", \"45\", \"46\", \"47\", \"48\", \"49\", \"50\", \"51\", \"52\", \"53\", \"67\"], \"mode\": \"lines\", \"name\": \"AUC_micro_max\", \"stepped\": true, \"type\": \"scatter\", \"data\": [0.991222020618331, 0.991222020618331, 0.991222020618331, 0.991222020618331, 0.991222020618331, 0.991222020618331, 0.991222020618331, 0.9933217570736966, 0.9933217570736966, 0.9933217570736966, 0.9933217570736966, 0.9933217570736966, 0.9933217570736966, 0.9933217570736966, 0.9933217570736966, 0.9933217570736966, 0.9933217570736966, 0.9933217570736966, 0.9933217570736966, 0.9933217570736966, 0.9933217570736966, 0.9933217570736966, 0.9933217570736966, 0.9933217570736966, 0.9933217570736966, 0.9933217570736966, 0.9933217570736966, 0.9933217570736966, 0.9933217570736966, 0.9933217570736966, 0.9933217570736966, 0.9933217570736966, 0.9933217570736966, 0.9933217570736966, 0.9933217570736966, 0.9933217570736966, 0.9933217570736966, 0.9933217570736966, 0.9933217570736966, 0.9933217570736966, 0.9933217570736966, 0.9933217570736966, 0.9933217570736966, 0.9933217570736966, 0.9933217570736966, 0.9933217570736966, 0.9933217570736966, 0.9933217570736966, 0.9933217570736966, 0.9933217570736966, 0.9933217570736966, 0.9933217570736966, 0.9933217570736966, 0.9933217570736966, 0.9933217570736966]}], \"norm_macro_recall\": [{\"categories\": [\"0\", \"1\", \"2\", \"3\", \"4\", \"5\", \"6\", \"7\", \"8\", \"9\", \"10\", \"11\", \"12\", \"13\", \"14\", \"15\", \"16\", \"17\", \"18\", \"19\", \"20\", \"21\", \"22\", \"23\", \"24\", \"25\", \"26\", \"27\", \"28\", \"29\", \"30\", \"31\", \"32\", \"33\", \"34\", \"35\", \"36\", \"37\", \"38\", \"39\", \"40\", \"41\", \"42\", \"43\", \"44\", \"45\", \"46\", \"47\", \"48\", \"49\", \"50\", \"51\", \"52\", \"53\", \"67\"], \"mode\": \"markers\", \"name\": \"norm_macro_recall\", \"stepped\": false, \"type\": \"scatter\", \"data\": [0.9395493303764885, 0.8448210846178149, 0.8135994604505535, 0.8966307603761869, 0.7768267649526845, 0.8508545510345242, 0.7354853722539438, 0.9042450077407818, 0.4415448204207895, 0.8985655111530821, 0.7957216262923664, 0.8737808830786632, 0.891065738749076, 0.8813522244673472, 0.8943140732559645, 0.8565559339343061, 0.8819667601633991, 0.8560790857240139, 0.8332167555211202, 0.8390243642046341, 0.84091943934, 0.7374891994043041, 0.7977468292028488, 0.8416852487115657, 0.8762807233842613, 0.8527094803287154, 0.8387002081218039, 0.8470949221627807, 0.8120373398067874, 0.9045648536750631, 0.8668591748540947, 0.8490895910649611, 0.901148825234138, 0.821261151202154, 0.8811637960863621, 0.7868392958942003, 0.8720833338938828, 0.8228757769108078, 0.8211431271858306, 0.8725965979467265, 0.8605489187140088, 0.84096810369836, 0.8023049732065152, 0.9012871378630827, 0.8720988673507181, 0.7838235937431142, 0.847051526328069, 0.8295583897542818, 0.7899542140390038, 0.8421810710088543, 0.8388505900070152, 0.7903195390549191, 0.7989285346525312, 0.8134903647105306, 0.9400285562891915]}, {\"categories\": [\"0\", \"1\", \"2\", \"3\", \"4\", \"5\", \"6\", \"7\", \"8\", \"9\", \"10\", \"11\", \"12\", \"13\", \"14\", \"15\", \"16\", \"17\", \"18\", \"19\", \"20\", \"21\", \"22\", \"23\", \"24\", \"25\", \"26\", \"27\", \"28\", \"29\", \"30\", \"31\", \"32\", \"33\", \"34\", \"35\", \"36\", \"37\", \"38\", \"39\", \"40\", \"41\", \"42\", \"43\", \"44\", \"45\", \"46\", \"47\", \"48\", \"49\", \"50\", \"51\", \"52\", \"53\", \"67\"], \"mode\": \"lines\", \"name\": \"norm_macro_recall_max\", \"stepped\": true, \"type\": \"scatter\", \"data\": [0.9395493303764885, 0.9395493303764885, 0.9395493303764885, 0.9395493303764885, 0.9395493303764885, 0.9395493303764885, 0.9395493303764885, 0.9395493303764885, 0.9395493303764885, 0.9395493303764885, 0.9395493303764885, 0.9395493303764885, 0.9395493303764885, 0.9395493303764885, 0.9395493303764885, 0.9395493303764885, 0.9395493303764885, 0.9395493303764885, 0.9395493303764885, 0.9395493303764885, 0.9395493303764885, 0.9395493303764885, 0.9395493303764885, 0.9395493303764885, 0.9395493303764885, 0.9395493303764885, 0.9395493303764885, 0.9395493303764885, 0.9395493303764885, 0.9395493303764885, 0.9395493303764885, 0.9395493303764885, 0.9395493303764885, 0.9395493303764885, 0.9395493303764885, 0.9395493303764885, 0.9395493303764885, 0.9395493303764885, 0.9395493303764885, 0.9395493303764885, 0.9395493303764885, 0.9395493303764885, 0.9395493303764885, 0.9395493303764885, 0.9395493303764885, 0.9395493303764885, 0.9395493303764885, 0.9395493303764885, 0.9395493303764885, 0.9395493303764885, 0.9395493303764885, 0.9395493303764885, 0.9395493303764885, 0.9395493303764885, 0.9400285562891915]}], \"log_loss\": [{\"categories\": [\"0\", \"1\", \"2\", \"3\", \"4\", \"5\", \"6\", \"7\", \"8\", \"9\", \"10\", \"11\", \"12\", \"13\", \"14\", \"15\", \"16\", \"17\", \"18\", \"19\", \"20\", \"21\", \"22\", \"23\", \"24\", \"25\", \"26\", \"27\", \"28\", \"29\", \"30\", \"31\", \"32\", \"33\", \"34\", \"35\", \"36\", \"37\", \"38\", \"39\", \"40\", \"41\", \"42\", \"43\", \"44\", \"45\", \"46\", \"47\", \"48\", \"49\", \"50\", \"51\", \"52\", \"53\", \"67\"], \"mode\": \"markers\", \"name\": \"log_loss\", \"stepped\": false, \"type\": \"scatter\", \"data\": [0.11343422116512797, 0.1998688918630971, 0.19710859580739482, 0.16388724978633412, 0.28055441587012536, 0.1779411420537612, 0.3480458728364339, 0.10399209290117328, 0.5374530155079154, 0.7891485316223701, 0.2381177979030341, 0.2052831665631288, 0.1397644507139156, 0.14789379777045072, 0.13017347916167119, 0.1807628573284126, 0.14262972494581802, 0.25952917374403045, 0.21788796348350226, 0.2468637208888821, 0.22974203496362358, 0.36965342622537106, 0.3407695181367328, 0.23689706556815315, 0.22081074634592276, 0.19302927970178577, 0.20503475076973085, 0.24192233355960038, 0.2656151954028425, 0.12538659346651782, 0.15798593871876923, 0.1867528206798165, 0.1596466023514472, 0.363439970130083, 0.14248897955575612, 0.25200838670193876, 0.17655524086808752, 0.31173701107117696, 0.33226374786717383, 0.15591698843325238, 0.16994103019523235, 0.19678664674836918, 0.3367616431207033, 0.13422249652862342, 0.1552171901084962, 0.4192859661161094, 0.27568680169722454, 0.2788353208342556, 0.3884998641894187, 0.22037549362660339, 0.20618198026823, 0.3347811924439958, 0.23759059523807458, 0.19475295558601166, 0.10640218487012841]}, {\"categories\": [\"0\", \"1\", \"2\", \"3\", \"4\", \"5\", \"6\", \"7\", \"8\", \"9\", \"10\", \"11\", \"12\", \"13\", \"14\", \"15\", \"16\", \"17\", \"18\", \"19\", \"20\", \"21\", \"22\", \"23\", \"24\", \"25\", \"26\", \"27\", \"28\", \"29\", \"30\", \"31\", \"32\", \"33\", \"34\", \"35\", \"36\", \"37\", \"38\", \"39\", \"40\", \"41\", \"42\", \"43\", \"44\", \"45\", \"46\", \"47\", \"48\", \"49\", \"50\", \"51\", \"52\", \"53\", \"67\"], \"mode\": \"lines\", \"name\": \"log_loss_min\", \"stepped\": true, \"type\": \"scatter\", \"data\": [0.11343422116512797, 0.11343422116512797, 0.11343422116512797, 0.11343422116512797, 0.11343422116512797, 0.11343422116512797, 0.11343422116512797, 0.10399209290117328, 0.10399209290117328, 0.10399209290117328, 0.10399209290117328, 0.10399209290117328, 0.10399209290117328, 0.10399209290117328, 0.10399209290117328, 0.10399209290117328, 0.10399209290117328, 0.10399209290117328, 0.10399209290117328, 0.10399209290117328, 0.10399209290117328, 0.10399209290117328, 0.10399209290117328, 0.10399209290117328, 0.10399209290117328, 0.10399209290117328, 0.10399209290117328, 0.10399209290117328, 0.10399209290117328, 0.10399209290117328, 0.10399209290117328, 0.10399209290117328, 0.10399209290117328, 0.10399209290117328, 0.10399209290117328, 0.10399209290117328, 0.10399209290117328, 0.10399209290117328, 0.10399209290117328, 0.10399209290117328, 0.10399209290117328, 0.10399209290117328, 0.10399209290117328, 0.10399209290117328, 0.10399209290117328, 0.10399209290117328, 0.10399209290117328, 0.10399209290117328, 0.10399209290117328, 0.10399209290117328, 0.10399209290117328, 0.10399209290117328, 0.10399209290117328, 0.10399209290117328, 0.10399209290117328]}], \"matthews_correlation\": [{\"categories\": [\"0\", \"1\", \"2\", \"3\", \"4\", \"5\", \"6\", \"7\", \"8\", \"9\", \"10\", \"11\", \"12\", \"13\", \"14\", \"15\", \"16\", \"17\", \"18\", \"19\", \"20\", \"21\", \"22\", \"23\", \"24\", \"25\", \"26\", \"27\", \"28\", \"29\", \"30\", \"31\", \"32\", \"33\", \"34\", \"35\", \"36\", \"37\", \"38\", \"39\", \"40\", \"41\", \"42\", \"43\", \"44\", \"45\", \"46\", \"47\", \"48\", \"49\", \"50\", \"51\", \"52\", \"53\", \"67\"], \"mode\": \"markers\", \"name\": \"matthews_correlation\", \"stepped\": false, \"type\": \"scatter\", \"data\": [0.9484678351945082, 0.8806898810416506, 0.857947137928971, 0.9148801429912824, 0.7612616895251967, 0.8857831004824042, 0.7077373856528281, 0.9117004717158261, 0.4371434129617065, 0.9091201502633236, 0.8439578961463291, 0.9025397110113366, 0.9133144809557227, 0.905339650525164, 0.9163102764010125, 0.8510426685935712, 0.9037544869899511, 0.8817290630432592, 0.8267065964051299, 0.8752111553342279, 0.8735354295087999, 0.7194621899284451, 0.8155435521242551, 0.8789540817324349, 0.8983461408336729, 0.885426227649934, 0.8655546106781017, 0.8802769493909487, 0.844740477246707, 0.9224803523452083, 0.8950645619691805, 0.8734534513996502, 0.9193689701145592, 0.8624739578946441, 0.9017612642495317, 0.8381006509618739, 0.8983869658197632, 0.8641489494645027, 0.8598518194769631, 0.8993271332708913, 0.8840811977471797, 0.877810780046596, 0.8489126610982378, 0.9216349824102341, 0.8954315173120911, 0.8315283650049562, 0.8818478475282131, 0.8671098180984051, 0.8285868604553839, 0.8774391320439392, 0.8768606757360077, 0.8170727113815753, 0.8470905031969135, 0.8579046177487752, 0.9518700752962812]}, {\"categories\": [\"0\", \"1\", \"2\", \"3\", \"4\", \"5\", \"6\", \"7\", \"8\", \"9\", \"10\", \"11\", \"12\", \"13\", \"14\", \"15\", \"16\", \"17\", \"18\", \"19\", \"20\", \"21\", \"22\", \"23\", \"24\", \"25\", \"26\", \"27\", \"28\", \"29\", \"30\", \"31\", \"32\", \"33\", \"34\", \"35\", \"36\", \"37\", \"38\", \"39\", \"40\", \"41\", \"42\", \"43\", \"44\", \"45\", \"46\", \"47\", \"48\", \"49\", \"50\", \"51\", \"52\", \"53\", \"67\"], \"mode\": \"lines\", \"name\": \"matthews_correlation_max\", \"stepped\": true, \"type\": \"scatter\", \"data\": [0.9484678351945082, 0.9484678351945082, 0.9484678351945082, 0.9484678351945082, 0.9484678351945082, 0.9484678351945082, 0.9484678351945082, 0.9484678351945082, 0.9484678351945082, 0.9484678351945082, 0.9484678351945082, 0.9484678351945082, 0.9484678351945082, 0.9484678351945082, 0.9484678351945082, 0.9484678351945082, 0.9484678351945082, 0.9484678351945082, 0.9484678351945082, 0.9484678351945082, 0.9484678351945082, 0.9484678351945082, 0.9484678351945082, 0.9484678351945082, 0.9484678351945082, 0.9484678351945082, 0.9484678351945082, 0.9484678351945082, 0.9484678351945082, 0.9484678351945082, 0.9484678351945082, 0.9484678351945082, 0.9484678351945082, 0.9484678351945082, 0.9484678351945082, 0.9484678351945082, 0.9484678351945082, 0.9484678351945082, 0.9484678351945082, 0.9484678351945082, 0.9484678351945082, 0.9484678351945082, 0.9484678351945082, 0.9484678351945082, 0.9484678351945082, 0.9484678351945082, 0.9484678351945082, 0.9484678351945082, 0.9484678351945082, 0.9484678351945082, 0.9484678351945082, 0.9484678351945082, 0.9484678351945082, 0.9484678351945082, 0.9518700752962812]}], \"f1_score_weighted\": [{\"categories\": [\"0\", \"1\", \"2\", \"3\", \"4\", \"5\", \"6\", \"7\", \"8\", \"9\", \"10\", \"11\", \"12\", \"13\", \"14\", \"15\", \"16\", \"17\", \"18\", \"19\", \"20\", \"21\", \"22\", \"23\", \"24\", \"25\", \"26\", \"27\", \"28\", \"29\", \"30\", \"31\", \"32\", \"33\", \"34\", \"35\", \"36\", \"37\", \"38\", \"39\", \"40\", \"41\", \"42\", \"43\", \"44\", \"45\", \"46\", \"47\", \"48\", \"49\", \"50\", \"51\", \"52\", \"53\", \"67\"], \"mode\": \"markers\", \"name\": \"f1_score_weighted\", \"stepped\": false, \"type\": \"scatter\", \"data\": [0.975997813652936, 0.9423958524628997, 0.9308660387394632, 0.9599175168774051, 0.8851138613989348, 0.9449281051178353, 0.8519378452390068, 0.9592386198814892, 0.6705939802347266, 0.9576969388410536, 0.9237501873500579, 0.953386284762589, 0.9588540036637104, 0.9549188244099861, 0.9603324139891227, 0.9309680698745731, 0.9545350442812298, 0.9442307224130156, 0.91959068830596, 0.9399638561688874, 0.9396001292934849, 0.8665169939131093, 0.9144767806609849, 0.941361271085985, 0.952077939313392, 0.9449370340797483, 0.9363122819446391, 0.942458126494496, 0.9263980299113571, 0.9632860310672725, 0.9499736292647188, 0.940311902927332, 0.9618301050697738, 0.9334041705674009, 0.9535576807119925, 0.92066028651919, 0.9513889057896122, 0.9338124293391963, 0.932458193958817, 0.95190997522376, 0.9452149471922061, 0.9409055682532065, 0.9263127571291676, 0.9627624209110275, 0.9506256871187708, 0.9183314047752816, 0.9428714086615936, 0.9360131633830026, 0.9183738222413068, 0.9409407026555628, 0.9403758943124286, 0.914499114356126, 0.9252114679788628, 0.9308510338738647, 0.9773988180004336]}, {\"categories\": [\"0\", \"1\", \"2\", \"3\", \"4\", \"5\", \"6\", \"7\", \"8\", \"9\", \"10\", \"11\", \"12\", \"13\", \"14\", \"15\", \"16\", \"17\", \"18\", \"19\", \"20\", \"21\", \"22\", \"23\", \"24\", \"25\", \"26\", \"27\", \"28\", \"29\", \"30\", \"31\", \"32\", \"33\", \"34\", \"35\", \"36\", \"37\", \"38\", \"39\", \"40\", \"41\", \"42\", \"43\", \"44\", \"45\", \"46\", \"47\", \"48\", \"49\", \"50\", \"51\", \"52\", \"53\", \"67\"], \"mode\": \"lines\", \"name\": \"f1_score_weighted_max\", \"stepped\": true, \"type\": \"scatter\", \"data\": [0.975997813652936, 0.975997813652936, 0.975997813652936, 0.975997813652936, 0.975997813652936, 0.975997813652936, 0.975997813652936, 0.975997813652936, 0.975997813652936, 0.975997813652936, 0.975997813652936, 0.975997813652936, 0.975997813652936, 0.975997813652936, 0.975997813652936, 0.975997813652936, 0.975997813652936, 0.975997813652936, 0.975997813652936, 0.975997813652936, 0.975997813652936, 0.975997813652936, 0.975997813652936, 0.975997813652936, 0.975997813652936, 0.975997813652936, 0.975997813652936, 0.975997813652936, 0.975997813652936, 0.975997813652936, 0.975997813652936, 0.975997813652936, 0.975997813652936, 0.975997813652936, 0.975997813652936, 0.975997813652936, 0.975997813652936, 0.975997813652936, 0.975997813652936, 0.975997813652936, 0.975997813652936, 0.975997813652936, 0.975997813652936, 0.975997813652936, 0.975997813652936, 0.975997813652936, 0.975997813652936, 0.975997813652936, 0.975997813652936, 0.975997813652936, 0.975997813652936, 0.975997813652936, 0.975997813652936, 0.975997813652936, 0.9773988180004336]}], \"accuracy\": [{\"categories\": [\"0\", \"1\", \"2\", \"3\", \"4\", \"5\", \"6\", \"7\", \"8\", \"9\", \"10\", \"11\", \"12\", \"13\", \"14\", \"15\", \"16\", \"17\", \"18\", \"19\", \"20\", \"21\", \"22\", \"23\", \"24\", \"25\", \"26\", \"27\", \"28\", \"29\", \"30\", \"31\", \"32\", \"33\", \"34\", \"35\", \"36\", \"37\", \"38\", \"39\", \"40\", \"41\", \"42\", \"43\", \"44\", \"45\", \"46\", \"47\", \"48\", \"49\", \"50\", \"51\", \"52\", \"53\", \"67\"], \"mode\": \"markers\", \"name\": \"accuracy\", \"stepped\": false, \"type\": \"scatter\", \"data\": [0.9761222540592168, 0.9436485195797517, 0.9326647564469915, 0.9603629417382998, 0.8839541547277937, 0.94603629417383, 0.8490926456542502, 0.9594078319006686, 0.669054441260745, 0.9579751671442215, 0.9259789875835721, 0.9541547277936964, 0.9594078319006685, 0.9555873925501434, 0.9608404966571156, 0.9307545367717287, 0.9551098376313276, 0.9450811843361987, 0.9192932187201528, 0.9412607449856734, 0.9407831900668576, 0.8648519579751671, 0.9154727793696275, 0.9426934097421203, 0.9527220630372493, 0.9460362941738301, 0.937440305635148, 0.9436485195797517, 0.9278892072588348, 0.9637058261700094, 0.9508118433619867, 0.9412607449856734, 0.9622731614135626, 0.9350525310410697, 0.9541547277936963, 0.9231136580706781, 0.9522445081184335, 0.9355300859598854, 0.9340974212034384, 0.9527220630372493, 0.94603629417383, 0.9422158548233046, 0.9283667621776504, 0.9632282712511939, 0.9512893982808022, 0.9207258834765998, 0.9441260744985674, 0.937440305635148, 0.9202483285577842, 0.9422158548233046, 0.9417382999044891, 0.9159503342884432, 0.9274116523400191, 0.9326647564469915, 0.9775549188156637]}, {\"categories\": [\"0\", \"1\", \"2\", \"3\", \"4\", \"5\", \"6\", \"7\", \"8\", \"9\", \"10\", \"11\", \"12\", \"13\", \"14\", \"15\", \"16\", \"17\", \"18\", \"19\", \"20\", \"21\", \"22\", \"23\", \"24\", \"25\", \"26\", \"27\", \"28\", \"29\", \"30\", \"31\", \"32\", \"33\", \"34\", \"35\", \"36\", \"37\", \"38\", \"39\", \"40\", \"41\", \"42\", \"43\", \"44\", \"45\", \"46\", \"47\", \"48\", \"49\", \"50\", \"51\", \"52\", \"53\", \"67\"], \"mode\": \"lines\", \"name\": \"accuracy_max\", \"stepped\": true, \"type\": \"scatter\", \"data\": [0.9761222540592168, 0.9761222540592168, 0.9761222540592168, 0.9761222540592168, 0.9761222540592168, 0.9761222540592168, 0.9761222540592168, 0.9761222540592168, 0.9761222540592168, 0.9761222540592168, 0.9761222540592168, 0.9761222540592168, 0.9761222540592168, 0.9761222540592168, 0.9761222540592168, 0.9761222540592168, 0.9761222540592168, 0.9761222540592168, 0.9761222540592168, 0.9761222540592168, 0.9761222540592168, 0.9761222540592168, 0.9761222540592168, 0.9761222540592168, 0.9761222540592168, 0.9761222540592168, 0.9761222540592168, 0.9761222540592168, 0.9761222540592168, 0.9761222540592168, 0.9761222540592168, 0.9761222540592168, 0.9761222540592168, 0.9761222540592168, 0.9761222540592168, 0.9761222540592168, 0.9761222540592168, 0.9761222540592168, 0.9761222540592168, 0.9761222540592168, 0.9761222540592168, 0.9761222540592168, 0.9761222540592168, 0.9761222540592168, 0.9761222540592168, 0.9761222540592168, 0.9761222540592168, 0.9761222540592168, 0.9761222540592168, 0.9761222540592168, 0.9761222540592168, 0.9761222540592168, 0.9761222540592168, 0.9761222540592168, 0.9775549188156637]}], \"precision_score_micro\": [{\"categories\": [\"0\", \"1\", \"2\", \"3\", \"4\", \"5\", \"6\", \"7\", \"8\", \"9\", \"10\", \"11\", \"12\", \"13\", \"14\", \"15\", \"16\", \"17\", \"18\", \"19\", \"20\", \"21\", \"22\", \"23\", \"24\", \"25\", \"26\", \"27\", \"28\", \"29\", \"30\", \"31\", \"32\", \"33\", \"34\", \"35\", \"36\", \"37\", \"38\", \"39\", \"40\", \"41\", \"42\", \"43\", \"44\", \"45\", \"46\", \"47\", \"48\", \"49\", \"50\", \"51\", \"52\", \"53\", \"67\"], \"mode\": \"markers\", \"name\": \"precision_score_micro\", \"stepped\": false, \"type\": \"scatter\", \"data\": [0.9761222540592168, 0.9436485195797517, 0.9326647564469915, 0.9603629417382998, 0.8839541547277937, 0.94603629417383, 0.8490926456542502, 0.9594078319006686, 0.669054441260745, 0.9579751671442215, 0.9259789875835721, 0.9541547277936964, 0.9594078319006685, 0.9555873925501434, 0.9608404966571156, 0.9307545367717287, 0.9551098376313276, 0.9450811843361987, 0.9192932187201528, 0.9412607449856734, 0.9407831900668576, 0.8648519579751671, 0.9154727793696275, 0.9426934097421203, 0.9527220630372493, 0.9460362941738301, 0.937440305635148, 0.9436485195797517, 0.9278892072588348, 0.9637058261700094, 0.9508118433619867, 0.9412607449856734, 0.9622731614135626, 0.9350525310410697, 0.9541547277936963, 0.9231136580706781, 0.9522445081184335, 0.9355300859598854, 0.9340974212034384, 0.9527220630372493, 0.94603629417383, 0.9422158548233046, 0.9283667621776504, 0.9632282712511939, 0.9512893982808022, 0.9207258834765998, 0.9441260744985674, 0.937440305635148, 0.9202483285577842, 0.9422158548233046, 0.9417382999044891, 0.9159503342884432, 0.9274116523400191, 0.9326647564469915, 0.9775549188156637]}, {\"categories\": [\"0\", \"1\", \"2\", \"3\", \"4\", \"5\", \"6\", \"7\", \"8\", \"9\", \"10\", \"11\", \"12\", \"13\", \"14\", \"15\", \"16\", \"17\", \"18\", \"19\", \"20\", \"21\", \"22\", \"23\", \"24\", \"25\", \"26\", \"27\", \"28\", \"29\", \"30\", \"31\", \"32\", \"33\", \"34\", \"35\", \"36\", \"37\", \"38\", \"39\", \"40\", \"41\", \"42\", \"43\", \"44\", \"45\", \"46\", \"47\", \"48\", \"49\", \"50\", \"51\", \"52\", \"53\", \"67\"], \"mode\": \"lines\", \"name\": \"precision_score_micro_max\", \"stepped\": true, \"type\": \"scatter\", \"data\": [0.9761222540592168, 0.9761222540592168, 0.9761222540592168, 0.9761222540592168, 0.9761222540592168, 0.9761222540592168, 0.9761222540592168, 0.9761222540592168, 0.9761222540592168, 0.9761222540592168, 0.9761222540592168, 0.9761222540592168, 0.9761222540592168, 0.9761222540592168, 0.9761222540592168, 0.9761222540592168, 0.9761222540592168, 0.9761222540592168, 0.9761222540592168, 0.9761222540592168, 0.9761222540592168, 0.9761222540592168, 0.9761222540592168, 0.9761222540592168, 0.9761222540592168, 0.9761222540592168, 0.9761222540592168, 0.9761222540592168, 0.9761222540592168, 0.9761222540592168, 0.9761222540592168, 0.9761222540592168, 0.9761222540592168, 0.9761222540592168, 0.9761222540592168, 0.9761222540592168, 0.9761222540592168, 0.9761222540592168, 0.9761222540592168, 0.9761222540592168, 0.9761222540592168, 0.9761222540592168, 0.9761222540592168, 0.9761222540592168, 0.9761222540592168, 0.9761222540592168, 0.9761222540592168, 0.9761222540592168, 0.9761222540592168, 0.9761222540592168, 0.9761222540592168, 0.9761222540592168, 0.9761222540592168, 0.9761222540592168, 0.9775549188156637]}], \"weighted_accuracy\": [{\"categories\": [\"0\", \"1\", \"2\", \"3\", \"4\", \"5\", \"6\", \"7\", \"8\", \"9\", \"10\", \"11\", \"12\", \"13\", \"14\", \"15\", \"16\", \"17\", \"18\", \"19\", \"20\", \"21\", \"22\", \"23\", \"24\", \"25\", \"26\", \"27\", \"28\", \"29\", \"30\", \"31\", \"32\", \"33\", \"34\", \"35\", \"36\", \"37\", \"38\", \"39\", \"40\", \"41\", \"42\", \"43\", \"44\", \"45\", \"46\", \"47\", \"48\", \"49\", \"50\", \"51\", \"52\", \"53\", \"67\"], \"mode\": \"markers\", \"name\": \"weighted_accuracy\", \"stepped\": false, \"type\": \"scatter\", \"data\": [0.9815933537178804, 0.9617941085453422, 0.954740308064875, 0.9707061203506231, 0.8804112574276979, 0.9636495119426866, 0.833237848862994, 0.9656215874481848, 0.6250905614844723, 0.9654447838972722, 0.9499813077401864, 0.9688976477511911, 0.9713061083181915, 0.9684000100444953, 0.972562950952435, 0.9328775936497563, 0.9672136352532744, 0.959629274731884, 0.9216311245732459, 0.9598035784769094, 0.9581534616873687, 0.861569119075174, 0.9296386697379361, 0.9613685186274218, 0.9651889648577204, 0.9628679057422277, 0.9529720200074575, 0.9608171360913859, 0.9465675538485402, 0.9735611736374109, 0.9656589598446498, 0.9556034386875139, 0.9723600727001819, 0.9558784692486314, 0.9657935799965681, 0.9484215256626749, 0.9661538331229039, 0.9561658885074672, 0.954180301979774, 0.9667965844227523, 0.9595615475332707, 0.9607937685936574, 0.9515941075050037, 0.9740451429171312, 0.9642888121454046, 0.9452349752314878, 0.961756790805317, 0.9567602225983584, 0.9417168708569813, 0.9602783962769119, 0.9607892436867002, 0.9336950412500089, 0.9512450231711522, 0.9547733315209986, 0.9840338550933353]}, {\"categories\": [\"0\", \"1\", \"2\", \"3\", \"4\", \"5\", \"6\", \"7\", \"8\", \"9\", \"10\", \"11\", \"12\", \"13\", \"14\", \"15\", \"16\", \"17\", \"18\", \"19\", \"20\", \"21\", \"22\", \"23\", \"24\", \"25\", \"26\", \"27\", \"28\", \"29\", \"30\", \"31\", \"32\", \"33\", \"34\", \"35\", \"36\", \"37\", \"38\", \"39\", \"40\", \"41\", \"42\", \"43\", \"44\", \"45\", \"46\", \"47\", \"48\", \"49\", \"50\", \"51\", \"52\", \"53\", \"67\"], \"mode\": \"lines\", \"name\": \"weighted_accuracy_max\", \"stepped\": true, \"type\": \"scatter\", \"data\": [0.9815933537178804, 0.9815933537178804, 0.9815933537178804, 0.9815933537178804, 0.9815933537178804, 0.9815933537178804, 0.9815933537178804, 0.9815933537178804, 0.9815933537178804, 0.9815933537178804, 0.9815933537178804, 0.9815933537178804, 0.9815933537178804, 0.9815933537178804, 0.9815933537178804, 0.9815933537178804, 0.9815933537178804, 0.9815933537178804, 0.9815933537178804, 0.9815933537178804, 0.9815933537178804, 0.9815933537178804, 0.9815933537178804, 0.9815933537178804, 0.9815933537178804, 0.9815933537178804, 0.9815933537178804, 0.9815933537178804, 0.9815933537178804, 0.9815933537178804, 0.9815933537178804, 0.9815933537178804, 0.9815933537178804, 0.9815933537178804, 0.9815933537178804, 0.9815933537178804, 0.9815933537178804, 0.9815933537178804, 0.9815933537178804, 0.9815933537178804, 0.9815933537178804, 0.9815933537178804, 0.9815933537178804, 0.9815933537178804, 0.9815933537178804, 0.9815933537178804, 0.9815933537178804, 0.9815933537178804, 0.9815933537178804, 0.9815933537178804, 0.9815933537178804, 0.9815933537178804, 0.9815933537178804, 0.9815933537178804, 0.9840338550933353]}], \"f1_score_micro\": [{\"categories\": [\"0\", \"1\", \"2\", \"3\", \"4\", \"5\", \"6\", \"7\", \"8\", \"9\", \"10\", \"11\", \"12\", \"13\", \"14\", \"15\", \"16\", \"17\", \"18\", \"19\", \"20\", \"21\", \"22\", \"23\", \"24\", \"25\", \"26\", \"27\", \"28\", \"29\", \"30\", \"31\", \"32\", \"33\", \"34\", \"35\", \"36\", \"37\", \"38\", \"39\", \"40\", \"41\", \"42\", \"43\", \"44\", \"45\", \"46\", \"47\", \"48\", \"49\", \"50\", \"51\", \"52\", \"53\", \"67\"], \"mode\": \"markers\", \"name\": \"f1_score_micro\", \"stepped\": false, \"type\": \"scatter\", \"data\": [0.9761222540592168, 0.9436485195797517, 0.9326647564469913, 0.9603629417382998, 0.8839541547277937, 0.94603629417383, 0.8490926456542502, 0.9594078319006686, 0.669054441260745, 0.9579751671442215, 0.9259789875835721, 0.9541547277936964, 0.9594078319006685, 0.9555873925501434, 0.9608404966571156, 0.9307545367717287, 0.9551098376313276, 0.9450811843361987, 0.9192932187201528, 0.9412607449856734, 0.9407831900668576, 0.8648519579751671, 0.9154727793696275, 0.9426934097421203, 0.9527220630372493, 0.9460362941738301, 0.937440305635148, 0.9436485195797517, 0.9278892072588348, 0.9637058261700094, 0.9508118433619867, 0.9412607449856732, 0.9622731614135626, 0.9350525310410696, 0.9541547277936963, 0.9231136580706781, 0.9522445081184335, 0.9355300859598854, 0.9340974212034384, 0.9527220630372493, 0.94603629417383, 0.9422158548233046, 0.9283667621776504, 0.9632282712511939, 0.9512893982808022, 0.9207258834765998, 0.9441260744985672, 0.937440305635148, 0.9202483285577842, 0.9422158548233046, 0.9417382999044891, 0.9159503342884432, 0.9274116523400191, 0.9326647564469915, 0.9775549188156637]}, {\"categories\": [\"0\", \"1\", \"2\", \"3\", \"4\", \"5\", \"6\", \"7\", \"8\", \"9\", \"10\", \"11\", \"12\", \"13\", \"14\", \"15\", \"16\", \"17\", \"18\", \"19\", \"20\", \"21\", \"22\", \"23\", \"24\", \"25\", \"26\", \"27\", \"28\", \"29\", \"30\", \"31\", \"32\", \"33\", \"34\", \"35\", \"36\", \"37\", \"38\", \"39\", \"40\", \"41\", \"42\", \"43\", \"44\", \"45\", \"46\", \"47\", \"48\", \"49\", \"50\", \"51\", \"52\", \"53\", \"67\"], \"mode\": \"lines\", \"name\": \"f1_score_micro_max\", \"stepped\": true, \"type\": \"scatter\", \"data\": [0.9761222540592168, 0.9761222540592168, 0.9761222540592168, 0.9761222540592168, 0.9761222540592168, 0.9761222540592168, 0.9761222540592168, 0.9761222540592168, 0.9761222540592168, 0.9761222540592168, 0.9761222540592168, 0.9761222540592168, 0.9761222540592168, 0.9761222540592168, 0.9761222540592168, 0.9761222540592168, 0.9761222540592168, 0.9761222540592168, 0.9761222540592168, 0.9761222540592168, 0.9761222540592168, 0.9761222540592168, 0.9761222540592168, 0.9761222540592168, 0.9761222540592168, 0.9761222540592168, 0.9761222540592168, 0.9761222540592168, 0.9761222540592168, 0.9761222540592168, 0.9761222540592168, 0.9761222540592168, 0.9761222540592168, 0.9761222540592168, 0.9761222540592168, 0.9761222540592168, 0.9761222540592168, 0.9761222540592168, 0.9761222540592168, 0.9761222540592168, 0.9761222540592168, 0.9761222540592168, 0.9761222540592168, 0.9761222540592168, 0.9761222540592168, 0.9761222540592168, 0.9761222540592168, 0.9761222540592168, 0.9761222540592168, 0.9761222540592168, 0.9761222540592168, 0.9761222540592168, 0.9761222540592168, 0.9761222540592168, 0.9775549188156637]}], \"AUC_macro\": [{\"categories\": [\"0\", \"1\", \"2\", \"3\", \"4\", \"5\", \"6\", \"7\", \"8\", \"9\", \"10\", \"11\", \"12\", \"13\", \"14\", \"15\", \"16\", \"17\", \"18\", \"19\", \"20\", \"21\", \"22\", \"23\", \"24\", \"25\", \"26\", \"27\", \"28\", \"29\", \"30\", \"31\", \"32\", \"33\", \"34\", \"35\", \"36\", \"37\", \"38\", \"39\", \"40\", \"41\", \"42\", \"43\", \"44\", \"45\", \"46\", \"47\", \"48\", \"49\", \"50\", \"51\", \"52\", \"53\", \"67\"], \"mode\": \"markers\", \"name\": \"AUC_macro\", \"stepped\": false, \"type\": \"scatter\", \"data\": [0.9869881928145697, 0.9738950777434802, 0.968037151984765, 0.980013740133694, 0.962016058607297, 0.9760465272434106, 0.931207510242646, 0.9917872460936609, 0.8383419008756506, 0.9684610199080784, 0.9668436003023745, 0.9789727844567793, 0.9774855504927581, 0.977081316598645, 0.9820694906234273, 0.9795525120316046, 0.9789033282920578, 0.9765527816838632, 0.9701499170529123, 0.9724901833454899, 0.97040175388904, 0.9197422644067599, 0.9586682816829114, 0.9728325559640517, 0.9768296198229951, 0.9695838219709394, 0.9678746310389325, 0.9720158233272512, 0.963448169653034, 0.9826740591555566, 0.9775443634637173, 0.969629273085987, 0.979932274120746, 0.9604385897484651, 0.9801291463497913, 0.9675694005109223, 0.9775747147362496, 0.9679689241080413, 0.9695660575260985, 0.9770256751992905, 0.9736857739251684, 0.9714551647368012, 0.966572287978073, 0.9794527547832083, 0.9743530190802575, 0.9537496002758417, 0.9771432306861697, 0.9623741199384694, 0.9579458279650224, 0.968082530533577, 0.972273740379193, 0.9597619709732994, 0.964166371880382, 0.9693302103717164, 0.9912763351231554]}, {\"categories\": [\"0\", \"1\", \"2\", \"3\", \"4\", \"5\", \"6\", \"7\", \"8\", \"9\", \"10\", \"11\", \"12\", \"13\", \"14\", \"15\", \"16\", \"17\", \"18\", \"19\", \"20\", \"21\", \"22\", \"23\", \"24\", \"25\", \"26\", \"27\", \"28\", \"29\", \"30\", \"31\", \"32\", \"33\", \"34\", \"35\", \"36\", \"37\", \"38\", \"39\", \"40\", \"41\", \"42\", \"43\", \"44\", \"45\", \"46\", \"47\", \"48\", \"49\", \"50\", \"51\", \"52\", \"53\", \"67\"], \"mode\": \"lines\", \"name\": \"AUC_macro_max\", \"stepped\": true, \"type\": \"scatter\", \"data\": [0.9869881928145697, 0.9869881928145697, 0.9869881928145697, 0.9869881928145697, 0.9869881928145697, 0.9869881928145697, 0.9869881928145697, 0.9917872460936609, 0.9917872460936609, 0.9917872460936609, 0.9917872460936609, 0.9917872460936609, 0.9917872460936609, 0.9917872460936609, 0.9917872460936609, 0.9917872460936609, 0.9917872460936609, 0.9917872460936609, 0.9917872460936609, 0.9917872460936609, 0.9917872460936609, 0.9917872460936609, 0.9917872460936609, 0.9917872460936609, 0.9917872460936609, 0.9917872460936609, 0.9917872460936609, 0.9917872460936609, 0.9917872460936609, 0.9917872460936609, 0.9917872460936609, 0.9917872460936609, 0.9917872460936609, 0.9917872460936609, 0.9917872460936609, 0.9917872460936609, 0.9917872460936609, 0.9917872460936609, 0.9917872460936609, 0.9917872460936609, 0.9917872460936609, 0.9917872460936609, 0.9917872460936609, 0.9917872460936609, 0.9917872460936609, 0.9917872460936609, 0.9917872460936609, 0.9917872460936609, 0.9917872460936609, 0.9917872460936609, 0.9917872460936609, 0.9917872460936609, 0.9917872460936609, 0.9917872460936609, 0.9917872460936609]}]}, \"metricName\": null, \"primaryMetricName\": \"accuracy\", \"showLegend\": false}, \"run_metrics\": [{\"name\": \"experiment_status\", \"run_id\": \"AutoML_e0f61e9d-13be-43f8-87d6-3fd241473e27\", \"categories\": [0, 1, 2, 3, 4, 5, 6, 7, 8, 9, 10, 11, 12, 13], \"series\": [{\"data\": [\"DatasetEvaluation\", \"FeaturesGeneration\", \"DatasetFeaturization\", \"DatasetFeaturizationCompleted\", \"DatasetCrossValidationSplit\", \"ModelSelection\", \"BestRunExplainModel\", \"ModelExplanationDataSetSetup\", \"PickSurrogateModel\", \"EngineeredFeatureExplanations\", \"EngineeredFeatureExplanations\", \"RawFeaturesExplanations\", \"RawFeaturesExplanations\", \"BestRunExplainModel\"]}]}, {\"name\": \"experiment_status_description\", \"run_id\": \"AutoML_e0f61e9d-13be-43f8-87d6-3fd241473e27\", \"categories\": [0, 1, 2, 3, 4, 5, 6, 7, 8, 9, 10, 11, 12, 13], \"series\": [{\"data\": [\"Gathering dataset statistics.\", \"Generating features for the dataset.\", \"Beginning to fit featurizers and featurize the dataset.\", \"Completed fit featurizers and featurizing the dataset.\", \"Generating individually featurized CV splits.\", \"Beginning model selection.\", \"Best run model explanations started\", \"Model explanations data setup completed\", \"Choosing LightGBM as the surrogate model for explanations\", \"Computation of engineered features started\", \"Computation of engineered features completed\", \"Computation of raw features started\", \"Computation of raw features completed\", \"Best run model explanations completed\"]}]}, {\"name\": \"recall_score_macro\", \"run_id\": \"AutoML_e0f61e9d-13be-43f8-87d6-3fd241473e27\", \"categories\": [0], \"series\": [{\"data\": [0.9700142781445956]}]}, {\"name\": \"recall_score_weighted\", \"run_id\": \"AutoML_e0f61e9d-13be-43f8-87d6-3fd241473e27\", \"categories\": [0], \"series\": [{\"data\": [0.9775549188156637]}]}, {\"name\": \"balanced_accuracy\", \"run_id\": \"AutoML_e0f61e9d-13be-43f8-87d6-3fd241473e27\", \"categories\": [0], \"series\": [{\"data\": [0.9700142781445956]}]}, {\"name\": \"average_precision_score_weighted\", \"run_id\": \"AutoML_e0f61e9d-13be-43f8-87d6-3fd241473e27\", \"categories\": [0], \"series\": [{\"data\": [0.992329073330518]}]}, {\"name\": \"precision_score_micro\", \"run_id\": \"AutoML_e0f61e9d-13be-43f8-87d6-3fd241473e27\", \"categories\": [0], \"series\": [{\"data\": [0.9775549188156637]}]}, {\"name\": \"precision_score_macro\", \"run_id\": \"AutoML_e0f61e9d-13be-43f8-87d6-3fd241473e27\", \"categories\": [0], \"series\": [{\"data\": [0.9819409398331969]}]}, {\"name\": \"weighted_accuracy\", \"run_id\": \"AutoML_e0f61e9d-13be-43f8-87d6-3fd241473e27\", \"categories\": [0], \"series\": [{\"data\": [0.9840338550933353]}]}, {\"name\": \"average_precision_score_micro\", \"run_id\": \"AutoML_e0f61e9d-13be-43f8-87d6-3fd241473e27\", \"categories\": [0], \"series\": [{\"data\": [0.993075898733251]}]}, {\"name\": \"AUC_weighted\", \"run_id\": \"AutoML_e0f61e9d-13be-43f8-87d6-3fd241473e27\", \"categories\": [0], \"series\": [{\"data\": [0.9912763351231554]}]}, {\"name\": \"f1_score_micro\", \"run_id\": \"AutoML_e0f61e9d-13be-43f8-87d6-3fd241473e27\", \"categories\": [0], \"series\": [{\"data\": [0.9775549188156637]}]}, {\"name\": \"average_precision_score_macro\", \"run_id\": \"AutoML_e0f61e9d-13be-43f8-87d6-3fd241473e27\", \"categories\": [0], \"series\": [{\"data\": [0.9917890066127776]}]}, {\"name\": \"log_loss\", \"run_id\": \"AutoML_e0f61e9d-13be-43f8-87d6-3fd241473e27\", \"categories\": [0], \"series\": [{\"data\": [0.10640218487012841]}]}, {\"name\": \"AUC_micro\", \"run_id\": \"AutoML_e0f61e9d-13be-43f8-87d6-3fd241473e27\", \"categories\": [0], \"series\": [{\"data\": [0.9930781903815786]}]}, {\"name\": \"accuracy\", \"run_id\": \"AutoML_e0f61e9d-13be-43f8-87d6-3fd241473e27\", \"categories\": [0], \"series\": [{\"data\": [0.9775549188156637]}]}, {\"name\": \"AUC_macro\", \"run_id\": \"AutoML_e0f61e9d-13be-43f8-87d6-3fd241473e27\", \"categories\": [0], \"series\": [{\"data\": [0.9912763351231554]}]}, {\"name\": \"f1_score_weighted\", \"run_id\": \"AutoML_e0f61e9d-13be-43f8-87d6-3fd241473e27\", \"categories\": [0], \"series\": [{\"data\": [0.9773988180004336]}]}, {\"name\": \"f1_score_macro\", \"run_id\": \"AutoML_e0f61e9d-13be-43f8-87d6-3fd241473e27\", \"categories\": [0], \"series\": [{\"data\": [0.9754108404548871]}]}, {\"name\": \"matthews_correlation\", \"run_id\": \"AutoML_e0f61e9d-13be-43f8-87d6-3fd241473e27\", \"categories\": [0], \"series\": [{\"data\": [0.9518700752962812]}]}, {\"name\": \"precision_score_weighted\", \"run_id\": \"AutoML_e0f61e9d-13be-43f8-87d6-3fd241473e27\", \"categories\": [0], \"series\": [{\"data\": [0.9782193780102504]}]}, {\"name\": \"norm_macro_recall\", \"run_id\": \"AutoML_e0f61e9d-13be-43f8-87d6-3fd241473e27\", \"categories\": [0], \"series\": [{\"data\": [0.9400285562891915]}]}, {\"name\": \"recall_score_micro\", \"run_id\": \"AutoML_e0f61e9d-13be-43f8-87d6-3fd241473e27\", \"categories\": [0], \"series\": [{\"data\": [0.9775549188156637]}]}], \"run_logs\": \"\\nRun is completed.\", \"graph\": {}, \"widget_settings\": {\"childWidgetDisplay\": \"popup\", \"send_telemetry\": false, \"log_level\": \"INFO\", \"sdk_version\": \"1.22.0\"}, \"loading\": false}"
          },
          "metadata": {}
        }
      ],
      "execution_count": 7,
      "metadata": {
        "gather": {
          "logged": 1615472576091
        },
        "jupyter": {
          "outputs_hidden": false,
          "source_hidden": false
        },
        "nteract": {
          "transient": {
            "deleting": false
          }
        }
      }
    },
    {
      "cell_type": "code",
      "source": [
        "automlmodel_run.wait_for_completion(show_output=True)"
      ],
      "outputs": [
        {
          "output_type": "stream",
          "name": "stdout",
          "text": [
            "\n",
            "\n",
            "****************************************************************************************************\n",
            "DATA GUARDRAILS: \n",
            "\n",
            "TYPE:         Cross validation\n",
            "STATUS:       DONE\n",
            "DESCRIPTION:  Each iteration of the trained model was validated through cross-validation.\n",
            "              \n",
            "DETAILS:      \n",
            "+---------------------------------+\n",
            "|Number of folds                  |\n",
            "+=================================+\n",
            "|3                                |\n",
            "+---------------------------------+\n",
            "\n",
            "****************************************************************************************************\n",
            "\n",
            "TYPE:         Class balancing detection\n",
            "STATUS:       PASSED\n",
            "DESCRIPTION:  Your inputs were analyzed, and all classes are balanced in your training data.\n",
            "              Learn more about imbalanced data: https://aka.ms/AutomatedMLImbalancedData\n",
            "\n",
            "****************************************************************************************************\n",
            "\n",
            "TYPE:         Missing feature values imputation\n",
            "STATUS:       PASSED\n",
            "DESCRIPTION:  No feature missing values were detected in the training data.\n",
            "              Learn more about missing value imputation: https://aka.ms/AutomatedMLFeaturization\n",
            "\n",
            "****************************************************************************************************\n",
            "\n",
            "TYPE:         High cardinality feature detection\n",
            "STATUS:       PASSED\n",
            "DESCRIPTION:  Your inputs were analyzed, and no high cardinality features were detected.\n",
            "              Learn more about high cardinality feature handling: https://aka.ms/AutomatedMLFeaturization\n",
            "\n",
            "****************************************************************************************************\n",
            "\n",
            "****************************************************************************************************\n",
            "ITERATION: The iteration being evaluated.\n",
            "PIPELINE: A summary description of the pipeline being evaluated.\n",
            "DURATION: Time taken for the current iteration.\n",
            "METRIC: The result of computing score on the fitted pipeline.\n",
            "BEST: The best observed score thus far.\n",
            "****************************************************************************************************\n",
            "\n",
            " ITERATION   PIPELINE                                       DURATION      METRIC      BEST\n",
            "         0   MaxAbsScaler LightGBM                          0:00:56       0.9761    0.9761\n",
            "         1   MinMaxScaler RandomForest                      0:00:47       0.9436    0.9761\n",
            "        10   MinMaxScaler RandomForest                      0:00:47       0.9260    0.9761\n",
            "        11   StandardScalerWrapper LightGBM                 0:00:46       0.9542    0.9761\n",
            "        12   StandardScalerWrapper LightGBM                 0:00:46       0.9594    0.9761\n",
            "        13   StandardScalerWrapper LightGBM                 0:00:47       0.9556    0.9761\n",
            "        14   MinMaxScaler LightGBM                          0:01:39       0.9608    0.9761\n",
            "        15   StandardScalerWrapper LogisticRegression       0:00:55       0.9308    0.9761\n",
            "        16   SparseNormalizer LightGBM                      0:01:43       0.9551    0.9761\n",
            "        17   RobustScaler KNN                               0:01:38       0.9451    0.9761\n",
            "        18   StandardScalerWrapper LogisticRegression       0:01:36       0.9193    0.9761\n",
            "        19   MinMaxScaler LightGBM                          0:00:50       0.9413    0.9761\n",
            "         2   MinMaxScaler RandomForest                      0:01:38       0.9327    0.9761\n",
            "         3   MinMaxScaler RandomForest                      0:00:46       0.9604    0.9761\n",
            "         4   MinMaxScaler RandomForest                      0:01:38       0.8840    0.9761\n",
            "         5   MaxAbsScaler RandomForest                      0:00:45       0.9460    0.9761\n",
            "         6   MinMaxScaler LogisticRegression                0:01:44       0.8491    0.9761\n",
            "         7   TruncatedSVDWrapper GradientBoosting           0:01:52       0.9594    0.9761\n",
            "         8   MaxAbsScaler LogisticRegression                0:01:44       0.6691    0.9761\n",
            "         9   StandardScalerWrapper KNN                      0:00:46       0.9580    0.9761\n",
            "        20   RobustScaler RandomForest                      0:00:41       0.9408    0.9761\n",
            "        21   MinMaxScaler LogisticRegression                0:00:54       0.8649    0.9761\n",
            "        22   StandardScalerWrapper GradientBoosting         0:00:55       0.9155    0.9761\n",
            "        23   MaxAbsScaler LightGBM                          0:00:50       0.9427    0.9761\n",
            "        24   RobustScaler RandomForest                      0:00:53       0.9527    0.9761\n",
            "        25   StandardScalerWrapper LightGBM                 0:01:24       0.9460    0.9761\n",
            "        26   RobustScaler LightGBM                          0:00:56       0.9374    0.9761\n",
            "        27   MinMaxScaler LightGBM                          0:00:51       0.9436    0.9761\n",
            "        28   RobustScaler ExtremeRandomTrees                0:00:51       0.9279    0.9761\n",
            "        29   StandardScalerWrapper LightGBM                 0:00:58       0.9637    0.9761\n",
            "        30   MaxAbsScaler LightGBM                          0:00:46       0.9508    0.9761\n",
            "        31   StandardScalerWrapper LightGBM                 0:00:56       0.9413    0.9761\n",
            "        32   StandardScalerWrapper LightGBM                 0:00:45       0.9623    0.9761\n",
            "        33   StandardScalerWrapper LightGBM                 0:00:54       0.9351    0.9761\n",
            "        34   MaxAbsScaler RandomForest                      0:00:50       0.9542    0.9761\n",
            "        35   RobustScaler LightGBM                          0:00:46       0.9231    0.9761\n",
            "        36   MaxAbsScaler LightGBM                          0:00:49       0.9522    0.9761\n",
            "        37   SparseNormalizer LightGBM                      0:00:45       0.9355    0.9761\n",
            "        38   SparseNormalizer LightGBM                      0:00:45       0.9341    0.9761\n",
            "        39   MaxAbsScaler RandomForest                      0:00:57       0.9527    0.9761\n",
            "        40   SparseNormalizer LightGBM                      0:00:49       0.9460    0.9761\n",
            "        41   SparseNormalizer LightGBM                      0:00:52       0.9422    0.9761\n",
            "        42   StandardScalerWrapper LightGBM                 0:00:49       0.9284    0.9761\n",
            "        43   StandardScalerWrapper LightGBM                 0:00:51       0.9632    0.9761\n",
            "        44   SparseNormalizer LightGBM                      0:00:47       0.9513    0.9761\n",
            "        45   SparseNormalizer LightGBM                      0:00:44       0.9207    0.9761\n",
            "        46   StandardScalerWrapper LightGBM                 0:00:51       0.9441    0.9761\n",
            "        47   StandardScalerWrapper LightGBM                 0:00:50       0.9374    0.9761\n",
            "        48   MaxAbsScaler LightGBM                          0:00:46       0.9202    0.9761\n",
            "        49   MaxAbsScaler LightGBM                          0:00:48       0.9422    0.9761\n",
            "        50   MaxAbsScaler LightGBM                          0:00:46       0.9417    0.9761\n",
            "        51   MaxAbsScaler ExtremeRandomTrees                0:00:52       0.9160    0.9761\n",
            "        52   MaxAbsScaler LightGBM                          0:00:40       0.9274    0.9761\n",
            "        53   MaxAbsScaler RandomForest                      0:00:36       0.9327    0.9761\n",
            "        54                                                  0:00:18          nan    0.9761\n",
            "        55                                                  0:00:15          nan    0.9761\n",
            "        56                                                  0:01:18          nan    0.9761\n",
            "        57                                                  0:01:15          nan    0.9761\n",
            "        58                                                  0:01:11          nan    0.9761\n",
            "        59                                                  0:01:08          nan    0.9761\n",
            "        60                                                  0:01:03          nan    0.9761\n",
            "        61                                                  0:01:01          nan    0.9761\n",
            "        62                                                  0:00:54          nan    0.9761\n",
            "        63                                                  0:00:47          nan    0.9761\n",
            "        64                                                  0:00:32          nan    0.9761\n",
            "        65                                                  0:00:24          nan    0.9761\n",
            "        66                                                  0:00:15          nan    0.9761\n",
            "        67    VotingEnsemble                                0:01:16       0.9776    0.9776\n"
          ]
        },
        {
          "output_type": "execute_result",
          "execution_count": 8,
          "data": {
            "text/plain": "{'runId': 'AutoML_e0f61e9d-13be-43f8-87d6-3fd241473e27',\n 'target': 'compute-ml',\n 'status': 'Completed',\n 'startTimeUtc': '2021-03-11T13:23:28.685238Z',\n 'endTimeUtc': '2021-03-11T14:22:48.342546Z',\n 'properties': {'num_iterations': '1000',\n  'training_type': 'TrainFull',\n  'acquisition_function': 'EI',\n  'primary_metric': 'accuracy',\n  'train_split': '0',\n  'acquisition_parameter': '0',\n  'num_cross_validation': None,\n  'target': 'compute-ml',\n  'AMLSettingsJsonString': '{\"path\":null,\"name\":\"hydraulic-automl-experiment\",\"subscription_id\":\"2c48c51c-bd47-40d4-abbe-fb8eabd19c8c\",\"resource_group\":\"aml-quickstarts-140211\",\"workspace_name\":\"quick-starts-ws-140211\",\"region\":\"southcentralus\",\"compute_target\":\"compute-ml\",\"spark_service\":null,\"azure_service\":\"remote\",\"many_models\":false,\"pipeline_fetch_max_batch_size\":1,\"iterations\":1000,\"primary_metric\":\"accuracy\",\"task_type\":\"classification\",\"data_script\":null,\"validation_size\":0.0,\"n_cross_validations\":null,\"y_min\":null,\"y_max\":null,\"num_classes\":null,\"featurization\":\"auto\",\"_ignore_package_version_incompatibilities\":false,\"is_timeseries\":false,\"max_cores_per_iteration\":1,\"max_concurrent_iterations\":20,\"iteration_timeout_minutes\":null,\"mem_in_mb\":null,\"enforce_time_on_windows\":false,\"experiment_timeout_minutes\":60,\"experiment_exit_score\":null,\"whitelist_models\":null,\"blacklist_algos\":[\"XGBoostClassifier\",\"TensorFlowLinearClassifier\",\"TensorFlowDNN\"],\"supported_models\":[\"LogisticRegression\",\"DecisionTree\",\"MultinomialNaiveBayes\",\"SGD\",\"BernoulliNaiveBayes\",\"LightGBM\",\"GradientBoosting\",\"TensorFlowLinearClassifier\",\"KNN\",\"LinearSVM\",\"RandomForest\",\"AveragedPerceptronClassifier\",\"ExtremeRandomTrees\",\"TensorFlowDNN\",\"XGBoostClassifier\",\"SVM\"],\"private_models\":[],\"auto_blacklist\":true,\"blacklist_samples_reached\":false,\"exclude_nan_labels\":true,\"verbosity\":20,\"_debug_log\":\"azureml_automl.log\",\"show_warnings\":false,\"model_explainability\":true,\"service_url\":null,\"sdk_url\":null,\"sdk_packages\":null,\"enable_onnx_compatible_models\":true,\"enable_split_onnx_featurizer_estimator_models\":false,\"vm_type\":\"STANDARD_DS14_V2\",\"telemetry_verbosity\":20,\"send_telemetry\":true,\"enable_dnn\":false,\"scenario\":\"SDK-1.13.0\",\"environment_label\":null,\"force_text_dnn\":false,\"enable_feature_sweeping\":false,\"enable_early_stopping\":true,\"early_stopping_n_iters\":10,\"metrics\":null,\"enable_ensembling\":true,\"enable_stack_ensembling\":false,\"ensemble_iterations\":15,\"enable_tf\":false,\"enable_subsampling\":null,\"subsample_seed\":null,\"enable_nimbusml\":false,\"enable_streaming\":false,\"force_streaming\":false,\"track_child_runs\":true,\"allowed_private_models\":[],\"label_column_name\":\"STABILITY\",\"weight_column_name\":null,\"cv_split_column_names\":null,\"enable_local_managed\":false,\"_local_managed_run_id\":null,\"cost_mode\":1,\"lag_length\":0,\"metric_operation\":\"maximize\",\"preprocess\":true}',\n  'DataPrepJsonString': '{\\\\\"training_data\\\\\": \\\\\"{\\\\\\\\\\\\\"blocks\\\\\\\\\\\\\": [{\\\\\\\\\\\\\"id\\\\\\\\\\\\\": \\\\\\\\\\\\\"86cc81a6-e1d5-4d25-821f-9f2e3a59b46b\\\\\\\\\\\\\", \\\\\\\\\\\\\"type\\\\\\\\\\\\\": \\\\\\\\\\\\\"Microsoft.DPrep.GetFilesBlock\\\\\\\\\\\\\", \\\\\\\\\\\\\"arguments\\\\\\\\\\\\\": {\\\\\\\\\\\\\"isArchive\\\\\\\\\\\\\": false, \\\\\\\\\\\\\"path\\\\\\\\\\\\\": {\\\\\\\\\\\\\"target\\\\\\\\\\\\\": 4, \\\\\\\\\\\\\"resourceDetails\\\\\\\\\\\\\": [{\\\\\\\\\\\\\"path\\\\\\\\\\\\\": \\\\\\\\\\\\\"https://raw.githubusercontent.com/chamsun-imoggo/udacityms-3rdproject/main/data/hydraulic_systems_training.csv\\\\\\\\\\\\\"}]}}, \\\\\\\\\\\\\"localData\\\\\\\\\\\\\": {}, \\\\\\\\\\\\\"isEnabled\\\\\\\\\\\\\": true, \\\\\\\\\\\\\"name\\\\\\\\\\\\\": null, \\\\\\\\\\\\\"annotation\\\\\\\\\\\\\": null}, {\\\\\\\\\\\\\"id\\\\\\\\\\\\\": \\\\\\\\\\\\\"c068e448-be03-434a-a58f-c8be94238146\\\\\\\\\\\\\", \\\\\\\\\\\\\"type\\\\\\\\\\\\\": \\\\\\\\\\\\\"Microsoft.DPrep.ParseDelimitedBlock\\\\\\\\\\\\\", \\\\\\\\\\\\\"arguments\\\\\\\\\\\\\": {\\\\\\\\\\\\\"columnHeadersMode\\\\\\\\\\\\\": 3, \\\\\\\\\\\\\"fileEncoding\\\\\\\\\\\\\": 0, \\\\\\\\\\\\\"handleQuotedLineBreaks\\\\\\\\\\\\\": false, \\\\\\\\\\\\\"preview\\\\\\\\\\\\\": false, \\\\\\\\\\\\\"separator\\\\\\\\\\\\\": \\\\\\\\\\\\\",\\\\\\\\\\\\\", \\\\\\\\\\\\\"skipRows\\\\\\\\\\\\\": 0, \\\\\\\\\\\\\"skipRowsMode\\\\\\\\\\\\\": 0}, \\\\\\\\\\\\\"localData\\\\\\\\\\\\\": {}, \\\\\\\\\\\\\"isEnabled\\\\\\\\\\\\\": true, \\\\\\\\\\\\\"name\\\\\\\\\\\\\": null, \\\\\\\\\\\\\"annotation\\\\\\\\\\\\\": null}, {\\\\\\\\\\\\\"id\\\\\\\\\\\\\": \\\\\\\\\\\\\"ff96647c-2474-4758-9031-3cd4908b97a9\\\\\\\\\\\\\", \\\\\\\\\\\\\"type\\\\\\\\\\\\\": \\\\\\\\\\\\\"Microsoft.DPrep.DropColumnsBlock\\\\\\\\\\\\\", \\\\\\\\\\\\\"arguments\\\\\\\\\\\\\": {\\\\\\\\\\\\\"columns\\\\\\\\\\\\\": {\\\\\\\\\\\\\"type\\\\\\\\\\\\\": 0, \\\\\\\\\\\\\"details\\\\\\\\\\\\\": {\\\\\\\\\\\\\"selectedColumns\\\\\\\\\\\\\": [\\\\\\\\\\\\\"Path\\\\\\\\\\\\\"]}}}, \\\\\\\\\\\\\"localData\\\\\\\\\\\\\": {}, \\\\\\\\\\\\\"isEnabled\\\\\\\\\\\\\": true, \\\\\\\\\\\\\"name\\\\\\\\\\\\\": null, \\\\\\\\\\\\\"annotation\\\\\\\\\\\\\": null}, {\\\\\\\\\\\\\"id\\\\\\\\\\\\\": \\\\\\\\\\\\\"9ae55c61-85d6-42d8-bd39-03ca49d68afc\\\\\\\\\\\\\", \\\\\\\\\\\\\"type\\\\\\\\\\\\\": \\\\\\\\\\\\\"Microsoft.DPrep.SetColumnTypesBlock\\\\\\\\\\\\\", \\\\\\\\\\\\\"arguments\\\\\\\\\\\\\": {\\\\\\\\\\\\\"columnConversion\\\\\\\\\\\\\": [{\\\\\\\\\\\\\"column\\\\\\\\\\\\\": {\\\\\\\\\\\\\"type\\\\\\\\\\\\\": 2, \\\\\\\\\\\\\"details\\\\\\\\\\\\\": {\\\\\\\\\\\\\"selectedColumn\\\\\\\\\\\\\": \\\\\\\\\\\\\"PS1\\\\\\\\\\\\\"}}, \\\\\\\\\\\\\"typeProperty\\\\\\\\\\\\\": 3}, {\\\\\\\\\\\\\"column\\\\\\\\\\\\\": {\\\\\\\\\\\\\"type\\\\\\\\\\\\\": 2, \\\\\\\\\\\\\"details\\\\\\\\\\\\\": {\\\\\\\\\\\\\"selectedColumn\\\\\\\\\\\\\": \\\\\\\\\\\\\"PS2\\\\\\\\\\\\\"}}, \\\\\\\\\\\\\"typeProperty\\\\\\\\\\\\\": 3}, {\\\\\\\\\\\\\"column\\\\\\\\\\\\\": {\\\\\\\\\\\\\"type\\\\\\\\\\\\\": 2, \\\\\\\\\\\\\"details\\\\\\\\\\\\\": {\\\\\\\\\\\\\"selectedColumn\\\\\\\\\\\\\": \\\\\\\\\\\\\"PS3\\\\\\\\\\\\\"}}, \\\\\\\\\\\\\"typeProperty\\\\\\\\\\\\\": 3}, {\\\\\\\\\\\\\"column\\\\\\\\\\\\\": {\\\\\\\\\\\\\"type\\\\\\\\\\\\\": 2, \\\\\\\\\\\\\"details\\\\\\\\\\\\\": {\\\\\\\\\\\\\"selectedColumn\\\\\\\\\\\\\": \\\\\\\\\\\\\"PS4\\\\\\\\\\\\\"}}, \\\\\\\\\\\\\"typeProperty\\\\\\\\\\\\\": 3}, {\\\\\\\\\\\\\"column\\\\\\\\\\\\\": {\\\\\\\\\\\\\"type\\\\\\\\\\\\\": 2, \\\\\\\\\\\\\"details\\\\\\\\\\\\\": {\\\\\\\\\\\\\"selectedColumn\\\\\\\\\\\\\": \\\\\\\\\\\\\"PS5\\\\\\\\\\\\\"}}, \\\\\\\\\\\\\"typeProperty\\\\\\\\\\\\\": 3}, {\\\\\\\\\\\\\"column\\\\\\\\\\\\\": {\\\\\\\\\\\\\"type\\\\\\\\\\\\\": 2, \\\\\\\\\\\\\"details\\\\\\\\\\\\\": {\\\\\\\\\\\\\"selectedColumn\\\\\\\\\\\\\": \\\\\\\\\\\\\"PS6\\\\\\\\\\\\\"}}, \\\\\\\\\\\\\"typeProperty\\\\\\\\\\\\\": 3}, {\\\\\\\\\\\\\"column\\\\\\\\\\\\\": {\\\\\\\\\\\\\"type\\\\\\\\\\\\\": 2, \\\\\\\\\\\\\"details\\\\\\\\\\\\\": {\\\\\\\\\\\\\"selectedColumn\\\\\\\\\\\\\": \\\\\\\\\\\\\"FS1\\\\\\\\\\\\\"}}, \\\\\\\\\\\\\"typeProperty\\\\\\\\\\\\\": 3}, {\\\\\\\\\\\\\"column\\\\\\\\\\\\\": {\\\\\\\\\\\\\"type\\\\\\\\\\\\\": 2, \\\\\\\\\\\\\"details\\\\\\\\\\\\\": {\\\\\\\\\\\\\"selectedColumn\\\\\\\\\\\\\": \\\\\\\\\\\\\"FS2\\\\\\\\\\\\\"}}, \\\\\\\\\\\\\"typeProperty\\\\\\\\\\\\\": 3}, {\\\\\\\\\\\\\"column\\\\\\\\\\\\\": {\\\\\\\\\\\\\"type\\\\\\\\\\\\\": 2, \\\\\\\\\\\\\"details\\\\\\\\\\\\\": {\\\\\\\\\\\\\"selectedColumn\\\\\\\\\\\\\": \\\\\\\\\\\\\"TS1\\\\\\\\\\\\\"}}, \\\\\\\\\\\\\"typeProperty\\\\\\\\\\\\\": 3}, {\\\\\\\\\\\\\"column\\\\\\\\\\\\\": {\\\\\\\\\\\\\"type\\\\\\\\\\\\\": 2, \\\\\\\\\\\\\"details\\\\\\\\\\\\\": {\\\\\\\\\\\\\"selectedColumn\\\\\\\\\\\\\": \\\\\\\\\\\\\"TS2\\\\\\\\\\\\\"}}, \\\\\\\\\\\\\"typeProperty\\\\\\\\\\\\\": 3}, {\\\\\\\\\\\\\"column\\\\\\\\\\\\\": {\\\\\\\\\\\\\"type\\\\\\\\\\\\\": 2, \\\\\\\\\\\\\"details\\\\\\\\\\\\\": {\\\\\\\\\\\\\"selectedColumn\\\\\\\\\\\\\": \\\\\\\\\\\\\"TS3\\\\\\\\\\\\\"}}, \\\\\\\\\\\\\"typeProperty\\\\\\\\\\\\\": 3}, {\\\\\\\\\\\\\"column\\\\\\\\\\\\\": {\\\\\\\\\\\\\"type\\\\\\\\\\\\\": 2, \\\\\\\\\\\\\"details\\\\\\\\\\\\\": {\\\\\\\\\\\\\"selectedColumn\\\\\\\\\\\\\": \\\\\\\\\\\\\"TS4\\\\\\\\\\\\\"}}, \\\\\\\\\\\\\"typeProperty\\\\\\\\\\\\\": 3}, {\\\\\\\\\\\\\"column\\\\\\\\\\\\\": {\\\\\\\\\\\\\"type\\\\\\\\\\\\\": 2, \\\\\\\\\\\\\"details\\\\\\\\\\\\\": {\\\\\\\\\\\\\"selectedColumn\\\\\\\\\\\\\": \\\\\\\\\\\\\"P1\\\\\\\\\\\\\"}}, \\\\\\\\\\\\\"typeProperty\\\\\\\\\\\\\": 3}, {\\\\\\\\\\\\\"column\\\\\\\\\\\\\": {\\\\\\\\\\\\\"type\\\\\\\\\\\\\": 2, \\\\\\\\\\\\\"details\\\\\\\\\\\\\": {\\\\\\\\\\\\\"selectedColumn\\\\\\\\\\\\\": \\\\\\\\\\\\\"VS1\\\\\\\\\\\\\"}}, \\\\\\\\\\\\\"typeProperty\\\\\\\\\\\\\": 3}, {\\\\\\\\\\\\\"column\\\\\\\\\\\\\": {\\\\\\\\\\\\\"type\\\\\\\\\\\\\": 2, \\\\\\\\\\\\\"details\\\\\\\\\\\\\": {\\\\\\\\\\\\\"selectedColumn\\\\\\\\\\\\\": \\\\\\\\\\\\\"CE1\\\\\\\\\\\\\"}}, \\\\\\\\\\\\\"typeProperty\\\\\\\\\\\\\": 3}, {\\\\\\\\\\\\\"column\\\\\\\\\\\\\": {\\\\\\\\\\\\\"type\\\\\\\\\\\\\": 2, \\\\\\\\\\\\\"details\\\\\\\\\\\\\": {\\\\\\\\\\\\\"selectedColumn\\\\\\\\\\\\\": \\\\\\\\\\\\\"CP1\\\\\\\\\\\\\"}}, \\\\\\\\\\\\\"typeProperty\\\\\\\\\\\\\": 3}, {\\\\\\\\\\\\\"column\\\\\\\\\\\\\": {\\\\\\\\\\\\\"type\\\\\\\\\\\\\": 2, \\\\\\\\\\\\\"details\\\\\\\\\\\\\": {\\\\\\\\\\\\\"selectedColumn\\\\\\\\\\\\\": \\\\\\\\\\\\\"SE1\\\\\\\\\\\\\"}}, \\\\\\\\\\\\\"typeProperty\\\\\\\\\\\\\": 3}, {\\\\\\\\\\\\\"column\\\\\\\\\\\\\": {\\\\\\\\\\\\\"type\\\\\\\\\\\\\": 2, \\\\\\\\\\\\\"details\\\\\\\\\\\\\": {\\\\\\\\\\\\\"selectedColumn\\\\\\\\\\\\\": \\\\\\\\\\\\\"STABILITY\\\\\\\\\\\\\"}}, \\\\\\\\\\\\\"typeProperty\\\\\\\\\\\\\": 2}]}, \\\\\\\\\\\\\"localData\\\\\\\\\\\\\": {}, \\\\\\\\\\\\\"isEnabled\\\\\\\\\\\\\": true, \\\\\\\\\\\\\"name\\\\\\\\\\\\\": null, \\\\\\\\\\\\\"annotation\\\\\\\\\\\\\": null}], \\\\\\\\\\\\\"inspectors\\\\\\\\\\\\\": [], \\\\\\\\\\\\\"meta\\\\\\\\\\\\\": {\\\\\\\\\\\\\"savedDatasetId\\\\\\\\\\\\\": \\\\\\\\\\\\\"8c50220d-4788-42f0-ba96-d0167ebd59f4\\\\\\\\\\\\\", \\\\\\\\\\\\\"datasetType\\\\\\\\\\\\\": \\\\\\\\\\\\\"tabular\\\\\\\\\\\\\", \\\\\\\\\\\\\"subscriptionId\\\\\\\\\\\\\": \\\\\\\\\\\\\"2c48c51c-bd47-40d4-abbe-fb8eabd19c8c\\\\\\\\\\\\\", \\\\\\\\\\\\\"workspaceId\\\\\\\\\\\\\": \\\\\\\\\\\\\"a272252c-453b-4fdd-9cea-467fa3a7e70d\\\\\\\\\\\\\", \\\\\\\\\\\\\"workspaceLocation\\\\\\\\\\\\\": \\\\\\\\\\\\\"southcentralus\\\\\\\\\\\\\"}}\\\\\", \\\\\"activities\\\\\": 0}',\n  'EnableSubsampling': None,\n  'runTemplate': 'AutoML',\n  'azureml.runsource': 'automl',\n  'display_task_type': 'classification',\n  'dependencies_versions': '{\"azureml-widgets\": \"1.22.0\", \"azureml-train\": \"1.22.0\", \"azureml-train-restclients-hyperdrive\": \"1.22.0\", \"azureml-train-core\": \"1.22.0\", \"azureml-train-automl\": \"1.22.0\", \"azureml-train-automl-runtime\": \"1.22.0\", \"azureml-train-automl-client\": \"1.22.0\", \"azureml-tensorboard\": \"1.22.0\", \"azureml-telemetry\": \"1.22.0\", \"azureml-sdk\": \"1.22.0\", \"azureml-samples\": \"0+unknown\", \"azureml-pipeline\": \"1.22.0\", \"azureml-pipeline-steps\": \"1.22.0\", \"azureml-pipeline-core\": \"1.22.0\", \"azureml-opendatasets\": \"1.22.0\", \"azureml-model-management-sdk\": \"1.0.1b6.post1\", \"azureml-mlflow\": \"1.22.0\", \"azureml-interpret\": \"1.22.0\", \"azureml-explain-model\": \"1.22.0\", \"azureml-defaults\": \"1.22.0\", \"azureml-dataset-runtime\": \"1.22.0\", \"azureml-dataprep\": \"2.9.1\", \"azureml-dataprep-rslex\": \"1.7.0\", \"azureml-dataprep-native\": \"29.0.0\", \"azureml-datadrift\": \"1.22.0\", \"azureml-core\": \"1.22.0\", \"azureml-contrib-services\": \"1.22.0\", \"azureml-contrib-server\": \"1.22.0\", \"azureml-contrib-reinforcementlearning\": \"1.22.0\", \"azureml-contrib-pipeline-steps\": \"1.22.0\", \"azureml-contrib-notebook\": \"1.22.0\", \"azureml-contrib-interpret\": \"1.22.0\", \"azureml-contrib-gbdt\": \"1.22.0\", \"azureml-contrib-fairness\": \"1.22.0\", \"azureml-contrib-dataset\": \"1.22.0\", \"azureml-cli-common\": \"1.22.0\", \"azureml-automl-runtime\": \"1.22.0\", \"azureml-automl-core\": \"1.22.0\", \"azureml-accel-models\": \"1.22.0\"}',\n  '_aml_system_scenario_identification': 'Remote.Parent',\n  'ClientType': 'SDK',\n  'environment_cpu_name': 'AzureML-AutoML',\n  'environment_cpu_label': 'prod',\n  'environment_gpu_name': 'AzureML-AutoML-GPU',\n  'environment_gpu_label': 'prod',\n  'root_attribution': 'automl',\n  'attribution': 'AutoML',\n  'Orchestrator': 'AutoML',\n  'CancelUri': 'https://southcentralus.experiments.azureml.net/jasmine/v1.0/subscriptions/2c48c51c-bd47-40d4-abbe-fb8eabd19c8c/resourceGroups/aml-quickstarts-140211/providers/Microsoft.MachineLearningServices/workspaces/quick-starts-ws-140211/experimentids/cbaf3bdc-0f6a-4986-b50e-526f7ec5d69f/cancel/AutoML_e0f61e9d-13be-43f8-87d6-3fd241473e27',\n  'ClientSdkVersion': '1.23.0',\n  'snapshotId': '00000000-0000-0000-0000-000000000000',\n  'SetupRunId': 'AutoML_e0f61e9d-13be-43f8-87d6-3fd241473e27_setup',\n  'SetupRunContainerId': 'dcid.AutoML_e0f61e9d-13be-43f8-87d6-3fd241473e27_setup',\n  'FeaturizationRunJsonPath': 'featurizer_container.json',\n  'FeaturizationRunId': 'AutoML_e0f61e9d-13be-43f8-87d6-3fd241473e27_featurize',\n  'ProblemInfoJsonString': '{\"dataset_num_categorical\": 0, \"is_sparse\": false, \"subsampling\": false, \"dataset_classes\": 2, \"dataset_features\": 17, \"dataset_samples\": 2094, \"single_frequency_class_detected\": false}',\n  'ModelExplainRunId': 'AutoML_e0f61e9d-13be-43f8-87d6-3fd241473e27_ModelExplain'},\n 'inputDatasets': [{'dataset': {'id': '8c50220d-4788-42f0-ba96-d0167ebd59f4'}, 'consumptionDetails': {'type': 'RunInput', 'inputName': 'training_data', 'mechanism': 'Direct'}}],\n 'outputDatasets': [],\n 'logFiles': {},\n 'submittedBy': 'ODL_User 140211'}"
          },
          "metadata": {}
        }
      ],
      "execution_count": 8,
      "metadata": {
        "gather": {
          "logged": 1615472767469
        }
      }
    },
    {
      "cell_type": "markdown",
      "source": [
        "## Best Model\n",
        "\n",
        "TODO: In the cell below, get the best model from the automl experiments and display all the properties of the model.\n",
        "\n"
      ],
      "metadata": {}
    },
    {
      "cell_type": "code",
      "source": [
        "# best run and model for automl\n",
        "best_run, fitted_model = automlmodel_run.get_output()\n",
        "\n",
        "# Print the best run\n",
        "print(best_run)\n",
        "\n",
        "# All metrics of the best run\n",
        "best_run_metrics = best_run.get_metrics()\n",
        "\n",
        "# Print all metrics of the best run\n",
        "for metric_name in best_run_metrics:\n",
        "    metric = best_run_metrics[metric_name]\n",
        "    print(metric_name, metric)"
      ],
      "outputs": [
        {
          "output_type": "stream",
          "name": "stderr",
          "text": [
            "WARNING:root:The version of the SDK does not match the version the model was trained on.\n",
            "WARNING:root:The consistency in the result may not be guaranteed.\n",
            "WARNING:root:Package:azureml-automl-core, training version:1.23.0, current version:1.22.0\n",
            "Package:azureml-automl-runtime, training version:1.23.0, current version:1.22.0\n",
            "Package:azureml-core, training version:1.23.0, current version:1.22.0\n",
            "Package:azureml-dataprep, training version:2.10.1, current version:2.9.1\n",
            "Package:azureml-dataprep-native, training version:30.0.0, current version:29.0.0\n",
            "Package:azureml-dataprep-rslex, training version:1.8.0, current version:1.7.0\n",
            "Package:azureml-dataset-runtime, training version:1.23.0, current version:1.22.0\n",
            "Package:azureml-defaults, training version:1.23.0, current version:1.22.0\n",
            "Package:azureml-interpret, training version:1.23.0, current version:1.22.0\n",
            "Package:azureml-mlflow, training version:1.23.0, current version:1.22.0\n",
            "Package:azureml-pipeline-core, training version:1.23.0, current version:1.22.0\n",
            "Package:azureml-telemetry, training version:1.23.0, current version:1.22.0\n",
            "Package:azureml-train-automl-client, training version:1.23.0, current version:1.22.0\n",
            "Package:azureml-train-automl-runtime, training version:1.23.0, current version:1.22.0\n",
            "WARNING:root:Please ensure the version of your local conda dependencies match the version on which your model was trained in order to properly retrieve your model.\n"
          ]
        },
        {
          "output_type": "stream",
          "name": "stdout",
          "text": [
            "Run(Experiment: hydraulic-automl-experiment,\n",
            "Id: AutoML_e0f61e9d-13be-43f8-87d6-3fd241473e27_67,\n",
            "Type: azureml.scriptrun,\n",
            "Status: Completed)\n",
            "average_precision_score_weighted 0.992329073330518\n",
            "recall_score_micro 0.9775549188156637\n",
            "log_loss 0.10640218487012841\n",
            "weighted_accuracy 0.9840338550933353\n",
            "AUC_macro 0.9912763351231554\n",
            "average_precision_score_micro 0.993075898733251\n",
            "f1_score_macro 0.9754108404548871\n",
            "balanced_accuracy 0.9700142781445956\n",
            "f1_score_weighted 0.9773988180004336\n",
            "precision_score_macro 0.9819409398331969\n",
            "recall_score_weighted 0.9775549188156637\n",
            "AUC_weighted 0.9912763351231554\n",
            "norm_macro_recall 0.9400285562891915\n",
            "recall_score_macro 0.9700142781445956\n",
            "f1_score_micro 0.9775549188156637\n",
            "precision_score_micro 0.9775549188156637\n",
            "precision_score_weighted 0.9782193780102504\n",
            "average_precision_score_macro 0.9917890066127776\n",
            "matthews_correlation 0.9518700752962812\n",
            "accuracy 0.9775549188156637\n",
            "AUC_micro 0.9930781903815786\n",
            "accuracy_table aml://artifactId/ExperimentRun/dcid.AutoML_e0f61e9d-13be-43f8-87d6-3fd241473e27_67/accuracy_table\n",
            "confusion_matrix aml://artifactId/ExperimentRun/dcid.AutoML_e0f61e9d-13be-43f8-87d6-3fd241473e27_67/confusion_matrix\n"
          ]
        }
      ],
      "execution_count": 9,
      "metadata": {
        "gather": {
          "logged": 1615472784663
        },
        "jupyter": {
          "outputs_hidden": false,
          "source_hidden": false
        },
        "nteract": {
          "transient": {
            "deleting": false
          }
        }
      }
    },
    {
      "cell_type": "markdown",
      "source": [
        "## Model Deployment\n",
        "\n",
        "Remember you have to deploy only one of the two models you trained.. Perform the steps in the rest of this notebook only if you wish to deploy this model.\n",
        "\n",
        "TODO: In the cell below, register the model, create an inference config and deploy the model as a web service."
      ],
      "metadata": {}
    },
    {
      "cell_type": "code",
      "source": [
        "#TODO: Save the best model\n",
        "model = best_run.register_model(model_name='Hydraulic_BinaryClassification', model_path='outputs/model.pkl')\n",
        "print(model)"
      ],
      "outputs": [
        {
          "output_type": "stream",
          "name": "stdout",
          "text": [
            "Model(workspace=Workspace.create(name='quick-starts-ws-140211', subscription_id='2c48c51c-bd47-40d4-abbe-fb8eabd19c8c', resource_group='aml-quickstarts-140211'), name=Hydraulic_BinaryClassification, id=Hydraulic_BinaryClassification:1, version=1, tags={}, properties={})\n"
          ]
        }
      ],
      "execution_count": 10,
      "metadata": {
        "gather": {
          "logged": 1615472806193
        }
      }
    },
    {
      "cell_type": "code",
      "source": [
        "best_run.download_file('./outputs/model.pkl', output_file_path='./outputs')"
      ],
      "outputs": [],
      "execution_count": 11,
      "metadata": {
        "gather": {
          "logged": 1615472810551
        },
        "jupyter": {
          "outputs_hidden": false,
          "source_hidden": false
        },
        "nteract": {
          "transient": {
            "deleting": false
          }
        }
      }
    },
    {
      "cell_type": "code",
      "source": [
        "from azureml.automl.core.shared import constants\n",
        "best_run.download_file(constants.CONDA_ENV_FILE_PATH, 'automl_env.yml')"
      ],
      "outputs": [],
      "execution_count": 12,
      "metadata": {
        "gather": {
          "logged": 1615472814645
        }
      }
    },
    {
      "cell_type": "code",
      "source": [
        "# set InferenceConfig\n",
        "from azureml.core.environment import Environment\n",
        "from azureml.core.model import InferenceConfig\n",
        "\n",
        "inference_config = InferenceConfig(entry_script='./score.py',\n",
        "                                    environment=best_run.get_environment())"
      ],
      "outputs": [],
      "execution_count": 13,
      "metadata": {
        "gather": {
          "logged": 1615472817707
        },
        "jupyter": {
          "outputs_hidden": false,
          "source_hidden": false
        },
        "nteract": {
          "transient": {
            "deleting": false
          }
        }
      }
    },
    {
      "cell_type": "code",
      "source": [
        "# deploy the model\n",
        "from azureml.core import Model\n",
        "from azureml.core.webservice import AciWebservice\n",
        "\n",
        "deployment_config = AciWebservice.deploy_configuration(cpu_cores = 2, memory_gb = 1)\n",
        "service = Model.deploy(workspace=ws, name=\"automlservice\", models=[model], inference_config=inference_config, deployment_config=deployment_config)\n",
        "service.wait_for_deployment(show_output = True)\n",
        "print(service.state)\n",
        "print(service.scoring_uri)"
      ],
      "outputs": [
        {
          "output_type": "stream",
          "name": "stdout",
          "text": [
            "Tips: You can try get_logs(): https://aka.ms/debugimage#dockerlog or local deployment: https://aka.ms/debugimage#debug-locally to debug if deployment takes longer than 10 minutes.\n",
            "Running.............................................\n",
            "Succeeded\n",
            "ACI service creation operation finished, operation \"Succeeded\"\n",
            "Healthy\n",
            "http://b265ac72-21ea-4578-a03f-ea8011e2e08c.southcentralus.azurecontainer.io/score\n"
          ]
        }
      ],
      "execution_count": 14,
      "metadata": {
        "gather": {
          "logged": 1615473055021
        }
      }
    },
    {
      "cell_type": "markdown",
      "source": [
        "TODO: In the cell below, send a request to the web service you deployed to test it."
      ],
      "metadata": {
        "collapsed": true,
        "gather": {
          "logged": 1598431657736
        },
        "jupyter": {
          "outputs_hidden": false,
          "source_hidden": false
        },
        "nteract": {
          "transient": {
            "deleting": false
          }
        }
      }
    },
    {
      "cell_type": "code",
      "source": [
        "# define the test sample\n",
        "import json\n",
        "from azureml.data.dataset_factory import TabularDatasetFactory\n",
        "test_loc = \"https://raw.githubusercontent.com/chamsun-imoggo/udacityms-3rdproject/main/data/hydraulic_systems_test.csv\"\n",
        "test_df = TabularDatasetFactory.from_delimited_files(test_loc).to_pandas_dataframe()"
      ],
      "outputs": [],
      "execution_count": 27,
      "metadata": {
        "gather": {
          "logged": 1615475557666
        },
        "jupyter": {
          "outputs_hidden": false,
          "source_hidden": false
        },
        "nteract": {
          "transient": {
            "deleting": false
          }
        }
      }
    },
    {
      "cell_type": "code",
      "source": [
        "sample_df = test_df.head(5)\r\n",
        "label = sample_df.pop('STABILITY')\r\n",
        "sample = json.dumps({'data':sample_df.to_dict(orient='records')})\r\n",
        "sample = json.loads(sample)\r\n",
        "print(sample)"
      ],
      "outputs": [
        {
          "output_type": "stream",
          "name": "stdout",
          "text": [
            "{'data': [{'PS1': 160.4238, 'PS2': 109.0127997, 'PS3': 1.915241667, 'PS4': 10.12332283, 'PS5': 9.893727333, 'PS6': 9.775847667, 'FS1': 6.400326667, 'FS2': 10.15790333, 'TS1': 35.85008333, 'TS2': 41.44178333, 'TS3': 38.78375, 'TS4': 30.89755, 'P1': 2562.285033, 'VS1': 0.5509, 'CE1': 46.97875, 'CP1': 2.157516667, 'SE1': 55.78435}, {'PS1': 160.4342617, 'PS2': 109.0109297, 'PS3': 1.904917167, 'PS4': 10.12248617, 'PS5': 9.895395333, 'PS6': 9.777969, 'FS1': 6.405833333, 'FS2': 10.15922, 'TS1': 35.84383333, 'TS2': 41.4442, 'TS3': 38.76916667, 'TS4': 30.89735, 'P1': 2562.735833, 'VS1': 0.545783333, 'CE1': 46.92555, 'CP1': 2.154316667, 'SE1': 55.83131667}, {'PS1': 160.4325733, 'PS2': 109.0227437, 'PS3': 1.90648, 'PS4': 10.122579, 'PS5': 9.894996333, 'PS6': 9.776030167, 'FS1': 6.403083333, 'FS2': 10.15590333, 'TS1': 35.83621667, 'TS2': 41.45226667, 'TS3': 38.77233333, 'TS4': 30.89693333, 'P1': 2562.7977, 'VS1': 0.5467, 'CE1': 46.96366667, 'CP1': 2.1569, 'SE1': 55.79871667}, {'PS1': 160.42818, 'PS2': 109.0150512, 'PS3': 1.9002105, 'PS4': 10.12332867, 'PS5': 9.893485833, 'PS6': 9.775469833, 'FS1': 6.405321667, 'FS2': 10.157755, 'TS1': 35.83758333, 'TS2': 41.42725, 'TS3': 38.76588333, 'TS4': 30.89315, 'P1': 2566.2395, 'VS1': 0.543916667, 'CE1': 46.94413333, 'CP1': 2.153816667, 'SE1': 55.72123333}, {'PS1': 160.4205167, 'PS2': 109.029015, 'PS3': 1.899300167, 'PS4': 10.12005983, 'PS5': 9.893133333, 'PS6': 9.775961167, 'FS1': 6.390926667, 'FS2': 10.15694667, 'TS1': 35.84071667, 'TS2': 41.43005, 'TS3': 38.75006667, 'TS4': 30.89318333, 'P1': 2563.3287, 'VS1': 0.540116667, 'CE1': 46.92008333, 'CP1': 2.151666667, 'SE1': 55.57278333}]}\n"
          ]
        }
      ],
      "execution_count": 83,
      "metadata": {
        "collapsed": true,
        "jupyter": {
          "source_hidden": false,
          "outputs_hidden": false
        },
        "nteract": {
          "transient": {
            "deleting": false
          }
        },
        "gather": {
          "logged": 1615477120946
        }
      }
    },
    {
      "cell_type": "code",
      "source": [
        "# send a request to the endpoint\n",
        "import requests\n",
        "headers={\"Content-Type\":\"application/json\"}\n",
        "\n",
        "result=requests.post(service.scoring_uri, sample, headers=headers)\n",
        "print(result)"
      ],
      "outputs": [
        {
          "output_type": "stream",
          "name": "stdout",
          "text": [
            "<Response [200]>\n"
          ]
        }
      ],
      "execution_count": 88,
      "metadata": {
        "gather": {
          "logged": 1615477356769
        }
      }
    },
    {
      "cell_type": "markdown",
      "source": [
        "TODO: In the cell below, print the logs of the web service and delete the service"
      ],
      "metadata": {
        "collapsed": true,
        "gather": {
          "logged": 1598432765711
        },
        "jupyter": {
          "outputs_hidden": false,
          "source_hidden": false
        },
        "nteract": {
          "transient": {
            "deleting": false
          }
        }
      }
    },
    {
      "cell_type": "code",
      "source": [
        "# print service logs\n",
        "print(service.get_logs())"
      ],
      "outputs": [
        {
          "output_type": "stream",
          "name": "stdout",
          "text": [
            "2021-03-11T14:30:39,931524578+00:00 - iot-server/run \n",
            "2021-03-11T14:30:39,933941778+00:00 - nginx/run \n",
            "/usr/sbin/nginx: /azureml-envs/azureml_661474bbe74e96b5d8added5888dfc85/lib/libcrypto.so.1.0.0: no version information available (required by /usr/sbin/nginx)\n",
            "/usr/sbin/nginx: /azureml-envs/azureml_661474bbe74e96b5d8added5888dfc85/lib/libcrypto.so.1.0.0: no version information available (required by /usr/sbin/nginx)\n",
            "/usr/sbin/nginx: /azureml-envs/azureml_661474bbe74e96b5d8added5888dfc85/lib/libssl.so.1.0.0: no version information available (required by /usr/sbin/nginx)\n",
            "/usr/sbin/nginx: /azureml-envs/azureml_661474bbe74e96b5d8added5888dfc85/lib/libssl.so.1.0.0: no version information available (required by /usr/sbin/nginx)\n",
            "/usr/sbin/nginx: /azureml-envs/azureml_661474bbe74e96b5d8added5888dfc85/lib/libssl.so.1.0.0: no version information available (required by /usr/sbin/nginx)\n",
            "2021-03-11T14:30:39,936109478+00:00 - gunicorn/run \n",
            "2021-03-11T14:30:39,944112778+00:00 - rsyslog/run \n",
            "rsyslogd: /azureml-envs/azureml_661474bbe74e96b5d8added5888dfc85/lib/libuuid.so.1: no version information available (required by rsyslogd)\n",
            "EdgeHubConnectionString and IOTEDGE_IOTHUBHOSTNAME are not set. Exiting...\n",
            "2021-03-11T14:30:40,032490773+00:00 - iot-server/finish 1 0\n",
            "2021-03-11T14:30:40,033897273+00:00 - Exit code 1 is normal. Not restarting iot-server.\n",
            "Starting gunicorn 19.9.0\n",
            "Listening at: http://127.0.0.1:31311 (13)\n",
            "Using worker: sync\n",
            "worker timeout is set to 300\n",
            "Booting worker with pid: 43\n",
            "SPARK_HOME not set. Skipping PySpark Initialization.\n",
            "Initializing logger\n",
            "2021-03-11 14:30:40,742 | root | INFO | Starting up app insights client\n",
            "2021-03-11 14:30:40,742 | root | INFO | Starting up request id generator\n",
            "2021-03-11 14:30:40,742 | root | INFO | Starting up app insight hooks\n",
            "2021-03-11 14:30:40,742 | root | INFO | Invoking user's init function\n",
            "Generating new fontManager, this may take some time...\n",
            "2021-03-11 14:30:44,653 | azureml.core | WARNING | Failure while loading azureml_run_type_providers. Failed to load entrypoint automl = azureml.train.automl.run:AutoMLRun._from_run_dto with exception (cryptography 3.2 (/azureml-envs/azureml_661474bbe74e96b5d8added5888dfc85/lib/python3.6/site-packages), Requirement.parse('cryptography<4.0.0,>=3.3.1; extra == \"crypto\"'), {'PyJWT'}).\n",
            "Failure while loading azureml_run_type_providers. Failed to load entrypoint automl = azureml.train.automl.run:AutoMLRun._from_run_dto with exception (cryptography 3.2 (/azureml-envs/azureml_661474bbe74e96b5d8added5888dfc85/lib/python3.6/site-packages), Requirement.parse('cryptography<4.0.0,>=3.3.1; extra == \"crypto\"'), {'PyJWT'}).\n",
            "2021-03-11 14:30:45,117 | root | INFO | Users's init has completed successfully\n",
            "2021-03-11 14:30:45,120 | root | INFO | Skipping middleware: dbg_model_info as it's not enabled.\n",
            "2021-03-11 14:30:45,120 | root | INFO | Skipping middleware: dbg_resource_usage as it's not enabled.\n",
            "2021-03-11 14:30:45,122 | root | INFO | Scoring timeout is found from os.environ: 60000 ms\n",
            "2021-03-11 14:30:51,466 | root | INFO | Swagger file not present\n",
            "2021-03-11 14:30:51,466 | root | INFO | 404\n",
            "127.0.0.1 - - [11/Mar/2021:14:30:51 +0000] \"GET /swagger.json HTTP/1.0\" 404 19 \"-\" \"Go-http-client/1.1\"\n",
            "2021-03-11 14:30:54,661 | root | INFO | Swagger file not present\n",
            "2021-03-11 14:30:54,662 | root | INFO | 404\n",
            "127.0.0.1 - - [11/Mar/2021:14:30:54 +0000] \"GET /swagger.json HTTP/1.0\" 404 19 \"-\" \"Go-http-client/1.1\"\n",
            "2021-03-11 14:44:17,636 | root | INFO | Validation Request Content-Type\n",
            "2021-03-11 14:44:17,636 | root | INFO | Scoring Timer is set to 60.0 seconds\n",
            "2021-03-11 14:44:17,637 | root | INFO | 200\n",
            "127.0.0.1 - - [11/Mar/2021:14:44:17 +0000] \"POST /score HTTP/1.0\" 200 21 \"-\" \"python-requests/2.25.1\"\n",
            "127.0.0.1 - - [11/Mar/2021:14:54:06 +0000] \"POST /boaform/admin/formLogin HTTP/1.0\" 404 232 \"http://40.74.177.33:80/admin/login.asp\" \"Mozilla/5.0 (X11; Ubuntu; Linux x86_64; rv:71.0) Gecko/20100101 Firefox/71.0\"\n",
            "2021-03-11 15:12:37,666 | root | INFO | Validation Request Content-Type\n",
            "2021-03-11 15:12:37,666 | root | INFO | Scoring Timer is set to 60.0 seconds\n",
            "2021-03-11 15:12:37,667 | root | INFO | 200\n",
            "127.0.0.1 - - [11/Mar/2021:15:12:37 +0000] \"POST /score HTTP/1.0\" 200 21 \"-\" \"python-requests/2.25.1\"\n",
            "2021-03-11 15:18:00,499 | root | INFO | Validation Request Content-Type\n",
            "2021-03-11 15:18:00,500 | root | INFO | Scoring Timer is set to 60.0 seconds\n",
            "2021-03-11 15:18:00,500 | root | INFO | 200\n",
            "127.0.0.1 - - [11/Mar/2021:15:18:00 +0000] \"POST /score HTTP/1.0\" 200 21 \"-\" \"python-requests/2.25.1\"\n",
            "2021-03-11 15:18:10,676 | root | INFO | Validation Request Content-Type\n",
            "2021-03-11 15:18:10,677 | root | INFO | Scoring Timer is set to 60.0 seconds\n",
            "2021-03-11 15:18:10,677 | root | INFO | 200\n",
            "127.0.0.1 - - [11/Mar/2021:15:18:10 +0000] \"POST /score HTTP/1.0\" 200 21 \"-\" \"python-requests/2.25.1\"\n",
            "2021-03-11 15:20:57,987 | root | INFO | Validation Request Content-Type\n",
            "2021-03-11 15:20:57,987 | root | INFO | Scoring Timer is set to 60.0 seconds\n",
            "2021-03-11 15:20:57,988 | root | INFO | 200\n",
            "127.0.0.1 - - [11/Mar/2021:15:20:57 +0000] \"POST /score HTTP/1.0\" 200 21 \"-\" \"python-requests/2.25.1\"\n",
            "2021-03-11 15:23:29,235 | root | INFO | Validation Request Content-Type\n",
            "2021-03-11 15:23:29,236 | root | INFO | Scoring Timer is set to 60.0 seconds\n",
            "2021-03-11 15:23:29,236 | root | INFO | 200\n",
            "127.0.0.1 - - [11/Mar/2021:15:23:29 +0000] \"POST /score HTTP/1.0\" 200 43 \"-\" \"python-requests/2.25.1\"\n",
            "2021-03-11 15:24:05,100 | root | INFO | Validation Request Content-Type\n",
            "2021-03-11 15:24:05,100 | root | INFO | Scoring Timer is set to 60.0 seconds\n",
            "2021-03-11 15:24:05,100 | root | INFO | 200\n",
            "127.0.0.1 - - [11/Mar/2021:15:24:05 +0000] \"POST /score HTTP/1.0\" 200 43 \"-\" \"python-requests/2.25.1\"\n",
            "2021-03-11 15:24:13,275 | root | INFO | Validation Request Content-Type\n",
            "2021-03-11 15:24:13,275 | root | INFO | Scoring Timer is set to 60.0 seconds\n",
            "2021-03-11 15:24:13,275 | root | INFO | 200\n",
            "127.0.0.1 - - [11/Mar/2021:15:24:13 +0000] \"POST /score HTTP/1.0\" 200 43 \"-\" \"python-requests/2.25.1\"\n",
            "2021-03-11 15:24:19,985 | root | INFO | Validation Request Content-Type\n",
            "2021-03-11 15:24:19,986 | root | INFO | Scoring Timer is set to 60.0 seconds\n",
            "2021-03-11 15:24:19,986 | root | INFO | 200\n",
            "127.0.0.1 - - [11/Mar/2021:15:24:19 +0000] \"POST /score HTTP/1.0\" 200 43 \"-\" \"python-requests/2.25.1\"\n",
            "2021-03-11 15:24:25,354 | root | INFO | Validation Request Content-Type\n",
            "2021-03-11 15:24:25,354 | root | INFO | Scoring Timer is set to 60.0 seconds\n",
            "2021-03-11 15:24:25,354 | root | INFO | 200\n",
            "127.0.0.1 - - [11/Mar/2021:15:24:25 +0000] \"POST /score HTTP/1.0\" 200 43 \"-\" \"python-requests/2.25.1\"\n",
            "2021-03-11 15:26:49,794 | root | INFO | Validation Request Content-Type\n",
            "2021-03-11 15:26:49,794 | root | INFO | Scoring Timer is set to 60.0 seconds\n",
            "2021-03-11 15:26:49,795 | root | INFO | 200\n",
            "127.0.0.1 - - [11/Mar/2021:15:26:49 +0000] \"POST /score HTTP/1.0\" 200 43 \"-\" \"python-requests/2.25.1\"\n",
            "2021-03-11 15:28:18,149 | root | INFO | Validation Request Content-Type\n",
            "2021-03-11 15:28:18,150 | root | INFO | Scoring Timer is set to 60.0 seconds\n",
            "2021-03-11 15:28:18,150 | root | INFO | 200\n",
            "127.0.0.1 - - [11/Mar/2021:15:28:18 +0000] \"POST /score HTTP/1.0\" 200 43 \"-\" \"python-requests/2.25.1\"\n",
            "2021-03-11 15:28:26,977 | root | INFO | Validation Request Content-Type\n",
            "2021-03-11 15:28:26,978 | root | INFO | Scoring Timer is set to 60.0 seconds\n",
            "2021-03-11 15:28:26,978 | root | INFO | 200\n",
            "127.0.0.1 - - [11/Mar/2021:15:28:26 +0000] \"POST /score HTTP/1.0\" 200 43 \"-\" \"python-requests/2.25.1\"\n",
            "2021-03-11 15:33:02,878 | root | INFO | Validation Request Content-Type\n",
            "2021-03-11 15:33:02,878 | root | INFO | Scoring Timer is set to 60.0 seconds\n",
            "2021-03-11 15:33:02,879 | root | INFO | 200\n",
            "127.0.0.1 - - [11/Mar/2021:15:33:02 +0000] \"POST /score HTTP/1.0\" 200 21 \"-\" \"python-requests/2.25.1\"\n",
            "2021-03-11 15:33:12,104 | root | INFO | Validation Request Content-Type\n",
            "2021-03-11 15:33:12,105 | root | INFO | Scoring Timer is set to 60.0 seconds\n",
            "2021-03-11 15:33:12,105 | root | INFO | 200\n",
            "127.0.0.1 - - [11/Mar/2021:15:33:12 +0000] \"POST /score HTTP/1.0\" 200 43 \"-\" \"python-requests/2.25.1\"\n",
            "2021-03-11 15:36:54,598 | root | INFO | Validation Request Content-Type\n",
            "2021-03-11 15:36:54,598 | root | INFO | Scoring Timer is set to 60.0 seconds\n",
            "2021-03-11 15:36:54,599 | root | INFO | 200\n",
            "127.0.0.1 - - [11/Mar/2021:15:36:54 +0000] \"POST /score HTTP/1.0\" 200 43 \"-\" \"python-requests/2.25.1\"\n",
            "2021-03-11 15:37:53,910 | root | INFO | Validation Request Content-Type\n",
            "2021-03-11 15:37:53,911 | root | INFO | Scoring Timer is set to 60.0 seconds\n",
            "2021-03-11 15:37:53,911 | root | INFO | 200\n",
            "127.0.0.1 - - [11/Mar/2021:15:37:53 +0000] \"POST /score HTTP/1.0\" 200 43 \"-\" \"python-requests/2.25.1\"\n",
            "2021-03-11 15:38:00,353 | root | INFO | Validation Request Content-Type\n",
            "2021-03-11 15:38:00,353 | root | INFO | Scoring Timer is set to 60.0 seconds\n",
            "2021-03-11 15:38:00,354 | root | INFO | 200\n",
            "127.0.0.1 - - [11/Mar/2021:15:38:00 +0000] \"POST /score HTTP/1.0\" 200 43 \"-\" \"python-requests/2.25.1\"\n",
            "2021-03-11 15:39:16,579 | root | INFO | Validation Request Content-Type\n",
            "2021-03-11 15:39:16,580 | root | INFO | Scoring Timer is set to 60.0 seconds\n",
            "2021-03-11 15:39:16,580 | root | INFO | 200\n",
            "127.0.0.1 - - [11/Mar/2021:15:39:16 +0000] \"POST /score HTTP/1.0\" 200 43 \"-\" \"python-requests/2.25.1\"\n",
            "2021-03-11 15:39:33,837 | root | INFO | Validation Request Content-Type\n",
            "2021-03-11 15:39:33,837 | root | INFO | Scoring Timer is set to 60.0 seconds\n",
            "2021-03-11 15:39:33,838 | root | INFO | 200\n",
            "127.0.0.1 - - [11/Mar/2021:15:39:33 +0000] \"POST /score HTTP/1.0\" 200 43 \"-\" \"python-requests/2.25.1\"\n",
            "2021-03-11 15:39:45,696 | root | INFO | Validation Request Content-Type\n",
            "2021-03-11 15:39:45,696 | root | INFO | Scoring Timer is set to 60.0 seconds\n",
            "2021-03-11 15:39:45,696 | root | INFO | 200\n",
            "127.0.0.1 - - [11/Mar/2021:15:39:45 +0000] \"POST /score HTTP/1.0\" 200 43 \"-\" \"python-requests/2.25.1\"\n",
            "2021-03-11 15:41:19,957 | root | INFO | Scoring Timer is set to 60.0 seconds\n",
            "2021-03-11 15:41:19,958 | root | INFO | 200\n",
            "127.0.0.1 - - [11/Mar/2021:15:41:19 +0000] \"GET /score HTTP/1.0\" 200 21 \"-\" \"Mozilla/5.0 (Windows NT 10.0; Win64; x64) AppleWebKit/537.36 (KHTML, like Gecko) Chrome/86.0.4240.75 Safari/537.36\"\n",
            "127.0.0.1 - - [11/Mar/2021:15:41:20 +0000] \"GET /favicon.ico HTTP/1.0\" 404 232 \"http://b265ac72-21ea-4578-a03f-ea8011e2e08c.southcentralus.azurecontainer.io/score\" \"Mozilla/5.0 (Windows NT 10.0; Win64; x64) AppleWebKit/537.36 (KHTML, like Gecko) Chrome/86.0.4240.75 Safari/537.36\"\n",
            "2021-03-11 15:42:02,470 | root | INFO | Validation Request Content-Type\n",
            "2021-03-11 15:42:02,471 | root | INFO | Scoring Timer is set to 60.0 seconds\n",
            "2021-03-11 15:42:02,471 | root | INFO | 200\n",
            "127.0.0.1 - - [11/Mar/2021:15:42:02 +0000] \"POST /score HTTP/1.0\" 200 43 \"-\" \"python-requests/2.25.1\"\n",
            "2021-03-11 15:42:36,526 | root | INFO | Validation Request Content-Type\n",
            "2021-03-11 15:42:36,527 | root | INFO | Scoring Timer is set to 60.0 seconds\n",
            "2021-03-11 15:42:36,527 | root | INFO | 200\n",
            "127.0.0.1 - - [11/Mar/2021:15:42:36 +0000] \"POST /score HTTP/1.0\" 200 43 \"-\" \"python-requests/2.25.1\"\n",
            "\n"
          ]
        }
      ],
      "execution_count": 89,
      "metadata": {
        "gather": {
          "logged": 1615477360496
        }
      }
    },
    {
      "cell_type": "markdown",
      "source": [
        "<h2>Convert Model to ONNX</h2>"
      ],
      "metadata": {
        "nteract": {
          "transient": {
            "deleting": false
          }
        }
      }
    },
    {
      "cell_type": "code",
      "source": [
        "best_run, onnx_model = automlmodel_run.get_output(return_onnx_model=True)"
      ],
      "outputs": [],
      "execution_count": 18,
      "metadata": {
        "gather": {
          "logged": 1615474015322
        }
      }
    },
    {
      "cell_type": "code",
      "source": [
        "# save the best ONNX model\n",
        "from azureml.automl.runtime.onnx_convert import OnnxConverter\n",
        "onnx_file_path = \"./automl_onnx_model.onnx\"\n",
        "OnnxConverter.save_onnx_model(onnx_model, onnx_file_path)"
      ],
      "outputs": [],
      "execution_count": 19,
      "metadata": {
        "gather": {
          "logged": 1615474015550
        }
      }
    },
    {
      "cell_type": "code",
      "source": [
        "# delete the service \n",
        "service.delete()"
      ],
      "outputs": [],
      "execution_count": 96,
      "metadata": {
        "gather": {
          "logged": 1615481841566
        }
      }
    },
    {
      "cell_type": "code",
      "source": [
        "# delete the compute target\n",
        "compute_target.delete()"
      ],
      "outputs": [],
      "execution_count": 97,
      "metadata": {
        "gather": {
          "logged": 1615481844406
        },
        "jupyter": {
          "outputs_hidden": false,
          "source_hidden": false
        },
        "nteract": {
          "transient": {
            "deleting": false
          }
        }
      }
    }
  ],
  "metadata": {
    "kernel_info": {
      "name": "python3"
    },
    "kernelspec": {
      "name": "python3",
      "language": "python",
      "display_name": "Python 3"
    },
    "language_info": {
      "name": "python",
      "version": "3.6.9",
      "mimetype": "text/x-python",
      "codemirror_mode": {
        "name": "ipython",
        "version": 3
      },
      "pygments_lexer": "ipython3",
      "nbconvert_exporter": "python",
      "file_extension": ".py"
    },
    "nteract": {
      "version": "nteract-front-end@1.0.0"
    },
    "microsoft": {
      "host": {
        "AzureML": {
          "notebookHasBeenCompleted": true
        }
      }
    }
  },
  "nbformat": 4,
  "nbformat_minor": 2
}