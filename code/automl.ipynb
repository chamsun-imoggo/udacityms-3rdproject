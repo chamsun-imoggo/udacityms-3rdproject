{
 "cells": [
  {
   "cell_type": "markdown",
   "metadata": {},
   "source": [
    "# Automated ML\n",
    "\n",
    "TODO: Import Dependencies. In the cell below, import all the dependencies that you will need to complete the project."
   ]
  },
  {
   "cell_type": "code",
   "execution_count": 1,
   "metadata": {
    "gather": {
     "logged": 1615700109138
    },
    "jupyter": {
     "outputs_hidden": false,
     "source_hidden": false
    },
    "nteract": {
     "transient": {
      "deleting": false
     }
    }
   },
   "outputs": [
    {
     "name": "stdout",
     "output_type": "stream",
     "text": [
      "SDK version: 1.22.0\n"
     ]
    }
   ],
   "source": [
    "import logging\n",
    "import os\n",
    "import csv\n",
    "\n",
    "from matplotlib import pyplot as plt\n",
    "import numpy as np\n",
    "import pandas as pd\n",
    "from sklearn import datasets\n",
    "import pkg_resources\n",
    "\n",
    "import azureml.core\n",
    "from azureml.core.experiment import Experiment\n",
    "from azureml.core.workspace import Workspace\n",
    "from azureml.train.automl import AutoMLConfig\n",
    "from azureml.core.dataset import Dataset\n",
    "\n",
    "from azureml.pipeline.steps import AutoMLStep\n",
    "\n",
    "# Check core SDK version number\n",
    "print(\"SDK version:\", azureml.core.VERSION)"
   ]
  },
  {
   "cell_type": "markdown",
   "metadata": {},
   "source": [
    "## Dataset\n",
    "\n",
    "### Overview\n",
    "TODO: In this markdown cell, give an overview of the dataset you are using. Also mention the task you will be performing.\n",
    "\n",
    "\n",
    "TODO: Get data. In the cell below, write code to access the data you will be using in this project. Remember that the dataset needs to be external."
   ]
  },
  {
   "cell_type": "code",
   "execution_count": 2,
   "metadata": {
    "gather": {
     "logged": 1615700114001
    },
    "jupyter": {
     "outputs_hidden": false,
     "source_hidden": false
    },
    "nteract": {
     "transient": {
      "deleting": false
     }
    }
   },
   "outputs": [
    {
     "data": {
      "text/html": [
       "<table style=\"width:100%\"><tr><th>Name</th><th>Workspace</th><th>Report Page</th><th>Docs Page</th></tr><tr><td>hydraulic-automl-experiment</td><td>quick-starts-ws-140391</td><td><a href=\"https://ml.azure.com/experiments/hydraulic-automl-experiment?wsid=/subscriptions/610d6e37-4747-4a20-80eb-3aad70a55f43/resourcegroups/aml-quickstarts-140391/workspaces/quick-starts-ws-140391\" target=\"_blank\" rel=\"noopener\">Link to Azure Machine Learning studio</a></td><td><a href=\"https://docs.microsoft.com/en-us/python/api/azureml-core/azureml.core.experiment.Experiment?view=azure-ml-py\" target=\"_blank\" rel=\"noopener\">Link to Documentation</a></td></tr></table>"
      ],
      "text/plain": [
       "Experiment(Name: hydraulic-automl-experiment,\n",
       "Workspace: quick-starts-ws-140391)"
      ]
     },
     "execution_count": 2,
     "metadata": {},
     "output_type": "execute_result"
    }
   ],
   "source": [
    "ws = Workspace.from_config()\n",
    "\n",
    "\n",
    "# Choose a name for the run history container in the workspace.\n",
    "# NOTE: update these to match your existing experiment name\n",
    "experiment_name = 'hydraulic-automl-experiment'\n",
    "project_folder = './pipeline-project'\n",
    "\n",
    "experiment = Experiment(ws, experiment_name)\n",
    "experiment"
   ]
  },
  {
   "cell_type": "code",
   "execution_count": 3,
   "metadata": {
    "gather": {
     "logged": 1615700583236
    }
   },
   "outputs": [
    {
     "data": {
      "text/html": [
       "<div>\n",
       "<style scoped>\n",
       "    .dataframe tbody tr th:only-of-type {\n",
       "        vertical-align: middle;\n",
       "    }\n",
       "\n",
       "    .dataframe tbody tr th {\n",
       "        vertical-align: top;\n",
       "    }\n",
       "\n",
       "    .dataframe thead th {\n",
       "        text-align: right;\n",
       "    }\n",
       "</style>\n",
       "<table border=\"1\" class=\"dataframe\">\n",
       "  <thead>\n",
       "    <tr style=\"text-align: right;\">\n",
       "      <th></th>\n",
       "      <th>PS1</th>\n",
       "      <th>PS2</th>\n",
       "      <th>PS3</th>\n",
       "      <th>PS4</th>\n",
       "      <th>PS5</th>\n",
       "      <th>PS6</th>\n",
       "      <th>FS1</th>\n",
       "      <th>FS2</th>\n",
       "      <th>TS1</th>\n",
       "      <th>TS2</th>\n",
       "      <th>TS3</th>\n",
       "      <th>TS4</th>\n",
       "      <th>P1</th>\n",
       "      <th>VS1</th>\n",
       "      <th>CE1</th>\n",
       "      <th>CP1</th>\n",
       "      <th>SE1</th>\n",
       "      <th>STABILITY</th>\n",
       "    </tr>\n",
       "  </thead>\n",
       "  <tbody>\n",
       "    <tr>\n",
       "      <th>count</th>\n",
       "      <td>2094.000000</td>\n",
       "      <td>2094.000000</td>\n",
       "      <td>2094.000000</td>\n",
       "      <td>2094.000000</td>\n",
       "      <td>2094.000000</td>\n",
       "      <td>2094.000000</td>\n",
       "      <td>2094.000000</td>\n",
       "      <td>2094.000000</td>\n",
       "      <td>2094.000000</td>\n",
       "      <td>2094.000000</td>\n",
       "      <td>2094.000000</td>\n",
       "      <td>2094.000000</td>\n",
       "      <td>2094.000000</td>\n",
       "      <td>2094.000000</td>\n",
       "      <td>2094.000000</td>\n",
       "      <td>2094.000000</td>\n",
       "      <td>2094.000000</td>\n",
       "      <td>2094.000000</td>\n",
       "    </tr>\n",
       "    <tr>\n",
       "      <th>mean</th>\n",
       "      <td>160.461089</td>\n",
       "      <td>109.383521</td>\n",
       "      <td>1.742380</td>\n",
       "      <td>2.199789</td>\n",
       "      <td>9.122855</td>\n",
       "      <td>9.040759</td>\n",
       "      <td>6.179498</td>\n",
       "      <td>9.621939</td>\n",
       "      <td>45.945370</td>\n",
       "      <td>50.850958</td>\n",
       "      <td>48.145850</td>\n",
       "      <td>41.270196</td>\n",
       "      <td>2492.650573</td>\n",
       "      <td>0.616699</td>\n",
       "      <td>30.479281</td>\n",
       "      <td>1.789732</td>\n",
       "      <td>55.173831</td>\n",
       "      <td>0.360076</td>\n",
       "    </tr>\n",
       "    <tr>\n",
       "      <th>std</th>\n",
       "      <td>4.820589</td>\n",
       "      <td>5.116599</td>\n",
       "      <td>0.253804</td>\n",
       "      <td>4.012051</td>\n",
       "      <td>0.563162</td>\n",
       "      <td>0.537043</td>\n",
       "      <td>1.056177</td>\n",
       "      <td>0.444382</td>\n",
       "      <td>7.865514</td>\n",
       "      <td>7.275285</td>\n",
       "      <td>7.336484</td>\n",
       "      <td>7.971456</td>\n",
       "      <td>74.670327</td>\n",
       "      <td>0.059958</td>\n",
       "      <td>11.301936</td>\n",
       "      <td>0.273144</td>\n",
       "      <td>9.175962</td>\n",
       "      <td>0.480137</td>\n",
       "    </tr>\n",
       "    <tr>\n",
       "      <th>min</th>\n",
       "      <td>155.391547</td>\n",
       "      <td>104.406307</td>\n",
       "      <td>0.840252</td>\n",
       "      <td>0.000000</td>\n",
       "      <td>8.365801</td>\n",
       "      <td>8.321527</td>\n",
       "      <td>2.018572</td>\n",
       "      <td>8.857513</td>\n",
       "      <td>35.384333</td>\n",
       "      <td>40.978767</td>\n",
       "      <td>38.340283</td>\n",
       "      <td>30.470550</td>\n",
       "      <td>2361.747267</td>\n",
       "      <td>0.524367</td>\n",
       "      <td>17.555983</td>\n",
       "      <td>1.062150</td>\n",
       "      <td>18.276617</td>\n",
       "      <td>0.000000</td>\n",
       "    </tr>\n",
       "    <tr>\n",
       "      <th>25%</th>\n",
       "      <td>157.986015</td>\n",
       "      <td>106.913668</td>\n",
       "      <td>1.727014</td>\n",
       "      <td>0.000000</td>\n",
       "      <td>8.535713</td>\n",
       "      <td>8.478621</td>\n",
       "      <td>6.379040</td>\n",
       "      <td>9.197996</td>\n",
       "      <td>36.309758</td>\n",
       "      <td>41.923621</td>\n",
       "      <td>39.204996</td>\n",
       "      <td>31.341463</td>\n",
       "      <td>2441.167950</td>\n",
       "      <td>0.560175</td>\n",
       "      <td>20.032158</td>\n",
       "      <td>1.545979</td>\n",
       "      <td>56.276721</td>\n",
       "      <td>0.000000</td>\n",
       "    </tr>\n",
       "    <tr>\n",
       "      <th>50%</th>\n",
       "      <td>158.845991</td>\n",
       "      <td>107.607607</td>\n",
       "      <td>1.766360</td>\n",
       "      <td>0.000000</td>\n",
       "      <td>9.066202</td>\n",
       "      <td>8.985830</td>\n",
       "      <td>6.579164</td>\n",
       "      <td>9.668634</td>\n",
       "      <td>45.556025</td>\n",
       "      <td>50.500100</td>\n",
       "      <td>47.766750</td>\n",
       "      <td>41.061425</td>\n",
       "      <td>2475.461567</td>\n",
       "      <td>0.612275</td>\n",
       "      <td>27.314450</td>\n",
       "      <td>1.734800</td>\n",
       "      <td>58.797425</td>\n",
       "      <td>0.000000</td>\n",
       "    </tr>\n",
       "    <tr>\n",
       "      <th>75%</th>\n",
       "      <td>160.983205</td>\n",
       "      <td>109.415065</td>\n",
       "      <td>1.923863</td>\n",
       "      <td>1.266499</td>\n",
       "      <td>9.835300</td>\n",
       "      <td>9.720552</td>\n",
       "      <td>6.655778</td>\n",
       "      <td>10.146995</td>\n",
       "      <td>54.193537</td>\n",
       "      <td>58.723546</td>\n",
       "      <td>55.751542</td>\n",
       "      <td>49.492954</td>\n",
       "      <td>2547.338367</td>\n",
       "      <td>0.653071</td>\n",
       "      <td>46.610821</td>\n",
       "      <td>2.140912</td>\n",
       "      <td>59.687908</td>\n",
       "      <td>1.000000</td>\n",
       "    </tr>\n",
       "    <tr>\n",
       "      <th>max</th>\n",
       "      <td>180.922708</td>\n",
       "      <td>131.589089</td>\n",
       "      <td>2.023398</td>\n",
       "      <td>10.182837</td>\n",
       "      <td>9.976781</td>\n",
       "      <td>9.856591</td>\n",
       "      <td>6.722707</td>\n",
       "      <td>10.403098</td>\n",
       "      <td>57.899283</td>\n",
       "      <td>61.958467</td>\n",
       "      <td>59.423167</td>\n",
       "      <td>53.060417</td>\n",
       "      <td>2740.641000</td>\n",
       "      <td>0.839067</td>\n",
       "      <td>47.903667</td>\n",
       "      <td>2.840100</td>\n",
       "      <td>60.755300</td>\n",
       "      <td>1.000000</td>\n",
       "    </tr>\n",
       "  </tbody>\n",
       "</table>\n",
       "</div>"
      ],
      "text/plain": [
       "               PS1          PS2          PS3          PS4          PS5  \\\n",
       "count  2094.000000  2094.000000  2094.000000  2094.000000  2094.000000   \n",
       "mean    160.461089   109.383521     1.742380     2.199789     9.122855   \n",
       "std       4.820589     5.116599     0.253804     4.012051     0.563162   \n",
       "min     155.391547   104.406307     0.840252     0.000000     8.365801   \n",
       "25%     157.986015   106.913668     1.727014     0.000000     8.535713   \n",
       "50%     158.845991   107.607607     1.766360     0.000000     9.066202   \n",
       "75%     160.983205   109.415065     1.923863     1.266499     9.835300   \n",
       "max     180.922708   131.589089     2.023398    10.182837     9.976781   \n",
       "\n",
       "               PS6          FS1          FS2          TS1          TS2  \\\n",
       "count  2094.000000  2094.000000  2094.000000  2094.000000  2094.000000   \n",
       "mean      9.040759     6.179498     9.621939    45.945370    50.850958   \n",
       "std       0.537043     1.056177     0.444382     7.865514     7.275285   \n",
       "min       8.321527     2.018572     8.857513    35.384333    40.978767   \n",
       "25%       8.478621     6.379040     9.197996    36.309758    41.923621   \n",
       "50%       8.985830     6.579164     9.668634    45.556025    50.500100   \n",
       "75%       9.720552     6.655778    10.146995    54.193537    58.723546   \n",
       "max       9.856591     6.722707    10.403098    57.899283    61.958467   \n",
       "\n",
       "               TS3          TS4           P1          VS1          CE1  \\\n",
       "count  2094.000000  2094.000000  2094.000000  2094.000000  2094.000000   \n",
       "mean     48.145850    41.270196  2492.650573     0.616699    30.479281   \n",
       "std       7.336484     7.971456    74.670327     0.059958    11.301936   \n",
       "min      38.340283    30.470550  2361.747267     0.524367    17.555983   \n",
       "25%      39.204996    31.341463  2441.167950     0.560175    20.032158   \n",
       "50%      47.766750    41.061425  2475.461567     0.612275    27.314450   \n",
       "75%      55.751542    49.492954  2547.338367     0.653071    46.610821   \n",
       "max      59.423167    53.060417  2740.641000     0.839067    47.903667   \n",
       "\n",
       "               CP1          SE1    STABILITY  \n",
       "count  2094.000000  2094.000000  2094.000000  \n",
       "mean      1.789732    55.173831     0.360076  \n",
       "std       0.273144     9.175962     0.480137  \n",
       "min       1.062150    18.276617     0.000000  \n",
       "25%       1.545979    56.276721     0.000000  \n",
       "50%       1.734800    58.797425     0.000000  \n",
       "75%       2.140912    59.687908     1.000000  \n",
       "max       2.840100    60.755300     1.000000  "
      ]
     },
     "execution_count": 3,
     "metadata": {},
     "output_type": "execute_result"
    }
   ],
   "source": [
    "# get the data\n",
    "# Try to load the dataset from the Workspace. Otherwise, create it from the file\n",
    "# NOTE: update the key to match the dataset name\n",
    "# Data Source : https://archive.ics.uci.edu/ml/datasets/Condition+monitoring+of+hydraulic+systems\n",
    "found = False\n",
    "key = \"Hydraulic Systems Data\"\n",
    "description_text = \"Condition monitoring of hydraulic systems Data Set\"\n",
    "\n",
    "if key in ws.datasets.keys(): \n",
    "        found = True\n",
    "        dataset = ws.datasets[key] \n",
    "\n",
    "if not found:\n",
    "        # Create AML Dataset and register it into Workspace\n",
    "        example_data = 'https://raw.githubusercontent.com/chamsun-imoggo/udacityms-3rdproject/main/data/hydraulic_systems_training.csv'\n",
    "        dataset = Dataset.Tabular.from_delimited_files(example_data)        \n",
    "        #Register Dataset in Workspace\n",
    "        dataset = dataset.register(workspace=ws,\n",
    "                                   name=key,\n",
    "                                   description=description_text)\n",
    "\n",
    "\n",
    "df = dataset.to_pandas_dataframe()\n",
    "df.describe()"
   ]
  },
  {
   "cell_type": "markdown",
   "metadata": {},
   "source": [
    "## AutoML Configuration\n",
    "\n",
    "TODO: Explain why you chose the automl settings and cofiguration you used below."
   ]
  },
  {
   "cell_type": "code",
   "execution_count": 4,
   "metadata": {
    "gather": {
     "logged": 1615701020316
    }
   },
   "outputs": [
    {
     "name": "stdout",
     "output_type": "stream",
     "text": [
      "Succeeded\n",
      "AmlCompute wait for completion finished\n",
      "\n",
      "Minimum number of nodes requested have been provisioned\n"
     ]
    }
   ],
   "source": [
    "from azureml.core.compute import AmlCompute\n",
    "from azureml.core.compute import ComputeTarget\n",
    "from azureml.core.compute_target import ComputeTargetException\n",
    "\n",
    "# NOTE: update the cluster name to match the existing cluster\n",
    "# Choose a name for your CPU cluster\n",
    "amlcompute_cluster_name = \"compute-ml\"\n",
    "\n",
    "# Verify that cluster does not exist already\n",
    "try:\n",
    "    compute_target = ComputeTarget(ws, amlcompute_cluster_name)\n",
    "    print(f\"{compute_name} exists already\")\n",
    "except:\n",
    "    compute_config = AmlCompute.provisioning_configuration(vm_size=\"Standard_DS14_v2\", max_nodes=10)\n",
    "    compute_target = ComputeTarget.create(ws, amlcompute_cluster_name, compute_config)\n",
    "compute_target.wait_for_completion(show_output=True)"
   ]
  },
  {
   "cell_type": "code",
   "execution_count": 5,
   "metadata": {
    "gather": {
     "logged": 1615701025167
    },
    "jupyter": {
     "outputs_hidden": false,
     "source_hidden": false
    },
    "nteract": {
     "transient": {
      "deleting": false
     }
    }
   },
   "outputs": [],
   "source": [
    "# TODO: Put your automl settings here\n",
    "automl_settings = {\n",
    "    \"experiment_timeout_minutes\": 60,\n",
    "    \"max_concurrent_iterations\": 20,\n",
    "    \"primary_metric\" : 'accuracy'\n",
    "}\n",
    "\n",
    "# TODO: Put your automl config here\n",
    "automl_config = AutoMLConfig(compute_target=compute_target,\n",
    "                             task = \"classification\",\n",
    "                             training_data=dataset,\n",
    "                             label_column_name=\"STABILITY\",\n",
    "                             blocked_models=['XGBoostClassifier'],\n",
    "                             path = project_folder,\n",
    "                             enable_early_stopping= True,\n",
    "                             featurization= 'auto',\n",
    "                             debug_log = \"automl_errors.log\",\n",
    "                             enable_onnx_compatible_models=True,\n",
    "                             **automl_settings\n",
    "                            )\n"
   ]
  },
  {
   "cell_type": "code",
   "execution_count": 6,
   "metadata": {
    "gather": {
     "logged": 1615704748030
    },
    "jupyter": {
     "outputs_hidden": false,
     "source_hidden": false
    },
    "nteract": {
     "transient": {
      "deleting": false
     }
    }
   },
   "outputs": [
    {
     "name": "stdout",
     "output_type": "stream",
     "text": [
      "Running on remote.\n",
      "No run_configuration provided, running on compute-ml with default configuration\n",
      "Running on remote compute: compute-ml\n",
      "Parent Run ID: AutoML_e15dc22b-dc6d-4211-a51b-17a7051f686c\n",
      "\n",
      "Current status: FeaturesGeneration. Generating features for the dataset.\n",
      "Current status: ModelSelection. Beginning model selection.\n",
      "\n",
      "****************************************************************************************************\n",
      "DATA GUARDRAILS: \n",
      "\n",
      "TYPE:         Cross validation\n",
      "STATUS:       DONE\n",
      "DESCRIPTION:  Each iteration of the trained model was validated through cross-validation.\n",
      "              \n",
      "DETAILS:      \n",
      "+---------------------------------+\n",
      "|Number of folds                  |\n",
      "+=================================+\n",
      "|3                                |\n",
      "+---------------------------------+\n",
      "\n",
      "****************************************************************************************************\n",
      "\n",
      "TYPE:         Class balancing detection\n",
      "STATUS:       PASSED\n",
      "DESCRIPTION:  Your inputs were analyzed, and all classes are balanced in your training data.\n",
      "              Learn more about imbalanced data: https://aka.ms/AutomatedMLImbalancedData\n",
      "\n",
      "****************************************************************************************************\n",
      "\n",
      "TYPE:         Missing feature values imputation\n",
      "STATUS:       PASSED\n",
      "DESCRIPTION:  No feature missing values were detected in the training data.\n",
      "              Learn more about missing value imputation: https://aka.ms/AutomatedMLFeaturization\n",
      "\n",
      "****************************************************************************************************\n",
      "\n",
      "TYPE:         High cardinality feature detection\n",
      "STATUS:       PASSED\n",
      "DESCRIPTION:  Your inputs were analyzed, and no high cardinality features were detected.\n",
      "              Learn more about high cardinality feature handling: https://aka.ms/AutomatedMLFeaturization\n",
      "\n",
      "****************************************************************************************************\n",
      "\n",
      "****************************************************************************************************\n",
      "ITERATION: The iteration being evaluated.\n",
      "PIPELINE: A summary description of the pipeline being evaluated.\n",
      "DURATION: Time taken for the current iteration.\n",
      "METRIC: The result of computing score on the fitted pipeline.\n",
      "BEST: The best observed score thus far.\n",
      "****************************************************************************************************\n",
      "\n",
      " ITERATION   PIPELINE                                       DURATION      METRIC      BEST\n",
      "         6   SparseNormalizer LightGBM                      0:00:49       0.9623    0.9623\n",
      "        17   RobustScaler LightGBM                          0:00:50       0.9451    0.9623\n",
      "         8   RobustScaler LightGBM                          0:00:45       0.9441    0.9623\n",
      "        11   MinMaxScaler LogisticRegression                0:00:50       0.8677    0.9623\n",
      "        18   RobustScaler LogisticRegression                0:00:46       0.9150    0.9623\n",
      "        12   StandardScalerWrapper LogisticRegression       0:01:36       0.8978    0.9623\n",
      "        14   RobustScaler LightGBM                          0:01:42       0.9666    0.9666\n",
      "         2   MinMaxScaler RandomForest                      0:01:35       0.9336    0.9666\n",
      "         3   MinMaxScaler RandomForest                      0:01:35       0.9565    0.9666\n",
      "         4   MinMaxScaler RandomForest                      0:01:35       0.8725    0.9666\n",
      "         9   SparseNormalizer KNN                           0:01:41       0.9642    0.9666\n",
      "         0   MaxAbsScaler LightGBM                          0:01:44       0.9761    0.9761\n",
      "        15   StandardScalerWrapper RandomForest             0:01:43       0.9260    0.9761\n",
      "        16   RobustScaler LightGBM                          0:00:53       0.9661    0.9761\n",
      "         5   MaxAbsScaler GradientBoosting                  0:01:49       0.9389    0.9761\n",
      "         1   MinMaxScaler RandomForest                      0:00:41       0.9451    0.9761\n",
      "        13   MaxAbsScaler KNN                               0:00:57       0.9432    0.9761\n",
      "        19   StandardScalerWrapper KNN                      0:00:49       0.9432    0.9761\n",
      "        20   RobustScaler LightGBM                          0:00:43       0.9585    0.9761\n",
      "        10   MaxAbsScaler LightGBM                          0:00:58       0.9618    0.9761\n",
      "        21   MinMaxScaler SVM                               0:00:56       0.9432    0.9761\n",
      "        22   MinMaxScaler SVM                               0:00:49       0.9436    0.9761\n",
      "        23   RobustScaler RandomForest                      0:00:52       0.9102    0.9761\n",
      "         7   SparseNormalizer KNN                           0:00:57       0.9250    0.9761\n",
      "        24   MaxAbsScaler LightGBM                          0:00:50       0.9589    0.9761\n",
      "        25   SparseNormalizer KNN                           0:00:46       0.9308    0.9761\n",
      "        27   RobustScaler GradientBoosting                  0:00:49       0.9446    0.9761\n",
      "        28   StandardScalerWrapper LightGBM                 0:00:45       0.9317    0.9761\n",
      "        26   StandardScalerWrapper LightGBM                 0:00:43       0.9207    0.9761\n",
      "        29   StandardScalerWrapper LightGBM                 0:00:52       0.9460    0.9761\n",
      "        30   MaxAbsScaler ExtremeRandomTrees                0:00:47       0.9308    0.9761\n",
      "        31   SparseNormalizer LightGBM                      0:00:49       0.9589    0.9761\n",
      "        32   MinMaxScaler LightGBM                          0:00:45       0.9365    0.9761\n",
      "        33   MinMaxScaler LightGBM                          0:00:45       0.9546    0.9761\n",
      "        34   MaxAbsScaler LightGBM                          0:00:50       0.9456    0.9761\n",
      "        36   MinMaxScaler LightGBM                          0:00:44       0.9561    0.9761\n",
      "        38   StandardScalerWrapper ExtremeRandomTrees       0:00:45       0.9269    0.9761\n",
      "        35   MaxAbsScaler LightGBM                          0:00:56       0.9174    0.9761\n",
      "        37   StandardScalerWrapper RandomForest             0:00:57       0.9336    0.9761\n",
      "        39   PCA LightGBM                                   0:00:49       0.8228    0.9761\n",
      "        40   SparseNormalizer LightGBM                      0:00:56       0.9394    0.9761\n",
      "        41   StandardScalerWrapper LightGBM                 0:00:53       0.9642    0.9761\n",
      "        42   MaxAbsScaler LightGBM                          0:00:56       0.9542    0.9761\n",
      "        43   RobustScaler LightGBM                          0:01:00       0.9589    0.9761\n",
      "        44   MaxAbsScaler LightGBM                          0:00:42       0.9632    0.9761\n",
      "        45   StandardScalerWrapper LightGBM                 0:00:56       0.6399    0.9761\n",
      "        46   MinMaxScaler LogisticRegression                0:00:45       0.8610    0.9761\n",
      "        47   StandardScalerWrapper LightGBM                 0:00:44       0.9628    0.9761\n",
      "        48   MaxAbsScaler LightGBM                          0:00:52       0.9608    0.9761\n",
      "        49   MaxAbsScaler LightGBM                          0:00:46       0.9451    0.9761\n",
      "        51   StandardScalerWrapper LightGBM                 0:00:50       0.9675    0.9761\n",
      "        52   StandardScalerWrapper LightGBM                 0:00:47       0.9661    0.9761\n",
      "        53   StandardScalerWrapper LightGBM                 0:00:49       0.9585    0.9761\n",
      "        55                                                  0:00:15          nan    0.9761\n",
      "        56                                                  0:01:26          nan    0.9761\n",
      "        57                                                  0:01:18          nan    0.9761\n",
      "        58                                                  0:01:12          nan    0.9761\n",
      "        60                                                  0:01:05          nan    0.9761\n",
      "        61                                                  0:01:05          nan    0.9761\n",
      "        62                                                  0:00:58          nan    0.9761\n",
      "        63                                                  0:00:59          nan    0.9761\n",
      "        64                                                  0:00:52          nan    0.9761\n",
      "        65                                                  0:00:26          nan    0.9761\n",
      "        66                                                  0:00:18          nan    0.9761\n",
      "        50   MaxAbsScaler RandomForest                      0:01:00       0.9532    0.9761\n",
      "        54   StandardScalerWrapper LightGBM                 0:00:46       0.9580    0.9761\n",
      "        59                                                  0:01:07          nan    0.9761\n",
      "        67   RobustScaler SVM                               0:01:49       0.9408    0.9761\n",
      "        68    VotingEnsemble                                0:01:30       0.9771    0.9771\n"
     ]
    }
   ],
   "source": [
    "# TODO: Submit your experiment\n",
    "automlmodel_run = experiment.submit(automl_config, show_output=True)"
   ]
  },
  {
   "cell_type": "markdown",
   "metadata": {},
   "source": [
    "## Run Details\n",
    "\n",
    "OPTIONAL: Write about the different models trained and their performance. Why do you think some models did better than others?\n",
    "\n",
    "TODO: In the cell below, use the `RunDetails` widget to show the different experiments."
   ]
  },
  {
   "cell_type": "code",
   "execution_count": 7,
   "metadata": {
    "gather": {
     "logged": 1615704748975
    },
    "jupyter": {
     "outputs_hidden": false,
     "source_hidden": false
    },
    "nteract": {
     "transient": {
      "deleting": false
     }
    }
   },
   "outputs": [
    {
     "data": {
      "application/vnd.jupyter.widget-view+json": {
       "model_id": "ec1bbfe494d84650b9619ad9b6bc1158",
       "version_major": 2,
       "version_minor": 0
      },
      "text/plain": [
       "_AutoMLWidget(widget_settings={'childWidgetDisplay': 'popup', 'send_telemetry': False, 'log_level': 'INFO', 's…"
      ]
     },
     "metadata": {},
     "output_type": "display_data"
    },
    {
     "data": {
      "application/aml.mini.widget.v1": "{\"status\": \"Completed\", \"workbench_run_details_uri\": \"https://ml.azure.com/experiments/hydraulic-automl-experiment/runs/AutoML_e15dc22b-dc6d-4211-a51b-17a7051f686c?wsid=/subscriptions/610d6e37-4747-4a20-80eb-3aad70a55f43/resourcegroups/aml-quickstarts-140391/workspaces/quick-starts-ws-140391\", \"run_id\": \"AutoML_e15dc22b-dc6d-4211-a51b-17a7051f686c\", \"run_properties\": {\"run_id\": \"AutoML_e15dc22b-dc6d-4211-a51b-17a7051f686c\", \"created_utc\": \"2021-03-14T05:50:35.36106Z\", \"properties\": {\"num_iterations\": \"1000\", \"training_type\": \"TrainFull\", \"acquisition_function\": \"EI\", \"primary_metric\": \"accuracy\", \"train_split\": \"0\", \"acquisition_parameter\": \"0\", \"num_cross_validation\": null, \"target\": \"compute-ml\", \"AMLSettingsJsonString\": \"{\\\"path\\\":null,\\\"name\\\":\\\"hydraulic-automl-experiment\\\",\\\"subscription_id\\\":\\\"610d6e37-4747-4a20-80eb-3aad70a55f43\\\",\\\"resource_group\\\":\\\"aml-quickstarts-140391\\\",\\\"workspace_name\\\":\\\"quick-starts-ws-140391\\\",\\\"region\\\":\\\"southcentralus\\\",\\\"compute_target\\\":\\\"compute-ml\\\",\\\"spark_service\\\":null,\\\"azure_service\\\":\\\"remote\\\",\\\"many_models\\\":false,\\\"pipeline_fetch_max_batch_size\\\":1,\\\"iterations\\\":1000,\\\"primary_metric\\\":\\\"accuracy\\\",\\\"task_type\\\":\\\"classification\\\",\\\"data_script\\\":null,\\\"validation_size\\\":0.0,\\\"n_cross_validations\\\":null,\\\"y_min\\\":null,\\\"y_max\\\":null,\\\"num_classes\\\":null,\\\"featurization\\\":\\\"auto\\\",\\\"_ignore_package_version_incompatibilities\\\":false,\\\"is_timeseries\\\":false,\\\"max_cores_per_iteration\\\":1,\\\"max_concurrent_iterations\\\":20,\\\"iteration_timeout_minutes\\\":null,\\\"mem_in_mb\\\":null,\\\"enforce_time_on_windows\\\":false,\\\"experiment_timeout_minutes\\\":60,\\\"experiment_exit_score\\\":null,\\\"whitelist_models\\\":null,\\\"blacklist_algos\\\":[\\\"XGBoostClassifier\\\",\\\"TensorFlowLinearClassifier\\\",\\\"TensorFlowDNN\\\"],\\\"supported_models\\\":[\\\"SVM\\\",\\\"LogisticRegression\\\",\\\"LightGBM\\\",\\\"KNN\\\",\\\"XGBoostClassifier\\\",\\\"BernoulliNaiveBayes\\\",\\\"AveragedPerceptronClassifier\\\",\\\"GradientBoosting\\\",\\\"TensorFlowLinearClassifier\\\",\\\"MultinomialNaiveBayes\\\",\\\"LinearSVM\\\",\\\"DecisionTree\\\",\\\"ExtremeRandomTrees\\\",\\\"SGD\\\",\\\"RandomForest\\\",\\\"TensorFlowDNN\\\"],\\\"private_models\\\":[],\\\"auto_blacklist\\\":true,\\\"blacklist_samples_reached\\\":false,\\\"exclude_nan_labels\\\":true,\\\"verbosity\\\":20,\\\"_debug_log\\\":\\\"azureml_automl.log\\\",\\\"show_warnings\\\":false,\\\"model_explainability\\\":true,\\\"service_url\\\":null,\\\"sdk_url\\\":null,\\\"sdk_packages\\\":null,\\\"enable_onnx_compatible_models\\\":true,\\\"enable_split_onnx_featurizer_estimator_models\\\":false,\\\"vm_type\\\":\\\"STANDARD_DS14_V2\\\",\\\"telemetry_verbosity\\\":20,\\\"send_telemetry\\\":true,\\\"enable_dnn\\\":false,\\\"scenario\\\":\\\"SDK-1.13.0\\\",\\\"environment_label\\\":null,\\\"force_text_dnn\\\":false,\\\"enable_feature_sweeping\\\":false,\\\"enable_early_stopping\\\":true,\\\"early_stopping_n_iters\\\":10,\\\"metrics\\\":null,\\\"enable_ensembling\\\":true,\\\"enable_stack_ensembling\\\":false,\\\"ensemble_iterations\\\":15,\\\"enable_tf\\\":false,\\\"enable_subsampling\\\":null,\\\"subsample_seed\\\":null,\\\"enable_nimbusml\\\":false,\\\"enable_streaming\\\":false,\\\"force_streaming\\\":false,\\\"track_child_runs\\\":true,\\\"allowed_private_models\\\":[],\\\"label_column_name\\\":\\\"STABILITY\\\",\\\"weight_column_name\\\":null,\\\"cv_split_column_names\\\":null,\\\"enable_local_managed\\\":false,\\\"_local_managed_run_id\\\":null,\\\"cost_mode\\\":1,\\\"lag_length\\\":0,\\\"metric_operation\\\":\\\"maximize\\\",\\\"preprocess\\\":true}\", \"DataPrepJsonString\": \"{\\\\\\\"training_data\\\\\\\": \\\\\\\"{\\\\\\\\\\\\\\\"blocks\\\\\\\\\\\\\\\": [{\\\\\\\\\\\\\\\"id\\\\\\\\\\\\\\\": \\\\\\\\\\\\\\\"be2f9dda-ede9-4494-93c0-e8e70f8f12a4\\\\\\\\\\\\\\\", \\\\\\\\\\\\\\\"type\\\\\\\\\\\\\\\": \\\\\\\\\\\\\\\"Microsoft.DPrep.GetFilesBlock\\\\\\\\\\\\\\\", \\\\\\\\\\\\\\\"arguments\\\\\\\\\\\\\\\": {\\\\\\\\\\\\\\\"isArchive\\\\\\\\\\\\\\\": false, \\\\\\\\\\\\\\\"path\\\\\\\\\\\\\\\": {\\\\\\\\\\\\\\\"target\\\\\\\\\\\\\\\": 4, \\\\\\\\\\\\\\\"resourceDetails\\\\\\\\\\\\\\\": [{\\\\\\\\\\\\\\\"path\\\\\\\\\\\\\\\": \\\\\\\\\\\\\\\"https://raw.githubusercontent.com/chamsun-imoggo/udacityms-3rdproject/main/data/hydraulic_systems_training.csv\\\\\\\\\\\\\\\"}]}}, \\\\\\\\\\\\\\\"localData\\\\\\\\\\\\\\\": {}, \\\\\\\\\\\\\\\"isEnabled\\\\\\\\\\\\\\\": true, \\\\\\\\\\\\\\\"name\\\\\\\\\\\\\\\": null, \\\\\\\\\\\\\\\"annotation\\\\\\\\\\\\\\\": null}, {\\\\\\\\\\\\\\\"id\\\\\\\\\\\\\\\": \\\\\\\\\\\\\\\"3c88efb7-5604-4e22-9e67-f304a5bf2427\\\\\\\\\\\\\\\", \\\\\\\\\\\\\\\"type\\\\\\\\\\\\\\\": \\\\\\\\\\\\\\\"Microsoft.DPrep.ParseDelimitedBlock\\\\\\\\\\\\\\\", \\\\\\\\\\\\\\\"arguments\\\\\\\\\\\\\\\": {\\\\\\\\\\\\\\\"columnHeadersMode\\\\\\\\\\\\\\\": 3, \\\\\\\\\\\\\\\"fileEncoding\\\\\\\\\\\\\\\": 0, \\\\\\\\\\\\\\\"handleQuotedLineBreaks\\\\\\\\\\\\\\\": false, \\\\\\\\\\\\\\\"preview\\\\\\\\\\\\\\\": false, \\\\\\\\\\\\\\\"separator\\\\\\\\\\\\\\\": \\\\\\\\\\\\\\\",\\\\\\\\\\\\\\\", \\\\\\\\\\\\\\\"skipRows\\\\\\\\\\\\\\\": 0, \\\\\\\\\\\\\\\"skipRowsMode\\\\\\\\\\\\\\\": 0}, \\\\\\\\\\\\\\\"localData\\\\\\\\\\\\\\\": {}, \\\\\\\\\\\\\\\"isEnabled\\\\\\\\\\\\\\\": true, \\\\\\\\\\\\\\\"name\\\\\\\\\\\\\\\": null, \\\\\\\\\\\\\\\"annotation\\\\\\\\\\\\\\\": null}, {\\\\\\\\\\\\\\\"id\\\\\\\\\\\\\\\": \\\\\\\\\\\\\\\"db3f8ecf-1d76-4d53-bf79-71aa907c72b8\\\\\\\\\\\\\\\", \\\\\\\\\\\\\\\"type\\\\\\\\\\\\\\\": \\\\\\\\\\\\\\\"Microsoft.DPrep.DropColumnsBlock\\\\\\\\\\\\\\\", \\\\\\\\\\\\\\\"arguments\\\\\\\\\\\\\\\": {\\\\\\\\\\\\\\\"columns\\\\\\\\\\\\\\\": {\\\\\\\\\\\\\\\"type\\\\\\\\\\\\\\\": 0, \\\\\\\\\\\\\\\"details\\\\\\\\\\\\\\\": {\\\\\\\\\\\\\\\"selectedColumns\\\\\\\\\\\\\\\": [\\\\\\\\\\\\\\\"Path\\\\\\\\\\\\\\\"]}}}, \\\\\\\\\\\\\\\"localData\\\\\\\\\\\\\\\": {}, \\\\\\\\\\\\\\\"isEnabled\\\\\\\\\\\\\\\": true, \\\\\\\\\\\\\\\"name\\\\\\\\\\\\\\\": null, \\\\\\\\\\\\\\\"annotation\\\\\\\\\\\\\\\": null}, {\\\\\\\\\\\\\\\"id\\\\\\\\\\\\\\\": \\\\\\\\\\\\\\\"72ca7acd-3ca9-4879-a580-63947006ec06\\\\\\\\\\\\\\\", \\\\\\\\\\\\\\\"type\\\\\\\\\\\\\\\": \\\\\\\\\\\\\\\"Microsoft.DPrep.SetColumnTypesBlock\\\\\\\\\\\\\\\", \\\\\\\\\\\\\\\"arguments\\\\\\\\\\\\\\\": {\\\\\\\\\\\\\\\"columnConversion\\\\\\\\\\\\\\\": [{\\\\\\\\\\\\\\\"column\\\\\\\\\\\\\\\": {\\\\\\\\\\\\\\\"type\\\\\\\\\\\\\\\": 2, \\\\\\\\\\\\\\\"details\\\\\\\\\\\\\\\": {\\\\\\\\\\\\\\\"selectedColumn\\\\\\\\\\\\\\\": \\\\\\\\\\\\\\\"PS1\\\\\\\\\\\\\\\"}}, \\\\\\\\\\\\\\\"typeProperty\\\\\\\\\\\\\\\": 3}, {\\\\\\\\\\\\\\\"column\\\\\\\\\\\\\\\": {\\\\\\\\\\\\\\\"type\\\\\\\\\\\\\\\": 2, \\\\\\\\\\\\\\\"details\\\\\\\\\\\\\\\": {\\\\\\\\\\\\\\\"selectedColumn\\\\\\\\\\\\\\\": \\\\\\\\\\\\\\\"PS2\\\\\\\\\\\\\\\"}}, \\\\\\\\\\\\\\\"typeProperty\\\\\\\\\\\\\\\": 3}, {\\\\\\\\\\\\\\\"column\\\\\\\\\\\\\\\": {\\\\\\\\\\\\\\\"type\\\\\\\\\\\\\\\": 2, \\\\\\\\\\\\\\\"details\\\\\\\\\\\\\\\": {\\\\\\\\\\\\\\\"selectedColumn\\\\\\\\\\\\\\\": \\\\\\\\\\\\\\\"PS3\\\\\\\\\\\\\\\"}}, \\\\\\\\\\\\\\\"typeProperty\\\\\\\\\\\\\\\": 3}, {\\\\\\\\\\\\\\\"column\\\\\\\\\\\\\\\": {\\\\\\\\\\\\\\\"type\\\\\\\\\\\\\\\": 2, \\\\\\\\\\\\\\\"details\\\\\\\\\\\\\\\": {\\\\\\\\\\\\\\\"selectedColumn\\\\\\\\\\\\\\\": \\\\\\\\\\\\\\\"PS4\\\\\\\\\\\\\\\"}}, \\\\\\\\\\\\\\\"typeProperty\\\\\\\\\\\\\\\": 3}, {\\\\\\\\\\\\\\\"column\\\\\\\\\\\\\\\": {\\\\\\\\\\\\\\\"type\\\\\\\\\\\\\\\": 2, \\\\\\\\\\\\\\\"details\\\\\\\\\\\\\\\": {\\\\\\\\\\\\\\\"selectedColumn\\\\\\\\\\\\\\\": \\\\\\\\\\\\\\\"PS5\\\\\\\\\\\\\\\"}}, \\\\\\\\\\\\\\\"typeProperty\\\\\\\\\\\\\\\": 3}, {\\\\\\\\\\\\\\\"column\\\\\\\\\\\\\\\": {\\\\\\\\\\\\\\\"type\\\\\\\\\\\\\\\": 2, \\\\\\\\\\\\\\\"details\\\\\\\\\\\\\\\": {\\\\\\\\\\\\\\\"selectedColumn\\\\\\\\\\\\\\\": \\\\\\\\\\\\\\\"PS6\\\\\\\\\\\\\\\"}}, \\\\\\\\\\\\\\\"typeProperty\\\\\\\\\\\\\\\": 3}, {\\\\\\\\\\\\\\\"column\\\\\\\\\\\\\\\": {\\\\\\\\\\\\\\\"type\\\\\\\\\\\\\\\": 2, \\\\\\\\\\\\\\\"details\\\\\\\\\\\\\\\": {\\\\\\\\\\\\\\\"selectedColumn\\\\\\\\\\\\\\\": \\\\\\\\\\\\\\\"FS1\\\\\\\\\\\\\\\"}}, \\\\\\\\\\\\\\\"typeProperty\\\\\\\\\\\\\\\": 3}, {\\\\\\\\\\\\\\\"column\\\\\\\\\\\\\\\": {\\\\\\\\\\\\\\\"type\\\\\\\\\\\\\\\": 2, \\\\\\\\\\\\\\\"details\\\\\\\\\\\\\\\": {\\\\\\\\\\\\\\\"selectedColumn\\\\\\\\\\\\\\\": \\\\\\\\\\\\\\\"FS2\\\\\\\\\\\\\\\"}}, \\\\\\\\\\\\\\\"typeProperty\\\\\\\\\\\\\\\": 3}, {\\\\\\\\\\\\\\\"column\\\\\\\\\\\\\\\": {\\\\\\\\\\\\\\\"type\\\\\\\\\\\\\\\": 2, \\\\\\\\\\\\\\\"details\\\\\\\\\\\\\\\": {\\\\\\\\\\\\\\\"selectedColumn\\\\\\\\\\\\\\\": \\\\\\\\\\\\\\\"TS1\\\\\\\\\\\\\\\"}}, \\\\\\\\\\\\\\\"typeProperty\\\\\\\\\\\\\\\": 3}, {\\\\\\\\\\\\\\\"column\\\\\\\\\\\\\\\": {\\\\\\\\\\\\\\\"type\\\\\\\\\\\\\\\": 2, \\\\\\\\\\\\\\\"details\\\\\\\\\\\\\\\": {\\\\\\\\\\\\\\\"selectedColumn\\\\\\\\\\\\\\\": \\\\\\\\\\\\\\\"TS2\\\\\\\\\\\\\\\"}}, \\\\\\\\\\\\\\\"typeProperty\\\\\\\\\\\\\\\": 3}, {\\\\\\\\\\\\\\\"column\\\\\\\\\\\\\\\": {\\\\\\\\\\\\\\\"type\\\\\\\\\\\\\\\": 2, \\\\\\\\\\\\\\\"details\\\\\\\\\\\\\\\": {\\\\\\\\\\\\\\\"selectedColumn\\\\\\\\\\\\\\\": \\\\\\\\\\\\\\\"TS3\\\\\\\\\\\\\\\"}}, \\\\\\\\\\\\\\\"typeProperty\\\\\\\\\\\\\\\": 3}, {\\\\\\\\\\\\\\\"column\\\\\\\\\\\\\\\": {\\\\\\\\\\\\\\\"type\\\\\\\\\\\\\\\": 2, \\\\\\\\\\\\\\\"details\\\\\\\\\\\\\\\": {\\\\\\\\\\\\\\\"selectedColumn\\\\\\\\\\\\\\\": \\\\\\\\\\\\\\\"TS4\\\\\\\\\\\\\\\"}}, \\\\\\\\\\\\\\\"typeProperty\\\\\\\\\\\\\\\": 3}, {\\\\\\\\\\\\\\\"column\\\\\\\\\\\\\\\": {\\\\\\\\\\\\\\\"type\\\\\\\\\\\\\\\": 2, \\\\\\\\\\\\\\\"details\\\\\\\\\\\\\\\": {\\\\\\\\\\\\\\\"selectedColumn\\\\\\\\\\\\\\\": \\\\\\\\\\\\\\\"P1\\\\\\\\\\\\\\\"}}, \\\\\\\\\\\\\\\"typeProperty\\\\\\\\\\\\\\\": 3}, {\\\\\\\\\\\\\\\"column\\\\\\\\\\\\\\\": {\\\\\\\\\\\\\\\"type\\\\\\\\\\\\\\\": 2, \\\\\\\\\\\\\\\"details\\\\\\\\\\\\\\\": {\\\\\\\\\\\\\\\"selectedColumn\\\\\\\\\\\\\\\": \\\\\\\\\\\\\\\"VS1\\\\\\\\\\\\\\\"}}, \\\\\\\\\\\\\\\"typeProperty\\\\\\\\\\\\\\\": 3}, {\\\\\\\\\\\\\\\"column\\\\\\\\\\\\\\\": {\\\\\\\\\\\\\\\"type\\\\\\\\\\\\\\\": 2, \\\\\\\\\\\\\\\"details\\\\\\\\\\\\\\\": {\\\\\\\\\\\\\\\"selectedColumn\\\\\\\\\\\\\\\": \\\\\\\\\\\\\\\"CE1\\\\\\\\\\\\\\\"}}, \\\\\\\\\\\\\\\"typeProperty\\\\\\\\\\\\\\\": 3}, {\\\\\\\\\\\\\\\"column\\\\\\\\\\\\\\\": {\\\\\\\\\\\\\\\"type\\\\\\\\\\\\\\\": 2, \\\\\\\\\\\\\\\"details\\\\\\\\\\\\\\\": {\\\\\\\\\\\\\\\"selectedColumn\\\\\\\\\\\\\\\": \\\\\\\\\\\\\\\"CP1\\\\\\\\\\\\\\\"}}, \\\\\\\\\\\\\\\"typeProperty\\\\\\\\\\\\\\\": 3}, {\\\\\\\\\\\\\\\"column\\\\\\\\\\\\\\\": {\\\\\\\\\\\\\\\"type\\\\\\\\\\\\\\\": 2, \\\\\\\\\\\\\\\"details\\\\\\\\\\\\\\\": {\\\\\\\\\\\\\\\"selectedColumn\\\\\\\\\\\\\\\": \\\\\\\\\\\\\\\"SE1\\\\\\\\\\\\\\\"}}, \\\\\\\\\\\\\\\"typeProperty\\\\\\\\\\\\\\\": 3}, {\\\\\\\\\\\\\\\"column\\\\\\\\\\\\\\\": {\\\\\\\\\\\\\\\"type\\\\\\\\\\\\\\\": 2, \\\\\\\\\\\\\\\"details\\\\\\\\\\\\\\\": {\\\\\\\\\\\\\\\"selectedColumn\\\\\\\\\\\\\\\": \\\\\\\\\\\\\\\"STABILITY\\\\\\\\\\\\\\\"}}, \\\\\\\\\\\\\\\"typeProperty\\\\\\\\\\\\\\\": 2}]}, \\\\\\\\\\\\\\\"localData\\\\\\\\\\\\\\\": {}, \\\\\\\\\\\\\\\"isEnabled\\\\\\\\\\\\\\\": true, \\\\\\\\\\\\\\\"name\\\\\\\\\\\\\\\": null, \\\\\\\\\\\\\\\"annotation\\\\\\\\\\\\\\\": null}], \\\\\\\\\\\\\\\"inspectors\\\\\\\\\\\\\\\": [], \\\\\\\\\\\\\\\"meta\\\\\\\\\\\\\\\": {\\\\\\\\\\\\\\\"savedDatasetId\\\\\\\\\\\\\\\": \\\\\\\\\\\\\\\"99376d1e-a221-4590-9ebb-74292d618ade\\\\\\\\\\\\\\\", \\\\\\\\\\\\\\\"datasetType\\\\\\\\\\\\\\\": \\\\\\\\\\\\\\\"tabular\\\\\\\\\\\\\\\", \\\\\\\\\\\\\\\"subscriptionId\\\\\\\\\\\\\\\": \\\\\\\\\\\\\\\"610d6e37-4747-4a20-80eb-3aad70a55f43\\\\\\\\\\\\\\\", \\\\\\\\\\\\\\\"workspaceId\\\\\\\\\\\\\\\": \\\\\\\\\\\\\\\"11ba0951-7a45-4de1-86b4-87453e1c25e6\\\\\\\\\\\\\\\", \\\\\\\\\\\\\\\"workspaceLocation\\\\\\\\\\\\\\\": \\\\\\\\\\\\\\\"southcentralus\\\\\\\\\\\\\\\"}}\\\\\\\", \\\\\\\"activities\\\\\\\": 0}\", \"EnableSubsampling\": null, \"runTemplate\": \"AutoML\", \"azureml.runsource\": \"automl\", \"display_task_type\": \"classification\", \"dependencies_versions\": \"{\\\"azureml-widgets\\\": \\\"1.22.0\\\", \\\"azureml-train\\\": \\\"1.22.0\\\", \\\"azureml-train-restclients-hyperdrive\\\": \\\"1.22.0\\\", \\\"azureml-train-core\\\": \\\"1.22.0\\\", \\\"azureml-train-automl\\\": \\\"1.22.0\\\", \\\"azureml-train-automl-runtime\\\": \\\"1.22.0\\\", \\\"azureml-train-automl-client\\\": \\\"1.22.0\\\", \\\"azureml-tensorboard\\\": \\\"1.22.0\\\", \\\"azureml-telemetry\\\": \\\"1.22.0\\\", \\\"azureml-sdk\\\": \\\"1.22.0\\\", \\\"azureml-samples\\\": \\\"0+unknown\\\", \\\"azureml-pipeline\\\": \\\"1.22.0\\\", \\\"azureml-pipeline-steps\\\": \\\"1.22.0\\\", \\\"azureml-pipeline-core\\\": \\\"1.22.0\\\", \\\"azureml-opendatasets\\\": \\\"1.22.0\\\", \\\"azureml-model-management-sdk\\\": \\\"1.0.1b6.post1\\\", \\\"azureml-mlflow\\\": \\\"1.22.0\\\", \\\"azureml-interpret\\\": \\\"1.22.0\\\", \\\"azureml-explain-model\\\": \\\"1.22.0\\\", \\\"azureml-defaults\\\": \\\"1.22.0\\\", \\\"azureml-dataset-runtime\\\": \\\"1.22.0\\\", \\\"azureml-dataprep\\\": \\\"2.9.1\\\", \\\"azureml-dataprep-rslex\\\": \\\"1.7.0\\\", \\\"azureml-dataprep-native\\\": \\\"29.0.0\\\", \\\"azureml-datadrift\\\": \\\"1.22.0\\\", \\\"azureml-core\\\": \\\"1.22.0\\\", \\\"azureml-contrib-services\\\": \\\"1.22.0\\\", \\\"azureml-contrib-server\\\": \\\"1.22.0\\\", \\\"azureml-contrib-reinforcementlearning\\\": \\\"1.22.0\\\", \\\"azureml-contrib-pipeline-steps\\\": \\\"1.22.0\\\", \\\"azureml-contrib-notebook\\\": \\\"1.22.0\\\", \\\"azureml-contrib-interpret\\\": \\\"1.22.0\\\", \\\"azureml-contrib-gbdt\\\": \\\"1.22.0\\\", \\\"azureml-contrib-fairness\\\": \\\"1.22.0\\\", \\\"azureml-contrib-dataset\\\": \\\"1.22.0\\\", \\\"azureml-cli-common\\\": \\\"1.22.0\\\", \\\"azureml-automl-runtime\\\": \\\"1.22.0\\\", \\\"azureml-automl-core\\\": \\\"1.22.0\\\", \\\"azureml-accel-models\\\": \\\"1.22.0\\\"}\", \"_aml_system_scenario_identification\": \"Remote.Parent\", \"ClientType\": \"SDK\", \"environment_cpu_name\": \"AzureML-AutoML\", \"environment_cpu_label\": \"prod\", \"environment_gpu_name\": \"AzureML-AutoML-GPU\", \"environment_gpu_label\": \"prod\", \"root_attribution\": \"automl\", \"attribution\": \"AutoML\", \"Orchestrator\": \"AutoML\", \"CancelUri\": \"https://southcentralus.experiments.azureml.net/jasmine/v1.0/subscriptions/610d6e37-4747-4a20-80eb-3aad70a55f43/resourceGroups/aml-quickstarts-140391/providers/Microsoft.MachineLearningServices/workspaces/quick-starts-ws-140391/experimentids/b77353d5-5b38-41a3-8ba2-ea35705180c1/cancel/AutoML_e15dc22b-dc6d-4211-a51b-17a7051f686c\", \"ClientSdkVersion\": \"1.23.0\", \"snapshotId\": \"00000000-0000-0000-0000-000000000000\", \"SetupRunId\": \"AutoML_e15dc22b-dc6d-4211-a51b-17a7051f686c_setup\", \"SetupRunContainerId\": \"dcid.AutoML_e15dc22b-dc6d-4211-a51b-17a7051f686c_setup\", \"FeaturizationRunJsonPath\": \"featurizer_container.json\", \"FeaturizationRunId\": \"AutoML_e15dc22b-dc6d-4211-a51b-17a7051f686c_featurize\", \"ProblemInfoJsonString\": \"{\\\"dataset_num_categorical\\\": 0, \\\"is_sparse\\\": false, \\\"subsampling\\\": false, \\\"dataset_classes\\\": 2, \\\"dataset_features\\\": 17, \\\"dataset_samples\\\": 2094, \\\"single_frequency_class_detected\\\": false}\", \"ModelExplainRunId\": \"AutoML_e15dc22b-dc6d-4211-a51b-17a7051f686c_ModelExplain\"}, \"tags\": {\"model_explain_run\": \"best_run\", \"_aml_system_azureml.automlComponent\": \"AutoML\", \"pipeline_id\": \"\", \"score\": \"\", \"predicted_cost\": \"\", \"fit_time\": \"\", \"training_percent\": \"\", \"iteration\": \"\", \"run_preprocessor\": \"\", \"run_algorithm\": \"\", \"dynamic_whitelisting_iterations\": \"<25>;<29>;<35>;<39>;<45>;<49>;<55>;<59>;<65>;\", \"automl_best_child_run_id\": \"AutoML_e15dc22b-dc6d-4211-a51b-17a7051f686c_68\", \"model_explain_best_run_child_id\": \"AutoML_e15dc22b-dc6d-4211-a51b-17a7051f686c_68\"}, \"end_time_utc\": \"2021-03-14T06:52:22.812178Z\", \"status\": \"Completed\", \"log_files\": {}, \"log_groups\": [], \"run_duration\": \"1:01:47\", \"run_number\": \"1\", \"run_queued_details\": {\"status\": \"Completed\", \"details\": null}}, \"child_runs\": [{\"run_id\": \"AutoML_e15dc22b-dc6d-4211-a51b-17a7051f686c_0\", \"run_number\": 5, \"metric\": null, \"status\": \"Completed\", \"run_type\": \"azureml.scriptrun\", \"training_percent\": \"100\", \"start_time\": \"2021-03-14T06:42:39.020385Z\", \"end_time\": \"2021-03-14T06:44:22.749669Z\", \"created_time\": \"2021-03-14T06:38:11.834315Z\", \"created_time_dt\": \"2021-03-14T06:38:11.834315Z\", \"duration\": \"0:06:10\", \"iteration\": \"0\", \"goal\": \"accuracy_max\", \"run_name\": \"MaxAbsScaler, LightGBM\", \"run_properties\": \"copy=True\", \"primary_metric\": 0.97612225, \"best_metric\": 0.97612225}, {\"run_id\": \"AutoML_e15dc22b-dc6d-4211-a51b-17a7051f686c_2\", \"run_number\": 6, \"metric\": null, \"status\": \"Completed\", \"run_type\": \"azureml.scriptrun\", \"training_percent\": \"100\", \"start_time\": \"2021-03-14T06:42:38.320986Z\", \"end_time\": \"2021-03-14T06:44:13.565994Z\", \"created_time\": \"2021-03-14T06:38:11.969751Z\", \"created_time_dt\": \"2021-03-14T06:38:11.969751Z\", \"duration\": \"0:06:01\", \"iteration\": \"2\", \"goal\": \"accuracy_max\", \"run_name\": \"MinMaxScaler, RandomForest\", \"run_properties\": \"copy=True, feature_range=(0, 1\", \"primary_metric\": 0.93361987, \"best_metric\": 0.97612225}, {\"run_id\": \"AutoML_e15dc22b-dc6d-4211-a51b-17a7051f686c_4\", \"run_number\": 7, \"metric\": null, \"status\": \"Completed\", \"run_type\": \"azureml.scriptrun\", \"training_percent\": \"100\", \"start_time\": \"2021-03-14T06:42:38.718694Z\", \"end_time\": \"2021-03-14T06:44:13.551422Z\", \"created_time\": \"2021-03-14T06:38:11.974262Z\", \"created_time_dt\": \"2021-03-14T06:38:11.974262Z\", \"duration\": \"0:06:01\", \"iteration\": \"4\", \"goal\": \"accuracy_max\", \"run_name\": \"MinMaxScaler, RandomForest\", \"run_properties\": \"copy=True, feature_range=(0, 1\", \"primary_metric\": 0.87249284, \"best_metric\": 0.97612225}, {\"run_id\": \"AutoML_e15dc22b-dc6d-4211-a51b-17a7051f686c_8\", \"run_number\": 8, \"metric\": null, \"status\": \"Completed\", \"run_type\": \"azureml.scriptrun\", \"training_percent\": \"100\", \"start_time\": \"2021-03-14T06:40:33.570709Z\", \"end_time\": \"2021-03-14T06:41:18.563045Z\", \"created_time\": \"2021-03-14T06:38:11.994936Z\", \"created_time_dt\": \"2021-03-14T06:38:11.994936Z\", \"duration\": \"0:03:06\", \"iteration\": \"8\", \"goal\": \"accuracy_max\", \"run_name\": \"RobustScaler, LightGBM\", \"run_properties\": \"copy=True, quantile_range=[10, 90], with_centering=True,\\n             with_scaling=True\", \"primary_metric\": 0.94412607, \"best_metric\": 0.97612225}, {\"run_id\": \"AutoML_e15dc22b-dc6d-4211-a51b-17a7051f686c_6\", \"run_number\": 9, \"metric\": null, \"status\": \"Completed\", \"run_type\": \"azureml.scriptrun\", \"training_percent\": \"100\", \"start_time\": \"2021-03-14T06:38:26.131707Z\", \"end_time\": \"2021-03-14T06:39:15.335715Z\", \"created_time\": \"2021-03-14T06:38:12.001986Z\", \"created_time_dt\": \"2021-03-14T06:38:12.001986Z\", \"duration\": \"0:01:03\", \"iteration\": \"6\", \"goal\": \"accuracy_max\", \"run_name\": \"SparseNormalizer, LightGBM\", \"run_properties\": \"<azureml.automl.runtime.shared.model_wrappers.SparseNormalizer object at 0x7ff7edc96860\", \"primary_metric\": 0.96227316, \"best_metric\": 0.97612225}, {\"run_id\": \"AutoML_e15dc22b-dc6d-4211-a51b-17a7051f686c_11\", \"run_number\": 10, \"metric\": null, \"status\": \"Completed\", \"run_type\": \"azureml.scriptrun\", \"training_percent\": \"100\", \"start_time\": \"2021-03-14T06:41:37.22764Z\", \"end_time\": \"2021-03-14T06:42:26.85329Z\", \"created_time\": \"2021-03-14T06:38:12.0176Z\", \"created_time_dt\": \"2021-03-14T06:38:12.0176Z\", \"duration\": \"0:04:14\", \"iteration\": \"11\", \"goal\": \"accuracy_max\", \"run_name\": \"MinMaxScaler, LogisticRegression\", \"run_properties\": \"copy=True, feature_range=(0, 1\", \"primary_metric\": 0.86771729, \"best_metric\": 0.97612225}, {\"run_id\": \"AutoML_e15dc22b-dc6d-4211-a51b-17a7051f686c_17\", \"run_number\": 11, \"metric\": null, \"status\": \"Completed\", \"run_type\": \"azureml.scriptrun\", \"training_percent\": \"100\", \"start_time\": \"2021-03-14T06:39:29.465919Z\", \"end_time\": \"2021-03-14T06:40:19.088108Z\", \"created_time\": \"2021-03-14T06:38:12.031896Z\", \"created_time_dt\": \"2021-03-14T06:38:12.031896Z\", \"duration\": \"0:02:07\", \"iteration\": \"17\", \"goal\": \"accuracy_max\", \"run_name\": \"RobustScaler, LightGBM\", \"run_properties\": \"copy=True, quantile_range=[10, 90], with_centering=False,\\n             with_scaling=True\", \"primary_metric\": 0.94508118, \"best_metric\": 0.97612225}, {\"run_id\": \"AutoML_e15dc22b-dc6d-4211-a51b-17a7051f686c_15\", \"run_number\": 12, \"metric\": null, \"status\": \"Completed\", \"run_type\": \"azureml.scriptrun\", \"training_percent\": \"100\", \"start_time\": \"2021-03-14T06:42:39.026727Z\", \"end_time\": \"2021-03-14T06:44:22.445073Z\", \"created_time\": \"2021-03-14T06:38:12.02806Z\", \"created_time_dt\": \"2021-03-14T06:38:12.02806Z\", \"duration\": \"0:06:10\", \"iteration\": \"15\", \"goal\": \"accuracy_max\", \"run_name\": \"StandardScalerWrapper, RandomForest\", \"run_properties\": \"<azureml.automl.runtime.shared.model_wrappers.StandardScalerWrapper object at 0x7f98970172b0\", \"primary_metric\": 0.92597899, \"best_metric\": 0.97612225}, {\"run_id\": \"AutoML_e15dc22b-dc6d-4211-a51b-17a7051f686c_16\", \"run_number\": 13, \"metric\": null, \"status\": \"Completed\", \"run_type\": \"azureml.scriptrun\", \"training_percent\": \"100\", \"start_time\": \"2021-03-14T06:43:47.943817Z\", \"end_time\": \"2021-03-14T06:44:41.229913Z\", \"created_time\": \"2021-03-14T06:38:12.037728Z\", \"created_time_dt\": \"2021-03-14T06:38:12.037728Z\", \"duration\": \"0:06:29\", \"iteration\": \"16\", \"goal\": \"accuracy_max\", \"run_name\": \"RobustScaler, LightGBM\", \"run_properties\": \"copy=True, quantile_range=[10, 90], with_centering=True,\\n             with_scaling=False\", \"primary_metric\": 0.9660936, \"best_metric\": 0.97612225}, {\"run_id\": \"AutoML_e15dc22b-dc6d-4211-a51b-17a7051f686c_5\", \"run_number\": 14, \"metric\": null, \"status\": \"Completed\", \"run_type\": \"azureml.scriptrun\", \"training_percent\": \"100\", \"start_time\": \"2021-03-14T06:42:35.002173Z\", \"end_time\": \"2021-03-14T06:44:24.083385Z\", \"created_time\": \"2021-03-14T06:38:12.105677Z\", \"created_time_dt\": \"2021-03-14T06:38:12.105677Z\", \"duration\": \"0:06:11\", \"iteration\": \"5\", \"goal\": \"accuracy_max\", \"run_name\": \"MaxAbsScaler, GradientBoosting\", \"run_properties\": \"copy=True\", \"primary_metric\": 0.93887297, \"best_metric\": 0.97612225}, {\"run_id\": \"AutoML_e15dc22b-dc6d-4211-a51b-17a7051f686c_18\", \"run_number\": 15, \"metric\": null, \"status\": \"Completed\", \"run_type\": \"azureml.scriptrun\", \"training_percent\": \"100\", \"start_time\": \"2021-03-14T06:42:47.563062Z\", \"end_time\": \"2021-03-14T06:43:33.317532Z\", \"created_time\": \"2021-03-14T06:38:12.131303Z\", \"created_time_dt\": \"2021-03-14T06:38:12.131303Z\", \"duration\": \"0:05:21\", \"iteration\": \"18\", \"goal\": \"accuracy_max\", \"run_name\": \"RobustScaler, LogisticRegression\", \"run_properties\": \"copy=True, quantile_range=[10, 90], with_centering=True,\\n             with_scaling=False\", \"primary_metric\": 0.91499522, \"best_metric\": 0.97612225}, {\"run_id\": \"AutoML_e15dc22b-dc6d-4211-a51b-17a7051f686c_13\", \"run_number\": 16, \"metric\": null, \"status\": \"Completed\", \"run_type\": \"azureml.scriptrun\", \"training_percent\": \"100\", \"start_time\": \"2021-03-14T06:44:20.478631Z\", \"end_time\": \"2021-03-14T06:45:17.084458Z\", \"created_time\": \"2021-03-14T06:38:12.134738Z\", \"created_time_dt\": \"2021-03-14T06:38:12.134738Z\", \"duration\": \"0:07:04\", \"iteration\": \"13\", \"goal\": \"accuracy_max\", \"run_name\": \"MaxAbsScaler, KNN\", \"run_properties\": \"copy=True\", \"primary_metric\": 0.94317096, \"best_metric\": 0.97612225}, {\"run_id\": \"AutoML_e15dc22b-dc6d-4211-a51b-17a7051f686c_9\", \"run_number\": 17, \"metric\": null, \"status\": \"Completed\", \"run_type\": \"azureml.scriptrun\", \"training_percent\": \"100\", \"start_time\": \"2021-03-14T06:42:33.163289Z\", \"end_time\": \"2021-03-14T06:44:14.258769Z\", \"created_time\": \"2021-03-14T06:38:12.140721Z\", \"created_time_dt\": \"2021-03-14T06:38:12.140721Z\", \"duration\": \"0:06:02\", \"iteration\": \"9\", \"goal\": \"accuracy_max\", \"run_name\": \"SparseNormalizer, KNN\", \"run_properties\": \"<azureml.automl.runtime.shared.model_wrappers.SparseNormalizer object at 0x7f4ccc4d2cf8\", \"primary_metric\": 0.96418338, \"best_metric\": 0.97612225}, {\"run_id\": \"AutoML_e15dc22b-dc6d-4211-a51b-17a7051f686c_3\", \"run_number\": 18, \"metric\": null, \"status\": \"Completed\", \"run_type\": \"azureml.scriptrun\", \"training_percent\": \"100\", \"start_time\": \"2021-03-14T06:42:38.727253Z\", \"end_time\": \"2021-03-14T06:44:14.080755Z\", \"created_time\": \"2021-03-14T06:38:11.978334Z\", \"created_time_dt\": \"2021-03-14T06:38:11.978334Z\", \"duration\": \"0:06:02\", \"iteration\": \"3\", \"goal\": \"accuracy_max\", \"run_name\": \"MinMaxScaler, RandomForest\", \"run_properties\": \"copy=True, feature_range=(0, 1\", \"primary_metric\": 0.9565425, \"best_metric\": 0.97612225}, {\"run_id\": \"AutoML_e15dc22b-dc6d-4211-a51b-17a7051f686c_19\", \"run_number\": 19, \"metric\": null, \"status\": \"Completed\", \"run_type\": \"azureml.scriptrun\", \"training_percent\": \"100\", \"start_time\": \"2021-03-14T06:44:30.834031Z\", \"end_time\": \"2021-03-14T06:45:20.067099Z\", \"created_time\": \"2021-03-14T06:38:11.982447Z\", \"created_time_dt\": \"2021-03-14T06:38:11.982447Z\", \"duration\": \"0:07:08\", \"iteration\": \"19\", \"goal\": \"accuracy_max\", \"run_name\": \"StandardScalerWrapper, KNN\", \"run_properties\": \"<azureml.automl.runtime.shared.model_wrappers.StandardScalerWrapper object at 0x7f7051480400\", \"primary_metric\": 0.94317096, \"best_metric\": 0.97612225}, {\"run_id\": \"AutoML_e15dc22b-dc6d-4211-a51b-17a7051f686c_7\", \"run_number\": 20, \"metric\": null, \"status\": \"Completed\", \"run_type\": \"azureml.scriptrun\", \"training_percent\": \"100\", \"start_time\": \"2021-03-14T06:44:25.652089Z\", \"end_time\": \"2021-03-14T06:45:22.98244Z\", \"created_time\": \"2021-03-14T06:38:12.024846Z\", \"created_time_dt\": \"2021-03-14T06:38:12.024846Z\", \"duration\": \"0:07:10\", \"iteration\": \"7\", \"goal\": \"accuracy_max\", \"run_name\": \"SparseNormalizer, KNN\", \"run_properties\": \"<azureml.automl.runtime.shared.model_wrappers.SparseNormalizer object at 0x7f33de2285c0\", \"primary_metric\": 0.92502388, \"best_metric\": 0.97612225}, {\"run_id\": \"AutoML_e15dc22b-dc6d-4211-a51b-17a7051f686c_10\", \"run_number\": 21, \"metric\": null, \"status\": \"Completed\", \"run_type\": \"azureml.scriptrun\", \"training_percent\": \"100\", \"start_time\": \"2021-03-14T06:44:32.939299Z\", \"end_time\": \"2021-03-14T06:45:30.938334Z\", \"created_time\": \"2021-03-14T06:38:12.022564Z\", \"created_time_dt\": \"2021-03-14T06:38:12.022564Z\", \"duration\": \"0:07:18\", \"iteration\": \"10\", \"goal\": \"accuracy_max\", \"run_name\": \"MaxAbsScaler, LightGBM\", \"run_properties\": \"copy=True\", \"primary_metric\": 0.96179561, \"best_metric\": 0.97612225}, {\"run_id\": \"AutoML_e15dc22b-dc6d-4211-a51b-17a7051f686c_14\", \"run_number\": 22, \"metric\": null, \"status\": \"Completed\", \"run_type\": \"azureml.scriptrun\", \"training_percent\": \"100\", \"start_time\": \"2021-03-14T06:42:33.656934Z\", \"end_time\": \"2021-03-14T06:44:15.524672Z\", \"created_time\": \"2021-03-14T06:38:12.046598Z\", \"created_time_dt\": \"2021-03-14T06:38:12.046598Z\", \"duration\": \"0:06:03\", \"iteration\": \"14\", \"goal\": \"accuracy_max\", \"run_name\": \"RobustScaler, LightGBM\", \"run_properties\": \"copy=True, quantile_range=[25, 75], with_centering=True,\\n             with_scaling=True\", \"primary_metric\": 0.96657116, \"best_metric\": 0.97612225}, {\"run_id\": \"AutoML_e15dc22b-dc6d-4211-a51b-17a7051f686c_12\", \"run_number\": 23, \"metric\": null, \"status\": \"Completed\", \"run_type\": \"azureml.scriptrun\", \"training_percent\": \"100\", \"start_time\": \"2021-03-14T06:42:38.745988Z\", \"end_time\": \"2021-03-14T06:44:14.439965Z\", \"created_time\": \"2021-03-14T06:38:12.06071Z\", \"created_time_dt\": \"2021-03-14T06:38:12.06071Z\", \"duration\": \"0:06:02\", \"iteration\": \"12\", \"goal\": \"accuracy_max\", \"run_name\": \"StandardScalerWrapper, LogisticRegression\", \"run_properties\": \"<azureml.automl.runtime.shared.model_wrappers.StandardScalerWrapper object at 0x7f15dd2552b0\", \"primary_metric\": 0.89780325, \"best_metric\": 0.97612225}, {\"run_id\": \"AutoML_e15dc22b-dc6d-4211-a51b-17a7051f686c_1\", \"run_number\": 24, \"metric\": null, \"status\": \"Completed\", \"run_type\": \"azureml.scriptrun\", \"training_percent\": \"100\", \"start_time\": \"2021-03-14T06:44:33.072914Z\", \"end_time\": \"2021-03-14T06:45:13.599956Z\", \"created_time\": \"2021-03-14T06:38:11.975047Z\", \"created_time_dt\": \"2021-03-14T06:38:11.975047Z\", \"duration\": \"0:07:01\", \"iteration\": \"1\", \"goal\": \"accuracy_max\", \"run_name\": \"MinMaxScaler, RandomForest\", \"run_properties\": \"copy=True, feature_range=(0, 1\", \"primary_metric\": 0.94508118, \"best_metric\": 0.97612225}, {\"run_id\": \"AutoML_e15dc22b-dc6d-4211-a51b-17a7051f686c_20\", \"run_number\": 25, \"metric\": null, \"status\": \"Completed\", \"run_type\": \"azureml.scriptrun\", \"training_percent\": \"100\", \"start_time\": \"2021-03-14T06:44:34.119107Z\", \"end_time\": \"2021-03-14T06:45:16.903425Z\", \"created_time\": \"2021-03-14T06:39:23.451093Z\", \"created_time_dt\": \"2021-03-14T06:39:23.451093Z\", \"duration\": \"0:05:53\", \"iteration\": \"20\", \"goal\": \"accuracy_max\", \"run_name\": \"RobustScaler, LightGBM\", \"run_properties\": \"copy=True, quantile_range=[10, 90], with_centering=False,\\n             with_scaling=True\", \"primary_metric\": 0.95845272, \"best_metric\": 0.97612225}, {\"run_id\": \"AutoML_e15dc22b-dc6d-4211-a51b-17a7051f686c_21\", \"run_number\": 26, \"metric\": null, \"status\": \"Completed\", \"run_type\": \"azureml.scriptrun\", \"training_percent\": \"100\", \"start_time\": \"2021-03-14T06:44:33.741318Z\", \"end_time\": \"2021-03-14T06:45:29.952591Z\", \"created_time\": \"2021-03-14T06:40:23.495595Z\", \"created_time_dt\": \"2021-03-14T06:40:23.495595Z\", \"duration\": \"0:05:06\", \"iteration\": \"21\", \"goal\": \"accuracy_max\", \"run_name\": \"MinMaxScaler, SVM\", \"run_properties\": \"copy=True, feature_range=(0, 1\", \"primary_metric\": 0.94317096, \"best_metric\": 0.97612225}, {\"run_id\": \"AutoML_e15dc22b-dc6d-4211-a51b-17a7051f686c_22\", \"run_number\": 27, \"metric\": null, \"status\": \"Completed\", \"run_type\": \"azureml.scriptrun\", \"training_percent\": \"100\", \"start_time\": \"2021-03-14T06:44:37.482573Z\", \"end_time\": \"2021-03-14T06:45:26.160027Z\", \"created_time\": \"2021-03-14T06:41:22.171828Z\", \"created_time_dt\": \"2021-03-14T06:41:22.171828Z\", \"duration\": \"0:04:03\", \"iteration\": \"22\", \"goal\": \"accuracy_max\", \"run_name\": \"MinMaxScaler, SVM\", \"run_properties\": \"copy=True, feature_range=(0, 1\", \"primary_metric\": 0.94364852, \"best_metric\": 0.97612225}, {\"run_id\": \"AutoML_e15dc22b-dc6d-4211-a51b-17a7051f686c_23\", \"run_number\": 28, \"metric\": null, \"status\": \"Completed\", \"run_type\": \"azureml.scriptrun\", \"training_percent\": \"100\", \"start_time\": \"2021-03-14T06:44:36.17975Z\", \"end_time\": \"2021-03-14T06:45:28.296681Z\", \"created_time\": \"2021-03-14T06:42:30.467779Z\", \"created_time_dt\": \"2021-03-14T06:42:30.467779Z\", \"duration\": \"0:02:57\", \"iteration\": \"23\", \"goal\": \"accuracy_max\", \"run_name\": \"RobustScaler, RandomForest\", \"run_properties\": \"copy=True, quantile_range=[25, 75], with_centering=False,\\n             with_scaling=True\", \"primary_metric\": 0.91021968, \"best_metric\": 0.97612225}, {\"run_id\": \"AutoML_e15dc22b-dc6d-4211-a51b-17a7051f686c_24\", \"run_number\": 29, \"metric\": null, \"status\": \"Completed\", \"run_type\": \"azureml.scriptrun\", \"training_percent\": \"100\", \"start_time\": \"2021-03-14T06:44:53.944448Z\", \"end_time\": \"2021-03-14T06:45:43.837961Z\", \"created_time\": \"2021-03-14T06:43:36.975222Z\", \"created_time_dt\": \"2021-03-14T06:43:36.975222Z\", \"duration\": \"0:02:06\", \"iteration\": \"24\", \"goal\": \"accuracy_max\", \"run_name\": \"MaxAbsScaler, LightGBM\", \"run_properties\": \"copy=True\", \"primary_metric\": 0.95893028, \"best_metric\": 0.97612225}, {\"run_id\": \"AutoML_e15dc22b-dc6d-4211-a51b-17a7051f686c_25\", \"run_number\": 30, \"metric\": null, \"status\": \"Completed\", \"run_type\": \"azureml.scriptrun\", \"training_percent\": \"100\", \"start_time\": \"2021-03-14T06:45:33.947381Z\", \"end_time\": \"2021-03-14T06:46:20.308663Z\", \"created_time\": \"2021-03-14T06:44:17.875803Z\", \"created_time_dt\": \"2021-03-14T06:44:17.875803Z\", \"duration\": \"0:02:02\", \"iteration\": \"25\", \"goal\": \"accuracy_max\", \"run_name\": \"SparseNormalizer, KNN\", \"run_properties\": \"<azureml.automl.runtime.shared.model_wrappers.SparseNormalizer object at 0x7f8a96dc3d68\", \"primary_metric\": 0.93075454, \"best_metric\": 0.97612225}, {\"run_id\": \"AutoML_e15dc22b-dc6d-4211-a51b-17a7051f686c_28\", \"run_number\": 31, \"metric\": null, \"status\": \"Completed\", \"run_type\": \"azureml.scriptrun\", \"training_percent\": \"100\", \"start_time\": \"2021-03-14T06:45:31.119492Z\", \"end_time\": \"2021-03-14T06:46:16.072166Z\", \"created_time\": \"2021-03-14T06:44:18.004412Z\", \"created_time_dt\": \"2021-03-14T06:44:18.004412Z\", \"duration\": \"0:01:58\", \"iteration\": \"28\", \"goal\": \"accuracy_max\", \"run_name\": \"StandardScalerWrapper, LightGBM\", \"run_properties\": \"<azureml.automl.runtime.shared.model_wrappers.StandardScalerWrapper object at 0x7fa0c3d9bd30\", \"primary_metric\": 0.93170965, \"best_metric\": 0.97612225}, {\"run_id\": \"AutoML_e15dc22b-dc6d-4211-a51b-17a7051f686c_26\", \"run_number\": 32, \"metric\": null, \"status\": \"Completed\", \"run_type\": \"azureml.scriptrun\", \"training_percent\": \"100\", \"start_time\": \"2021-03-14T06:45:37.776743Z\", \"end_time\": \"2021-03-14T06:46:21.082919Z\", \"created_time\": \"2021-03-14T06:44:18.018621Z\", \"created_time_dt\": \"2021-03-14T06:44:18.018621Z\", \"duration\": \"0:02:03\", \"iteration\": \"26\", \"goal\": \"accuracy_max\", \"run_name\": \"StandardScalerWrapper, LightGBM\", \"run_properties\": \"<azureml.automl.runtime.shared.model_wrappers.StandardScalerWrapper object at 0x7f46e4e76e48\", \"primary_metric\": 0.92072588, \"best_metric\": 0.97612225}, {\"run_id\": \"AutoML_e15dc22b-dc6d-4211-a51b-17a7051f686c_27\", \"run_number\": 33, \"metric\": null, \"status\": \"Completed\", \"run_type\": \"azureml.scriptrun\", \"training_percent\": \"100\", \"start_time\": \"2021-03-14T06:45:30.221366Z\", \"end_time\": \"2021-03-14T06:46:18.771077Z\", \"created_time\": \"2021-03-14T06:44:18.071591Z\", \"created_time_dt\": \"2021-03-14T06:44:18.071591Z\", \"duration\": \"0:02:00\", \"iteration\": \"27\", \"goal\": \"accuracy_max\", \"run_name\": \"RobustScaler, GradientBoosting\", \"run_properties\": \"copy=True, quantile_range=[10, 90], with_centering=False,\\n             with_scaling=True\", \"primary_metric\": 0.94460363, \"best_metric\": 0.97612225}, {\"run_id\": \"AutoML_e15dc22b-dc6d-4211-a51b-17a7051f686c_29\", \"run_number\": 34, \"metric\": null, \"status\": \"Completed\", \"run_type\": \"azureml.scriptrun\", \"training_percent\": \"100\", \"start_time\": \"2021-03-14T06:45:36.93417Z\", \"end_time\": \"2021-03-14T06:46:29.378714Z\", \"created_time\": \"2021-03-14T06:44:24.787462Z\", \"created_time_dt\": \"2021-03-14T06:44:24.787462Z\", \"duration\": \"0:02:04\", \"iteration\": \"29\", \"goal\": \"accuracy_max\", \"run_name\": \"StandardScalerWrapper, LightGBM\", \"run_properties\": \"<azureml.automl.runtime.shared.model_wrappers.StandardScalerWrapper object at 0x7f2331964240\", \"primary_metric\": 0.94603629, \"best_metric\": 0.97612225}, {\"run_id\": \"AutoML_e15dc22b-dc6d-4211-a51b-17a7051f686c_30\", \"run_number\": 35, \"metric\": null, \"status\": \"Completed\", \"run_type\": \"azureml.scriptrun\", \"training_percent\": \"100\", \"start_time\": \"2021-03-14T06:45:44.220107Z\", \"end_time\": \"2021-03-14T06:46:31.468239Z\", \"created_time\": \"2021-03-14T06:44:24.799263Z\", \"created_time_dt\": \"2021-03-14T06:44:24.799263Z\", \"duration\": \"0:02:06\", \"iteration\": \"30\", \"goal\": \"accuracy_max\", \"run_name\": \"MaxAbsScaler, ExtremeRandomTrees\", \"run_properties\": \"copy=True\", \"primary_metric\": 0.93075454, \"best_metric\": 0.97612225}, {\"run_id\": \"AutoML_e15dc22b-dc6d-4211-a51b-17a7051f686c_32\", \"run_number\": 36, \"metric\": null, \"status\": \"Completed\", \"run_type\": \"azureml.scriptrun\", \"training_percent\": \"100\", \"start_time\": \"2021-03-14T06:45:42.040964Z\", \"end_time\": \"2021-03-14T06:46:26.890079Z\", \"created_time\": \"2021-03-14T06:44:29.601675Z\", \"created_time_dt\": \"2021-03-14T06:44:29.601675Z\", \"duration\": \"0:01:57\", \"iteration\": \"32\", \"goal\": \"accuracy_max\", \"run_name\": \"MinMaxScaler, LightGBM\", \"run_properties\": \"copy=True, feature_range=(0, 1\", \"primary_metric\": 0.9364852, \"best_metric\": 0.97612225}, {\"run_id\": \"AutoML_e15dc22b-dc6d-4211-a51b-17a7051f686c_31\", \"run_number\": 37, \"metric\": null, \"status\": \"Completed\", \"run_type\": \"azureml.scriptrun\", \"training_percent\": \"100\", \"start_time\": \"2021-03-14T06:45:42.418417Z\", \"end_time\": \"2021-03-14T06:46:31.439259Z\", \"created_time\": \"2021-03-14T06:44:29.619547Z\", \"created_time_dt\": \"2021-03-14T06:44:29.619547Z\", \"duration\": \"0:02:01\", \"iteration\": \"31\", \"goal\": \"accuracy_max\", \"run_name\": \"SparseNormalizer, LightGBM\", \"run_properties\": \"<azureml.automl.runtime.shared.model_wrappers.SparseNormalizer object at 0x7f2697566a58\", \"primary_metric\": 0.95893028, \"best_metric\": 0.97612225}, {\"run_id\": \"AutoML_e15dc22b-dc6d-4211-a51b-17a7051f686c_33\", \"run_number\": 38, \"metric\": null, \"status\": \"Completed\", \"run_type\": \"azureml.scriptrun\", \"training_percent\": \"100\", \"start_time\": \"2021-03-14T06:45:43.285383Z\", \"end_time\": \"2021-03-14T06:46:28.639887Z\", \"created_time\": \"2021-03-14T06:44:29.737087Z\", \"created_time_dt\": \"2021-03-14T06:44:29.737087Z\", \"duration\": \"0:01:58\", \"iteration\": \"33\", \"goal\": \"accuracy_max\", \"run_name\": \"MinMaxScaler, LightGBM\", \"run_properties\": \"copy=True, feature_range=(0, 1\", \"primary_metric\": 0.95463228, \"best_metric\": 0.97612225}, {\"run_id\": \"AutoML_e15dc22b-dc6d-4211-a51b-17a7051f686c_34\", \"run_number\": 39, \"metric\": null, \"status\": \"Completed\", \"run_type\": \"azureml.scriptrun\", \"training_percent\": \"100\", \"start_time\": \"2021-03-14T06:45:59.947467Z\", \"end_time\": \"2021-03-14T06:46:49.736208Z\", \"created_time\": \"2021-03-14T06:44:44.176786Z\", \"created_time_dt\": \"2021-03-14T06:44:44.176786Z\", \"duration\": \"0:02:05\", \"iteration\": \"34\", \"goal\": \"accuracy_max\", \"run_name\": \"MaxAbsScaler, LightGBM\", \"run_properties\": \"copy=True\", \"primary_metric\": 0.94555874, \"best_metric\": 0.97612225}, {\"run_id\": \"AutoML_e15dc22b-dc6d-4211-a51b-17a7051f686c_35\", \"run_number\": 40, \"metric\": null, \"status\": \"Completed\", \"run_type\": \"azureml.scriptrun\", \"training_percent\": \"100\", \"start_time\": \"2021-03-14T06:46:29.818227Z\", \"end_time\": \"2021-03-14T06:47:26.232666Z\", \"created_time\": \"2021-03-14T06:45:17.797038Z\", \"created_time_dt\": \"2021-03-14T06:45:17.797038Z\", \"duration\": \"0:02:08\", \"iteration\": \"35\", \"goal\": \"accuracy_max\", \"run_name\": \"MaxAbsScaler, LightGBM\", \"run_properties\": \"copy=True\", \"primary_metric\": 0.917383, \"best_metric\": 0.97612225}, {\"run_id\": \"AutoML_e15dc22b-dc6d-4211-a51b-17a7051f686c_36\", \"run_number\": 41, \"metric\": null, \"status\": \"Completed\", \"run_type\": \"azureml.scriptrun\", \"training_percent\": \"100\", \"start_time\": \"2021-03-14T06:46:33.825875Z\", \"end_time\": \"2021-03-14T06:47:18.014Z\", \"created_time\": \"2021-03-14T06:45:23.316278Z\", \"created_time_dt\": \"2021-03-14T06:45:23.316278Z\", \"duration\": \"0:01:54\", \"iteration\": \"36\", \"goal\": \"accuracy_max\", \"run_name\": \"MinMaxScaler, LightGBM\", \"run_properties\": \"copy=True, feature_range=(0, 1\", \"primary_metric\": 0.95606495, \"best_metric\": 0.97612225}, {\"run_id\": \"AutoML_e15dc22b-dc6d-4211-a51b-17a7051f686c_38\", \"run_number\": 42, \"metric\": null, \"status\": \"Completed\", \"run_type\": \"azureml.scriptrun\", \"training_percent\": \"100\", \"start_time\": \"2021-03-14T06:46:33.889578Z\", \"end_time\": \"2021-03-14T06:47:18.821931Z\", \"created_time\": \"2021-03-14T06:45:23.44232Z\", \"created_time_dt\": \"2021-03-14T06:45:23.44232Z\", \"duration\": \"0:01:55\", \"iteration\": \"38\", \"goal\": \"accuracy_max\", \"run_name\": \"StandardScalerWrapper, ExtremeRandomTrees\", \"run_properties\": \"<azureml.automl.runtime.shared.model_wrappers.StandardScalerWrapper object at 0x7f9820535e48\", \"primary_metric\": 0.9269341, \"best_metric\": 0.97612225}, {\"run_id\": \"AutoML_e15dc22b-dc6d-4211-a51b-17a7051f686c_37\", \"run_number\": 43, \"metric\": null, \"status\": \"Completed\", \"run_type\": \"azureml.scriptrun\", \"training_percent\": \"100\", \"start_time\": \"2021-03-14T06:46:37.267258Z\", \"end_time\": \"2021-03-14T06:47:34.67452Z\", \"created_time\": \"2021-03-14T06:45:23.587094Z\", \"created_time_dt\": \"2021-03-14T06:45:23.587094Z\", \"duration\": \"0:02:11\", \"iteration\": \"37\", \"goal\": \"accuracy_max\", \"run_name\": \"StandardScalerWrapper, RandomForest\", \"run_properties\": \"<azureml.automl.runtime.shared.model_wrappers.StandardScalerWrapper object at 0x7f052b2a1780\", \"primary_metric\": 0.93361987, \"best_metric\": 0.97612225}, {\"run_id\": \"AutoML_e15dc22b-dc6d-4211-a51b-17a7051f686c_40\", \"run_number\": 44, \"metric\": null, \"status\": \"Completed\", \"run_type\": \"azureml.scriptrun\", \"training_percent\": \"100\", \"start_time\": \"2021-03-14T06:46:40.658601Z\", \"end_time\": \"2021-03-14T06:47:36.960794Z\", \"created_time\": \"2021-03-14T06:45:30.308337Z\", \"created_time_dt\": \"2021-03-14T06:45:30.308337Z\", \"duration\": \"0:02:06\", \"iteration\": \"40\", \"goal\": \"accuracy_max\", \"run_name\": \"SparseNormalizer, LightGBM\", \"run_properties\": \"<azureml.automl.runtime.shared.model_wrappers.SparseNormalizer object at 0x7f93438517f0\", \"primary_metric\": 0.93935053, \"best_metric\": 0.97612225}, {\"run_id\": \"AutoML_e15dc22b-dc6d-4211-a51b-17a7051f686c_39\", \"run_number\": 45, \"metric\": null, \"status\": \"Completed\", \"run_type\": \"azureml.scriptrun\", \"training_percent\": \"100\", \"start_time\": \"2021-03-14T06:46:44.705446Z\", \"end_time\": \"2021-03-14T06:47:33.807867Z\", \"created_time\": \"2021-03-14T06:45:30.377144Z\", \"created_time_dt\": \"2021-03-14T06:45:30.377144Z\", \"duration\": \"0:02:03\", \"iteration\": \"39\", \"goal\": \"accuracy_max\", \"run_name\": \"PCA, LightGBM\", \"run_properties\": \"copy=True, iterated_power='auto', n_components=0.40578947368421053,\\n    random_state=None, svd_solver='auto', tol=0.0, whiten=False\", \"primary_metric\": 0.82282713, \"best_metric\": 0.97612225}, {\"run_id\": \"AutoML_e15dc22b-dc6d-4211-a51b-17a7051f686c_41\", \"run_number\": 46, \"metric\": null, \"status\": \"Completed\", \"run_type\": \"azureml.scriptrun\", \"training_percent\": \"100\", \"start_time\": \"2021-03-14T06:46:46.290013Z\", \"end_time\": \"2021-03-14T06:47:39.091827Z\", \"created_time\": \"2021-03-14T06:45:35.616163Z\", \"created_time_dt\": \"2021-03-14T06:45:35.616163Z\", \"duration\": \"0:02:03\", \"iteration\": \"41\", \"goal\": \"accuracy_max\", \"run_name\": \"StandardScalerWrapper, LightGBM\", \"run_properties\": \"<azureml.automl.runtime.shared.model_wrappers.StandardScalerWrapper object at 0x7fb768707c18\", \"primary_metric\": 0.96418338, \"best_metric\": 0.97612225}, {\"run_id\": \"AutoML_e15dc22b-dc6d-4211-a51b-17a7051f686c_43\", \"run_number\": 47, \"metric\": null, \"status\": \"Completed\", \"run_type\": \"azureml.scriptrun\", \"training_percent\": \"100\", \"start_time\": \"2021-03-14T06:46:45.653834Z\", \"end_time\": \"2021-03-14T06:47:45.740425Z\", \"created_time\": \"2021-03-14T06:45:35.745753Z\", \"created_time_dt\": \"2021-03-14T06:45:35.745753Z\", \"duration\": \"0:02:09\", \"iteration\": \"43\", \"goal\": \"accuracy_max\", \"run_name\": \"RobustScaler, LightGBM\", \"run_properties\": \"copy=True, quantile_range=[10, 90], with_centering=True,\\n             with_scaling=False\", \"primary_metric\": 0.95893028, \"best_metric\": 0.97612225}, {\"run_id\": \"AutoML_e15dc22b-dc6d-4211-a51b-17a7051f686c_42\", \"run_number\": 48, \"metric\": null, \"status\": \"Completed\", \"run_type\": \"azureml.scriptrun\", \"training_percent\": \"100\", \"start_time\": \"2021-03-14T06:46:47.897323Z\", \"end_time\": \"2021-03-14T06:47:43.581352Z\", \"created_time\": \"2021-03-14T06:45:35.74802Z\", \"created_time_dt\": \"2021-03-14T06:45:35.74802Z\", \"duration\": \"0:02:07\", \"iteration\": \"42\", \"goal\": \"accuracy_max\", \"run_name\": \"MaxAbsScaler, LightGBM\", \"run_properties\": \"copy=True\", \"primary_metric\": 0.95415473, \"best_metric\": 0.97612225}, {\"run_id\": \"AutoML_e15dc22b-dc6d-4211-a51b-17a7051f686c_44\", \"run_number\": 49, \"metric\": null, \"status\": \"Completed\", \"run_type\": \"azureml.scriptrun\", \"training_percent\": \"100\", \"start_time\": \"2021-03-14T06:47:04.13267Z\", \"end_time\": \"2021-03-14T06:47:46.341789Z\", \"created_time\": \"2021-03-14T06:45:46.726453Z\", \"created_time_dt\": \"2021-03-14T06:45:46.726453Z\", \"duration\": \"0:01:59\", \"iteration\": \"44\", \"goal\": \"accuracy_max\", \"run_name\": \"MaxAbsScaler, LightGBM\", \"run_properties\": \"copy=True\", \"primary_metric\": 0.96322827, \"best_metric\": 0.97612225}, {\"run_id\": \"AutoML_e15dc22b-dc6d-4211-a51b-17a7051f686c_45\", \"run_number\": 50, \"metric\": null, \"status\": \"Completed\", \"run_type\": \"azureml.scriptrun\", \"training_percent\": \"100\", \"start_time\": \"2021-03-14T06:47:33.01884Z\", \"end_time\": \"2021-03-14T06:48:28.714887Z\", \"created_time\": \"2021-03-14T06:46:20.718148Z\", \"created_time_dt\": \"2021-03-14T06:46:20.718148Z\", \"duration\": \"0:02:07\", \"iteration\": \"45\", \"goal\": \"accuracy_max\", \"run_name\": \"StandardScalerWrapper, LightGBM\", \"run_properties\": \"<azureml.automl.runtime.shared.model_wrappers.StandardScalerWrapper object at 0x7fc0ccab9f60\", \"primary_metric\": 0.63992359, \"best_metric\": 0.97612225}, {\"run_id\": \"AutoML_e15dc22b-dc6d-4211-a51b-17a7051f686c_46\", \"run_number\": 51, \"metric\": null, \"status\": \"Completed\", \"run_type\": \"azureml.scriptrun\", \"training_percent\": \"100\", \"start_time\": \"2021-03-14T06:47:42.083102Z\", \"end_time\": \"2021-03-14T06:48:27.052474Z\", \"created_time\": \"2021-03-14T06:46:27.597158Z\", \"created_time_dt\": \"2021-03-14T06:46:27.597158Z\", \"duration\": \"0:01:59\", \"iteration\": \"46\", \"goal\": \"accuracy_max\", \"run_name\": \"MinMaxScaler, LogisticRegression\", \"run_properties\": \"copy=True, feature_range=(0, 1\", \"primary_metric\": 0.86103152, \"best_metric\": 0.97612225}, {\"run_id\": \"AutoML_e15dc22b-dc6d-4211-a51b-17a7051f686c_47\", \"run_number\": 52, \"metric\": null, \"status\": \"Completed\", \"run_type\": \"azureml.scriptrun\", \"training_percent\": \"100\", \"start_time\": \"2021-03-14T06:47:34.320672Z\", \"end_time\": \"2021-03-14T06:48:17.865625Z\", \"created_time\": \"2021-03-14T06:46:27.717313Z\", \"created_time_dt\": \"2021-03-14T06:46:27.717313Z\", \"duration\": \"0:01:50\", \"iteration\": \"47\", \"goal\": \"accuracy_max\", \"run_name\": \"StandardScalerWrapper, LightGBM\", \"run_properties\": \"<azureml.automl.runtime.shared.model_wrappers.StandardScalerWrapper object at 0x7f0b185e2b70\", \"primary_metric\": 0.96275072, \"best_metric\": 0.97612225}, {\"run_id\": \"AutoML_e15dc22b-dc6d-4211-a51b-17a7051f686c_48\", \"run_number\": 53, \"metric\": null, \"status\": \"Canceled\", \"run_type\": \"azureml.scriptrun\", \"training_percent\": \"100\", \"start_time\": \"2021-03-14T06:47:50.307375Z\", \"end_time\": \"2021-03-14T06:48:42.0078Z\", \"created_time\": \"2021-03-14T06:46:27.760691Z\", \"created_time_dt\": \"2021-03-14T06:46:27.760691Z\", \"duration\": \"0:02:14\", \"iteration\": \"48\", \"goal\": \"accuracy_max\", \"run_name\": \"MaxAbsScaler, LightGBM\", \"run_properties\": \"copy=True\", \"primary_metric\": 0.9608405, \"best_metric\": 0.97612225}, {\"run_id\": \"AutoML_e15dc22b-dc6d-4211-a51b-17a7051f686c_50\", \"run_number\": 54, \"metric\": null, \"status\": \"Canceled\", \"run_type\": \"azureml.scriptrun\", \"training_percent\": \"100\", \"start_time\": \"2021-03-14T06:47:49.931521Z\", \"end_time\": \"2021-03-14T06:48:49.794072Z\", \"created_time\": \"2021-03-14T06:46:33.585854Z\", \"created_time_dt\": \"2021-03-14T06:46:33.585854Z\", \"duration\": \"0:02:16\", \"iteration\": \"50\", \"goal\": \"accuracy_max\", \"run_name\": \"MaxAbsScaler, RandomForest\", \"run_properties\": \"copy=True\", \"primary_metric\": 0.95319962, \"best_metric\": 0.97612225}, {\"run_id\": \"AutoML_e15dc22b-dc6d-4211-a51b-17a7051f686c_49\", \"run_number\": 55, \"metric\": null, \"status\": \"Completed\", \"run_type\": \"azureml.scriptrun\", \"training_percent\": \"100\", \"start_time\": \"2021-03-14T06:47:51.727906Z\", \"end_time\": \"2021-03-14T06:48:37.871093Z\", \"created_time\": \"2021-03-14T06:46:33.597185Z\", \"created_time_dt\": \"2021-03-14T06:46:33.597185Z\", \"duration\": \"0:02:04\", \"iteration\": \"49\", \"goal\": \"accuracy_max\", \"run_name\": \"MaxAbsScaler, LightGBM\", \"run_properties\": \"copy=True\", \"primary_metric\": 0.94508118, \"best_metric\": 0.97612225}, {\"run_id\": \"AutoML_e15dc22b-dc6d-4211-a51b-17a7051f686c_51\", \"run_number\": 56, \"metric\": null, \"status\": \"Canceled\", \"run_type\": \"azureml.scriptrun\", \"training_percent\": \"100\", \"start_time\": \"2021-03-14T06:47:51.263212Z\", \"end_time\": \"2021-03-14T06:48:41.709571Z\", \"created_time\": \"2021-03-14T06:46:33.747794Z\", \"created_time_dt\": \"2021-03-14T06:46:33.747794Z\", \"duration\": \"0:02:07\", \"iteration\": \"51\", \"goal\": \"accuracy_max\", \"run_name\": \"StandardScalerWrapper, LightGBM\", \"run_properties\": \"<azureml.automl.runtime.shared.model_wrappers.StandardScalerWrapper object at 0x7f09acf269e8\", \"primary_metric\": 0.96752627, \"best_metric\": 0.97612225}, {\"run_id\": \"AutoML_e15dc22b-dc6d-4211-a51b-17a7051f686c_52\", \"run_number\": 57, \"metric\": null, \"status\": \"Canceled\", \"run_type\": \"azureml.scriptrun\", \"training_percent\": \"100\", \"start_time\": \"2021-03-14T06:47:59.268324Z\", \"end_time\": \"2021-03-14T06:48:46.654768Z\", \"created_time\": \"2021-03-14T06:46:38.425144Z\", \"created_time_dt\": \"2021-03-14T06:46:38.425144Z\", \"duration\": \"0:02:08\", \"iteration\": \"52\", \"goal\": \"accuracy_max\", \"run_name\": \"StandardScalerWrapper, LightGBM\", \"run_properties\": \"<azureml.automl.runtime.shared.model_wrappers.StandardScalerWrapper object at 0x7f1cae9b2c50\", \"primary_metric\": 0.9660936, \"best_metric\": 0.97612225}, {\"run_id\": \"AutoML_e15dc22b-dc6d-4211-a51b-17a7051f686c_53\", \"run_number\": 58, \"metric\": null, \"status\": \"Canceled\", \"run_type\": \"azureml.scriptrun\", \"training_percent\": \"100\", \"start_time\": \"2021-03-14T06:47:59.595346Z\", \"end_time\": \"2021-03-14T06:48:48.154862Z\", \"created_time\": \"2021-03-14T06:46:38.437292Z\", \"created_time_dt\": \"2021-03-14T06:46:38.437292Z\", \"duration\": \"0:02:09\", \"iteration\": \"53\", \"goal\": \"accuracy_max\", \"run_name\": \"StandardScalerWrapper, LightGBM\", \"run_properties\": \"<azureml.automl.runtime.shared.model_wrappers.StandardScalerWrapper object at 0x7f753a7424e0\", \"primary_metric\": 0.95845272, \"best_metric\": 0.97612225}, {\"run_id\": \"AutoML_e15dc22b-dc6d-4211-a51b-17a7051f686c_54\", \"run_number\": 59, \"metric\": null, \"status\": \"Canceled\", \"run_type\": \"azureml.scriptrun\", \"training_percent\": \"100\", \"start_time\": \"2021-03-14T06:48:03.564897Z\", \"end_time\": \"2021-03-14T06:48:49.616908Z\", \"created_time\": \"2021-03-14T06:46:52.103456Z\", \"created_time_dt\": \"2021-03-14T06:46:52.103456Z\", \"duration\": \"0:01:57\", \"iteration\": \"54\", \"goal\": \"accuracy_max\", \"run_name\": \"StandardScalerWrapper, LightGBM\", \"run_properties\": \"<azureml.automl.runtime.shared.model_wrappers.StandardScalerWrapper object at 0x7fa365a807f0\", \"primary_metric\": 0.95797517, \"best_metric\": 0.97612225}, {\"run_id\": \"AutoML_e15dc22b-dc6d-4211-a51b-17a7051f686c_55\", \"run_number\": 60, \"metric\": null, \"status\": \"Canceled\", \"run_type\": \"azureml.scriptrun\", \"training_percent\": \"100\", \"start_time\": \"2021-03-14T06:48:31.617129Z\", \"end_time\": \"2021-03-14T06:48:46.616513Z\", \"created_time\": \"2021-03-14T06:47:22.419982Z\", \"created_time_dt\": \"2021-03-14T06:47:22.419982Z\", \"duration\": \"0:01:24\", \"iteration\": \"55\", \"goal\": null, \"run_name\": \"Canceled\", \"run_properties\": null}, {\"run_id\": \"AutoML_e15dc22b-dc6d-4211-a51b-17a7051f686c_56\", \"run_number\": 61, \"metric\": null, \"status\": \"Canceled\", \"run_type\": \"azureml.scriptrun\", \"training_percent\": \"100\", \"start_time\": \"2021-03-14T06:47:22.558742Z\", \"end_time\": \"2021-03-14T06:48:48.217087Z\", \"created_time\": \"2021-03-14T06:47:22.558742Z\", \"created_time_dt\": \"2021-03-14T06:47:22.558742Z\", \"duration\": \"0:01:25\", \"iteration\": \"56\", \"goal\": null, \"run_name\": \"Canceled\", \"run_properties\": null}, {\"run_id\": \"AutoML_e15dc22b-dc6d-4211-a51b-17a7051f686c_57\", \"run_number\": 62, \"metric\": null, \"status\": \"Canceled\", \"run_type\": \"azureml.scriptrun\", \"training_percent\": \"100\", \"start_time\": \"2021-03-14T06:47:28.868976Z\", \"end_time\": \"2021-03-14T06:48:47.17741Z\", \"created_time\": \"2021-03-14T06:47:28.868976Z\", \"created_time_dt\": \"2021-03-14T06:47:28.868976Z\", \"duration\": \"0:01:18\", \"iteration\": \"57\", \"goal\": null, \"run_name\": \"Canceled\", \"run_properties\": null}, {\"run_id\": \"AutoML_e15dc22b-dc6d-4211-a51b-17a7051f686c_58\", \"run_number\": 63, \"metric\": null, \"status\": \"Canceled\", \"run_type\": \"azureml.scriptrun\", \"training_percent\": \"100\", \"start_time\": \"2021-03-14T06:47:36.34801Z\", \"end_time\": \"2021-03-14T06:48:48.322513Z\", \"created_time\": \"2021-03-14T06:47:36.34801Z\", \"created_time_dt\": \"2021-03-14T06:47:36.34801Z\", \"duration\": \"0:01:11\", \"iteration\": \"58\", \"goal\": null, \"run_name\": \"Canceled\", \"run_properties\": null}, {\"run_id\": \"AutoML_e15dc22b-dc6d-4211-a51b-17a7051f686c_59\", \"run_number\": 64, \"metric\": null, \"status\": \"Canceled\", \"run_type\": \"azureml.scriptrun\", \"training_percent\": \"100\", \"start_time\": \"2021-03-14T06:47:42.180657Z\", \"end_time\": \"2021-03-14T06:48:48.93111Z\", \"created_time\": \"2021-03-14T06:47:42.180657Z\", \"created_time_dt\": \"2021-03-14T06:47:42.180657Z\", \"duration\": \"0:01:06\", \"iteration\": \"59\", \"goal\": null, \"run_name\": \"Canceled\", \"run_properties\": null}, {\"run_id\": \"AutoML_e15dc22b-dc6d-4211-a51b-17a7051f686c_60\", \"run_number\": 65, \"metric\": null, \"status\": \"Canceled\", \"run_type\": \"azureml.scriptrun\", \"training_percent\": \"100\", \"start_time\": \"2021-03-14T06:47:42.363127Z\", \"end_time\": \"2021-03-14T06:48:47.042323Z\", \"created_time\": \"2021-03-14T06:47:42.363127Z\", \"created_time_dt\": \"2021-03-14T06:47:42.363127Z\", \"duration\": \"0:01:04\", \"iteration\": \"60\", \"goal\": null, \"run_name\": \"Canceled\", \"run_properties\": null}, {\"run_id\": \"AutoML_e15dc22b-dc6d-4211-a51b-17a7051f686c_61\", \"run_number\": 66, \"metric\": null, \"status\": \"Canceled\", \"run_type\": \"azureml.scriptrun\", \"training_percent\": \"100\", \"start_time\": \"2021-03-14T06:47:42.372384Z\", \"end_time\": \"2021-03-14T06:48:47.02774Z\", \"created_time\": \"2021-03-14T06:47:42.372384Z\", \"created_time_dt\": \"2021-03-14T06:47:42.372384Z\", \"duration\": \"0:01:04\", \"iteration\": \"61\", \"goal\": null, \"run_name\": \"Canceled\", \"run_properties\": null}, {\"run_id\": \"AutoML_e15dc22b-dc6d-4211-a51b-17a7051f686c_63\", \"run_number\": 67, \"metric\": null, \"status\": \"Canceled\", \"run_type\": \"azureml.scriptrun\", \"training_percent\": \"100\", \"start_time\": \"2021-03-14T06:47:49.021404Z\", \"end_time\": \"2021-03-14T06:48:47.686954Z\", \"created_time\": \"2021-03-14T06:47:49.021404Z\", \"created_time_dt\": \"2021-03-14T06:47:49.021404Z\", \"duration\": \"0:00:58\", \"iteration\": \"63\", \"goal\": null, \"run_name\": \"Canceled\", \"run_properties\": null}, {\"run_id\": \"AutoML_e15dc22b-dc6d-4211-a51b-17a7051f686c_62\", \"run_number\": 68, \"metric\": null, \"status\": \"Canceled\", \"run_type\": \"azureml.scriptrun\", \"training_percent\": \"100\", \"start_time\": \"2021-03-14T06:47:49.05186Z\", \"end_time\": \"2021-03-14T06:48:47.433455Z\", \"created_time\": \"2021-03-14T06:47:49.05186Z\", \"created_time_dt\": \"2021-03-14T06:47:49.05186Z\", \"duration\": \"0:00:58\", \"iteration\": \"62\", \"goal\": null, \"run_name\": \"Canceled\", \"run_properties\": null}, {\"run_id\": \"AutoML_e15dc22b-dc6d-4211-a51b-17a7051f686c_64\", \"run_number\": 69, \"metric\": null, \"status\": \"Canceled\", \"run_type\": \"azureml.scriptrun\", \"training_percent\": \"100\", \"start_time\": \"2021-03-14T06:47:54.646356Z\", \"end_time\": \"2021-03-14T06:48:46.454864Z\", \"created_time\": \"2021-03-14T06:47:54.646356Z\", \"created_time_dt\": \"2021-03-14T06:47:54.646356Z\", \"duration\": \"0:00:51\", \"iteration\": \"64\", \"goal\": null, \"run_name\": \"Canceled\", \"run_properties\": null}, {\"run_id\": \"AutoML_e15dc22b-dc6d-4211-a51b-17a7051f686c_65\", \"run_number\": 70, \"metric\": null, \"status\": \"Canceled\", \"run_type\": \"azureml.scriptrun\", \"training_percent\": \"100\", \"start_time\": \"2021-03-14T06:48:21.248872Z\", \"end_time\": \"2021-03-14T06:48:47.18465Z\", \"created_time\": \"2021-03-14T06:48:21.248872Z\", \"created_time_dt\": \"2021-03-14T06:48:21.248872Z\", \"duration\": \"0:00:25\", \"iteration\": \"65\", \"goal\": null, \"run_name\": \"Canceled\", \"run_properties\": null}, {\"run_id\": \"AutoML_e15dc22b-dc6d-4211-a51b-17a7051f686c_66\", \"run_number\": 71, \"metric\": null, \"status\": \"Canceled\", \"run_type\": \"azureml.scriptrun\", \"training_percent\": \"100\", \"start_time\": \"2021-03-14T06:48:30.039957Z\", \"end_time\": \"2021-03-14T06:48:48.019707Z\", \"created_time\": \"2021-03-14T06:48:30.039957Z\", \"created_time_dt\": \"2021-03-14T06:48:30.039957Z\", \"duration\": \"0:00:17\", \"iteration\": \"66\", \"goal\": null, \"run_name\": \"Canceled\", \"run_properties\": null}, {\"run_id\": \"AutoML_e15dc22b-dc6d-4211-a51b-17a7051f686c_67\", \"run_number\": 72, \"metric\": null, \"status\": \"Canceled\", \"run_type\": \"azureml.scriptrun\", \"training_percent\": \"100\", \"start_time\": \"2021-03-14T06:48:36.337189Z\", \"end_time\": \"2021-03-14T06:50:24.991594Z\", \"created_time\": \"2021-03-14T06:48:36.337189Z\", \"created_time_dt\": \"2021-03-14T06:48:36.337189Z\", \"duration\": \"0:01:48\", \"iteration\": \"67\", \"goal\": \"accuracy_max\", \"run_name\": \"RobustScaler, SVM\", \"run_properties\": \"copy=True, quantile_range=[10, 90], with_centering=True,\\n             with_scaling=True\", \"primary_metric\": 0.94078319, \"best_metric\": 0.97612225}, {\"run_id\": \"AutoML_e15dc22b-dc6d-4211-a51b-17a7051f686c_68\", \"run_number\": 73, \"metric\": null, \"status\": \"Completed\", \"run_type\": \"azureml.scriptrun\", \"training_percent\": \"100\", \"start_time\": \"2021-03-14T06:50:37.504219Z\", \"end_time\": \"2021-03-14T06:52:07.514296Z\", \"created_time\": \"2021-03-14T06:50:26.266487Z\", \"created_time_dt\": \"2021-03-14T06:50:26.266487Z\", \"duration\": \"0:01:41\", \"iteration\": \"68\", \"goal\": \"accuracy_max\", \"run_name\": \"VotingEnsemble\", \"run_properties\": \"classification_labels=None,\\n                              estimators=[('0',\\n                                           Pipeline(memory=None,\\n                                                    steps=[('maxabsscaler',\\n                                                            MaxAbsScaler(copy=True\", \"primary_metric\": 0.97707736, \"best_metric\": 0.97707736}], \"children_metrics\": {\"categories\": [0], \"series\": {\"precision_score_micro\": [{\"categories\": [\"0\", \"1\", \"2\", \"3\", \"4\", \"5\", \"6\", \"7\", \"8\", \"9\", \"10\", \"11\", \"12\", \"13\", \"14\", \"15\", \"16\", \"17\", \"18\", \"19\", \"20\", \"21\", \"22\", \"23\", \"24\", \"25\", \"26\", \"27\", \"28\", \"29\", \"30\", \"31\", \"32\", \"33\", \"34\", \"35\", \"36\", \"37\", \"38\", \"39\", \"40\", \"41\", \"42\", \"43\", \"44\", \"45\", \"46\", \"47\", \"48\", \"49\", \"50\", \"51\", \"52\", \"53\", \"54\", \"67\", \"68\"], \"mode\": \"markers\", \"name\": \"precision_score_micro\", \"stepped\": false, \"type\": \"scatter\", \"data\": [0.9761222540592168, 0.9450811843361987, 0.9336198662846228, 0.9565425023877746, 0.8724928366762178, 0.938872970391595, 0.9622731614135626, 0.9250238777459407, 0.9441260744985674, 0.9641833810888253, 0.9617956064947469, 0.8677172874880611, 0.897803247373448, 0.943170964660936, 0.9665711556829035, 0.925978987583572, 0.9660936007640878, 0.9450811843361987, 0.9149952244508118, 0.943170964660936, 0.9584527220630372, 0.943170964660936, 0.9436485195797517, 0.9102196752626552, 0.9589302769818527, 0.9307545367717287, 0.9207258834765999, 0.944603629417383, 0.9317096466093601, 0.9460362941738301, 0.9307545367717288, 0.9589302769818527, 0.9364851957975167, 0.9546322827125119, 0.9455587392550143, 0.9173829990448902, 0.9560649474689589, 0.9336198662846228, 0.9269340974212034, 0.8228271251193888, 0.9393505253104107, 0.9641833810888252, 0.9541547277936963, 0.958930276981853, 0.9632282712511939, 0.6399235912129895, 0.8610315186246419, 0.9627507163323782, 0.9608404966571156, 0.9450811843361987, 0.953199617956065, 0.9675262655205348, 0.9660936007640878, 0.9584527220630372, 0.9579751671442217, 0.9407831900668576, 0.9770773638968482]}, {\"categories\": [\"0\", \"1\", \"2\", \"3\", \"4\", \"5\", \"6\", \"7\", \"8\", \"9\", \"10\", \"11\", \"12\", \"13\", \"14\", \"15\", \"16\", \"17\", \"18\", \"19\", \"20\", \"21\", \"22\", \"23\", \"24\", \"25\", \"26\", \"27\", \"28\", \"29\", \"30\", \"31\", \"32\", \"33\", \"34\", \"35\", \"36\", \"37\", \"38\", \"39\", \"40\", \"41\", \"42\", \"43\", \"44\", \"45\", \"46\", \"47\", \"48\", \"49\", \"50\", \"51\", \"52\", \"53\", \"54\", \"67\", \"68\"], \"mode\": \"lines\", \"name\": \"precision_score_micro_max\", \"stepped\": true, \"type\": \"scatter\", \"data\": [0.9761222540592168, 0.9761222540592168, 0.9761222540592168, 0.9761222540592168, 0.9761222540592168, 0.9761222540592168, 0.9761222540592168, 0.9761222540592168, 0.9761222540592168, 0.9761222540592168, 0.9761222540592168, 0.9761222540592168, 0.9761222540592168, 0.9761222540592168, 0.9761222540592168, 0.9761222540592168, 0.9761222540592168, 0.9761222540592168, 0.9761222540592168, 0.9761222540592168, 0.9761222540592168, 0.9761222540592168, 0.9761222540592168, 0.9761222540592168, 0.9761222540592168, 0.9761222540592168, 0.9761222540592168, 0.9761222540592168, 0.9761222540592168, 0.9761222540592168, 0.9761222540592168, 0.9761222540592168, 0.9761222540592168, 0.9761222540592168, 0.9761222540592168, 0.9761222540592168, 0.9761222540592168, 0.9761222540592168, 0.9761222540592168, 0.9761222540592168, 0.9761222540592168, 0.9761222540592168, 0.9761222540592168, 0.9761222540592168, 0.9761222540592168, 0.9761222540592168, 0.9761222540592168, 0.9761222540592168, 0.9761222540592168, 0.9761222540592168, 0.9761222540592168, 0.9761222540592168, 0.9761222540592168, 0.9761222540592168, 0.9761222540592168, 0.9761222540592168, 0.9770773638968482]}], \"balanced_accuracy\": [{\"categories\": [\"0\", \"1\", \"2\", \"3\", \"4\", \"5\", \"6\", \"7\", \"8\", \"9\", \"10\", \"11\", \"12\", \"13\", \"14\", \"15\", \"16\", \"17\", \"18\", \"19\", \"20\", \"21\", \"22\", \"23\", \"24\", \"25\", \"26\", \"27\", \"28\", \"29\", \"30\", \"31\", \"32\", \"33\", \"34\", \"35\", \"36\", \"37\", \"38\", \"39\", \"40\", \"41\", \"42\", \"43\", \"44\", \"45\", \"46\", \"47\", \"48\", \"49\", \"50\", \"51\", \"52\", \"53\", \"54\", \"67\", \"68\"], \"mode\": \"markers\", \"name\": \"balanced_accuracy\", \"stepped\": false, \"type\": \"scatter\", \"data\": [0.9697746651882442, 0.9255625522528947, 0.9123301633666756, 0.9442582616243457, 0.8812702865659251, 0.915295742455109, 0.9537303043891985, 0.9026489002507132, 0.9227669806309509, 0.954959725275273, 0.9490975669408886, 0.870064962883086, 0.9117064560869933, 0.9250311693386708, 0.9560606321892532, 0.9079056186305933, 0.9553018463201887, 0.9250045283156388, 0.9225706181980474, 0.9248544161880082, 0.9452997725081528, 0.9228367712432514, 0.9246185475032546, 0.8950579045563272, 0.9462047394605947, 0.9084364475385934, 0.9052387746512379, 0.9242624719100366, 0.9111051819649266, 0.9263547401643576, 0.9088047422438487, 0.9475523482259948, 0.9120857817804938, 0.9382994843041471, 0.9281429789100398, 0.8856569547682119, 0.9419123314499681, 0.9092650314109711, 0.9033428533147779, 0.8168981856498091, 0.9167997530437372, 0.9526848937200443, 0.9392975861319419, 0.9450053236112484, 0.951016399336439, 0.5, 0.8639216164430378, 0.949370798448688, 0.9481254913315693, 0.9267601128776972, 0.9368732135346716, 0.9577704194015162, 0.9563506063014143, 0.9466863160422477, 0.9442841399035314, 0.9220779881323414, 0.9699436277983383]}, {\"categories\": [\"0\", \"1\", \"2\", \"3\", \"4\", \"5\", \"6\", \"7\", \"8\", \"9\", \"10\", \"11\", \"12\", \"13\", \"14\", \"15\", \"16\", \"17\", \"18\", \"19\", \"20\", \"21\", \"22\", \"23\", \"24\", \"25\", \"26\", \"27\", \"28\", \"29\", \"30\", \"31\", \"32\", \"33\", \"34\", \"35\", \"36\", \"37\", \"38\", \"39\", \"40\", \"41\", \"42\", \"43\", \"44\", \"45\", \"46\", \"47\", \"48\", \"49\", \"50\", \"51\", \"52\", \"53\", \"54\", \"67\", \"68\"], \"mode\": \"lines\", \"name\": \"balanced_accuracy_max\", \"stepped\": true, \"type\": \"scatter\", \"data\": [0.9697746651882442, 0.9697746651882442, 0.9697746651882442, 0.9697746651882442, 0.9697746651882442, 0.9697746651882442, 0.9697746651882442, 0.9697746651882442, 0.9697746651882442, 0.9697746651882442, 0.9697746651882442, 0.9697746651882442, 0.9697746651882442, 0.9697746651882442, 0.9697746651882442, 0.9697746651882442, 0.9697746651882442, 0.9697746651882442, 0.9697746651882442, 0.9697746651882442, 0.9697746651882442, 0.9697746651882442, 0.9697746651882442, 0.9697746651882442, 0.9697746651882442, 0.9697746651882442, 0.9697746651882442, 0.9697746651882442, 0.9697746651882442, 0.9697746651882442, 0.9697746651882442, 0.9697746651882442, 0.9697746651882442, 0.9697746651882442, 0.9697746651882442, 0.9697746651882442, 0.9697746651882442, 0.9697746651882442, 0.9697746651882442, 0.9697746651882442, 0.9697746651882442, 0.9697746651882442, 0.9697746651882442, 0.9697746651882442, 0.9697746651882442, 0.9697746651882442, 0.9697746651882442, 0.9697746651882442, 0.9697746651882442, 0.9697746651882442, 0.9697746651882442, 0.9697746651882442, 0.9697746651882442, 0.9697746651882442, 0.9697746651882442, 0.9697746651882442, 0.9699436277983383]}], \"precision_score_macro\": [{\"categories\": [\"0\", \"1\", \"2\", \"3\", \"4\", \"5\", \"6\", \"7\", \"8\", \"9\", \"10\", \"11\", \"12\", \"13\", \"14\", \"15\", \"16\", \"17\", \"18\", \"19\", \"20\", \"21\", \"22\", \"23\", \"24\", \"25\", \"26\", \"27\", \"28\", \"29\", \"30\", \"31\", \"32\", \"33\", \"34\", \"35\", \"36\", \"37\", \"38\", \"39\", \"40\", \"41\", \"42\", \"43\", \"44\", \"45\", \"46\", \"47\", \"48\", \"49\", \"50\", \"51\", \"52\", \"53\", \"54\", \"67\", \"68\"], \"mode\": \"markers\", \"name\": \"precision_score_macro\", \"stepped\": false, \"type\": \"scatter\", \"data\": [0.9787478148347556, 0.9582636532187768, 0.946118436799, 0.9625109789500019, 0.862034224217597, 0.9564390551777234, 0.964698564644797, 0.9365893976182457, 0.9598709560454018, 0.9678911039704244, 0.9693725331227322, 0.8538050194629033, 0.88592510628084, 0.9532918309147007, 0.9724052240048686, 0.9319601537986953, 0.9721286911421458, 0.9596788674591217, 0.9028310715267818, 0.9536056538973829, 0.9657293125541542, 0.9569386551716761, 0.9553850517831783, 0.9122932556410127, 0.9658759024046374, 0.9435575904801067, 0.9230226223993893, 0.9589988977842075, 0.9428527861629127, 0.9597563382486979, 0.9430660572566391, 0.9642496758985327, 0.9548580729732549, 0.9661569559262206, 0.955905994967997, 0.94288603011474, 0.9641342715885236, 0.9508829087836741, 0.9410046687565453, 0.807796106518519, 0.9558034729797905, 0.970706454065462, 0.9633857176227968, 0.9674164104854127, 0.9708531675647233, 0.31996179560649474, 0.8470442516292923, 0.9712236519257035, 0.9683262624792072, 0.9564314157575632, 0.9637975279530228, 0.9727454195931403, 0.9709349140906571, 0.9642972873726987, 0.9657855088438477, 0.9510829856618246, 0.9808513179833582]}, {\"categories\": [\"0\", \"1\", \"2\", \"3\", \"4\", \"5\", \"6\", \"7\", \"8\", \"9\", \"10\", \"11\", \"12\", \"13\", \"14\", \"15\", \"16\", \"17\", \"18\", \"19\", \"20\", \"21\", \"22\", \"23\", \"24\", \"25\", \"26\", \"27\", \"28\", \"29\", \"30\", \"31\", \"32\", \"33\", \"34\", \"35\", \"36\", \"37\", \"38\", \"39\", \"40\", \"41\", \"42\", \"43\", \"44\", \"45\", \"46\", \"47\", \"48\", \"49\", \"50\", \"51\", \"52\", \"53\", \"54\", \"67\", \"68\"], \"mode\": \"lines\", \"name\": \"precision_score_macro_max\", \"stepped\": true, \"type\": \"scatter\", \"data\": [0.9787478148347556, 0.9787478148347556, 0.9787478148347556, 0.9787478148347556, 0.9787478148347556, 0.9787478148347556, 0.9787478148347556, 0.9787478148347556, 0.9787478148347556, 0.9787478148347556, 0.9787478148347556, 0.9787478148347556, 0.9787478148347556, 0.9787478148347556, 0.9787478148347556, 0.9787478148347556, 0.9787478148347556, 0.9787478148347556, 0.9787478148347556, 0.9787478148347556, 0.9787478148347556, 0.9787478148347556, 0.9787478148347556, 0.9787478148347556, 0.9787478148347556, 0.9787478148347556, 0.9787478148347556, 0.9787478148347556, 0.9787478148347556, 0.9787478148347556, 0.9787478148347556, 0.9787478148347556, 0.9787478148347556, 0.9787478148347556, 0.9787478148347556, 0.9787478148347556, 0.9787478148347556, 0.9787478148347556, 0.9787478148347556, 0.9787478148347556, 0.9787478148347556, 0.9787478148347556, 0.9787478148347556, 0.9787478148347556, 0.9787478148347556, 0.9787478148347556, 0.9787478148347556, 0.9787478148347556, 0.9787478148347556, 0.9787478148347556, 0.9787478148347556, 0.9787478148347556, 0.9787478148347556, 0.9787478148347556, 0.9787478148347556, 0.9787478148347556, 0.9808513179833582]}], \"AUC_micro\": [{\"categories\": [\"0\", \"1\", \"2\", \"3\", \"4\", \"5\", \"6\", \"7\", \"8\", \"9\", \"10\", \"11\", \"12\", \"13\", \"14\", \"15\", \"16\", \"17\", \"18\", \"19\", \"20\", \"21\", \"22\", \"23\", \"24\", \"25\", \"26\", \"27\", \"28\", \"29\", \"30\", \"31\", \"32\", \"33\", \"34\", \"35\", \"36\", \"37\", \"38\", \"39\", \"40\", \"41\", \"42\", \"43\", \"44\", \"45\", \"46\", \"47\", \"48\", \"49\", \"50\", \"51\", \"52\", \"53\", \"54\", \"67\", \"68\"], \"mode\": \"markers\", \"name\": \"AUC_micro\", \"stepped\": false, \"type\": \"scatter\", \"data\": [0.991222020618331, 0.9805187696871673, 0.9764424484746977, 0.9863636861218984, 0.9604279384679381, 0.9753546084733843, 0.9904003251204833, 0.9773376929034517, 0.9731467721939885, 0.9846067218933615, 0.9840997474021834, 0.9396426685057321, 0.9600769561278918, 0.9817537075502938, 0.9890757601880663, 0.9795944477741014, 0.9887398297222519, 0.9744357599691299, 0.9675645793822163, 0.981209787549637, 0.9865265200340447, 0.9813996464177909, 0.9860989099706351, 0.9669768721110664, 0.9823605717522845, 0.9754633924735155, 0.9700987676620061, 0.9763528214054071, 0.9690506098745768, 0.9755571245994149, 0.9684088526914119, 0.9879153975199985, 0.9772422503372988, 0.9843809437798815, 0.9745212819818119, 0.9677623062755369, 0.9835394071750917, 0.9732665030117431, 0.9626768253134211, 0.8898100179801479, 0.9730838279926547, 0.9876663574190688, 0.9838500231251522, 0.9850630673530322, 0.9823181528339942, 0.8535555263640419, 0.9180254404041565, 0.9883471126400166, 0.9861953788009403, 0.9785394482256576, 0.984303631880417, 0.9890107634584281, 0.9882821159103785, 0.9761530419837824, 0.986032544888794, 0.9816305558520318, 0.9935701129985249]}, {\"categories\": [\"0\", \"1\", \"2\", \"3\", \"4\", \"5\", \"6\", \"7\", \"8\", \"9\", \"10\", \"11\", \"12\", \"13\", \"14\", \"15\", \"16\", \"17\", \"18\", \"19\", \"20\", \"21\", \"22\", \"23\", \"24\", \"25\", \"26\", \"27\", \"28\", \"29\", \"30\", \"31\", \"32\", \"33\", \"34\", \"35\", \"36\", \"37\", \"38\", \"39\", \"40\", \"41\", \"42\", \"43\", \"44\", \"45\", \"46\", \"47\", \"48\", \"49\", \"50\", \"51\", \"52\", \"53\", \"54\", \"67\", \"68\"], \"mode\": \"lines\", \"name\": \"AUC_micro_max\", \"stepped\": true, \"type\": \"scatter\", \"data\": [0.991222020618331, 0.991222020618331, 0.991222020618331, 0.991222020618331, 0.991222020618331, 0.991222020618331, 0.991222020618331, 0.991222020618331, 0.991222020618331, 0.991222020618331, 0.991222020618331, 0.991222020618331, 0.991222020618331, 0.991222020618331, 0.991222020618331, 0.991222020618331, 0.991222020618331, 0.991222020618331, 0.991222020618331, 0.991222020618331, 0.991222020618331, 0.991222020618331, 0.991222020618331, 0.991222020618331, 0.991222020618331, 0.991222020618331, 0.991222020618331, 0.991222020618331, 0.991222020618331, 0.991222020618331, 0.991222020618331, 0.991222020618331, 0.991222020618331, 0.991222020618331, 0.991222020618331, 0.991222020618331, 0.991222020618331, 0.991222020618331, 0.991222020618331, 0.991222020618331, 0.991222020618331, 0.991222020618331, 0.991222020618331, 0.991222020618331, 0.991222020618331, 0.991222020618331, 0.991222020618331, 0.991222020618331, 0.991222020618331, 0.991222020618331, 0.991222020618331, 0.991222020618331, 0.991222020618331, 0.991222020618331, 0.991222020618331, 0.991222020618331, 0.9935701129985249]}], \"log_loss\": [{\"categories\": [\"0\", \"1\", \"2\", \"3\", \"4\", \"5\", \"6\", \"7\", \"8\", \"9\", \"10\", \"11\", \"12\", \"13\", \"14\", \"15\", \"16\", \"17\", \"18\", \"19\", \"20\", \"21\", \"22\", \"23\", \"24\", \"25\", \"26\", \"27\", \"28\", \"29\", \"30\", \"31\", \"32\", \"33\", \"34\", \"35\", \"36\", \"37\", \"38\", \"39\", \"40\", \"41\", \"42\", \"43\", \"44\", \"45\", \"46\", \"47\", \"48\", \"49\", \"50\", \"51\", \"52\", \"53\", \"54\", \"67\", \"68\"], \"mode\": \"markers\", \"name\": \"log_loss\", \"stepped\": false, \"type\": \"scatter\", \"data\": [0.11343422116512797, 0.2268679253883079, 0.1995847024352467, 0.1484532639798839, 0.274065997101605, 0.2182929329857125, 0.11851972944854905, 0.4203205881479339, 0.30988449843787347, 0.47958814025545693, 0.143887505908131, 0.33249017568606287, 0.2574207348487964, 0.3273807999650494, 0.11554256960146309, 0.19594452908587004, 0.11558863208945518, 0.2855098869673496, 0.22667428171454104, 0.3965202794855225, 0.13334592519271804, 0.1727561228387066, 0.15235975128558832, 0.25855145612467373, 0.14911822003611416, 0.3447935254754137, 0.23832384769685397, 0.20635518304227177, 0.29388852223954415, 0.19302927970178577, 0.2958164264462126, 0.12635541638107253, 0.19935320956308353, 0.15090685857520628, 0.20138502127897562, 0.2965549153505796, 0.14906288242711432, 0.2117781568899155, 0.31571748310351005, 0.4681311500353098, 0.252753147477514, 0.12034172664758654, 0.15075114125076874, 0.13841865842256273, 0.1562456797971901, 0.5707516948522829, 0.40758143426893634, 0.12659724434213593, 0.12760142115428352, 0.18422426071455789, 0.1548326663285723, 0.11661035620980247, 0.12338373477092739, 0.2470886671696461, 0.1421667919969328, 0.17256019037970746, 0.09629152218133265]}, {\"categories\": [\"0\", \"1\", \"2\", \"3\", \"4\", \"5\", \"6\", \"7\", \"8\", \"9\", \"10\", \"11\", \"12\", \"13\", \"14\", \"15\", \"16\", \"17\", \"18\", \"19\", \"20\", \"21\", \"22\", \"23\", \"24\", \"25\", \"26\", \"27\", \"28\", \"29\", \"30\", \"31\", \"32\", \"33\", \"34\", \"35\", \"36\", \"37\", \"38\", \"39\", \"40\", \"41\", \"42\", \"43\", \"44\", \"45\", \"46\", \"47\", \"48\", \"49\", \"50\", \"51\", \"52\", \"53\", \"54\", \"67\", \"68\"], \"mode\": \"lines\", \"name\": \"log_loss_min\", \"stepped\": true, \"type\": \"scatter\", \"data\": [0.11343422116512797, 0.11343422116512797, 0.11343422116512797, 0.11343422116512797, 0.11343422116512797, 0.11343422116512797, 0.11343422116512797, 0.11343422116512797, 0.11343422116512797, 0.11343422116512797, 0.11343422116512797, 0.11343422116512797, 0.11343422116512797, 0.11343422116512797, 0.11343422116512797, 0.11343422116512797, 0.11343422116512797, 0.11343422116512797, 0.11343422116512797, 0.11343422116512797, 0.11343422116512797, 0.11343422116512797, 0.11343422116512797, 0.11343422116512797, 0.11343422116512797, 0.11343422116512797, 0.11343422116512797, 0.11343422116512797, 0.11343422116512797, 0.11343422116512797, 0.11343422116512797, 0.11343422116512797, 0.11343422116512797, 0.11343422116512797, 0.11343422116512797, 0.11343422116512797, 0.11343422116512797, 0.11343422116512797, 0.11343422116512797, 0.11343422116512797, 0.11343422116512797, 0.11343422116512797, 0.11343422116512797, 0.11343422116512797, 0.11343422116512797, 0.11343422116512797, 0.11343422116512797, 0.11343422116512797, 0.11343422116512797, 0.11343422116512797, 0.11343422116512797, 0.11343422116512797, 0.11343422116512797, 0.11343422116512797, 0.11343422116512797, 0.11343422116512797, 0.09629152218133265]}], \"recall_score_micro\": [{\"categories\": [\"0\", \"1\", \"2\", \"3\", \"4\", \"5\", \"6\", \"7\", \"8\", \"9\", \"10\", \"11\", \"12\", \"13\", \"14\", \"15\", \"16\", \"17\", \"18\", \"19\", \"20\", \"21\", \"22\", \"23\", \"24\", \"25\", \"26\", \"27\", \"28\", \"29\", \"30\", \"31\", \"32\", \"33\", \"34\", \"35\", \"36\", \"37\", \"38\", \"39\", \"40\", \"41\", \"42\", \"43\", \"44\", \"45\", \"46\", \"47\", \"48\", \"49\", \"50\", \"51\", \"52\", \"53\", \"54\", \"67\", \"68\"], \"mode\": \"markers\", \"name\": \"recall_score_micro\", \"stepped\": false, \"type\": \"scatter\", \"data\": [0.9761222540592168, 0.9450811843361987, 0.9336198662846228, 0.9565425023877746, 0.8724928366762178, 0.938872970391595, 0.9622731614135626, 0.9250238777459407, 0.9441260744985674, 0.9641833810888253, 0.9617956064947469, 0.8677172874880611, 0.897803247373448, 0.943170964660936, 0.9665711556829035, 0.925978987583572, 0.9660936007640878, 0.9450811843361987, 0.9149952244508118, 0.943170964660936, 0.9584527220630372, 0.943170964660936, 0.9436485195797517, 0.9102196752626552, 0.9589302769818527, 0.9307545367717287, 0.9207258834765999, 0.944603629417383, 0.9317096466093601, 0.9460362941738301, 0.9307545367717288, 0.9589302769818527, 0.9364851957975167, 0.9546322827125119, 0.9455587392550143, 0.9173829990448902, 0.9560649474689589, 0.9336198662846228, 0.9269340974212034, 0.8228271251193888, 0.9393505253104107, 0.9641833810888252, 0.9541547277936963, 0.958930276981853, 0.9632282712511939, 0.6399235912129895, 0.8610315186246419, 0.9627507163323782, 0.9608404966571156, 0.9450811843361987, 0.953199617956065, 0.9675262655205348, 0.9660936007640878, 0.9584527220630372, 0.9579751671442217, 0.9407831900668576, 0.9770773638968482]}, {\"categories\": [\"0\", \"1\", \"2\", \"3\", \"4\", \"5\", \"6\", \"7\", \"8\", \"9\", \"10\", \"11\", \"12\", \"13\", \"14\", \"15\", \"16\", \"17\", \"18\", \"19\", \"20\", \"21\", \"22\", \"23\", \"24\", \"25\", \"26\", \"27\", \"28\", \"29\", \"30\", \"31\", \"32\", \"33\", \"34\", \"35\", \"36\", \"37\", \"38\", \"39\", \"40\", \"41\", \"42\", \"43\", \"44\", \"45\", \"46\", \"47\", \"48\", \"49\", \"50\", \"51\", \"52\", \"53\", \"54\", \"67\", \"68\"], \"mode\": \"lines\", \"name\": \"recall_score_micro_max\", \"stepped\": true, \"type\": \"scatter\", \"data\": [0.9761222540592168, 0.9761222540592168, 0.9761222540592168, 0.9761222540592168, 0.9761222540592168, 0.9761222540592168, 0.9761222540592168, 0.9761222540592168, 0.9761222540592168, 0.9761222540592168, 0.9761222540592168, 0.9761222540592168, 0.9761222540592168, 0.9761222540592168, 0.9761222540592168, 0.9761222540592168, 0.9761222540592168, 0.9761222540592168, 0.9761222540592168, 0.9761222540592168, 0.9761222540592168, 0.9761222540592168, 0.9761222540592168, 0.9761222540592168, 0.9761222540592168, 0.9761222540592168, 0.9761222540592168, 0.9761222540592168, 0.9761222540592168, 0.9761222540592168, 0.9761222540592168, 0.9761222540592168, 0.9761222540592168, 0.9761222540592168, 0.9761222540592168, 0.9761222540592168, 0.9761222540592168, 0.9761222540592168, 0.9761222540592168, 0.9761222540592168, 0.9761222540592168, 0.9761222540592168, 0.9761222540592168, 0.9761222540592168, 0.9761222540592168, 0.9761222540592168, 0.9761222540592168, 0.9761222540592168, 0.9761222540592168, 0.9761222540592168, 0.9761222540592168, 0.9761222540592168, 0.9761222540592168, 0.9761222540592168, 0.9761222540592168, 0.9761222540592168, 0.9770773638968482]}], \"recall_score_macro\": [{\"categories\": [\"0\", \"1\", \"2\", \"3\", \"4\", \"5\", \"6\", \"7\", \"8\", \"9\", \"10\", \"11\", \"12\", \"13\", \"14\", \"15\", \"16\", \"17\", \"18\", \"19\", \"20\", \"21\", \"22\", \"23\", \"24\", \"25\", \"26\", \"27\", \"28\", \"29\", \"30\", \"31\", \"32\", \"33\", \"34\", \"35\", \"36\", \"37\", \"38\", \"39\", \"40\", \"41\", \"42\", \"43\", \"44\", \"45\", \"46\", \"47\", \"48\", \"49\", \"50\", \"51\", \"52\", \"53\", \"54\", \"67\", \"68\"], \"mode\": \"markers\", \"name\": \"recall_score_macro\", \"stepped\": false, \"type\": \"scatter\", \"data\": [0.9697746651882442, 0.9255625522528947, 0.9123301633666756, 0.9442582616243457, 0.8812702865659251, 0.915295742455109, 0.9537303043891985, 0.9026489002507132, 0.9227669806309509, 0.954959725275273, 0.9490975669408886, 0.870064962883086, 0.9117064560869933, 0.9250311693386708, 0.9560606321892532, 0.9079056186305933, 0.9553018463201887, 0.9250045283156388, 0.9225706181980474, 0.9248544161880082, 0.9452997725081528, 0.9228367712432514, 0.9246185475032546, 0.8950579045563272, 0.9462047394605947, 0.9084364475385934, 0.9052387746512379, 0.9242624719100366, 0.9111051819649266, 0.9263547401643576, 0.9088047422438487, 0.9475523482259948, 0.9120857817804938, 0.9382994843041471, 0.9281429789100398, 0.8856569547682119, 0.9419123314499681, 0.9092650314109711, 0.9033428533147779, 0.8168981856498091, 0.9167997530437372, 0.9526848937200443, 0.9392975861319419, 0.9450053236112484, 0.951016399336439, 0.5, 0.8639216164430378, 0.949370798448688, 0.9481254913315693, 0.9267601128776972, 0.9368732135346716, 0.9577704194015162, 0.9563506063014143, 0.9466863160422477, 0.9442841399035314, 0.9220779881323414, 0.9699436277983383]}, {\"categories\": [\"0\", \"1\", \"2\", \"3\", \"4\", \"5\", \"6\", \"7\", \"8\", \"9\", \"10\", \"11\", \"12\", \"13\", \"14\", \"15\", \"16\", \"17\", \"18\", \"19\", \"20\", \"21\", \"22\", \"23\", \"24\", \"25\", \"26\", \"27\", \"28\", \"29\", \"30\", \"31\", \"32\", \"33\", \"34\", \"35\", \"36\", \"37\", \"38\", \"39\", \"40\", \"41\", \"42\", \"43\", \"44\", \"45\", \"46\", \"47\", \"48\", \"49\", \"50\", \"51\", \"52\", \"53\", \"54\", \"67\", \"68\"], \"mode\": \"lines\", \"name\": \"recall_score_macro_max\", \"stepped\": true, \"type\": \"scatter\", \"data\": [0.9697746651882442, 0.9697746651882442, 0.9697746651882442, 0.9697746651882442, 0.9697746651882442, 0.9697746651882442, 0.9697746651882442, 0.9697746651882442, 0.9697746651882442, 0.9697746651882442, 0.9697746651882442, 0.9697746651882442, 0.9697746651882442, 0.9697746651882442, 0.9697746651882442, 0.9697746651882442, 0.9697746651882442, 0.9697746651882442, 0.9697746651882442, 0.9697746651882442, 0.9697746651882442, 0.9697746651882442, 0.9697746651882442, 0.9697746651882442, 0.9697746651882442, 0.9697746651882442, 0.9697746651882442, 0.9697746651882442, 0.9697746651882442, 0.9697746651882442, 0.9697746651882442, 0.9697746651882442, 0.9697746651882442, 0.9697746651882442, 0.9697746651882442, 0.9697746651882442, 0.9697746651882442, 0.9697746651882442, 0.9697746651882442, 0.9697746651882442, 0.9697746651882442, 0.9697746651882442, 0.9697746651882442, 0.9697746651882442, 0.9697746651882442, 0.9697746651882442, 0.9697746651882442, 0.9697746651882442, 0.9697746651882442, 0.9697746651882442, 0.9697746651882442, 0.9697746651882442, 0.9697746651882442, 0.9697746651882442, 0.9697746651882442, 0.9697746651882442, 0.9699436277983383]}], \"f1_score_micro\": [{\"categories\": [\"0\", \"1\", \"2\", \"3\", \"4\", \"5\", \"6\", \"7\", \"8\", \"9\", \"10\", \"11\", \"12\", \"13\", \"14\", \"15\", \"16\", \"17\", \"18\", \"19\", \"20\", \"21\", \"22\", \"23\", \"24\", \"25\", \"26\", \"27\", \"28\", \"29\", \"30\", \"31\", \"32\", \"33\", \"34\", \"35\", \"36\", \"37\", \"38\", \"39\", \"40\", \"41\", \"42\", \"43\", \"44\", \"45\", \"46\", \"47\", \"48\", \"49\", \"50\", \"51\", \"52\", \"53\", \"54\", \"67\", \"68\"], \"mode\": \"markers\", \"name\": \"f1_score_micro\", \"stepped\": false, \"type\": \"scatter\", \"data\": [0.9761222540592168, 0.9450811843361987, 0.9336198662846228, 0.9565425023877746, 0.8724928366762178, 0.938872970391595, 0.9622731614135626, 0.9250238777459407, 0.9441260744985674, 0.9641833810888253, 0.9617956064947469, 0.8677172874880611, 0.897803247373448, 0.943170964660936, 0.9665711556829035, 0.9259789875835721, 0.9660936007640878, 0.9450811843361987, 0.9149952244508118, 0.943170964660936, 0.9584527220630372, 0.943170964660936, 0.9436485195797517, 0.9102196752626552, 0.9589302769818527, 0.9307545367717287, 0.9207258834765998, 0.944603629417383, 0.9317096466093601, 0.9460362941738301, 0.9307545367717288, 0.958930276981853, 0.9364851957975168, 0.9546322827125119, 0.9455587392550143, 0.9173829990448902, 0.9560649474689589, 0.9336198662846228, 0.9269340974212034, 0.8228271251193888, 0.9393505253104107, 0.9641833810888252, 0.9541547277936963, 0.958930276981853, 0.9632282712511939, 0.6399235912129895, 0.8610315186246419, 0.9627507163323782, 0.9608404966571156, 0.9450811843361987, 0.953199617956065, 0.9675262655205348, 0.9660936007640878, 0.9584527220630372, 0.9579751671442217, 0.9407831900668576, 0.9770773638968482]}, {\"categories\": [\"0\", \"1\", \"2\", \"3\", \"4\", \"5\", \"6\", \"7\", \"8\", \"9\", \"10\", \"11\", \"12\", \"13\", \"14\", \"15\", \"16\", \"17\", \"18\", \"19\", \"20\", \"21\", \"22\", \"23\", \"24\", \"25\", \"26\", \"27\", \"28\", \"29\", \"30\", \"31\", \"32\", \"33\", \"34\", \"35\", \"36\", \"37\", \"38\", \"39\", \"40\", \"41\", \"42\", \"43\", \"44\", \"45\", \"46\", \"47\", \"48\", \"49\", \"50\", \"51\", \"52\", \"53\", \"54\", \"67\", \"68\"], \"mode\": \"lines\", \"name\": \"f1_score_micro_max\", \"stepped\": true, \"type\": \"scatter\", \"data\": [0.9761222540592168, 0.9761222540592168, 0.9761222540592168, 0.9761222540592168, 0.9761222540592168, 0.9761222540592168, 0.9761222540592168, 0.9761222540592168, 0.9761222540592168, 0.9761222540592168, 0.9761222540592168, 0.9761222540592168, 0.9761222540592168, 0.9761222540592168, 0.9761222540592168, 0.9761222540592168, 0.9761222540592168, 0.9761222540592168, 0.9761222540592168, 0.9761222540592168, 0.9761222540592168, 0.9761222540592168, 0.9761222540592168, 0.9761222540592168, 0.9761222540592168, 0.9761222540592168, 0.9761222540592168, 0.9761222540592168, 0.9761222540592168, 0.9761222540592168, 0.9761222540592168, 0.9761222540592168, 0.9761222540592168, 0.9761222540592168, 0.9761222540592168, 0.9761222540592168, 0.9761222540592168, 0.9761222540592168, 0.9761222540592168, 0.9761222540592168, 0.9761222540592168, 0.9761222540592168, 0.9761222540592168, 0.9761222540592168, 0.9761222540592168, 0.9761222540592168, 0.9761222540592168, 0.9761222540592168, 0.9761222540592168, 0.9761222540592168, 0.9761222540592168, 0.9761222540592168, 0.9761222540592168, 0.9761222540592168, 0.9761222540592168, 0.9761222540592168, 0.9770773638968482]}], \"norm_macro_recall\": [{\"categories\": [\"0\", \"1\", \"2\", \"3\", \"4\", \"5\", \"6\", \"7\", \"8\", \"9\", \"10\", \"11\", \"12\", \"13\", \"14\", \"15\", \"16\", \"17\", \"18\", \"19\", \"20\", \"21\", \"22\", \"23\", \"24\", \"25\", \"26\", \"27\", \"28\", \"29\", \"30\", \"31\", \"32\", \"33\", \"34\", \"35\", \"36\", \"37\", \"38\", \"39\", \"40\", \"41\", \"42\", \"43\", \"44\", \"45\", \"46\", \"47\", \"48\", \"49\", \"50\", \"51\", \"52\", \"53\", \"54\", \"67\", \"68\"], \"mode\": \"markers\", \"name\": \"norm_macro_recall\", \"stepped\": false, \"type\": \"scatter\", \"data\": [0.9395493303764885, 0.8511251045057895, 0.8246603267333509, 0.8885165232486912, 0.7625405731318503, 0.8305914849102182, 0.9074606087783971, 0.8052978005014264, 0.8455339612619017, 0.909919450550546, 0.8981951338817772, 0.7401299257661721, 0.8234129121739865, 0.8500623386773417, 0.9121212643785062, 0.8158112372611864, 0.9106036926403774, 0.8500090566312778, 0.8451412363960951, 0.8497088323760164, 0.8905995450163054, 0.8456735424865028, 0.8492370950065092, 0.7901158091126544, 0.8924094789211893, 0.816872895077187, 0.810477549302476, 0.8485249438200734, 0.8222103639298531, 0.8527094803287154, 0.8176094844876974, 0.8951046964519896, 0.8241715635609875, 0.8765989686082941, 0.8562859578200795, 0.7713139095364238, 0.8838246628999361, 0.8185300628219423, 0.8066857066295557, 0.6337963712996184, 0.8335995060874742, 0.9053697874400886, 0.8785951722638838, 0.8900106472224967, 0.9020327986728782, 0.0, 0.7278432328860757, 0.8987415968973756, 0.8962509826631385, 0.8535202257553943, 0.873746427069343, 0.9155408388030324, 0.9127012126028285, 0.8933726320844957, 0.8885682798070628, 0.8441559762646831, 0.9398872555966765]}, {\"categories\": [\"0\", \"1\", \"2\", \"3\", \"4\", \"5\", \"6\", \"7\", \"8\", \"9\", \"10\", \"11\", \"12\", \"13\", \"14\", \"15\", \"16\", \"17\", \"18\", \"19\", \"20\", \"21\", \"22\", \"23\", \"24\", \"25\", \"26\", \"27\", \"28\", \"29\", \"30\", \"31\", \"32\", \"33\", \"34\", \"35\", \"36\", \"37\", \"38\", \"39\", \"40\", \"41\", \"42\", \"43\", \"44\", \"45\", \"46\", \"47\", \"48\", \"49\", \"50\", \"51\", \"52\", \"53\", \"54\", \"67\", \"68\"], \"mode\": \"lines\", \"name\": \"norm_macro_recall_max\", \"stepped\": true, \"type\": \"scatter\", \"data\": [0.9395493303764885, 0.9395493303764885, 0.9395493303764885, 0.9395493303764885, 0.9395493303764885, 0.9395493303764885, 0.9395493303764885, 0.9395493303764885, 0.9395493303764885, 0.9395493303764885, 0.9395493303764885, 0.9395493303764885, 0.9395493303764885, 0.9395493303764885, 0.9395493303764885, 0.9395493303764885, 0.9395493303764885, 0.9395493303764885, 0.9395493303764885, 0.9395493303764885, 0.9395493303764885, 0.9395493303764885, 0.9395493303764885, 0.9395493303764885, 0.9395493303764885, 0.9395493303764885, 0.9395493303764885, 0.9395493303764885, 0.9395493303764885, 0.9395493303764885, 0.9395493303764885, 0.9395493303764885, 0.9395493303764885, 0.9395493303764885, 0.9395493303764885, 0.9395493303764885, 0.9395493303764885, 0.9395493303764885, 0.9395493303764885, 0.9395493303764885, 0.9395493303764885, 0.9395493303764885, 0.9395493303764885, 0.9395493303764885, 0.9395493303764885, 0.9395493303764885, 0.9395493303764885, 0.9395493303764885, 0.9395493303764885, 0.9395493303764885, 0.9395493303764885, 0.9395493303764885, 0.9395493303764885, 0.9395493303764885, 0.9395493303764885, 0.9395493303764885, 0.9398872555966765]}], \"matthews_correlation\": [{\"categories\": [\"0\", \"1\", \"2\", \"3\", \"4\", \"5\", \"6\", \"7\", \"8\", \"9\", \"10\", \"11\", \"12\", \"13\", \"14\", \"15\", \"16\", \"17\", \"18\", \"19\", \"20\", \"21\", \"22\", \"23\", \"24\", \"25\", \"26\", \"27\", \"28\", \"29\", \"30\", \"31\", \"32\", \"33\", \"34\", \"35\", \"36\", \"37\", \"38\", \"39\", \"40\", \"41\", \"42\", \"43\", \"44\", \"45\", \"46\", \"47\", \"48\", \"49\", \"50\", \"51\", \"52\", \"53\", \"54\", \"67\", \"68\"], \"mode\": \"markers\", \"name\": \"matthews_correlation\", \"stepped\": false, \"type\": \"scatter\", \"data\": [0.9484678351945082, 0.8831413865841894, 0.857708972416671, 0.9065396603562278, 0.7429140168999456, 0.8707298415613821, 0.9183376402301732, 0.8384797988370135, 0.8818281687170231, 0.9227377472730023, 0.9182193064231466, 0.7236793088670996, 0.7971984339060597, 0.8778334155797266, 0.9282982584431329, 0.8394728580449407, 0.9272572207342531, 0.8839042061678724, 0.8251473068101555, 0.8779553122901921, 0.9107846283916143, 0.8790746101653807, 0.879444440759456, 0.8068502030405561, 0.911834214097731, 0.8512484466212881, 0.827975055371794, 0.8825018922392522, 0.8532862191905085, 0.885426227649934, 0.8511542017917217, 0.9116089185006309, 0.8658647922414119, 0.9039484985486174, 0.8835361351500234, 0.8265073748541081, 0.905742632565763, 0.8591173215032376, 0.8434371780953006, 0.6245400978640927, 0.8716875120733936, 0.9231920764421404, 0.9022780420081945, 0.9121185200569008, 0.9216126365498432, 0.0, 0.7107410742554396, 0.9203247821056326, 0.9161963406734038, 0.88265397872118, 0.9002124267644275, 0.9303666353065806, 0.927151107769884, 0.9107722624415074, 0.9098074598127939, 0.8726656363861679, 0.9507239888562348]}, {\"categories\": [\"0\", \"1\", \"2\", \"3\", \"4\", \"5\", \"6\", \"7\", \"8\", \"9\", \"10\", \"11\", \"12\", \"13\", \"14\", \"15\", \"16\", \"17\", \"18\", \"19\", \"20\", \"21\", \"22\", \"23\", \"24\", \"25\", \"26\", \"27\", \"28\", \"29\", \"30\", \"31\", \"32\", \"33\", \"34\", \"35\", \"36\", \"37\", \"38\", \"39\", \"40\", \"41\", \"42\", \"43\", \"44\", \"45\", \"46\", \"47\", \"48\", \"49\", \"50\", \"51\", \"52\", \"53\", \"54\", \"67\", \"68\"], \"mode\": \"lines\", \"name\": \"matthews_correlation_max\", \"stepped\": true, \"type\": \"scatter\", \"data\": [0.9484678351945082, 0.9484678351945082, 0.9484678351945082, 0.9484678351945082, 0.9484678351945082, 0.9484678351945082, 0.9484678351945082, 0.9484678351945082, 0.9484678351945082, 0.9484678351945082, 0.9484678351945082, 0.9484678351945082, 0.9484678351945082, 0.9484678351945082, 0.9484678351945082, 0.9484678351945082, 0.9484678351945082, 0.9484678351945082, 0.9484678351945082, 0.9484678351945082, 0.9484678351945082, 0.9484678351945082, 0.9484678351945082, 0.9484678351945082, 0.9484678351945082, 0.9484678351945082, 0.9484678351945082, 0.9484678351945082, 0.9484678351945082, 0.9484678351945082, 0.9484678351945082, 0.9484678351945082, 0.9484678351945082, 0.9484678351945082, 0.9484678351945082, 0.9484678351945082, 0.9484678351945082, 0.9484678351945082, 0.9484678351945082, 0.9484678351945082, 0.9484678351945082, 0.9484678351945082, 0.9484678351945082, 0.9484678351945082, 0.9484678351945082, 0.9484678351945082, 0.9484678351945082, 0.9484678351945082, 0.9484678351945082, 0.9484678351945082, 0.9484678351945082, 0.9484678351945082, 0.9484678351945082, 0.9484678351945082, 0.9484678351945082, 0.9484678351945082, 0.9507239888562348]}], \"average_precision_score_macro\": [{\"categories\": [\"0\", \"1\", \"2\", \"3\", \"4\", \"5\", \"6\", \"7\", \"8\", \"9\", \"10\", \"11\", \"12\", \"13\", \"14\", \"15\", \"16\", \"17\", \"18\", \"19\", \"20\", \"21\", \"22\", \"23\", \"24\", \"25\", \"26\", \"27\", \"28\", \"29\", \"30\", \"31\", \"32\", \"33\", \"34\", \"35\", \"36\", \"37\", \"38\", \"39\", \"40\", \"41\", \"42\", \"43\", \"44\", \"45\", \"46\", \"47\", \"48\", \"49\", \"50\", \"51\", \"52\", \"53\", \"54\", \"67\", \"68\"], \"mode\": \"markers\", \"name\": \"average_precision_score_macro\", \"stepped\": false, \"type\": \"scatter\", \"data\": [0.9873735149389441, 0.9697093166059444, 0.968844095293969, 0.979857095698283, 0.9618634537748739, 0.973140933332154, 0.98681993109311, 0.9660924703517546, 0.977821726678361, 0.9768062945886667, 0.9782655572565648, 0.9116584120697219, 0.9518607988004358, 0.9735238445410741, 0.9837658035426863, 0.9697765561898363, 0.9834005794729447, 0.9729963153819529, 0.9545119295937098, 0.9716012094099957, 0.9797737875732672, 0.9704031050874967, 0.9781570948575634, 0.9615171428443076, 0.9749494891343805, 0.9623476138847192, 0.965482634279986, 0.9689342872523041, 0.9659883059001905, 0.9691895227346174, 0.9625238066581187, 0.9822020795222155, 0.968751282247624, 0.9775411920801419, 0.9696349831220138, 0.9635682206112781, 0.97615703724426, 0.9657421491981607, 0.95730372318556, 0.848064743709719, 0.9676655033689148, 0.9823563297128673, 0.9768432846749402, 0.9771745703046478, 0.9784376619214438, 0.9623996152017898, 0.8820065393021919, 0.9834915181628815, 0.9789613369501072, 0.9724078154867198, 0.9778593909274477, 0.9840116383553689, 0.982399132158727, 0.9719935436846759, 0.9792846931245474, 0.971990225810235, 0.9919399547222397]}, {\"categories\": [\"0\", \"1\", \"2\", \"3\", \"4\", \"5\", \"6\", \"7\", \"8\", \"9\", \"10\", \"11\", \"12\", \"13\", \"14\", \"15\", \"16\", \"17\", \"18\", \"19\", \"20\", \"21\", \"22\", \"23\", \"24\", \"25\", \"26\", \"27\", \"28\", \"29\", \"30\", \"31\", \"32\", \"33\", \"34\", \"35\", \"36\", \"37\", \"38\", \"39\", \"40\", \"41\", \"42\", \"43\", \"44\", \"45\", \"46\", \"47\", \"48\", \"49\", \"50\", \"51\", \"52\", \"53\", \"54\", \"67\", \"68\"], \"mode\": \"lines\", \"name\": \"average_precision_score_macro_max\", \"stepped\": true, \"type\": \"scatter\", \"data\": [0.9873735149389441, 0.9873735149389441, 0.9873735149389441, 0.9873735149389441, 0.9873735149389441, 0.9873735149389441, 0.9873735149389441, 0.9873735149389441, 0.9873735149389441, 0.9873735149389441, 0.9873735149389441, 0.9873735149389441, 0.9873735149389441, 0.9873735149389441, 0.9873735149389441, 0.9873735149389441, 0.9873735149389441, 0.9873735149389441, 0.9873735149389441, 0.9873735149389441, 0.9873735149389441, 0.9873735149389441, 0.9873735149389441, 0.9873735149389441, 0.9873735149389441, 0.9873735149389441, 0.9873735149389441, 0.9873735149389441, 0.9873735149389441, 0.9873735149389441, 0.9873735149389441, 0.9873735149389441, 0.9873735149389441, 0.9873735149389441, 0.9873735149389441, 0.9873735149389441, 0.9873735149389441, 0.9873735149389441, 0.9873735149389441, 0.9873735149389441, 0.9873735149389441, 0.9873735149389441, 0.9873735149389441, 0.9873735149389441, 0.9873735149389441, 0.9873735149389441, 0.9873735149389441, 0.9873735149389441, 0.9873735149389441, 0.9873735149389441, 0.9873735149389441, 0.9873735149389441, 0.9873735149389441, 0.9873735149389441, 0.9873735149389441, 0.9873735149389441, 0.9919399547222397]}], \"recall_score_weighted\": [{\"categories\": [\"0\", \"1\", \"2\", \"3\", \"4\", \"5\", \"6\", \"7\", \"8\", \"9\", \"10\", \"11\", \"12\", \"13\", \"14\", \"15\", \"16\", \"17\", \"18\", \"19\", \"20\", \"21\", \"22\", \"23\", \"24\", \"25\", \"26\", \"27\", \"28\", \"29\", \"30\", \"31\", \"32\", \"33\", \"34\", \"35\", \"36\", \"37\", \"38\", \"39\", \"40\", \"41\", \"42\", \"43\", \"44\", \"45\", \"46\", \"47\", \"48\", \"49\", \"50\", \"51\", \"52\", \"53\", \"54\", \"67\", \"68\"], \"mode\": \"markers\", \"name\": \"recall_score_weighted\", \"stepped\": false, \"type\": \"scatter\", \"data\": [0.9761222540592168, 0.9450811843361987, 0.9336198662846228, 0.9565425023877746, 0.8724928366762178, 0.938872970391595, 0.9622731614135626, 0.9250238777459407, 0.9441260744985674, 0.9641833810888253, 0.9617956064947469, 0.8677172874880611, 0.897803247373448, 0.943170964660936, 0.9665711556829035, 0.925978987583572, 0.9660936007640878, 0.9450811843361987, 0.9149952244508118, 0.943170964660936, 0.9584527220630372, 0.943170964660936, 0.9436485195797517, 0.9102196752626552, 0.9589302769818527, 0.9307545367717287, 0.9207258834765999, 0.944603629417383, 0.9317096466093601, 0.9460362941738301, 0.9307545367717288, 0.9589302769818527, 0.9364851957975167, 0.9546322827125119, 0.9455587392550143, 0.9173829990448902, 0.9560649474689589, 0.9336198662846228, 0.9269340974212034, 0.8228271251193888, 0.9393505253104107, 0.9641833810888252, 0.9541547277936963, 0.958930276981853, 0.9632282712511939, 0.6399235912129895, 0.8610315186246419, 0.9627507163323782, 0.9608404966571156, 0.9450811843361987, 0.953199617956065, 0.9675262655205348, 0.9660936007640878, 0.9584527220630372, 0.9579751671442217, 0.9407831900668576, 0.9770773638968482]}, {\"categories\": [\"0\", \"1\", \"2\", \"3\", \"4\", \"5\", \"6\", \"7\", \"8\", \"9\", \"10\", \"11\", \"12\", \"13\", \"14\", \"15\", \"16\", \"17\", \"18\", \"19\", \"20\", \"21\", \"22\", \"23\", \"24\", \"25\", \"26\", \"27\", \"28\", \"29\", \"30\", \"31\", \"32\", \"33\", \"34\", \"35\", \"36\", \"37\", \"38\", \"39\", \"40\", \"41\", \"42\", \"43\", \"44\", \"45\", \"46\", \"47\", \"48\", \"49\", \"50\", \"51\", \"52\", \"53\", \"54\", \"67\", \"68\"], \"mode\": \"lines\", \"name\": \"recall_score_weighted_max\", \"stepped\": true, \"type\": \"scatter\", \"data\": [0.9761222540592168, 0.9761222540592168, 0.9761222540592168, 0.9761222540592168, 0.9761222540592168, 0.9761222540592168, 0.9761222540592168, 0.9761222540592168, 0.9761222540592168, 0.9761222540592168, 0.9761222540592168, 0.9761222540592168, 0.9761222540592168, 0.9761222540592168, 0.9761222540592168, 0.9761222540592168, 0.9761222540592168, 0.9761222540592168, 0.9761222540592168, 0.9761222540592168, 0.9761222540592168, 0.9761222540592168, 0.9761222540592168, 0.9761222540592168, 0.9761222540592168, 0.9761222540592168, 0.9761222540592168, 0.9761222540592168, 0.9761222540592168, 0.9761222540592168, 0.9761222540592168, 0.9761222540592168, 0.9761222540592168, 0.9761222540592168, 0.9761222540592168, 0.9761222540592168, 0.9761222540592168, 0.9761222540592168, 0.9761222540592168, 0.9761222540592168, 0.9761222540592168, 0.9761222540592168, 0.9761222540592168, 0.9761222540592168, 0.9761222540592168, 0.9761222540592168, 0.9761222540592168, 0.9761222540592168, 0.9761222540592168, 0.9761222540592168, 0.9761222540592168, 0.9761222540592168, 0.9761222540592168, 0.9761222540592168, 0.9761222540592168, 0.9761222540592168, 0.9770773638968482]}], \"AUC_macro\": [{\"categories\": [\"0\", \"1\", \"2\", \"3\", \"4\", \"5\", \"6\", \"7\", \"8\", \"9\", \"10\", \"11\", \"12\", \"13\", \"14\", \"15\", \"16\", \"17\", \"18\", \"19\", \"20\", \"21\", \"22\", \"23\", \"24\", \"25\", \"26\", \"27\", \"28\", \"29\", \"30\", \"31\", \"32\", \"33\", \"34\", \"35\", \"36\", \"37\", \"38\", \"39\", \"40\", \"41\", \"42\", \"43\", \"44\", \"45\", \"46\", \"47\", \"48\", \"49\", \"50\", \"51\", \"52\", \"53\", \"54\", \"67\", \"68\"], \"mode\": \"markers\", \"name\": \"AUC_macro\", \"stepped\": false, \"type\": \"scatter\", \"data\": [0.9869881928145697, 0.9724431512735552, 0.9683466296603788, 0.9786335584302784, 0.9639501841299744, 0.9722838543352178, 0.9861770671402494, 0.9692021406456179, 0.9776590194149529, 0.979502438198185, 0.9774161169370904, 0.9318411435681293, 0.9604666393942524, 0.9745625657664435, 0.9831767065091972, 0.9688215349240634, 0.9825598411387345, 0.9736174349265939, 0.9649785384231917, 0.9743315133249264, 0.9795102093403715, 0.9699387694183409, 0.9792835432044903, 0.9622162593650844, 0.9740888317928862, 0.9648520145580628, 0.9653275404670696, 0.9705406398216723, 0.9664097487680294, 0.9695838219709394, 0.9617632970064465, 0.9812470935248849, 0.9690707368688076, 0.9770170873679618, 0.9691446614514616, 0.9636348473727305, 0.9760679023570602, 0.9654627851959005, 0.9557603767453068, 0.8800265287109273, 0.9679445626074342, 0.98083380520384, 0.9767548370404953, 0.976986773049915, 0.978493956137347, 0.9640938573960934, 0.9057637387051232, 0.9826531077629678, 0.9785693875621552, 0.9724600112936937, 0.977143303753797, 0.9827549231424776, 0.9820272414368826, 0.974029009583043, 0.9790668931153078, 0.9718927853651392, 0.9914994465764315]}, {\"categories\": [\"0\", \"1\", \"2\", \"3\", \"4\", \"5\", \"6\", \"7\", \"8\", \"9\", \"10\", \"11\", \"12\", \"13\", \"14\", \"15\", \"16\", \"17\", \"18\", \"19\", \"20\", \"21\", \"22\", \"23\", \"24\", \"25\", \"26\", \"27\", \"28\", \"29\", \"30\", \"31\", \"32\", \"33\", \"34\", \"35\", \"36\", \"37\", \"38\", \"39\", \"40\", \"41\", \"42\", \"43\", \"44\", \"45\", \"46\", \"47\", \"48\", \"49\", \"50\", \"51\", \"52\", \"53\", \"54\", \"67\", \"68\"], \"mode\": \"lines\", \"name\": \"AUC_macro_max\", \"stepped\": true, \"type\": \"scatter\", \"data\": [0.9869881928145697, 0.9869881928145697, 0.9869881928145697, 0.9869881928145697, 0.9869881928145697, 0.9869881928145697, 0.9869881928145697, 0.9869881928145697, 0.9869881928145697, 0.9869881928145697, 0.9869881928145697, 0.9869881928145697, 0.9869881928145697, 0.9869881928145697, 0.9869881928145697, 0.9869881928145697, 0.9869881928145697, 0.9869881928145697, 0.9869881928145697, 0.9869881928145697, 0.9869881928145697, 0.9869881928145697, 0.9869881928145697, 0.9869881928145697, 0.9869881928145697, 0.9869881928145697, 0.9869881928145697, 0.9869881928145697, 0.9869881928145697, 0.9869881928145697, 0.9869881928145697, 0.9869881928145697, 0.9869881928145697, 0.9869881928145697, 0.9869881928145697, 0.9869881928145697, 0.9869881928145697, 0.9869881928145697, 0.9869881928145697, 0.9869881928145697, 0.9869881928145697, 0.9869881928145697, 0.9869881928145697, 0.9869881928145697, 0.9869881928145697, 0.9869881928145697, 0.9869881928145697, 0.9869881928145697, 0.9869881928145697, 0.9869881928145697, 0.9869881928145697, 0.9869881928145697, 0.9869881928145697, 0.9869881928145697, 0.9869881928145697, 0.9869881928145697, 0.9914994465764315]}], \"accuracy\": [{\"categories\": [\"0\", \"1\", \"2\", \"3\", \"4\", \"5\", \"6\", \"7\", \"8\", \"9\", \"10\", \"11\", \"12\", \"13\", \"14\", \"15\", \"16\", \"17\", \"18\", \"19\", \"20\", \"21\", \"22\", \"23\", \"24\", \"25\", \"26\", \"27\", \"28\", \"29\", \"30\", \"31\", \"32\", \"33\", \"34\", \"35\", \"36\", \"37\", \"38\", \"39\", \"40\", \"41\", \"42\", \"43\", \"44\", \"45\", \"46\", \"47\", \"48\", \"49\", \"50\", \"51\", \"52\", \"53\", \"54\", \"67\", \"68\"], \"mode\": \"markers\", \"name\": \"accuracy\", \"stepped\": false, \"type\": \"scatter\", \"data\": [0.9761222540592168, 0.9450811843361987, 0.9336198662846228, 0.9565425023877746, 0.8724928366762178, 0.938872970391595, 0.9622731614135626, 0.9250238777459407, 0.9441260744985674, 0.9641833810888253, 0.9617956064947469, 0.8677172874880611, 0.897803247373448, 0.943170964660936, 0.9665711556829035, 0.925978987583572, 0.9660936007640878, 0.9450811843361987, 0.9149952244508118, 0.943170964660936, 0.9584527220630372, 0.943170964660936, 0.9436485195797517, 0.9102196752626552, 0.9589302769818527, 0.9307545367717287, 0.9207258834765999, 0.944603629417383, 0.9317096466093601, 0.9460362941738301, 0.9307545367717288, 0.9589302769818527, 0.9364851957975167, 0.9546322827125119, 0.9455587392550143, 0.9173829990448902, 0.9560649474689589, 0.9336198662846228, 0.9269340974212034, 0.8228271251193888, 0.9393505253104107, 0.9641833810888252, 0.9541547277936963, 0.958930276981853, 0.9632282712511939, 0.6399235912129895, 0.8610315186246419, 0.9627507163323782, 0.9608404966571156, 0.9450811843361987, 0.953199617956065, 0.9675262655205348, 0.9660936007640878, 0.9584527220630372, 0.9579751671442217, 0.9407831900668576, 0.9770773638968482]}, {\"categories\": [\"0\", \"1\", \"2\", \"3\", \"4\", \"5\", \"6\", \"7\", \"8\", \"9\", \"10\", \"11\", \"12\", \"13\", \"14\", \"15\", \"16\", \"17\", \"18\", \"19\", \"20\", \"21\", \"22\", \"23\", \"24\", \"25\", \"26\", \"27\", \"28\", \"29\", \"30\", \"31\", \"32\", \"33\", \"34\", \"35\", \"36\", \"37\", \"38\", \"39\", \"40\", \"41\", \"42\", \"43\", \"44\", \"45\", \"46\", \"47\", \"48\", \"49\", \"50\", \"51\", \"52\", \"53\", \"54\", \"67\", \"68\"], \"mode\": \"lines\", \"name\": \"accuracy_max\", \"stepped\": true, \"type\": \"scatter\", \"data\": [0.9761222540592168, 0.9761222540592168, 0.9761222540592168, 0.9761222540592168, 0.9761222540592168, 0.9761222540592168, 0.9761222540592168, 0.9761222540592168, 0.9761222540592168, 0.9761222540592168, 0.9761222540592168, 0.9761222540592168, 0.9761222540592168, 0.9761222540592168, 0.9761222540592168, 0.9761222540592168, 0.9761222540592168, 0.9761222540592168, 0.9761222540592168, 0.9761222540592168, 0.9761222540592168, 0.9761222540592168, 0.9761222540592168, 0.9761222540592168, 0.9761222540592168, 0.9761222540592168, 0.9761222540592168, 0.9761222540592168, 0.9761222540592168, 0.9761222540592168, 0.9761222540592168, 0.9761222540592168, 0.9761222540592168, 0.9761222540592168, 0.9761222540592168, 0.9761222540592168, 0.9761222540592168, 0.9761222540592168, 0.9761222540592168, 0.9761222540592168, 0.9761222540592168, 0.9761222540592168, 0.9761222540592168, 0.9761222540592168, 0.9761222540592168, 0.9761222540592168, 0.9761222540592168, 0.9761222540592168, 0.9761222540592168, 0.9761222540592168, 0.9761222540592168, 0.9761222540592168, 0.9761222540592168, 0.9761222540592168, 0.9761222540592168, 0.9761222540592168, 0.9770773638968482]}], \"f1_score_macro\": [{\"categories\": [\"0\", \"1\", \"2\", \"3\", \"4\", \"5\", \"6\", \"7\", \"8\", \"9\", \"10\", \"11\", \"12\", \"13\", \"14\", \"15\", \"16\", \"17\", \"18\", \"19\", \"20\", \"21\", \"22\", \"23\", \"24\", \"25\", \"26\", \"27\", \"28\", \"29\", \"30\", \"31\", \"32\", \"33\", \"34\", \"35\", \"36\", \"37\", \"38\", \"39\", \"40\", \"41\", \"42\", \"43\", \"44\", \"45\", \"46\", \"47\", \"48\", \"49\", \"50\", \"51\", \"52\", \"53\", \"54\", \"67\", \"68\"], \"mode\": \"markers\", \"name\": \"f1_score_macro\", \"stepped\": false, \"type\": \"scatter\", \"data\": [0.9738767131590285, 0.9382605356558013, 0.9252309762373363, 0.9519541564900379, 0.866110889302186, 0.9307952250758468, 0.9586033665739905, 0.9155464737132069, 0.9370690693560251, 0.9606917223502563, 0.9577116438822588, 0.8599033724712583, 0.8932522848998743, 0.936454590460461, 0.9631622035802753, 0.9177618129597983, 0.96263027099904, 0.9382060638204311, 0.9101460211839991, 0.9363870976487995, 0.9540247364947767, 0.9361578637262699, 0.9369461210714781, 0.9007572772528283, 0.9545590997580607, 0.9220045129296729, 0.9124886856193389, 0.9376692878331035, 0.9233685946560014, 0.9393773550554942, 0.9220478403628559, 0.9546808499578862, 0.9280292206391368, 0.9493785411922168, 0.9391493266108201, 0.904893103814234, 0.9512366369004198, 0.9248348173229672, 0.9174037567617948, 0.8105700673126964, 0.9315590599760276, 0.9604568169885056, 0.9490138371660777, 0.9544412958956302, 0.9593615765492917, 0.39017389864264346, 0.8530570687382752, 0.9587063098449313, 0.9566715634736798, 0.938612921388882, 0.9477540550276728, 0.9642872753655282, 0.9627597955882555, 0.9541650092298388, 0.9534609347325222, 0.9338268368340866, 0.974914645594493]}, {\"categories\": [\"0\", \"1\", \"2\", \"3\", \"4\", \"5\", \"6\", \"7\", \"8\", \"9\", \"10\", \"11\", \"12\", \"13\", \"14\", \"15\", \"16\", \"17\", \"18\", \"19\", \"20\", \"21\", \"22\", \"23\", \"24\", \"25\", \"26\", \"27\", \"28\", \"29\", \"30\", \"31\", \"32\", \"33\", \"34\", \"35\", \"36\", \"37\", \"38\", \"39\", \"40\", \"41\", \"42\", \"43\", \"44\", \"45\", \"46\", \"47\", \"48\", \"49\", \"50\", \"51\", \"52\", \"53\", \"54\", \"67\", \"68\"], \"mode\": \"lines\", \"name\": \"f1_score_macro_max\", \"stepped\": true, \"type\": \"scatter\", \"data\": [0.9738767131590285, 0.9738767131590285, 0.9738767131590285, 0.9738767131590285, 0.9738767131590285, 0.9738767131590285, 0.9738767131590285, 0.9738767131590285, 0.9738767131590285, 0.9738767131590285, 0.9738767131590285, 0.9738767131590285, 0.9738767131590285, 0.9738767131590285, 0.9738767131590285, 0.9738767131590285, 0.9738767131590285, 0.9738767131590285, 0.9738767131590285, 0.9738767131590285, 0.9738767131590285, 0.9738767131590285, 0.9738767131590285, 0.9738767131590285, 0.9738767131590285, 0.9738767131590285, 0.9738767131590285, 0.9738767131590285, 0.9738767131590285, 0.9738767131590285, 0.9738767131590285, 0.9738767131590285, 0.9738767131590285, 0.9738767131590285, 0.9738767131590285, 0.9738767131590285, 0.9738767131590285, 0.9738767131590285, 0.9738767131590285, 0.9738767131590285, 0.9738767131590285, 0.9738767131590285, 0.9738767131590285, 0.9738767131590285, 0.9738767131590285, 0.9738767131590285, 0.9738767131590285, 0.9738767131590285, 0.9738767131590285, 0.9738767131590285, 0.9738767131590285, 0.9738767131590285, 0.9738767131590285, 0.9738767131590285, 0.9738767131590285, 0.9738767131590285, 0.974914645594493]}], \"AUC_weighted\": [{\"categories\": [\"0\", \"1\", \"2\", \"3\", \"4\", \"5\", \"6\", \"7\", \"8\", \"9\", \"10\", \"11\", \"12\", \"13\", \"14\", \"15\", \"16\", \"17\", \"18\", \"19\", \"20\", \"21\", \"22\", \"23\", \"24\", \"25\", \"26\", \"27\", \"28\", \"29\", \"30\", \"31\", \"32\", \"33\", \"34\", \"35\", \"36\", \"37\", \"38\", \"39\", \"40\", \"41\", \"42\", \"43\", \"44\", \"45\", \"46\", \"47\", \"48\", \"49\", \"50\", \"51\", \"52\", \"53\", \"54\", \"67\", \"68\"], \"mode\": \"markers\", \"name\": \"AUC_weighted\", \"stepped\": false, \"type\": \"scatter\", \"data\": [0.9869881928145697, 0.9724431512735552, 0.9683466296603785, 0.9786335584302787, 0.9639501841299744, 0.972283854335218, 0.9861770671402494, 0.9692021406456179, 0.9776590194149529, 0.9795024381981849, 0.9774161169370905, 0.9318411435681292, 0.9604666393942524, 0.9745625657664435, 0.9831767065091972, 0.9688215349240635, 0.9825598411387344, 0.9736174349265939, 0.9649785384231917, 0.9743315133249264, 0.9795102093403715, 0.9699387694183407, 0.9792835432044903, 0.9622162593650844, 0.9740888317928862, 0.9648520145580628, 0.9653275404670696, 0.9705406398216723, 0.9664097487680294, 0.9695838219709394, 0.9617632970064465, 0.9812470935248849, 0.9690707368688075, 0.9770170873679619, 0.9691446614514616, 0.9636348473727305, 0.9760679023570602, 0.9654627851959005, 0.9557603767453068, 0.8800265287109275, 0.9679445626074342, 0.98083380520384, 0.9767548370404953, 0.976986773049915, 0.978493956137347, 0.9640938573960934, 0.9057637387051232, 0.9826531077629678, 0.9785693875621552, 0.9724600112936939, 0.977143303753797, 0.9827549231424775, 0.9820272414368825, 0.9740290095830427, 0.9790668931153078, 0.9718927853651395, 0.9914994465764315]}, {\"categories\": [\"0\", \"1\", \"2\", \"3\", \"4\", \"5\", \"6\", \"7\", \"8\", \"9\", \"10\", \"11\", \"12\", \"13\", \"14\", \"15\", \"16\", \"17\", \"18\", \"19\", \"20\", \"21\", \"22\", \"23\", \"24\", \"25\", \"26\", \"27\", \"28\", \"29\", \"30\", \"31\", \"32\", \"33\", \"34\", \"35\", \"36\", \"37\", \"38\", \"39\", \"40\", \"41\", \"42\", \"43\", \"44\", \"45\", \"46\", \"47\", \"48\", \"49\", \"50\", \"51\", \"52\", \"53\", \"54\", \"67\", \"68\"], \"mode\": \"lines\", \"name\": \"AUC_weighted_max\", \"stepped\": true, \"type\": \"scatter\", \"data\": [0.9869881928145697, 0.9869881928145697, 0.9869881928145697, 0.9869881928145697, 0.9869881928145697, 0.9869881928145697, 0.9869881928145697, 0.9869881928145697, 0.9869881928145697, 0.9869881928145697, 0.9869881928145697, 0.9869881928145697, 0.9869881928145697, 0.9869881928145697, 0.9869881928145697, 0.9869881928145697, 0.9869881928145697, 0.9869881928145697, 0.9869881928145697, 0.9869881928145697, 0.9869881928145697, 0.9869881928145697, 0.9869881928145697, 0.9869881928145697, 0.9869881928145697, 0.9869881928145697, 0.9869881928145697, 0.9869881928145697, 0.9869881928145697, 0.9869881928145697, 0.9869881928145697, 0.9869881928145697, 0.9869881928145697, 0.9869881928145697, 0.9869881928145697, 0.9869881928145697, 0.9869881928145697, 0.9869881928145697, 0.9869881928145697, 0.9869881928145697, 0.9869881928145697, 0.9869881928145697, 0.9869881928145697, 0.9869881928145697, 0.9869881928145697, 0.9869881928145697, 0.9869881928145697, 0.9869881928145697, 0.9869881928145697, 0.9869881928145697, 0.9869881928145697, 0.9869881928145697, 0.9869881928145697, 0.9869881928145697, 0.9869881928145697, 0.9869881928145697, 0.9914994465764315]}], \"average_precision_score_weighted\": [{\"categories\": [\"0\", \"1\", \"2\", \"3\", \"4\", \"5\", \"6\", \"7\", \"8\", \"9\", \"10\", \"11\", \"12\", \"13\", \"14\", \"15\", \"16\", \"17\", \"18\", \"19\", \"20\", \"21\", \"22\", \"23\", \"24\", \"25\", \"26\", \"27\", \"28\", \"29\", \"30\", \"31\", \"32\", \"33\", \"34\", \"35\", \"36\", \"37\", \"38\", \"39\", \"40\", \"41\", \"42\", \"43\", \"44\", \"45\", \"46\", \"47\", \"48\", \"49\", \"50\", \"51\", \"52\", \"53\", \"54\", \"67\", \"68\"], \"mode\": \"markers\", \"name\": \"average_precision_score_weighted\", \"stepped\": false, \"type\": \"scatter\", \"data\": [0.9872403179651625, 0.9692455754807606, 0.970375680732598, 0.9800665203591917, 0.9641630675529539, 0.9736473674911142, 0.9874617875433523, 0.9669784589651226, 0.9782407178335175, 0.9770436031596054, 0.9783205465216437, 0.9254350152796569, 0.9597116360188377, 0.9737010732914363, 0.983813530596052, 0.9712636394316864, 0.9834888233950618, 0.9732807244043968, 0.9624119416592034, 0.9723790508613446, 0.9798914823476657, 0.9710439795097439, 0.9784760139197667, 0.9632853534390776, 0.9747629497964793, 0.9636408041332971, 0.9671564376295848, 0.9688825979218599, 0.9674895826558864, 0.9689418005834506, 0.963964393116694, 0.9824971333139292, 0.9692130291613039, 0.9778278980412813, 0.970113423758313, 0.9647369603416154, 0.9758773426329818, 0.9668306648332591, 0.959092879528602, 0.8657122468688335, 0.9684099227289454, 0.9826194511394261, 0.9767359263433071, 0.9769060498446508, 0.9781978256871205, 0.96361144955348, 0.8994404423000754, 0.983734794298121, 0.9786512136924701, 0.9726911167809887, 0.9781692188196199, 0.9842642834524636, 0.9825095452576869, 0.9722988039573061, 0.979308114550618, 0.9726937511478898, 0.9925535430951231]}, {\"categories\": [\"0\", \"1\", \"2\", \"3\", \"4\", \"5\", \"6\", \"7\", \"8\", \"9\", \"10\", \"11\", \"12\", \"13\", \"14\", \"15\", \"16\", \"17\", \"18\", \"19\", \"20\", \"21\", \"22\", \"23\", \"24\", \"25\", \"26\", \"27\", \"28\", \"29\", \"30\", \"31\", \"32\", \"33\", \"34\", \"35\", \"36\", \"37\", \"38\", \"39\", \"40\", \"41\", \"42\", \"43\", \"44\", \"45\", \"46\", \"47\", \"48\", \"49\", \"50\", \"51\", \"52\", \"53\", \"54\", \"67\", \"68\"], \"mode\": \"lines\", \"name\": \"average_precision_score_weighted_max\", \"stepped\": true, \"type\": \"scatter\", \"data\": [0.9872403179651625, 0.9872403179651625, 0.9872403179651625, 0.9872403179651625, 0.9872403179651625, 0.9872403179651625, 0.9874617875433523, 0.9874617875433523, 0.9874617875433523, 0.9874617875433523, 0.9874617875433523, 0.9874617875433523, 0.9874617875433523, 0.9874617875433523, 0.9874617875433523, 0.9874617875433523, 0.9874617875433523, 0.9874617875433523, 0.9874617875433523, 0.9874617875433523, 0.9874617875433523, 0.9874617875433523, 0.9874617875433523, 0.9874617875433523, 0.9874617875433523, 0.9874617875433523, 0.9874617875433523, 0.9874617875433523, 0.9874617875433523, 0.9874617875433523, 0.9874617875433523, 0.9874617875433523, 0.9874617875433523, 0.9874617875433523, 0.9874617875433523, 0.9874617875433523, 0.9874617875433523, 0.9874617875433523, 0.9874617875433523, 0.9874617875433523, 0.9874617875433523, 0.9874617875433523, 0.9874617875433523, 0.9874617875433523, 0.9874617875433523, 0.9874617875433523, 0.9874617875433523, 0.9874617875433523, 0.9874617875433523, 0.9874617875433523, 0.9874617875433523, 0.9874617875433523, 0.9874617875433523, 0.9874617875433523, 0.9874617875433523, 0.9874617875433523, 0.9925535430951231]}], \"precision_score_weighted\": [{\"categories\": [\"0\", \"1\", \"2\", \"3\", \"4\", \"5\", \"6\", \"7\", \"8\", \"9\", \"10\", \"11\", \"12\", \"13\", \"14\", \"15\", \"16\", \"17\", \"18\", \"19\", \"20\", \"21\", \"22\", \"23\", \"24\", \"25\", \"26\", \"27\", \"28\", \"29\", \"30\", \"31\", \"32\", \"33\", \"34\", \"35\", \"36\", \"37\", \"38\", \"39\", \"40\", \"41\", \"42\", \"43\", \"44\", \"45\", \"46\", \"47\", \"48\", \"49\", \"50\", \"51\", \"52\", \"53\", \"54\", \"67\", \"68\"], \"mode\": \"markers\", \"name\": \"precision_score_weighted\", \"stepped\": false, \"type\": \"scatter\", \"data\": [0.9765409993583202, 0.9489899873088059, 0.9376098737137362, 0.9580451511518184, 0.8858845454925103, 0.9443742776729804, 0.9628264615049641, 0.928742806729467, 0.9488216048392139, 0.9648881889338435, 0.9634887448238513, 0.8742223185938146, 0.9109410359094516, 0.9458293262955805, 0.9677708069765109, 0.9274350318823315, 0.9672972983111663, 0.9496137293921137, 0.9214677560002626, 0.9460763619510667, 0.960001223944586, 0.947166302804484, 0.9467786112671569, 0.9134116380823375, 0.9605241055962462, 0.9345540346290901, 0.9217957750603837, 0.9489009161744772, 0.9350789748039029, 0.9500443551491274, 0.9344427446966902, 0.9601612749174201, 0.9423863213892666, 0.9578037958505394, 0.9485124575098185, 0.9271044094667097, 0.957956245543872, 0.9390776521408967, 0.9314849862120571, 0.8283355432862298, 0.9444875698218712, 0.9655549203179464, 0.9566998319079874, 0.9608583741162072, 0.9650104490130763, 0.4096860179035202, 0.8685646088894701, 0.9645278025226567, 0.9625592558679051, 0.9482021340121367, 0.9560239880738259, 0.9685997874794934, 0.9669960105061751, 0.9598022621055229, 0.959621664369532, 0.9433826775519419, 0.9776198394027028]}, {\"categories\": [\"0\", \"1\", \"2\", \"3\", \"4\", \"5\", \"6\", \"7\", \"8\", \"9\", \"10\", \"11\", \"12\", \"13\", \"14\", \"15\", \"16\", \"17\", \"18\", \"19\", \"20\", \"21\", \"22\", \"23\", \"24\", \"25\", \"26\", \"27\", \"28\", \"29\", \"30\", \"31\", \"32\", \"33\", \"34\", \"35\", \"36\", \"37\", \"38\", \"39\", \"40\", \"41\", \"42\", \"43\", \"44\", \"45\", \"46\", \"47\", \"48\", \"49\", \"50\", \"51\", \"52\", \"53\", \"54\", \"67\", \"68\"], \"mode\": \"lines\", \"name\": \"precision_score_weighted_max\", \"stepped\": true, \"type\": \"scatter\", \"data\": [0.9765409993583202, 0.9765409993583202, 0.9765409993583202, 0.9765409993583202, 0.9765409993583202, 0.9765409993583202, 0.9765409993583202, 0.9765409993583202, 0.9765409993583202, 0.9765409993583202, 0.9765409993583202, 0.9765409993583202, 0.9765409993583202, 0.9765409993583202, 0.9765409993583202, 0.9765409993583202, 0.9765409993583202, 0.9765409993583202, 0.9765409993583202, 0.9765409993583202, 0.9765409993583202, 0.9765409993583202, 0.9765409993583202, 0.9765409993583202, 0.9765409993583202, 0.9765409993583202, 0.9765409993583202, 0.9765409993583202, 0.9765409993583202, 0.9765409993583202, 0.9765409993583202, 0.9765409993583202, 0.9765409993583202, 0.9765409993583202, 0.9765409993583202, 0.9765409993583202, 0.9765409993583202, 0.9765409993583202, 0.9765409993583202, 0.9765409993583202, 0.9765409993583202, 0.9765409993583202, 0.9765409993583202, 0.9765409993583202, 0.9765409993583202, 0.9765409993583202, 0.9765409993583202, 0.9765409993583202, 0.9765409993583202, 0.9765409993583202, 0.9765409993583202, 0.9765409993583202, 0.9765409993583202, 0.9765409993583202, 0.9765409993583202, 0.9765409993583202, 0.9776198394027028]}], \"average_precision_score_micro\": [{\"categories\": [\"0\", \"1\", \"2\", \"3\", \"4\", \"5\", \"6\", \"7\", \"8\", \"9\", \"10\", \"11\", \"12\", \"13\", \"14\", \"15\", \"16\", \"17\", \"18\", \"19\", \"20\", \"21\", \"22\", \"23\", \"24\", \"25\", \"26\", \"27\", \"28\", \"29\", \"30\", \"31\", \"32\", \"33\", \"34\", \"35\", \"36\", \"37\", \"38\", \"39\", \"40\", \"41\", \"42\", \"43\", \"44\", \"45\", \"46\", \"47\", \"48\", \"49\", \"50\", \"51\", \"52\", \"53\", \"54\", \"67\", \"68\"], \"mode\": \"markers\", \"name\": \"average_precision_score_micro\", \"stepped\": false, \"type\": \"scatter\", \"data\": [0.9895997333717722, 0.9775074358323477, 0.9756392869215006, 0.986012780187059, 0.9572822685148488, 0.9703093469032907, 0.9901128607374838, 0.9716858143786199, 0.9688485881069643, 0.9785464835071629, 0.9824360593198126, 0.9385237291354764, 0.9615677259457523, 0.9781846439105166, 0.9886861604531134, 0.9794806324761854, 0.9883081338941646, 0.9681294512735191, 0.9686953024670224, 0.9760275203605814, 0.9857402862122159, 0.9806943107720714, 0.9854952896730595, 0.961840155848904, 0.9805243946222771, 0.9709567489140837, 0.9653159019195435, 0.9686332774672316, 0.9638869944301943, 0.9673183223642798, 0.9630626063558804, 0.9876063199570182, 0.9736099018319447, 0.9834534160920018, 0.9681721875524095, 0.9615636993064826, 0.9814413252177315, 0.9680615430409034, 0.957344778210409, 0.8760568919010829, 0.9665922208986525, 0.98732056713354, 0.9822579826453937, 0.9840194514684648, 0.9771971602236541, 0.8668599003612716, 0.9157445013104725, 0.9879659290683408, 0.9853201325977546, 0.9736168395397197, 0.9840015334228908, 0.9888567509369128, 0.9878445960787307, 0.9686834386246964, 0.9846872028402709, 0.9802028192420985, 0.993636912702592]}, {\"categories\": [\"0\", \"1\", \"2\", \"3\", \"4\", \"5\", \"6\", \"7\", \"8\", \"9\", \"10\", \"11\", \"12\", \"13\", \"14\", \"15\", \"16\", \"17\", \"18\", \"19\", \"20\", \"21\", \"22\", \"23\", \"24\", \"25\", \"26\", \"27\", \"28\", \"29\", \"30\", \"31\", \"32\", \"33\", \"34\", \"35\", \"36\", \"37\", \"38\", \"39\", \"40\", \"41\", \"42\", \"43\", \"44\", \"45\", \"46\", \"47\", \"48\", \"49\", \"50\", \"51\", \"52\", \"53\", \"54\", \"67\", \"68\"], \"mode\": \"lines\", \"name\": \"average_precision_score_micro_max\", \"stepped\": true, \"type\": \"scatter\", \"data\": [0.9895997333717722, 0.9895997333717722, 0.9895997333717722, 0.9895997333717722, 0.9895997333717722, 0.9895997333717722, 0.9901128607374838, 0.9901128607374838, 0.9901128607374838, 0.9901128607374838, 0.9901128607374838, 0.9901128607374838, 0.9901128607374838, 0.9901128607374838, 0.9901128607374838, 0.9901128607374838, 0.9901128607374838, 0.9901128607374838, 0.9901128607374838, 0.9901128607374838, 0.9901128607374838, 0.9901128607374838, 0.9901128607374838, 0.9901128607374838, 0.9901128607374838, 0.9901128607374838, 0.9901128607374838, 0.9901128607374838, 0.9901128607374838, 0.9901128607374838, 0.9901128607374838, 0.9901128607374838, 0.9901128607374838, 0.9901128607374838, 0.9901128607374838, 0.9901128607374838, 0.9901128607374838, 0.9901128607374838, 0.9901128607374838, 0.9901128607374838, 0.9901128607374838, 0.9901128607374838, 0.9901128607374838, 0.9901128607374838, 0.9901128607374838, 0.9901128607374838, 0.9901128607374838, 0.9901128607374838, 0.9901128607374838, 0.9901128607374838, 0.9901128607374838, 0.9901128607374838, 0.9901128607374838, 0.9901128607374838, 0.9901128607374838, 0.9901128607374838, 0.993636912702592]}], \"weighted_accuracy\": [{\"categories\": [\"0\", \"1\", \"2\", \"3\", \"4\", \"5\", \"6\", \"7\", \"8\", \"9\", \"10\", \"11\", \"12\", \"13\", \"14\", \"15\", \"16\", \"17\", \"18\", \"19\", \"20\", \"21\", \"22\", \"23\", \"24\", \"25\", \"26\", \"27\", \"28\", \"29\", \"30\", \"31\", \"32\", \"33\", \"34\", \"35\", \"36\", \"37\", \"38\", \"39\", \"40\", \"41\", \"42\", \"43\", \"44\", \"45\", \"46\", \"47\", \"48\", \"49\", \"50\", \"51\", \"52\", \"53\", \"54\", \"67\", \"68\"], \"mode\": \"markers\", \"name\": \"weighted_accuracy\", \"stepped\": false, \"type\": \"scatter\", \"data\": [0.9815933537178804, 0.9617635272836056, 0.9518383350823386, 0.9671134052847924, 0.8653156202545986, 0.9589713194456678, 0.9696052582282731, 0.9441469470789562, 0.9623724524139048, 0.9720947220933409, 0.9726851236413405, 0.8657305481455836, 0.8860148567981483, 0.9586399918486502, 0.9756107304007723, 0.9413789946756181, 0.9753480712899937, 0.9623012413926659, 0.9086079736335334, 0.9588257803575803, 0.9697213353527839, 0.9605337051338534, 0.959890098004605, 0.9234084772598551, 0.9698258195150661, 0.949798166457741, 0.9339238610451562, 0.9619702299937128, 0.9493195320428008, 0.9628679057422277, 0.9495034070032982, 0.9687174958709236, 0.9573063718186341, 0.9686679017557321, 0.960487764560065, 0.9444582532518334, 0.9681694005885686, 0.9543992562992512, 0.9471013334875739, 0.8279903760138986, 0.9586271440984167, 0.9740484469769086, 0.9669232820186151, 0.9708349779423076, 0.973746951044177, 0.7590419405296268, 0.8586472108420248, 0.9741808469992771, 0.9717571484464104, 0.960752847347274, 0.9671741673057705, 0.9759414843669555, 0.974490179529811, 0.968585956998643, 0.9696890203054626, 0.9567422818024168, 0.9832140165035437]}, {\"categories\": [\"0\", \"1\", \"2\", \"3\", \"4\", \"5\", \"6\", \"7\", \"8\", \"9\", \"10\", \"11\", \"12\", \"13\", \"14\", \"15\", \"16\", \"17\", \"18\", \"19\", \"20\", \"21\", \"22\", \"23\", \"24\", \"25\", \"26\", \"27\", \"28\", \"29\", \"30\", \"31\", \"32\", \"33\", \"34\", \"35\", \"36\", \"37\", \"38\", \"39\", \"40\", \"41\", \"42\", \"43\", \"44\", \"45\", \"46\", \"47\", \"48\", \"49\", \"50\", \"51\", \"52\", \"53\", \"54\", \"67\", \"68\"], \"mode\": \"lines\", \"name\": \"weighted_accuracy_max\", \"stepped\": true, \"type\": \"scatter\", \"data\": [0.9815933537178804, 0.9815933537178804, 0.9815933537178804, 0.9815933537178804, 0.9815933537178804, 0.9815933537178804, 0.9815933537178804, 0.9815933537178804, 0.9815933537178804, 0.9815933537178804, 0.9815933537178804, 0.9815933537178804, 0.9815933537178804, 0.9815933537178804, 0.9815933537178804, 0.9815933537178804, 0.9815933537178804, 0.9815933537178804, 0.9815933537178804, 0.9815933537178804, 0.9815933537178804, 0.9815933537178804, 0.9815933537178804, 0.9815933537178804, 0.9815933537178804, 0.9815933537178804, 0.9815933537178804, 0.9815933537178804, 0.9815933537178804, 0.9815933537178804, 0.9815933537178804, 0.9815933537178804, 0.9815933537178804, 0.9815933537178804, 0.9815933537178804, 0.9815933537178804, 0.9815933537178804, 0.9815933537178804, 0.9815933537178804, 0.9815933537178804, 0.9815933537178804, 0.9815933537178804, 0.9815933537178804, 0.9815933537178804, 0.9815933537178804, 0.9815933537178804, 0.9815933537178804, 0.9815933537178804, 0.9815933537178804, 0.9815933537178804, 0.9815933537178804, 0.9815933537178804, 0.9815933537178804, 0.9815933537178804, 0.9815933537178804, 0.9815933537178804, 0.9832140165035437]}], \"f1_score_weighted\": [{\"categories\": [\"0\", \"1\", \"2\", \"3\", \"4\", \"5\", \"6\", \"7\", \"8\", \"9\", \"10\", \"11\", \"12\", \"13\", \"14\", \"15\", \"16\", \"17\", \"18\", \"19\", \"20\", \"21\", \"22\", \"23\", \"24\", \"25\", \"26\", \"27\", \"28\", \"29\", \"30\", \"31\", \"32\", \"33\", \"34\", \"35\", \"36\", \"37\", \"38\", \"39\", \"40\", \"41\", \"42\", \"43\", \"44\", \"45\", \"46\", \"47\", \"48\", \"49\", \"50\", \"51\", \"52\", \"53\", \"54\", \"67\", \"68\"], \"mode\": \"markers\", \"name\": \"f1_score_weighted\", \"stepped\": false, \"type\": \"scatter\", \"data\": [0.975997813652936, 0.94395549506122, 0.9322347232297461, 0.9560638394793597, 0.8742662578128337, 0.9373880051413358, 0.9620218034612041, 0.9234439286804891, 0.9429035376169309, 0.9639051790921838, 0.9613400103458608, 0.8691845953642942, 0.8994242385294026, 0.9422189212028497, 0.9662501012688423, 0.924887179673696, 0.9657659576877838, 0.9438498177925698, 0.9159998074351273, 0.9422138148228579, 0.9579556200413237, 0.9420317315604878, 0.9426417132604562, 0.9093156387965107, 0.9584633807832673, 0.9292968399052106, 0.9198760403164795, 0.9434258302398358, 0.9303500333822116, 0.9449370340797483, 0.929319687116751, 0.9584958932967335, 0.9348856408260113, 0.9537944776122167, 0.9445926386858429, 0.9144617612428019, 0.9554913407198097, 0.9319678057377234, 0.9251928336249658, 0.8240134122741803, 0.9379357601792209, 0.9638077820607172, 0.9534409795208668, 0.9583923840071688, 0.9627697998515675, 0.49949938514069214, 0.8626730229069847, 0.9622897048646942, 0.9603697008479504, 0.9441185732175158, 0.9524218185505857, 0.9672259684406836, 0.9657838026718477, 0.957986552237362, 0.9574596994248763, 0.9397639758853478, 0.976931665587851]}, {\"categories\": [\"0\", \"1\", \"2\", \"3\", \"4\", \"5\", \"6\", \"7\", \"8\", \"9\", \"10\", \"11\", \"12\", \"13\", \"14\", \"15\", \"16\", \"17\", \"18\", \"19\", \"20\", \"21\", \"22\", \"23\", \"24\", \"25\", \"26\", \"27\", \"28\", \"29\", \"30\", \"31\", \"32\", \"33\", \"34\", \"35\", \"36\", \"37\", \"38\", \"39\", \"40\", \"41\", \"42\", \"43\", \"44\", \"45\", \"46\", \"47\", \"48\", \"49\", \"50\", \"51\", \"52\", \"53\", \"54\", \"67\", \"68\"], \"mode\": \"lines\", \"name\": \"f1_score_weighted_max\", \"stepped\": true, \"type\": \"scatter\", \"data\": [0.975997813652936, 0.975997813652936, 0.975997813652936, 0.975997813652936, 0.975997813652936, 0.975997813652936, 0.975997813652936, 0.975997813652936, 0.975997813652936, 0.975997813652936, 0.975997813652936, 0.975997813652936, 0.975997813652936, 0.975997813652936, 0.975997813652936, 0.975997813652936, 0.975997813652936, 0.975997813652936, 0.975997813652936, 0.975997813652936, 0.975997813652936, 0.975997813652936, 0.975997813652936, 0.975997813652936, 0.975997813652936, 0.975997813652936, 0.975997813652936, 0.975997813652936, 0.975997813652936, 0.975997813652936, 0.975997813652936, 0.975997813652936, 0.975997813652936, 0.975997813652936, 0.975997813652936, 0.975997813652936, 0.975997813652936, 0.975997813652936, 0.975997813652936, 0.975997813652936, 0.975997813652936, 0.975997813652936, 0.975997813652936, 0.975997813652936, 0.975997813652936, 0.975997813652936, 0.975997813652936, 0.975997813652936, 0.975997813652936, 0.975997813652936, 0.975997813652936, 0.975997813652936, 0.975997813652936, 0.975997813652936, 0.975997813652936, 0.975997813652936, 0.976931665587851]}]}, \"metricName\": null, \"primaryMetricName\": \"accuracy\", \"showLegend\": false}, \"run_metrics\": [{\"name\": \"experiment_status\", \"run_id\": \"AutoML_e15dc22b-dc6d-4211-a51b-17a7051f686c\", \"categories\": [0, 1, 2, 3, 4, 5, 6, 7, 8, 9, 10, 11, 12, 13], \"series\": [{\"data\": [\"DatasetEvaluation\", \"FeaturesGeneration\", \"DatasetFeaturization\", \"DatasetFeaturizationCompleted\", \"DatasetCrossValidationSplit\", \"ModelSelection\", \"BestRunExplainModel\", \"ModelExplanationDataSetSetup\", \"PickSurrogateModel\", \"EngineeredFeatureExplanations\", \"EngineeredFeatureExplanations\", \"RawFeaturesExplanations\", \"RawFeaturesExplanations\", \"BestRunExplainModel\"]}]}, {\"name\": \"experiment_status_description\", \"run_id\": \"AutoML_e15dc22b-dc6d-4211-a51b-17a7051f686c\", \"categories\": [0, 1, 2, 3, 4, 5, 6, 7, 8, 9, 10, 11, 12, 13], \"series\": [{\"data\": [\"Gathering dataset statistics.\", \"Generating features for the dataset.\", \"Beginning to fit featurizers and featurize the dataset.\", \"Completed fit featurizers and featurizing the dataset.\", \"Generating individually featurized CV splits.\", \"Beginning model selection.\", \"Best run model explanations started\", \"Model explanations data setup completed\", \"Choosing LightGBM as the surrogate model for explanations\", \"Computation of engineered features started\", \"Computation of engineered features completed\", \"Computation of raw features started\", \"Computation of raw features completed\", \"Best run model explanations completed\"]}]}, {\"name\": \"balanced_accuracy\", \"run_id\": \"AutoML_e15dc22b-dc6d-4211-a51b-17a7051f686c\", \"categories\": [0], \"series\": [{\"data\": [0.9699436277983383]}]}, {\"name\": \"matthews_correlation\", \"run_id\": \"AutoML_e15dc22b-dc6d-4211-a51b-17a7051f686c\", \"categories\": [0], \"series\": [{\"data\": [0.9507239888562348]}]}, {\"name\": \"recall_score_weighted\", \"run_id\": \"AutoML_e15dc22b-dc6d-4211-a51b-17a7051f686c\", \"categories\": [0], \"series\": [{\"data\": [0.9770773638968482]}]}, {\"name\": \"average_precision_score_micro\", \"run_id\": \"AutoML_e15dc22b-dc6d-4211-a51b-17a7051f686c\", \"categories\": [0], \"series\": [{\"data\": [0.993636912702592]}]}, {\"name\": \"f1_score_micro\", \"run_id\": \"AutoML_e15dc22b-dc6d-4211-a51b-17a7051f686c\", \"categories\": [0], \"series\": [{\"data\": [0.9770773638968482]}]}, {\"name\": \"accuracy\", \"run_id\": \"AutoML_e15dc22b-dc6d-4211-a51b-17a7051f686c\", \"categories\": [0], \"series\": [{\"data\": [0.9770773638968482]}]}, {\"name\": \"precision_score_weighted\", \"run_id\": \"AutoML_e15dc22b-dc6d-4211-a51b-17a7051f686c\", \"categories\": [0], \"series\": [{\"data\": [0.9776198394027028]}]}, {\"name\": \"AUC_macro\", \"run_id\": \"AutoML_e15dc22b-dc6d-4211-a51b-17a7051f686c\", \"categories\": [0], \"series\": [{\"data\": [0.9914994465764315]}]}, {\"name\": \"weighted_accuracy\", \"run_id\": \"AutoML_e15dc22b-dc6d-4211-a51b-17a7051f686c\", \"categories\": [0], \"series\": [{\"data\": [0.9832140165035437]}]}, {\"name\": \"AUC_micro\", \"run_id\": \"AutoML_e15dc22b-dc6d-4211-a51b-17a7051f686c\", \"categories\": [0], \"series\": [{\"data\": [0.9935701129985249]}]}, {\"name\": \"log_loss\", \"run_id\": \"AutoML_e15dc22b-dc6d-4211-a51b-17a7051f686c\", \"categories\": [0], \"series\": [{\"data\": [0.09629152218133265]}]}, {\"name\": \"average_precision_score_weighted\", \"run_id\": \"AutoML_e15dc22b-dc6d-4211-a51b-17a7051f686c\", \"categories\": [0], \"series\": [{\"data\": [0.9925535430951231]}]}, {\"name\": \"recall_score_micro\", \"run_id\": \"AutoML_e15dc22b-dc6d-4211-a51b-17a7051f686c\", \"categories\": [0], \"series\": [{\"data\": [0.9770773638968482]}]}, {\"name\": \"precision_score_micro\", \"run_id\": \"AutoML_e15dc22b-dc6d-4211-a51b-17a7051f686c\", \"categories\": [0], \"series\": [{\"data\": [0.9770773638968482]}]}, {\"name\": \"norm_macro_recall\", \"run_id\": \"AutoML_e15dc22b-dc6d-4211-a51b-17a7051f686c\", \"categories\": [0], \"series\": [{\"data\": [0.9398872555966765]}]}, {\"name\": \"f1_score_macro\", \"run_id\": \"AutoML_e15dc22b-dc6d-4211-a51b-17a7051f686c\", \"categories\": [0], \"series\": [{\"data\": [0.974914645594493]}]}, {\"name\": \"f1_score_weighted\", \"run_id\": \"AutoML_e15dc22b-dc6d-4211-a51b-17a7051f686c\", \"categories\": [0], \"series\": [{\"data\": [0.976931665587851]}]}, {\"name\": \"precision_score_macro\", \"run_id\": \"AutoML_e15dc22b-dc6d-4211-a51b-17a7051f686c\", \"categories\": [0], \"series\": [{\"data\": [0.9808513179833582]}]}, {\"name\": \"AUC_weighted\", \"run_id\": \"AutoML_e15dc22b-dc6d-4211-a51b-17a7051f686c\", \"categories\": [0], \"series\": [{\"data\": [0.9914994465764315]}]}, {\"name\": \"recall_score_macro\", \"run_id\": \"AutoML_e15dc22b-dc6d-4211-a51b-17a7051f686c\", \"categories\": [0], \"series\": [{\"data\": [0.9699436277983383]}]}, {\"name\": \"average_precision_score_macro\", \"run_id\": \"AutoML_e15dc22b-dc6d-4211-a51b-17a7051f686c\", \"categories\": [0], \"series\": [{\"data\": [0.9919399547222397]}]}], \"run_logs\": \"\\nRun is completed.\", \"graph\": {}, \"widget_settings\": {\"childWidgetDisplay\": \"popup\", \"send_telemetry\": false, \"log_level\": \"INFO\", \"sdk_version\": \"1.22.0\"}, \"loading\": false}"
     },
     "metadata": {},
     "output_type": "display_data"
    }
   ],
   "source": [
    "from azureml.widgets import RunDetails\n",
    "RunDetails(automlmodel_run).show()"
   ]
  },
  {
   "cell_type": "code",
   "execution_count": 8,
   "metadata": {
    "gather": {
     "logged": 1615704954547
    }
   },
   "outputs": [
    {
     "name": "stdout",
     "output_type": "stream",
     "text": [
      "\n",
      "\n",
      "****************************************************************************************************\n",
      "DATA GUARDRAILS: \n",
      "\n",
      "TYPE:         Cross validation\n",
      "STATUS:       DONE\n",
      "DESCRIPTION:  Each iteration of the trained model was validated through cross-validation.\n",
      "              \n",
      "DETAILS:      \n",
      "+---------------------------------+\n",
      "|Number of folds                  |\n",
      "+=================================+\n",
      "|3                                |\n",
      "+---------------------------------+\n",
      "\n",
      "****************************************************************************************************\n",
      "\n",
      "TYPE:         Class balancing detection\n",
      "STATUS:       PASSED\n",
      "DESCRIPTION:  Your inputs were analyzed, and all classes are balanced in your training data.\n",
      "              Learn more about imbalanced data: https://aka.ms/AutomatedMLImbalancedData\n",
      "\n",
      "****************************************************************************************************\n",
      "\n",
      "TYPE:         Missing feature values imputation\n",
      "STATUS:       PASSED\n",
      "DESCRIPTION:  No feature missing values were detected in the training data.\n",
      "              Learn more about missing value imputation: https://aka.ms/AutomatedMLFeaturization\n",
      "\n",
      "****************************************************************************************************\n",
      "\n",
      "TYPE:         High cardinality feature detection\n",
      "STATUS:       PASSED\n",
      "DESCRIPTION:  Your inputs were analyzed, and no high cardinality features were detected.\n",
      "              Learn more about high cardinality feature handling: https://aka.ms/AutomatedMLFeaturization\n",
      "\n",
      "****************************************************************************************************\n",
      "\n",
      "****************************************************************************************************\n",
      "ITERATION: The iteration being evaluated.\n",
      "PIPELINE: A summary description of the pipeline being evaluated.\n",
      "DURATION: Time taken for the current iteration.\n",
      "METRIC: The result of computing score on the fitted pipeline.\n",
      "BEST: The best observed score thus far.\n",
      "****************************************************************************************************\n",
      "\n",
      " ITERATION   PIPELINE                                       DURATION      METRIC      BEST\n",
      "         0   MaxAbsScaler LightGBM                          0:01:44       0.9761    0.9761\n",
      "         1   MinMaxScaler RandomForest                      0:00:41       0.9451    0.9761\n",
      "        10   MaxAbsScaler LightGBM                          0:00:58       0.9618    0.9761\n",
      "        11   MinMaxScaler LogisticRegression                0:00:50       0.8677    0.9761\n",
      "        12   StandardScalerWrapper LogisticRegression       0:01:36       0.8978    0.9761\n",
      "        13   MaxAbsScaler KNN                               0:00:57       0.9432    0.9761\n",
      "        14   RobustScaler LightGBM                          0:01:42       0.9666    0.9761\n",
      "        15   StandardScalerWrapper RandomForest             0:01:43       0.9260    0.9761\n",
      "        16   RobustScaler LightGBM                          0:00:53       0.9661    0.9761\n",
      "        17   RobustScaler LightGBM                          0:00:50       0.9451    0.9761\n",
      "        18   RobustScaler LogisticRegression                0:00:46       0.9150    0.9761\n",
      "        19   StandardScalerWrapper KNN                      0:00:49       0.9432    0.9761\n",
      "         2   MinMaxScaler RandomForest                      0:01:35       0.9336    0.9761\n",
      "         3   MinMaxScaler RandomForest                      0:01:35       0.9565    0.9761\n",
      "         4   MinMaxScaler RandomForest                      0:01:35       0.8725    0.9761\n",
      "         5   MaxAbsScaler GradientBoosting                  0:01:49       0.9389    0.9761\n",
      "         6   SparseNormalizer LightGBM                      0:00:49       0.9623    0.9761\n",
      "         7   SparseNormalizer KNN                           0:00:57       0.9250    0.9761\n",
      "         8   RobustScaler LightGBM                          0:00:45       0.9441    0.9761\n",
      "         9   SparseNormalizer KNN                           0:01:41       0.9642    0.9761\n",
      "        20   RobustScaler LightGBM                          0:00:43       0.9585    0.9761\n",
      "        21   MinMaxScaler SVM                               0:00:56       0.9432    0.9761\n",
      "        22   MinMaxScaler SVM                               0:00:49       0.9436    0.9761\n",
      "        23   RobustScaler RandomForest                      0:00:52       0.9102    0.9761\n",
      "        24   MaxAbsScaler LightGBM                          0:00:50       0.9589    0.9761\n",
      "        25   SparseNormalizer KNN                           0:00:46       0.9308    0.9761\n",
      "        26   StandardScalerWrapper LightGBM                 0:00:43       0.9207    0.9761\n",
      "        27   RobustScaler GradientBoosting                  0:00:49       0.9446    0.9761\n",
      "        28   StandardScalerWrapper LightGBM                 0:00:45       0.9317    0.9761\n",
      "        29   StandardScalerWrapper LightGBM                 0:00:52       0.9460    0.9761\n",
      "        30   MaxAbsScaler ExtremeRandomTrees                0:00:47       0.9308    0.9761\n",
      "        31   SparseNormalizer LightGBM                      0:00:49       0.9589    0.9761\n",
      "        32   MinMaxScaler LightGBM                          0:00:45       0.9365    0.9761\n",
      "        33   MinMaxScaler LightGBM                          0:00:45       0.9546    0.9761\n",
      "        34   MaxAbsScaler LightGBM                          0:00:50       0.9456    0.9761\n",
      "        35   MaxAbsScaler LightGBM                          0:00:56       0.9174    0.9761\n",
      "        36   MinMaxScaler LightGBM                          0:00:44       0.9561    0.9761\n",
      "        37   StandardScalerWrapper RandomForest             0:00:57       0.9336    0.9761\n",
      "        38   StandardScalerWrapper ExtremeRandomTrees       0:00:45       0.9269    0.9761\n",
      "        39   PCA LightGBM                                   0:00:49       0.8228    0.9761\n",
      "        40   SparseNormalizer LightGBM                      0:00:56       0.9394    0.9761\n",
      "        41   StandardScalerWrapper LightGBM                 0:00:53       0.9642    0.9761\n",
      "        42   MaxAbsScaler LightGBM                          0:00:56       0.9542    0.9761\n",
      "        43   RobustScaler LightGBM                          0:01:00       0.9589    0.9761\n",
      "        44   MaxAbsScaler LightGBM                          0:00:42       0.9632    0.9761\n",
      "        45   StandardScalerWrapper LightGBM                 0:00:56       0.6399    0.9761\n",
      "        46   MinMaxScaler LogisticRegression                0:00:45       0.8610    0.9761\n",
      "        47   StandardScalerWrapper LightGBM                 0:00:44       0.9628    0.9761\n",
      "        48   MaxAbsScaler LightGBM                          0:00:52       0.9608    0.9761\n",
      "        49   MaxAbsScaler LightGBM                          0:00:46       0.9451    0.9761\n",
      "        50   MaxAbsScaler RandomForest                      0:01:00       0.9532    0.9761\n",
      "        51   StandardScalerWrapper LightGBM                 0:00:50       0.9675    0.9761\n",
      "        52   StandardScalerWrapper LightGBM                 0:00:47       0.9661    0.9761\n",
      "        53   StandardScalerWrapper LightGBM                 0:00:49       0.9585    0.9761\n",
      "        54   StandardScalerWrapper LightGBM                 0:00:46       0.9580    0.9761\n",
      "        55                                                  0:00:15          nan    0.9761\n",
      "        56                                                  0:01:26          nan    0.9761\n",
      "        57                                                  0:01:18          nan    0.9761\n",
      "        58                                                  0:01:12          nan    0.9761\n",
      "        59                                                  0:01:07          nan    0.9761\n",
      "        60                                                  0:01:05          nan    0.9761\n",
      "        61                                                  0:01:05          nan    0.9761\n",
      "        62                                                  0:00:58          nan    0.9761\n",
      "        63                                                  0:00:59          nan    0.9761\n",
      "        64                                                  0:00:52          nan    0.9761\n",
      "        65                                                  0:00:26          nan    0.9761\n",
      "        66                                                  0:00:18          nan    0.9761\n",
      "        67   RobustScaler SVM                               0:01:49       0.9408    0.9761\n",
      "        68    VotingEnsemble                                0:01:30       0.9771    0.9771\n"
     ]
    },
    {
     "data": {
      "text/plain": [
       "{'runId': 'AutoML_e15dc22b-dc6d-4211-a51b-17a7051f686c',\n",
       " 'target': 'compute-ml',\n",
       " 'status': 'Completed',\n",
       " 'startTimeUtc': '2021-03-14T05:50:53.220201Z',\n",
       " 'endTimeUtc': '2021-03-14T06:52:22.812178Z',\n",
       " 'properties': {'num_iterations': '1000',\n",
       "  'training_type': 'TrainFull',\n",
       "  'acquisition_function': 'EI',\n",
       "  'primary_metric': 'accuracy',\n",
       "  'train_split': '0',\n",
       "  'acquisition_parameter': '0',\n",
       "  'num_cross_validation': None,\n",
       "  'target': 'compute-ml',\n",
       "  'AMLSettingsJsonString': '{\"path\":null,\"name\":\"hydraulic-automl-experiment\",\"subscription_id\":\"610d6e37-4747-4a20-80eb-3aad70a55f43\",\"resource_group\":\"aml-quickstarts-140391\",\"workspace_name\":\"quick-starts-ws-140391\",\"region\":\"southcentralus\",\"compute_target\":\"compute-ml\",\"spark_service\":null,\"azure_service\":\"remote\",\"many_models\":false,\"pipeline_fetch_max_batch_size\":1,\"iterations\":1000,\"primary_metric\":\"accuracy\",\"task_type\":\"classification\",\"data_script\":null,\"validation_size\":0.0,\"n_cross_validations\":null,\"y_min\":null,\"y_max\":null,\"num_classes\":null,\"featurization\":\"auto\",\"_ignore_package_version_incompatibilities\":false,\"is_timeseries\":false,\"max_cores_per_iteration\":1,\"max_concurrent_iterations\":20,\"iteration_timeout_minutes\":null,\"mem_in_mb\":null,\"enforce_time_on_windows\":false,\"experiment_timeout_minutes\":60,\"experiment_exit_score\":null,\"whitelist_models\":null,\"blacklist_algos\":[\"XGBoostClassifier\",\"TensorFlowLinearClassifier\",\"TensorFlowDNN\"],\"supported_models\":[\"SVM\",\"LogisticRegression\",\"LightGBM\",\"KNN\",\"XGBoostClassifier\",\"BernoulliNaiveBayes\",\"AveragedPerceptronClassifier\",\"GradientBoosting\",\"TensorFlowLinearClassifier\",\"MultinomialNaiveBayes\",\"LinearSVM\",\"DecisionTree\",\"ExtremeRandomTrees\",\"SGD\",\"RandomForest\",\"TensorFlowDNN\"],\"private_models\":[],\"auto_blacklist\":true,\"blacklist_samples_reached\":false,\"exclude_nan_labels\":true,\"verbosity\":20,\"_debug_log\":\"azureml_automl.log\",\"show_warnings\":false,\"model_explainability\":true,\"service_url\":null,\"sdk_url\":null,\"sdk_packages\":null,\"enable_onnx_compatible_models\":true,\"enable_split_onnx_featurizer_estimator_models\":false,\"vm_type\":\"STANDARD_DS14_V2\",\"telemetry_verbosity\":20,\"send_telemetry\":true,\"enable_dnn\":false,\"scenario\":\"SDK-1.13.0\",\"environment_label\":null,\"force_text_dnn\":false,\"enable_feature_sweeping\":false,\"enable_early_stopping\":true,\"early_stopping_n_iters\":10,\"metrics\":null,\"enable_ensembling\":true,\"enable_stack_ensembling\":false,\"ensemble_iterations\":15,\"enable_tf\":false,\"enable_subsampling\":null,\"subsample_seed\":null,\"enable_nimbusml\":false,\"enable_streaming\":false,\"force_streaming\":false,\"track_child_runs\":true,\"allowed_private_models\":[],\"label_column_name\":\"STABILITY\",\"weight_column_name\":null,\"cv_split_column_names\":null,\"enable_local_managed\":false,\"_local_managed_run_id\":null,\"cost_mode\":1,\"lag_length\":0,\"metric_operation\":\"maximize\",\"preprocess\":true}',\n",
       "  'DataPrepJsonString': '{\\\\\"training_data\\\\\": \\\\\"{\\\\\\\\\\\\\"blocks\\\\\\\\\\\\\": [{\\\\\\\\\\\\\"id\\\\\\\\\\\\\": \\\\\\\\\\\\\"be2f9dda-ede9-4494-93c0-e8e70f8f12a4\\\\\\\\\\\\\", \\\\\\\\\\\\\"type\\\\\\\\\\\\\": \\\\\\\\\\\\\"Microsoft.DPrep.GetFilesBlock\\\\\\\\\\\\\", \\\\\\\\\\\\\"arguments\\\\\\\\\\\\\": {\\\\\\\\\\\\\"isArchive\\\\\\\\\\\\\": false, \\\\\\\\\\\\\"path\\\\\\\\\\\\\": {\\\\\\\\\\\\\"target\\\\\\\\\\\\\": 4, \\\\\\\\\\\\\"resourceDetails\\\\\\\\\\\\\": [{\\\\\\\\\\\\\"path\\\\\\\\\\\\\": \\\\\\\\\\\\\"https://raw.githubusercontent.com/chamsun-imoggo/udacityms-3rdproject/main/data/hydraulic_systems_training.csv\\\\\\\\\\\\\"}]}}, \\\\\\\\\\\\\"localData\\\\\\\\\\\\\": {}, \\\\\\\\\\\\\"isEnabled\\\\\\\\\\\\\": true, \\\\\\\\\\\\\"name\\\\\\\\\\\\\": null, \\\\\\\\\\\\\"annotation\\\\\\\\\\\\\": null}, {\\\\\\\\\\\\\"id\\\\\\\\\\\\\": \\\\\\\\\\\\\"3c88efb7-5604-4e22-9e67-f304a5bf2427\\\\\\\\\\\\\", \\\\\\\\\\\\\"type\\\\\\\\\\\\\": \\\\\\\\\\\\\"Microsoft.DPrep.ParseDelimitedBlock\\\\\\\\\\\\\", \\\\\\\\\\\\\"arguments\\\\\\\\\\\\\": {\\\\\\\\\\\\\"columnHeadersMode\\\\\\\\\\\\\": 3, \\\\\\\\\\\\\"fileEncoding\\\\\\\\\\\\\": 0, \\\\\\\\\\\\\"handleQuotedLineBreaks\\\\\\\\\\\\\": false, \\\\\\\\\\\\\"preview\\\\\\\\\\\\\": false, \\\\\\\\\\\\\"separator\\\\\\\\\\\\\": \\\\\\\\\\\\\",\\\\\\\\\\\\\", \\\\\\\\\\\\\"skipRows\\\\\\\\\\\\\": 0, \\\\\\\\\\\\\"skipRowsMode\\\\\\\\\\\\\": 0}, \\\\\\\\\\\\\"localData\\\\\\\\\\\\\": {}, \\\\\\\\\\\\\"isEnabled\\\\\\\\\\\\\": true, \\\\\\\\\\\\\"name\\\\\\\\\\\\\": null, \\\\\\\\\\\\\"annotation\\\\\\\\\\\\\": null}, {\\\\\\\\\\\\\"id\\\\\\\\\\\\\": \\\\\\\\\\\\\"db3f8ecf-1d76-4d53-bf79-71aa907c72b8\\\\\\\\\\\\\", \\\\\\\\\\\\\"type\\\\\\\\\\\\\": \\\\\\\\\\\\\"Microsoft.DPrep.DropColumnsBlock\\\\\\\\\\\\\", \\\\\\\\\\\\\"arguments\\\\\\\\\\\\\": {\\\\\\\\\\\\\"columns\\\\\\\\\\\\\": {\\\\\\\\\\\\\"type\\\\\\\\\\\\\": 0, \\\\\\\\\\\\\"details\\\\\\\\\\\\\": {\\\\\\\\\\\\\"selectedColumns\\\\\\\\\\\\\": [\\\\\\\\\\\\\"Path\\\\\\\\\\\\\"]}}}, \\\\\\\\\\\\\"localData\\\\\\\\\\\\\": {}, \\\\\\\\\\\\\"isEnabled\\\\\\\\\\\\\": true, \\\\\\\\\\\\\"name\\\\\\\\\\\\\": null, \\\\\\\\\\\\\"annotation\\\\\\\\\\\\\": null}, {\\\\\\\\\\\\\"id\\\\\\\\\\\\\": \\\\\\\\\\\\\"72ca7acd-3ca9-4879-a580-63947006ec06\\\\\\\\\\\\\", \\\\\\\\\\\\\"type\\\\\\\\\\\\\": \\\\\\\\\\\\\"Microsoft.DPrep.SetColumnTypesBlock\\\\\\\\\\\\\", \\\\\\\\\\\\\"arguments\\\\\\\\\\\\\": {\\\\\\\\\\\\\"columnConversion\\\\\\\\\\\\\": [{\\\\\\\\\\\\\"column\\\\\\\\\\\\\": {\\\\\\\\\\\\\"type\\\\\\\\\\\\\": 2, \\\\\\\\\\\\\"details\\\\\\\\\\\\\": {\\\\\\\\\\\\\"selectedColumn\\\\\\\\\\\\\": \\\\\\\\\\\\\"PS1\\\\\\\\\\\\\"}}, \\\\\\\\\\\\\"typeProperty\\\\\\\\\\\\\": 3}, {\\\\\\\\\\\\\"column\\\\\\\\\\\\\": {\\\\\\\\\\\\\"type\\\\\\\\\\\\\": 2, \\\\\\\\\\\\\"details\\\\\\\\\\\\\": {\\\\\\\\\\\\\"selectedColumn\\\\\\\\\\\\\": \\\\\\\\\\\\\"PS2\\\\\\\\\\\\\"}}, \\\\\\\\\\\\\"typeProperty\\\\\\\\\\\\\": 3}, {\\\\\\\\\\\\\"column\\\\\\\\\\\\\": {\\\\\\\\\\\\\"type\\\\\\\\\\\\\": 2, \\\\\\\\\\\\\"details\\\\\\\\\\\\\": {\\\\\\\\\\\\\"selectedColumn\\\\\\\\\\\\\": \\\\\\\\\\\\\"PS3\\\\\\\\\\\\\"}}, \\\\\\\\\\\\\"typeProperty\\\\\\\\\\\\\": 3}, {\\\\\\\\\\\\\"column\\\\\\\\\\\\\": {\\\\\\\\\\\\\"type\\\\\\\\\\\\\": 2, \\\\\\\\\\\\\"details\\\\\\\\\\\\\": {\\\\\\\\\\\\\"selectedColumn\\\\\\\\\\\\\": \\\\\\\\\\\\\"PS4\\\\\\\\\\\\\"}}, \\\\\\\\\\\\\"typeProperty\\\\\\\\\\\\\": 3}, {\\\\\\\\\\\\\"column\\\\\\\\\\\\\": {\\\\\\\\\\\\\"type\\\\\\\\\\\\\": 2, \\\\\\\\\\\\\"details\\\\\\\\\\\\\": {\\\\\\\\\\\\\"selectedColumn\\\\\\\\\\\\\": \\\\\\\\\\\\\"PS5\\\\\\\\\\\\\"}}, \\\\\\\\\\\\\"typeProperty\\\\\\\\\\\\\": 3}, {\\\\\\\\\\\\\"column\\\\\\\\\\\\\": {\\\\\\\\\\\\\"type\\\\\\\\\\\\\": 2, \\\\\\\\\\\\\"details\\\\\\\\\\\\\": {\\\\\\\\\\\\\"selectedColumn\\\\\\\\\\\\\": \\\\\\\\\\\\\"PS6\\\\\\\\\\\\\"}}, \\\\\\\\\\\\\"typeProperty\\\\\\\\\\\\\": 3}, {\\\\\\\\\\\\\"column\\\\\\\\\\\\\": {\\\\\\\\\\\\\"type\\\\\\\\\\\\\": 2, \\\\\\\\\\\\\"details\\\\\\\\\\\\\": {\\\\\\\\\\\\\"selectedColumn\\\\\\\\\\\\\": \\\\\\\\\\\\\"FS1\\\\\\\\\\\\\"}}, \\\\\\\\\\\\\"typeProperty\\\\\\\\\\\\\": 3}, {\\\\\\\\\\\\\"column\\\\\\\\\\\\\": {\\\\\\\\\\\\\"type\\\\\\\\\\\\\": 2, \\\\\\\\\\\\\"details\\\\\\\\\\\\\": {\\\\\\\\\\\\\"selectedColumn\\\\\\\\\\\\\": \\\\\\\\\\\\\"FS2\\\\\\\\\\\\\"}}, \\\\\\\\\\\\\"typeProperty\\\\\\\\\\\\\": 3}, {\\\\\\\\\\\\\"column\\\\\\\\\\\\\": {\\\\\\\\\\\\\"type\\\\\\\\\\\\\": 2, \\\\\\\\\\\\\"details\\\\\\\\\\\\\": {\\\\\\\\\\\\\"selectedColumn\\\\\\\\\\\\\": \\\\\\\\\\\\\"TS1\\\\\\\\\\\\\"}}, \\\\\\\\\\\\\"typeProperty\\\\\\\\\\\\\": 3}, {\\\\\\\\\\\\\"column\\\\\\\\\\\\\": {\\\\\\\\\\\\\"type\\\\\\\\\\\\\": 2, \\\\\\\\\\\\\"details\\\\\\\\\\\\\": {\\\\\\\\\\\\\"selectedColumn\\\\\\\\\\\\\": \\\\\\\\\\\\\"TS2\\\\\\\\\\\\\"}}, \\\\\\\\\\\\\"typeProperty\\\\\\\\\\\\\": 3}, {\\\\\\\\\\\\\"column\\\\\\\\\\\\\": {\\\\\\\\\\\\\"type\\\\\\\\\\\\\": 2, \\\\\\\\\\\\\"details\\\\\\\\\\\\\": {\\\\\\\\\\\\\"selectedColumn\\\\\\\\\\\\\": \\\\\\\\\\\\\"TS3\\\\\\\\\\\\\"}}, \\\\\\\\\\\\\"typeProperty\\\\\\\\\\\\\": 3}, {\\\\\\\\\\\\\"column\\\\\\\\\\\\\": {\\\\\\\\\\\\\"type\\\\\\\\\\\\\": 2, \\\\\\\\\\\\\"details\\\\\\\\\\\\\": {\\\\\\\\\\\\\"selectedColumn\\\\\\\\\\\\\": \\\\\\\\\\\\\"TS4\\\\\\\\\\\\\"}}, \\\\\\\\\\\\\"typeProperty\\\\\\\\\\\\\": 3}, {\\\\\\\\\\\\\"column\\\\\\\\\\\\\": {\\\\\\\\\\\\\"type\\\\\\\\\\\\\": 2, \\\\\\\\\\\\\"details\\\\\\\\\\\\\": {\\\\\\\\\\\\\"selectedColumn\\\\\\\\\\\\\": \\\\\\\\\\\\\"P1\\\\\\\\\\\\\"}}, \\\\\\\\\\\\\"typeProperty\\\\\\\\\\\\\": 3}, {\\\\\\\\\\\\\"column\\\\\\\\\\\\\": {\\\\\\\\\\\\\"type\\\\\\\\\\\\\": 2, \\\\\\\\\\\\\"details\\\\\\\\\\\\\": {\\\\\\\\\\\\\"selectedColumn\\\\\\\\\\\\\": \\\\\\\\\\\\\"VS1\\\\\\\\\\\\\"}}, \\\\\\\\\\\\\"typeProperty\\\\\\\\\\\\\": 3}, {\\\\\\\\\\\\\"column\\\\\\\\\\\\\": {\\\\\\\\\\\\\"type\\\\\\\\\\\\\": 2, \\\\\\\\\\\\\"details\\\\\\\\\\\\\": {\\\\\\\\\\\\\"selectedColumn\\\\\\\\\\\\\": \\\\\\\\\\\\\"CE1\\\\\\\\\\\\\"}}, \\\\\\\\\\\\\"typeProperty\\\\\\\\\\\\\": 3}, {\\\\\\\\\\\\\"column\\\\\\\\\\\\\": {\\\\\\\\\\\\\"type\\\\\\\\\\\\\": 2, \\\\\\\\\\\\\"details\\\\\\\\\\\\\": {\\\\\\\\\\\\\"selectedColumn\\\\\\\\\\\\\": \\\\\\\\\\\\\"CP1\\\\\\\\\\\\\"}}, \\\\\\\\\\\\\"typeProperty\\\\\\\\\\\\\": 3}, {\\\\\\\\\\\\\"column\\\\\\\\\\\\\": {\\\\\\\\\\\\\"type\\\\\\\\\\\\\": 2, \\\\\\\\\\\\\"details\\\\\\\\\\\\\": {\\\\\\\\\\\\\"selectedColumn\\\\\\\\\\\\\": \\\\\\\\\\\\\"SE1\\\\\\\\\\\\\"}}, \\\\\\\\\\\\\"typeProperty\\\\\\\\\\\\\": 3}, {\\\\\\\\\\\\\"column\\\\\\\\\\\\\": {\\\\\\\\\\\\\"type\\\\\\\\\\\\\": 2, \\\\\\\\\\\\\"details\\\\\\\\\\\\\": {\\\\\\\\\\\\\"selectedColumn\\\\\\\\\\\\\": \\\\\\\\\\\\\"STABILITY\\\\\\\\\\\\\"}}, \\\\\\\\\\\\\"typeProperty\\\\\\\\\\\\\": 2}]}, \\\\\\\\\\\\\"localData\\\\\\\\\\\\\": {}, \\\\\\\\\\\\\"isEnabled\\\\\\\\\\\\\": true, \\\\\\\\\\\\\"name\\\\\\\\\\\\\": null, \\\\\\\\\\\\\"annotation\\\\\\\\\\\\\": null}], \\\\\\\\\\\\\"inspectors\\\\\\\\\\\\\": [], \\\\\\\\\\\\\"meta\\\\\\\\\\\\\": {\\\\\\\\\\\\\"savedDatasetId\\\\\\\\\\\\\": \\\\\\\\\\\\\"99376d1e-a221-4590-9ebb-74292d618ade\\\\\\\\\\\\\", \\\\\\\\\\\\\"datasetType\\\\\\\\\\\\\": \\\\\\\\\\\\\"tabular\\\\\\\\\\\\\", \\\\\\\\\\\\\"subscriptionId\\\\\\\\\\\\\": \\\\\\\\\\\\\"610d6e37-4747-4a20-80eb-3aad70a55f43\\\\\\\\\\\\\", \\\\\\\\\\\\\"workspaceId\\\\\\\\\\\\\": \\\\\\\\\\\\\"11ba0951-7a45-4de1-86b4-87453e1c25e6\\\\\\\\\\\\\", \\\\\\\\\\\\\"workspaceLocation\\\\\\\\\\\\\": \\\\\\\\\\\\\"southcentralus\\\\\\\\\\\\\"}}\\\\\", \\\\\"activities\\\\\": 0}',\n",
       "  'EnableSubsampling': None,\n",
       "  'runTemplate': 'AutoML',\n",
       "  'azureml.runsource': 'automl',\n",
       "  'display_task_type': 'classification',\n",
       "  'dependencies_versions': '{\"azureml-widgets\": \"1.22.0\", \"azureml-train\": \"1.22.0\", \"azureml-train-restclients-hyperdrive\": \"1.22.0\", \"azureml-train-core\": \"1.22.0\", \"azureml-train-automl\": \"1.22.0\", \"azureml-train-automl-runtime\": \"1.22.0\", \"azureml-train-automl-client\": \"1.22.0\", \"azureml-tensorboard\": \"1.22.0\", \"azureml-telemetry\": \"1.22.0\", \"azureml-sdk\": \"1.22.0\", \"azureml-samples\": \"0+unknown\", \"azureml-pipeline\": \"1.22.0\", \"azureml-pipeline-steps\": \"1.22.0\", \"azureml-pipeline-core\": \"1.22.0\", \"azureml-opendatasets\": \"1.22.0\", \"azureml-model-management-sdk\": \"1.0.1b6.post1\", \"azureml-mlflow\": \"1.22.0\", \"azureml-interpret\": \"1.22.0\", \"azureml-explain-model\": \"1.22.0\", \"azureml-defaults\": \"1.22.0\", \"azureml-dataset-runtime\": \"1.22.0\", \"azureml-dataprep\": \"2.9.1\", \"azureml-dataprep-rslex\": \"1.7.0\", \"azureml-dataprep-native\": \"29.0.0\", \"azureml-datadrift\": \"1.22.0\", \"azureml-core\": \"1.22.0\", \"azureml-contrib-services\": \"1.22.0\", \"azureml-contrib-server\": \"1.22.0\", \"azureml-contrib-reinforcementlearning\": \"1.22.0\", \"azureml-contrib-pipeline-steps\": \"1.22.0\", \"azureml-contrib-notebook\": \"1.22.0\", \"azureml-contrib-interpret\": \"1.22.0\", \"azureml-contrib-gbdt\": \"1.22.0\", \"azureml-contrib-fairness\": \"1.22.0\", \"azureml-contrib-dataset\": \"1.22.0\", \"azureml-cli-common\": \"1.22.0\", \"azureml-automl-runtime\": \"1.22.0\", \"azureml-automl-core\": \"1.22.0\", \"azureml-accel-models\": \"1.22.0\"}',\n",
       "  '_aml_system_scenario_identification': 'Remote.Parent',\n",
       "  'ClientType': 'SDK',\n",
       "  'environment_cpu_name': 'AzureML-AutoML',\n",
       "  'environment_cpu_label': 'prod',\n",
       "  'environment_gpu_name': 'AzureML-AutoML-GPU',\n",
       "  'environment_gpu_label': 'prod',\n",
       "  'root_attribution': 'automl',\n",
       "  'attribution': 'AutoML',\n",
       "  'Orchestrator': 'AutoML',\n",
       "  'CancelUri': 'https://southcentralus.experiments.azureml.net/jasmine/v1.0/subscriptions/610d6e37-4747-4a20-80eb-3aad70a55f43/resourceGroups/aml-quickstarts-140391/providers/Microsoft.MachineLearningServices/workspaces/quick-starts-ws-140391/experimentids/b77353d5-5b38-41a3-8ba2-ea35705180c1/cancel/AutoML_e15dc22b-dc6d-4211-a51b-17a7051f686c',\n",
       "  'ClientSdkVersion': '1.23.0',\n",
       "  'snapshotId': '00000000-0000-0000-0000-000000000000',\n",
       "  'SetupRunId': 'AutoML_e15dc22b-dc6d-4211-a51b-17a7051f686c_setup',\n",
       "  'SetupRunContainerId': 'dcid.AutoML_e15dc22b-dc6d-4211-a51b-17a7051f686c_setup',\n",
       "  'FeaturizationRunJsonPath': 'featurizer_container.json',\n",
       "  'FeaturizationRunId': 'AutoML_e15dc22b-dc6d-4211-a51b-17a7051f686c_featurize',\n",
       "  'ProblemInfoJsonString': '{\"dataset_num_categorical\": 0, \"is_sparse\": false, \"subsampling\": false, \"dataset_classes\": 2, \"dataset_features\": 17, \"dataset_samples\": 2094, \"single_frequency_class_detected\": false}',\n",
       "  'ModelExplainRunId': 'AutoML_e15dc22b-dc6d-4211-a51b-17a7051f686c_ModelExplain'},\n",
       " 'inputDatasets': [{'dataset': {'id': '99376d1e-a221-4590-9ebb-74292d618ade'}, 'consumptionDetails': {'type': 'RunInput', 'inputName': 'training_data', 'mechanism': 'Direct'}}],\n",
       " 'outputDatasets': [],\n",
       " 'logFiles': {},\n",
       " 'submittedBy': 'ODL_User 140391'}"
      ]
     },
     "execution_count": 8,
     "metadata": {},
     "output_type": "execute_result"
    }
   ],
   "source": [
    "automlmodel_run.wait_for_completion(show_output=True)"
   ]
  },
  {
   "cell_type": "markdown",
   "metadata": {},
   "source": [
    "## Best Model\n",
    "\n",
    "TODO: In the cell below, get the best model from the automl experiments and display all the properties of the model.\n",
    "\n"
   ]
  },
  {
   "cell_type": "code",
   "execution_count": 9,
   "metadata": {
    "gather": {
     "logged": 1615704973470
    },
    "jupyter": {
     "outputs_hidden": false,
     "source_hidden": false
    },
    "nteract": {
     "transient": {
      "deleting": false
     }
    }
   },
   "outputs": [
    {
     "name": "stderr",
     "output_type": "stream",
     "text": [
      "WARNING:root:The version of the SDK does not match the version the model was trained on.\n",
      "WARNING:root:The consistency in the result may not be guaranteed.\n",
      "WARNING:root:Package:azureml-automl-core, training version:1.23.0, current version:1.22.0\n",
      "Package:azureml-automl-runtime, training version:1.23.0, current version:1.22.0\n",
      "Package:azureml-core, training version:1.23.0, current version:1.22.0\n",
      "Package:azureml-dataprep, training version:2.10.1, current version:2.9.1\n",
      "Package:azureml-dataprep-native, training version:30.0.0, current version:29.0.0\n",
      "Package:azureml-dataprep-rslex, training version:1.8.0, current version:1.7.0\n",
      "Package:azureml-dataset-runtime, training version:1.23.0, current version:1.22.0\n",
      "Package:azureml-defaults, training version:1.23.0, current version:1.22.0\n",
      "Package:azureml-interpret, training version:1.23.0, current version:1.22.0\n",
      "Package:azureml-mlflow, training version:1.23.0, current version:1.22.0\n",
      "Package:azureml-pipeline-core, training version:1.23.0, current version:1.22.0\n",
      "Package:azureml-telemetry, training version:1.23.0, current version:1.22.0\n",
      "Package:azureml-train-automl-client, training version:1.23.0, current version:1.22.0\n",
      "Package:azureml-train-automl-runtime, training version:1.23.0, current version:1.22.0\n",
      "WARNING:root:Please ensure the version of your local conda dependencies match the version on which your model was trained in order to properly retrieve your model.\n"
     ]
    },
    {
     "name": "stdout",
     "output_type": "stream",
     "text": [
      "Run(Experiment: hydraulic-automl-experiment,\n",
      "Id: AutoML_e15dc22b-dc6d-4211-a51b-17a7051f686c_68,\n",
      "Type: azureml.scriptrun,\n",
      "Status: Completed)\n",
      "average_precision_score_macro 0.9919399547222397\n",
      "recall_score_macro 0.9699436277983383\n",
      "f1_score_macro 0.974914645594493\n",
      "recall_score_weighted 0.9770773638968482\n",
      "weighted_accuracy 0.9832140165035437\n",
      "AUC_micro 0.9935701129985249\n",
      "AUC_macro 0.9914994465764315\n",
      "precision_score_micro 0.9770773638968482\n",
      "average_precision_score_micro 0.993636912702592\n",
      "average_precision_score_weighted 0.9925535430951231\n",
      "norm_macro_recall 0.9398872555966765\n",
      "precision_score_weighted 0.9776198394027028\n",
      "matthews_correlation 0.9507239888562348\n",
      "f1_score_micro 0.9770773638968482\n",
      "f1_score_weighted 0.976931665587851\n",
      "log_loss 0.09629152218133265\n",
      "accuracy 0.9770773638968482\n",
      "AUC_weighted 0.9914994465764315\n",
      "recall_score_micro 0.9770773638968482\n",
      "balanced_accuracy 0.9699436277983383\n",
      "precision_score_macro 0.9808513179833582\n",
      "accuracy_table aml://artifactId/ExperimentRun/dcid.AutoML_e15dc22b-dc6d-4211-a51b-17a7051f686c_68/accuracy_table\n",
      "confusion_matrix aml://artifactId/ExperimentRun/dcid.AutoML_e15dc22b-dc6d-4211-a51b-17a7051f686c_68/confusion_matrix\n"
     ]
    }
   ],
   "source": [
    "# best run and model for automl\n",
    "best_run, fitted_model = automlmodel_run.get_output()\n",
    "\n",
    "# Print the best run\n",
    "print(best_run)\n",
    "\n",
    "# All metrics of the best run\n",
    "best_run_metrics = best_run.get_metrics()\n",
    "\n",
    "# Print all metrics of the best run\n",
    "for metric_name in best_run_metrics:\n",
    "    metric = best_run_metrics[metric_name]\n",
    "    print(metric_name, metric)"
   ]
  },
  {
   "cell_type": "markdown",
   "metadata": {},
   "source": [
    "## Model Deployment\n",
    "\n",
    "Remember you have to deploy only one of the two models you trained.. Perform the steps in the rest of this notebook only if you wish to deploy this model.\n",
    "\n",
    "TODO: In the cell below, register the model, create an inference config and deploy the model as a web service."
   ]
  },
  {
   "cell_type": "code",
   "execution_count": 10,
   "metadata": {
    "gather": {
     "logged": 1615705008503
    }
   },
   "outputs": [
    {
     "name": "stdout",
     "output_type": "stream",
     "text": [
      "Model(workspace=Workspace.create(name='quick-starts-ws-140391', subscription_id='610d6e37-4747-4a20-80eb-3aad70a55f43', resource_group='aml-quickstarts-140391'), name=Hydraulic_BinaryClassification, id=Hydraulic_BinaryClassification:1, version=1, tags={}, properties={})\n"
     ]
    }
   ],
   "source": [
    "#TODO: Save the best model\n",
    "model = best_run.register_model(model_name='Hydraulic_BinaryClassification', model_path='outputs/model.pkl')\n",
    "print(model)"
   ]
  },
  {
   "cell_type": "code",
   "execution_count": 11,
   "metadata": {
    "gather": {
     "logged": 1615705012023
    },
    "jupyter": {
     "outputs_hidden": false,
     "source_hidden": false
    },
    "nteract": {
     "transient": {
      "deleting": false
     }
    }
   },
   "outputs": [],
   "source": [
    "best_run.download_file('./outputs/model.pkl', output_file_path='./outputs')"
   ]
  },
  {
   "cell_type": "code",
   "execution_count": 12,
   "metadata": {
    "gather": {
     "logged": 1615705014058
    }
   },
   "outputs": [],
   "source": [
    "from azureml.automl.core.shared import constants\n",
    "best_run.download_file(constants.CONDA_ENV_FILE_PATH, 'automl_env.yml')"
   ]
  },
  {
   "cell_type": "code",
   "execution_count": 13,
   "metadata": {
    "gather": {
     "logged": 1615705016614
    },
    "jupyter": {
     "outputs_hidden": false,
     "source_hidden": false
    },
    "nteract": {
     "transient": {
      "deleting": false
     }
    }
   },
   "outputs": [],
   "source": [
    "# set InferenceConfig\n",
    "from azureml.core.environment import Environment\n",
    "from azureml.core.model import InferenceConfig\n",
    "\n",
    "inference_config = InferenceConfig(entry_script='./score.py',\n",
    "                                    environment=best_run.get_environment())"
   ]
  },
  {
   "cell_type": "code",
   "execution_count": 14,
   "metadata": {
    "gather": {
     "logged": 1615705265973
    }
   },
   "outputs": [
    {
     "name": "stdout",
     "output_type": "stream",
     "text": [
      "Tips: You can try get_logs(): https://aka.ms/debugimage#dockerlog or local deployment: https://aka.ms/debugimage#debug-locally to debug if deployment takes longer than 10 minutes.\n",
      "Running.............................................\n",
      "Succeeded\n",
      "ACI service creation operation finished, operation \"Succeeded\"\n",
      "Healthy\n",
      "http://0bae7200-54e1-4080-a908-edbd47d55431.southcentralus.azurecontainer.io/score\n"
     ]
    }
   ],
   "source": [
    "# deploy the model\n",
    "from azureml.core import Model\n",
    "from azureml.core.webservice import AciWebservice\n",
    "\n",
    "deployment_config = AciWebservice.deploy_configuration(cpu_cores = 2, memory_gb = 1)\n",
    "service = Model.deploy(workspace=ws, name=\"automlservice\", models=[model], inference_config=inference_config, deployment_config=deployment_config)\n",
    "service.wait_for_deployment(show_output = True)\n",
    "print(service.state)\n",
    "print(service.scoring_uri)"
   ]
  },
  {
   "cell_type": "markdown",
   "metadata": {
    "collapsed": true,
    "gather": {
     "logged": 1598431657736
    },
    "jupyter": {
     "outputs_hidden": false,
     "source_hidden": false
    },
    "nteract": {
     "transient": {
      "deleting": false
     }
    }
   },
   "source": [
    "TODO: In the cell below, send a request to the web service you deployed to test it."
   ]
  },
  {
   "cell_type": "code",
   "execution_count": 15,
   "metadata": {
    "gather": {
     "logged": 1615706062786
    },
    "jupyter": {
     "outputs_hidden": false,
     "source_hidden": false
    },
    "nteract": {
     "transient": {
      "deleting": false
     }
    }
   },
   "outputs": [],
   "source": [
    "# define the test sample\n",
    "import json\n",
    "from azureml.data.dataset_factory import TabularDatasetFactory\n",
    "test_loc = \"https://raw.githubusercontent.com/chamsun-imoggo/udacityms-3rdproject/main/data/hydraulic_systems_test.csv\"\n",
    "test_df = TabularDatasetFactory.from_delimited_files(test_loc).to_pandas_dataframe()"
   ]
  },
  {
   "cell_type": "code",
   "execution_count": 16,
   "metadata": {
    "collapsed": true,
    "gather": {
     "logged": 1615706062989
    },
    "jupyter": {
     "outputs_hidden": false,
     "source_hidden": false
    },
    "nteract": {
     "transient": {
      "deleting": false
     }
    }
   },
   "outputs": [
    {
     "name": "stdout",
     "output_type": "stream",
     "text": [
      "{'data': [{'PS1': 160.4238, 'PS2': 109.0127997, 'PS3': 1.915241667, 'PS4': 10.12332283, 'PS5': 9.893727333, 'PS6': 9.775847667, 'FS1': 6.400326667, 'FS2': 10.15790333, 'TS1': 35.85008333, 'TS2': 41.44178333, 'TS3': 38.78375, 'TS4': 30.89755, 'P1': 2562.285033, 'VS1': 0.5509, 'CE1': 46.97875, 'CP1': 2.157516667, 'SE1': 55.78435}, {'PS1': 160.4342617, 'PS2': 109.0109297, 'PS3': 1.904917167, 'PS4': 10.12248617, 'PS5': 9.895395333, 'PS6': 9.777969, 'FS1': 6.405833333, 'FS2': 10.15922, 'TS1': 35.84383333, 'TS2': 41.4442, 'TS3': 38.76916667, 'TS4': 30.89735, 'P1': 2562.735833, 'VS1': 0.545783333, 'CE1': 46.92555, 'CP1': 2.154316667, 'SE1': 55.83131667}, {'PS1': 160.4325733, 'PS2': 109.0227437, 'PS3': 1.90648, 'PS4': 10.122579, 'PS5': 9.894996333, 'PS6': 9.776030167, 'FS1': 6.403083333, 'FS2': 10.15590333, 'TS1': 35.83621667, 'TS2': 41.45226667, 'TS3': 38.77233333, 'TS4': 30.89693333, 'P1': 2562.7977, 'VS1': 0.5467, 'CE1': 46.96366667, 'CP1': 2.1569, 'SE1': 55.79871667}, {'PS1': 160.42818, 'PS2': 109.0150512, 'PS3': 1.9002105, 'PS4': 10.12332867, 'PS5': 9.893485833, 'PS6': 9.775469833, 'FS1': 6.405321667, 'FS2': 10.157755, 'TS1': 35.83758333, 'TS2': 41.42725, 'TS3': 38.76588333, 'TS4': 30.89315, 'P1': 2566.2395, 'VS1': 0.543916667, 'CE1': 46.94413333, 'CP1': 2.153816667, 'SE1': 55.72123333}, {'PS1': 160.4205167, 'PS2': 109.029015, 'PS3': 1.899300167, 'PS4': 10.12005983, 'PS5': 9.893133333, 'PS6': 9.775961167, 'FS1': 6.390926667, 'FS2': 10.15694667, 'TS1': 35.84071667, 'TS2': 41.43005, 'TS3': 38.75006667, 'TS4': 30.89318333, 'P1': 2563.3287, 'VS1': 0.540116667, 'CE1': 46.92008333, 'CP1': 2.151666667, 'SE1': 55.57278333}]}\n"
     ]
    }
   ],
   "source": [
    "sample_df = test_df.head(5)\n",
    "label = sample_df.pop('STABILITY')\n",
    "sample = json.dumps({'data':sample_df.to_dict(orient='records')})\n",
    "sample = json.loads(sample)\n",
    "print(sample)"
   ]
  },
  {
   "cell_type": "code",
   "execution_count": 17,
   "metadata": {
    "gather": {
     "logged": 1615706063177
    }
   },
   "outputs": [
    {
     "name": "stdout",
     "output_type": "stream",
     "text": [
      "<Response [200]>\n"
     ]
    }
   ],
   "source": [
    "# send a request to the endpoint\n",
    "import requests\n",
    "headers={\"Content-Type\":\"application/json\"}\n",
    "\n",
    "result=requests.post(service.scoring_uri, sample, headers=headers)\n",
    "print(result)"
   ]
  },
  {
   "cell_type": "markdown",
   "metadata": {
    "collapsed": true,
    "gather": {
     "logged": 1598432765711
    },
    "jupyter": {
     "outputs_hidden": false,
     "source_hidden": false
    },
    "nteract": {
     "transient": {
      "deleting": false
     }
    }
   },
   "source": [
    "TODO: In the cell below, print the logs of the web service and delete the service"
   ]
  },
  {
   "cell_type": "code",
   "execution_count": 18,
   "metadata": {
    "gather": {
     "logged": 1615706063367
    }
   },
   "outputs": [
    {
     "name": "stdout",
     "output_type": "stream",
     "text": [
      "2021-03-14T07:00:43,387158235+00:00 - iot-server/run \n",
      "2021-03-14T07:00:43,387333737+00:00 - gunicorn/run \n",
      "2021-03-14T07:00:43,387628440+00:00 - nginx/run \n",
      "2021-03-14T07:00:43,387780342+00:00 - rsyslog/run \n",
      "rsyslogd: /azureml-envs/azureml_661474bbe74e96b5d8added5888dfc85/lib/libuuid.so.1: no version information available (required by rsyslogd)\n",
      "/usr/sbin/nginx: /azureml-envs/azureml_661474bbe74e96b5d8added5888dfc85/lib/libcrypto.so.1.0.0: no version information available (required by /usr/sbin/nginx)\n",
      "/usr/sbin/nginx: /azureml-envs/azureml_661474bbe74e96b5d8added5888dfc85/lib/libcrypto.so.1.0.0: no version information available (required by /usr/sbin/nginx)\n",
      "/usr/sbin/nginx: /azureml-envs/azureml_661474bbe74e96b5d8added5888dfc85/lib/libssl.so.1.0.0: no version information available (required by /usr/sbin/nginx)\n",
      "/usr/sbin/nginx: /azureml-envs/azureml_661474bbe74e96b5d8added5888dfc85/lib/libssl.so.1.0.0: no version information available (required by /usr/sbin/nginx)\n",
      "/usr/sbin/nginx: /azureml-envs/azureml_661474bbe74e96b5d8added5888dfc85/lib/libssl.so.1.0.0: no version information available (required by /usr/sbin/nginx)\n",
      "EdgeHubConnectionString and IOTEDGE_IOTHUBHOSTNAME are not set. Exiting...\n",
      "2021-03-14T07:00:43,474700243+00:00 - iot-server/finish 1 0\n",
      "2021-03-14T07:00:43,476245059+00:00 - Exit code 1 is normal. Not restarting iot-server.\n",
      "Starting gunicorn 19.9.0\n",
      "Listening at: http://127.0.0.1:31311 (12)\n",
      "Using worker: sync\n",
      "worker timeout is set to 300\n",
      "Booting worker with pid: 42\n",
      "SPARK_HOME not set. Skipping PySpark Initialization.\n",
      "Initializing logger\n",
      "2021-03-14 07:00:43,975 | root | INFO | Starting up app insights client\n",
      "2021-03-14 07:00:43,975 | root | INFO | Starting up request id generator\n",
      "2021-03-14 07:00:43,975 | root | INFO | Starting up app insight hooks\n",
      "2021-03-14 07:00:43,975 | root | INFO | Invoking user's init function\n",
      "Generating new fontManager, this may take some time...\n",
      "2021-03-14 07:00:46,715 | azureml.core | WARNING | Failure while loading azureml_run_type_providers. Failed to load entrypoint automl = azureml.train.automl.run:AutoMLRun._from_run_dto with exception (cryptography 3.2 (/azureml-envs/azureml_661474bbe74e96b5d8added5888dfc85/lib/python3.6/site-packages), Requirement.parse('cryptography<4.0.0,>=3.3.1; extra == \"crypto\"'), {'PyJWT'}).\n",
      "Failure while loading azureml_run_type_providers. Failed to load entrypoint automl = azureml.train.automl.run:AutoMLRun._from_run_dto with exception (cryptography 3.2 (/azureml-envs/azureml_661474bbe74e96b5d8added5888dfc85/lib/python3.6/site-packages), Requirement.parse('cryptography<4.0.0,>=3.3.1; extra == \"crypto\"'), {'PyJWT'}).\n",
      "2021-03-14 07:00:46,851 | root | INFO | Users's init has completed successfully\n",
      "2021-03-14 07:00:46,853 | root | INFO | Skipping middleware: dbg_model_info as it's not enabled.\n",
      "2021-03-14 07:00:46,853 | root | INFO | Skipping middleware: dbg_resource_usage as it's not enabled.\n",
      "2021-03-14 07:00:46,854 | root | INFO | Scoring timeout is found from os.environ: 60000 ms\n",
      "2021-03-14 07:01:00,618 | root | INFO | Swagger file not present\n",
      "2021-03-14 07:01:00,619 | root | INFO | 404\n",
      "127.0.0.1 - - [14/Mar/2021:07:01:00 +0000] \"GET /swagger.json HTTP/1.0\" 404 19 \"-\" \"Go-http-client/1.1\"\n",
      "2021-03-14 07:01:05,376 | root | INFO | Swagger file not present\n",
      "2021-03-14 07:01:05,376 | root | INFO | 404\n",
      "127.0.0.1 - - [14/Mar/2021:07:01:05 +0000] \"GET /swagger.json HTTP/1.0\" 404 19 \"-\" \"Go-http-client/1.1\"\n",
      "2021-03-14 07:05:26,826 | root | INFO | Scoring Timer is set to 60.0 seconds\n",
      "2021-03-14 07:05:26,827 | root | INFO | 200\n",
      "127.0.0.1 - - [14/Mar/2021:07:05:26 +0000] \"GET /score HTTP/1.0\" 200 21 \"-\" \"Mozilla/5.0 (Windows NT 10.0; Win64; x64) AppleWebKit/537.36 (KHTML, like Gecko) Chrome/86.0.4240.75 Safari/537.36\"\n",
      "127.0.0.1 - - [14/Mar/2021:07:05:26 +0000] \"GET /favicon.ico HTTP/1.0\" 404 232 \"http://0bae7200-54e1-4080-a908-edbd47d55431.southcentralus.azurecontainer.io/score\" \"Mozilla/5.0 (Windows NT 10.0; Win64; x64) AppleWebKit/537.36 (KHTML, like Gecko) Chrome/86.0.4240.75 Safari/537.36\"\n",
      "2021-03-14 07:06:28,359 | root | INFO | Swagger file not present\n",
      "2021-03-14 07:06:28,359 | root | INFO | 404\n",
      "127.0.0.1 - - [14/Mar/2021:07:06:28 +0000] \"GET /swagger.json HTTP/1.0\" 404 19 \"-\" \"Go-http-client/1.1\"\n",
      "2021-03-14 07:14:22,788 | root | INFO | Validation Request Content-Type\n",
      "2021-03-14 07:14:22,788 | root | INFO | Scoring Timer is set to 60.0 seconds\n",
      "2021-03-14 07:14:22,788 | root | INFO | 200\n",
      "127.0.0.1 - - [14/Mar/2021:07:14:22 +0000] \"POST /score HTTP/1.0\" 200 43 \"-\" \"python-requests/2.25.1\"\n",
      "\n"
     ]
    }
   ],
   "source": [
    "# print service logs\n",
    "print(service.get_logs())"
   ]
  },
  {
   "cell_type": "markdown",
   "metadata": {
    "nteract": {
     "transient": {
      "deleting": false
     }
    }
   },
   "source": [
    "<h2>Convert Model to ONNX</h2>"
   ]
  },
  {
   "cell_type": "code",
   "execution_count": 19,
   "metadata": {
    "gather": {
     "logged": 1615706286184
    }
   },
   "outputs": [],
   "source": [
    "best_run, onnx_model = automlmodel_run.get_output(return_onnx_model=True)"
   ]
  },
  {
   "cell_type": "code",
   "execution_count": 20,
   "metadata": {
    "gather": {
     "logged": 1615706286467
    }
   },
   "outputs": [],
   "source": [
    "# save the best ONNX model\n",
    "from azureml.automl.runtime.onnx_convert import OnnxConverter\n",
    "onnx_file_path = \"./automl_onnx_model.onnx\"\n",
    "OnnxConverter.save_onnx_model(onnx_model, onnx_file_path)"
   ]
  },
  {
   "cell_type": "code",
   "execution_count": null,
   "metadata": {
    "collapsed": true,
    "jupyter": {
     "outputs_hidden": false,
     "source_hidden": false
    },
    "nteract": {
     "transient": {
      "deleting": false
     }
    }
   },
   "outputs": [],
   "source": []
  },
  {
   "cell_type": "code",
   "execution_count": 21,
   "metadata": {
    "gather": {
     "logged": 1615706462301
    }
   },
   "outputs": [],
   "source": [
    "# delete the service \n",
    "service.delete()"
   ]
  },
  {
   "cell_type": "code",
   "execution_count": 22,
   "metadata": {
    "gather": {
     "logged": 1615706464239
    },
    "jupyter": {
     "outputs_hidden": false,
     "source_hidden": false
    },
    "nteract": {
     "transient": {
      "deleting": false
     }
    }
   },
   "outputs": [],
   "source": [
    "# delete the compute target\n",
    "compute_target.delete()"
   ]
  }
 ],
 "metadata": {
  "kernel_info": {
   "name": "python3"
  },
  "kernelspec": {
   "display_name": "Python 3",
   "language": "python",
   "name": "python3"
  },
  "language_info": {
   "codemirror_mode": {
    "name": "ipython",
    "version": 3
   },
   "file_extension": ".py",
   "mimetype": "text/x-python",
   "name": "python",
   "nbconvert_exporter": "python",
   "pygments_lexer": "ipython3",
   "version": "3.8.3"
  },
  "microsoft": {
   "host": {
    "AzureML": {
     "notebookHasBeenCompleted": true
    }
   }
  },
  "nteract": {
   "version": "nteract-front-end@1.0.0"
  }
 },
 "nbformat": 4,
 "nbformat_minor": 2
}
